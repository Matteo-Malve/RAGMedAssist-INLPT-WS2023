{
 "cells": [
  {
   "cell_type": "code",
   "execution_count": 31,
   "outputs": [],
   "source": [
    "from datasets import load_dataset\n",
    "from langchain_community.vectorstores import FAISS\n",
    "import torch\n",
    "from langchain_community.embeddings import HuggingFaceEmbeddings\n",
    "import pandas as pd\n"
   ],
   "metadata": {
    "collapsed": false,
    "ExecuteTime": {
     "end_time": "2024-03-04T11:00:05.515339Z",
     "start_time": "2024-03-04T11:00:05.511677Z"
    }
   },
   "id": "7607b80b9f1ade75"
  },
  {
   "cell_type": "code",
   "execution_count": 32,
   "outputs": [],
   "source": [
    "import warnings\n",
    "warnings.filterwarnings(\"ignore\")\n"
   ],
   "metadata": {
    "collapsed": false,
    "ExecuteTime": {
     "end_time": "2024-03-04T11:00:06.013595Z",
     "start_time": "2024-03-04T11:00:06.004914Z"
    }
   },
   "id": "1bffff83337b306b"
  },
  {
   "cell_type": "markdown",
   "source": [
    "Load retriever with a threshold of 0.78 in order to select the fine-tuning data based on related contexts availability."
   ],
   "metadata": {
    "collapsed": false
   },
   "id": "f0a821666b04509f"
  },
  {
   "cell_type": "code",
   "execution_count": 33,
   "outputs": [],
   "source": [
    "device = torch.device(\"cuda\" if torch.cuda.is_available() else \"mps\" if torch.backends.mps.is_built() else \"cpu\")\n",
    "model_kwargs = {\"device\": \"mps\"}\n",
    "encode_kwargs = {\"normalize_embeddings\": True}\n",
    "embedding_model = HuggingFaceEmbeddings(\n",
    "    model_name=\"thenlper/gte-base\",\n",
    "    model_kwargs=model_kwargs,\n",
    "    encode_kwargs=encode_kwargs,\n",
    ")\n",
    "\n",
    "faiss_index_path = f\"{'../embeddings/faiss_indices/'}{'thenlper/gte-base'}\"\n",
    "db = FAISS.load_local(faiss_index_path, embedding_model)\n",
    "retriever = db.as_retriever(\n",
    "    search_type=\"similarity_score_threshold\",\n",
    "    search_kwargs={\"score_threshold\": 0.78},\n",
    ")"
   ],
   "metadata": {
    "collapsed": false,
    "ExecuteTime": {
     "end_time": "2024-03-04T11:00:10.495704Z",
     "start_time": "2024-03-04T11:00:09.078945Z"
    }
   },
   "id": "6fb8ecf5351f51f0"
  },
  {
   "cell_type": "code",
   "execution_count": 34,
   "outputs": [],
   "source": [
    "# Load the pubmed_qa dataset\n",
    "pubmed_dataset = load_dataset(\"qiaojin/pubmed_qa\", \"pqa_artificial\")"
   ],
   "metadata": {
    "collapsed": false,
    "ExecuteTime": {
     "end_time": "2024-03-04T11:00:12.397891Z",
     "start_time": "2024-03-04T11:00:10.997486Z"
    }
   },
   "id": "3376b82f613678e0"
  },
  {
   "cell_type": "code",
   "execution_count": 35,
   "outputs": [
    {
     "data": {
      "text/plain": "DatasetDict({\n    train: Dataset({\n        features: ['pubid', 'question', 'context', 'long_answer', 'final_decision'],\n        num_rows: 211269\n    })\n})"
     },
     "execution_count": 35,
     "metadata": {},
     "output_type": "execute_result"
    }
   ],
   "source": [
    "pubmed_dataset"
   ],
   "metadata": {
    "collapsed": false,
    "ExecuteTime": {
     "end_time": "2024-03-04T11:00:12.654540Z",
     "start_time": "2024-03-04T11:00:12.649403Z"
    }
   },
   "id": "dae21f3efd1335b3"
  },
  {
   "cell_type": "code",
   "execution_count": 36,
   "outputs": [
    {
     "data": {
      "text/plain": "DatasetDict({\n    train: Dataset({\n        features: ['question', 'answer'],\n        num_rows: 211269\n    })\n})"
     },
     "execution_count": 36,
     "metadata": {},
     "output_type": "execute_result"
    }
   ],
   "source": [
    "pubmed_dataset = pubmed_dataset.remove_columns((\"pubid\", \"context\", \"final_decision\"))\n",
    "pubmed_dataset = pubmed_dataset.rename_column(\"long_answer\", \"answer\")\n",
    "pubmed_dataset\n"
   ],
   "metadata": {
    "collapsed": false,
    "ExecuteTime": {
     "end_time": "2024-03-04T11:00:13.697326Z",
     "start_time": "2024-03-04T11:00:13.685678Z"
    }
   },
   "id": "c4e034277892952b"
  },
  {
   "cell_type": "code",
   "execution_count": 37,
   "outputs": [],
   "source": [
    "data_for_finetuning = []\n",
    "MAX_DATA_COUNT = 10000"
   ],
   "metadata": {
    "collapsed": false,
    "ExecuteTime": {
     "end_time": "2024-03-04T11:00:55.630472Z",
     "start_time": "2024-03-04T11:00:55.620156Z"
    }
   },
   "id": "b0d0a5f555689b8c"
  },
  {
   "cell_type": "code",
   "execution_count": 39,
   "outputs": [
    {
     "name": "stdout",
     "output_type": "stream",
     "text": [
      "1000 data were added\n",
      "2000 data were added\n",
      "3000 data were added\n",
      "4000 data were added\n",
      "5000 data were added\n",
      "6000 data were added\n",
      "7000 data were added\n",
      "8000 data were added\n",
      "9000 data were added\n",
      "10000 data were added\n"
     ]
    }
   ],
   "source": [
    "# Iterate over the dataset, adding only question-answer pairs whose questions have related contexts (similarity score: 0.78)\n",
    "for data in pubmed_dataset[\"train\"]:\n",
    "    question = data[\"question\"]\n",
    "    # Retrieve related contexts\n",
    "    related_contexts = retriever.invoke(question)\n",
    "    # print(len(related_contexts) > 0)\n",
    "    if len(related_contexts) > 0:\n",
    "        data_for_finetuning.append(data)\n",
    "        if len(data_for_finetuning) % 1000 == 0:\n",
    "            print(f\"{len(data_for_finetuning)} data were added\")\n",
    "    if MAX_DATA_COUNT <= len(data_for_finetuning):\n",
    "        break"
   ],
   "metadata": {
    "collapsed": false,
    "ExecuteTime": {
     "end_time": "2024-03-04T11:15:58.248479Z",
     "start_time": "2024-03-04T11:02:47.005686Z"
    }
   },
   "id": "68ade850060842ae"
  },
  {
   "cell_type": "markdown",
   "source": [
    "Save fine-tuning data"
   ],
   "metadata": {
    "collapsed": false
   },
   "id": "2774554fdae62b81"
  },
  {
   "cell_type": "code",
   "execution_count": 40,
   "outputs": [],
   "source": [
    "df = pd.DataFrame(data_for_finetuning)\n",
    "df.to_csv('hypothetical_fine-tuning_data.csv', index=False)  "
   ],
   "metadata": {
    "collapsed": false,
    "ExecuteTime": {
     "end_time": "2024-03-04T11:18:18.094854Z",
     "start_time": "2024-03-04T11:18:18.010107Z"
    }
   },
   "id": "a255e09feac6f838"
  },
  {
   "cell_type": "code",
   "execution_count": null,
   "outputs": [],
   "source": [],
   "metadata": {
    "collapsed": false
   },
   "id": "58cd9c24f9b5a887"
  },
  {
   "cell_type": "markdown",
   "source": [
    "Load fine-tuning data. Do not forget to convert it to a formatted text for fine-tuning the model"
   ],
   "metadata": {
    "collapsed": false
   },
   "id": "df1da4a5e7b725c6"
  },
  {
   "cell_type": "code",
   "execution_count": 44,
   "outputs": [],
   "source": [
    "def format_medical_query(data):\n",
    "  \"\"\"Formats question-answer data for medical domain fine-tuning.\n",
    "\n",
    "  Args:\n",
    "      data: A dictionary containing the question and answer.\n",
    "\n",
    "  Returns:\n",
    "      A string with the formatted text.\n",
    "  \"\"\"\n",
    "\n",
    "  instruction = \"Provide a concise and informative answer to the following medical query:\"\n",
    "  text_row = f\"\"\"<s>[INST] {instruction}[/INST] \\nMedical query: {data['question']}  \\nAnswer: {data['answer']} </s>\"\"\"\n",
    "  return text_row"
   ],
   "metadata": {
    "collapsed": false,
    "ExecuteTime": {
     "end_time": "2024-03-04T11:19:10.293101Z",
     "start_time": "2024-03-04T11:19:10.286099Z"
    }
   },
   "id": "828172039bd21b5f"
  },
  {
   "cell_type": "code",
   "execution_count": 42,
   "outputs": [],
   "source": [
    "loaded_data = pd.read_csv('hypothetical_fine-tuning_data.csv')"
   ],
   "metadata": {
    "collapsed": false,
    "ExecuteTime": {
     "end_time": "2024-03-04T11:18:46.542412Z",
     "start_time": "2024-03-04T11:18:46.478011Z"
    }
   },
   "id": "66cb7a9f99ee2c0f"
  },
  {
   "cell_type": "code",
   "execution_count": 45,
   "outputs": [
    {
     "name": "stdout",
     "output_type": "stream",
     "text": [
      "<s>[INST] Provide a concise and informative answer to the following medical query:[/INST] \n",
      "Medical query: Are group 2 innate lymphoid cells ( ILC2s ) increased in chronic rhinosinusitis with nasal polyps or eosinophilia?  \n",
      "Answer: As ILC2s are elevated in patients with CRSwNP, they may drive nasal polyp formation in CRS. ILC2s are also linked with high tissue and blood eosinophilia and have a potential role in the activation and survival of eosinophils during the Th2 immune response. The association of innate lymphoid cells in CRS provides insights into its pathogenesis. </s>\n"
     ]
    }
   ],
   "source": [
    "print(format_medical_query(loaded_data.iloc[0]))"
   ],
   "metadata": {
    "collapsed": false,
    "ExecuteTime": {
     "end_time": "2024-03-04T11:19:13.818605Z",
     "start_time": "2024-03-04T11:19:13.814649Z"
    }
   },
   "id": "f72856844822f912"
  },
  {
   "cell_type": "code",
   "execution_count": null,
   "outputs": [],
   "source": [],
   "metadata": {
    "collapsed": false
   },
   "id": "dcfc2df022a315fa"
  }
 ],
 "metadata": {
  "kernelspec": {
   "display_name": "Python 3",
   "language": "python",
   "name": "python3"
  },
  "language_info": {
   "codemirror_mode": {
    "name": "ipython",
    "version": 2
   },
   "file_extension": ".py",
   "mimetype": "text/x-python",
   "name": "python",
   "nbconvert_exporter": "python",
   "pygments_lexer": "ipython2",
   "version": "2.7.6"
  }
 },
 "nbformat": 4,
 "nbformat_minor": 5
}
