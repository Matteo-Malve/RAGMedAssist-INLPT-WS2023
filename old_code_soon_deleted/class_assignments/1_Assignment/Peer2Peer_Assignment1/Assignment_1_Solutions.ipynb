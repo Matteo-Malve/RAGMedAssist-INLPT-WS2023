{
  "cells": [
    {
      "cell_type": "markdown",
      "metadata": {
        "id": "be9f7653"
      },
      "source": [
        "**Heidelberg University**\n",
        "\n",
        "**Data Science  Group**\n",
        "    \n",
        "Prof. Dr. Michael Gertz  \n",
        "\n",
        "Ashish Chouhan, Satya Almasian, John Ziegler, Jayson Salazar, Nicolas Reuter\n",
        "    \n",
        "October 30, 2023\n",
        "    \n",
        "Natural Language Processing with Transformers\n",
        "\n",
        "Winter Semster 2023/2024     \n",
        "***"
      ],
      "id": "be9f7653"
    },
    {
      "cell_type": "markdown",
      "metadata": {
        "id": "258e9648"
      },
      "source": [
        "# **Assignment 1: “Word Embeddings and Probabilistic Language Models”**\n",
        "**Due**: Monday, November 13, 2pm, via [Moodle](https://moodle.uni-heidelberg.de/course/view.php?id=19251)\n",
        "\n"
      ],
      "id": "258e9648"
    },
    {
      "cell_type": "markdown",
      "metadata": {
        "id": "fc27ad9e"
      },
      "source": [
        "### **Submission Guidelines**\n",
        "\n",
        "- Solutions need to be uploaded as a **single** Jupyter notebook. You will find several pre-filled code segments in the notebook, your task is to fill in the missing cells.\n",
        "- For the written solution, use LaTeX in markdown inside the same notebook. Do **not** hand in a separate file for it.\n",
        "- Download the .zip file containing the dataset but do **not** upload it with your solution.\n",
        "- It is sufficient if one person per group uploads the solution to Moodle, but make sure that the complete names of all team members are given in the notebook.\n",
        "\n",
        "***"
      ],
      "id": "fc27ad9e"
    },
    {
      "cell_type": "markdown",
      "metadata": {
        "id": "e322e8b0"
      },
      "source": [
        "## **Task 1: F.R.I.E.N.D.S and  Word2Vec (Points (3 + 3 + 2) = 8)**"
      ],
      "id": "e322e8b0"
    },
    {
      "cell_type": "markdown",
      "metadata": {
        "id": "b4ca26ac"
      },
      "source": [
        "[Friends](https://en.wikipedia.org/wiki/Friends) is an American television sitcom, created by David Crane and Marta Kauffman. In this assignment we will use the transcripts from the show to train a Word2Vec model using the [Gensim](https://radimrehurek.com/gensim/) library."
      ],
      "id": "b4ca26ac"
    },
    {
      "cell_type": "markdown",
      "metadata": {
        "id": "fc29cb37"
      },
      "source": [
        "### Subtask 1: Pre-processing\n",
        "We start by loading and cleaning the data. Download the dataset for this assignment and load the `friends_quotes.csv` using pandas. The dataset is from Kaggle (https://www.kaggle.com/ryanstonebraker/friends-transcript) and is created for building a classifier that  determines which friend from the Friend's TV Show would be most likely to say a quote. The column `quote` contains a line from the movie and `author` is the one who said it. Since these are the only two columns we need, we remove the rest and only keep these two columns."
      ],
      "id": "fc29cb37"
    },
    {
      "cell_type": "code",
      "execution_count": null,
      "metadata": {
        "id": "787e2059"
      },
      "outputs": [],
      "source": [
        "import re\n",
        "import pandas as pd\n",
        "from collections import defaultdict\n",
        "import spacy\n",
        "import logging  # Setting up the loggings to monitor gensim\n",
        "logging.basicConfig(format=\"%(levelname)s - %(asctime)s: %(message)s\", datefmt= '%H:%M:%S', level=logging.INFO)"
      ],
      "id": "787e2059"
    },
    {
      "cell_type": "markdown",
      "metadata": {
        "id": "9EALqYnmgipa"
      },
      "source": [
        "✅ Point distribution ✅\n",
        "- 0.5 points when file is loaded and 'author' and 'quote' columns are filtered. If columns other than 'author' and 'quote' are filtered then zero points or if any of the two columns are missing then zero points."
      ],
      "id": "9EALqYnmgipa"
    },
    {
      "cell_type": "code",
      "execution_count": null,
      "metadata": {
        "colab": {
          "base_uri": "https://localhost:8080/",
          "height": 363
        },
        "id": "7e7e8c7d",
        "outputId": "4217868b-03d9-4e20-d793-dff12bfb8d9b",
        "scrolled": true
      },
      "outputs": [
        {
          "output_type": "execute_result",
          "data": {
            "text/plain": [
              "     author                                              quote\n",
              "0    Monica  There's nothing to tell! He's just some guy I ...\n",
              "1      Joey  C'mon, you're going out with the guy! There's ...\n",
              "2  Chandler  All right Joey, be nice. So does he have a hum...\n",
              "3    Phoebe                           Wait, does he eat chalk?\n",
              "4    Phoebe  Just, 'cause, I don't want her to go through w...\n",
              "5    Monica  Okay, everybody relax. This is not even a date...\n",
              "6  Chandler                          Sounds like a date to me.\n",
              "7  Chandler  Alright, so I'm back in high school, I'm stand...\n",
              "8       All                          Oh, yeah. Had that dream.\n",
              "9  Chandler  Then I look down, and I realize there's a phon..."
            ],
            "text/html": [
              "\n",
              "  <div id=\"df-a7f0c22a-837c-4a55-97ef-697b48202b51\" class=\"colab-df-container\">\n",
              "    <div>\n",
              "<style scoped>\n",
              "    .dataframe tbody tr th:only-of-type {\n",
              "        vertical-align: middle;\n",
              "    }\n",
              "\n",
              "    .dataframe tbody tr th {\n",
              "        vertical-align: top;\n",
              "    }\n",
              "\n",
              "    .dataframe thead th {\n",
              "        text-align: right;\n",
              "    }\n",
              "</style>\n",
              "<table border=\"1\" class=\"dataframe\">\n",
              "  <thead>\n",
              "    <tr style=\"text-align: right;\">\n",
              "      <th></th>\n",
              "      <th>author</th>\n",
              "      <th>quote</th>\n",
              "    </tr>\n",
              "  </thead>\n",
              "  <tbody>\n",
              "    <tr>\n",
              "      <th>0</th>\n",
              "      <td>Monica</td>\n",
              "      <td>There's nothing to tell! He's just some guy I ...</td>\n",
              "    </tr>\n",
              "    <tr>\n",
              "      <th>1</th>\n",
              "      <td>Joey</td>\n",
              "      <td>C'mon, you're going out with the guy! There's ...</td>\n",
              "    </tr>\n",
              "    <tr>\n",
              "      <th>2</th>\n",
              "      <td>Chandler</td>\n",
              "      <td>All right Joey, be nice. So does he have a hum...</td>\n",
              "    </tr>\n",
              "    <tr>\n",
              "      <th>3</th>\n",
              "      <td>Phoebe</td>\n",
              "      <td>Wait, does he eat chalk?</td>\n",
              "    </tr>\n",
              "    <tr>\n",
              "      <th>4</th>\n",
              "      <td>Phoebe</td>\n",
              "      <td>Just, 'cause, I don't want her to go through w...</td>\n",
              "    </tr>\n",
              "    <tr>\n",
              "      <th>5</th>\n",
              "      <td>Monica</td>\n",
              "      <td>Okay, everybody relax. This is not even a date...</td>\n",
              "    </tr>\n",
              "    <tr>\n",
              "      <th>6</th>\n",
              "      <td>Chandler</td>\n",
              "      <td>Sounds like a date to me.</td>\n",
              "    </tr>\n",
              "    <tr>\n",
              "      <th>7</th>\n",
              "      <td>Chandler</td>\n",
              "      <td>Alright, so I'm back in high school, I'm stand...</td>\n",
              "    </tr>\n",
              "    <tr>\n",
              "      <th>8</th>\n",
              "      <td>All</td>\n",
              "      <td>Oh, yeah. Had that dream.</td>\n",
              "    </tr>\n",
              "    <tr>\n",
              "      <th>9</th>\n",
              "      <td>Chandler</td>\n",
              "      <td>Then I look down, and I realize there's a phon...</td>\n",
              "    </tr>\n",
              "  </tbody>\n",
              "</table>\n",
              "</div>\n",
              "    <div class=\"colab-df-buttons\">\n",
              "\n",
              "  <div class=\"colab-df-container\">\n",
              "    <button class=\"colab-df-convert\" onclick=\"convertToInteractive('df-a7f0c22a-837c-4a55-97ef-697b48202b51')\"\n",
              "            title=\"Convert this dataframe to an interactive table.\"\n",
              "            style=\"display:none;\">\n",
              "\n",
              "  <svg xmlns=\"http://www.w3.org/2000/svg\" height=\"24px\" viewBox=\"0 -960 960 960\">\n",
              "    <path d=\"M120-120v-720h720v720H120Zm60-500h600v-160H180v160Zm220 220h160v-160H400v160Zm0 220h160v-160H400v160ZM180-400h160v-160H180v160Zm440 0h160v-160H620v160ZM180-180h160v-160H180v160Zm440 0h160v-160H620v160Z\"/>\n",
              "  </svg>\n",
              "    </button>\n",
              "\n",
              "  <style>\n",
              "    .colab-df-container {\n",
              "      display:flex;\n",
              "      gap: 12px;\n",
              "    }\n",
              "\n",
              "    .colab-df-convert {\n",
              "      background-color: #E8F0FE;\n",
              "      border: none;\n",
              "      border-radius: 50%;\n",
              "      cursor: pointer;\n",
              "      display: none;\n",
              "      fill: #1967D2;\n",
              "      height: 32px;\n",
              "      padding: 0 0 0 0;\n",
              "      width: 32px;\n",
              "    }\n",
              "\n",
              "    .colab-df-convert:hover {\n",
              "      background-color: #E2EBFA;\n",
              "      box-shadow: 0px 1px 2px rgba(60, 64, 67, 0.3), 0px 1px 3px 1px rgba(60, 64, 67, 0.15);\n",
              "      fill: #174EA6;\n",
              "    }\n",
              "\n",
              "    .colab-df-buttons div {\n",
              "      margin-bottom: 4px;\n",
              "    }\n",
              "\n",
              "    [theme=dark] .colab-df-convert {\n",
              "      background-color: #3B4455;\n",
              "      fill: #D2E3FC;\n",
              "    }\n",
              "\n",
              "    [theme=dark] .colab-df-convert:hover {\n",
              "      background-color: #434B5C;\n",
              "      box-shadow: 0px 1px 3px 1px rgba(0, 0, 0, 0.15);\n",
              "      filter: drop-shadow(0px 1px 2px rgba(0, 0, 0, 0.3));\n",
              "      fill: #FFFFFF;\n",
              "    }\n",
              "  </style>\n",
              "\n",
              "    <script>\n",
              "      const buttonEl =\n",
              "        document.querySelector('#df-a7f0c22a-837c-4a55-97ef-697b48202b51 button.colab-df-convert');\n",
              "      buttonEl.style.display =\n",
              "        google.colab.kernel.accessAllowed ? 'block' : 'none';\n",
              "\n",
              "      async function convertToInteractive(key) {\n",
              "        const element = document.querySelector('#df-a7f0c22a-837c-4a55-97ef-697b48202b51');\n",
              "        const dataTable =\n",
              "          await google.colab.kernel.invokeFunction('convertToInteractive',\n",
              "                                                    [key], {});\n",
              "        if (!dataTable) return;\n",
              "\n",
              "        const docLinkHtml = 'Like what you see? Visit the ' +\n",
              "          '<a target=\"_blank\" href=https://colab.research.google.com/notebooks/data_table.ipynb>data table notebook</a>'\n",
              "          + ' to learn more about interactive tables.';\n",
              "        element.innerHTML = '';\n",
              "        dataTable['output_type'] = 'display_data';\n",
              "        await google.colab.output.renderOutput(dataTable, element);\n",
              "        const docLink = document.createElement('div');\n",
              "        docLink.innerHTML = docLinkHtml;\n",
              "        element.appendChild(docLink);\n",
              "      }\n",
              "    </script>\n",
              "  </div>\n",
              "\n",
              "\n",
              "<div id=\"df-e558475c-74eb-46a8-a85c-4c045debefac\">\n",
              "  <button class=\"colab-df-quickchart\" onclick=\"quickchart('df-e558475c-74eb-46a8-a85c-4c045debefac')\"\n",
              "            title=\"Suggest charts.\"\n",
              "            style=\"display:none;\">\n",
              "\n",
              "<svg xmlns=\"http://www.w3.org/2000/svg\" height=\"24px\"viewBox=\"0 0 24 24\"\n",
              "     width=\"24px\">\n",
              "    <g>\n",
              "        <path d=\"M19 3H5c-1.1 0-2 .9-2 2v14c0 1.1.9 2 2 2h14c1.1 0 2-.9 2-2V5c0-1.1-.9-2-2-2zM9 17H7v-7h2v7zm4 0h-2V7h2v10zm4 0h-2v-4h2v4z\"/>\n",
              "    </g>\n",
              "</svg>\n",
              "  </button>\n",
              "\n",
              "<style>\n",
              "  .colab-df-quickchart {\n",
              "      --bg-color: #E8F0FE;\n",
              "      --fill-color: #1967D2;\n",
              "      --hover-bg-color: #E2EBFA;\n",
              "      --hover-fill-color: #174EA6;\n",
              "      --disabled-fill-color: #AAA;\n",
              "      --disabled-bg-color: #DDD;\n",
              "  }\n",
              "\n",
              "  [theme=dark] .colab-df-quickchart {\n",
              "      --bg-color: #3B4455;\n",
              "      --fill-color: #D2E3FC;\n",
              "      --hover-bg-color: #434B5C;\n",
              "      --hover-fill-color: #FFFFFF;\n",
              "      --disabled-bg-color: #3B4455;\n",
              "      --disabled-fill-color: #666;\n",
              "  }\n",
              "\n",
              "  .colab-df-quickchart {\n",
              "    background-color: var(--bg-color);\n",
              "    border: none;\n",
              "    border-radius: 50%;\n",
              "    cursor: pointer;\n",
              "    display: none;\n",
              "    fill: var(--fill-color);\n",
              "    height: 32px;\n",
              "    padding: 0;\n",
              "    width: 32px;\n",
              "  }\n",
              "\n",
              "  .colab-df-quickchart:hover {\n",
              "    background-color: var(--hover-bg-color);\n",
              "    box-shadow: 0 1px 2px rgba(60, 64, 67, 0.3), 0 1px 3px 1px rgba(60, 64, 67, 0.15);\n",
              "    fill: var(--button-hover-fill-color);\n",
              "  }\n",
              "\n",
              "  .colab-df-quickchart-complete:disabled,\n",
              "  .colab-df-quickchart-complete:disabled:hover {\n",
              "    background-color: var(--disabled-bg-color);\n",
              "    fill: var(--disabled-fill-color);\n",
              "    box-shadow: none;\n",
              "  }\n",
              "\n",
              "  .colab-df-spinner {\n",
              "    border: 2px solid var(--fill-color);\n",
              "    border-color: transparent;\n",
              "    border-bottom-color: var(--fill-color);\n",
              "    animation:\n",
              "      spin 1s steps(1) infinite;\n",
              "  }\n",
              "\n",
              "  @keyframes spin {\n",
              "    0% {\n",
              "      border-color: transparent;\n",
              "      border-bottom-color: var(--fill-color);\n",
              "      border-left-color: var(--fill-color);\n",
              "    }\n",
              "    20% {\n",
              "      border-color: transparent;\n",
              "      border-left-color: var(--fill-color);\n",
              "      border-top-color: var(--fill-color);\n",
              "    }\n",
              "    30% {\n",
              "      border-color: transparent;\n",
              "      border-left-color: var(--fill-color);\n",
              "      border-top-color: var(--fill-color);\n",
              "      border-right-color: var(--fill-color);\n",
              "    }\n",
              "    40% {\n",
              "      border-color: transparent;\n",
              "      border-right-color: var(--fill-color);\n",
              "      border-top-color: var(--fill-color);\n",
              "    }\n",
              "    60% {\n",
              "      border-color: transparent;\n",
              "      border-right-color: var(--fill-color);\n",
              "    }\n",
              "    80% {\n",
              "      border-color: transparent;\n",
              "      border-right-color: var(--fill-color);\n",
              "      border-bottom-color: var(--fill-color);\n",
              "    }\n",
              "    90% {\n",
              "      border-color: transparent;\n",
              "      border-bottom-color: var(--fill-color);\n",
              "    }\n",
              "  }\n",
              "</style>\n",
              "\n",
              "  <script>\n",
              "    async function quickchart(key) {\n",
              "      const quickchartButtonEl =\n",
              "        document.querySelector('#' + key + ' button');\n",
              "      quickchartButtonEl.disabled = true;  // To prevent multiple clicks.\n",
              "      quickchartButtonEl.classList.add('colab-df-spinner');\n",
              "      try {\n",
              "        const charts = await google.colab.kernel.invokeFunction(\n",
              "            'suggestCharts', [key], {});\n",
              "      } catch (error) {\n",
              "        console.error('Error during call to suggestCharts:', error);\n",
              "      }\n",
              "      quickchartButtonEl.classList.remove('colab-df-spinner');\n",
              "      quickchartButtonEl.classList.add('colab-df-quickchart-complete');\n",
              "    }\n",
              "    (() => {\n",
              "      let quickchartButtonEl =\n",
              "        document.querySelector('#df-e558475c-74eb-46a8-a85c-4c045debefac button');\n",
              "      quickchartButtonEl.style.display =\n",
              "        google.colab.kernel.accessAllowed ? 'block' : 'none';\n",
              "    })();\n",
              "  </script>\n",
              "</div>\n",
              "    </div>\n",
              "  </div>\n"
            ]
          },
          "metadata": {},
          "execution_count": 2
        }
      ],
      "source": [
        "df = pd.read_csv('./friends_quotes.csv')\n",
        "df = df[['author','quote']]\n",
        "df.head(10)"
      ],
      "id": "7e7e8c7d"
    },
    {
      "cell_type": "markdown",
      "metadata": {
        "id": "be5fc72f"
      },
      "source": [
        "Fortunately, there is no missing data, so we do not need to worry about that."
      ],
      "id": "be5fc72f"
    },
    {
      "cell_type": "code",
      "execution_count": null,
      "metadata": {
        "colab": {
          "base_uri": "https://localhost:8080/"
        },
        "id": "dc3aea10",
        "outputId": "942db00c-5d26-437c-fdcb-76c36867bb2d"
      },
      "outputs": [
        {
          "output_type": "execute_result",
          "data": {
            "text/plain": [
              "author    0\n",
              "quote     0\n",
              "dtype: int64"
            ]
          },
          "metadata": {},
          "execution_count": 3
        }
      ],
      "source": [
        "df.isnull().sum() # check for missing data"
      ],
      "id": "dc3aea10"
    },
    {
      "cell_type": "markdown",
      "metadata": {
        "id": "26a249b1"
      },
      "source": [
        "Use SpaCy to preprocess the text. For this, perform the following steps:\n",
        "- lowercase the words\n",
        "- remove the stopwords and single characters\n",
        "- use regex to remove non-alphabetic characters (anything that is not a number or alphabet including punctuations), in other words only keep \"a\" to \"z\" and digits.\n",
        "- remove lines that have less than 4 words, since they cannot contribute much to the training process.\n",
        "\n",
        "Please do not add any additional steps on your own or additional cleaning as we want to achieve comparable results."
      ],
      "id": "26a249b1"
    },
    {
      "cell_type": "markdown",
      "metadata": {
        "id": "uyMcK0oMgG-v"
      },
      "source": [
        "✅ Point distribution ✅\n",
        "- 0.5 points when all 4 pre-processing steps are performed if missed any one then zero points."
      ],
      "id": "uyMcK0oMgG-v"
    },
    {
      "cell_type": "code",
      "execution_count": null,
      "metadata": {
        "colab": {
          "base_uri": "https://localhost:8080/"
        },
        "id": "5491d9f0",
        "outputId": "5c9910da-6dd0-4787-f147-1fb7f9e19e74"
      },
      "outputs": [
        {
          "output_type": "stream",
          "name": "stderr",
          "text": [
            "/usr/local/lib/python3.10/dist-packages/spacy/pipeline/lemmatizer.py:211: UserWarning: [W108] The rule-based lemmatizer did not find POS annotation for one or more tokens. Check that your pipeline includes components that assign token.pos, typically 'tagger'+'attribute_ruler' or 'morphologizer'.\n",
            "  warnings.warn(Warnings.W108)\n"
          ]
        }
      ],
      "source": [
        "nlp = spacy.load(\"en_core_web_sm\", disable=[\"tagger\", \"parser\",\"ner\"])\n",
        "stopwords = spacy.lang.en.stop_words.STOP_WORDS\n",
        "df[\"quote\"] = df[\"quote\"].apply(lambda x:re.sub(\"r[^A-Za-z\\d']+\", ' ', str(x)).lower())\n",
        "quotes =[]\n",
        "for script in df.quote.tolist():\n",
        "    new_text=' '.join([token.text for token in nlp(script) if token.text not in stopwords and len(token.text)>1 ])\n",
        "    if  len(new_text.split(' '))>3:\n",
        "        quotes.append(new_text)"
      ],
      "id": "5491d9f0"
    },
    {
      "cell_type": "markdown",
      "metadata": {
        "id": "6aaa2190"
      },
      "source": [
        "The next step is to build the vocabulary of the words and word combinations we want to learn representations from. We choose a subset of the most frequent words and bigrams to represent our corpus.\n",
        "- Use the Gensim Phrases package to automatically detect common phrases (bigrams) from a list of lines from the previous step (`min_count=10`). Now words like New_York will be considered as one entity and character names like joey_tribbiani will be recognized.\n",
        "- Create a list of words/bigrams with their frequencies and choose the top 15.000 words for the vocabulary, in order to keep the computation time-limited and to choose the most important words."
      ],
      "id": "6aaa2190"
    },
    {
      "cell_type": "markdown",
      "metadata": {
        "id": "6Im6719zeyNt"
      },
      "source": [
        "✅ Point distribution ✅\n",
        "- 0.5 points when common phrases (bi-grams) are correctly identified otherwise zero points."
      ],
      "id": "6Im6719zeyNt"
    },
    {
      "cell_type": "code",
      "execution_count": null,
      "metadata": {
        "colab": {
          "base_uri": "https://localhost:8080/"
        },
        "id": "a3059fd0",
        "outputId": "e4aa77d2-3512-4b0b-998b-4b076e07db10"
      },
      "outputs": [
        {
          "output_type": "execute_result",
          "data": {
            "text/plain": [
              "[\"c'm\", 'going', 'guy', 'got_ta', 'wrong']"
            ]
          },
          "metadata": {},
          "execution_count": 5
        }
      ],
      "source": [
        "from gensim.models.phrases import Phrases\n",
        "words = [row.split(' ') for row in quotes]\n",
        "phrases = Phrases(words, min_count=10, progress_per=10000)\n",
        "new_lines = phrases[words]\n",
        "new_lines[0]"
      ],
      "id": "a3059fd0"
    },
    {
      "cell_type": "markdown",
      "metadata": {
        "id": "NBlu7V5kf3ar"
      },
      "source": [
        "✅ Point distribution ✅\n",
        "- 0.5 points when top 50 words/bigrams exactly matches the provided words/bigrams if less than 50 words/bigrams matched then zero points."
      ],
      "id": "NBlu7V5kf3ar"
    },
    {
      "cell_type": "code",
      "execution_count": null,
      "metadata": {
        "colab": {
          "background_save": true
        },
        "id": "a9ca7541"
      },
      "outputs": [],
      "source": [
        "word_freq = defaultdict(int)\n",
        "for sent in new_lines:\n",
        "    for i in sent:\n",
        "        word_freq[i] += 1\n",
        "vocab= sorted(word_freq, key=word_freq.get, reverse=True)[:15000]"
      ],
      "id": "a9ca7541"
    },
    {
      "cell_type": "markdown",
      "metadata": {
        "id": "sYyn1UAAdujW"
      },
      "source": [
        "✅ Point distribution ✅\n",
        "\n",
        "- 0.5 points: `word_freq['central_perk']` value is `36` for any other value zero points.\n",
        "- 0.5 points: `word_freq['joey']` is 1951 for any other value zero points."
      ],
      "id": "sYyn1UAAdujW"
    },
    {
      "cell_type": "code",
      "execution_count": null,
      "metadata": {
        "colab": {
          "background_save": true
        },
        "id": "9d08031d",
        "outputId": "3edce048-78a3-4c51-dfbd-18bfeeafacac"
      },
      "outputs": [
        {
          "data": {
            "text/plain": [
              "36"
            ]
          },
          "execution_count": 7,
          "metadata": {},
          "output_type": "execute_result"
        }
      ],
      "source": [
        "word_freq['central_perk']"
      ],
      "id": "9d08031d"
    },
    {
      "cell_type": "code",
      "execution_count": null,
      "metadata": {
        "colab": {
          "background_save": true
        },
        "id": "0882dc8c",
        "outputId": "281b899b-0314-4640-b305-ab8ea50efd23"
      },
      "outputs": [
        {
          "data": {
            "text/plain": [
              "1879"
            ]
          },
          "execution_count": 8,
          "metadata": {},
          "output_type": "execute_result"
        }
      ],
      "source": [
        "word_freq['joey']"
      ],
      "id": "0882dc8c"
    },
    {
      "cell_type": "markdown",
      "source": [
        "####${\\color{red}{Comments\\ 1.1}}$\n",
        "\n",
        "${\\color{red}{⚠️Comments\\ begin⚠️}}$\n",
        "\n",
        "\n",
        "```\n",
        "cross-feedback comment section\n",
        "```\n",
        "\n",
        "\n",
        "${\\color{red}{⚠️Comments\\ end⚠️}}$"
      ],
      "metadata": {
        "id": "9LzEpHQMwtdB"
      },
      "id": "9LzEpHQMwtdB"
    },
    {
      "cell_type": "markdown",
      "metadata": {
        "id": "15dfce56"
      },
      "source": [
        "### Subtask 2: Training the Model\n"
      ],
      "id": "15dfce56"
    },
    {
      "cell_type": "markdown",
      "metadata": {
        "id": "b59c94e0"
      },
      "source": [
        "Use the Gensim implementation of Word2Vec to train a model on the scripts. The training can be divided into 3 stages:\n",
        "\n",
        "\n",
        "1) Set up your model with parameters; define your parameters in such a way that the following conditions are satisfied:\n",
        " - ignore all words that have a total frequency of less than 2.\n",
        " - dimensions of the embeddings: 100\n",
        " - initial learning rate (step size) of 0.03\n",
        " - 20 negative samples\n",
        " - window size 3\n",
        " - the learning rate in the training will decrease as you apply more and more updates. Most of the time when starting with gradient descent the initial steps can be larger, and as we get close to the local minima it is best to use smaller steps to avoid jumping over the local minima. This adjustment is done internally using a learning rate scheduler. Make sure that the smallest learning rate does not go below 0.0001.\n",
        " - set the threshold for configuring which higher-frequency words are randomly down-sampled to 6e-5. This parameter forces the sampling to choose the very frequent words less often in the sampling.\n",
        " - set the hashfunction of the word2vec to the given function.\n",
        " - train on a single worker to make sure you get the same result as ours."
      ],
      "id": "b59c94e0"
    },
    {
      "cell_type": "code",
      "execution_count": null,
      "metadata": {
        "colab": {
          "background_save": true
        },
        "id": "dfbce0a2"
      },
      "outputs": [],
      "source": [
        "from gensim.models import Word2Vec\n",
        "def hash(astring):\n",
        "    return ord(astring[0])"
      ],
      "id": "dfbce0a2"
    },
    {
      "cell_type": "markdown",
      "metadata": {
        "id": "wcWvYgK9edgb"
      },
      "source": [
        "✅ Point distribution ✅\n",
        "- 1.5 points when all the 8 hyper-parameters mentioned in the question are covered. If missed 1 to 4 hyper-parameter then 0.5 points and more than 4 hyper-parameter missed then zero points."
      ],
      "id": "wcWvYgK9edgb"
    },
    {
      "cell_type": "code",
      "execution_count": null,
      "metadata": {
        "colab": {
          "background_save": true
        },
        "id": "7c12a7a6"
      },
      "outputs": [],
      "source": [
        "w2v = Word2Vec(min_count=2,\n",
        "                     window=3,\n",
        "                     vector_size=100,\n",
        "                     sample=6e-5,\n",
        "                     alpha=0.03,\n",
        "                     min_alpha=0.0001,\n",
        "                     negative=20,\n",
        "                     workers=1, hashfxn=hash)"
      ],
      "id": "7c12a7a6"
    },
    {
      "cell_type": "markdown",
      "metadata": {
        "id": "03eba781"
      },
      "source": [
        "2) Before training, Word2Vec requires us to build the vocabulary table by filtering out the unique words and doing some basic counts on them.\n",
        "Use the `build_vocab` function to process the data. If you look at the logs you can see the effect of `min_count` and `sample` on the word corpus."
      ],
      "id": "03eba781"
    },
    {
      "cell_type": "markdown",
      "metadata": {
        "id": "rWYx5OIDftP1"
      },
      "source": [
        "✅ Point distribution ✅\n",
        "- 0.5 points if vocabulary table is built correctly with `new_lines` otherwise zero points."
      ],
      "id": "rWYx5OIDftP1"
    },
    {
      "cell_type": "code",
      "execution_count": null,
      "metadata": {
        "colab": {
          "background_save": true
        },
        "id": "d9795441",
        "scrolled": true
      },
      "outputs": [],
      "source": [
        "w2v.build_vocab(new_lines, progress_per=10000)"
      ],
      "id": "d9795441"
    },
    {
      "cell_type": "markdown",
      "metadata": {
        "id": "aefdc06f"
      },
      "source": [
        "3) Finally, we  train the model. Train the model for 100 epochs. This will take a while. As we do not plan to train the model any further, we call `init_sims()`, which will make the model much more memory-efficient by precomputing L2-norms of word weight vectors for further analysis."
      ],
      "id": "aefdc06f"
    },
    {
      "cell_type": "markdown",
      "metadata": {
        "id": "fQ08k5FRf9Y0"
      },
      "source": [
        "✅ Point distribution ✅\n",
        "- 1 point when training of word2vec model is carried out otherwise if training is not successful or error then zero points."
      ],
      "id": "fQ08k5FRf9Y0"
    },
    {
      "cell_type": "code",
      "execution_count": null,
      "metadata": {
        "colab": {
          "background_save": true
        },
        "id": "0febaedc",
        "outputId": "63f5c4ca-a029-4fa6-f76a-c45b95cfbf06"
      },
      "outputs": [
        {
          "data": {
            "text/plain": [
              "(12064977, 26754600)"
            ]
          },
          "execution_count": 12,
          "metadata": {},
          "output_type": "execute_result"
        }
      ],
      "source": [
        "w2v.train(new_lines, total_examples=w2v.corpus_count, epochs=100, report_delay=1)\n"
      ],
      "id": "0febaedc"
    },
    {
      "cell_type": "markdown",
      "source": [
        "####${\\color{red}{Comments\\ 1.2}}$\n",
        "\n",
        "${\\color{red}{⚠️Comments\\ begin⚠️}}$\n",
        "\n",
        "\n",
        "```\n",
        "cross-feedback comment section\n",
        "```\n",
        "\n",
        "\n",
        "${\\color{red}{⚠️Comments\\ end⚠️}}$"
      ],
      "metadata": {
        "id": "rhYonUHbwquk"
      },
      "id": "rhYonUHbwquk"
    },
    {
      "cell_type": "markdown",
      "metadata": {
        "id": "a0c86f82"
      },
      "source": [
        "### Subtask 3: Exploring the Model\n"
      ],
      "id": "a0c86f82"
    },
    {
      "cell_type": "markdown",
      "metadata": {
        "id": "377e1f70"
      },
      "source": [
        "As mentioned in the lecture, word embeddings are suited for similarity and analogy tasks. Let's explore some of that with our dataset:\n",
        "\n",
        "We look for most similar words to the name of the famous coffee shop where most of the episodes took place, namely `central_perk` and also one of the characters `joey`. If you have followed the exercise correctly until now, you should see that words like `laying` are similar to `central_perk` and the other main characters are also considered similar to `joey`.\n",
        "\n"
      ],
      "id": "377e1f70"
    },
    {
      "cell_type": "markdown",
      "metadata": {
        "id": "690gmHq7hfBx"
      },
      "source": [
        "✅ Point distribution ✅\n",
        "- 0.25 points if the answer matches the displayed result."
      ],
      "id": "690gmHq7hfBx"
    },
    {
      "cell_type": "code",
      "execution_count": null,
      "metadata": {
        "colab": {
          "background_save": true
        },
        "id": "b7074ffa",
        "scrolled": true,
        "outputId": "81994736-657a-48e5-ce4c-bfcef141688c"
      },
      "outputs": [
        {
          "data": {
            "text/plain": [
              "[('conan', 0.6685703992843628),\n",
              " ('sitting_couch', 0.5100923776626587),\n",
              " ('intrigued', 0.44448766112327576),\n",
              " ('continued', 0.43079474568367004),\n",
              " ('aaah', 0.4189146161079407),\n",
              " ('uhhh', 0.416584312915802),\n",
              " ('rehearsing', 0.4084688723087311),\n",
              " ('hippity', 0.406421959400177),\n",
              " ('crossword', 0.40370339155197144),\n",
              " ('mitzi', 0.4036918878555298)]"
            ]
          },
          "execution_count": 13,
          "metadata": {},
          "output_type": "execute_result"
        }
      ],
      "source": [
        "w2v.wv.most_similar(positive=[\"central_perk\"])"
      ],
      "id": "b7074ffa"
    },
    {
      "cell_type": "markdown",
      "metadata": {
        "id": "MZZxx3VChndu"
      },
      "source": [
        "✅ Point distribution ✅\n",
        "- 0.25 points if the answer matches the displayed result."
      ],
      "id": "MZZxx3VChndu"
    },
    {
      "cell_type": "code",
      "execution_count": null,
      "metadata": {
        "colab": {
          "background_save": true
        },
        "id": "2e66e435",
        "scrolled": true,
        "outputId": "8c3537cc-e2a0-46e1-f86c-c7b7c74cebb3"
      },
      "outputs": [
        {
          "data": {
            "text/plain": [
              "[('chandle', 0.7459915280342102),\n",
              " ('ross', 0.7339990735054016),\n",
              " ('rachel', 0.6974701881408691),\n",
              " ('monica', 0.6890754103660583),\n",
              " ('phoebe', 0.6026953458786011),\n",
              " ('ove', 0.5965407490730286),\n",
              " ('hey', 0.5781211256980896),\n",
              " ('right', 0.55622798204422),\n",
              " ('goes', 0.5538894534111023),\n",
              " ('looks', 0.5196943879127502)]"
            ]
          },
          "execution_count": 14,
          "metadata": {},
          "output_type": "execute_result"
        }
      ],
      "source": [
        "w2v.wv.most_similar(positive=[\"joey\"])"
      ],
      "id": "2e66e435"
    },
    {
      "cell_type": "markdown",
      "metadata": {
        "id": "e3591274"
      },
      "source": [
        "Look at the similarity of `mrs_green` to `rachel` (her mom) and `ross`  and `spaceship` (urelated). The first one should have a high and the second a low score. Finally, look at the similarity of `smelly_cat` ( a song from pheobe) and `song` the similarity should be high."
      ],
      "id": "e3591274"
    },
    {
      "cell_type": "markdown",
      "metadata": {
        "id": "--2zvagThpx_"
      },
      "source": [
        "✅ Point distribution ✅\n",
        "- 0.25 points if the answer matches the displayed result."
      ],
      "id": "--2zvagThpx_"
    },
    {
      "cell_type": "code",
      "execution_count": null,
      "metadata": {
        "colab": {
          "background_save": true
        },
        "id": "c5de6309",
        "outputId": "4f7818c9-4bd8-4e83-fd72-00b44c63bacf"
      },
      "outputs": [
        {
          "data": {
            "text/plain": [
              "0.4352267"
            ]
          },
          "execution_count": 15,
          "metadata": {},
          "output_type": "execute_result"
        }
      ],
      "source": [
        "w2v.wv.similarity('rachel', 'mrs_green')"
      ],
      "id": "c5de6309"
    },
    {
      "cell_type": "markdown",
      "metadata": {
        "id": "7Wo_IJmShsIB"
      },
      "source": [
        "✅ Point distribution ✅\n",
        "- 0.25 points if the answer matches the displayed result."
      ],
      "id": "7Wo_IJmShsIB"
    },
    {
      "cell_type": "code",
      "execution_count": null,
      "metadata": {
        "colab": {
          "background_save": true
        },
        "id": "322d0605",
        "outputId": "c2864e4e-545d-4bc4-f758-e62213560648"
      },
      "outputs": [
        {
          "data": {
            "text/plain": [
              "-0.16437878"
            ]
          },
          "execution_count": 16,
          "metadata": {},
          "output_type": "execute_result"
        }
      ],
      "source": [
        "w2v.wv.similarity('ross', 'spaceship')"
      ],
      "id": "322d0605"
    },
    {
      "cell_type": "markdown",
      "metadata": {
        "id": "_ixXnhfohtHi"
      },
      "source": [
        "✅ Point distribution ✅\n",
        "- 0.25 points if the answer matches the displayed result."
      ],
      "id": "_ixXnhfohtHi"
    },
    {
      "cell_type": "code",
      "execution_count": null,
      "metadata": {
        "colab": {
          "background_save": true
        },
        "id": "f7a0a1f5",
        "scrolled": true,
        "outputId": "0d7805ca-a1c9-4ab1-ef9f-42a548b4ddfd"
      },
      "outputs": [
        {
          "data": {
            "text/plain": [
              "0.52747095"
            ]
          },
          "execution_count": 17,
          "metadata": {},
          "output_type": "execute_result"
        }
      ],
      "source": [
        "w2v.wv.similarity('smelly_cat', 'song')"
      ],
      "id": "f7a0a1f5"
    },
    {
      "cell_type": "markdown",
      "metadata": {
        "id": "7343365d"
      },
      "source": [
        "We can also ask our model to give us the word that does not belong to a list of words. Let's see from the list of all 5 characters which one is the most dissimilar?\n"
      ],
      "id": "7343365d"
    },
    {
      "cell_type": "code",
      "execution_count": null,
      "metadata": {
        "colab": {
          "background_save": true
        },
        "id": "37bff805"
      },
      "outputs": [],
      "source": [
        "character_names= ['joey', 'rachel', 'phoebe','monica','chandler']"
      ],
      "id": "37bff805"
    },
    {
      "cell_type": "markdown",
      "metadata": {
        "id": "quDZzVFzhvT5"
      },
      "source": [
        "✅ Point distribution ✅\n",
        "- 0.25 points if the answer matches the displayed result."
      ],
      "id": "quDZzVFzhvT5"
    },
    {
      "cell_type": "code",
      "execution_count": null,
      "metadata": {
        "colab": {
          "background_save": true
        },
        "id": "9020cd09",
        "scrolled": true,
        "outputId": "40952e3d-b9bc-4047-c67f-d5ddadca06be"
      },
      "outputs": [
        {
          "data": {
            "application/vnd.google.colaboratory.intrinsic+json": {
              "type": "string"
            },
            "text/plain": [
              "'chandler'"
            ]
          },
          "execution_count": 19,
          "metadata": {},
          "output_type": "execute_result"
        }
      ],
      "source": [
        "w2v.wv.doesnt_match(character_names)"
      ],
      "id": "9020cd09"
    },
    {
      "cell_type": "markdown",
      "metadata": {
        "id": "28abdaec"
      },
      "source": [
        "Based on the analogies, which word is to `monica` as `man` is to `women`? (print the top 3 words); you should get `chandler`  among the answers."
      ],
      "id": "28abdaec"
    },
    {
      "cell_type": "markdown",
      "metadata": {
        "id": "5QpYaIeWhxyf"
      },
      "source": [
        "✅ Point distribution ✅\n",
        "- 0.5 points if the answer matches the displayed result."
      ],
      "id": "5QpYaIeWhxyf"
    },
    {
      "cell_type": "code",
      "execution_count": null,
      "metadata": {
        "colab": {
          "background_save": true
        },
        "id": "4a270c9b",
        "outputId": "bd9ce1f4-d213-4d09-f9f1-a354994bbfad"
      },
      "outputs": [
        {
          "data": {
            "text/plain": [
              "[('chandle', 0.6718476414680481),\n",
              " ('ross', 0.5510697960853577),\n",
              " ('joey', 0.5449243187904358)]"
            ]
          },
          "execution_count": 20,
          "metadata": {},
          "output_type": "execute_result"
        }
      ],
      "source": [
        "w2v.wv.most_similar(positive=[\"man\", \"monica\"], negative=[\"women\"], topn=3)"
      ],
      "id": "4a270c9b"
    },
    {
      "cell_type": "markdown",
      "metadata": {
        "id": "1c97ae83"
      },
      "source": [
        "Finally, lets use [t-SNE](https://www.jmlr.org/papers/volume9/vandermaaten08a/vandermaaten08a.pdf) to look at the distribution of our embeddings in the vector space for the character `joey`. Follow the instructions and fill in the blank in the `tsneplot` function."
      ],
      "id": "1c97ae83"
    },
    {
      "cell_type": "code",
      "execution_count": null,
      "metadata": {
        "id": "d0b8930e"
      },
      "outputs": [],
      "source": [
        "import numpy as np\n",
        "import matplotlib.pyplot as plt\n",
        "%matplotlib inline\n",
        "import seaborn as sns\n",
        "import sys\n",
        "from sklearn.manifold import TSNE"
      ],
      "id": "d0b8930e"
    },
    {
      "cell_type": "code",
      "execution_count": null,
      "metadata": {
        "id": "faa51d9e"
      },
      "outputs": [],
      "source": [
        "def tsneplot(model, word):\n",
        "    \"\"\" Plot in seaborn the results from the t-SNE dimensionality reduction for the top 10 most similar and dissimiliar words\n",
        "    \"\"\"\n",
        "    embs = np.empty((0, 100), dtype='f')# to save all the embeddings\n",
        "    word_labels = [word]\n",
        "    color_list  = ['green']\n",
        "\n",
        "    # adds the vector of the query word\n",
        "    embs = np.append(embs, model.wv.__getitem__([word]), axis=0)\n",
        "\n",
        "    # gets list of most similar words\n",
        "    close_words = model.wv.most_similar([word])\n",
        "    all_sims = model.wv.most_similar([word], topn=sys.maxsize)\n",
        "    far_words = list(reversed(all_sims[-10:]))\n",
        "\n",
        "    # adds the vector for each of the closest words to the array\n",
        "    for wrd_score in close_words:\n",
        "        wrd_vector = model.wv.__getitem__([wrd_score[0]])\n",
        "        word_labels.append(wrd_score[0])\n",
        "        color_list.append('blue')\n",
        "        embs = np.append(embs, wrd_vector, axis=0)\n",
        "\n",
        "    # adds the vector for each of the furthest words to the array\n",
        "    for wrd_score in far_words:\n",
        "        wrd_vector = model.wv.__getitem__([wrd_score[0]])\n",
        "        word_labels.append(wrd_score[0])\n",
        "        color_list.append('red')\n",
        "        embs = np.append(embs, wrd_vector, axis=0)\n",
        "\n",
        "    np.set_printoptions(suppress=True)\n",
        "    Y = TSNE(n_components=2, random_state=110, perplexity=15).fit_transform(embs)\n",
        "\n",
        "    # sets everything up to plot\n",
        "    df = pd.DataFrame({'x': [x for x in Y[:, 0]],\n",
        "                       'y': [y for y in Y[:, 1]],\n",
        "                       'words': word_labels,\n",
        "                       'color': color_list})\n",
        "\n",
        "    fig, _ = plt.subplots()\n",
        "    fig.set_size_inches(10, 10)\n",
        "\n",
        "    # basic plot\n",
        "    p1 = sns.regplot(data=df,\n",
        "                     x=\"x\",\n",
        "                     y=\"y\",\n",
        "                     fit_reg=False,\n",
        "                     marker=\"o\",\n",
        "                     scatter_kws={'s': 40,\n",
        "                                  'facecolors': df['color']\n",
        "                                 }\n",
        "                    )\n",
        "\n",
        "    # adds annotations one by one with a loop\n",
        "    for line in range(0, df.shape[0]):\n",
        "         p1.text(df[\"x\"][line],\n",
        "                 df['y'][line],\n",
        "                 '  ' + df[\"words\"][line].title(),\n",
        "                 horizontalalignment='left',\n",
        "                 verticalalignment='bottom', size='medium',\n",
        "                 color=df['color'][line],\n",
        "                 weight='normal'\n",
        "                ).set_size(15)\n",
        "\n",
        "\n",
        "    plt.xlim(Y[:, 0].min()-1, Y[:, 0].max()+1)\n",
        "    plt.ylim(Y[:, 1].min()-1, Y[:, 1].max()+1)\n",
        "\n",
        "    plt.title('t-SNE visualization for {}'.format(word.title()))\n"
      ],
      "id": "faa51d9e"
    },
    {
      "cell_type": "code",
      "execution_count": null,
      "metadata": {
        "colab": {
          "base_uri": "https://localhost:8080/",
          "height": 592
        },
        "id": "3880bad8",
        "outputId": "e33f57f3-ee4b-411d-c79c-ec17ed423335",
        "scrolled": false
      },
      "outputs": [
        {
          "data": {
            "image/png": "[encoded data removed]",
            "text/plain": [
              "<Figure size 1000x1000 with 1 Axes>"
            ]
          },
          "metadata": {},
          "output_type": "display_data"
        }
      ],
      "source": [
        "tsneplot(w2v, 'joey')"
      ],
      "id": "3880bad8"
    },
    {
      "cell_type": "markdown",
      "source": [],
      "metadata": {
        "id": "CrVXY7ZMwRQh"
      },
      "id": "CrVXY7ZMwRQh"
    },
    {
      "cell_type": "markdown",
      "source": [
        "####${\\color{red}{Comments\\ 1.3}}$\n",
        "\n",
        "${\\color{red}{⚠️Comments\\ begin⚠️}}$\n",
        "\n",
        "\n",
        "```\n",
        "cross-feedback comment section\n",
        "```\n",
        "\n",
        "\n",
        "${\\color{red}{⚠️Comments\\ end⚠️}}$"
      ],
      "metadata": {
        "id": "cp-afHMMu0vx"
      },
      "id": "cp-afHMMu0vx"
    },
    {
      "cell_type": "markdown",
      "metadata": {
        "id": "1ce2c270"
      },
      "source": [
        "## **Task 2: Questions on the Conceptual Level (non-programming) (Points (2 + 1 + 1 + 4) = 8)**"
      ],
      "id": "1ce2c270"
    },
    {
      "cell_type": "markdown",
      "metadata": {
        "id": "c3fa409f"
      },
      "source": [
        "Please answer the following questions in the notebook cells using markdown. Be percise and short."
      ],
      "id": "c3fa409f"
    },
    {
      "cell_type": "markdown",
      "metadata": {
        "id": "1ec614b0"
      },
      "source": [
        "### Subtask 1: For gradient descent, what advantage has a decaying learning rate?"
      ],
      "id": "1ec614b0"
    },
    {
      "cell_type": "markdown",
      "metadata": {
        "id": "NhUo3JYUj4Q4"
      },
      "source": [
        "✅ Point distribution ✅\n",
        "- 2 points if answer comprises of both the highlighted text or text having interpretation similar to highligted text. If only one highlighted text or its interpretation is present then 1 point otherwise zero points."
      ],
      "id": "NhUo3JYUj4Q4"
    },
    {
      "cell_type": "markdown",
      "metadata": {
        "id": "bec059fb"
      },
      "source": [
        "Decaying learning has the advantage that at the beginning of training where the model weights are usually\n",
        "chosen at random, **the algorithm can fastly converge towards a minimum**. After more and more steps, it can be\n",
        "assumed that the **solution is near such a minimum, and only smaller steps are taken**, such that the algorithm can\n",
        "now \"fine-tune\" model parameters, instead of altering weights massively, potentially stepping over the optimal\n",
        "the solution again and again."
      ],
      "id": "bec059fb"
    },
    {
      "cell_type": "markdown",
      "source": [
        "####${\\color{red}{Comments\\ 2.1}}$\n",
        "\n",
        "${\\color{red}{⚠️Comments\\ begin⚠️}}$\n",
        "\n",
        "\n",
        "```\n",
        "cross-feedback comment section\n",
        "```\n",
        "\n",
        "\n",
        "${\\color{red}{⚠️Comments\\ end⚠️}}$"
      ],
      "metadata": {
        "id": "1HmkYBIlw0My"
      },
      "id": "1HmkYBIlw0My"
    },
    {
      "cell_type": "markdown",
      "metadata": {
        "id": "0af2b619"
      },
      "source": [
        "### Subtask 2: Why is it easier to maximize the log likelihood instead of the \"normal\" likelihood?"
      ],
      "id": "0af2b619"
    },
    {
      "cell_type": "markdown",
      "metadata": {
        "id": "Jn9lrWV0kmqS"
      },
      "source": [
        "✅ Point distribution ✅\n",
        "- 1 point if answer comprises of the highlighted text otherwise zero points."
      ],
      "id": "Jn9lrWV0kmqS"
    },
    {
      "cell_type": "markdown",
      "metadata": {
        "id": "deb75406"
      },
      "source": [
        "The advantage of using the log likelihood is that **the derivative is a sum instead of a product**. On one hand\n",
        "this makes math easier for us. On the other hand, this means that the individual terms are independent from\n",
        "each other. Additionally, calculating sums instead of products is numerically more stable, hence, making it more\n",
        "suitable for computer applications."
      ],
      "id": "deb75406"
    },
    {
      "cell_type": "markdown",
      "source": [
        "####${\\color{red}{Comments\\ 2.2}}$\n",
        "\n",
        "${\\color{red}{⚠️Comments\\ begin⚠️}}$\n",
        "\n",
        "\n",
        "```\n",
        "cross-feedback comment section\n",
        "```\n",
        "\n",
        "\n",
        "${\\color{red}{⚠️Comments\\ end⚠️}}$"
      ],
      "metadata": {
        "id": "0nrapp91w3dn"
      },
      "id": "0nrapp91w3dn"
    },
    {
      "cell_type": "markdown",
      "metadata": {
        "id": "a9828a2f"
      },
      "source": [
        "### Subtask 3: Name one advantage that fastText has over Word2Vec?"
      ],
      "id": "a9828a2f"
    },
    {
      "cell_type": "markdown",
      "metadata": {
        "id": "IR5Zn6ZGkxR8"
      },
      "source": [
        "✅ Point distribution ✅\n",
        "- 1 point if answer comprises of the highlighted text or interpretation of highlighted text, otherwise zero points."
      ],
      "id": "IR5Zn6ZGkxR8"
    },
    {
      "cell_type": "markdown",
      "metadata": {
        "id": "6c7aeb3b"
      },
      "source": [
        "FastText considers **subwords (character n-grams), such that a word embedding does not consider only the word itself but also a set of substrings of the word**. This has the advantage that also previously unseen words\n",
        "(or rare words in general) can have a meaningful vector representation if the substrings are known to the model."
      ],
      "id": "6c7aeb3b"
    },
    {
      "cell_type": "markdown",
      "source": [
        "####${\\color{red}{Comments\\ 2.3}}$\n",
        "\n",
        "${\\color{red}{⚠️Comments\\ begin⚠️}}$\n",
        "\n",
        "\n",
        "```\n",
        "cross-feedback comment section\n",
        "```\n",
        "\n",
        "\n",
        "${\\color{red}{⚠️Comments\\ end⚠️}}$"
      ],
      "metadata": {
        "id": "Emh95Wbdw6yg"
      },
      "id": "Emh95Wbdw6yg"
    },
    {
      "cell_type": "markdown",
      "metadata": {
        "id": "07634ed8"
      },
      "source": [
        "### Subtask 4: Compute the partial derivate of softmax loss for word2vec with respect to the center word vector.\n",
        "$$ \\frac{\\partial J}{\\partial v_c} =\\frac{\\partial}{\\partial v_c}\\left[ -log \\left( \\frac{exp(u^T_o v_c)}{\\Sigma_{w \\in Vocab} exp(u^T_o v_c)} \\right)\\right] $$\n",
        "use $U$ to denote the matrix of all embeddings and $y$ for a one-hot vector with a 1 for the true outside word $o$, and $\\hat{y}$ for the predicted distribution $P(w|c)$."
      ],
      "id": "07634ed8"
    },
    {
      "cell_type": "markdown",
      "metadata": {
        "id": "Wtou_gU8lI9g"
      },
      "source": [
        "✅ Point distribution ✅\n",
        "- alloted points for the step is mentioned below the step (step-marking)"
      ],
      "id": "Wtou_gU8lI9g"
    },
    {
      "cell_type": "markdown",
      "metadata": {
        "id": "baba8a44"
      },
      "source": [
        "$$ \\frac{\\partial J}{\\partial v_c} =\\frac{\\partial}{\\partial v_c}\\left[-log \\left(\\frac{exp(u^T_o v_c)}{\\Sigma_{w \\in Vocab} exp(u^T_w v_c)}\\right)\\right]= $$\n",
        "\n",
        "$$ \\frac{\\partial}{\\partial v_c}\\left[- \\left(log (exp(u^T_o v_c)) - log(\\Sigma_{w \\in Vocab} exp(u^T_w v_c)) \\right)\\right]= $$\n",
        "**0.5 points**\n",
        "\n",
        "$$ \\frac{\\partial}{\\partial v_c}\\left[ log \\left( \\Sigma_{w \\in Vocab} exp(u^T_w v_c))\\right) - u^T_o v_c)\\right]$$\n",
        "\n",
        "$$ \\Sigma_{w \\in Vocab} \\frac{ exp(u^T_w v_c u_w)}{\\Sigma_{w \\in Vocab} exp(u^T_o v_c )} - u_o $$\n",
        "**0.5 points**\n",
        "\n",
        "$$ \\Sigma_{w \\in Vocab} \\frac{ exp(u^T_w v_c)}{\\Sigma_{w \\in Vocab} exp(u^T_o v_c )}u_w - u_o $$\n",
        "$$ \\Sigma_{w \\in Vocab}P(w|c)u_w - u_o $$\n",
        "**1.25 points**\n",
        "\n",
        "$$  \\Sigma_{w \\in Vocab} \\hat{y_w}u_w - u_o $$\n",
        "$$  U \\hat{y_w} - u_o $$\n",
        "**1.25 points**\n",
        "$$  U \\hat{y_w} - Uy $$\n",
        "$$  U (\\hat{y_w} - y) $$\n",
        "**0.5 points**"
      ],
      "id": "baba8a44"
    },
    {
      "cell_type": "markdown",
      "source": [
        "####${\\color{red}{Comments\\ 2.4}}$\n",
        "\n",
        "${\\color{red}{⚠️Comments\\ begin⚠️}}$\n",
        "\n",
        "\n",
        "```\n",
        "cross-feedback comment section\n",
        "```\n",
        "\n",
        "\n",
        "${\\color{red}{⚠️Comments\\ end⚠️}}$"
      ],
      "metadata": {
        "id": "Sl645_p7KBs9"
      },
      "id": "Sl645_p7KBs9"
    },
    {
      "cell_type": "markdown",
      "metadata": {
        "id": "8364e05b"
      },
      "source": [
        "## **Task 3: Auto-Complete Feature (Points (2 + 6 + 4) = 12)**\n",
        "\n",
        "Let's get even more practical! In this problem set, you will build your own auto-completion system that you see every day while using search engines.\n",
        "\n",
        "[google]: https://www.thedad.com/wp-content/uploads/2018/05/screen-shot-2018-05-12-at-2-01-56-pm.png \"google auto complete\"\n",
        "\n",
        "![google]\n",
        "By the end of this assignment, you will develop a simple prototype of such a system using n-gram language model. At the heart of the system is a language model that assigns the probability to a sequence of words. We take advantage of this probability calculation to predict the next word.\n",
        "\n",
        "The problem set contains 3 main parts:\n",
        "\n",
        "1. Load and preprocess data (tokenize and split into train and test)\n",
        "2. Develop n-gram based language model by estimating the conditional probability of the next word.\n",
        "3. Evaluate the model by computing the perplexity score.\n"
      ],
      "id": "8364e05b"
    },
    {
      "cell_type": "markdown",
      "metadata": {
        "id": "c9d5f84e"
      },
      "source": [
        "### Subtask 1: Load and Preprocess Data\n",
        "We use a subset of English tweets to train our model. Run the cell below to load the data and observe a few lines of it. Notice that tweets are saved in a text file, where the individual tweets are separated by `\\n`"
      ],
      "id": "c9d5f84e"
    },
    {
      "cell_type": "code",
      "execution_count": null,
      "metadata": {
        "colab": {
          "base_uri": "https://localhost:8080/",
          "height": 139
        },
        "id": "48fc8e51",
        "outputId": "807a03c0-9aa4-4577-cd46-acb44f00b238"
      },
      "outputs": [
        {
          "name": "stdout",
          "output_type": "stream",
          "text": [
            "First 500 characters of the data:\n"
          ]
        },
        {
          "data": {
            "application/vnd.google.colaboratory.intrinsic+json": {
              "type": "string"
            },
            "text/plain": [
              "\"How are you? Btw thanks for the RT. You gonna be in DC anytime soon? Love to see you. Been way, way too long.\\nWhen you meet someone special... you'll know. Your heart will beat more rapidly and you'll smile for no reason.\\nthey've decided its more fun if I don't.\\nSo Tired D; Played Lazer Tag & Ran A LOT D; Ughh Going To Sleep Like In 5 Minutes ;)\\nWords from a complete stranger! Made my birthday even better :)\\nFirst Cubs game ever! Wrigley field is gorgeous. This is perfect. Go Cubs Go!\\ni no! i ge\""
            ]
          },
          "metadata": {},
          "output_type": "display_data"
        },
        {
          "name": "stdout",
          "output_type": "stream",
          "text": [
            "-------\n"
          ]
        }
      ],
      "source": [
        "import spacy\n",
        "nlp = spacy.load(\"en_core_web_sm\", disable=[\"tagger\", \"parser\",\"ner\"])\n",
        "\n",
        "\n",
        "with open(\"./twitter.txt\", \"r\") as f:\n",
        "    data = f.read()\n",
        "print(\"First 500 characters of the data:\")\n",
        "display(data[0:500])\n",
        "print(\"-------\")"
      ],
      "id": "48fc8e51"
    },
    {
      "cell_type": "markdown",
      "metadata": {
        "id": "aa007e1d"
      },
      "source": [
        "Now we need to separate the tweets and split them into train and test set. Apply the following pre-processing steps:\n",
        "\n",
        "1. Split data into sentences using \"\\n\" as the delimiter and remove the leading and trailing spaces (drop empty sentences)\n",
        "2. Tokenize the sentences into words using SpaCy and lowercase them. (notice that we do not remove stop words or punctuations.)\n",
        "3. Divide the sentences into 80 percent training and 20 percent test set. No validation set is required. Although in a real-world application it is best to set aside part of the data for hyperparameter tuning.\n",
        "4. To limit the vocabulary and remove potential spelling mistakes, make a vocabulary of the words that appear at least 2 times. The rest of the words will be replaced by the `<unk>` symbol. This is a crucial step since if your model encounters a word that it never saw during training, it won't have an input word that helps determining the next word for suggestion. We use the `<unk>` word for **out of Vocabulary (OOV)** words. Keep in mind that we built the vocabulary on the training data only."
      ],
      "id": "aa007e1d"
    },
    {
      "cell_type": "markdown",
      "metadata": {
        "id": "7SypiYRemnRP"
      },
      "source": [
        "✅ Point distribution ✅\n",
        "- 0.25 points if data is splitted into sentences using \"\\n\" **AND** trailing and leading spaces are removed otherwise zero points."
      ],
      "id": "7SypiYRemnRP"
    },
    {
      "cell_type": "code",
      "execution_count": null,
      "metadata": {
        "id": "16d5b640"
      },
      "outputs": [],
      "source": [
        "sentences = data.split('\\n')\n",
        "sentences = [s.strip() for s in sentences if len(s.strip()) > 0]"
      ],
      "id": "16d5b640"
    },
    {
      "cell_type": "markdown",
      "metadata": {
        "id": "tsn6Neivm6Fs"
      },
      "source": [
        "✅ Point distribution ✅\n",
        "- 0.25 points if sentences are tokenized into words using spacy **AND** lowercase them.\n",
        "- zero points if sentences are not tokenized using spacy and lowercased or removed stop words or punctuations"
      ],
      "id": "tsn6Neivm6Fs"
    },
    {
      "cell_type": "code",
      "execution_count": null,
      "metadata": {
        "colab": {
          "base_uri": "https://localhost:8080/"
        },
        "id": "2faabb7a",
        "outputId": "e036c8cf-9886-4327-92b8-25c0c61989b6"
      },
      "outputs": [
        {
          "name": "stderr",
          "output_type": "stream",
          "text": [
            "/usr/local/lib/python3.10/dist-packages/spacy/pipeline/lemmatizer.py:211: UserWarning: [W108] The rule-based lemmatizer did not find POS annotation for one or more tokens. Check that your pipeline includes components that assign token.pos, typically 'tagger'+'attribute_ruler' or 'morphologizer'.\n",
            "  warnings.warn(Warnings.W108)\n"
          ]
        }
      ],
      "source": [
        "tokenized_corpus = []# list of list of the tokens in a sentence\n",
        "for sentence in sentences:\n",
        "    tokenized_corpus.append([token.text.lower() for token in nlp(sentence)])"
      ],
      "id": "2faabb7a"
    },
    {
      "cell_type": "markdown",
      "metadata": {
        "id": "AYfa4lMjngaE"
      },
      "source": [
        "✅ Point distribution ✅\n",
        "- 0.5 points if 80% training and 20% testing split is performed otherwise zero points."
      ],
      "id": "AYfa4lMjngaE"
    },
    {
      "cell_type": "code",
      "execution_count": null,
      "metadata": {
        "id": "235d1b53"
      },
      "outputs": [],
      "source": [
        "from random import Random\n",
        "Random(4).shuffle(tokenized_corpus)\n",
        "\n",
        "train_size = int(len(tokenized_corpus) * 0.8)\n",
        "train = tokenized_corpus[0:train_size]\n",
        "test = tokenized_corpus[train_size:]"
      ],
      "id": "235d1b53"
    },
    {
      "cell_type": "markdown",
      "metadata": {
        "id": "7lvKOwd9nxBB"
      },
      "source": [
        "✅ Point distribution ✅\n",
        "- 1 point when count value of `print(len(vocab))` matched the displayed result **AND** `<unk>` is tackled.\n",
        "- 0.5 points:\n",
        "  - if count value does not match but `<unk>` is tackled.\n",
        "  - if `<unk>` is not tackled but count value matches"
      ],
      "id": "7lvKOwd9nxBB"
    },
    {
      "cell_type": "code",
      "execution_count": null,
      "metadata": {
        "colab": {
          "base_uri": "https://localhost:8080/"
        },
        "id": "2526e4b1",
        "outputId": "0b02add6-0c21-4bdc-c462-386a923d378d"
      },
      "outputs": [
        {
          "name": "stdout",
          "output_type": "stream",
          "text": [
            "14861\n"
          ]
        }
      ],
      "source": [
        "from collections import Counter\n",
        "flatten_corpus = [token for sentence in train for token in sentence]\n",
        "word_counts = Counter(flatten_corpus)\n",
        "vocab = []\n",
        "for word, cnt in word_counts.items():\n",
        "    if cnt >= 2:\n",
        "        vocab.append(word)\n",
        "vocab = set(vocab)\n",
        "train_replaced = []\n",
        "test_replaced = []\n",
        "for sentence in train:\n",
        "    train_replaced.append([token if token in vocab else '<unk>' for token in sentence ])\n",
        "for sentence in test:\n",
        "    test_replaced.append([token if token in vocab else '<unk>' for token in sentence ])\n",
        "print(len(vocab))"
      ],
      "id": "2526e4b1"
    },
    {
      "cell_type": "markdown",
      "source": [
        "####${\\color{red}{Comments\\ 3.1}}$\n",
        "\n",
        "${\\color{red}{⚠️Comments\\ begin⚠️}}$\n",
        "\n",
        "\n",
        "```\n",
        "cross-feedback comment section\n",
        "```\n",
        "\n",
        "\n",
        "${\\color{red}{⚠️Comments\\ end⚠️}}$"
      ],
      "metadata": {
        "id": "PmhVqwNxxGs3"
      },
      "id": "PmhVqwNxxGs3"
    },
    {
      "cell_type": "markdown",
      "metadata": {
        "id": "f447294a"
      },
      "source": [
        "### Subtask 2: N-gram Based Language Model:\n",
        "In this section, you will develop an n-grams language model [**1. Large Language Models (LLMs), slide 1-24**]. We assume that the probability of the next word depends only on the previous n-gram or previous n words. We compute this probability by counting the occurrences in the corpus.\n",
        "The conditional probability for the word at position 't' in the sentence, given that the words preceding it are $w_{t-1}, w_{t-2} \\cdots w_{t-n}$ can be estimated as follows:\n",
        "\n",
        "$$ \\hat{P}(w_t | w_{t-1}\\dots w_{t-n}) = \\frac{C(w_{t-1}\\dots w_{t-n}, w_t)}{C(w_{t-1}\\dots w_{t-n})}  $$\n",
        "\n",
        "The numerator is the number of times word '$w_t$' appears after the n-gram, and the denominator is the number of times the n-gram occurs in the corpus, where $C(\\cdots)$ is a count function. Later, we add k-smoothing to avoid errors when any counts are zero."
      ],
      "id": "f447294a"
    },
    {
      "cell_type": "markdown",
      "metadata": {
        "id": "7a590b34"
      },
      "source": [
        "To tackle the problem of probability estimation we divide the problem into 3 parts. In the following you will:\n",
        "1. Implement a function that computes the counts of n-grams for an arbitrary number n.\n",
        "2. Estimate the probability of a word given the prior n-words using the n-gram counts.\n",
        "3. Calculate probabilities for all possible words.\n",
        "The steps are detailed below."
      ],
      "id": "7a590b34"
    },
    {
      "cell_type": "markdown",
      "metadata": {
        "id": "8da09885"
      },
      "source": [
        "Let's start by implementing a function that computes the counts of n-grams for an arbitrary number n.\n",
        "- Prepend necessary starting markers `<s>` to indicate the beginning of the sentence. In the case of a bi-gram model, you need to prepend two start tokens `<s><s>` to be able to predict the first word. \"hello world\"-> \"`<s><s>`hello world\".\n",
        "- Append an end token `<e>` so that the model can predict when to finish a sentence.\n",
        "- Create a dictionary to store all the n_gram counts."
      ],
      "id": "8da09885"
    },
    {
      "cell_type": "markdown",
      "metadata": {
        "id": "benfkuHWpouy"
      },
      "source": [
        "✅ Point distribution ✅\n",
        "- 2 points when function implementation is correct\n",
        "- 1 point:\n",
        "  - if n-gram count implementation is correct but start and end token is not added.\n",
        "- 0.5 points:\n",
        "  - if n-gram count implementation is wrong but start and end token is added."
      ],
      "id": "benfkuHWpouy"
    },
    {
      "cell_type": "code",
      "execution_count": null,
      "metadata": {
        "id": "e8a98cee"
      },
      "outputs": [],
      "source": [
        "def n_grams_counts(corpus, n ):\n",
        "    \"\"\"\n",
        "    Count all n-grams in the corpus given the parameter n\n",
        "\n",
        "    data: List of lists of words (your tokenized corpus)\n",
        "    n: n in the n-gram\n",
        "\n",
        "    Returns: A dictionary that maps a tuple of n words to its frequency\n",
        "    \"\"\"\n",
        "    start_token='<s>'\n",
        "    end_token = '<e>'\n",
        "    n_grams = defaultdict(lambda:1)\n",
        "    for sentence in corpus:\n",
        "        sentence = [start_token] * n+ sentence + [end_token]\n",
        "        # convert list to tuple so it can be used a the key in the dictionary\n",
        "        sentence = tuple(sentence)\n",
        "        m = len(sentence)+1-n\n",
        "        for i in range(m):\n",
        "            # Get the n-gram from i to i+n\n",
        "            n_gram = sentence[i:i+n]\n",
        "            n_grams[n_gram] += 1\n",
        "    return n_grams"
      ],
      "id": "e8a98cee"
    },
    {
      "cell_type": "markdown",
      "metadata": {
        "id": "ba75f530"
      },
      "source": [
        "The next step is to estimate the probability of a word given the prior n words using the n-gram counts, based on the formula given at the beginning of this task. To deal with the problem of zero division we add k-smoothing. K-smoothing adds a positive constant $k$ to each numerator and $k \\times |vocabulary size|$ in the denominator. Below we will define a function that takes in a dictionary `n_gram_cnt`, where the key is the n-gram, and the value is the count of that n-gram, plus a dictionary for `plus_current_gram_cnt`, which you'll use to find the count for the previous n-gram plus the current word. Notice that these dictionaries are computed using the previous function `n_grams_counts`.\n"
      ],
      "id": "ba75f530"
    },
    {
      "cell_type": "markdown",
      "metadata": {
        "id": "yBRxNTyIqMRn"
      },
      "source": [
        "✅ Point distribution ✅\n",
        "- 2 points when function implementation is correct with all the variables populated otherwise zero points."
      ],
      "id": "yBRxNTyIqMRn"
    },
    {
      "cell_type": "code",
      "execution_count": null,
      "metadata": {
        "id": "a2c6898d"
      },
      "outputs": [],
      "source": [
        "def probability(word, prev_n_gram,\n",
        "                         n_gram_cnts, plus_current_gram_cnts, vocab_size):\n",
        "    \"\"\"\n",
        "    Estimate the probabilities of a next word using the n-gram counts with k-smoothing\n",
        "    word: next word\n",
        "    prev_n_gram: previous n gram\n",
        "    n_gram_cnts: dictionary of counts of n-grams\n",
        "    plus_current_gram_cnts: dictionary of counts of (n+1)-grams -> current word+ n-gram = (n+1)-gram\n",
        "    vocab_size: number of words in the vocabulary\n",
        "\n",
        "    Returns: A probability\n",
        "    \"\"\"\n",
        "    k=1.0\n",
        "    prev_n_gram = tuple(prev_n_gram)\n",
        "\n",
        "    prev_n_gram_cnt = n_gram_cnts.get(prev_n_gram,0) # get the previous n-gram count from\n",
        "    #the dictionary\n",
        "    denominator = prev_n_gram_cnt + k * vocab_size # denominator with the previous n-gram count and k-smoothing\n",
        "    plus_current_gram = prev_n_gram + (word,) # add the current word to the n-gram\n",
        "    plus_current_gram_cnt = plus_current_gram_cnts.get(plus_current_gram,0)  # get the current n-gram\n",
        "    # count using the dictionary\n",
        "    numerator = plus_current_gram_cnt + k #calculate the numerator with k-smoothing\n",
        "    prob = numerator / denominator\n",
        "\n",
        "    return prob"
      ],
      "id": "a2c6898d"
    },
    {
      "cell_type": "markdown",
      "metadata": {
        "id": "7803eb7c"
      },
      "source": [
        "Let's use the functions we have defined to calculate probabilities for all possible words.\n"
      ],
      "id": "7803eb7c"
    },
    {
      "cell_type": "code",
      "execution_count": null,
      "metadata": {
        "id": "7157c4cb"
      },
      "outputs": [],
      "source": [
        "def probabilities(prev_n_gram, n_gram_cnts, plus_current_gram_cnts, vocab):\n",
        "    \"\"\"\n",
        "    Estimate the probabilities for all the words in the vocabulary\n",
        "    prev_n_gram: previous n gram\n",
        "    n_gram_cnts: dictionary of counts of n-grams\n",
        "    plus_current_gram_cnts: dictionary of counts of (n+1)-grams -> current word+ n-gram = (n+1)-gram\n",
        "    vocab: List of words\n",
        "\n",
        "    Returns: A dictionary mapping from next words to the probability.\n",
        "    \"\"\"\n",
        "    prev_n_gram = tuple(prev_n_gram)\n",
        "\n",
        "    vocab = vocab + [\"<e>\", \"<unk>\"] # add <e> <unk> to the vocabulary\n",
        "    vocabulary_size = len(vocab)\n",
        "    probabilities = {}\n",
        "    for word in vocab:\n",
        "        probabilities[word] = probability(word, prev_n_gram, n_gram_cnts, plus_current_gram_cnts,vocabulary_size)\n",
        "    return probabilities"
      ],
      "id": "7157c4cb"
    },
    {
      "cell_type": "markdown",
      "source": [
        "✅ Point distribution ✅\n",
        "- 2 points when \"moon\" is having the highest probability `0.25`.\n",
        "- 1 point when \"moon\" is having the highest probability but value other than `0.25`.\n",
        "- zero points if \"moon\" is not having highest probability."
      ],
      "metadata": {
        "id": "hM03bFnXfu9m"
      },
      "id": "hM03bFnXfu9m"
    },
    {
      "cell_type": "code",
      "execution_count": null,
      "metadata": {
        "colab": {
          "base_uri": "https://localhost:8080/"
        },
        "id": "88fea049",
        "outputId": "52e9a13c-c537-41f1-df74-187c020d9e75"
      },
      "outputs": [
        {
          "name": "stdout",
          "output_type": "stream",
          "text": [
            "The word 'moon' should have the highest probability, if it is not the case, re-visit your previous functions.\n"
          ]
        },
        {
          "data": {
            "text/plain": [
              "{'and': 0.05,\n",
              " 'tonight': 0.05,\n",
              " 'mars': 0.05,\n",
              " 'stars': 0.05,\n",
              " 'moon': 0.25,\n",
              " 'shining': 0.05,\n",
              " 'is': 0.05,\n",
              " 'a': 0.05,\n",
              " 'bright': 0.05,\n",
              " 'plant': 0.05,\n",
              " 'shinnig': 0.05,\n",
              " 'are': 0.05,\n",
              " 'plants': 0.05,\n",
              " 'the': 0.05,\n",
              " '<e>': 0.05,\n",
              " '<unk>': 0.05}"
            ]
          },
          "execution_count": 36,
          "metadata": {},
          "output_type": "execute_result"
        }
      ],
      "source": [
        "# Predict the probability of the all possible words after the unigram \"the\"\n",
        "sentences = [['the', 'moon', 'and', 'stars', 'are','shining','bright'],\n",
        "             ['the', 'moon', 'is', 'shinnig','tonight'],\n",
        "             ['mars','and' ,'moon', 'are', 'plants'],\n",
        "             ['the' ,'moon', 'is','a', 'plant']]\n",
        "unique_words = list(set(sentences[0] + sentences[1] + sentences[2]+ sentences[3]))\n",
        "unigram_counts = n_grams_counts(sentences, 1)\n",
        "bigram_counts = n_grams_counts(sentences, 2)\n",
        "print(\"The word 'moon' should have the highest probability, if it is not the case, re-visit your previous functions.\")\n",
        "probabilities([\"the\"], unigram_counts, bigram_counts, unique_words)"
      ],
      "id": "88fea049"
    },
    {
      "cell_type": "markdown",
      "source": [
        "####${\\color{red}{Comments\\ 3.2}}$\n",
        "\n",
        "${\\color{red}{⚠️Comments\\ begin⚠️}}$\n",
        "\n",
        "\n",
        "```\n",
        "cross-feedback comment section\n",
        "```\n",
        "\n",
        "\n",
        "${\\color{red}{⚠️Comments\\ end⚠️}}$"
      ],
      "metadata": {
        "id": "SZ9h4n25xJKV"
      },
      "id": "SZ9h4n25xJKV"
    },
    {
      "cell_type": "markdown",
      "metadata": {
        "id": "014a385f"
      },
      "source": [
        "### Subtask 3: Evaluation"
      ],
      "id": "014a385f"
    },
    {
      "cell_type": "markdown",
      "metadata": {
        "id": "90a4345f"
      },
      "source": [
        "In this part, we use the perplexity score to evaluate your model on the test set. The perplexity score of the test set on an n-gram model is defined as follows:\n",
        "\n",
        "$$ PP(W) =\\sqrt[N]{ \\prod_{t=n}^{N-1} \\frac{1}{P(w_t | w_{t-n} \\cdots w_{t-1})} } $$\n",
        "- where $N$ is the length of the sentence. ($N-1$ is used because in the code we start from the index 0).\n",
        "- $n$ is the number of words in the n-gram.\n",
        "- $W$ is the n-gram\n",
        "\n",
        "Notice that we have already computed this probability.\n",
        "\n",
        "The higher the probabilities are, the lower the perplexity will be."
      ],
      "id": "90a4345f"
    },
    {
      "cell_type": "markdown",
      "source": [
        "✅ Point distribution ✅\n",
        "- 1 point when all 7 code placeholder are matching the solution.\n",
        "- 0.5 points when code in the for loop are matching the solution\n",
        "- 0 points when code inside the loop are not matching the solution"
      ],
      "metadata": {
        "id": "0oGmEuhlhbWR"
      },
      "id": "0oGmEuhlhbWR"
    },
    {
      "cell_type": "code",
      "execution_count": null,
      "metadata": {
        "id": "9644c33f"
      },
      "outputs": [],
      "source": [
        "def perplexity(sentence, n_gram_cnts, plus_current_gram_cnts, vocab_size):\n",
        "    \"\"\"\n",
        "    Calculate perplexity for a sentence\n",
        "    sentence: List of strings\n",
        "    n_gram_cnts: dictionary of counts of n-grams\n",
        "    plus_current_gram_cnts: dictionary of counts of (n+1)-grams -> current word+ n-gram = (n+1)-gram\n",
        "    vocab_size: number of unique words in the vocabulary\n",
        "\n",
        "    Returns: Perplexity score for a single sentence\n",
        "    \"\"\"\n",
        "\n",
        "    n = len(list(n_gram_cnts.keys())[0]) # get the number 'n' in  n-gram  from n_gram_cnts\n",
        "\n",
        "    sentence = [\"<s>\"] * n + sentence + [\"<e>\"] # prepend <s> and append <e>\n",
        "    sentence = tuple(sentence)\n",
        "    N = len(sentence)# length of sentence\n",
        "\n",
        "\n",
        "    product_pi = 1.0\n",
        "\n",
        "    ### Compute the product of probabilites ###\n",
        "\n",
        "    for t in range(n, N):\n",
        "        n_gram = sentence[t-n:t]# get the n-gram before the predicted word (n-gram before t )\n",
        "        word = sentence[t] # get the word to be predicted (position t)\n",
        "        prob = probability(word,n_gram, n_gram_cnts, plus_current_gram_cnts, vocab_size)\n",
        "        product_pi *= 1 / prob # Update the product of the probabilities\n",
        "\n",
        "    perplexity = product_pi**(1/float(N)) # Take the Nth root of the product\n",
        "    return perplexity"
      ],
      "id": "9644c33f"
    },
    {
      "cell_type": "markdown",
      "metadata": {
        "id": "8745e1bc"
      },
      "source": [
        "Use `perplexity` function to find the perplexity of a bi-gram model on the first training sample and on the first test sample (first element of the set)."
      ],
      "id": "8745e1bc"
    },
    {
      "cell_type": "markdown",
      "source": [
        "✅ Point distribution ✅\n",
        "- Perplexity for first train sample: 125.3628 (0.5 points)\n",
        "- Perplexity for test sample: 2389.7532 (0.5 points)\n"
      ],
      "metadata": {
        "id": "zrt0ThyOiA6Y"
      },
      "id": "zrt0ThyOiA6Y"
    },
    {
      "cell_type": "code",
      "execution_count": null,
      "metadata": {
        "colab": {
          "base_uri": "https://localhost:8080/"
        },
        "id": "d857043a",
        "outputId": "1d676284-bb1d-49ba-cdfc-9765d4b839b9"
      },
      "outputs": [
        {
          "name": "stdout",
          "output_type": "stream",
          "text": [
            "Perplexity for first train sample: 125.3628\n",
            "Perplexity for test sample: 2389.7532\n"
          ]
        }
      ],
      "source": [
        "bigram_counts = n_grams_counts(train_replaced, 2)\n",
        "trigram_counts = n_grams_counts(train_replaced, 3)\n",
        "\n",
        "perplexity_train = perplexity(train_replaced[0],bigram_counts, trigram_counts,len(vocab))\n",
        "print(f\"Perplexity for first train sample: {perplexity_train:.4f}\")\n",
        "\n",
        "perplexity_test = perplexity(test_replaced[0],bigram_counts, trigram_counts,len(vocab))\n",
        "print(f\"Perplexity for test sample: {perplexity_test:.4f}\")# the preprexity for the train sample should be much lower"
      ],
      "id": "d857043a"
    },
    {
      "cell_type": "markdown",
      "metadata": {
        "id": "7c697faa"
      },
      "source": [
        "Finally, let's use the model we created to generate an auto-complete system that makes suggestions."
      ],
      "id": "7c697faa"
    },
    {
      "cell_type": "code",
      "execution_count": null,
      "metadata": {
        "id": "b6d6163b"
      },
      "outputs": [],
      "source": [
        "def suggest_a_word(up_to_here, n_gram_cnts, plus_current_gram_cnts, vocab , start_with=None):\n",
        "    \"\"\"\n",
        "    Get suggestion for the next word\n",
        "    up_to_here: the sentence so far, must have length => n\n",
        "    n_gram_cnts: dictionary of counts of n-grams\n",
        "    plus_current_gram_cnts: dictionary of counts of (n+1)-grams -> current word+ n-gram = (n+1)-gram\n",
        "    vocab: List of words\n",
        "    start_with: If not None, specifies the first few letters of the next word\n",
        "\n",
        "    Returns: (most likely next word,  probability)\n",
        "    \"\"\"\n",
        "    n = len(list(n_gram_cnts.keys())[0]) # get the number 'n' in  n-gram  from n_gram_cnts\n",
        "    up_to_here = up_to_here[-n:] # get the last 'n' words as the previous n-gram from the input sentence\n",
        "\n",
        "    # Estimate the probabilities for each word in the vocabulary\n",
        "    probabs = probabilities(up_to_here,n_gram_cnts, plus_current_gram_cnts,vocab)\n",
        "\n",
        "    probabs = {k: v for k, v in sorted(probabs.items(), key=lambda item: item[1], reverse=True)}\n",
        "    if start_with is None:\n",
        "        next_item= next(iter(probabs))\n",
        "        return (next_item,probabs[next_item])\n",
        "    else:\n",
        "        for word, prob in probabs.items():\n",
        "            if word.startswith(start_with):\n",
        "                return (word, prob)\n",
        "    return(None,0)\n"
      ],
      "id": "b6d6163b"
    },
    {
      "cell_type": "markdown",
      "metadata": {
        "id": "f88f9abc"
      },
      "source": [
        "Test your model based on the bi-gram model created on the training corpus."
      ],
      "id": "f88f9abc"
    },
    {
      "cell_type": "markdown",
      "source": [
        "✅ Point distribution ✅\n",
        "- 0.5 points when 'baseball' is answer otherwise zero points\n"
      ],
      "metadata": {
        "id": "EaqtT9v7itWd"
      },
      "id": "EaqtT9v7itWd"
    },
    {
      "cell_type": "code",
      "execution_count": null,
      "metadata": {
        "colab": {
          "base_uri": "https://localhost:8080/"
        },
        "id": "460dff09",
        "outputId": "aea79940-08f2-4d1d-97e3-2197a679a826"
      },
      "outputs": [
        {
          "data": {
            "text/plain": [
              "('baseball', 0.0001998534408100726)"
            ]
          },
          "execution_count": 40,
          "metadata": {},
          "output_type": "execute_result"
        }
      ],
      "source": [
        "previous_tokens=['i','like']\n",
        "start_with='b'\n",
        "suggestion = suggest_a_word(previous_tokens, bigram_counts,trigram_counts, list(vocab),start_with=start_with)\n",
        "suggestion"
      ],
      "id": "460dff09"
    },
    {
      "cell_type": "markdown",
      "source": [
        "✅ Point distribution ✅\n",
        "- 0.5 points when 'see' is answer otherwise zero points"
      ],
      "metadata": {
        "id": "kv8WM-M4i7vJ"
      },
      "id": "kv8WM-M4i7vJ"
    },
    {
      "cell_type": "code",
      "execution_count": null,
      "metadata": {
        "colab": {
          "base_uri": "https://localhost:8080/"
        },
        "id": "e68f730c",
        "outputId": "cd0c0f65-6e34-445d-f177-49ee1f07379d"
      },
      "outputs": [
        {
          "data": {
            "text/plain": [
              "('see', 0.0006685385746757588)"
            ]
          },
          "execution_count": 41,
          "metadata": {},
          "output_type": "execute_result"
        }
      ],
      "source": [
        "previous_tokens=['i','like','to']\n",
        "start_with=None\n",
        "suggestion = suggest_a_word(previous_tokens, bigram_counts,trigram_counts, list(vocab),start_with=start_with)\n",
        "suggestion"
      ],
      "id": "e68f730c"
    },
    {
      "cell_type": "markdown",
      "source": [
        "✅ Point distribution ✅\n",
        "- 0.5 points when `<unk>` is answer otherwise zero points"
      ],
      "metadata": {
        "id": "GxCz-lFAi9ji"
      },
      "id": "GxCz-lFAi9ji"
    },
    {
      "cell_type": "code",
      "execution_count": null,
      "metadata": {
        "colab": {
          "base_uri": "https://localhost:8080/"
        },
        "id": "001a7ff4",
        "outputId": "2a1d58e2-a8a2-4bd0-abd4-ca190c42871d"
      },
      "outputs": [
        {
          "data": {
            "text/plain": [
              "('<unk>', 0.0004702089071001545)"
            ]
          },
          "execution_count": 42,
          "metadata": {},
          "output_type": "execute_result"
        }
      ],
      "source": [
        "previous_tokens=[\"hello\", \"my\", \"name\", \"is\"]\n",
        "start_with=None\n",
        "suggestion = suggest_a_word(previous_tokens, bigram_counts,trigram_counts, list(vocab),start_with=start_with)\n",
        "suggestion"
      ],
      "id": "001a7ff4"
    },
    {
      "cell_type": "markdown",
      "source": [
        "✅ Point distribution ✅\n",
        "- 0.5 points when 'allison' is answer otherwise zero points"
      ],
      "metadata": {
        "id": "8Hd0--cTjBsj"
      },
      "id": "8Hd0--cTjBsj"
    },
    {
      "cell_type": "code",
      "execution_count": null,
      "metadata": {
        "colab": {
          "base_uri": "https://localhost:8080/"
        },
        "id": "c556e16f",
        "outputId": "9fcff49f-2472-4657-91a6-a2f59d347a66"
      },
      "outputs": [
        {
          "data": {
            "text/plain": [
              "('allison', 0.00020151810304292335)"
            ]
          },
          "execution_count": 43,
          "metadata": {},
          "output_type": "execute_result"
        }
      ],
      "source": [
        "previous_tokens=[\"hello\", \"my\", \"name\", \"is\"]\n",
        "start_with='a'\n",
        "suggestion = suggest_a_word(previous_tokens, bigram_counts,trigram_counts, list(vocab),start_with=start_with)\n",
        "suggestion"
      ],
      "id": "c556e16f"
    },
    {
      "cell_type": "markdown",
      "source": [
        "####${\\color{red}{Comments\\ 3.3}}$\n",
        "\n",
        "${\\color{red}{⚠️Comments\\ begin⚠️}}$\n",
        "\n",
        "\n",
        "```\n",
        "cross-feedback comment section\n",
        "```\n",
        "\n",
        "\n",
        "${\\color{red}{⚠️Comments\\ end⚠️}}$"
      ],
      "metadata": {
        "id": "w8udKLdixERs"
      },
      "id": "w8udKLdixERs"
    },
    {
      "cell_type": "markdown",
      "metadata": {
        "id": "b4a15ac8"
      },
      "source": [
        "## **Task 4: Understanding GloVe (Points (2 + 4.25 + 4 + 1.75) = 12)**"
      ],
      "id": "b4a15ac8"
    },
    {
      "cell_type": "markdown",
      "metadata": {
        "id": "15e586ca"
      },
      "source": [
        "In this part, you will implement the [GloVe](https://nlp.stanford.edu/projects/glove/) model and train your own word vectors with gradient\n",
        "descent and numpy. GloVe stands for Global Vectors for word representation, which was developed by researchers at Stanford University to generate word embeddings from corpus statistics.\n",
        "The statistics of the corpus are represented by a co-occurrence matrix, indicating how often a particular word pair occurs together.\n",
        "GloVe is based on ratios of probabilities from this co-occurrence matrix, combining the intuitions of count-based models while also being similar to neural models like word2vec.\n",
        "From this matrix, one can compute the co-occurrence probabilities. We motivate this with an example:\n",
        "\n",
        "$P_{ik} = P(i,j)$ -> co-occurrence probability or joint probability of words $i$ and $k$\n",
        "\n",
        "$P_{jk}$ ->co-occurrence probability of words $j$ and $k$\n",
        "\n",
        "$\\frac{P_{ik}}{P_{jk}}$-> corelation between $i$ and $j$ with the prob word $k$\n",
        "\n",
        "This ratio gives us some insight into the co-relation of the probe word $k$ with the words $i$ and $j$.\n",
        "An example is shown below for different prob words $k$, where $i$ and $j$ are `ice` and `steam`, respectively."
      ],
      "id": "15e586ca"
    },
    {
      "cell_type": "markdown",
      "metadata": {
        "id": "076234c5"
      },
      "source": [
        "\n",
        "![glove](https://nlp.stanford.edu/projects/glove/images/table.png)\n"
      ],
      "id": "076234c5"
    },
    {
      "cell_type": "markdown",
      "metadata": {
        "id": "3b933587"
      },
      "source": [
        "Image taken from Stanford NLP."
      ],
      "id": "3b933587"
    },
    {
      "cell_type": "markdown",
      "metadata": {
        "id": "76e8f6f0"
      },
      "source": [
        "As shown in the example above, compared to the raw probabilities, the ratio of probabilities is better able to distinguish relevant words from irrelevant words. Consider the raw probabilities (the first two rows of the table), the values are close to one another and not indicative of the relationships. However, the ratios (bottom row) have more distinct values.\n",
        "\n",
        "This ratio can be small, large, or equal to 1 depending on the prob word and its co-relation. In the example above, the ratio between `ice` and `steam` for `k=solid` is large and for `k=gas` is small, indicating that `solid` is related to ice but `gas` is irrelevant. On the other hand, `water` is not a discriminating element between `ice` and `steam`, and therefore the ratio is close to one. The same applies to an irrelevant word like `fashion`, where the ratio is once again close to one.\n",
        "\n",
        "The GloVe model is built on the idea that the \"ratio of conditional probabilities represents the word meanings\", and a neural model is trained to estimate this conditional probability.\n",
        "The GloVe model primarily aims to estimate the following function $F$:\n",
        "\n",
        "$F(w_i,w_j,\\tilde{w_k})=\\frac{P_{ik}}{P_{jk}}$ -> the right-hand side is computed from the corpus statistics, $w$ is the word vector and $\\tilde{w_k}$ is the context vector.\n",
        "\n",
        "The GloVe model embeds the words in a vector space and claims that the difference between these vectors (distinguishing factor) is hidden in the ratio of probabilities. In vector space, the best way to encode this is by vector differences.\n",
        "In other words, GloVe trains a neural model such that the difference between the word vectors encodes the ratio of probabilities.\n",
        "\n",
        "$F((w_i-w_j),\\tilde{w_k})=\\frac{P_{ik}}{P_{jk}}$\n",
        "\n",
        "At this point, the left side is a vector and the right-hand side is a scalar showing the similarity of $i$ and $j$ in relation to the context word $k$.\n",
        "For both sides to become scalar values, the left-hand side becomes a dot product. This is convenient since similarity in vector space is often encoded via a dot product.\n",
        "\n",
        "$F((w_i-w_j)^{T}.\\tilde{w_k})=\\frac{P_{ik}}{P_{jk}}=\\frac{F(w_i.\\tilde{w_k})}{F(w_j.\\tilde{w_k})} $\n",
        "\n",
        "The nominator and the denominator are probabilities that can be computed using the co-occurrence matrix.\n",
        "\n",
        "$F(w_i.\\tilde{w_k})=\\frac{X_{ik}}{X_{i}}$ -> where $X$ is the co-occurrence matrix\n",
        "\n",
        "There are multiple choices for the function $F$. To satisfy a symmetrical relationship (a.k.a. relation(a, b) = relation(b, a)), $F$ is chosen to be an exponential function, $F(x)=exp(x)$. As a result:\n",
        "\n",
        "$w_i.\\tilde{w_k} = log(P_{ik} ) = log(X_{ik} ) − log(X_{i})$\n",
        "\n",
        "$log(X_{i})$ is independent of $k$ and can be absorbed into a bias term (a constant number).\n",
        "\n",
        "$w_i.\\tilde{w_k} = log(P_{ik} ) + b_i +\\tilde{b_k} = log(X_{ik} )$\n",
        "\n",
        "After some weighting and alterations the final cost function, based on the weighted least squares regression model is as follows:\n",
        "\n",
        "$J= \\Sigma^{V}_{i,j=1} f(X_{ij})(w_i.w_j+ b_i +b_j)-log(X_{ik})$\n",
        "\n",
        "For a detailed overview refer to the original paper: https://nlp.stanford.edu/pubs/glove.pdf\n",
        "You need to read and understand the GloVe model in order to solve this exercise.\n"
      ],
      "id": "76e8f6f0"
    },
    {
      "cell_type": "markdown",
      "metadata": {
        "id": "0d71fbc8"
      },
      "source": [
        "### Subtask 1: Cost function"
      ],
      "id": "0d71fbc8"
    },
    {
      "cell_type": "markdown",
      "metadata": {
        "id": "174acc1f"
      },
      "source": [
        "Read the paper and describe the following, in your own words:\n",
        "\n",
        "1. The intuition behind the weighting schema in the cost function. # 1 point\n",
        "\n",
        "2. How does the objective function of GloVe relate to the objective function of the (word2vec) skip-gram model? # 1 point"
      ],
      "id": "174acc1f"
    },
    {
      "cell_type": "markdown",
      "source": [
        "✅ Point distribution ✅\n",
        "- 1 point each for two questions, i.e., 2 points if answer comprises of the highlighted text or text having interpretation similar to highligted text\n",
        "- Otherwise zero points"
      ],
      "metadata": {
        "id": "RSa41fc_lOGV"
      },
      "id": "RSa41fc_lOGV"
    },
    {
      "cell_type": "markdown",
      "metadata": {
        "id": "9dac9d93"
      },
      "source": [
        "**Answer :**\n",
        "\n",
        "1) A main drawback to this model is that it **weighs all co-occurrences equally, even those that happen rarely or never**. Such rare cooccurrences are noisy and carry less information\n",
        "than the more frequent ones.\n",
        "$f$ is a weighting function that acts to reduce the impact of frequent co-occurring terms which is a drawback discussed above.\n",
        "When the co-occurrence count is higher or equal to a threshold, say 100, the weight will be 1. Otherwise, the weight will be smaller, subject to the co-occurrence count."
      ],
      "id": "9dac9d93"
    },
    {
      "cell_type": "markdown",
      "metadata": {
        "id": "d1e3887c"
      },
      "source": [
        "2) The Word2vec model attempts to maximize the log probability as a context window scans over the corpus. The global objective function is:\n",
        "\n",
        "$J= - \\Sigma_{i \\in corpus, j \\in context(i)} log \\frac{w_i^T.\\tilde{w_j}}{\\Sigma^{V}_{k=1} w_i^T.\\tilde{w_k}}=- \\Sigma_{i \\in corpus, j \\in context(i)} log Q_{ij}$\n",
        "\n",
        "The denominator is a sum over the vocabulary and is very costly, therefore, word2vec comes up with an approximation for this with negative sampling.\n",
        "However, the **fraction can be efficiently estimated if we first group together those terms that have the same values for $i$ and $j$. We can get the co-occurrences from the co-occurrence matrix**.\n",
        "\n",
        "$J= - \\Sigma_{i}^{V}\\Sigma_{j}^{V}X_{ij}Q_{ij}$\n",
        "\n",
        "Moreover, the number of occurrences of $i$ is given by a row in $X$ as $X_i=\\Sigma_k X_{ik}$ and $P_{ij}= \\frac{X_{ij}}{X_i}$. Then we can re-write $J$ as:\n",
        "\n",
        "$J= - \\Sigma_{i}^{V} X_i\\Sigma_{j}^{V}P_{ij}Q_{ij} = \\Sigma_{i}^{V} X_i H(P_i,Q_i) $\n",
        "\n",
        "Where $H$ is the cross entropy of $P$ and $Q$. The whole equation is a weighted cross entropy, which bears some formal resemblance to the weighted least squares objective of GloVe."
      ],
      "id": "d1e3887c"
    },
    {
      "cell_type": "markdown",
      "source": [
        "####${\\color{red}{Comments\\ 4.1}}$\n",
        "\n",
        "${\\color{red}{⚠️Comments\\ begin⚠️}}$\n",
        "\n",
        "\n",
        "```\n",
        "cross-feedback comment section\n",
        "```\n",
        "\n",
        "\n",
        "${\\color{red}{⚠️Comments\\ end⚠️}}$"
      ],
      "metadata": {
        "id": "GKTQL0EsxSUU"
      },
      "id": "GKTQL0EsxSUU"
    },
    {
      "cell_type": "markdown",
      "metadata": {
        "id": "988ae19d"
      },
      "source": [
        "### Subtask 2: Build Co-occurence matrix\n"
      ],
      "id": "988ae19d"
    },
    {
      "cell_type": "markdown",
      "metadata": {
        "id": "edca833e"
      },
      "source": [
        "We use the same dataset as in the first task and use the `quotes` as the corpus to build the co-occurrence matrix. Similar to the first task, we use the `phrases` to transform our input and extract the vocabulary that also includes bi-grams."
      ],
      "id": "edca833e"
    },
    {
      "cell_type": "code",
      "execution_count": null,
      "metadata": {
        "id": "bca0b788"
      },
      "outputs": [],
      "source": [
        "import numpy as np\n",
        "from scipy import sparse\n",
        "from math import log\n",
        "from itertools import chain\n",
        "from collections import Counter\n",
        "from tqdm import tqdm"
      ],
      "id": "bca0b788"
    },
    {
      "cell_type": "markdown",
      "metadata": {
        "id": "dacc60e8"
      },
      "source": [
        "Complete the function to create dictionaries used for mapping ids to words and words to ids, and a dictionary that counts the number of occurrences of each word. The first two dictionaries are used to map indices in vector space to words and back, the third dictionary contains the counts of the corpus statistics."
      ],
      "id": "dacc60e8"
    },
    {
      "cell_type": "code",
      "execution_count": null,
      "metadata": {
        "id": "09dc3179"
      },
      "outputs": [],
      "source": [
        "def create_vocab(corpus): # 1 point\n",
        "  \"\"\"\n",
        "  Build a vocabulary containing the frequencies\n",
        "  corpus: the list of tokenized lines form the corpus\n",
        "\n",
        "  Returns  dictionaries `word` -> (index or unique identified), frequency)`\n",
        "  and `word` -> (index or unique identified)\n",
        "  and index or unique identified -> `word`\n",
        "  and length of the vocab\n",
        "  \"\"\"\n",
        "\n",
        "  word_count_dict = {}\n",
        "  id_to_word={}\n",
        "  word_to_id={}\n",
        "  count = Counter(chain(*corpus))\n",
        "  for index,word in enumerate(count.keys()):\n",
        "      id_to_word[index]= word\n",
        "      word_to_id[word]=index\n",
        "      word_count_dict[index]= count[word]\n",
        "\n",
        "\n",
        "  return word_count_dict,id_to_word,word_to_id, len(word_count_dict)"
      ],
      "id": "09dc3179"
    },
    {
      "cell_type": "code",
      "execution_count": null,
      "metadata": {
        "id": "9fb4ca54"
      },
      "outputs": [],
      "source": [
        "word_count_dict, id_to_word,word_to_id, vocab_size=create_vocab(new_lines)"
      ],
      "id": "9fb4ca54"
    },
    {
      "cell_type": "markdown",
      "source": [
        "✅ Point distribution ✅\n",
        "- 0.5 points is the total tokens are correct and 0.5 points if the number of occurrance are correct"
      ],
      "metadata": {
        "id": "qQ6mSeBcvdZs"
      },
      "id": "qQ6mSeBcvdZs"
    },
    {
      "cell_type": "markdown",
      "metadata": {
        "id": "GlX4ugx88_v7"
      },
      "source": [
        "If you have done the exercise correctly, you have `15333` tokens in the vocabulary, and the number of occurrences for `joey` is `1951` and for `central_perk` is `36`"
      ],
      "id": "GlX4ugx88_v7"
    },
    {
      "cell_type": "code",
      "execution_count": null,
      "metadata": {
        "colab": {
          "base_uri": "https://localhost:8080/"
        },
        "id": "c8b31695",
        "outputId": "10bf3c54-c044-4bdc-b318-c9b7bbca24a2"
      },
      "outputs": [
        {
          "output_type": "stream",
          "name": "stdout",
          "text": [
            "number of occurances for joey: 1879\n",
            "number of occurances for central perk: 36\n",
            "vocab size is: 17234\n"
          ]
        }
      ],
      "source": [
        "print(\"number of occurances for joey:\",word_count_dict[word_to_id['joey']])\n",
        "print(\"number of occurances for central perk:\",word_count_dict[word_to_id['central_perk']])\n",
        "print(\"vocab size is:\",vocab_size)"
      ],
      "id": "c8b31695"
    },
    {
      "cell_type": "code",
      "execution_count": null,
      "metadata": {
        "id": "b027280a"
      },
      "outputs": [],
      "source": [
        "def calculate_weight(cooccurrences, context_word_ids, center_word_id, side):  # 1.25 point\n",
        "    \"\"\"\n",
        "    Calculate the weight in the co-occurrence matrix based on the distance of a word\n",
        "    to the center word\n",
        "    sentence = [I, went, to , the, bank]\n",
        "    Let center word be \"to\" and window size =2\n",
        "    left_context =[I,went]\n",
        "    right_context = [the,bank]\n",
        "\n",
        "    Weights:\n",
        "    1/distance-> `went` and `the` have weight of 1 and `I` and `bank` have weight of 1/2\n",
        "    \"\"\"\n",
        "\n",
        "    if side == \"right_context\":\n",
        "        context_word_ids.reverse()\n",
        "\n",
        "    #len of context_word_ids will be used while calculating distance\n",
        "    number_of_context_words = len(context_word_ids)\n",
        "\n",
        "    for i in range(number_of_context_words):\n",
        "        distance = number_of_context_words - i\n",
        "        weight = 1 / float(distance)\n",
        "\n",
        "        #center word will act as the row and the context word is the column\n",
        "        cooccurrences[center_word_id, context_word_ids[i]] += weight\n",
        "\n",
        "    return cooccurrences\n",
        "\n"
      ],
      "id": "b027280a"
    },
    {
      "cell_type": "markdown",
      "metadata": {
        "id": "MUF8zXO59P3b"
      },
      "source": [
        "The weight of first to second element on the example matrix should be `1.0`."
      ],
      "id": "MUF8zXO59P3b"
    },
    {
      "cell_type": "code",
      "execution_count": null,
      "metadata": {
        "colab": {
          "base_uri": "https://localhost:8080/"
        },
        "id": "d7c32c0e",
        "outputId": "49bf793d-34d6-46f0-9959-bfe63cfb72ee"
      },
      "outputs": [
        {
          "output_type": "stream",
          "name": "stdout",
          "text": [
            "weight of id=0 to id=1 : 1.0\n"
          ]
        }
      ],
      "source": [
        "cooccurrences = sparse.lil_matrix((10, 10),dtype=np.float64)\n",
        "calculate_weight(cooccurrences, [1,3,5], 0, side=\"right_context\")\n",
        "print(\"weight of id=0 to id=1 :\",cooccurrences[0,1])"
      ],
      "id": "d7c32c0e"
    },
    {
      "cell_type": "markdown",
      "source": [
        "✅ Point distribution ✅\n",
        "- 0.25 points if weight of id=0 to id=1 : 1.0.\n",
        "- 0.5 points if the weights are 1 / float(distance)\n",
        "- 0.5 points if the position of the context and center word are correct in the matrix"
      ],
      "metadata": {
        "id": "-chcb4KOvrJV"
      },
      "id": "-chcb4KOvrJV"
    },
    {
      "cell_type": "markdown",
      "metadata": {
        "id": "0ede37e8"
      },
      "source": [
        "We build co-occurrence as a sparse matrix to speed up the computation. The original matrix is a square matrix in the size of the vocabulary. However, many words do not co-occur with one another and we do not need to store those elements."
      ],
      "id": "0ede37e8"
    },
    {
      "cell_type": "code",
      "execution_count": null,
      "metadata": {
        "id": "d63f39e7"
      },
      "outputs": [],
      "source": [
        "def build_cooccur(corpus, window_size=3, min_count=5): # 2 points\n",
        "    \"\"\"\n",
        "    Create a coocurrance matrix given a corpus\n",
        "    corpus: the list of tokenized lines form the corpus\n",
        "    window_size: how many words to right and left to consider\n",
        "\n",
        "    Returns the co-oocurrance sparse matrix\n",
        "    \"\"\"\n",
        "    vocab, id_to_word,word_to_id, vocab_size= create_vocab(corpus)\n",
        "\n",
        "    #sparse lil_matrix is optimized to operate on matrix which mostly has zeros.\n",
        "    cooccurrences = sparse.lil_matrix((vocab_size, vocab_size),dtype=np.float64)\n",
        "\n",
        "    for i, line in enumerate(corpus):\n",
        "\n",
        "        #Get the ID of words from vocab dictionary\n",
        "        word_ids = [word_to_id[word] for word in line]\n",
        "\n",
        "        for i, center_word_id in enumerate(word_ids):\n",
        "            #left side context\n",
        "            left_context_word_ids  = word_ids[max(0, i-window_size):i]\n",
        "\n",
        "            #right side context\n",
        "            right_context_word_ids = word_ids[i+1: i+window_size]\n",
        "\n",
        "            #update the matrix based on the distance weights on both sides\n",
        "            cooccurrences = calculate_weight(cooccurrences, left_context_word_ids, center_word_id,\"left_context\")\n",
        "            cooccurrences = calculate_weight(cooccurrences, right_context_word_ids, center_word_id,\"right_context\")\n",
        "\n",
        "    # go into the LiL-matrix to quickly iterate through all nonzero cells and filter out the ones with minimum count\n",
        "    cooccurrences_tuples = []\n",
        "    for i, (row, data) in enumerate(zip(cooccurrences.rows,cooccurrences.data)):\n",
        "        if min_count is not None and vocab[i] < min_count:\n",
        "            continue\n",
        "\n",
        "        for data_idx, j in enumerate(row):\n",
        "            if min_count is not None and vocab[j] < min_count:\n",
        "                continue\n",
        "\n",
        "            cooccurrences_tuples.append((i, j, float(data[data_idx])))\n",
        "    return cooccurrences_tuples\n"
      ],
      "id": "d63f39e7"
    },
    {
      "cell_type": "markdown",
      "metadata": {
        "id": "f3aba5bd"
      },
      "source": [
        "Build a matrix with a window_size of 3 words, and the minimum number of times a word has to occur to be part of the matrix is 10."
      ],
      "id": "f3aba5bd"
    },
    {
      "cell_type": "code",
      "execution_count": null,
      "metadata": {
        "colab": {
          "base_uri": "https://localhost:8080/"
        },
        "id": "69c198e0",
        "outputId": "bc632ec5-8fba-459d-a291-a1deaee3a94b",
        "scrolled": true
      },
      "outputs": [
        {
          "output_type": "execute_result",
          "data": {
            "text/plain": [
              "(0, 998, 1.0)"
            ]
          },
          "metadata": {},
          "execution_count": 13
        }
      ],
      "source": [
        "matrix=build_cooccur(new_lines, window_size=3, min_count=10)\n",
        "matrix[103]"
      ],
      "id": "69c198e0"
    },
    {
      "cell_type": "markdown",
      "source": [
        "✅ Point distribution ✅\n",
        "- 0.25 points if the output of matrix[103] is (0, 1136, 1.0)\n",
        "- 0.75 points if the left and right side context are choosen correctly from `word_ids`\n",
        "- 0.5 points for update of the matrix\n",
        "- 0.5 points for skipping words less than `min_count` and creating the correct format for the `cooccurrences_tuples`"
      ],
      "metadata": {
        "id": "H_tm9-v1wHZ3"
      },
      "id": "H_tm9-v1wHZ3"
    },
    {
      "cell_type": "markdown",
      "source": [
        "####${\\color{red}{Comments\\ 4.2}}$\n",
        "\n",
        "${\\color{red}{⚠️Comments\\ begin⚠️}}$\n",
        "\n",
        "\n",
        "```\n",
        "cross-feedback comment section\n",
        "```\n",
        "\n",
        "\n",
        "${\\color{red}{⚠️Comments\\ end⚠️}}$"
      ],
      "metadata": {
        "id": "6FZTPwd3xUyd"
      },
      "id": "6FZTPwd3xUyd"
    },
    {
      "cell_type": "markdown",
      "metadata": {
        "id": "82cc1256"
      },
      "source": [
        "### Subtask 3: Modelling and Training\n"
      ],
      "id": "82cc1256"
    },
    {
      "cell_type": "markdown",
      "metadata": {
        "id": "91764831"
      },
      "source": [
        "We initialize the weights for the context and center words and learn the vectors through backprop, using the GloVe cost function.\n",
        "Make sure you use the correct weighting schema."
      ],
      "id": "91764831"
    },
    {
      "cell_type": "markdown",
      "source": [
        "✅ Point distribution ✅\n",
        "- 0.5 points for correct shape of the weight vectors\n",
        "- 0.5 points for correct shape of the biases"
      ],
      "metadata": {
        "id": "jHKSBxeBwwiZ"
      },
      "id": "jHKSBxeBwwiZ"
    },
    {
      "cell_type": "code",
      "execution_count": null,
      "metadata": {
        "id": "05251525"
      },
      "outputs": [],
      "source": [
        "# Random normal weights intialization\n",
        "np.random.seed(77)# we set a seed to have similiar results\n",
        "def init_weights(vocab_size, hidden):\n",
        "     #Each word has a center word vector and a context vector.\n",
        "    W_center = np.random.randn(vocab_size, hidden)\n",
        "    b_center = np.random.randn(vocab_size, 1)\n",
        "    W_context = np.random.randn(vocab_size, hidden)\n",
        "    b_context = np.random.randn(vocab_size, 1)\n",
        "    return W_center, b_center, W_context, b_context"
      ],
      "id": "05251525"
    },
    {
      "cell_type": "markdown",
      "metadata": {
        "id": "y-mcYRis9wet"
      },
      "source": [
        "keep track of `W_center[0,1]` as it should change based on backprop in the next cells."
      ],
      "id": "y-mcYRis9wet"
    },
    {
      "cell_type": "code",
      "execution_count": null,
      "metadata": {
        "colab": {
          "base_uri": "https://localhost:8080/"
        },
        "id": "b2f31560",
        "outputId": "5dfaa724-8362-4a69-d6f8-a545656f64b1"
      },
      "outputs": [
        {
          "output_type": "stream",
          "name": "stdout",
          "text": [
            "check the shapes to make sure the matrices have correct sizes:\n",
            "(100, 32)\n",
            "(100, 1)\n",
            "(100, 32)\n",
            "(100, 1)\n",
            "Look at the value of this element and how it changes with back prob:\n",
            "0.6615314728168009\n"
          ]
        }
      ],
      "source": [
        "W_center, b_center, W_context, b_context=init_weights(100, 32)\n",
        "print(\"check the shapes to make sure the matrices have correct sizes:\")\n",
        "print(W_center.shape)\n",
        "print(b_center.shape)\n",
        "print(W_context.shape)\n",
        "print(b_context.shape)\n",
        "print(\"Look at the value of this element and how it changes with back prob:\")\n",
        "print(W_center[0,1])"
      ],
      "id": "b2f31560"
    },
    {
      "cell_type": "markdown",
      "metadata": {
        "id": "gae189dl-ZZo"
      },
      "source": [
        "Implement the backpropagation for the GloVe model, given the embedding of center and context words.\n",
        "Each step should go over the entire co-occurance matrix."
      ],
      "id": "gae189dl-ZZo"
    },
    {
      "cell_type": "markdown",
      "source": [
        "✅ Point distribution ✅\n",
        "- 0.25 points if the weight for W_center[0,1] is `0.6621378355253088`\n",
        "- 0.25 points if the cost is `0.20551776`\n",
        "- 0.5 points if the cost computation is correct\n",
        "- 1 point if the gradient computations are correct\n",
        "- 0.5 points if the update of the weight vectors are correct"
      ],
      "metadata": {
        "id": "7dq3uqPqxLWB"
      },
      "id": "7dq3uqPqxLWB"
    },
    {
      "cell_type": "code",
      "execution_count": null,
      "metadata": {
        "id": "8669b4fb"
      },
      "outputs": [],
      "source": [
        "# Back Propagation\n",
        "def back_prop(W_center, b_center, W_context, b_context, matrix, x_max,  vocab_size, learning_rate,alpha=2):\n",
        "    \"\"\"\n",
        "    W_center, b_center: weight and bias of the center word\n",
        "    W_context, b_context: weight and bias of the context word\n",
        "    vocab_size: vocabulary size\n",
        "    x_max: define our weighting function when computing the cost for two word pairs; see the GloVe paper for more\n",
        "    details.\n",
        "    matrix: coocurrance matrix\n",
        "    alpha: the power of x_max function\n",
        "    learning_rate: learning rate for gradient descent\n",
        "    \"\"\"\n",
        "\n",
        "    global_cost = 0\n",
        "    for i, j, cooccurrence in matrix:\n",
        "            weight = ((cooccurrence/x_max)**alpha if(cooccurrence < x_max) else 1)\n",
        "            # Compute inner component of cost function  J = w_i^Tw_j + b_i + b_j - log(X_{ij})\n",
        "            cost_inner = np.dot(W_center[i], W_context[j]) + b_center[i] + b_context[j] - (np.log(cooccurrence) if(cooccurrence != 0) else 0)\n",
        "\n",
        "\n",
        "            # Compute cost J = f(X_{ij}) (J')^2\n",
        "            cost = weight*(cost_inner**2)\n",
        "            global_cost = global_cost + cost\n",
        "\n",
        "             # Compute gradients for word vectors\n",
        "            dW_center = weight*cost_inner*W_context[j]\n",
        "            dW_context = weight*cost_inner*W_center[i]\n",
        "            # Compute gradients for bias terms\n",
        "            db_center = weight*cost_inner\n",
        "            db_context = weight*cost_inner\n",
        "\n",
        "            #update the weights\n",
        "            W_center[i] = W_center[i] - learning_rate*dW_center\n",
        "            W_context[j] = W_context[j] - learning_rate*dW_context\n",
        "            b_center[i] = b_center[i] - learning_rate*db_center\n",
        "            b_context[j] = b_context[j] - learning_rate*db_context\n",
        "\n",
        "    return W_center, b_center, W_context, b_context, global_cost"
      ],
      "id": "8669b4fb"
    },
    {
      "cell_type": "markdown",
      "metadata": {
        "id": "sV9uZIgX95tZ"
      },
      "source": [
        "Based on the random seed, the value of `W_center[0,1]` should have changed due to backpropagation.\n"
      ],
      "id": "sV9uZIgX95tZ"
    },
    {
      "cell_type": "code",
      "execution_count": null,
      "metadata": {
        "colab": {
          "base_uri": "https://localhost:8080/"
        },
        "id": "84a467a0",
        "outputId": "e65de9a8-f7ae-44f0-c290-e0506e800b8a"
      },
      "outputs": [
        {
          "output_type": "stream",
          "name": "stdout",
          "text": [
            "cost: [0.20551776]\n",
            "changed value:\n",
            "0.6621378355253088\n"
          ]
        }
      ],
      "source": [
        "test_matrix=[(0,1,1),(0,2,0.4),(0,3,0.9),(0,4,0.4)]\n",
        "W_center, b_center, W_context, b_context, global_cost  =back_prop(W_center, b_center, W_context, b_context, test_matrix, x_max=10,  vocab_size=100, learning_rate=0.01)\n",
        "print(\"cost:\",global_cost)\n",
        "print(\"changed value:\")\n",
        "print(W_center[0,1])"
      ],
      "id": "84a467a0"
    },
    {
      "cell_type": "markdown",
      "metadata": {
        "id": "ULLmdXvC-QpX"
      },
      "source": [
        "Write a training script for the GloVe model that goes over the entire co-occurrence matrix given a number of epochs."
      ],
      "id": "ULLmdXvC-QpX"
    },
    {
      "cell_type": "markdown",
      "source": [
        "✅ Point distribution ✅\n",
        "- 0.25 points if the correct parameters are passed\n"
      ],
      "metadata": {
        "id": "wE6tzKvXx2sh"
      },
      "id": "wE6tzKvXx2sh"
    },
    {
      "cell_type": "code",
      "execution_count": null,
      "metadata": {
        "id": "12dd535b"
      },
      "outputs": [],
      "source": [
        "def train_GloVe(matrix, vocab_size, epochs = 10, learning_rate = 0.0001, x_max = 10, hidden_dim=100):\n",
        "    \"\"\"\n",
        "    Train the glove model based the co-ocurrance matrix for a number of epochs\n",
        "    matrix: co-occcurance matrix\n",
        "    vocab_size: number of words in vocab\n",
        "    epochs: number of passes through the data\n",
        "    learning_rate: learning rate for back prop\n",
        "    x_max: parameter of the weighting function\n",
        "    hidden_dim: dimension of the vectors\n",
        "    \"\"\"\n",
        "    W_center, b_center, W_context, b_context = init_weights(vocab_size, hidden_dim)\n",
        "    for i in tqdm(range(epochs)):\n",
        "        W_center, b_center, W_context, b_context, global_cost = back_prop(W_center, b_center, W_context, b_context, matrix, x_max, vocab_size, learning_rate)\n",
        "        print(global_cost)\n",
        "    return W_center, W_context"
      ],
      "id": "12dd535b"
    },
    {
      "cell_type": "markdown",
      "metadata": {
        "id": "e0116c62"
      },
      "source": [
        "Train the model with hidden dimension of `100` and learning rate of `0.001` for a `100` epochs."
      ],
      "id": "e0116c62"
    },
    {
      "cell_type": "markdown",
      "source": [
        "✅ Point distribution ✅\n",
        "- 0.25 points if the correct parameters are passed"
      ],
      "metadata": {
        "id": "igNl9tpux916"
      },
      "id": "igNl9tpux916"
    },
    {
      "cell_type": "code",
      "execution_count": null,
      "metadata": {
        "colab": {
          "base_uri": "https://localhost:8080/"
        },
        "id": "b2355c76",
        "outputId": "775ff5cc-b5ac-4d42-dcf8-c1e7f9afed26"
      },
      "outputs": [
        {
          "output_type": "stream",
          "name": "stderr",
          "text": [
            "  1%|          | 1/100 [00:13<22:18, 13.52s/it]"
          ]
        },
        {
          "output_type": "stream",
          "name": "stdout",
          "text": [
            "[1515265.06361148]\n"
          ]
        },
        {
          "output_type": "stream",
          "name": "stderr",
          "text": [
            "\r  2%|▏         | 2/100 [00:26<22:01, 13.48s/it]"
          ]
        },
        {
          "output_type": "stream",
          "name": "stdout",
          "text": [
            "[994326.86037132]\n"
          ]
        },
        {
          "output_type": "stream",
          "name": "stderr",
          "text": [
            "\r  3%|▎         | 3/100 [00:40<21:57, 13.58s/it]"
          ]
        },
        {
          "output_type": "stream",
          "name": "stdout",
          "text": [
            "[754064.98571399]\n"
          ]
        },
        {
          "output_type": "stream",
          "name": "stderr",
          "text": [
            "\r  4%|▍         | 4/100 [00:54<21:58, 13.73s/it]"
          ]
        },
        {
          "output_type": "stream",
          "name": "stdout",
          "text": [
            "[616206.66300626]\n"
          ]
        },
        {
          "output_type": "stream",
          "name": "stderr",
          "text": [
            "\r  5%|▌         | 5/100 [01:09<22:07, 13.97s/it]"
          ]
        },
        {
          "output_type": "stream",
          "name": "stdout",
          "text": [
            "[527039.12543357]\n"
          ]
        },
        {
          "output_type": "stream",
          "name": "stderr",
          "text": [
            "\r  6%|▌         | 6/100 [01:23<21:54, 13.99s/it]"
          ]
        },
        {
          "output_type": "stream",
          "name": "stdout",
          "text": [
            "[464651.90234449]\n"
          ]
        },
        {
          "output_type": "stream",
          "name": "stderr",
          "text": [
            "\r  7%|▋         | 7/100 [01:36<21:27, 13.85s/it]"
          ]
        },
        {
          "output_type": "stream",
          "name": "stdout",
          "text": [
            "[418472.58560133]\n"
          ]
        },
        {
          "output_type": "stream",
          "name": "stderr",
          "text": [
            "\r  8%|▊         | 8/100 [01:50<21:07, 13.78s/it]"
          ]
        },
        {
          "output_type": "stream",
          "name": "stdout",
          "text": [
            "[382803.9135298]\n"
          ]
        },
        {
          "output_type": "stream",
          "name": "stderr",
          "text": [
            "\r  9%|▉         | 9/100 [02:03<20:47, 13.70s/it]"
          ]
        },
        {
          "output_type": "stream",
          "name": "stdout",
          "text": [
            "[354321.66068234]\n"
          ]
        },
        {
          "output_type": "stream",
          "name": "stderr",
          "text": [
            "\r 10%|█         | 10/100 [02:17<20:38, 13.76s/it]"
          ]
        },
        {
          "output_type": "stream",
          "name": "stdout",
          "text": [
            "[330964.77900272]\n"
          ]
        },
        {
          "output_type": "stream",
          "name": "stderr",
          "text": [
            "\r 11%|█         | 11/100 [02:31<20:17, 13.68s/it]"
          ]
        },
        {
          "output_type": "stream",
          "name": "stdout",
          "text": [
            "[311392.05346204]\n"
          ]
        },
        {
          "output_type": "stream",
          "name": "stderr",
          "text": [
            "\r 12%|█▏        | 12/100 [02:44<20:03, 13.67s/it]"
          ]
        },
        {
          "output_type": "stream",
          "name": "stdout",
          "text": [
            "[294695.27899088]\n"
          ]
        },
        {
          "output_type": "stream",
          "name": "stderr",
          "text": [
            "\r 13%|█▎        | 13/100 [02:58<19:58, 13.77s/it]"
          ]
        },
        {
          "output_type": "stream",
          "name": "stdout",
          "text": [
            "[280238.5244389]\n"
          ]
        },
        {
          "output_type": "stream",
          "name": "stderr",
          "text": [
            "\r 14%|█▍        | 14/100 [03:12<19:42, 13.75s/it]"
          ]
        },
        {
          "output_type": "stream",
          "name": "stdout",
          "text": [
            "[267563.54980622]\n"
          ]
        },
        {
          "output_type": "stream",
          "name": "stderr",
          "text": [
            "\r 15%|█▌        | 15/100 [03:26<19:25, 13.71s/it]"
          ]
        },
        {
          "output_type": "stream",
          "name": "stdout",
          "text": [
            "[256331.83155835]\n"
          ]
        },
        {
          "output_type": "stream",
          "name": "stderr",
          "text": [
            "\r 16%|█▌        | 16/100 [03:39<19:03, 13.61s/it]"
          ]
        },
        {
          "output_type": "stream",
          "name": "stdout",
          "text": [
            "[246287.76799558]\n"
          ]
        },
        {
          "output_type": "stream",
          "name": "stderr",
          "text": [
            "\r 17%|█▋        | 17/100 [03:53<18:50, 13.62s/it]"
          ]
        },
        {
          "output_type": "stream",
          "name": "stdout",
          "text": [
            "[237234.61121584]\n"
          ]
        },
        {
          "output_type": "stream",
          "name": "stderr",
          "text": [
            "\r 18%|█▊        | 18/100 [04:06<18:32, 13.56s/it]"
          ]
        },
        {
          "output_type": "stream",
          "name": "stdout",
          "text": [
            "[229018.3003776]\n"
          ]
        },
        {
          "output_type": "stream",
          "name": "stderr",
          "text": [
            "\r 19%|█▉        | 19/100 [04:20<18:18, 13.56s/it]"
          ]
        },
        {
          "output_type": "stream",
          "name": "stdout",
          "text": [
            "[221516.34304338]\n"
          ]
        },
        {
          "output_type": "stream",
          "name": "stderr",
          "text": [
            "\r 20%|██        | 20/100 [04:33<18:05, 13.57s/it]"
          ]
        },
        {
          "output_type": "stream",
          "name": "stdout",
          "text": [
            "[214630.00466661]\n"
          ]
        },
        {
          "output_type": "stream",
          "name": "stderr",
          "text": [
            "\r 21%|██        | 21/100 [04:49<18:35, 14.13s/it]"
          ]
        },
        {
          "output_type": "stream",
          "name": "stdout",
          "text": [
            "[208278.71587877]\n"
          ]
        },
        {
          "output_type": "stream",
          "name": "stderr",
          "text": [
            "\r 22%|██▏       | 22/100 [05:03<18:17, 14.08s/it]"
          ]
        },
        {
          "output_type": "stream",
          "name": "stdout",
          "text": [
            "[202395.99748114]\n"
          ]
        },
        {
          "output_type": "stream",
          "name": "stderr",
          "text": [
            "\r 23%|██▎       | 23/100 [05:16<17:53, 13.94s/it]"
          ]
        },
        {
          "output_type": "stream",
          "name": "stdout",
          "text": [
            "[196926.44365613]\n"
          ]
        },
        {
          "output_type": "stream",
          "name": "stderr",
          "text": [
            "\r 24%|██▍       | 24/100 [05:30<17:45, 14.02s/it]"
          ]
        },
        {
          "output_type": "stream",
          "name": "stdout",
          "text": [
            "[191823.45576652]\n"
          ]
        },
        {
          "output_type": "stream",
          "name": "stderr",
          "text": [
            "\r 25%|██▌       | 25/100 [05:44<17:30, 14.01s/it]"
          ]
        },
        {
          "output_type": "stream",
          "name": "stdout",
          "text": [
            "[187047.51699375]\n"
          ]
        },
        {
          "output_type": "stream",
          "name": "stderr",
          "text": [
            "\r 26%|██▌       | 26/100 [06:01<18:15, 14.80s/it]"
          ]
        },
        {
          "output_type": "stream",
          "name": "stdout",
          "text": [
            "[182564.86238977]\n"
          ]
        },
        {
          "output_type": "stream",
          "name": "stderr",
          "text": [
            "\r 27%|██▋       | 27/100 [06:25<21:13, 17.45s/it]"
          ]
        },
        {
          "output_type": "stream",
          "name": "stdout",
          "text": [
            "[178346.44194115]\n"
          ]
        },
        {
          "output_type": "stream",
          "name": "stderr",
          "text": [
            "\r 28%|██▊       | 28/100 [06:38<19:36, 16.34s/it]"
          ]
        },
        {
          "output_type": "stream",
          "name": "stdout",
          "text": [
            "[174367.10349637]\n"
          ]
        },
        {
          "output_type": "stream",
          "name": "stderr",
          "text": [
            "\r 29%|██▉       | 29/100 [06:52<18:23, 15.54s/it]"
          ]
        },
        {
          "output_type": "stream",
          "name": "stdout",
          "text": [
            "[170604.94259963]\n"
          ]
        },
        {
          "output_type": "stream",
          "name": "stderr",
          "text": [
            "\r 30%|███       | 30/100 [07:06<17:27, 14.96s/it]"
          ]
        },
        {
          "output_type": "stream",
          "name": "stdout",
          "text": [
            "[167040.78041095]\n"
          ]
        },
        {
          "output_type": "stream",
          "name": "stderr",
          "text": [
            "\r 31%|███       | 31/100 [07:19<16:46, 14.59s/it]"
          ]
        },
        {
          "output_type": "stream",
          "name": "stdout",
          "text": [
            "[163657.74092168]\n"
          ]
        },
        {
          "output_type": "stream",
          "name": "stderr",
          "text": [
            "\r 32%|███▏      | 32/100 [07:33<16:11, 14.29s/it]"
          ]
        },
        {
          "output_type": "stream",
          "name": "stdout",
          "text": [
            "[160440.90587688]\n"
          ]
        },
        {
          "output_type": "stream",
          "name": "stderr",
          "text": [
            "\r 33%|███▎      | 33/100 [07:48<16:02, 14.37s/it]"
          ]
        },
        {
          "output_type": "stream",
          "name": "stdout",
          "text": [
            "[157377.03105033]\n"
          ]
        },
        {
          "output_type": "stream",
          "name": "stderr",
          "text": [
            "\r 34%|███▍      | 34/100 [08:02<15:58, 14.53s/it]"
          ]
        },
        {
          "output_type": "stream",
          "name": "stdout",
          "text": [
            "[154454.31136247]\n"
          ]
        },
        {
          "output_type": "stream",
          "name": "stderr",
          "text": [
            "\r 35%|███▌      | 35/100 [08:17<15:47, 14.58s/it]"
          ]
        },
        {
          "output_type": "stream",
          "name": "stdout",
          "text": [
            "[151662.18518579]\n"
          ]
        },
        {
          "output_type": "stream",
          "name": "stderr",
          "text": [
            "\r 36%|███▌      | 36/100 [08:31<15:22, 14.42s/it]"
          ]
        },
        {
          "output_type": "stream",
          "name": "stdout",
          "text": [
            "[148991.17032047]\n"
          ]
        },
        {
          "output_type": "stream",
          "name": "stderr",
          "text": [
            "\r 37%|███▋      | 37/100 [08:45<14:49, 14.12s/it]"
          ]
        },
        {
          "output_type": "stream",
          "name": "stdout",
          "text": [
            "[146432.72574125]\n"
          ]
        },
        {
          "output_type": "stream",
          "name": "stderr",
          "text": [
            "\r 38%|███▊      | 38/100 [08:58<14:24, 13.95s/it]"
          ]
        },
        {
          "output_type": "stream",
          "name": "stdout",
          "text": [
            "[143979.13445062]\n"
          ]
        },
        {
          "output_type": "stream",
          "name": "stderr",
          "text": [
            "\r 39%|███▉      | 39/100 [09:12<14:10, 13.95s/it]"
          ]
        },
        {
          "output_type": "stream",
          "name": "stdout",
          "text": [
            "[141623.40372305]\n"
          ]
        },
        {
          "output_type": "stream",
          "name": "stderr",
          "text": [
            "\r 40%|████      | 40/100 [09:26<13:57, 13.96s/it]"
          ]
        },
        {
          "output_type": "stream",
          "name": "stdout",
          "text": [
            "[139359.17976116]\n"
          ]
        },
        {
          "output_type": "stream",
          "name": "stderr",
          "text": [
            "\r 41%|████      | 41/100 [09:40<13:40, 13.91s/it]"
          ]
        },
        {
          "output_type": "stream",
          "name": "stdout",
          "text": [
            "[137180.67435955]\n"
          ]
        },
        {
          "output_type": "stream",
          "name": "stderr",
          "text": [
            "\r 42%|████▏     | 42/100 [09:53<13:19, 13.79s/it]"
          ]
        },
        {
          "output_type": "stream",
          "name": "stdout",
          "text": [
            "[135082.60162439]\n"
          ]
        },
        {
          "output_type": "stream",
          "name": "stderr",
          "text": [
            "\r 43%|████▎     | 43/100 [10:07<13:01, 13.72s/it]"
          ]
        },
        {
          "output_type": "stream",
          "name": "stdout",
          "text": [
            "[133060.12315493]\n"
          ]
        },
        {
          "output_type": "stream",
          "name": "stderr",
          "text": [
            "\r 44%|████▍     | 44/100 [10:20<12:41, 13.60s/it]"
          ]
        },
        {
          "output_type": "stream",
          "name": "stdout",
          "text": [
            "[131108.80037799]\n"
          ]
        },
        {
          "output_type": "stream",
          "name": "stderr",
          "text": [
            "\r 45%|████▌     | 45/100 [10:34<12:33, 13.69s/it]"
          ]
        },
        {
          "output_type": "stream",
          "name": "stdout",
          "text": [
            "[129224.55295581]\n"
          ]
        },
        {
          "output_type": "stream",
          "name": "stderr",
          "text": [
            "\r 46%|████▌     | 46/100 [10:48<12:21, 13.73s/it]"
          ]
        },
        {
          "output_type": "stream",
          "name": "stdout",
          "text": [
            "[127403.62237114]\n"
          ]
        },
        {
          "output_type": "stream",
          "name": "stderr",
          "text": [
            "\r 47%|████▋     | 47/100 [11:02<12:08, 13.74s/it]"
          ]
        },
        {
          "output_type": "stream",
          "name": "stdout",
          "text": [
            "[125642.53994356]\n"
          ]
        },
        {
          "output_type": "stream",
          "name": "stderr",
          "text": [
            "\r 48%|████▊     | 48/100 [11:16<11:59, 13.84s/it]"
          ]
        },
        {
          "output_type": "stream",
          "name": "stdout",
          "text": [
            "[123938.0986523]\n"
          ]
        },
        {
          "output_type": "stream",
          "name": "stderr",
          "text": [
            "\r 49%|████▉     | 49/100 [11:30<11:49, 13.92s/it]"
          ]
        },
        {
          "output_type": "stream",
          "name": "stdout",
          "text": [
            "[122287.32824064]\n"
          ]
        },
        {
          "output_type": "stream",
          "name": "stderr",
          "text": [
            "\r 50%|█████     | 50/100 [11:44<11:36, 13.94s/it]"
          ]
        },
        {
          "output_type": "stream",
          "name": "stdout",
          "text": [
            "[120687.47315886]\n"
          ]
        },
        {
          "output_type": "stream",
          "name": "stderr",
          "text": [
            "\r 51%|█████     | 51/100 [11:58<11:22, 13.93s/it]"
          ]
        },
        {
          "output_type": "stream",
          "name": "stdout",
          "text": [
            "[119135.97297053]\n"
          ]
        },
        {
          "output_type": "stream",
          "name": "stderr",
          "text": [
            "\r 52%|█████▏    | 52/100 [12:12<11:04, 13.84s/it]"
          ]
        },
        {
          "output_type": "stream",
          "name": "stdout",
          "text": [
            "[117630.44490309]\n"
          ]
        },
        {
          "output_type": "stream",
          "name": "stderr",
          "text": [
            "\r 53%|█████▎    | 53/100 [12:25<10:48, 13.80s/it]"
          ]
        },
        {
          "output_type": "stream",
          "name": "stdout",
          "text": [
            "[116168.6682704]\n"
          ]
        },
        {
          "output_type": "stream",
          "name": "stderr",
          "text": [
            "\r 54%|█████▍    | 54/100 [12:39<10:29, 13.70s/it]"
          ]
        },
        {
          "output_type": "stream",
          "name": "stdout",
          "text": [
            "[114748.57053435]\n"
          ]
        },
        {
          "output_type": "stream",
          "name": "stderr",
          "text": [
            "\r 55%|█████▌    | 55/100 [12:52<10:15, 13.67s/it]"
          ]
        },
        {
          "output_type": "stream",
          "name": "stdout",
          "text": [
            "[113368.21480523]\n"
          ]
        },
        {
          "output_type": "stream",
          "name": "stderr",
          "text": [
            "\r 56%|█████▌    | 56/100 [13:06<09:59, 13.63s/it]"
          ]
        },
        {
          "output_type": "stream",
          "name": "stdout",
          "text": [
            "[112025.78860858]\n"
          ]
        },
        {
          "output_type": "stream",
          "name": "stderr",
          "text": [
            "\r 57%|█████▋    | 57/100 [13:19<09:42, 13.56s/it]"
          ]
        },
        {
          "output_type": "stream",
          "name": "stdout",
          "text": [
            "[110719.59376936]\n"
          ]
        },
        {
          "output_type": "stream",
          "name": "stderr",
          "text": [
            "\r 58%|█████▊    | 58/100 [13:33<09:30, 13.59s/it]"
          ]
        },
        {
          "output_type": "stream",
          "name": "stdout",
          "text": [
            "[109448.03728446]\n"
          ]
        },
        {
          "output_type": "stream",
          "name": "stderr",
          "text": [
            "\r 59%|█████▉    | 59/100 [13:46<09:16, 13.58s/it]"
          ]
        },
        {
          "output_type": "stream",
          "name": "stdout",
          "text": [
            "[108209.62307133]\n"
          ]
        },
        {
          "output_type": "stream",
          "name": "stderr",
          "text": [
            "\r 60%|██████    | 60/100 [14:00<09:04, 13.62s/it]"
          ]
        },
        {
          "output_type": "stream",
          "name": "stdout",
          "text": [
            "[107002.94449497]\n"
          ]
        },
        {
          "output_type": "stream",
          "name": "stderr",
          "text": [
            "\r 61%|██████    | 61/100 [14:14<08:50, 13.60s/it]"
          ]
        },
        {
          "output_type": "stream",
          "name": "stdout",
          "text": [
            "[105826.67758798]\n"
          ]
        },
        {
          "output_type": "stream",
          "name": "stderr",
          "text": [
            "\r 62%|██████▏   | 62/100 [14:27<08:37, 13.63s/it]"
          ]
        },
        {
          "output_type": "stream",
          "name": "stdout",
          "text": [
            "[104679.57488891]\n"
          ]
        },
        {
          "output_type": "stream",
          "name": "stderr",
          "text": [
            "\r 63%|██████▎   | 63/100 [14:41<08:21, 13.56s/it]"
          ]
        },
        {
          "output_type": "stream",
          "name": "stdout",
          "text": [
            "[103560.4598334]\n"
          ]
        },
        {
          "output_type": "stream",
          "name": "stderr",
          "text": [
            "\r 64%|██████▍   | 64/100 [14:54<08:09, 13.59s/it]"
          ]
        },
        {
          "output_type": "stream",
          "name": "stdout",
          "text": [
            "[102468.22164023]\n"
          ]
        },
        {
          "output_type": "stream",
          "name": "stderr",
          "text": [
            "\r 65%|██████▌   | 65/100 [15:09<08:00, 13.73s/it]"
          ]
        },
        {
          "output_type": "stream",
          "name": "stdout",
          "text": [
            "[101401.81064182]\n"
          ]
        },
        {
          "output_type": "stream",
          "name": "stderr",
          "text": [
            "\r 66%|██████▌   | 66/100 [15:23<07:52, 13.90s/it]"
          ]
        },
        {
          "output_type": "stream",
          "name": "stdout",
          "text": [
            "[100360.23401382]\n"
          ]
        },
        {
          "output_type": "stream",
          "name": "stderr",
          "text": [
            "\r 67%|██████▋   | 67/100 [15:37<07:44, 14.09s/it]"
          ]
        },
        {
          "output_type": "stream",
          "name": "stdout",
          "text": [
            "[99342.55186442]\n"
          ]
        },
        {
          "output_type": "stream",
          "name": "stderr",
          "text": [
            "\r 68%|██████▊   | 68/100 [15:51<07:27, 13.99s/it]"
          ]
        },
        {
          "output_type": "stream",
          "name": "stdout",
          "text": [
            "[98347.87364787]\n"
          ]
        },
        {
          "output_type": "stream",
          "name": "stderr",
          "text": [
            "\r 69%|██████▉   | 69/100 [16:05<07:09, 13.87s/it]"
          ]
        },
        {
          "output_type": "stream",
          "name": "stdout",
          "text": [
            "[97375.35487108]\n"
          ]
        },
        {
          "output_type": "stream",
          "name": "stderr",
          "text": [
            "\r 70%|███████   | 70/100 [16:18<06:53, 13.78s/it]"
          ]
        },
        {
          "output_type": "stream",
          "name": "stdout",
          "text": [
            "[96424.19406527]\n"
          ]
        },
        {
          "output_type": "stream",
          "name": "stderr",
          "text": [
            "\r 71%|███████   | 71/100 [16:32<06:38, 13.75s/it]"
          ]
        },
        {
          "output_type": "stream",
          "name": "stdout",
          "text": [
            "[95493.62999788]\n"
          ]
        },
        {
          "output_type": "stream",
          "name": "stderr",
          "text": [
            "\r 72%|███████▏  | 72/100 [16:46<06:25, 13.78s/it]"
          ]
        },
        {
          "output_type": "stream",
          "name": "stdout",
          "text": [
            "[94582.9391025]\n"
          ]
        },
        {
          "output_type": "stream",
          "name": "stderr",
          "text": [
            "\r 73%|███████▎  | 73/100 [16:59<06:10, 13.74s/it]"
          ]
        },
        {
          "output_type": "stream",
          "name": "stdout",
          "text": [
            "[93691.433107]\n"
          ]
        },
        {
          "output_type": "stream",
          "name": "stderr",
          "text": [
            "\r 74%|███████▍  | 74/100 [17:13<05:55, 13.67s/it]"
          ]
        },
        {
          "output_type": "stream",
          "name": "stdout",
          "text": [
            "[92818.45684194]\n"
          ]
        },
        {
          "output_type": "stream",
          "name": "stderr",
          "text": [
            "\r 75%|███████▌  | 75/100 [17:26<05:40, 13.63s/it]"
          ]
        },
        {
          "output_type": "stream",
          "name": "stdout",
          "text": [
            "[91963.38621337]\n"
          ]
        },
        {
          "output_type": "stream",
          "name": "stderr",
          "text": [
            "\r 76%|███████▌  | 76/100 [17:40<05:28, 13.70s/it]"
          ]
        },
        {
          "output_type": "stream",
          "name": "stdout",
          "text": [
            "[91125.62632561]\n"
          ]
        },
        {
          "output_type": "stream",
          "name": "stderr",
          "text": [
            "\r 77%|███████▋  | 77/100 [17:54<05:13, 13.64s/it]"
          ]
        },
        {
          "output_type": "stream",
          "name": "stdout",
          "text": [
            "[90304.60974099]\n"
          ]
        },
        {
          "output_type": "stream",
          "name": "stderr",
          "text": [
            "\r 78%|███████▊  | 78/100 [18:07<04:59, 13.62s/it]"
          ]
        },
        {
          "output_type": "stream",
          "name": "stdout",
          "text": [
            "[89499.79486505]\n"
          ]
        },
        {
          "output_type": "stream",
          "name": "stderr",
          "text": [
            "\r 79%|███████▉  | 79/100 [18:21<04:45, 13.58s/it]"
          ]
        },
        {
          "output_type": "stream",
          "name": "stdout",
          "text": [
            "[88710.66444646]\n"
          ]
        },
        {
          "output_type": "stream",
          "name": "stderr",
          "text": [
            "\r 80%|████████  | 80/100 [18:34<04:31, 13.56s/it]"
          ]
        },
        {
          "output_type": "stream",
          "name": "stdout",
          "text": [
            "[87936.72418226]\n"
          ]
        },
        {
          "output_type": "stream",
          "name": "stderr",
          "text": [
            "\r 81%|████████  | 81/100 [18:48<04:18, 13.58s/it]"
          ]
        },
        {
          "output_type": "stream",
          "name": "stdout",
          "text": [
            "[87177.50141975]\n"
          ]
        },
        {
          "output_type": "stream",
          "name": "stderr",
          "text": [
            "\r 82%|████████▏ | 82/100 [19:02<04:04, 13.59s/it]"
          ]
        },
        {
          "output_type": "stream",
          "name": "stdout",
          "text": [
            "[86432.5439472]\n"
          ]
        },
        {
          "output_type": "stream",
          "name": "stderr",
          "text": [
            "\r 83%|████████▎ | 83/100 [19:16<03:52, 13.69s/it]"
          ]
        },
        {
          "output_type": "stream",
          "name": "stdout",
          "text": [
            "[85701.41886633]\n"
          ]
        },
        {
          "output_type": "stream",
          "name": "stderr",
          "text": [
            "\r 84%|████████▍ | 84/100 [19:30<03:40, 13.77s/it]"
          ]
        },
        {
          "output_type": "stream",
          "name": "stdout",
          "text": [
            "[84983.71153998]\n"
          ]
        },
        {
          "output_type": "stream",
          "name": "stderr",
          "text": [
            "\r 85%|████████▌ | 85/100 [19:44<03:27, 13.84s/it]"
          ]
        },
        {
          "output_type": "stream",
          "name": "stdout",
          "text": [
            "[84279.02460926]\n"
          ]
        },
        {
          "output_type": "stream",
          "name": "stderr",
          "text": [
            "\r 86%|████████▌ | 86/100 [19:58<03:14, 13.91s/it]"
          ]
        },
        {
          "output_type": "stream",
          "name": "stdout",
          "text": [
            "[83586.9770747]\n"
          ]
        },
        {
          "output_type": "stream",
          "name": "stderr",
          "text": [
            "\r 87%|████████▋ | 87/100 [20:11<03:00, 13.86s/it]"
          ]
        },
        {
          "output_type": "stream",
          "name": "stdout",
          "text": [
            "[82907.20343658]\n"
          ]
        },
        {
          "output_type": "stream",
          "name": "stderr",
          "text": [
            "\r 88%|████████▊ | 88/100 [20:25<02:45, 13.78s/it]"
          ]
        },
        {
          "output_type": "stream",
          "name": "stdout",
          "text": [
            "[82239.35289]\n"
          ]
        },
        {
          "output_type": "stream",
          "name": "stderr",
          "text": [
            "\r 89%|████████▉ | 89/100 [20:38<02:30, 13.69s/it]"
          ]
        },
        {
          "output_type": "stream",
          "name": "stdout",
          "text": [
            "[81583.08857055]\n"
          ]
        },
        {
          "output_type": "stream",
          "name": "stderr",
          "text": [
            "\r 90%|█████████ | 90/100 [20:52<02:16, 13.68s/it]"
          ]
        },
        {
          "output_type": "stream",
          "name": "stdout",
          "text": [
            "[80938.0868469]\n"
          ]
        },
        {
          "output_type": "stream",
          "name": "stderr",
          "text": [
            "\r 91%|█████████ | 91/100 [21:05<02:02, 13.60s/it]"
          ]
        },
        {
          "output_type": "stream",
          "name": "stdout",
          "text": [
            "[80304.03665691]\n"
          ]
        },
        {
          "output_type": "stream",
          "name": "stderr",
          "text": [
            "\r 92%|█████████▏| 92/100 [21:19<01:48, 13.60s/it]"
          ]
        },
        {
          "output_type": "stream",
          "name": "stdout",
          "text": [
            "[79680.63888412]\n"
          ]
        },
        {
          "output_type": "stream",
          "name": "stderr",
          "text": [
            "\r 93%|█████████▎| 93/100 [21:33<01:35, 13.58s/it]"
          ]
        },
        {
          "output_type": "stream",
          "name": "stdout",
          "text": [
            "[79067.60577166]\n"
          ]
        },
        {
          "output_type": "stream",
          "name": "stderr",
          "text": [
            "\r 94%|█████████▍| 94/100 [21:46<01:21, 13.58s/it]"
          ]
        },
        {
          "output_type": "stream",
          "name": "stdout",
          "text": [
            "[78464.6603711]\n"
          ]
        },
        {
          "output_type": "stream",
          "name": "stderr",
          "text": [
            "\r 95%|█████████▌| 95/100 [22:00<01:07, 13.54s/it]"
          ]
        },
        {
          "output_type": "stream",
          "name": "stdout",
          "text": [
            "[77871.5360237]\n"
          ]
        },
        {
          "output_type": "stream",
          "name": "stderr",
          "text": [
            "\r 96%|█████████▌| 96/100 [22:13<00:54, 13.51s/it]"
          ]
        },
        {
          "output_type": "stream",
          "name": "stdout",
          "text": [
            "[77287.97587182]\n"
          ]
        },
        {
          "output_type": "stream",
          "name": "stderr",
          "text": [
            "\r 97%|█████████▋| 97/100 [22:27<00:40, 13.52s/it]"
          ]
        },
        {
          "output_type": "stream",
          "name": "stdout",
          "text": [
            "[76713.73239854]\n"
          ]
        },
        {
          "output_type": "stream",
          "name": "stderr",
          "text": [
            "\r 98%|█████████▊| 98/100 [22:40<00:27, 13.54s/it]"
          ]
        },
        {
          "output_type": "stream",
          "name": "stdout",
          "text": [
            "[76148.56699342]\n"
          ]
        },
        {
          "output_type": "stream",
          "name": "stderr",
          "text": [
            "\r 99%|█████████▉| 99/100 [22:54<00:13, 13.53s/it]"
          ]
        },
        {
          "output_type": "stream",
          "name": "stdout",
          "text": [
            "[75592.24954286]\n"
          ]
        },
        {
          "output_type": "stream",
          "name": "stderr",
          "text": [
            "100%|██████████| 100/100 [23:07<00:00, 13.88s/it]"
          ]
        },
        {
          "output_type": "stream",
          "name": "stdout",
          "text": [
            "[75044.5580432]\n"
          ]
        },
        {
          "output_type": "stream",
          "name": "stderr",
          "text": [
            "\n"
          ]
        }
      ],
      "source": [
        "W_center, W_context = train_GloVe(matrix, vocab_size, 100, 0.001) #takes about 15 minutes"
      ],
      "id": "b2355c76"
    },
    {
      "cell_type": "markdown",
      "metadata": {
        "id": "770701f4"
      },
      "source": [
        "As you can see by looking at the loss, the model still needs more time to converge to a minimum.\n",
        "However, we keep the training short and keeping in mind that the vectors can improve we look at some examples.\n",
        "Take the average, transpose, and normalize the matrix."
      ],
      "id": "770701f4"
    },
    {
      "cell_type": "code",
      "execution_count": null,
      "metadata": {
        "id": "b272ab8a"
      },
      "outputs": [],
      "source": [
        "from numpy.linalg import norm\n",
        "# take the average of the learned vector as the final vector\n",
        "W = np.add(W_center, W_context)/2\n",
        "W = W.T\n",
        "W = W/norm(W)"
      ],
      "id": "b272ab8a"
    },
    {
      "cell_type": "code",
      "execution_count": null,
      "metadata": {
        "id": "334aff38",
        "colab": {
          "base_uri": "https://localhost:8080/"
        },
        "outputId": "76375bba-381c-46b0-ef01-3cdcf901ec6c"
      },
      "outputs": [
        {
          "output_type": "execute_result",
          "data": {
            "text/plain": [
              "(100, 17234)"
            ]
          },
          "metadata": {},
          "execution_count": 21
        }
      ],
      "source": [
        "W.shape"
      ],
      "id": "334aff38"
    },
    {
      "cell_type": "markdown",
      "metadata": {
        "id": "d106c990"
      },
      "source": [
        "Lets create a dictionary that points from a word to its vector."
      ],
      "id": "d106c990"
    },
    {
      "cell_type": "code",
      "execution_count": null,
      "metadata": {
        "id": "db81b66e"
      },
      "outputs": [],
      "source": [
        "# Generates word to word embedding dictionary\n",
        "word_to_vector = {}\n",
        "for word in word_to_id.keys():\n",
        "    word_to_vector[word] = W[:, word_to_id[word]]"
      ],
      "id": "db81b66e"
    },
    {
      "cell_type": "markdown",
      "source": [
        "####${\\color{red}{Comments\\ 4.3}}$\n",
        "\n",
        "${\\color{red}{⚠️Comments\\ begin⚠️}}$\n",
        "\n",
        "\n",
        "```\n",
        "cross-feedback comment section\n",
        "```\n",
        "\n",
        "\n",
        "${\\color{red}{⚠️Comments\\ end⚠️}}$"
      ],
      "metadata": {
        "id": "guKG_LCyxYwb"
      },
      "id": "guKG_LCyxYwb"
    },
    {
      "cell_type": "markdown",
      "metadata": {
        "id": "11c86eeb"
      },
      "source": [
        "### Subtask 4: Comparison with Skip-gram\n"
      ],
      "id": "11c86eeb"
    },
    {
      "cell_type": "markdown",
      "metadata": {
        "id": "e8fd8763"
      },
      "source": [
        "Let's compute the similarities for the same words in Task 1 to compare the results with word2vec. This time you need to implement the similarity function, based on the dot product. To get to the topk you need to sort the elements based on their similarity.\n",
        "\n"
      ],
      "id": "e8fd8763"
    },
    {
      "cell_type": "markdown",
      "source": [
        "✅ Point distribution ✅\n",
        "- 0.5 points if the dot product is used and some kind of argmax\n",
        "- 0.25 points if `grub` or `speech` or `follow` or `paleonthologist` is one of the most similiar one to `central_perk`\n",
        "- 0.25 points if `approvingly` or `sleeperson` or `perceived` or `lottery`  is one of the most similiar one to `joey`"
      ],
      "metadata": {
        "id": "SsaAHvIqyAcm"
      },
      "id": "SsaAHvIqyAcm"
    },
    {
      "cell_type": "code",
      "execution_count": null,
      "metadata": {
        "id": "a2f3f722"
      },
      "outputs": [],
      "source": [
        "from numpy import dot\n",
        "\n",
        "def most_similar(word_vector,all_vectors,id_to_word, topk): # 1 point\n",
        "    \"\"\"\n",
        "    function to find the topk most similar words to a word vector\n",
        "    word_vector: vector of the search word\n",
        "    all_vectors: all word vectors\n",
        "    id_to_word: dictionary from id to words\n",
        "    topk: number of elements to return\n",
        "    \"\"\"\n",
        "    sim= dot(word_vector, all_vectors) # vectors are normalized so the dot product is equal to cosine similarity\n",
        "    words_ids=np.argpartition(sim,-topk)[-topk:]\n",
        "    np.argmax(sim)\n",
        "    word =[(id_to_word[i],sim[i]) for i in words_ids]\n",
        "    word.reverse()\n",
        "    return word"
      ],
      "id": "a2f3f722"
    },
    {
      "cell_type": "code",
      "execution_count": null,
      "metadata": {
        "id": "53c1a84a",
        "colab": {
          "base_uri": "https://localhost:8080/"
        },
        "outputId": "6a8ded51-dc13-4c7b-93e0-a37ac2f90145"
      },
      "outputs": [
        {
          "output_type": "execute_result",
          "data": {
            "text/plain": [
              "[('central_perk', 5.977919192387161e-05),\n",
              " ('grub', 2.4675323918191684e-05),\n",
              " ('follow', 2.2840512822683808e-05),\n",
              " ('speech', 2.2740853591069154e-05),\n",
              " ('paleonthologist', 2.202024243400331e-05)]"
            ]
          },
          "metadata": {},
          "execution_count": 25
        }
      ],
      "source": [
        "most_similar(word_to_vector[\"central_perk\"],W,id_to_word,5)"
      ],
      "id": "53c1a84a"
    },
    {
      "cell_type": "code",
      "execution_count": null,
      "metadata": {
        "id": "2c8e8519",
        "colab": {
          "base_uri": "https://localhost:8080/"
        },
        "outputId": "8963b98f-2dc3-4739-9f3d-312351ea013e"
      },
      "outputs": [
        {
          "output_type": "execute_result",
          "data": {
            "text/plain": [
              "[('approvingly', 2.2121175411037674e-06),\n",
              " ('sleeperson', 2.2287440098693597e-06),\n",
              " ('perceived', 2.200112058361667e-06),\n",
              " ('lottery', 2.175875925285404e-06),\n",
              " ('deluxe', 2.164907674345203e-06)]"
            ]
          },
          "metadata": {},
          "execution_count": 26
        }
      ],
      "source": [
        "most_similar(word_to_vector[\"joey\"],W,id_to_word,5)"
      ],
      "id": "2c8e8519"
    },
    {
      "cell_type": "markdown",
      "metadata": {
        "id": "6bdcd5f5"
      },
      "source": [
        "Compute the similarity between the `('rachel', 'mrs_green')`, `('smelly_cat', 'song')` and `('ross', 'spaceship')`."
      ],
      "id": "6bdcd5f5"
    },
    {
      "cell_type": "markdown",
      "source": [
        "✅ Point distribution ✅\n",
        "- 0.5 points if they use dot product for similiarity\n",
        "- 0.25 points if the absolute value of  `ross` to `spaceship` is lower than all others"
      ],
      "metadata": {
        "id": "nQTTfmZG6N34"
      },
      "id": "nQTTfmZG6N34"
    },
    {
      "cell_type": "code",
      "execution_count": null,
      "metadata": {
        "id": "e77f01a5",
        "colab": {
          "base_uri": "https://localhost:8080/"
        },
        "outputId": "9db21378-f5aa-4185-d607-3e4b8d7a6cd2"
      },
      "outputs": [
        {
          "output_type": "execute_result",
          "data": {
            "text/plain": [
              "-1.0040189369103668e-06"
            ]
          },
          "metadata": {},
          "execution_count": 27
        }
      ],
      "source": [
        "word_to_vector['rachel'].dot(word_to_vector['mrs_green']) #0.25 point"
      ],
      "id": "e77f01a5"
    },
    {
      "cell_type": "code",
      "execution_count": null,
      "metadata": {
        "id": "d1def847",
        "colab": {
          "base_uri": "https://localhost:8080/"
        },
        "outputId": "69053af1-24ee-41b9-eb98-2300dab1d19f"
      },
      "outputs": [
        {
          "output_type": "execute_result",
          "data": {
            "text/plain": [
              "3.871731423755601e-06"
            ]
          },
          "metadata": {},
          "execution_count": 28
        }
      ],
      "source": [
        "word_to_vector['smelly_cat'].dot(word_to_vector['song']) #0.25 point"
      ],
      "id": "d1def847"
    },
    {
      "cell_type": "code",
      "execution_count": null,
      "metadata": {
        "id": "933ca3ac",
        "colab": {
          "base_uri": "https://localhost:8080/"
        },
        "outputId": "eefb452f-55a3-47e4-ccd3-e6b051322fa0"
      },
      "outputs": [
        {
          "output_type": "execute_result",
          "data": {
            "text/plain": [
              "7.156815602953935e-07"
            ]
          },
          "metadata": {},
          "execution_count": 29
        }
      ],
      "source": [
        "word_to_vector['ross'].dot(word_to_vector['spaceship']) #0.25 point"
      ],
      "id": "933ca3ac"
    },
    {
      "cell_type": "markdown",
      "metadata": {
        "id": "ecace919"
      },
      "source": [
        "If you see your results are not as meaningful as the gensim model, do not be discouraged. With better optimization and longer training the results should improve. If you have time play around a bit more with your model and see if you can generate more meaningful vectors."
      ],
      "id": "ecace919"
    },
    {
      "cell_type": "markdown",
      "source": [
        "####${\\color{red}{Comments\\ 4.4}}$\n",
        "\n",
        "${\\color{red}{⚠️Comments\\ begin⚠️}}$\n",
        "\n",
        "\n",
        "```\n",
        "cross-feedback comment section\n",
        "```\n",
        "\n",
        "\n",
        "${\\color{red}{⚠️Comments\\ end⚠️}}$"
      ],
      "metadata": {
        "id": "O0RktPntxbco"
      },
      "id": "O0RktPntxbco"
    },
    {
      "cell_type": "code",
      "source": [],
      "metadata": {
        "id": "X661TkR7xcRu"
      },
      "id": "X661TkR7xcRu",
      "execution_count": null,
      "outputs": []
    }
  ],
  "metadata": {
    "colab": {
      "provenance": [],
      "toc_visible": true
    },
    "kernelspec": {
      "display_name": "Python 3",
      "name": "python3"
    },
    "language_info": {
      "codemirror_mode": {
        "name": "ipython",
        "version": 3
      },
      "file_extension": ".py",
      "mimetype": "text/x-python",
      "name": "python",
      "nbconvert_exporter": "python",
      "pygments_lexer": "ipython3",
      "version": "3.11.5"
    }
  },
  "nbformat": 4,
  "nbformat_minor": 5
}