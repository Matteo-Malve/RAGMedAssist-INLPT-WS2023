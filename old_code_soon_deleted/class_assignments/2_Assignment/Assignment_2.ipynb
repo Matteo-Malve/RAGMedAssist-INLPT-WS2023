{
  "cells": [
    {
      "cell_type": "markdown",
      "source": [
        "##**Group 18**\n",
        "**Team Members:**\n",
        "- Sandra Friebolin\n",
        "- Matteo Malvestiti\n",
        "- Anthony Owuzo Akpenyi\n",
        "- Yusuf Sancar Berber\n"
      ],
      "metadata": {
        "id": "Xn86Q-qg7Pf3"
      },
      "id": "Xn86Q-qg7Pf3"
    },
    {
      "cell_type": "markdown",
      "id": "be9f7653",
      "metadata": {
        "id": "be9f7653"
      },
      "source": [
        "**Heidelberg University**\n",
        "\n",
        "**Data Science  Group**\n",
        "    \n",
        "Prof. Dr. Michael Gertz  \n",
        "\n",
        "Ashish Chouhan, Satya Almasian, John Ziegler, Jayson Salazar, Nicolas Reuter\n",
        "    \n",
        "November 13, 2023\n",
        "    \n",
        "Natural Language Processing with Transformers\n",
        "\n",
        "Winter Semster 2023/2024     \n",
        "***"
      ]
    },
    {
      "cell_type": "markdown",
      "id": "258e9648",
      "metadata": {
        "id": "258e9648"
      },
      "source": [
        "# **Assignment 2: “Sequence Models”**\n",
        "**Due**: Monday, November 27, 2pm, via [Moodle](https://moodle.uni-heidelberg.de/course/view.php?id=19251)\n",
        "\n"
      ]
    },
    {
      "cell_type": "markdown",
      "id": "fc27ad9e",
      "metadata": {
        "id": "fc27ad9e"
      },
      "source": [
        "### **Submission Guidelines**\n",
        "\n",
        "- Solutions need to be uploaded as a **single** Jupyter notebook. You will find several pre-filled code segments in the notebook, your task is to fill in the missing cells.\n",
        "- For the written solution, use LaTeX in markdown inside the same notebook. Do **not** hand in a separate file for it.\n",
        "- Download the .zip file containing the dataset but do **not** upload it with your solution.\n",
        "- It is sufficient if one person per group uploads the solution to Moodle, but make sure that the complete names of all team members are given in the notebook.\n",
        "\n",
        "***"
      ]
    },
    {
      "cell_type": "markdown",
      "id": "e322e8b0",
      "metadata": {
        "id": "e322e8b0"
      },
      "source": [
        "## **Task 1: Part-of-Speech Tagging with a Bidirectional LSTM**  (2+4+5=11 points)"
      ]
    },
    {
      "cell_type": "markdown",
      "id": "b4ca26ac",
      "metadata": {
        "id": "b4ca26ac"
      },
      "source": [
        "In this task we will be building a sequence tagger that produces an output for every element in an input sequence, using `PyTorch` and `TorchText`, where `TorchText` consists of data processing utilities and popular datasets for natural language.\n",
        "\n",
        "\n",
        "*   **input:** a sequence of text\n",
        "*   **output:** part-of-speech (POS) tag for each token in the input text\n",
        "\n",
        "We tackle this task using a multi-layer bi-directional LSTM (BiLSTM) to predict POS tags using the [Universal Dependencies](https://universaldependencies.org/) English Web Treebank (UDPOS) dataset. This dataset is contained in the `TorchText` library and we do not require an external file for it. The dataset in  `TorchText`  has two different sets of tags, universal dependency (UD) tags and Penn Treebank (PTB) tags. We only focus on the UD tags for this assignment."
      ]
    },
    {
      "cell_type": "code",
      "execution_count": 1,
      "id": "nnBfLC1P5QXw",
      "metadata": {
        "id": "nnBfLC1P5QXw",
        "colab": {
          "base_uri": "https://localhost:8080/"
        },
        "outputId": "0ca07465-ea95-46db-d3e8-7a3cf3724f88"
      },
      "outputs": [
        {
          "output_type": "stream",
          "name": "stdout",
          "text": [
            "Requirement already satisfied: portalocker in /usr/local/lib/python3.10/dist-packages (2.8.2)\n"
          ]
        }
      ],
      "source": [
        "%pip install portalocker"
      ]
    },
    {
      "cell_type": "code",
      "execution_count": 2,
      "id": "nT5geerO7d1P",
      "metadata": {
        "id": "nT5geerO7d1P",
        "colab": {
          "base_uri": "https://localhost:8080/"
        },
        "outputId": "49e70452-7f94-4b59-d3f0-89afbbc7c03f"
      },
      "outputs": [
        {
          "output_type": "stream",
          "name": "stdout",
          "text": [
            "Requirement already satisfied: torchdata in /usr/local/lib/python3.10/dist-packages (0.7.0)\n",
            "Requirement already satisfied: urllib3>=1.25 in /usr/local/lib/python3.10/dist-packages (from torchdata) (2.0.7)\n",
            "Requirement already satisfied: requests in /usr/local/lib/python3.10/dist-packages (from torchdata) (2.31.0)\n",
            "Requirement already satisfied: torch==2.1.0 in /usr/local/lib/python3.10/dist-packages (from torchdata) (2.1.0+cu118)\n",
            "Requirement already satisfied: filelock in /usr/local/lib/python3.10/dist-packages (from torch==2.1.0->torchdata) (3.13.1)\n",
            "Requirement already satisfied: typing-extensions in /usr/local/lib/python3.10/dist-packages (from torch==2.1.0->torchdata) (4.5.0)\n",
            "Requirement already satisfied: sympy in /usr/local/lib/python3.10/dist-packages (from torch==2.1.0->torchdata) (1.12)\n",
            "Requirement already satisfied: networkx in /usr/local/lib/python3.10/dist-packages (from torch==2.1.0->torchdata) (3.2.1)\n",
            "Requirement already satisfied: jinja2 in /usr/local/lib/python3.10/dist-packages (from torch==2.1.0->torchdata) (3.1.2)\n",
            "Requirement already satisfied: fsspec in /usr/local/lib/python3.10/dist-packages (from torch==2.1.0->torchdata) (2023.6.0)\n",
            "Requirement already satisfied: triton==2.1.0 in /usr/local/lib/python3.10/dist-packages (from torch==2.1.0->torchdata) (2.1.0)\n",
            "Requirement already satisfied: charset-normalizer<4,>=2 in /usr/local/lib/python3.10/dist-packages (from requests->torchdata) (3.3.2)\n",
            "Requirement already satisfied: idna<4,>=2.5 in /usr/local/lib/python3.10/dist-packages (from requests->torchdata) (3.4)\n",
            "Requirement already satisfied: certifi>=2017.4.17 in /usr/local/lib/python3.10/dist-packages (from requests->torchdata) (2023.7.22)\n",
            "Requirement already satisfied: MarkupSafe>=2.0 in /usr/local/lib/python3.10/dist-packages (from jinja2->torch==2.1.0->torchdata) (2.1.3)\n",
            "Requirement already satisfied: mpmath>=0.19 in /usr/local/lib/python3.10/dist-packages (from sympy->torch==2.1.0->torchdata) (1.3.0)\n"
          ]
        }
      ],
      "source": [
        "%pip install torchdata"
      ]
    },
    {
      "cell_type": "code",
      "execution_count": 3,
      "id": "_pIBtTh3sOQe",
      "metadata": {
        "id": "_pIBtTh3sOQe",
        "colab": {
          "base_uri": "https://localhost:8080/"
        },
        "outputId": "d16ea167-ea5c-414f-c15d-fc7e52aab5d8"
      },
      "outputs": [
        {
          "output_type": "stream",
          "name": "stdout",
          "text": [
            "Requirement already satisfied: torchtext in /usr/local/lib/python3.10/dist-packages (0.16.0)\n",
            "Requirement already satisfied: tqdm in /usr/local/lib/python3.10/dist-packages (from torchtext) (4.66.1)\n",
            "Requirement already satisfied: requests in /usr/local/lib/python3.10/dist-packages (from torchtext) (2.31.0)\n",
            "Requirement already satisfied: torch==2.1.0 in /usr/local/lib/python3.10/dist-packages (from torchtext) (2.1.0+cu118)\n",
            "Requirement already satisfied: numpy in /usr/local/lib/python3.10/dist-packages (from torchtext) (1.23.5)\n",
            "Requirement already satisfied: torchdata==0.7.0 in /usr/local/lib/python3.10/dist-packages (from torchtext) (0.7.0)\n",
            "Requirement already satisfied: filelock in /usr/local/lib/python3.10/dist-packages (from torch==2.1.0->torchtext) (3.13.1)\n",
            "Requirement already satisfied: typing-extensions in /usr/local/lib/python3.10/dist-packages (from torch==2.1.0->torchtext) (4.5.0)\n",
            "Requirement already satisfied: sympy in /usr/local/lib/python3.10/dist-packages (from torch==2.1.0->torchtext) (1.12)\n",
            "Requirement already satisfied: networkx in /usr/local/lib/python3.10/dist-packages (from torch==2.1.0->torchtext) (3.2.1)\n",
            "Requirement already satisfied: jinja2 in /usr/local/lib/python3.10/dist-packages (from torch==2.1.0->torchtext) (3.1.2)\n",
            "Requirement already satisfied: fsspec in /usr/local/lib/python3.10/dist-packages (from torch==2.1.0->torchtext) (2023.6.0)\n",
            "Requirement already satisfied: triton==2.1.0 in /usr/local/lib/python3.10/dist-packages (from torch==2.1.0->torchtext) (2.1.0)\n",
            "Requirement already satisfied: urllib3>=1.25 in /usr/local/lib/python3.10/dist-packages (from torchdata==0.7.0->torchtext) (2.0.7)\n",
            "Requirement already satisfied: charset-normalizer<4,>=2 in /usr/local/lib/python3.10/dist-packages (from requests->torchtext) (3.3.2)\n",
            "Requirement already satisfied: idna<4,>=2.5 in /usr/local/lib/python3.10/dist-packages (from requests->torchtext) (3.4)\n",
            "Requirement already satisfied: certifi>=2017.4.17 in /usr/local/lib/python3.10/dist-packages (from requests->torchtext) (2023.7.22)\n",
            "Requirement already satisfied: MarkupSafe>=2.0 in /usr/local/lib/python3.10/dist-packages (from jinja2->torch==2.1.0->torchtext) (2.1.3)\n",
            "Requirement already satisfied: mpmath>=0.19 in /usr/local/lib/python3.10/dist-packages (from sympy->torch==2.1.0->torchtext) (1.3.0)\n"
          ]
        }
      ],
      "source": [
        "%pip install torchtext"
      ]
    },
    {
      "cell_type": "code",
      "execution_count": 4,
      "id": "787e2059",
      "metadata": {
        "id": "787e2059",
        "ExecuteTime": {
          "end_time": "2023-11-25T09:39:34.094531Z",
          "start_time": "2023-11-25T09:39:32.917177Z"
        }
      },
      "outputs": [],
      "source": [
        "import torch\n",
        "import torch.nn as nn\n",
        "import torch.optim as optim\n",
        "\n",
        "from torchtext.datasets import UDPOS\n",
        "\n",
        "import numpy as np\n",
        "\n",
        "import time\n",
        "import random\n",
        "from torchtext.vocab import build_vocab_from_iterator\n",
        "from torch.utils.data import DataLoader\n",
        "device = torch.device('cuda' if torch.cuda.is_available() else 'cpu')\n",
        "\n",
        "\n",
        "# for reproducibility\n",
        "random.seed(77)\n",
        "np.random.seed(77)\n",
        "torch.manual_seed(77)\n",
        "torch.backends.cudnn.deterministic = True"
      ]
    },
    {
      "cell_type": "markdown",
      "id": "fc29cb37",
      "metadata": {
        "id": "fc29cb37"
      },
      "source": [
        "### Subtask 1: Data Analysis\n",
        "The very basic components of the torchtext library include `vocab`, `word vectors`, and `tokenizer`. Those are the basic data processing building blocks for the raw text string.\n",
        "In this case, we use the tokenizer and the vocabulary. Use the `build_vocab_from_iterator` to create the vocabulary for the text field and add the `<unk>` and `<pad>` tokens to it. Use a minimal frequency of `2`.\n",
        "Also create a vocabulary for the labels (tag field). However, since the tags are predefined elements, you will not need an `<unk>` token.\n",
        " This dataset actually has two different sets of tags, universal dependency (UD) tags and Penn Treebank (PTB) tags. We train our model on the UD tags, which is the second element on the list of outputs (example below).\n"
      ]
    },
    {
      "cell_type": "code",
      "execution_count": 5,
      "id": "IlEFywat4Gva",
      "metadata": {
        "id": "IlEFywat4Gva",
        "colab": {
          "base_uri": "https://localhost:8080/"
        },
        "outputId": "44332050-2274-46e1-ef7b-017d5d061426",
        "ExecuteTime": {
          "end_time": "2023-11-25T09:39:34.107425Z",
          "start_time": "2023-11-25T09:39:34.094213Z"
        }
      },
      "outputs": [
        {
          "output_type": "stream",
          "name": "stdout",
          "text": [
            "[['Al', '-', 'Zaman', ':', 'American', 'forces', 'killed', 'Shaikh', 'Abdullah', 'al', '-', 'Ani', ',', 'the', 'preacher', 'at', 'the', 'mosque', 'in', 'the', 'town', 'of', 'Qaim', ',', 'near', 'the', 'Syrian', 'border', '.'], ['PROPN', 'PUNCT', 'PROPN', 'PUNCT', 'ADJ', 'NOUN', 'VERB', 'PROPN', 'PROPN', 'PROPN', 'PUNCT', 'PROPN', 'PUNCT', 'DET', 'NOUN', 'ADP', 'DET', 'NOUN', 'ADP', 'DET', 'NOUN', 'ADP', 'PROPN', 'PUNCT', 'ADP', 'DET', 'ADJ', 'NOUN', 'PUNCT'], ['NNP', 'HYPH', 'NNP', ':', 'JJ', 'NNS', 'VBD', 'NNP', 'NNP', 'NNP', 'HYPH', 'NNP', ',', 'DT', 'NN', 'IN', 'DT', 'NN', 'IN', 'DT', 'NN', 'IN', 'NNP', ',', 'IN', 'DT', 'JJ', 'NN', '.']]\n"
          ]
        }
      ],
      "source": [
        "train_iter = iter(UDPOS(split=\"train\"))\n",
        "print(next(train_iter))"
      ]
    },
    {
      "cell_type": "code",
      "execution_count": 6,
      "id": "7HJWFvb3AgTI",
      "metadata": {
        "id": "7HJWFvb3AgTI",
        "colab": {
          "base_uri": "https://localhost:8080/"
        },
        "outputId": "97033213-ad18-411a-df73-c7dba190e5d9",
        "ExecuteTime": {
          "end_time": "2023-11-25T09:39:34.587360Z",
          "start_time": "2023-11-25T09:39:34.102699Z"
        }
      },
      "outputs": [
        {
          "output_type": "stream",
          "name": "stdout",
          "text": [
            "Number of training examples: 12543\n",
            "Number of validation examples: 2002\n",
            "Number of testing examples: 2077\n"
          ]
        }
      ],
      "source": [
        "print(f\"Number of training examples: {len(list(UDPOS(split='train')))}\")\n",
        "print(f\"Number of validation examples: {len(list(UDPOS(split='valid')))}\")\n",
        "print(f\"Number of testing examples: {len(list(UDPOS(split='test')))}\")"
      ]
    },
    {
      "cell_type": "markdown",
      "id": "RaAW09-n_5DC",
      "metadata": {
        "id": "RaAW09-n_5DC"
      },
      "source": [
        "Note that the data is already tokenized!"
      ]
    },
    {
      "cell_type": "code",
      "execution_count": 7,
      "id": "rcG-FcDu5DcA",
      "metadata": {
        "id": "rcG-FcDu5DcA",
        "colab": {
          "base_uri": "https://localhost:8080/"
        },
        "outputId": "fc2eb982-1af8-4254-9ff7-d82671b58f54",
        "ExecuteTime": {
          "end_time": "2023-11-25T09:39:35.444463Z",
          "start_time": "2023-11-25T09:39:34.567485Z"
        }
      },
      "outputs": [
        {
          "output_type": "stream",
          "name": "stdout",
          "text": [
            "[1, 0, 708]\n",
            "[0, 2, 8]\n"
          ]
        }
      ],
      "source": [
        "train_iter = UDPOS(split=\"train\") # to get the training set\n",
        "\n",
        "### your code (make sure pad has id of 0) ####\n",
        "# Function to yield tokens from dataset\n",
        "def yield_tokens(data_iter, index):\n",
        "    for data in data_iter:\n",
        "        yield data[index]\n",
        "\n",
        "# Build vocabulary for text field\n",
        "# Ensure <pad> is the first special token so it gets index 0\n",
        "vocab = build_vocab_from_iterator(yield_tokens(train_iter, 0), min_freq=2, specials=['<pad>', '<unk>'])\n",
        "vocab.set_default_index(vocab['<unk>'])\n",
        "\n",
        "# Reset train_iter for UD tags\n",
        "train_iter = UDPOS(split=\"train\")\n",
        "\n",
        "# Build vocabulary for UD tags\n",
        "# No need to set <pad> index as it's the only special token and will automatically get index 0\n",
        "ud_vocab = build_vocab_from_iterator(yield_tokens(train_iter, 1), specials=['<pad>'])\n",
        "ud_vocab.set_default_index(ud_vocab['<pad>'])\n",
        "\n",
        "#test\n",
        "print(vocab([\"<unk>\", \"<pad>\", \"news\"]))\n",
        "print(ud_vocab([\"<pad>\", \"PUNCT\", \"ADJ\"]))"
      ]
    },
    {
      "cell_type": "markdown",
      "id": "nzalgc92j2mG",
      "metadata": {
        "id": "nzalgc92j2mG"
      },
      "source": [
        "Prepare a text processing pipeline that takes raw input and labels and converts them to ids."
      ]
    },
    {
      "cell_type": "code",
      "execution_count": 8,
      "id": "BDqKYQnRj2D8",
      "metadata": {
        "id": "BDqKYQnRj2D8",
        "ExecuteTime": {
          "end_time": "2023-11-25T09:39:35.445901Z",
          "start_time": "2023-11-25T09:39:35.389375Z"
        }
      },
      "outputs": [],
      "source": [
        "text_pipeline = lambda x: vocab(x)\n",
        "label_pipeline = lambda x: ud_vocab(x)"
      ]
    },
    {
      "cell_type": "code",
      "execution_count": 9,
      "id": "wg36B2Z_Hdi0",
      "metadata": {
        "id": "wg36B2Z_Hdi0",
        "colab": {
          "base_uri": "https://localhost:8080/"
        },
        "outputId": "6e57594e-7406-45f3-96cf-f3db97359962",
        "ExecuteTime": {
          "end_time": "2023-11-25T09:39:35.446258Z",
          "start_time": "2023-11-25T09:39:35.398694Z"
        }
      },
      "outputs": [
        {
          "output_type": "stream",
          "name": "stdout",
          "text": [
            "[3, 9271, 35, 9097, 0, 1]\n",
            "[6, 8, 1, 2]\n"
          ]
        }
      ],
      "source": [
        "print(text_pipeline(['the', 'preacher', 'at', 'mosque', \"<pad>\",\"pppp\"])) #should output [3, 9271, 35, 9097, 0, 1]\n",
        "print(label_pipeline(['DET', 'ADJ', 'NOUN', 'PUNCT'])) # should output [6, 8, 1, 2]"
      ]
    },
    {
      "cell_type": "code",
      "execution_count": 10,
      "id": "cjn1qH2dHoaa",
      "metadata": {
        "id": "cjn1qH2dHoaa",
        "colab": {
          "base_uri": "https://localhost:8080/"
        },
        "outputId": "eedb54c4-f500-4837-843e-57322f8fba45",
        "ExecuteTime": {
          "end_time": "2023-11-25T09:39:35.446810Z",
          "start_time": "2023-11-25T09:39:35.406109Z"
        }
      },
      "outputs": [
        {
          "output_type": "stream",
          "name": "stdout",
          "text": [
            "Unique tokens in input vocabulary: 9875\n",
            "Unique tokens in UD vocabulary: 18\n"
          ]
        }
      ],
      "source": [
        "print(f\"Unique tokens in input vocabulary: {len(vocab)}\")\n",
        "print(f\"Unique tokens in UD vocabulary: {len(ud_vocab)}\")"
      ]
    },
    {
      "cell_type": "markdown",
      "id": "FUnDiAOW-N5S",
      "metadata": {
        "id": "FUnDiAOW-N5S"
      },
      "source": [
        "Write a custom function for the dataloader that applies the text and label pipeline and pads the sequences to have equal lengths."
      ]
    },
    {
      "cell_type": "code",
      "execution_count": 11,
      "id": "0aN6s1UhoRhK",
      "metadata": {
        "id": "0aN6s1UhoRhK",
        "ExecuteTime": {
          "end_time": "2023-11-25T09:39:35.447170Z",
          "start_time": "2023-11-25T09:39:35.425760Z"
        }
      },
      "outputs": [],
      "source": [
        "from functools import partial\n",
        "from torch import tensor\n",
        "\n",
        "def collate_batch(batch, pad_token_ix, pad_token_ix_ud):\n",
        "    text_list, label_list = [], []\n",
        "\n",
        "    for (_text, _label, _) in batch:\n",
        "        processed_text = text_pipeline(_text)\n",
        "        processed_label = label_pipeline(_label)\n",
        "        text_list.append(tensor(processed_text, dtype=torch.int64))\n",
        "        label_list.append(tensor(processed_label, dtype=torch.int64))\n",
        "\n",
        "    # Find the maximum length in the batch for both text and labels\n",
        "    max_length_text = max([len(x) for x in text_list])\n",
        "    max_length_label = max([len(y) for y in label_list])\n",
        "\n",
        "    # Pad the sequences manually\n",
        "    padded_text_list = [torch.cat([x, torch.full((max_length_text - len(x),), pad_token_ix, dtype=torch.int64)]) for x in text_list]\n",
        "    padded_label_list = [torch.cat([y, torch.full((max_length_label - len(y),), pad_token_ix_ud, dtype=torch.int64)]) for y in label_list]\n",
        "\n",
        "    # Stack padded sequences\n",
        "    x_padded = torch.stack(padded_text_list)\n",
        "    y_padded = torch.stack(padded_label_list)\n",
        "\n",
        "    return x_padded.to(device), y_padded.to(device)\n",
        "\n",
        "collate_fn = partial(collate_batch, pad_token_ix=vocab['<pad>'], pad_token_ix_ud=ud_vocab['<pad>'])\n",
        "\n",
        "from torch.utils.data import DataLoader\n",
        "\n",
        "train_dataloader = DataLoader(\n",
        "    UDPOS(split=\"train\"), batch_size=128, shuffle=True, collate_fn=collate_fn\n",
        ")\n",
        "valid_dataloader = DataLoader(\n",
        "    UDPOS(split=\"valid\"), batch_size=128, shuffle=True, collate_fn=collate_fn\n",
        ")\n",
        "test_dataloader = DataLoader(\n",
        "    UDPOS(split=\"test\"), batch_size=128, shuffle=True, collate_fn=collate_fn\n",
        ")"
      ]
    },
    {
      "cell_type": "code",
      "execution_count": 12,
      "id": "2X8ZZ0J4oek_",
      "metadata": {
        "id": "2X8ZZ0J4oek_",
        "colab": {
          "base_uri": "https://localhost:8080/"
        },
        "outputId": "35fa4b1b-e1e2-4795-f5a2-0881bef456a7",
        "ExecuteTime": {
          "end_time": "2023-11-25T09:39:35.790028Z",
          "start_time": "2023-11-25T09:39:35.443567Z"
        }
      },
      "outputs": [
        {
          "output_type": "stream",
          "name": "stdout",
          "text": [
            "torch.Size([128, 57])\n",
            "torch.Size([128, 57])\n",
            "tensor([1832,   13,   17,  488, 2837,    3, 3074,    1, 5532,  512,   13,   23,\n",
            "          56,  143,    5,  170,  154,  273,   39,  157,  971,   44, 2212,  648,\n",
            "           2,    0,    0,    0,    0,    0,    0,    0,    0,    0,    0,    0,\n",
            "           0,    0,    0,    0,    0,    0,    0,    0,    0,    0,    0,    0,\n",
            "           0,    0,    0,    0,    0,    0,    0,    0,    0], device='cuda:0')\n",
            "tensor([14,  4,  9, 12,  3,  6,  1,  1, 10, 17,  4,  3, 10, 13,  5, 13,  1, 10,\n",
            "        14,  9,  3,  5,  7,  7,  2,  0,  0,  0,  0,  0,  0,  0,  0,  0,  0,  0,\n",
            "         0,  0,  0,  0,  0,  0,  0,  0,  0,  0,  0,  0,  0,  0,  0,  0,  0,  0,\n",
            "         0,  0,  0], device='cuda:0')\n"
          ]
        }
      ],
      "source": [
        "for idx, (label, text) in enumerate(train_dataloader):\n",
        "      print(label.shape)\n",
        "      print(text.shape)\n",
        "      print(label[0])\n",
        "      print(text[0])\n",
        "      break"
      ]
    },
    {
      "cell_type": "markdown",
      "id": "jDy_wvjR_1Sg",
      "metadata": {
        "id": "jDy_wvjR_1Sg"
      },
      "source": [
        "Let's take a closer look at the data and the distribution of tags.\n",
        "Implement `tag_percentage`:\n",
        "\n",
        "*   Use the `collection.counter` to count the unique instances of each tag.\n",
        "\n",
        "*    Compute the percentage of each tag in the entire set, by using the counted frequencies.\n",
        "\n"
      ]
    },
    {
      "cell_type": "code",
      "execution_count": 13,
      "id": "273JqNZn_rRT",
      "metadata": {
        "id": "273JqNZn_rRT",
        "ExecuteTime": {
          "end_time": "2023-11-25T09:39:35.795344Z",
          "start_time": "2023-11-25T09:39:35.787656Z"
        }
      },
      "outputs": [],
      "source": [
        "from collections import Counter\n",
        "\n",
        "def tag_percentage(training_iterator):\n",
        "    counter = Counter()\n",
        "    #### your code to count the number of tags\n",
        "    for (_text, tags, _) in training_iterator:\n",
        "        counter.update(tags)    #update counter with batch's tags\n",
        "\n",
        "    ### compute the tag percentages based on the counter object\n",
        "    total_tags = sum(counter.values())\n",
        "    tag_p = [(tag, count, (count/total_tags)) for tag, count in counter.items()]   #precentages\n",
        "\n",
        "    return tag_p"
      ]
    },
    {
      "cell_type": "code",
      "execution_count": 14,
      "id": "fWzoEd7h_qRw",
      "metadata": {
        "id": "fWzoEd7h_qRw",
        "colab": {
          "base_uri": "https://localhost:8080/"
        },
        "outputId": "4ff4a4c5-8140-4f38-a0f4-dd2c869c0b30",
        "ExecuteTime": {
          "end_time": "2023-11-25T09:39:36.160655Z",
          "start_time": "2023-11-25T09:39:35.790934Z"
        }
      },
      "outputs": [
        {
          "output_type": "stream",
          "name": "stdout",
          "text": [
            "Tag\t\tCount\t\tPercentage\n",
            "\n",
            "PROPN\t\t12946\t\t 6.3%\n",
            "PUNCT\t\t23679\t\t11.6%\n",
            "ADJ\t\t12477\t\t 6.1%\n",
            "NOUN\t\t34781\t\t17.0%\n",
            "VERB\t\t23081\t\t11.3%\n",
            "DET\t\t16285\t\t 8.0%\n",
            "ADP\t\t17638\t\t 8.6%\n",
            "AUX\t\t12343\t\t 6.0%\n",
            "PRON\t\t18577\t\t 9.1%\n",
            "PART\t\t5567\t\t 2.7%\n",
            "SCONJ\t\t3843\t\t 1.9%\n",
            "NUM\t\t3999\t\t 2.0%\n",
            "ADV\t\t10548\t\t 5.2%\n",
            "CCONJ\t\t6707\t\t 3.3%\n",
            "X\t\t847\t\t 0.4%\n",
            "INTJ\t\t688\t\t 0.3%\n",
            "SYM\t\t599\t\t 0.3%\n"
          ]
        }
      ],
      "source": [
        "print(\"Tag\\t\\tCount\\t\\tPercentage\\n\")\n",
        "\n",
        "for tag, count, percent in tag_percentage(UDPOS(split='train')):\n",
        "    print(f\"{tag}\\t\\t{count}\\t\\t{percent*100:4.1f}%\")"
      ]
    },
    {
      "cell_type": "markdown",
      "id": "GKTQL0EsxSUU",
      "metadata": {
        "id": "GKTQL0EsxSUU"
      },
      "source": [
        "####${\\color{red}{Comments\\ 1.1}}$\n",
        "\n",
        "${\\color{red}{⚠️Comments\\ begin⚠️}}$\n",
        "\n",
        "\n",
        "```\n",
        "cross-feedback comment section\n",
        "```\n",
        "\n",
        "\n",
        "${\\color{red}{⚠️Comments\\ end⚠️}}$"
      ]
    },
    {
      "cell_type": "markdown",
      "id": "gYHy3vSELfaN",
      "metadata": {
        "id": "gYHy3vSELfaN"
      },
      "source": [
        "### Subtask 2: The Model\n",
        "\n",
        "We start by creating a simple model and then make it more complex in later subtasks. The class `BiLSTMTagger` must subclass the `nn.Module` class of `PyTorch`. Fill the blank in the class by following the notes described below.\n",
        "1.   The input is a sequence of tokens, $X = \\{x_1, x_2,...,x_T\\}$.\n",
        "2.   Each token passes through  an embeddings layer, $e(X) = \\{e(x_1), e(x_2), ..., e(x_T)\\}$. Use `nn.Embedding` for the embedding layer and make sure to pass in the index of the pad token.\n",
        "3. Embedding is processed by forward and backward LSTMs from left to right and right to left.  The first input to the forward LSTM is $x_1$ and the first input to the backward LSTM is $x_T$. The hidden state of LSTMs is dependent on\n",
        "the hidden, $h$, and cell, $c$, states from the previous time-steps:\n",
        "$$h^{\\rightarrow}_t = \\text{LSTM}^{\\rightarrow}(e(x^{\\rightarrow}_t), h^{\\rightarrow}_{t-1}, c^{\\rightarrow}_{t-1})$$\n",
        "$$h^{\\leftarrow}_t=\\text{LSTM}^{\\leftarrow}(e(x^{\\leftarrow}_t), h^{\\leftarrow}_{t-1}, c^{\\leftarrow}_{t-1})$$\n",
        "4. The hidden, $h$, and cell, $c$ of each layer is passed to the next layer, where the $h_0$ and $c_0$, for each direction and layer, are initialized to a tensor full of zeros. Use `nn.LSTM` for LSTM cells. How can you make it bidirectional?\n",
        "5. Final hidden state is the concatenation of forward and backward hidden states from the final layer of the LSTM, $H = \\{h_1, h_2, ... h_T\\}$, where $h_1 = [h^{\\rightarrow}_1;h^{\\leftarrow}_T]$, $h_2 = [h^{\\rightarrow}_2;h^{\\leftarrow}_{T-1}]$. Use `nn.Linear` here.\n",
        "6. The last layer is linear layer $f$, which is used to make the prediction of which tag applies to this token, $\\hat{y}_t = f(h_t)$.\n",
        "7. Define a `nn.Dropout` layer to apply to the embeddings and the outputs of the final layer of the LSTM."
      ]
    },
    {
      "cell_type": "code",
      "execution_count": 15,
      "id": "qE4GQE6NJ1k8",
      "metadata": {
        "id": "qE4GQE6NJ1k8",
        "ExecuteTime": {
          "end_time": "2023-11-25T09:39:36.189547Z",
          "start_time": "2023-11-25T09:39:36.160830Z"
        }
      },
      "outputs": [],
      "source": [
        "class BiLSTMTagger(nn.Module):\n",
        "    def __init__(self, hyperparameters):\n",
        "      '''\n",
        "      hyperparameters: is a dictionary containing:\n",
        "                 input_dim: dimension of the input\n",
        "                 embedding_dim: dimension of the embedding layer\n",
        "                 lstm_hidden_dim: dimension of the hidden state of lstms\n",
        "                 output_dim: dimension of the output hidden layer\n",
        "                 n_layers: number of layers to stack\n",
        "                 bidirectional: is the lstm bi-directional\n",
        "                 dropout: probability for the drop out layer\n",
        "                 pad_idx: id of the pad token\n",
        "      '''\n",
        "      super().__init__()\n",
        "      #### your code ####\n",
        "      # Unpacking hyperparameters\n",
        "      input_dim = hyperparameters['input_dim']\n",
        "      embedding_dim = hyperparameters['embedding_dim']\n",
        "      lstm_hidden_dim = hyperparameters['lstm_hidden_dim']\n",
        "      output_dim = hyperparameters['output_dim']\n",
        "      n_layers = hyperparameters['n_layers']\n",
        "      bidirectional = hyperparameters['bidirectional']\n",
        "      dropout = hyperparameters['dropout']\n",
        "      pad_idx = hyperparameters['pad_idx']\n",
        "\n",
        "      # Embedding layer\n",
        "      self.embedding = nn.Embedding(input_dim, embedding_dim, padding_idx=pad_idx)\n",
        "\n",
        "      # Bi-LSTM layer\n",
        "      #apply dropout if the number of layers is more than 1\n",
        "      self.lstm = nn.LSTM(embedding_dim, lstm_hidden_dim, num_layers=n_layers,\n",
        "                            bidirectional=bidirectional, batch_first=True)\n",
        "\n",
        "      # Fully connected layer\n",
        "      self.fc = nn.Linear(lstm_hidden_dim * 2 if bidirectional else lstm_hidden_dim, output_dim)\n",
        "\n",
        "      # Dropout layer\n",
        "      self.dropout = nn.Dropout(dropout)\n",
        "\n",
        "\n",
        "    def forward(self, text, debug=False): #(B,S)\n",
        "      '''\n",
        "      S: sentence len\n",
        "      B: batch size\n",
        "      E: embedding size\n",
        "      H: hidden size\n",
        "      O: output size\n",
        "      L: number of layers\n",
        "      '''\n",
        "      #### your code ####\n",
        "      # Embedding layer\n",
        "      embd = self.dropout(self.embedding(text))  # (B, S, E)\n",
        "\n",
        "      # LSTM layer\n",
        "      # LSTM in PyTorch automatically initializes h_0 and c_0 states to zero if they aren't explicitly provided\n",
        "      outputs, (hidden, cell) = self.lstm(embd)\n",
        "\n",
        "      # Apply dropout to the output of LSTM layer\n",
        "      outputs = self.dropout(outputs)\n",
        "\n",
        "      # Linear layer\n",
        "      predictions = self.fc(outputs)\n",
        "\n",
        "      if debug==True:\n",
        "        print(\"Input shape:\",text.shape)\n",
        "        print(\"Embedding shape:\",embd.shape)\n",
        "        print(\"LSTM output shape:\",outputs.shape)\n",
        "        print(\"LSTM hidden shape:\",hidden.shape)\n",
        "        print(\"LSTM cell shape:\",cell.shape)\n",
        "        print(\"Output shape:\",predictions.shape)\n",
        "\n",
        "      return predictions"
      ]
    },
    {
      "cell_type": "markdown",
      "id": "4OcQbD9LUkD5",
      "metadata": {
        "id": "4OcQbD9LUkD5"
      },
      "source": [
        "Response in plain text:\n",
        "1. Based on the notation defined in the forward function. What is the dimension of `outputs`, `hidden`, and `cell`?\n",
        "\n",
        "`outputs`: (batch size, sentence len, hidden size * 2)\n",
        "\n",
        "`hidden`: (num of layers * 2, batch size, hidden size)\n",
        "\n",
        "`cell`: (num of layers * 2, batch size, hidden size)\n",
        "\n",
        "\n",
        "(because the LSTM is bidirectional: 2 = num directions)\n"
      ]
    },
    {
      "cell_type": "code",
      "execution_count": 16,
      "id": "ivB8Iv4yScVW",
      "metadata": {
        "id": "ivB8Iv4yScVW",
        "ExecuteTime": {
          "end_time": "2023-11-25T09:39:36.214837Z",
          "start_time": "2023-11-25T09:39:36.167803Z"
        }
      },
      "outputs": [],
      "source": [
        "hyper_parameters={\n",
        "  'input_dim':  len(vocab),\n",
        "  'embedding_dim': 100,\n",
        "  'lstm_hidden_dim': 128,\n",
        "  'output_dim':len(ud_vocab),\n",
        "  'n_layers': 2 ,\n",
        "  'bidirectional':True,\n",
        "  'dropout': 0.25,\n",
        "  'pad_idx': vocab['<pad>']\n",
        "}\n",
        "model = BiLSTMTagger(hyper_parameters)"
      ]
    },
    {
      "cell_type": "code",
      "execution_count": 17,
      "id": "1XvNFfJBV7ya",
      "metadata": {
        "id": "1XvNFfJBV7ya",
        "colab": {
          "base_uri": "https://localhost:8080/"
        },
        "outputId": "ee823458-402f-4f07-c377-4a673da19f8b",
        "ExecuteTime": {
          "end_time": "2023-11-25T09:39:36.239488Z",
          "start_time": "2023-11-25T09:39:36.184185Z"
        }
      },
      "outputs": [
        {
          "output_type": "stream",
          "name": "stdout",
          "text": [
            "Input shape: torch.Size([2, 6])\n",
            "Embedding shape: torch.Size([2, 6, 100])\n",
            "LSTM output shape: torch.Size([2, 6, 256])\n",
            "LSTM hidden shape: torch.Size([4, 2, 128])\n",
            "LSTM cell shape: torch.Size([4, 2, 128])\n",
            "Output shape: torch.Size([2, 6, 18])\n"
          ]
        },
        {
          "output_type": "execute_result",
          "data": {
            "text/plain": [
              "torch.Size([2, 6, 18])"
            ]
          },
          "metadata": {},
          "execution_count": 17
        }
      ],
      "source": [
        "input=torch.tensor([[3, 9271, 35, 9097, 0, 1],\n",
        "                    [3, 9271, 35, 9097, 0, 1]])\n",
        "model(input,debug=True).shape"
      ]
    },
    {
      "cell_type": "markdown",
      "id": "2XiJkG-NfrDV",
      "metadata": {
        "id": "2XiJkG-NfrDV"
      },
      "source": [
        "Weights of the network are initialized randomly, so let's make a more systematic initialization to help us with the optimization. For example,  Xavier Initialization creates weights such that the variance of the activations is the same across every layer. This constant variance helps prevent the gradient from exploding or vanishing. However, it does not apply to bias terms.\n",
        "\n",
        "Create a function that uses Xavier Initialization to initialize the weights of the network, for biases use a normal distribution with a mean of 0 and a standard deviation of 0.1."
      ]
    },
    {
      "cell_type": "code",
      "execution_count": 18,
      "id": "PB78pCHpa758",
      "metadata": {
        "id": "PB78pCHpa758",
        "colab": {
          "base_uri": "https://localhost:8080/"
        },
        "outputId": "522a690c-fc6c-4a20-8695-aed42bbad1cc",
        "ExecuteTime": {
          "end_time": "2023-11-25T09:39:36.636209Z",
          "start_time": "2023-11-25T09:39:36.614307Z"
        }
      },
      "outputs": [
        {
          "output_type": "execute_result",
          "data": {
            "text/plain": [
              "BiLSTMTagger(\n",
              "  (embedding): Embedding(9875, 100, padding_idx=0)\n",
              "  (lstm): LSTM(100, 128, num_layers=2, batch_first=True, bidirectional=True)\n",
              "  (fc): Linear(in_features=256, out_features=18, bias=True)\n",
              "  (dropout): Dropout(p=0.25, inplace=False)\n",
              ")"
            ]
          },
          "metadata": {},
          "execution_count": 18
        }
      ],
      "source": [
        "def init_weights(m):\n",
        "    if isinstance(m, nn.LSTM):\n",
        "        for name, param in m.named_parameters():\n",
        "            if 'weight_ih' in name:\n",
        "                nn.init.xavier_uniform_(param)\n",
        "            elif 'weight_hh' in name:\n",
        "                nn.init.xavier_uniform_(param)\n",
        "            elif 'bias' in name:\n",
        "                nn.init.normal_(param, mean=0, std=0.1)\n",
        "    elif isinstance(m, nn.Linear):\n",
        "        nn.init.xavier_uniform_(m.weight)\n",
        "        nn.init.normal_(m.bias, mean=0, std=0.1)\n",
        "    elif isinstance(m, nn.Embedding):\n",
        "        nn.init.xavier_uniform_(m.weight)\n",
        "  ### your code ###\n",
        "model.apply(init_weights)\n",
        "model.to(device)"
      ]
    },
    {
      "cell_type": "markdown",
      "id": "sdPx1mSOgy0V",
      "metadata": {
        "id": "sdPx1mSOgy0V"
      },
      "source": [
        "Let's count the number of trainable parameters in our model."
      ]
    },
    {
      "cell_type": "code",
      "execution_count": 19,
      "id": "P5738nU2ew_O",
      "metadata": {
        "id": "P5738nU2ew_O",
        "colab": {
          "base_uri": "https://localhost:8080/"
        },
        "outputId": "3c8cd46c-e970-43b1-aa02-20a8508c0168",
        "ExecuteTime": {
          "end_time": "2023-11-25T09:39:37.869614Z",
          "start_time": "2023-11-25T09:39:37.853521Z"
        }
      },
      "outputs": [
        {
          "output_type": "stream",
          "name": "stdout",
          "text": [
            "number of trainable parameters: 1622910\n"
          ]
        }
      ],
      "source": [
        "def count_parameters(model):\n",
        "  ### your code ###\n",
        "  return sum(p.numel() for p in model.parameters() if p.requires_grad)\n",
        "  ### your code ###\n",
        "\n",
        "print(\"number of trainable parameters:\", count_parameters(model))"
      ]
    },
    {
      "cell_type": "markdown",
      "id": "91uNA-vnyoUW",
      "metadata": {
        "id": "91uNA-vnyoUW"
      },
      "source": [
        "####${\\color{red}{Comments\\ 1.2}}$\n",
        "\n",
        "${\\color{red}{⚠️Comments\\ begin⚠️}}$\n",
        "\n",
        "\n",
        "```\n",
        "cross-feedback comment section\n",
        "```\n",
        "\n",
        "\n",
        "${\\color{red}{⚠️Comments\\ end⚠️}}$"
      ]
    },
    {
      "cell_type": "markdown",
      "id": "-lVg08iTd0XN",
      "metadata": {
        "id": "-lVg08iTd0XN"
      },
      "source": [
        "### Subtask 3: Training\n",
        "\n",
        "We start by defining a loss function and an optimizer.\n",
        "\n",
        "\n",
        "*   **optimizer:** We use Adam with the learning rate=0.0001.\n",
        "*   **loss:** We use cross-entropy loss.\n",
        "\n",
        "Even though we have no `<unk>` tokens within our tag vocab, we still have `<pad>` tokens to create batches of the same size. However, we do not want to calculate loss on those tokens, so make sure you define your loss function in such a way that ignores the `<pad>` tokens.\n",
        "\n",
        "\n"
      ]
    },
    {
      "cell_type": "code",
      "execution_count": 20,
      "id": "8LEyNeKhmBvK",
      "metadata": {
        "id": "8LEyNeKhmBvK",
        "ExecuteTime": {
          "end_time": "2023-11-25T09:39:39.624532Z",
          "start_time": "2023-11-25T09:39:39.438069Z"
        }
      },
      "outputs": [],
      "source": [
        "### your code ###\n",
        "optimizer = optim.Adam(model.parameters(), lr=0.0001)\n",
        "\n",
        "# The CrossEntropyLoss will ignore the <pad> tokens in the loss calculation\n",
        "pad_idx = hyper_parameters['pad_idx']\n",
        "loss_function = nn.CrossEntropyLoss(ignore_index=pad_idx)\n",
        "\n",
        "### your code ###"
      ]
    },
    {
      "cell_type": "markdown",
      "id": "95Cf7ZcVgLHK",
      "metadata": {
        "id": "95Cf7ZcVgLHK"
      },
      "source": [
        "Watching the loss go down as you train a model is a good indication of the correct training procedure, but does not tell us how well we are doing on a given task.\n",
        "To this end, we also implement a categorical accuracy measure to keep track of how well our model is doing on a given task.\n",
        "Same as before: we don't want to calculate accuracy over the `<pad>` tokens as we aren't interested in predicting them.\n",
        "Implement the function `categorical_acc` to compare the prediction of non-pad tokens with labels count the correct ones and calculate the accuracy over a single batch."
      ]
    },
    {
      "cell_type": "code",
      "execution_count": 21,
      "id": "J5OpDKuBitk1",
      "metadata": {
        "id": "J5OpDKuBitk1",
        "ExecuteTime": {
          "end_time": "2023-11-25T09:39:40.561224Z",
          "start_time": "2023-11-25T09:39:40.542819Z"
        }
      },
      "outputs": [],
      "source": [
        "def categorical_acc(preds, gt, pad_idx):\n",
        "    \"\"\"\n",
        "    Returns categorical accuracy per batch\n",
        "    preds: predictions from the model [batch size, sentence length, output dim] or [sentence length, output dim]\n",
        "    gt: ground truth labels [batch size, sentence length] or [sentence length]\n",
        "    pad_idx: index of the pad token\n",
        "    \"\"\"\n",
        "    # Get the index of the max probability\n",
        "    max_preds = preds.argmax(dim=1, keepdim=True)  # [batch size, sentence length, 1]\n",
        "\n",
        "    # Create a mask for elements that are not padding tokens\n",
        "    non_pad_elements = (gt != pad_idx)\n",
        "\n",
        "    # Compare the predictions with the ground truth, element-wise\n",
        "    correct = max_preds.squeeze(1).eq(gt)\n",
        "\n",
        "    # Apply the non-padding mask to focus on relevant predictions\n",
        "    correct_non_pad = correct & non_pad_elements\n",
        "\n",
        "    # Calculate accuracy: (number of correct non-pad predictions / total number of non-pad elements)\n",
        "    accuracy = correct_non_pad.sum().float() / non_pad_elements.sum().float()\n",
        "\n",
        "    return accuracy"
      ]
    },
    {
      "cell_type": "code",
      "execution_count": 22,
      "id": "WANOhA56kjY_",
      "metadata": {
        "id": "WANOhA56kjY_",
        "colab": {
          "base_uri": "https://localhost:8080/"
        },
        "outputId": "1f803c1a-c5a2-4b91-a994-5d431e1db063",
        "ExecuteTime": {
          "end_time": "2023-11-25T09:39:40.848431Z",
          "start_time": "2023-11-25T09:39:40.827044Z"
        }
      },
      "outputs": [
        {
          "output_type": "execute_result",
          "data": {
            "text/plain": [
              "tensor(0.6667)"
            ]
          },
          "metadata": {},
          "execution_count": 22
        }
      ],
      "source": [
        "dummpy_input=torch.tensor([\n",
        "    [0.9,0,0,0],\n",
        "    [0.1,0.9,0,0],\n",
        "    [0.1,0,0,0.9],\n",
        "    [0.9,0.1,0,0],\n",
        "    [0.1,0.8,0,0]\n",
        "\n",
        "])\n",
        "categorical_acc(dummpy_input, torch.tensor([0,2,3,0,1]), 0)"
      ]
    },
    {
      "cell_type": "markdown",
      "id": "y_wngIs7jFrT",
      "metadata": {
        "id": "y_wngIs7jFrT"
      },
      "source": [
        "Define the `train` model that performs one epoch of training. You can refer to the Tutorial 2 of the course to get a sample workflow. The only difference to the tutorial is that we keep track of the batch-wise accuracy as well as the loss."
      ]
    },
    {
      "cell_type": "code",
      "execution_count": 23,
      "id": "kyMs0FJNfGCp",
      "metadata": {
        "id": "kyMs0FJNfGCp",
        "ExecuteTime": {
          "end_time": "2023-11-25T09:39:42.030558Z",
          "start_time": "2023-11-25T09:39:42.007825Z"
        }
      },
      "outputs": [],
      "source": [
        "def train(model, dataloader, optimizer, loss_function, pad_idx):\n",
        "\n",
        "    epoch_loss = 0\n",
        "    epoch_acc = 0\n",
        "\n",
        "    model.train()\n",
        "    epoch_start_time = time.time()\n",
        "\n",
        "    for length_dataloader, (text, tags) in enumerate(dataloader):\n",
        "        #### your code ####\n",
        "        # Zero the gradients\n",
        "        optimizer.zero_grad()\n",
        "\n",
        "        # Forward pass\n",
        "        predictions = model(text)\n",
        "\n",
        "        # Reshape predictions and tags for calculating loss and accuracy\n",
        "        predictions = predictions.view(-1, predictions.shape[-1])\n",
        "        tags = tags.view(-1)\n",
        "\n",
        "        # Compute the loss and accuracy, ignoring pad tokens\n",
        "        loss = loss_function(predictions, tags)\n",
        "        acc = categorical_acc(predictions, tags, pad_idx)\n",
        "\n",
        "        # Backward pass and optimize\n",
        "        loss.backward()\n",
        "        optimizer.step()\n",
        "\n",
        "        # Accumulate loss and accuracy\n",
        "        epoch_loss += loss.item()\n",
        "        epoch_acc += acc.item()\n",
        "        #### your code ####\n",
        "\n",
        "    end_time= time.time() - epoch_start_time\n",
        "\n",
        "    return epoch_loss / length_dataloader, epoch_acc / length_dataloader, end_time"
      ]
    },
    {
      "cell_type": "markdown",
      "id": "W0ytUn7vkdcR",
      "metadata": {
        "id": "W0ytUn7vkdcR"
      },
      "source": [
        "It is not enough to only look at the training loss and accuracy, since with more training, we can always do better on the training set, but lose the generalizability to unseen data, a phenomenon known as **overfitting**. Therefore, it is important to check the loss and accuracy on the validation set after each epoch and stop before  overfitting occurs. Moreover, we can use the validation metric as an indication of which checkpoint of our model is the best.\n",
        "\n",
        "Define an `evaluate` function that runs once through the validation set and computes loss and accuracy. **Note:** You should not be updating gradients here and your model should be in evaluation mode."
      ]
    },
    {
      "cell_type": "code",
      "execution_count": 24,
      "id": "0CKzEqyAfktd",
      "metadata": {
        "id": "0CKzEqyAfktd",
        "ExecuteTime": {
          "end_time": "2023-11-25T09:39:42.642361Z",
          "start_time": "2023-11-25T09:39:42.599839Z"
        }
      },
      "outputs": [],
      "source": [
        "def evaluate(model, dataloader, loss_function, pad_idx):\n",
        "\n",
        "    val_loss = 0\n",
        "    val_acc = 0\n",
        "\n",
        "    ### your code ###\n",
        "    # Set model to evaluation mode\n",
        "    model.eval()\n",
        "\n",
        "    with torch.no_grad():  # Disable gradient computation\n",
        "        for length_dataloader, (text, tags) in enumerate(dataloader):\n",
        "            # Forward pass\n",
        "            predictions = model(text)\n",
        "\n",
        "            # Reshape predictions and tags for calculating loss and accuracy\n",
        "            predictions = predictions.view(-1, predictions.shape[-1])\n",
        "            tags = tags.view(-1)\n",
        "\n",
        "            # Compute the loss and accuracy, ignoring pad tokens\n",
        "            loss = loss_function(predictions, tags)\n",
        "            acc = categorical_acc(predictions, tags, pad_idx)\n",
        "\n",
        "            # Accumulate loss and accuracy\n",
        "            val_loss += loss.item()\n",
        "            val_acc += acc.item()\n",
        "    ### your code ###\n",
        "\n",
        "    return val_loss / length_dataloader, val_acc / length_dataloader"
      ]
    },
    {
      "cell_type": "markdown",
      "id": "3AZJidLFnOUW",
      "metadata": {
        "id": "3AZJidLFnOUW"
      },
      "source": [
        "Let's use the functions defined so far and train our model for `30` epochs. We suggest using GPU for this task, as it is quite slow on the CPU. Run the training loop for the given number of epochs and calculate the validation metric at the end of each epoch. Based on the validation loss, save the best checkpoint of the model."
      ]
    },
    {
      "cell_type": "code",
      "execution_count": 25,
      "id": "NblN-U0inVYc",
      "metadata": {
        "id": "NblN-U0inVYc",
        "colab": {
          "base_uri": "https://localhost:8080/"
        },
        "outputId": "5c1eab92-e5c0-4510-8d62-69a76fdf740a",
        "ExecuteTime": {
          "end_time": "2023-11-25T09:53:27.133548Z",
          "start_time": "2023-11-25T09:39:43.591266Z"
        }
      },
      "outputs": [
        {
          "output_type": "stream",
          "name": "stderr",
          "text": [
            "/usr/local/lib/python3.10/dist-packages/torch/utils/data/datapipes/iter/combining.py:333: UserWarning: Some child DataPipes are not exhausted when __iter__ is called. We are resetting the buffer and each child DataPipe will read from the start again.\n",
            "  warnings.warn(\"Some child DataPipes are not exhausted when __iter__ is called. We are resetting \"\n"
          ]
        },
        {
          "output_type": "stream",
          "name": "stdout",
          "text": [
            "Epoch: 01 | Epoch Time: 0m 4s\n",
            "\tTrain Loss: 2.677 | Train Acc: 15.33%\n",
            "\t Validation Loss: 2.673 |  Validation Acc: 17.86%\n",
            "Epoch: 02 | Epoch Time: 0m 2s\n",
            "\tTrain Loss: 2.525 | Train Acc: 18.21%\n",
            "\t Validation Loss: 2.591 |  Validation Acc: 24.24%\n",
            "Epoch: 03 | Epoch Time: 0m 3s\n",
            "\tTrain Loss: 2.315 | Train Acc: 26.47%\n",
            "\t Validation Loss: 2.188 |  Validation Acc: 37.16%\n",
            "Epoch: 04 | Epoch Time: 0m 3s\n",
            "\tTrain Loss: 1.833 | Train Acc: 43.19%\n",
            "\t Validation Loss: 1.668 |  Validation Acc: 55.59%\n",
            "Epoch: 05 | Epoch Time: 0m 2s\n",
            "\tTrain Loss: 1.383 | Train Acc: 59.15%\n",
            "\t Validation Loss: 1.278 |  Validation Acc: 68.85%\n",
            "Epoch: 06 | Epoch Time: 0m 2s\n",
            "\tTrain Loss: 1.060 | Train Acc: 69.98%\n",
            "\t Validation Loss: 1.016 |  Validation Acc: 76.20%\n",
            "Epoch: 07 | Epoch Time: 0m 3s\n",
            "\tTrain Loss: 0.856 | Train Acc: 76.52%\n",
            "\t Validation Loss: 0.861 |  Validation Acc: 81.76%\n",
            "Epoch: 08 | Epoch Time: 0m 3s\n",
            "\tTrain Loss: 0.726 | Train Acc: 80.90%\n",
            "\t Validation Loss: 0.755 |  Validation Acc: 85.32%\n",
            "Epoch: 09 | Epoch Time: 0m 2s\n",
            "\tTrain Loss: 0.634 | Train Acc: 83.91%\n",
            "\t Validation Loss: 0.681 |  Validation Acc: 88.36%\n",
            "Epoch: 10 | Epoch Time: 0m 3s\n",
            "\tTrain Loss: 0.565 | Train Acc: 86.05%\n",
            "\t Validation Loss: 0.628 |  Validation Acc: 90.21%\n",
            "Epoch: 11 | Epoch Time: 0m 3s\n",
            "\tTrain Loss: 0.508 | Train Acc: 87.73%\n",
            "\t Validation Loss: 0.586 |  Validation Acc: 91.04%\n",
            "Epoch: 12 | Epoch Time: 0m 4s\n",
            "\tTrain Loss: 0.463 | Train Acc: 88.96%\n",
            "\t Validation Loss: 0.552 |  Validation Acc: 91.95%\n",
            "Epoch: 13 | Epoch Time: 0m 4s\n",
            "\tTrain Loss: 0.426 | Train Acc: 89.96%\n",
            "\t Validation Loss: 0.518 |  Validation Acc: 92.81%\n",
            "Epoch: 14 | Epoch Time: 0m 3s\n",
            "\tTrain Loss: 0.393 | Train Acc: 90.78%\n",
            "\t Validation Loss: 0.496 |  Validation Acc: 93.09%\n",
            "Epoch: 15 | Epoch Time: 0m 4s\n",
            "\tTrain Loss: 0.363 | Train Acc: 91.57%\n",
            "\t Validation Loss: 0.471 |  Validation Acc: 93.71%\n",
            "Epoch: 16 | Epoch Time: 0m 3s\n",
            "\tTrain Loss: 0.339 | Train Acc: 92.12%\n",
            "\t Validation Loss: 0.454 |  Validation Acc: 94.06%\n",
            "Epoch: 17 | Epoch Time: 0m 3s\n",
            "\tTrain Loss: 0.317 | Train Acc: 92.61%\n",
            "\t Validation Loss: 0.434 |  Validation Acc: 94.54%\n",
            "Epoch: 18 | Epoch Time: 0m 3s\n",
            "\tTrain Loss: 0.298 | Train Acc: 93.09%\n",
            "\t Validation Loss: 0.421 |  Validation Acc: 94.92%\n",
            "Epoch: 19 | Epoch Time: 0m 3s\n",
            "\tTrain Loss: 0.282 | Train Acc: 93.45%\n",
            "\t Validation Loss: 0.413 |  Validation Acc: 95.07%\n",
            "Epoch: 20 | Epoch Time: 0m 3s\n",
            "\tTrain Loss: 0.268 | Train Acc: 93.73%\n",
            "\t Validation Loss: 0.403 |  Validation Acc: 95.13%\n",
            "Epoch: 21 | Epoch Time: 0m 3s\n",
            "\tTrain Loss: 0.255 | Train Acc: 94.05%\n",
            "\t Validation Loss: 0.393 |  Validation Acc: 95.37%\n",
            "Epoch: 22 | Epoch Time: 0m 3s\n",
            "\tTrain Loss: 0.245 | Train Acc: 94.29%\n",
            "\t Validation Loss: 0.390 |  Validation Acc: 95.50%\n",
            "Epoch: 23 | Epoch Time: 0m 3s\n",
            "\tTrain Loss: 0.236 | Train Acc: 94.46%\n",
            "\t Validation Loss: 0.382 |  Validation Acc: 95.53%\n",
            "Epoch: 24 | Epoch Time: 0m 3s\n",
            "\tTrain Loss: 0.227 | Train Acc: 94.73%\n",
            "\t Validation Loss: 0.372 |  Validation Acc: 95.93%\n",
            "Epoch: 25 | Epoch Time: 0m 4s\n",
            "\tTrain Loss: 0.219 | Train Acc: 94.90%\n",
            "\t Validation Loss: 0.370 |  Validation Acc: 95.99%\n",
            "Epoch: 26 | Epoch Time: 0m 3s\n",
            "\tTrain Loss: 0.214 | Train Acc: 94.96%\n",
            "\t Validation Loss: 0.367 |  Validation Acc: 95.85%\n",
            "Epoch: 27 | Epoch Time: 0m 2s\n",
            "\tTrain Loss: 0.206 | Train Acc: 95.17%\n",
            "\t Validation Loss: 0.366 |  Validation Acc: 95.79%\n",
            "Epoch: 28 | Epoch Time: 0m 3s\n",
            "\tTrain Loss: 0.200 | Train Acc: 95.29%\n",
            "\t Validation Loss: 0.363 |  Validation Acc: 96.06%\n",
            "Epoch: 29 | Epoch Time: 0m 4s\n",
            "\tTrain Loss: 0.194 | Train Acc: 95.44%\n",
            "\t Validation Loss: 0.358 |  Validation Acc: 96.20%\n",
            "Epoch: 30 | Epoch Time: 0m 3s\n",
            "\tTrain Loss: 0.190 | Train Acc: 95.59%\n",
            "\t Validation Loss: 0.358 |  Validation Acc: 96.35%\n"
          ]
        }
      ],
      "source": [
        "from tqdm import tnrange\n",
        "\n",
        "epochs = 30\n",
        "\n",
        "best_valid_loss = float('inf')\n",
        "\n",
        "for epoch in range(epochs):\n",
        "    ### your code ###\n",
        "    train_loss, train_acc, epoch_time = train(model, train_dataloader, optimizer, loss_function, pad_idx)\n",
        "    valid_loss, valid_acc = evaluate(model, valid_dataloader, loss_function, pad_idx)\n",
        "\n",
        "    # Save the model if the validation loss is the best we've seen so far.\n",
        "    if valid_loss < best_valid_loss:\n",
        "        best_valid_loss = valid_loss\n",
        "        torch.save(model.state_dict(), 'best-model.pt')\n",
        "    ### your code ###\n",
        "\n",
        "    elapsed_mins = int(epoch_time / 60)\n",
        "    elapsed_secs = int(epoch_time - (elapsed_mins * 60))\n",
        "    print(f'Epoch: {epoch+1:02} | Epoch Time: {elapsed_mins}m {elapsed_secs}s')\n",
        "    print(f'\\tTrain Loss: {train_loss:.3f} | Train Acc: {train_acc*100:.2f}%')\n",
        "    print(f'\\t Validation Loss: {valid_loss:.3f} |  Validation Acc: {valid_acc*100:.2f}%')"
      ]
    },
    {
      "cell_type": "markdown",
      "id": "7dXTYFEbHzNL",
      "metadata": {
        "id": "7dXTYFEbHzNL"
      },
      "source": [
        "Question:\n",
        "\n",
        "1. Does overfitting occur? If so, after which epochs?\n",
        "\n",
        "2. How do you detect overfitting?\n"
      ]
    },
    {
      "cell_type": "markdown",
      "id": "9qSbr8CrH9hD",
      "metadata": {
        "id": "9qSbr8CrH9hD"
      },
      "source": [
        "**Answer:**\n",
        "```\n",
        "1. Does overfitting occur? If so, after which epochs?\n",
        "\n",
        "    - No (due to the reasons/observations explained below).\n",
        "\n",
        "2. How do you detect overfitting?\n",
        "\n",
        "    - Check if the training loss decreases but the validation loss increases (which is not the case here)\n",
        "    - Check if high training accuracy but low validation accuracy (also not the case: val acc is even a little higher in most cases)\n",
        "\n",
        "    -> Both training and validation loss decrease and accuracies increase over epochs, which is a good sign that no overfitting occurs and the model learns effectively. Also, training and validation accuracy are quite close to each other, and their loss values are converging, which further suggests that the model is not overfitting significantly.\n",
        "```"
      ]
    },
    {
      "cell_type": "markdown",
      "id": "GmqNesqiMISb",
      "metadata": {
        "id": "GmqNesqiMISb"
      },
      "source": [
        "Let's see how well our model is doing on the test set. Load the best checkpoint and calculate the accuracy."
      ]
    },
    {
      "cell_type": "code",
      "execution_count": 26,
      "id": "SgCFqby0m8sf",
      "metadata": {
        "id": "SgCFqby0m8sf",
        "colab": {
          "base_uri": "https://localhost:8080/"
        },
        "outputId": "754143af-ccde-4854-cb5d-d70bed05380c",
        "ExecuteTime": {
          "end_time": "2023-11-25T09:53:29.422991Z",
          "start_time": "2023-11-25T09:53:27.134527Z"
        }
      },
      "outputs": [
        {
          "output_type": "stream",
          "name": "stdout",
          "text": [
            "Test Loss: 0.336 | Test Acc: 96.07%\n"
          ]
        }
      ],
      "source": [
        "#### you code ####\n",
        "# Load best saved model checkpoint\n",
        "model.load_state_dict(torch.load('best-model.pt'))\n",
        "#### you code ####\n",
        "\n",
        "# Evaluate the model on the test set\n",
        "test_loss, test_acc = evaluate(model, test_dataloader, loss_function, pad_idx)\n",
        "print(f'Test Loss: {test_loss:.3f} | Test Acc: {test_acc*100:.2f}%')"
      ]
    },
    {
      "cell_type": "markdown",
      "id": "tMIDBeSFyqJr",
      "metadata": {
        "id": "tMIDBeSFyqJr"
      },
      "source": [
        "####${\\color{red}{Comments\\ 1.3}}$\n",
        "\n",
        "${\\color{red}{⚠️Comments\\ begin⚠️}}$\n",
        "\n",
        "\n",
        "```\n",
        "cross-feedback comment section\n",
        "```\n",
        "\n",
        "\n",
        "${\\color{red}{⚠️Comments\\ end⚠️}}$"
      ]
    },
    {
      "cell_type": "markdown",
      "id": "7dPfzmVGMeSO",
      "metadata": {
        "id": "7dPfzmVGMeSO"
      },
      "source": [
        "### Subtask 4: Inference\n",
        "\n",
        "Let's use the model we trained to tag some actual sentences. We have the preprocessing pipeline ready from Subtask 1, now we need to map the predictions back to label texts for each token.\n",
        "\n",
        "Implement the `tag_sequence` function that takes a model and a sentence as input and generates POS tags. Keep in mind that you need to divide the sentence into tokens first. For this purpose, we just split each sentence on whitespaces."
      ]
    },
    {
      "cell_type": "code",
      "source": [
        "def tag_sentence(model, sentence):\n",
        "    # Tokenize\n",
        "    tokens = sentence.split()\n",
        "\n",
        "    # Convert tokens to indices\n",
        "    token_indices = text_pipeline(tokens)\n",
        "\n",
        "    # Convert to a tensor and add an extra dimension for batch\n",
        "    token_tensor = tensor(token_indices).unsqueeze(0).to(device)\n",
        "\n",
        "    # Predict with the model\n",
        "    model.eval()\n",
        "    with torch.no_grad():\n",
        "        predictions = model(token_tensor)\n",
        "\n",
        "    # Convert predictions to tag indices\n",
        "    predicted_indices = predictions.argmax(-1).squeeze().cpu().numpy()\n",
        "\n",
        "    # Get the mapping from indices to tags\n",
        "    idx_to_tag = ud_vocab.get_itos()\n",
        "\n",
        "    # Convert indices to tags\n",
        "    predicted_tags = [idx_to_tag[idx] for idx in predicted_indices]\n",
        "\n",
        "    return predicted_tags"
      ],
      "metadata": {
        "id": "4CUMAy_Tk6Ka",
        "ExecuteTime": {
          "end_time": "2023-11-25T09:53:29.429024Z",
          "start_time": "2023-11-25T09:53:29.424201Z"
        }
      },
      "id": "4CUMAy_Tk6Ka",
      "execution_count": 27,
      "outputs": []
    },
    {
      "cell_type": "code",
      "execution_count": 28,
      "id": "JtiR75PFRR61",
      "metadata": {
        "id": "JtiR75PFRR61",
        "colab": {
          "base_uri": "https://localhost:8080/"
        },
        "outputId": "c0848f99-2118-4a16-ccc9-0174b72dbeb3",
        "ExecuteTime": {
          "end_time": "2023-11-25T09:53:29.526416Z",
          "start_time": "2023-11-25T09:53:29.428282Z"
        }
      },
      "outputs": [
        {
          "output_type": "stream",
          "name": "stdout",
          "text": [
            "Text:  What if Google Morphed Into GoogleOS ?\n",
            "Predicted Tags:  ['PRON', 'SCONJ', 'PROPN', 'VERB', 'PROPN', 'NOUN', 'PUNCT']\n",
            "True Tags:  ['PRON', 'SCONJ', 'PROPN', 'VERB', 'ADP', 'PROPN', 'PUNCT']\n"
          ]
        }
      ],
      "source": [
        "text=\" \".join(list(UDPOS(split='test'))[0][0])\n",
        "label= list(UDPOS(split='test'))[0][1]\n",
        "predicted_tag=tag_sentence(model, text)\n",
        "print(\"Text: \", text)\n",
        "print(\"Predicted Tags: \", predicted_tag)\n",
        "print(\"True Tags: \", label)"
      ]
    },
    {
      "cell_type": "markdown",
      "id": "7bPriv78yuyQ",
      "metadata": {
        "id": "7bPriv78yuyQ",
        "ExecuteTime": {
          "end_time": "2023-11-25T01:50:27.689832Z",
          "start_time": "2023-11-25T01:50:27.680700Z"
        }
      },
      "source": [
        "####${\\color{red}{Comments\\ 1.4}}$\n",
        "\n",
        "${\\color{red}{⚠️Comments\\ begin⚠️}}$\n",
        "\n",
        "\n",
        "```\n",
        "cross-feedback comment section\n",
        "```\n",
        "\n",
        "\n",
        "${\\color{red}{⚠️Comments\\ end⚠️}}$"
      ]
    },
    {
      "cell_type": "markdown",
      "id": "X4n7Xi4TT_Ww",
      "metadata": {
        "id": "X4n7Xi4TT_Ww"
      },
      "source": [
        "## **Task 2: Theoretical Questions** (0.5+1.5+1+3=6 points)"
      ]
    },
    {
      "cell_type": "markdown",
      "id": "QbQJ3baXUHkQ",
      "metadata": {
        "id": "QbQJ3baXUHkQ"
      },
      "source": [
        "### Subtask 1:\n",
        "In beam search, if you increase the beam width, what will happen to a) the runtime and memory and b) the quality of results?"
      ]
    },
    {
      "cell_type": "markdown",
      "id": "Ei5A-D_djZup",
      "metadata": {
        "id": "Ei5A-D_djZup"
      },
      "source": [
        "**Answer:**\n",
        "\n",
        "\n",
        "```\n",
        "a) Runtime and Memory: Increasing beam width leads to longer runtime and higher memory usage, as the algorithm evaluates and stores more candidate sequences: the number of paths considered at each step of the search increases and the algorithm needs to store a larger number of partial sequences.\n",
        "\n",
        "b) Quality of Results: A larger beam width generally improves result quality by exploring more sequences and making it less likely to miss the optimal or a high-quality sequence. But there's a diminishing return on quality improvement beyond a certain width as the increase in quality becomes marginal compared to the additional computational cost, and it could introduce noise.\n",
        "\n",
        "```"
      ]
    },
    {
      "cell_type": "markdown",
      "id": "RuzX2q7TywyW",
      "metadata": {
        "id": "RuzX2q7TywyW"
      },
      "source": [
        "####${\\color{red}{Comments\\ 2.1}}$\n",
        "\n",
        "${\\color{red}{⚠️Comments\\ begin⚠️}}$\n",
        "\n",
        "\n",
        "```\n",
        "cross-feedback comment section\n",
        "```\n",
        "\n",
        "\n",
        "${\\color{red}{⚠️Comments\\ end⚠️}}$"
      ]
    },
    {
      "cell_type": "markdown",
      "id": "N7KlRPnhknbl",
      "metadata": {
        "id": "N7KlRPnhknbl"
      },
      "source": [
        "### Subtask 2:\n",
        "Except for beam search, there are other ways to create a more coherent output for generation tasks, one of which is adding a temperature to the softmax over the vocabulary. Temperature is a hyperparameter that is applied to the input of a softmax to affect the final probabilities. All values in the input are divided by the temperature before going through the softmax. What do you think will happen in these cases:\n",
        "\n",
        "1. A low temperature - below 1\n",
        "2. A high temperature - above 1\n",
        "3. Really small temperature - temperature $→$ 0"
      ]
    },
    {
      "cell_type": "markdown",
      "id": "uxuh5LOFnF3D",
      "metadata": {
        "id": "uxuh5LOFnF3D"
      },
      "source": [
        "**Answer:**\n",
        "```\n",
        "Low Temperature (below 1): Concentrates probability on the highest-scoring words, leading to more confident and less diverse choices, as it reduces the chances for less likely words.\n",
        "\n",
        "High Temperature (above 1): Results in a flatter output distribution by smoothing the probability, increasing diversity and randomness as it gives lower-scoring words a higher chance of being chosen.\n",
        "\n",
        "Really Small Temperature (approaching 0): Maximizes the probability of the top word, causing the model to almost always pick the most probable word and reducing randomness to nearly zero.\n",
        "\n",
        "```"
      ]
    },
    {
      "cell_type": "markdown",
      "id": "GmW4NNb4yyZF",
      "metadata": {
        "id": "GmW4NNb4yyZF"
      },
      "source": [
        "####${\\color{red}{Comments\\ 2.2}}$\n",
        "\n",
        "${\\color{red}{⚠️Comments\\ begin⚠️}}$\n",
        "\n",
        "\n",
        "```\n",
        "cross-feedback comment section\n",
        "```\n",
        "\n",
        "\n",
        "${\\color{red}{⚠️Comments\\ end⚠️}}$"
      ]
    },
    {
      "cell_type": "markdown",
      "id": "tM2DmNOwod4r",
      "metadata": {
        "id": "tM2DmNOwod4r"
      },
      "source": [
        "### Subtask 3:\n",
        "Explain what the “bottleneck” of an encoder-decoder RNN is and how attention provides a way to get around this bottleneck."
      ]
    },
    {
      "cell_type": "markdown",
      "id": "DNJ3f_MtdzrM",
      "metadata": {
        "id": "DNJ3f_MtdzrM"
      },
      "source": [
        "**Answer:**\n",
        "```\n",
        "The \"bottleneck\" happens because the entire input sequence is compressed into a fixed-length context vector in an RNN, which makes it difficult to keep all relevant information for long sequences. Attention overcomes this by as it lets the decoder selectively focus on various parts of the input sequence at each step of the output generation. It thus creates a dynamic, context-specific representation and avoids the limitations of single, fixed-length vectors.\n",
        "```"
      ]
    },
    {
      "cell_type": "markdown",
      "id": "JFUHVF40y0j-",
      "metadata": {
        "id": "JFUHVF40y0j-"
      },
      "source": [
        "####${\\color{red}{Comments\\ 2.3}}$\n",
        "\n",
        "${\\color{red}{⚠️Comments\\ begin⚠️}}$\n",
        "\n",
        "\n",
        "```\n",
        "cross-feedback comment section\n",
        "```\n",
        "\n",
        "\n",
        "${\\color{red}{⚠️Comments\\ end⚠️}}$"
      ]
    },
    {
      "cell_type": "markdown",
      "id": "HaHhdLdJehL3",
      "metadata": {
        "id": "HaHhdLdJehL3"
      },
      "source": [
        "### Subtask 4:\n",
        "As mentioned, there are various way to remedy the repetitiveness and incoherence of generation outputs. One of the widely used methods is Nucleus sampling described the paper \"[The Curious Case of Neural Text DeGeneration](https://arxiv.org/pdf/1904.09751.pdf)\". Read the model section and introduction of the paper and use it as reference to answer the following questions:\n",
        "\n",
        "1. Describe top-k sampling in your own words, no need for mathematical notation.\n",
        "2. Describe Nucleus sampling in your own words, there is not need for mathematical notation.\n",
        "3. Why is beam search not a good strategy for human-like text generation and why don't these methods suffer from the problem of the beam search?\n"
      ]
    },
    {
      "cell_type": "markdown",
      "id": "9Ojtbn1kgaYE",
      "metadata": {
        "id": "9Ojtbn1kgaYE"
      },
      "source": [
        "**Answer:**\n",
        "```\n",
        "1. Top-k sampling is a method in text generation where you pick from the top k most likely words at each step. The challenge is to to generate diverse but coherent text. The top k words can change based on the shape of the probability distribution at each time step. It usually gives better results than other methods like beam search. The tricky part is picking the right k - small k may lead to bland or generic text, while a large k may include inappropriate candidates, affecting the quality of the generated text\n",
        "\n",
        "2. Nucleus sampling is another way to generate text. It picks from a changing set of words, depending on how likely they are to come next, up to a certain probability (the p value). This method aims to address the limitations of top-k sampling by dynamically adjusting the size of the sampling set based on the shape of the probability distribution at each time step. This way, it can avoid some common issues like repeating stuff or using too many plain words, making the text sound more natural and interesting\n",
        "\n",
        "3. Using likelihood as the main goal for training language models can be smart, but when it comes to actually creating text, like with beam search, you can end up with stuff that doesn't sound quite right or repeats a lot.  This is counterintuitive, as one would expect good models to assign higher probability to more human-like, grammatical text. However, the text generated by beam search tends to be generic and less interesting, as it assigns high probability to generic and repetitive text. That's why methods like top-k or nucleus sampling are handy as they keep adjusting what words they choose from as they write, helping the text stay interesting and varied.\n",
        "```"
      ]
    },
    {
      "cell_type": "markdown",
      "id": "0wU67Iqpy2rg",
      "metadata": {
        "id": "0wU67Iqpy2rg"
      },
      "source": [
        "####${\\color{red}{Comments\\ 2.4}}$\n",
        "\n",
        "${\\color{red}{⚠️Comments\\ begin⚠️}}$\n",
        "\n",
        "\n",
        "```\n",
        "cross-feedback comment section\n",
        "```\n",
        "\n",
        "\n",
        "${\\color{red}{⚠️Comments\\ end⚠️}}$"
      ]
    },
    {
      "cell_type": "markdown",
      "id": "IZl0-MMY6MWs",
      "metadata": {
        "id": "IZl0-MMY6MWs"
      },
      "source": [
        "## **Task 3: Scaled Dot-Product Attention** (4+1=5 points)\n",
        "In class, you learned about attention and Transformers as described in the 2017 paper\n",
        "[Attention Is All You Need](https://arxiv.org/abs/1706.03762).\n",
        "The base of the attention module is a scaled dot product with Queries, Keys, and Values.\n",
        "In this task, you will implement a simplified version of scaled dot-product attention and inspired by the translation task, aim to replicate word alignment between English and French.\n",
        "You will not be training the embedding from scratch, we provide you with pre-trained embedding for both languages.\n",
        "However, you need to know the details of scaled dot product attention, which mainly consists of two matrix multiplications and a softmax scaling.\n",
        "Refer to Figure 2 of the [Attention Is All You Need](https://arxiv.org/abs/1706.03762) paper.\n",
        "\n",
        "The inputs of the attention module are Queries, Keys, and Values. Mathematically, attention is defined as follows:\n",
        "\n",
        "$$\n",
        "\\large \\mathrm{Attention}\\left(Q, K, V\\right) = \\mathrm{softmax}\\left(\\frac{QK^{\\top}}{\\sqrt{d_k}}\\right)V\n",
        "$$\n",
        "\n",
        "\n",
        "*   $Q$, $K$, and $V$ are the Queries, Keys, and Values matrices.\n",
        "* $d_k$ is the dimension of the Keys (in practice dimensions of all matrices are the same).\n",
        "*   $QK^{\\top}$ is a measure of the similarity between the Queries and the Keys\n",
        "* softmax transforms the similarity into weights.\n",
        "* Weights multiplied by the Values are the output of the attention, defining how much importance should be given to each token of the input.\n",
        "\n",
        "In the case of self-attention, both Queries and Keys come from the encoder, however, for cross attention between encoder and decoder, decoder states are used as the queries while encoder states are the Keys and Values.\n",
        "In our case, we need the cross attention between one language to another to find the correct alignment.\n"
      ]
    },
    {
      "cell_type": "code",
      "execution_count": 29,
      "id": "gOP3Fa8IfkMK",
      "metadata": {
        "id": "gOP3Fa8IfkMK",
        "colab": {
          "base_uri": "https://localhost:8080/"
        },
        "outputId": "1bb9b487-7cdf-4288-e225-576b505fdaaf",
        "ExecuteTime": {
          "end_time": "2023-11-25T09:53:30.744648Z",
          "start_time": "2023-11-25T09:53:29.525894Z"
        }
      },
      "outputs": [
        {
          "output_type": "stream",
          "name": "stdout",
          "text": [
            "Requirement already satisfied: matplotlib in /usr/local/lib/python3.10/dist-packages (3.7.1)\n",
            "Requirement already satisfied: contourpy>=1.0.1 in /usr/local/lib/python3.10/dist-packages (from matplotlib) (1.2.0)\n",
            "Requirement already satisfied: cycler>=0.10 in /usr/local/lib/python3.10/dist-packages (from matplotlib) (0.12.1)\n",
            "Requirement already satisfied: fonttools>=4.22.0 in /usr/local/lib/python3.10/dist-packages (from matplotlib) (4.44.3)\n",
            "Requirement already satisfied: kiwisolver>=1.0.1 in /usr/local/lib/python3.10/dist-packages (from matplotlib) (1.4.5)\n",
            "Requirement already satisfied: numpy>=1.20 in /usr/local/lib/python3.10/dist-packages (from matplotlib) (1.23.5)\n",
            "Requirement already satisfied: packaging>=20.0 in /usr/local/lib/python3.10/dist-packages (from matplotlib) (23.2)\n",
            "Requirement already satisfied: pillow>=6.2.0 in /usr/local/lib/python3.10/dist-packages (from matplotlib) (9.4.0)\n",
            "Requirement already satisfied: pyparsing>=2.3.1 in /usr/local/lib/python3.10/dist-packages (from matplotlib) (3.1.1)\n",
            "Requirement already satisfied: python-dateutil>=2.7 in /usr/local/lib/python3.10/dist-packages (from matplotlib) (2.8.2)\n",
            "Requirement already satisfied: six>=1.5 in /usr/local/lib/python3.10/dist-packages (from python-dateutil>=2.7->matplotlib) (1.16.0)\n"
          ]
        }
      ],
      "source": [
        "%pip install matplotlib"
      ]
    },
    {
      "cell_type": "code",
      "execution_count": 34,
      "id": "tB6RD3wssHe9",
      "metadata": {
        "id": "tB6RD3wssHe9",
        "ExecuteTime": {
          "end_time": "2023-11-25T09:53:30.852406Z",
          "start_time": "2023-11-25T09:53:30.746167Z"
        }
      },
      "outputs": [],
      "source": [
        "import pickle\n",
        "import matplotlib.pyplot as plt\n",
        "import numpy as np\n",
        "#load the dictionaries (dictionary of words to ids)\n",
        "with open(\"./word2int_en.pkl\", \"rb\") as f:\n",
        "    en_dict = pickle.load(f)\n",
        "\n",
        "with open(\"./word2int_fr.pkl\", \"rb\") as f:\n",
        "    fr_dict = pickle.load(f)\n",
        "\n",
        "# load word embeddings (dictionary of token ids to embeddings)\n",
        "en_embeddings = np.load(\"./embeddings_en.npz\")[\"embeddings\"]\n",
        "fr_embeddings = np.load(\"./embeddings_fr.npz\")[\"embeddings\"]\n"
      ]
    },
    {
      "cell_type": "markdown",
      "id": "7VYjN1xHsbYj",
      "metadata": {
        "id": "7VYjN1xHsbYj"
      },
      "source": [
        "### Subtask 1: Attention Weights\n",
        "Fill the blanks in `tokenize` to tokenize a sentence and convert it to ids and `embed` function to create an embedding of a sentence."
      ]
    },
    {
      "cell_type": "code",
      "execution_count": 35,
      "id": "cwS_M10nwOBH",
      "metadata": {
        "id": "cwS_M10nwOBH",
        "ExecuteTime": {
          "end_time": "2023-11-25T09:53:30.858531Z",
          "start_time": "2023-11-25T09:53:30.853811Z"
        }
      },
      "outputs": [],
      "source": [
        "def tokenize(sentence, token_mapping):\n",
        "   # we stick to simple blank space tokenization\n",
        "   tokenized = []\n",
        "   for word in sentence.lower().split(\" \"):\n",
        "\n",
        "       if word in token_mapping:\n",
        "           token = token_mapping[word]\n",
        "       else:\n",
        "           token = -1\n",
        "       tokenized.append(token)\n",
        "\n",
        "   return tokenized\n",
        "\n",
        "def embed(tokens, embeddings):\n",
        "    \"\"\" get the embedding for the tokens in a sentence stacked in a simple matrix (sequence length, embedding size)\n",
        "        tokens: tokenized sentence\n",
        "        embeddings: dictionary of token to embeddings.\n",
        "    \"\"\"\n",
        "    embed_size = embeddings.shape[1]\n",
        "    embed_list = []\n",
        "    for token in tokens:\n",
        "        if token == -1:\n",
        "            embed_list.append(np.zeros(embed_size))\n",
        "        else:\n",
        "            embed_list.append(embeddings[token])\n",
        "        output = np.stack(embed_list)\n",
        "\n",
        "    return output"
      ]
    },
    {
      "cell_type": "code",
      "execution_count": 36,
      "id": "dkAulXarueT_",
      "metadata": {
        "id": "dkAulXarueT_",
        "colab": {
          "base_uri": "https://localhost:8080/"
        },
        "outputId": "103f69b6-c0cd-4bb7-8a05-f2c98ef79491",
        "ExecuteTime": {
          "end_time": "2023-11-25T09:53:30.861968Z",
          "start_time": "2023-11-25T09:53:30.858068Z"
        }
      },
      "outputs": [
        {
          "output_type": "stream",
          "name": "stdout",
          "text": [
            "Tokenized english: [59, 40, 9355, 6, 158, -1]\n",
            "embedding english: (6, 300)\n",
            "Tokenized french: [21, 73, 192, 16, 8652, -1, 558, -1]\n",
            "embedding french: (8, 300)\n"
          ]
        }
      ],
      "source": [
        "sentence_en = \"there were clouds in my coffeeeeee.\"\n",
        "tokenized_en = tokenize(sentence_en, en_dict)\n",
        "embedded_en = embed(tokenized_en, en_embeddings)\n",
        "print(\"Tokenized english:\",tokenized_en)\n",
        "print(\"embedding english:\",embedded_en.shape)\n",
        "\n",
        "sentence_fr = \"il y avait des nuages ​​dans mon ccafé.\"\n",
        "tokenized_fr = tokenize(sentence_fr, fr_dict)\n",
        "embedded_fr = embed(tokenized_fr, fr_embeddings)\n",
        "print(\"Tokenized french:\",tokenized_fr)\n",
        "print(\"embedding french:\",embedded_fr.shape)"
      ]
    },
    {
      "cell_type": "markdown",
      "id": "WJ58FCMpsHJP",
      "metadata": {
        "id": "WJ58FCMpsHJP"
      },
      "source": [
        "\n",
        "Implement the `softmax` function with `Numpy`.\n"
      ]
    },
    {
      "cell_type": "code",
      "execution_count": 37,
      "id": "caOjXfbxon9h",
      "metadata": {
        "id": "caOjXfbxon9h",
        "ExecuteTime": {
          "end_time": "2023-11-25T09:53:30.864030Z",
          "start_time": "2023-11-25T09:53:30.861499Z"
        }
      },
      "outputs": [],
      "source": [
        "def softmax(x, axis=0):\n",
        "    \"\"\"\n",
        "    x: input matrix\n",
        "    axis: defines which axis to compute the softmax over 0 for rows and 1 for columns\n",
        "        axis=0 calculates softmax across rows which means each column sums to 1\n",
        "        axis=1 calculates softmax across columns which means each row sums to 1\n",
        "    \"\"\"\n",
        "\n",
        "    # softmax(x_i) = e^{x_i} / \\sum{j=1}^{K}e^{x_j}\n",
        "    dividend = np.exp(x)\n",
        "    divisor = np.sum(np.exp(x), axis=axis, keepdims=True)\n",
        "\n",
        "    softmax_x = dividend / divisor\n",
        "\n",
        "    return softmax_x"
      ]
    },
    {
      "cell_type": "code",
      "execution_count": 38,
      "id": "kCbjmG49p-v0",
      "metadata": {
        "id": "kCbjmG49p-v0",
        "colab": {
          "base_uri": "https://localhost:8080/"
        },
        "outputId": "c6f3f883-d19e-4cc9-ec23-2faf0fc4a497",
        "ExecuteTime": {
          "end_time": "2023-11-25T09:53:30.870513Z",
          "start_time": "2023-11-25T09:53:30.867903Z"
        }
      },
      "outputs": [
        {
          "output_type": "execute_result",
          "data": {
            "text/plain": [
              "1.0"
            ]
          },
          "metadata": {},
          "execution_count": 38
        }
      ],
      "source": [
        "w=softmax(np.array([[1,3,4,1], [24,3,2,3]]),axis=0)\n",
        "w.sum(axis=0)[0]"
      ]
    },
    {
      "cell_type": "markdown",
      "id": "oNqtNPB9orLr",
      "metadata": {
        "id": "oNqtNPB9orLr"
      },
      "source": [
        "Use the `softmax` function to calculate the weights.\n",
        "$$ \\mathrm{softmax}\\left(\\frac{QK^{\\top}}{\\sqrt{d_k}}\\right)$$\n",
        "Assume the queries and keys are 2D matrices."
      ]
    },
    {
      "cell_type": "code",
      "execution_count": 39,
      "id": "ysRdVCnP7Qir",
      "metadata": {
        "id": "ysRdVCnP7Qir",
        "ExecuteTime": {
          "end_time": "2023-11-25T09:53:30.873280Z",
          "start_time": "2023-11-25T09:53:30.870999Z"
        }
      },
      "outputs": [],
      "source": [
        "def calc_weights(queries, keys):\n",
        "    \"\"\"\n",
        "    queries: queries matrix\n",
        "    keys: keys matrix\n",
        "    \"\"\"\n",
        "    d_k = keys.shape[1]\n",
        "    dot_product = np.dot(queries, keys.T)\n",
        "    weights = softmax(dot_product / np.sqrt(d_k), axis=1)\n",
        "\n",
        "    return weights"
      ]
    },
    {
      "cell_type": "code",
      "execution_count": 40,
      "id": "LVYGelEsqsoo",
      "metadata": {
        "id": "LVYGelEsqsoo",
        "colab": {
          "base_uri": "https://localhost:8080/"
        },
        "outputId": "560b415c-f589-4890-c84c-04c5a262118c",
        "ExecuteTime": {
          "end_time": "2023-11-25T09:53:30.931665Z",
          "start_time": "2023-11-25T09:53:30.874687Z"
        }
      },
      "outputs": [
        {
          "output_type": "stream",
          "name": "stdout",
          "text": [
            "[[0.19557032 0.80442968]\n",
            " [0.19557032 0.80442968]]\n"
          ]
        },
        {
          "output_type": "execute_result",
          "data": {
            "text/plain": [
              "1.0"
            ]
          },
          "metadata": {},
          "execution_count": 40
        }
      ],
      "source": [
        "weights=calc_weights(np.array([[1,3],[1,3]]),np.array([[0,3],[2,3]]))\n",
        "print(weights)\n",
        "weights.sum(axis=1)[0]"
      ]
    },
    {
      "cell_type": "markdown",
      "id": "16V5yFAew1Hx",
      "metadata": {
        "id": "16V5yFAew1Hx"
      },
      "source": [
        "Use the `calcu_weights` to compute the attention matrix between two sentences from English and French and visualize the weights to check for alignments."
      ]
    },
    {
      "cell_type": "code",
      "execution_count": 41,
      "id": "miW865arw9Fv",
      "metadata": {
        "id": "miW865arw9Fv",
        "colab": {
          "base_uri": "https://localhost:8080/",
          "height": 536
        },
        "outputId": "98802d5f-f83b-44d6-efd9-816fd7511e42",
        "ExecuteTime": {
          "end_time": "2023-11-25T09:53:31.006874Z",
          "start_time": "2023-11-25T09:53:30.879853Z"
        }
      },
      "outputs": [
        {
          "output_type": "stream",
          "name": "stdout",
          "text": [
            "(4, 2) -> nuages, clouds, prob: 0.0937\n",
            "(7, 5) -> café, coffee, prob: 0.0932\n"
          ]
        },
        {
          "output_type": "display_data",
          "data": {
            "text/plain": [
              "<Figure size 500x500 with 1 Axes>"
            ],
            "image/png": "[encoded data removed]"
          },
          "metadata": {}
        }
      ],
      "source": [
        "sentence_en = \"there were clouds in my coffee and unicorns in the sky.\"\n",
        "tokenized_en = tokenize(sentence_en, en_dict)\n",
        "embedded_en = embed(tokenized_en, en_embeddings)\n",
        "\n",
        "sentence_fr = \"il y avait des nuages ​​dans mon café et des licornes dans le ciel.\"\n",
        "tokenized_fr = tokenize(sentence_fr, fr_dict)\n",
        "embedded_fr = embed(tokenized_fr, fr_embeddings)\n",
        "\n",
        "alignment = calc_weights(embedded_fr, embedded_en)\n",
        "# visualize weights\n",
        "fig, ax = plt.subplots(figsize=(5,5))\n",
        "ax.imshow(alignment,cmap='gray')\n",
        "ax.xaxis.tick_top()\n",
        "ax.set_xticks(np.arange(alignment.shape[1]))\n",
        "ax.set_xticklabels(sentence_en.split(\" \"), rotation=90, size=12);\n",
        "ax.set_yticks(np.arange(alignment.shape[0]));\n",
        "ax.set_yticklabels(sentence_fr.split(\" \"), size=12);\n",
        "\n",
        "\n",
        "### your code to compute the top-2 ###\n",
        "top_n_words = 2\n",
        "\n",
        "# Flatten the alignment array and get the indices of the top-n words\n",
        "flat_alignment = alignment.flatten()\n",
        "top_indices = np.argsort(flat_alignment)[-top_n_words:][::-1]\n",
        "\n",
        "# Splitting sentences into words\n",
        "english_words = sentence_en.split()\n",
        "french_words = sentence_fr.split()\n",
        "\n",
        "# Iterate through the top indices to find the corresponding words and their probabilities\n",
        "for idx in top_indices:\n",
        "    row = idx // alignment.shape[1]\n",
        "    col = idx % alignment.shape[1]\n",
        "    prob = flat_alignment[idx]\n",
        "    print(f\"({row}, {col}) -> {french_words[row]}, {english_words[col]}, prob: {prob:.4f}\")\n"
      ]
    },
    {
      "cell_type": "markdown",
      "id": "0BxnOJJ2xhIZ",
      "metadata": {
        "id": "0BxnOJJ2xhIZ",
        "ExecuteTime": {
          "end_time": "2023-11-25T01:48:56.107535Z",
          "start_time": "2023-11-25T01:48:55.990741Z"
        }
      },
      "source": [
        "1. What are the top 2 alignments shown in the figure?\n",
        "2. On the rows you see flat lines for `ciel` and `dans` and `licornes`, why do you think that is?"
      ]
    },
    {
      "cell_type": "markdown",
      "id": "QUwdKXhZxqUP",
      "metadata": {
        "id": "QUwdKXhZxqUP"
      },
      "source": [
        "**Answer:**\n",
        "\n",
        "```\n",
        "1. Top 2 Alignments:\n",
        "    1. nuages - clouds\n",
        "    2. café, coffee\n",
        "\n",
        "2. The flat lines for ciel, dans, and licornes in the rows of the visualization occur because these words are not recognized by our tokenizer.\n",
        "Specifically, the punctuated forms \"ciel.\" and \"\\u200b\\u200bdans\", along with \"licornes\", are absent from our French dictionary (fr_dict).\n",
        "As a result, these words are assigned zero embeddings.\n",
        "\n",
        "When calculating the alignment between the French and English sentences, the corresponding rows for these unrecognized words contain only zeros.\n",
        "After applying the softmax function, which normalizes values across columns (because it was called with the axis 1), each cell in these rows gets an equal, small value (0.09090909090909091).\n",
        "This uniformity across the row creates the appearance of flat lines in the visualization.\n",
        "```"
      ]
    },
    {
      "cell_type": "markdown",
      "id": "C2TnQmsxy70i",
      "metadata": {
        "id": "C2TnQmsxy70i"
      },
      "source": [
        "####${\\color{red}{Comments\\ 3.1}}$\n",
        "\n",
        "${\\color{red}{⚠️Comments\\ begin⚠️}}$\n",
        "\n",
        "\n",
        "```\n",
        "cross-feedback comment section\n",
        "```\n",
        "\n",
        "\n",
        "${\\color{red}{⚠️Comments\\ end⚠️}}$"
      ]
    },
    {
      "cell_type": "markdown",
      "id": "eqXwL4MpzW--",
      "metadata": {
        "id": "eqXwL4MpzW--"
      },
      "source": [
        "### Subtask 2: Scaled Dot-product\n",
        "Implement the scaled dot-product attention using the functions from above.\n",
        "\n"
      ]
    },
    {
      "cell_type": "code",
      "execution_count": 42,
      "id": "8iQTr4KCzqZk",
      "metadata": {
        "id": "8iQTr4KCzqZk",
        "colab": {
          "base_uri": "https://localhost:8080/"
        },
        "outputId": "680d020a-bf39-42eb-dd1a-64e7bd6f927c",
        "ExecuteTime": {
          "end_time": "2023-11-25T09:53:31.010508Z",
          "start_time": "2023-11-25T09:53:31.007540Z"
        }
      },
      "outputs": [
        {
          "output_type": "stream",
          "name": "stdout",
          "text": [
            "(14, 300)\n",
            "[[-0.0077802  -0.00345834 -0.01493142  0.05936939 -0.02286767 -0.00835552\n",
            "   0.00079745 -0.03737862  0.0270674   0.05374082]\n",
            " [-0.00777829 -0.00336843 -0.01498988  0.05937157 -0.02285948 -0.00835695\n",
            "   0.00085725 -0.03740797  0.02706951  0.05377672]]\n"
          ]
        }
      ],
      "source": [
        "def attention(queries, keys, values):\n",
        "    \"\"\"  scaled dot-product attention\n",
        "    queries: query matrix\n",
        "    keys: key matrix\n",
        "    value: value matrix\n",
        "    \"\"\"\n",
        "\n",
        "    weights = calc_weights(queries, keys)\n",
        "    attention = np.matmul(weights, values)\n",
        "\n",
        "    return attention\n",
        "\n",
        "\n",
        "attention_result = attention(embedded_fr, embedded_en, embedded_en)\n",
        "print(attention_result.shape)\n",
        "print(attention_result[0:2,:10])"
      ]
    },
    {
      "cell_type": "markdown",
      "id": "vlwGjAWMy_OX",
      "metadata": {
        "id": "vlwGjAWMy_OX",
        "ExecuteTime": {
          "end_time": "2023-11-25T01:48:59.792264Z",
          "start_time": "2023-11-25T01:48:59.783683Z"
        }
      },
      "source": [
        "####${\\color{red}{Comments\\ 3.2}}$\n",
        "\n",
        "${\\color{red}{⚠️Comments\\ begin⚠️}}$\n",
        "\n",
        "\n",
        "```\n",
        "cross-feedback comment section\n",
        "```\n",
        "\n",
        "\n",
        "${\\color{red}{⚠️Comments\\ end⚠️}}$"
      ]
    },
    {
      "cell_type": "code",
      "execution_count": 42,
      "id": "qDx8DrnVzAR1",
      "metadata": {
        "id": "qDx8DrnVzAR1",
        "ExecuteTime": {
          "end_time": "2023-11-25T09:53:31.012365Z",
          "start_time": "2023-11-25T09:53:31.009972Z"
        }
      },
      "outputs": [],
      "source": []
    }
  ],
  "metadata": {
    "accelerator": "GPU",
    "colab": {
      "gpuType": "T4",
      "provenance": []
    },
    "kernelspec": {
      "name": "python3",
      "language": "python",
      "display_name": "Python 3 (ipykernel)"
    },
    "language_info": {
      "codemirror_mode": {
        "name": "ipython",
        "version": 3
      },
      "file_extension": ".py",
      "mimetype": "text/x-python",
      "name": "python",
      "nbconvert_exporter": "python",
      "pygments_lexer": "ipython3",
      "version": "3.10.13"
    }
  },
  "nbformat": 4,
  "nbformat_minor": 5
}