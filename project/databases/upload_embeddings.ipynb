{
 "cells": [
  {
   "cell_type": "markdown",
   "source": [],
   "metadata": {
    "collapsed": false
   },
   "id": "3c9edac1b2e15153"
  },
  {
   "cell_type": "code",
   "execution_count": 1,
   "outputs": [
    {
     "name": "stderr",
     "output_type": "stream",
     "text": [
      "/Users/yusuf/miniconda3/envs/torch/lib/python3.9/site-packages/pinecone/index.py:4: TqdmExperimentalWarning: Using `tqdm.autonotebook.tqdm` in notebook mode. Use `tqdm.tqdm` instead to force console mode (e.g. in jupyter console)\n",
      "  from tqdm.autonotebook import tqdm\n"
     ]
    }
   ],
   "source": [
    "from PineconeHandler import PineconeHelper\n",
    "import numpy as np"
   ],
   "metadata": {
    "collapsed": false,
    "ExecuteTime": {
     "end_time": "2024-01-06T11:37:30.206704Z",
     "start_time": "2024-01-06T11:37:28.893903Z"
    }
   },
   "id": "336b54875338ae58"
  },
  {
   "cell_type": "code",
   "execution_count": 2,
   "outputs": [],
   "source": [
    "embeddings = np.load('../embeddings/embeddings.npy')"
   ],
   "metadata": {
    "collapsed": false,
    "ExecuteTime": {
     "end_time": "2024-01-06T11:37:33.415883Z",
     "start_time": "2024-01-06T11:37:33.392227Z"
    }
   },
   "id": "3728b1cdbded696a"
  },
  {
   "cell_type": "code",
   "execution_count": 3,
   "outputs": [
    {
     "data": {
      "text/plain": "(19646, 768)"
     },
     "execution_count": 3,
     "metadata": {},
     "output_type": "execute_result"
    }
   ],
   "source": [
    "embeddings.shape"
   ],
   "metadata": {
    "collapsed": false,
    "ExecuteTime": {
     "end_time": "2024-01-06T11:37:35.352982Z",
     "start_time": "2024-01-06T11:37:35.340490Z"
    }
   },
   "id": "6e0a89762618f6c5"
  },
  {
   "cell_type": "code",
   "execution_count": 4,
   "outputs": [],
   "source": [
    "pc_helper = PineconeHelper(index_name=\"pubmed\", dimension=embeddings.shape[1], metric=\"cosine\")"
   ],
   "metadata": {
    "collapsed": false,
    "ExecuteTime": {
     "end_time": "2024-01-06T11:37:39.385658Z",
     "start_time": "2024-01-06T11:37:38.367872Z"
    }
   },
   "id": "efa150d7b479c9b3"
  },
  {
   "cell_type": "code",
   "execution_count": 6,
   "outputs": [
    {
     "data": {
      "text/plain": "0"
     },
     "execution_count": 6,
     "metadata": {},
     "output_type": "execute_result"
    }
   ],
   "source": [
    "pc_helper.get_vector_count()"
   ],
   "metadata": {
    "collapsed": false,
    "ExecuteTime": {
     "end_time": "2024-01-06T11:30:58.205364Z",
     "start_time": "2024-01-06T11:30:58.044505Z"
    }
   },
   "id": "ca5b55bd730d1c66"
  },
  {
   "cell_type": "markdown",
   "source": [
    "if the index is not empty, you can make it empty by calling \"pc_helper.clear_index()\" before upserting vectors"
   ],
   "metadata": {
    "collapsed": false
   },
   "id": "2a3d4a43e3089772"
  },
  {
   "cell_type": "code",
   "execution_count": null,
   "outputs": [],
   "source": [
    "# pc_helper.clear_index()\n",
    "# pc_helper.get_vector_count()"
   ],
   "metadata": {
    "collapsed": false
   },
   "id": "185abb7a613304e9"
  },
  {
   "cell_type": "code",
   "execution_count": 8,
   "outputs": [
    {
     "name": "stdout",
     "output_type": "stream",
     "text": [
      "Batch 1/197 with 100 vectors upserted.\n",
      "Batch 2/197 with 100 vectors upserted.\n",
      "Batch 3/197 with 100 vectors upserted.\n",
      "Batch 4/197 with 100 vectors upserted.\n",
      "Batch 5/197 with 100 vectors upserted.\n",
      "Batch 6/197 with 100 vectors upserted.\n",
      "Batch 7/197 with 100 vectors upserted.\n",
      "Batch 8/197 with 100 vectors upserted.\n",
      "Batch 9/197 with 100 vectors upserted.\n",
      "Batch 10/197 with 100 vectors upserted.\n",
      "Batch 11/197 with 100 vectors upserted.\n",
      "Batch 12/197 with 100 vectors upserted.\n",
      "Batch 13/197 with 100 vectors upserted.\n",
      "Batch 14/197 with 100 vectors upserted.\n",
      "Batch 15/197 with 100 vectors upserted.\n",
      "Batch 16/197 with 100 vectors upserted.\n",
      "Batch 17/197 with 100 vectors upserted.\n",
      "Batch 18/197 with 100 vectors upserted.\n",
      "Batch 19/197 with 100 vectors upserted.\n",
      "Batch 20/197 with 100 vectors upserted.\n",
      "Batch 21/197 with 100 vectors upserted.\n",
      "Batch 22/197 with 100 vectors upserted.\n",
      "Batch 23/197 with 100 vectors upserted.\n",
      "Batch 24/197 with 100 vectors upserted.\n",
      "Batch 25/197 with 100 vectors upserted.\n",
      "Batch 26/197 with 100 vectors upserted.\n",
      "Batch 27/197 with 100 vectors upserted.\n",
      "Batch 28/197 with 100 vectors upserted.\n",
      "Batch 29/197 with 100 vectors upserted.\n",
      "Batch 30/197 with 100 vectors upserted.\n",
      "Batch 31/197 with 100 vectors upserted.\n",
      "Batch 32/197 with 100 vectors upserted.\n",
      "Batch 33/197 with 100 vectors upserted.\n",
      "Batch 34/197 with 100 vectors upserted.\n",
      "Batch 35/197 with 100 vectors upserted.\n",
      "Batch 36/197 with 100 vectors upserted.\n",
      "Batch 37/197 with 100 vectors upserted.\n",
      "Batch 38/197 with 100 vectors upserted.\n",
      "Batch 39/197 with 100 vectors upserted.\n",
      "Batch 40/197 with 100 vectors upserted.\n",
      "Batch 41/197 with 100 vectors upserted.\n",
      "Batch 42/197 with 100 vectors upserted.\n",
      "Batch 43/197 with 100 vectors upserted.\n",
      "Batch 44/197 with 100 vectors upserted.\n",
      "Batch 45/197 with 100 vectors upserted.\n",
      "Batch 46/197 with 100 vectors upserted.\n",
      "Batch 47/197 with 100 vectors upserted.\n",
      "Batch 48/197 with 100 vectors upserted.\n",
      "Batch 49/197 with 100 vectors upserted.\n",
      "Batch 50/197 with 100 vectors upserted.\n",
      "Batch 51/197 with 100 vectors upserted.\n",
      "Batch 52/197 with 100 vectors upserted.\n",
      "Batch 53/197 with 100 vectors upserted.\n",
      "Batch 54/197 with 100 vectors upserted.\n",
      "Batch 55/197 with 100 vectors upserted.\n",
      "Batch 56/197 with 100 vectors upserted.\n",
      "Batch 57/197 with 100 vectors upserted.\n",
      "Batch 58/197 with 100 vectors upserted.\n",
      "Batch 59/197 with 100 vectors upserted.\n",
      "Batch 60/197 with 100 vectors upserted.\n",
      "Batch 61/197 with 100 vectors upserted.\n",
      "Batch 62/197 with 100 vectors upserted.\n",
      "Batch 63/197 with 100 vectors upserted.\n",
      "Batch 64/197 with 100 vectors upserted.\n",
      "Batch 65/197 with 100 vectors upserted.\n",
      "Batch 66/197 with 100 vectors upserted.\n",
      "Batch 67/197 with 100 vectors upserted.\n",
      "Batch 68/197 with 100 vectors upserted.\n",
      "Batch 69/197 with 100 vectors upserted.\n",
      "Batch 70/197 with 100 vectors upserted.\n",
      "Batch 71/197 with 100 vectors upserted.\n",
      "Batch 72/197 with 100 vectors upserted.\n",
      "Batch 73/197 with 100 vectors upserted.\n",
      "Batch 74/197 with 100 vectors upserted.\n",
      "Batch 75/197 with 100 vectors upserted.\n",
      "Batch 76/197 with 100 vectors upserted.\n",
      "Batch 77/197 with 100 vectors upserted.\n",
      "Batch 78/197 with 100 vectors upserted.\n",
      "Batch 79/197 with 100 vectors upserted.\n",
      "Batch 80/197 with 100 vectors upserted.\n",
      "Batch 81/197 with 100 vectors upserted.\n",
      "Batch 82/197 with 100 vectors upserted.\n",
      "Batch 83/197 with 100 vectors upserted.\n",
      "Batch 84/197 with 100 vectors upserted.\n",
      "Batch 85/197 with 100 vectors upserted.\n",
      "Batch 86/197 with 100 vectors upserted.\n",
      "Batch 87/197 with 100 vectors upserted.\n",
      "Batch 88/197 with 100 vectors upserted.\n",
      "Batch 89/197 with 100 vectors upserted.\n",
      "Batch 90/197 with 100 vectors upserted.\n",
      "Batch 91/197 with 100 vectors upserted.\n",
      "Batch 92/197 with 100 vectors upserted.\n",
      "Batch 93/197 with 100 vectors upserted.\n",
      "Batch 94/197 with 100 vectors upserted.\n",
      "Batch 95/197 with 100 vectors upserted.\n",
      "Batch 96/197 with 100 vectors upserted.\n",
      "Batch 97/197 with 100 vectors upserted.\n",
      "Batch 98/197 with 100 vectors upserted.\n",
      "Batch 100/197 with 100 vectors upserted.\n",
      "Batch 99/197 with 100 vectors upserted.\n",
      "Batch 101/197 with 100 vectors upserted.\n",
      "Batch 102/197 with 100 vectors upserted.\n",
      "Batch 103/197 with 100 vectors upserted.\n",
      "Batch 104/197 with 100 vectors upserted.\n",
      "Batch 105/197 with 100 vectors upserted.\n",
      "Batch 106/197 with 100 vectors upserted.\n",
      "Batch 107/197 with 100 vectors upserted.\n",
      "Batch 108/197 with 100 vectors upserted.\n",
      "Batch 109/197 with 100 vectors upserted.\n",
      "Batch 110/197 with 100 vectors upserted.\n",
      "Batch 111/197 with 100 vectors upserted.\n",
      "Batch 112/197 with 100 vectors upserted.\n",
      "Batch 113/197 with 100 vectors upserted.\n",
      "Batch 114/197 with 100 vectors upserted.\n",
      "Batch 115/197 with 100 vectors upserted.\n",
      "Batch 116/197 with 100 vectors upserted.\n",
      "Batch 117/197 with 100 vectors upserted.\n",
      "Batch 118/197 with 100 vectors upserted.\n",
      "Batch 119/197 with 100 vectors upserted.\n",
      "Batch 120/197 with 100 vectors upserted.\n",
      "Batch 121/197 with 100 vectors upserted.\n",
      "Batch 122/197 with 100 vectors upserted.\n",
      "Batch 123/197 with 100 vectors upserted.\n",
      "Batch 124/197 with 100 vectors upserted.\n",
      "Batch 125/197 with 100 vectors upserted.\n",
      "Batch 126/197 with 100 vectors upserted.\n",
      "Batch 127/197 with 100 vectors upserted.\n",
      "Batch 128/197 with 100 vectors upserted.\n",
      "Batch 129/197 with 100 vectors upserted.\n",
      "Batch 130/197 with 100 vectors upserted.\n",
      "Batch 131/197 with 100 vectors upserted.\n",
      "Batch 132/197 with 100 vectors upserted.\n",
      "Batch 133/197 with 100 vectors upserted.\n",
      "Batch 134/197 with 100 vectors upserted.\n",
      "Batch 135/197 with 100 vectors upserted.\n",
      "Batch 136/197 with 100 vectors upserted.\n",
      "Batch 137/197 with 100 vectors upserted.\n",
      "Batch 138/197 with 100 vectors upserted.\n",
      "Batch 139/197 with 100 vectors upserted.\n",
      "Batch 140/197 with 100 vectors upserted.\n",
      "Batch 141/197 with 100 vectors upserted.\n",
      "Batch 142/197 with 100 vectors upserted.\n",
      "Batch 143/197 with 100 vectors upserted.\n",
      "Batch 144/197 with 100 vectors upserted.\n",
      "Batch 145/197 with 100 vectors upserted.\n",
      "Batch 146/197 with 100 vectors upserted.\n",
      "Batch 147/197 with 100 vectors upserted.\n",
      "Batch 148/197 with 100 vectors upserted.\n",
      "Batch 149/197 with 100 vectors upserted.\n",
      "Batch 150/197 with 100 vectors upserted.\n",
      "Batch 151/197 with 100 vectors upserted.\n",
      "Batch 152/197 with 100 vectors upserted.\n",
      "Batch 153/197 with 100 vectors upserted.\n",
      "Batch 154/197 with 100 vectors upserted.\n",
      "Batch 155/197 with 100 vectors upserted.\n",
      "Batch 156/197 with 100 vectors upserted.\n",
      "Batch 157/197 with 100 vectors upserted.\n",
      "Batch 158/197 with 100 vectors upserted.\n",
      "Batch 159/197 with 100 vectors upserted.\n",
      "Batch 160/197 with 100 vectors upserted.\n",
      "Batch 161/197 with 100 vectors upserted.\n",
      "Batch 162/197 with 100 vectors upserted.\n",
      "Batch 163/197 with 100 vectors upserted.\n",
      "Batch 164/197 with 100 vectors upserted.\n",
      "Batch 165/197 with 100 vectors upserted.\n",
      "Batch 166/197 with 100 vectors upserted.\n",
      "Batch 167/197 with 100 vectors upserted.\n",
      "Batch 168/197 with 100 vectors upserted.\n",
      "Batch 169/197 with 100 vectors upserted.\n",
      "Batch 170/197 with 100 vectors upserted.\n",
      "Batch 171/197 with 100 vectors upserted.\n",
      "Batch 172/197 with 100 vectors upserted.\n",
      "Batch 173/197 with 100 vectors upserted.\n",
      "Batch 174/197 with 100 vectors upserted.\n",
      "Batch 175/197 with 100 vectors upserted.\n",
      "Batch 176/197 with 100 vectors upserted.\n",
      "Batch 177/197 with 100 vectors upserted.\n",
      "Batch 178/197 with 100 vectors upserted.\n",
      "Batch 179/197 with 100 vectors upserted.\n",
      "Batch 180/197 with 100 vectors upserted.\n",
      "Batch 181/197 with 100 vectors upserted.\n",
      "Batch 182/197 with 100 vectors upserted.\n",
      "Batch 183/197 with 100 vectors upserted.\n",
      "Batch 184/197 with 100 vectors upserted.\n",
      "Batch 185/197 with 100 vectors upserted.\n",
      "Batch 186/197 with 100 vectors upserted.\n",
      "Batch 187/197 with 100 vectors upserted.\n",
      "Batch 188/197 with 100 vectors upserted.\n",
      "Batch 189/197 with 100 vectors upserted.\n",
      "Batch 190/197 with 100 vectors upserted.\n",
      "Batch 191/197 with 100 vectors upserted.\n",
      "Batch 192/197 with 100 vectors upserted.\n",
      "Batch 193/197 with 100 vectors upserted.\n",
      "Batch 194/197 with 100 vectors upserted.\n",
      "Batch 195/197 with 100 vectors upserted.\n",
      "Batch 196/197 with 100 vectors upserted.\n",
      "Batch 197/197 with 46 vectors upserted.\n",
      "19646 vectors are successfully upserted.\n"
     ]
    }
   ],
   "source": [
    "pc_helper.upsert(embeddings)"
   ],
   "metadata": {
    "collapsed": false,
    "ExecuteTime": {
     "end_time": "2024-01-06T11:34:00.253344Z",
     "start_time": "2024-01-06T11:31:19.500012Z"
    }
   },
   "id": "afa45c43c3c8d55a"
  },
  {
   "cell_type": "code",
   "execution_count": 5,
   "outputs": [
    {
     "data": {
      "text/plain": "19646"
     },
     "execution_count": 5,
     "metadata": {},
     "output_type": "execute_result"
    }
   ],
   "source": [
    "pc_helper.get_vector_count()"
   ],
   "metadata": {
    "collapsed": false,
    "ExecuteTime": {
     "end_time": "2024-01-06T11:37:45.636686Z",
     "start_time": "2024-01-06T11:37:45.326175Z"
    }
   },
   "id": "3fb531b0dcb1383e"
  },
  {
   "cell_type": "code",
   "execution_count": 6,
   "outputs": [
    {
     "data": {
      "text/plain": "{'namespace': '',\n 'vectors': {'1': {'id': '1',\n                   'values': [0.177377194,\n                              0.00771927461,\n                              -0.199726269,\n                              0.105619937,\n                              0.346042633,\n                              0.0513505675,\n                              -0.0228041429,\n                              -0.0241057184,\n                              0.00398014626,\n                              -0.114577368,\n                              0.0938468352,\n                              0.224997476,\n                              -0.169692829,\n                              0.260654211,\n                              -0.304250807,\n                              -0.23477231,\n                              0.287542313,\n                              -0.0534001924,\n                              -0.159989879,\n                              -0.0934915841,\n                              -0.148065716,\n                              0.0448133089,\n                              -0.0450784191,\n                              0.0762144923,\n                              -0.0452579595,\n                              -0.111889265,\n                              -0.0132254623,\n                              0.585206449,\n                              0.233087361,\n                              0.496923327,\n                              -0.139322922,\n                              -0.022972174,\n                              -0.0636043698,\n                              -0.186984718,\n                              0.309501886,\n                              -0.106986709,\n                              0.00751766609,\n                              0.405647069,\n                              -0.083232224,\n                              0.525476098,\n                              0.358818591,\n                              0.159726158,\n                              0.120541945,\n                              0.188753814,\n                              0.20917055,\n                              0.116146438,\n                              -0.296909511,\n                              -0.262313753,\n                              -0.167759344,\n                              0.274012715,\n                              0.0548494719,\n                              0.0145428721,\n                              0.0882396549,\n                              -0.113163546,\n                              0.0726441145,\n                              -0.304888725,\n                              -0.0955802575,\n                              -0.118717559,\n                              0.170319721,\n                              0.37404269,\n                              0.0293181296,\n                              -0.0537932888,\n                              0.312629759,\n                              0.154626757,\n                              0.0488902926,\n                              0.0736693144,\n                              0.411096305,\n                              -0.258447647,\n                              0.265750408,\n                              -0.11961922,\n                              -0.249121323,\n                              -0.358303696,\n                              -0.145304456,\n                              0.00236465223,\n                              -0.207225472,\n                              -0.142015979,\n                              0.192247063,\n                              -0.0480907,\n                              0.140454173,\n                              0.143480688,\n                              0.362880379,\n                              0.168840617,\n                              -0.211700603,\n                              0.509096682,\n                              0.125993729,\n                              0.380984336,\n                              0.028300127,\n                              0.306093,\n                              0.208959833,\n                              0.485264,\n                              -0.286172241,\n                              -0.208032772,\n                              0.694077671,\n                              -0.0375177301,\n                              -0.11929737,\n                              -0.0758420229,\n                              0.0520059019,\n                              0.148195729,\n                              -0.58317256,\n                              0.0190531053,\n                              -0.229589418,\n                              0.0121275727,\n                              -0.1696257,\n                              -0.00633354159,\n                              -0.00865210779,\n                              0.0135998987,\n                              -0.101092234,\n                              -0.181635305,\n                              -0.485639334,\n                              0.260299563,\n                              0.137274474,\n                              -0.368774,\n                              0.0530649386,\n                              0.208002061,\n                              -0.0445533246,\n                              -0.125477344,\n                              0.322951913,\n                              0.0790149271,\n                              0.213191077,\n                              0.346397877,\n                              0.211688295,\n                              -0.15384075,\n                              0.153288931,\n                              0.161122903,\n                              0.13884072,\n                              -0.118403874,\n                              -0.0540568382,\n                              -0.0920157209,\n                              0.241158038,\n                              0.219091833,\n                              -0.46436277,\n                              0.0241515096,\n                              0.291496903,\n                              0.383531868,\n                              -0.0643116,\n                              -0.0348251648,\n                              -0.334832907,\n                              0.245457709,\n                              -0.340076,\n                              -0.386350244,\n                              -0.304944754,\n                              -0.144897893,\n                              0.169375211,\n                              -0.522024512,\n                              0.322390825,\n                              -0.136595473,\n                              -0.180465,\n                              -0.0927630439,\n                              0.299457,\n                              0.0346270725,\n                              -0.40645358,\n                              -0.0468797348,\n                              0.285971045,\n                              -0.0839290693,\n                              0.131079704,\n                              -0.385210872,\n                              -0.0890056938,\n                              -0.242796779,\n                              0.166215166,\n                              -0.125469968,\n                              0.165587962,\n                              -0.128237233,\n                              0.0991594791,\n                              0.272637874,\n                              0.0210215636,\n                              0.00382473855,\n                              0.191473216,\n                              0.353805095,\n                              -0.17945464,\n                              0.240832612,\n                              0.0193896182,\n                              -0.0435541272,\n                              0.125645697,\n                              0.296011448,\n                              0.278998882,\n                              0.0953615606,\n                              0.258027077,\n                              -0.306058079,\n                              -0.148213506,\n                              0.0872438177,\n                              0.05135566,\n                              -0.434720814,\n                              -0.325701892,\n                              -0.427923232,\n                              0.1311571,\n                              0.142011911,\n                              0.0566906072,\n                              -0.00957685709,\n                              0.543211639,\n                              -0.0111288428,\n                              0.385526896,\n                              -0.0840945244,\n                              -0.0776000097,\n                              0.160981014,\n                              -0.698762119,\n                              -0.239655,\n                              0.0327027664,\n                              0.0377639569,\n                              0.0955112055,\n                              -0.255469412,\n                              -0.113625363,\n                              -0.0386023186,\n                              0.00836148579,\n                              -0.0141297206,\n                              -0.220921382,\n                              -0.347438425,\n                              -0.0618137196,\n                              0.132038176,\n                              0.0290527958,\n                              -0.286836326,\n                              0.362689823,\n                              -0.201424882,\n                              0.121258207,\n                              -0.0986190736,\n                              -0.25354296,\n                              -0.149436384,\n                              0.47104311,\n                              -0.088621527,\n                              -0.0121998526,\n                              0.274887174,\n                              0.0362131968,\n                              -0.073914811,\n                              0.257308185,\n                              -0.0126350177,\n                              -0.221189409,\n                              0.214358,\n                              0.251025856,\n                              -0.136731967,\n                              0.245881766,\n                              -0.365381241,\n                              -0.197084561,\n                              0.391849101,\n                              -0.150329426,\n                              -0.186582163,\n                              0.240916535,\n                              -0.211489841,\n                              -0.452670544,\n                              0.275991917,\n                              -0.177484587,\n                              0.0228291061,\n                              -0.152146831,\n                              0.136673763,\n                              0.164959699,\n                              0.305642545,\n                              -0.205441758,\n                              0.19845739,\n                              -0.249661922,\n                              0.226130798,\n                              -0.116183124,\n                              0.0119821085,\n                              0.0423453897,\n                              -0.0412396342,\n                              0.0346954,\n                              0.179426327,\n                              0.693538249,\n                              0.168802321,\n                              0.127181113,\n                              0.57444644,\n                              -0.0983601511,\n                              -0.179215625,\n                              0.0734827295,\n                              0.228858247,\n                              0.0929092169,\n                              -0.022481164,\n                              -0.204445392,\n                              -0.213457569,\n                              -0.228360131,\n                              -0.236020982,\n                              -0.187091187,\n                              0.0169854742,\n                              -0.0133037083,\n                              -0.299483299,\n                              0.494274646,\n                              0.167150289,\n                              -0.0323484,\n                              -0.0719066858,\n                              0.243696019,\n                              -0.218030155,\n                              -0.0429196842,\n                              -0.224803597,\n                              0.122321799,\n                              0.150056913,\n                              0.356556475,\n                              -0.0742671192,\n                              -0.209868848,\n                              0.0353669822,\n                              -0.152725682,\n                              0.0161403585,\n                              0.16465582,\n                              -0.145195588,\n                              -0.106753916,\n                              0.180058047,\n                              -0.361755073,\n                              -0.173474684,\n                              -0.00270349206,\n                              -0.188199058,\n                              -0.309513181,\n                              -0.00868371,\n                              -0.0217186939,\n                              0.0546370484,\n                              0.310173452,\n                              0.261619627,\n                              0.332110047,\n                              0.0678829923,\n                              -0.326224416,\n                              0.17181924,\n                              0.0195688196,\n                              -0.0667414889,\n                              0.127480254,\n                              0.164525121,\n                              0.798561871,\n                              -0.0175947938,\n                              -0.067536287,\n                              -0.062689811,\n                              -0.188557327,\n                              -0.0286708381,\n                              0.133892164,\n                              0.183906972,\n                              -0.0868359134,\n                              -0.0751753822,\n                              -0.0947413,\n                              0.00670017768,\n                              0.208175272,\n                              0.0523986928,\n                              -0.186078861,\n                              0.221389011,\n                              0.213124871,\n                              -0.176337957,\n                              0.177333266,\n                              -0.172843426,\n                              -0.320980608,\n                              -0.056070596,\n                              0.276714563,\n                              0.186944604,\n                              0.0317250267,\n                              0.12974599,\n                              0.225786477,\n                              0.190436095,\n                              -0.482951313,\n                              0.355268806,\n                              0.191456348,\n                              -0.0412723646,\n                              0.351369947,\n                              -0.216510415,\n                              0.211822882,\n                              0.149807677,\n                              -0.196859837,\n                              -0.115001619,\n                              0.0368775912,\n                              -0.314958751,\n                              -0.281188518,\n                              -0.41209057,\n                              -0.441414058,\n                              -0.0562010556,\n                              0.365140975,\n                              -0.11371313,\n                              -0.255040556,\n                              0.160662562,\n                              0.238600716,\n                              -0.077581279,\n                              -0.0130883725,\n                              -0.162956744,\n                              -0.143812045,\n                              -0.131873041,\n                              -0.0565791391,\n                              -0.0677642822,\n                              -0.0079041142,\n                              0.342976689,\n                              -0.351220399,\n                              0.208144113,\n                              0.0514263287,\n                              -0.256819129,\n                              0.1389568,\n                              -0.0679282621,\n                              -0.218236804,\n                              -0.0460524745,\n                              -0.401949108,\n                              -0.166732103,\n                              -0.212211847,\n                              -0.252411634,\n                              0.0935430676,\n                              0.163097665,\n                              -0.139916733,\n                              0.0398953371,\n                              -0.0346763916,\n                              -0.401776493,\n                              -0.283541262,\n                              0.0311402939,\n                              0.419747293,\n                              0.0988233,\n                              -0.240292922,\n                              -0.101106875,\n                              0.0161775816,\n                              0.063234143,\n                              -0.0482924357,\n                              0.124024317,\n                              -0.166818947,\n                              -0.193987072,\n                              -0.322638065,\n                              0.178201541,\n                              -0.231545255,\n                              -0.0394404,\n                              -0.263837904,\n                              -0.345542818,\n                              -0.294766337,\n                              0.227354199,\n                              -0.188760474,\n                              -0.276941568,\n                              -0.0516929254,\n                              -0.0637919381,\n                              -0.114400603,\n                              -0.209650353,\n                              0.75354147,\n                              0.257724106,\n                              -0.0909502953,\n                              -0.366990596,\n                              -0.00510273641,\n                              0.150127396,\n                              0.289745063,\n                              -0.00332561159,\n                              -0.312976897,\n                              0.05968602,\n                              0.439131379,\n                              0.341183752,\n                              0.535146236,\n                              0.123321839,\n                              -0.0812220648,\n                              -0.398042709,\n                              0.0204402078,\n                              0.216775224,\n                              -0.0715644434,\n                              0.156053364,\n                              -0.31933102,\n                              0.419959456,\n                              -0.0876168683,\n                              -0.148881644,\n                              0.138417035,\n                              -0.215279534,\n                              0.0143707814,\n                              -0.064059414,\n                              0.291080326,\n                              -0.121803537,\n                              -0.0564038083,\n                              -0.283988625,\n                              0.0228922348,\n                              -0.224263594,\n                              -0.0442193598,\n                              -0.259019881,\n                              -0.161222488,\n                              0.0150508024,\n                              0.177044451,\n                              -0.117749467,\n                              0.154780477,\n                              0.00642327545,\n                              0.0360334031,\n                              -0.73782897,\n                              0.15031758,\n                              0.00310189277,\n                              -0.269815564,\n                              0.143712059,\n                              -0.395073682,\n                              0.0689202398,\n                              0.0265920535,\n                              0.340659589,\n                              0.121145509,\n                              -0.1503831,\n                              0.249657825,\n                              0.602278,\n                              0.209234878,\n                              0.170508444,\n                              0.297800362,\n                              -0.00368635636,\n                              0.183864743,\n                              0.056019634,\n                              -0.0168351922,\n                              -0.159047827,\n                              0.0765482262,\n                              0.0037297227,\n                              0.197912365,\n                              -0.234415725,\n                              -0.113464013,\n                              -0.103046261,\n                              -0.387549162,\n                              -0.00297364336,\n                              0.486703545,\n                              0.298173666,\n                              0.522054493,\n                              0.252417862,\n                              0.412847698,\n                              0.308853686,\n                              -0.194426119,\n                              0.390811861,\n                              0.00643302174,\n                              0.0977388918,\n                              0.0867710635,\n                              -0.26415962,\n                              0.00516814087,\n                              -0.0380566269,\n                              -0.210427627,\n                              -0.190407246,\n                              0.320032686,\n                              -0.118363425,\n                              -0.206414774,\n                              -0.0481200628,\n                              -0.209140256,\n                              0.461149275,\n                              -0.21352075,\n                              0.126186937,\n                              0.099335663,\n                              -0.307213157,\n                              -0.0486045703,\n                              -0.381687969,\n                              -0.145226359,\n                              0.101701289,\n                              -0.0399344414,\n                              -0.276562899,\n                              -0.186821118,\n                              0.294581652,\n                              -0.101312071,\n                              0.0537409186,\n                              0.151991159,\n                              -0.0352693871,\n                              -0.0135440798,\n                              -0.112919889,\n                              0.0168438423,\n                              0.422662407,\n                              0.974640965,\n                              -0.115178846,\n                              -0.265560925,\n                              -0.274133027,\n                              -0.0525494181,\n                              0.0822891742,\n                              0.00733514177,\n                              -0.216392979,\n                              0.153821096,\n                              -0.0513318516,\n                              -0.198244527,\n                              -0.0869973376,\n                              0.0278245695,\n                              0.272405356,\n                              -0.461687118,\n                              -0.149935037,\n                              0.311456144,\n                              -0.129183754,\n                              0.0763407722,\n                              0.767513454,\n                              -0.130716592,\n                              0.19881992,\n                              0.00360150309,\n                              0.158202156,\n                              0.317748278,\n                              0.273396581,\n                              -0.559771419,\n                              0.278120339,\n                              0.245176375,\n                              0.0532226972,\n                              -0.160659939,\n                              -7.94060659,\n                              0.160112411,\n                              -0.0619859621,\n                              0.302918226,\n                              0.128725916,\n                              0.0300092399,\n                              -0.00418562256,\n                              -0.295611411,\n                              -0.178565487,\n                              -0.0710576177,\n                              0.0912105888,\n                              -0.072739467,\n                              0.468295157,\n                              0.296165705,\n                              -0.0385211036,\n                              -0.280820459,\n                              -0.0180299263,\n                              -0.0381481908,\n                              0.272617936,\n                              0.0699870586,\n                              -0.0104709072,\n                              0.466902077,\n                              -0.106349349,\n                              0.255953759,\n                              0.287291,\n                              -0.0627856255,\n                              -0.10198427,\n                              0.118540123,\n                              0.194137514,\n                              -0.0500525348,\n                              -0.208049983,\n                              0.175964057,\n                              -0.371881396,\n                              -0.123293065,\n                              0.0228668228,\n                              -0.135010794,\n                              0.0394950546,\n                              -0.0546649657,\n                              0.273542911,\n                              -0.168693244,\n                              -0.100647636,\n                              -0.0416564792,\n                              -0.196496084,\n                              -0.254728884,\n                              0.209013283,\n                              -0.00265346165,\n                              0.12171948,\n                              -0.308475137,\n                              -0.345341921,\n                              0.334967166,\n                              0.292922527,\n                              0.258766413,\n                              0.353337526,\n                              -0.10726843,\n                              -0.180701301,\n                              -0.174103275,\n                              -0.133153632,\n                              0.0765269399,\n                              0.409566849,\n                              -0.223328665,\n                              -0.162396282,\n                              0.0878504217,\n                              0.0962903649,\n                              -0.376156747,\n                              -0.140924,\n                              0.0751989782,\n                              -0.148101911,\n                              -0.132896483,\n                              -0.0230927859,\n                              0.0469617583,\n                              -0.239918575,\n                              -0.0924761295,\n                              0.166036099,\n                              -0.518253326,\n                              -0.0273139309,\n                              -0.328595966,\n                              -0.00859712716,\n                              0.150016516,\n                              0.0192719251,\n                              0.310530663,\n                              0.22575286,\n                              0.085123755,\n                              -0.10605453,\n                              0.0753122643,\n                              -0.230650678,\n                              -0.264084965,\n                              -0.293977559,\n                              0.0438182801,\n                              0.0220621377,\n                              -0.208139122,\n                              0.0395903736,\n                              0.19007656,\n                              -0.0892590284,\n                              -0.206064895,\n                              -0.354222327,\n                              -0.185636789,\n                              -0.145799413,\n                              -0.0957484543,\n                              0.0756234452,\n                              0.368499458,\n                              -0.223103017,\n                              0.141314566,\n                              -0.112722598,\n                              0.0877336338,\n                              0.0542617291,\n                              0.070778966,\n                              -0.0589748956,\n                              -0.409139335,\n                              -0.0543843471,\n                              0.172988102,\n                              -0.17828235,\n                              0.234065384,\n                              0.223946914,\n                              -0.140835106,\n                              0.231853113,\n                              0.403378487,\n                              0.587396801,\n                              0.16650033,\n                              0.0494666733,\n                              -0.208962396,\n                              0.092691943,\n                              -0.449548602,\n                              -0.0541468114,\n                              0.346432149,\n                              0.101112925,\n                              0.291986346,\n                              -0.0151162548,\n                              -0.103472807,\n                              0.25142929,\n                              -0.184511378,\n                              0.0326588117,\n                              0.133789435,\n                              -0.37869069,\n                              0.471753091,\n                              -0.255533189,\n                              -0.196559265,\n                              -0.201422229,\n                              -0.083045736,\n                              -0.00138899614,\n                              -0.104640976,\n                              -0.591184199,\n                              0.193636164,\n                              0.317028612,\n                              0.0809794441,\n                              0.248438388,\n                              -0.0105635896,\n                              -0.229097575,\n                              -0.180243477,\n                              0.208396643,\n                              -0.0671447664,\n                              -0.415662289,\n                              -0.0543560609,\n                              0.246194318,\n                              0.0720767,\n                              0.0107797217,\n                              -0.0472842,\n                              0.217527539,\n                              0.342520297,\n                              -0.152885169,\n                              -0.396491647,\n                              0.0827648193,\n                              0.321226865,\n                              -0.0526664183,\n                              -0.025522707,\n                              0.0451092497,\n                              -0.0339902639,\n                              0.240477249,\n                              -0.357190222,\n                              -0.0576149747,\n                              0.198171079,\n                              0.110653572,\n                              0.0751753896,\n                              -0.174246624,\n                              -0.120379314,\n                              0.0314515755,\n                              -0.194240779,\n                              0.207087412,\n                              -0.139386386,\n                              0.41051051,\n                              0.190832883,\n                              -0.020091014,\n                              -0.0694541857,\n                              0.130294874,\n                              -0.41864,\n                              -0.380168408,\n                              0.258726478,\n                              0.259283155,\n                              0.0116986958,\n                              -0.212505698,\n                              -0.424871415,\n                              -0.0777976066,\n                              -0.0506530926,\n                              -0.452555209,\n                              0.339965761,\n                              0.106285341,\n                              0.370303363,\n                              -0.094329007,\n                              -0.0418270268,\n                              -0.0290987249,\n                              0.120405778,\n                              0.0692444667,\n                              -0.0336785801,\n                              0.0480666384,\n                              -0.097548604,\n                              -0.29992643,\n                              -0.0452421829,\n                              -0.171371087,\n                              -0.39059189,\n                              0.391823888,\n                              -0.0951998681,\n                              0.132789895]}}}"
     },
     "execution_count": 6,
     "metadata": {},
     "output_type": "execute_result"
    }
   ],
   "source": [
    "pc_helper.fetch_vector(\"1\")"
   ],
   "metadata": {
    "collapsed": false,
    "ExecuteTime": {
     "end_time": "2024-01-06T11:37:48.700814Z",
     "start_time": "2024-01-06T11:37:48.521259Z"
    }
   },
   "id": "35eb68511fc342a8"
  },
  {
   "cell_type": "code",
   "execution_count": null,
   "outputs": [],
   "source": [],
   "metadata": {
    "collapsed": false
   },
   "id": "5da256949be5bedd"
  }
 ],
 "metadata": {
  "kernelspec": {
   "display_name": "Python 3",
   "language": "python",
   "name": "python3"
  },
  "language_info": {
   "codemirror_mode": {
    "name": "ipython",
    "version": 2
   },
   "file_extension": ".py",
   "mimetype": "text/x-python",
   "name": "python",
   "nbconvert_exporter": "python",
   "pygments_lexer": "ipython2",
   "version": "2.7.6"
  }
 },
 "nbformat": 4,
 "nbformat_minor": 5
}
