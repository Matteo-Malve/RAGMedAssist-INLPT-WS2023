{
  "nbformat": 4,
  "nbformat_minor": 0,
  "metadata": {
    "colab": {
      "provenance": [],
      "gpuType": "T4"
    },
    "kernelspec": {
      "name": "python3",
      "display_name": "Python 3"
    },
    "language_info": {
      "name": "python"
    },
    "accelerator": "GPU",
    "widgets": {
      "application/vnd.jupyter.widget-state+json": {
        "22c7e0acf96544a8bc95fbbd3e207af8": {
          "model_module": "@jupyter-widgets/controls",
          "model_name": "HBoxModel",
          "model_module_version": "1.5.0",
          "state": {
            "_dom_classes": [],
            "_model_module": "@jupyter-widgets/controls",
            "_model_module_version": "1.5.0",
            "_model_name": "HBoxModel",
            "_view_count": null,
            "_view_module": "@jupyter-widgets/controls",
            "_view_module_version": "1.5.0",
            "_view_name": "HBoxView",
            "box_style": "",
            "children": [
              "IPY_MODEL_a2dfed094cc148d4ae44862b8029ae5e",
              "IPY_MODEL_e6cabdf7142f4041905838a962ff66a8",
              "IPY_MODEL_f72a8f84df5d46238100a629fa43bcda"
            ],
            "layout": "IPY_MODEL_9ae06b81fb3748cda1e9808977839ba0"
          }
        },
        "a2dfed094cc148d4ae44862b8029ae5e": {
          "model_module": "@jupyter-widgets/controls",
          "model_name": "HTMLModel",
          "model_module_version": "1.5.0",
          "state": {
            "_dom_classes": [],
            "_model_module": "@jupyter-widgets/controls",
            "_model_module_version": "1.5.0",
            "_model_name": "HTMLModel",
            "_view_count": null,
            "_view_module": "@jupyter-widgets/controls",
            "_view_module_version": "1.5.0",
            "_view_name": "HTMLView",
            "description": "",
            "description_tooltip": null,
            "layout": "IPY_MODEL_27972a62a3694bedb5c682ccecbac6ff",
            "placeholder": "​",
            "style": "IPY_MODEL_2fea521e47cb4c54a94833bcf70b1bf8",
            "value": "Loading checkpoint shards: 100%"
          }
        },
        "e6cabdf7142f4041905838a962ff66a8": {
          "model_module": "@jupyter-widgets/controls",
          "model_name": "FloatProgressModel",
          "model_module_version": "1.5.0",
          "state": {
            "_dom_classes": [],
            "_model_module": "@jupyter-widgets/controls",
            "_model_module_version": "1.5.0",
            "_model_name": "FloatProgressModel",
            "_view_count": null,
            "_view_module": "@jupyter-widgets/controls",
            "_view_module_version": "1.5.0",
            "_view_name": "ProgressView",
            "bar_style": "success",
            "description": "",
            "description_tooltip": null,
            "layout": "IPY_MODEL_618e8d4f18bd45cbaea6683aa361c2ac",
            "max": 2,
            "min": 0,
            "orientation": "horizontal",
            "style": "IPY_MODEL_d931ed68ca784a29b1c730e094b3666e",
            "value": 2
          }
        },
        "f72a8f84df5d46238100a629fa43bcda": {
          "model_module": "@jupyter-widgets/controls",
          "model_name": "HTMLModel",
          "model_module_version": "1.5.0",
          "state": {
            "_dom_classes": [],
            "_model_module": "@jupyter-widgets/controls",
            "_model_module_version": "1.5.0",
            "_model_name": "HTMLModel",
            "_view_count": null,
            "_view_module": "@jupyter-widgets/controls",
            "_view_module_version": "1.5.0",
            "_view_name": "HTMLView",
            "description": "",
            "description_tooltip": null,
            "layout": "IPY_MODEL_831e2c4befb0456682b775f9fb7fa9c3",
            "placeholder": "​",
            "style": "IPY_MODEL_155f8da8509241449b64b318e5e68bfb",
            "value": " 2/2 [00:17&lt;00:00,  7.31s/it]"
          }
        },
        "9ae06b81fb3748cda1e9808977839ba0": {
          "model_module": "@jupyter-widgets/base",
          "model_name": "LayoutModel",
          "model_module_version": "1.2.0",
          "state": {
            "_model_module": "@jupyter-widgets/base",
            "_model_module_version": "1.2.0",
            "_model_name": "LayoutModel",
            "_view_count": null,
            "_view_module": "@jupyter-widgets/base",
            "_view_module_version": "1.2.0",
            "_view_name": "LayoutView",
            "align_content": null,
            "align_items": null,
            "align_self": null,
            "border": null,
            "bottom": null,
            "display": null,
            "flex": null,
            "flex_flow": null,
            "grid_area": null,
            "grid_auto_columns": null,
            "grid_auto_flow": null,
            "grid_auto_rows": null,
            "grid_column": null,
            "grid_gap": null,
            "grid_row": null,
            "grid_template_areas": null,
            "grid_template_columns": null,
            "grid_template_rows": null,
            "height": null,
            "justify_content": null,
            "justify_items": null,
            "left": null,
            "margin": null,
            "max_height": null,
            "max_width": null,
            "min_height": null,
            "min_width": null,
            "object_fit": null,
            "object_position": null,
            "order": null,
            "overflow": null,
            "overflow_x": null,
            "overflow_y": null,
            "padding": null,
            "right": null,
            "top": null,
            "visibility": null,
            "width": null
          }
        },
        "27972a62a3694bedb5c682ccecbac6ff": {
          "model_module": "@jupyter-widgets/base",
          "model_name": "LayoutModel",
          "model_module_version": "1.2.0",
          "state": {
            "_model_module": "@jupyter-widgets/base",
            "_model_module_version": "1.2.0",
            "_model_name": "LayoutModel",
            "_view_count": null,
            "_view_module": "@jupyter-widgets/base",
            "_view_module_version": "1.2.0",
            "_view_name": "LayoutView",
            "align_content": null,
            "align_items": null,
            "align_self": null,
            "border": null,
            "bottom": null,
            "display": null,
            "flex": null,
            "flex_flow": null,
            "grid_area": null,
            "grid_auto_columns": null,
            "grid_auto_flow": null,
            "grid_auto_rows": null,
            "grid_column": null,
            "grid_gap": null,
            "grid_row": null,
            "grid_template_areas": null,
            "grid_template_columns": null,
            "grid_template_rows": null,
            "height": null,
            "justify_content": null,
            "justify_items": null,
            "left": null,
            "margin": null,
            "max_height": null,
            "max_width": null,
            "min_height": null,
            "min_width": null,
            "object_fit": null,
            "object_position": null,
            "order": null,
            "overflow": null,
            "overflow_x": null,
            "overflow_y": null,
            "padding": null,
            "right": null,
            "top": null,
            "visibility": null,
            "width": null
          }
        },
        "2fea521e47cb4c54a94833bcf70b1bf8": {
          "model_module": "@jupyter-widgets/controls",
          "model_name": "DescriptionStyleModel",
          "model_module_version": "1.5.0",
          "state": {
            "_model_module": "@jupyter-widgets/controls",
            "_model_module_version": "1.5.0",
            "_model_name": "DescriptionStyleModel",
            "_view_count": null,
            "_view_module": "@jupyter-widgets/base",
            "_view_module_version": "1.2.0",
            "_view_name": "StyleView",
            "description_width": ""
          }
        },
        "618e8d4f18bd45cbaea6683aa361c2ac": {
          "model_module": "@jupyter-widgets/base",
          "model_name": "LayoutModel",
          "model_module_version": "1.2.0",
          "state": {
            "_model_module": "@jupyter-widgets/base",
            "_model_module_version": "1.2.0",
            "_model_name": "LayoutModel",
            "_view_count": null,
            "_view_module": "@jupyter-widgets/base",
            "_view_module_version": "1.2.0",
            "_view_name": "LayoutView",
            "align_content": null,
            "align_items": null,
            "align_self": null,
            "border": null,
            "bottom": null,
            "display": null,
            "flex": null,
            "flex_flow": null,
            "grid_area": null,
            "grid_auto_columns": null,
            "grid_auto_flow": null,
            "grid_auto_rows": null,
            "grid_column": null,
            "grid_gap": null,
            "grid_row": null,
            "grid_template_areas": null,
            "grid_template_columns": null,
            "grid_template_rows": null,
            "height": null,
            "justify_content": null,
            "justify_items": null,
            "left": null,
            "margin": null,
            "max_height": null,
            "max_width": null,
            "min_height": null,
            "min_width": null,
            "object_fit": null,
            "object_position": null,
            "order": null,
            "overflow": null,
            "overflow_x": null,
            "overflow_y": null,
            "padding": null,
            "right": null,
            "top": null,
            "visibility": null,
            "width": null
          }
        },
        "d931ed68ca784a29b1c730e094b3666e": {
          "model_module": "@jupyter-widgets/controls",
          "model_name": "ProgressStyleModel",
          "model_module_version": "1.5.0",
          "state": {
            "_model_module": "@jupyter-widgets/controls",
            "_model_module_version": "1.5.0",
            "_model_name": "ProgressStyleModel",
            "_view_count": null,
            "_view_module": "@jupyter-widgets/base",
            "_view_module_version": "1.2.0",
            "_view_name": "StyleView",
            "bar_color": null,
            "description_width": ""
          }
        },
        "831e2c4befb0456682b775f9fb7fa9c3": {
          "model_module": "@jupyter-widgets/base",
          "model_name": "LayoutModel",
          "model_module_version": "1.2.0",
          "state": {
            "_model_module": "@jupyter-widgets/base",
            "_model_module_version": "1.2.0",
            "_model_name": "LayoutModel",
            "_view_count": null,
            "_view_module": "@jupyter-widgets/base",
            "_view_module_version": "1.2.0",
            "_view_name": "LayoutView",
            "align_content": null,
            "align_items": null,
            "align_self": null,
            "border": null,
            "bottom": null,
            "display": null,
            "flex": null,
            "flex_flow": null,
            "grid_area": null,
            "grid_auto_columns": null,
            "grid_auto_flow": null,
            "grid_auto_rows": null,
            "grid_column": null,
            "grid_gap": null,
            "grid_row": null,
            "grid_template_areas": null,
            "grid_template_columns": null,
            "grid_template_rows": null,
            "height": null,
            "justify_content": null,
            "justify_items": null,
            "left": null,
            "margin": null,
            "max_height": null,
            "max_width": null,
            "min_height": null,
            "min_width": null,
            "object_fit": null,
            "object_position": null,
            "order": null,
            "overflow": null,
            "overflow_x": null,
            "overflow_y": null,
            "padding": null,
            "right": null,
            "top": null,
            "visibility": null,
            "width": null
          }
        },
        "155f8da8509241449b64b318e5e68bfb": {
          "model_module": "@jupyter-widgets/controls",
          "model_name": "DescriptionStyleModel",
          "model_module_version": "1.5.0",
          "state": {
            "_model_module": "@jupyter-widgets/controls",
            "_model_module_version": "1.5.0",
            "_model_name": "DescriptionStyleModel",
            "_view_count": null,
            "_view_module": "@jupyter-widgets/base",
            "_view_module_version": "1.2.0",
            "_view_name": "StyleView",
            "description_width": ""
          }
        }
      }
    }
  },
  "cells": [
    {
      "cell_type": "code",
      "source": [
        "%pip install xformer --quiet\n",
        "%pip install langchain --quiet\n",
        "%pip install accelerate --quiet\n",
        "%pip install transformers --quiet\n",
        "%pip install bitsandbytes --quiet\n",
        "%pip install unstructured --quiet\n",
        "%pip install sentence-transformers --quiet\n",
        "%pip install -U faiss-gpu tiktoken\n",
        "%pip install langchainhub --quiet\n"
      ],
      "metadata": {
        "colab": {
          "base_uri": "https://localhost:8080/"
        },
        "id": "kUnoHufc5S-W",
        "outputId": "43ddc0c1-7993-4953-858e-ac2789a5f4e0"
      },
      "execution_count": 2,
      "outputs": [
        {
          "output_type": "stream",
          "name": "stdout",
          "text": [
            "Requirement already satisfied: faiss-gpu in /usr/local/lib/python3.10/dist-packages (1.7.2)\n",
            "Requirement already satisfied: tiktoken in /usr/local/lib/python3.10/dist-packages (0.6.0)\n",
            "Requirement already satisfied: regex>=2022.1.18 in /usr/local/lib/python3.10/dist-packages (from tiktoken) (2023.12.25)\n",
            "Requirement already satisfied: requests>=2.26.0 in /usr/local/lib/python3.10/dist-packages (from tiktoken) (2.31.0)\n",
            "Requirement already satisfied: charset-normalizer<4,>=2 in /usr/local/lib/python3.10/dist-packages (from requests>=2.26.0->tiktoken) (3.3.2)\n",
            "Requirement already satisfied: idna<4,>=2.5 in /usr/local/lib/python3.10/dist-packages (from requests>=2.26.0->tiktoken) (3.6)\n",
            "Requirement already satisfied: urllib3<3,>=1.21.1 in /usr/local/lib/python3.10/dist-packages (from requests>=2.26.0->tiktoken) (2.0.7)\n",
            "Requirement already satisfied: certifi>=2017.4.17 in /usr/local/lib/python3.10/dist-packages (from requests>=2.26.0->tiktoken) (2024.2.2)\n"
          ]
        }
      ]
    },
    {
      "cell_type": "code",
      "source": [
        "import random\n",
        "import torch\n",
        "import os\n",
        "from transformers import AutoTokenizer, AutoModel\n",
        "from sentence_transformers import SentenceTransformer\n",
        "from langchain_community.embeddings import HuggingFaceEmbeddings\n",
        "from langchain.text_splitter import RecursiveCharacterTextSplitter, TokenTextSplitter, CharacterTextSplitter\n",
        "from langchain_community.vectorstores import FAISS\n",
        "import pandas as pd\n",
        "from transformers import BitsAndBytesConfig, AutoModelForCausalLM, AutoTokenizer, GenerationConfig, pipeline\n",
        "import torch\n",
        "from langchain import HuggingFacePipeline\n",
        "from langchain.chains import RetrievalQA\n",
        "from langchain import hub\n",
        "from IPython.display import Markdown, display\n",
        "\n"
      ],
      "metadata": {
        "id": "f02eL6FQ2A4Q"
      },
      "execution_count": 36,
      "outputs": []
    },
    {
      "cell_type": "code",
      "source": [
        "import warnings\n",
        "warnings.filterwarnings('ignore')"
      ],
      "metadata": {
        "id": "Xllwtbc91ts7"
      },
      "execution_count": 7,
      "outputs": []
    },
    {
      "cell_type": "code",
      "source": [
        "from google.colab import drive\n",
        "drive.mount('/content/drive')\n",
        "%cd /content/drive/MyDrive"
      ],
      "metadata": {
        "colab": {
          "base_uri": "https://localhost:8080/"
        },
        "id": "8p2OPHfO1u5z",
        "outputId": "27171929-a7f9-4017-eb47-da2b669e398b"
      },
      "execution_count": 8,
      "outputs": [
        {
          "output_type": "stream",
          "name": "stdout",
          "text": [
            "Drive already mounted at /content/drive; to attempt to forcibly remount, call drive.mount(\"/content/drive\", force_remount=True).\n",
            "/content/drive/MyDrive\n"
          ]
        }
      ]
    },
    {
      "cell_type": "code",
      "source": [
        "class MedicalChatbot:\n",
        "    def __init__(self, embedding_model_name='thenlper/gte-base', llm_model_name=\"mistralai/Mistral-7B-Instruct-v0.1\", faiss_indices_path=\"../data/faiss_indices\"):\n",
        "        self.embedding_model_name = embedding_model_name\n",
        "        self.llm_model_name = llm_model_name\n",
        "        self.faiss_indices_path = faiss_indices_path\n",
        "        self.device = \"cuda\" if torch.cuda.is_available() else \"mps\" if torch.backends.mps.is_built() else \"cpu\"\n",
        "        # self.init_embedding_model()\n",
        "        # self.load_FAISS_DB_retriever()\n",
        "        # self.init_tokenizer()\n",
        "        # self.init_model()\n",
        "        # self.init_pipeline()\n",
        "        # self.init_llm()\n",
        "        # self.init_prompt_template()\n",
        "        # self.init_qa_chain()\n",
        "\n",
        "\n",
        "    def generate_response(self, user_query):\n",
        "        result = self.qa_chain({\"query\": user_query})\n",
        "        return result\n",
        "\n",
        "    def init_embedding_model(self):\n",
        "        model_kwargs = {'device': self.device}\n",
        "        encode_kwargs = {'normalize_embeddings': True}\n",
        "        self.embed_model = HuggingFaceEmbeddings(model_name=self.embedding_model_name, model_kwargs=model_kwargs,\n",
        "                                            encode_kwargs=encode_kwargs)\n",
        "\n",
        "    def load_FAISS_DB_retriever(self):\n",
        "        self.faiss_db = FAISS.load_local(f\"{self.faiss_indices_path}/{self.embedding_model_name}\", self.embed_model)\n",
        "        self.faiss_retriever = self.faiss_db.as_retriever(search_type=\"similarity\", search_kwargs={\"k\": 3})\n",
        "\n",
        "\n",
        "    def get_relevant_documents_for_query(self, query):\n",
        "        return self.faiss_retriever.invoke(query)\n",
        "\n",
        "    def init_model(self):\n",
        "        quantization_config = BitsAndBytesConfig(\n",
        "            load_in_4bit=True,\n",
        "            bnb_4bit_compute_dtype=torch.float16,\n",
        "            bnb_4bit_quant_type=\"nf4\",\n",
        "            bnb_4bit_use_double_quant=True\n",
        "        )\n",
        "\n",
        "        self.model=AutoModelForCausalLM.from_pretrained(\n",
        "            self.llm_model_name, torch_dtype=torch.float16,\n",
        "            trust_remote_code=True,\n",
        "            device_map=\"auto\",\n",
        "            quantization_config=quantization_config\n",
        "        )\n",
        "\n",
        "    def init_tokenizer(self):\n",
        "        self.tokenizer = AutoTokenizer.from_pretrained(self.llm_model_name, use_fast=True)\n",
        "        # self.tokenizer.pad_token = self.tokenizer.eos_token\n",
        "\n",
        "    def init_pipeline(self):\n",
        "        generation_config = GenerationConfig.from_pretrained(self.llm_model_name)\n",
        "        generation_config.max_new_tokens = 512\n",
        "        generation_config.temperature = 0.001\n",
        "        generation_config.top_p = 0.95\n",
        "        generation_config.do_sample = True\n",
        "        generation_config.repetition_penalty = 1.15\n",
        "\n",
        "        self.pipeline = pipeline(\n",
        "            \"text-generation\",\n",
        "            model=self.model,\n",
        "            tokenizer=self.tokenizer,\n",
        "            return_full_text=True,\n",
        "            generation_config=generation_config,\n",
        "    )\n",
        "\n",
        "    def init_llm(self):\n",
        "        self.llm = HuggingFacePipeline(\n",
        "            pipeline=self.pipeline,\n",
        "    )\n",
        "\n",
        "\n",
        "    def init_prompt_template(self):\n",
        "\n",
        "        # template = \"\"\"Use the following pieces of context to answer the question at the end.\n",
        "        # If you don't know the answer, just say that you don't know, don't try to make up an answer.\n",
        "        # Use three sentences maximum and keep the answer as concise as possible.\n",
        "        # Always say \"thanks for asking!\" at the end of the answer.\n",
        "        #\n",
        "        # {context}\n",
        "        #\n",
        "        # Question: {question}\n",
        "        #\n",
        "        # Helpful Answer:\"\"\"\n",
        "        # self.custom_rag_prompt = PromptTemplate.from_template(template)\n",
        "\n",
        "        self.prompt  = hub.pull(\"rlm/rag-prompt\", api_url=\"https://api.hub.langchain.com\")\n",
        "\n",
        "    def init_qa_chain(self):\n",
        "        self.qa_chain = RetrievalQA.from_chain_type(\n",
        "            llm=self.llm,\n",
        "            chain_type=\"stuff\",\n",
        "            retriever=self.faiss_retriever,\n",
        "            return_source_documents=True,\n",
        "            chain_type_kwargs={\"prompt\": self.prompt},\n",
        "        )\n",
        "\n",
        "    def init_all(self):\n",
        "        self.init_embedding_model()\n",
        "        self.load_FAISS_DB_retriever()\n",
        "        self.init_tokenizer()\n",
        "        self.init_model()\n",
        "        self.init_pipeline()\n",
        "        self.init_llm()\n",
        "        self.init_prompt_template()\n",
        "        self.init_qa_chain()"
      ],
      "metadata": {
        "id": "5KUNk_lZ10US"
      },
      "execution_count": 52,
      "outputs": []
    },
    {
      "cell_type": "code",
      "source": [
        "chatbot = MedicalChatbot(llm_model_name=\"microsoft/phi-2\", faiss_indices_path=\"faiss_indices\")"
      ],
      "metadata": {
        "id": "OaajLjza2bP4"
      },
      "execution_count": 10,
      "outputs": []
    },
    {
      "cell_type": "code",
      "source": [
        "chatbot.device"
      ],
      "metadata": {
        "colab": {
          "base_uri": "https://localhost:8080/",
          "height": 35
        },
        "id": "RqGYD7Ww2jnG",
        "outputId": "cbc24cd7-bded-456b-8387-6e3900c0fdc4"
      },
      "execution_count": 11,
      "outputs": [
        {
          "output_type": "execute_result",
          "data": {
            "text/plain": [
              "'cuda'"
            ],
            "application/vnd.google.colaboratory.intrinsic+json": {
              "type": "string"
            }
          },
          "metadata": {},
          "execution_count": 11
        }
      ]
    },
    {
      "cell_type": "code",
      "source": [
        "chatbot.init_embedding_model()"
      ],
      "metadata": {
        "id": "Jrpcmz7l2sry"
      },
      "execution_count": 12,
      "outputs": []
    },
    {
      "cell_type": "code",
      "source": [
        "chatbot.load_FAISS_DB_retriever()"
      ],
      "metadata": {
        "id": "KfHY_Ll-2st-"
      },
      "execution_count": 13,
      "outputs": []
    },
    {
      "cell_type": "code",
      "source": [
        "question = \"What are the effects of α1-antitrypsin (AAT) treatment on chronic fatigue syndrome (CFS) based on a case study involving a 49-year-old woman?\"\n",
        "retrieved = chatbot.get_relevant_documents_for_query(question)\n",
        "len(retrieved)\n"
      ],
      "metadata": {
        "colab": {
          "base_uri": "https://localhost:8080/"
        },
        "id": "1rCq-B7S2swY",
        "outputId": "8fed3f3b-93f8-4659-e6db-ecf643398a45"
      },
      "execution_count": 14,
      "outputs": [
        {
          "output_type": "execute_result",
          "data": {
            "text/plain": [
              "3"
            ]
          },
          "metadata": {},
          "execution_count": 14
        }
      ]
    },
    {
      "cell_type": "code",
      "source": [
        "chatbot.init_tokenizer()"
      ],
      "metadata": {
        "colab": {
          "base_uri": "https://localhost:8080/"
        },
        "id": "dqCdZnFJ2szL",
        "outputId": "b5d0984c-d707-4876-f328-6b71f2250291"
      },
      "execution_count": 15,
      "outputs": [
        {
          "output_type": "stream",
          "name": "stderr",
          "text": [
            "Special tokens have been added in the vocabulary, make sure the associated word embeddings are fine-tuned or trained.\n"
          ]
        }
      ]
    },
    {
      "cell_type": "code",
      "source": [
        "chatbot.init_model()"
      ],
      "metadata": {
        "colab": {
          "base_uri": "https://localhost:8080/",
          "height": 49,
          "referenced_widgets": [
            "22c7e0acf96544a8bc95fbbd3e207af8",
            "a2dfed094cc148d4ae44862b8029ae5e",
            "e6cabdf7142f4041905838a962ff66a8",
            "f72a8f84df5d46238100a629fa43bcda",
            "9ae06b81fb3748cda1e9808977839ba0",
            "27972a62a3694bedb5c682ccecbac6ff",
            "2fea521e47cb4c54a94833bcf70b1bf8",
            "618e8d4f18bd45cbaea6683aa361c2ac",
            "d931ed68ca784a29b1c730e094b3666e",
            "831e2c4befb0456682b775f9fb7fa9c3",
            "155f8da8509241449b64b318e5e68bfb"
          ]
        },
        "id": "6HOpLzv52s2J",
        "outputId": "fd65c841-ea1a-48be-ebfd-1bc3665ca05f"
      },
      "execution_count": 16,
      "outputs": [
        {
          "output_type": "display_data",
          "data": {
            "text/plain": [
              "Loading checkpoint shards:   0%|          | 0/2 [00:00<?, ?it/s]"
            ],
            "application/vnd.jupyter.widget-view+json": {
              "version_major": 2,
              "version_minor": 0,
              "model_id": "22c7e0acf96544a8bc95fbbd3e207af8"
            }
          },
          "metadata": {}
        }
      ]
    },
    {
      "cell_type": "code",
      "source": [
        "chatbot.init_pipeline()"
      ],
      "metadata": {
        "id": "HS-XqFdi7ar_"
      },
      "execution_count": 17,
      "outputs": []
    },
    {
      "cell_type": "code",
      "source": [
        "chatbot.init_llm()"
      ],
      "metadata": {
        "id": "HGJxJFhG7aua"
      },
      "execution_count": 18,
      "outputs": []
    },
    {
      "cell_type": "code",
      "source": [
        "chatbot.init_prompt_template()"
      ],
      "metadata": {
        "id": "Ew6f_kfQ7axM"
      },
      "execution_count": 19,
      "outputs": []
    },
    {
      "cell_type": "code",
      "source": [
        "chatbot.init_qa_chain()"
      ],
      "metadata": {
        "id": "gS1bA2Kd4XrO"
      },
      "execution_count": 20,
      "outputs": []
    },
    {
      "cell_type": "code",
      "source": [
        "query = \"Is occupational outcome in bipolar disorder predicted by premorbid functioning and intelligence?\"\n",
        "result = chatbot.generate_response(query)"
      ],
      "metadata": {
        "colab": {
          "base_uri": "https://localhost:8080/"
        },
        "id": "z_rSZqoR_63K",
        "outputId": "794b25d5-a772-4874-e480-07e34274c201"
      },
      "execution_count": 43,
      "outputs": [
        {
          "output_type": "stream",
          "name": "stderr",
          "text": [
            "Setting `pad_token_id` to `eos_token_id`:50256 for open-end generation.\n"
          ]
        }
      ]
    },
    {
      "cell_type": "code",
      "source": [
        "display(Markdown(f\"<b>{result_['query']}</b>\"))\n",
        "display(Markdown(f\"<p>{result_['result']}</p>\"))"
      ],
      "metadata": {
        "colab": {
          "base_uri": "https://localhost:8080/",
          "height": 69
        },
        "id": "t_aIZ1Fu_BOq",
        "outputId": "d8161733-0eb0-44f3-87b6-953fc4867eaf"
      },
      "execution_count": 44,
      "outputs": [
        {
          "output_type": "display_data",
          "data": {
            "text/plain": [
              "<IPython.core.display.Markdown object>"
            ],
            "text/markdown": "<b>Is occupational outcome in bipolar disorder predicted by premorbid functioning and intelligence?</b>"
          },
          "metadata": {}
        },
        {
          "output_type": "display_data",
          "data": {
            "text/plain": [
              "<IPython.core.display.Markdown object>"
            ],
            "text/markdown": "<p> No, occupational outcome in bipolar disorder is not predicted by premorbid functioning and intelligence.</p>"
          },
          "metadata": {}
        }
      ]
    },
    {
      "cell_type": "code",
      "source": [
        "query = \"What are the effects of α1-antitrypsin (AAT) treatment on chronic fatigue syndrome (CFS) based on a case study involving a 49-year-old woman?\"\n",
        "result = chatbot.generate_response(query)"
      ],
      "metadata": {
        "colab": {
          "base_uri": "https://localhost:8080/"
        },
        "id": "GDN1_-RpAF_X",
        "outputId": "09100228-9b0f-4033-c737-83fafda0d10c"
      },
      "execution_count": 45,
      "outputs": [
        {
          "output_type": "stream",
          "name": "stderr",
          "text": [
            "Setting `pad_token_id` to `eos_token_id`:50256 for open-end generation.\n"
          ]
        }
      ]
    },
    {
      "cell_type": "code",
      "source": [
        "display(Markdown(f\"<b>{result['query']}</b>\"))\n",
        "display(Markdown(f\"<p>{result['result']}</p>\"))"
      ],
      "metadata": {
        "colab": {
          "base_uri": "https://localhost:8080/",
          "height": 137
        },
        "id": "myTAMaIvAGHl",
        "outputId": "2c72bc83-8380-496d-9d52-a06f370639fe"
      },
      "execution_count": 47,
      "outputs": [
        {
          "output_type": "display_data",
          "data": {
            "text/plain": [
              "<IPython.core.display.Markdown object>"
            ],
            "text/markdown": "<b>What are the effects of α1-antitrypsin (AAT) treatment on chronic fatigue syndrome (CFS) based on a case study involving a 49-year-old woman?</b>"
          },
          "metadata": {}
        },
        {
          "output_type": "display_data",
          "data": {
            "text/plain": [
              "<IPython.core.display.Markdown object>"
            ],
            "text/markdown": "<p> According to the provided context, there is no direct information about the effects of α1-antitrypsin (AAT) treatment on chronic fatigue syndrome (CFS). Therefore, it cannot be determined whether AAT treatment can alleviate the symptoms of CFS based solely on this context. Further research would be needed to determine the effectiveness of AAT treatment on CFS.\n</p>"
          },
          "metadata": {}
        }
      ]
    },
    {
      "cell_type": "code",
      "source": [
        "result['source_documents']"
      ],
      "metadata": {
        "colab": {
          "base_uri": "https://localhost:8080/"
        },
        "id": "suxgK6D5AR73",
        "outputId": "70c2ec29-9d1c-4438-aae1-581607f4616f"
      },
      "execution_count": 49,
      "outputs": [
        {
          "output_type": "execute_result",
          "data": {
            "text/plain": [
              "[Document(page_content='Abstract: SUMMARY Several lines of evidence support the involvement of inflammatory and immunologic abnormalities in chronic fatigue syndrome CFS Since recent studies have shown that α1 antitrypsin AAT possesses antiinflammatory properties the potential therapeutic effect of AAT treatment on CFS has been investigated A 49yearold woman diagnosed with CFS was treated with intravenous infusions of a human plasmaderived AAT concentrate 60 mgkg body weight weekly for 8 consecutive weeks The patients monocyte elastase a regulator of inflammatory processes was 1170 Umg At completion of treatment improvement in maximal workload was observed 540717 of predicted Additionally amelioration in working memory scores 8394 and perceptual organization scores 7583 were detected on the Wechsler Adult Intelligence ScaleIII test Monocyte elastase decreased to a normal range 150 Umg Improvement in functional capacity allowed the patient to work in parttime employment These findings suggest a possible role for AAT in the treatment of CFS\\nAbstract_Length: 1020', metadata={'source': 'processed_data_part1.csv', 'row': 0, 'PMID': '24645995', 'Title': 'α-1 antitrypsin and chronic fatigue syndrome: a case study from pathophysiology to clinical practice.', 'Authors': 'Jose Alegre; Sandra Camprubi; Ana GarciaQuintana', 'Publication Date': '2013-Mar', 'DOI': '10.2217/pmt.12.84'}),\n",
              " Document(page_content='Abstract: The aim of the study is to identify the impact of postacute SARSCoV2 infection on patient outcomes This is a prospective repeated measure observational study of consented adults with positive SARSCoV2 quantitative polymerase chain reaction or antigen test more than 28 days after infection Only data from the initial study visit are reported including disease history symptoms checklist patient questionnaires cognitive tests socialmedical histories vitals grip strength and 2min walk distance Two hundred eighteen patients were studied 100 hospitalized 573 154 yrs 62 male body mass index 313 80 and 118 nonhospitalized 462 146 yrs 31 male body mass index 297 75 PostCOVID patients reported mean 176 symptoms 15 reported fatigue memory loss and shortness of breath Grip strength was 14 lower than norms P 00001 Fatigue Functional Assessment of Chronic Illness TherapyFatigue mood Patient Health Questionnaire and wellbeing EuroQol 5 Dimension 5 Level scores were lower than the population norms P 005 Hospitalized versus nonhospitalized postCOVID patients performed worse on cognitive assessments processing speed testWechsler Adult Intelligence ScaleFourth Edition Symbol Search and reported less regular exercise 30 mins 3 per week P 005 In addition 30 had severe fatigue by the Functional Assessment of Chronic Illness TherapyFatigue those patients reported less exercise P 005 In multivariate models lack of exercise was independently associated with multiple postCOVID19 impairments Low levels of exercise are an independent risk factor for postCOVID sequelae Patients who report less exercise have low grip strength higher levels of fatigue memory loss shortness of breath depression and poorer quality of life\\nAbstract_Length: 1717', metadata={'source': 'processed_data_part2.csv', 'row': 18345, 'PMID': '36753451', 'Title': 'Regular Exercise Is Associated With Low Fatigue Levels and Good Functional Outcomes After COVID-19: A Prospective Observational Study.', 'Authors': 'Leyla de Avila; Jillian K Price; Maria Stepanova; Brian Lam; Ali A Weinstein; Huong Pham; Patrick Austin; Wisna Keo; Zaid Younossi; Mariam Afendy; Samir Nader; Kathy Terra; Rebecca Cable; Elena Younossi; Pegah Golabi; Manisha Verma; Fatema Nader; Andrei Racila; Lynn H Gerber; Zobair M Younossi', 'Publication Date': '2023-May-01', 'DOI': '10.1097/PHM.0000000000002197'}),\n",
              " Document(page_content='Abstract: Acute exacerbations of chronic obstructive pulmonary disease AECOPD is the exacerbation of a range of respiratory symptoms during the stable phase of chronic obstructive pulmonary disease COPD AECOPD is thus a dangerous stage and key event in the course of COPD as its deterioration and frequency seriously affects the quality of life of patients and shortens their survival Acute exacerbations occur and develop due to many factors such as infection tobacco smoke inhalation air pollution comorbidities airflow limitation various biomarkers history of previous deterioration natural killer cell abnormalities immunoglobulin G deficiency genetics abnormal muscle and nutritional status negative psychology and seasonal temperature changes There is relatively limited research on the impact of the role of standardized management on the alleviation of AECOPD However with the establishment of relevant prevention and management systems and the promotion of artificial intelligence technology and Internet medical approaches longterm effective and standardized management of COPD patients may help to achieve the quality of life and disease prognosis in COPD patients and reduce the risk of AE\\nAbstract_Length: 1191', metadata={'source': 'processed_data_part2.csv', 'row': 14690, 'PMID': '38034468', 'Title': 'Analyses of Factors Associated with Acute Exacerbations of Chronic Obstructive Pulmonary Disease: A Review.', 'Authors': 'Yang Qian; Chenting Cai; Mengqing Sun; Dan Lv; Yun Zhao', 'Publication Date': '2023', 'DOI': '10.2147/COPD.S433183'})]"
            ]
          },
          "metadata": {},
          "execution_count": 49
        }
      ]
    },
    {
      "cell_type": "code",
      "source": [],
      "metadata": {
        "id": "AWaUizZyA8ZS"
      },
      "execution_count": null,
      "outputs": []
    },
    {
      "cell_type": "code",
      "source": [],
      "metadata": {
        "id": "Md9dQ4j2A8cW"
      },
      "execution_count": null,
      "outputs": []
    },
    {
      "cell_type": "code",
      "source": [],
      "metadata": {
        "id": "cQ-hiRwEA8fB"
      },
      "execution_count": null,
      "outputs": []
    },
    {
      "cell_type": "code",
      "source": [],
      "metadata": {
        "id": "N0lBv4RiA8he"
      },
      "execution_count": null,
      "outputs": []
    }
  ]
}