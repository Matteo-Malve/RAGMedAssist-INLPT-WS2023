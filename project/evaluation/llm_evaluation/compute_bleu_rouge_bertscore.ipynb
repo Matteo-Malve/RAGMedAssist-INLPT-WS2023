{
 "cells": [
  {
   "cell_type": "code",
   "execution_count": null,
   "metadata": {},
   "outputs": [],
   "source": [
    "import evaluate\n",
    "import pandas as pd\n",
    "import glob\n",
    "import ast\n",
    "import os\n",
    "import numpy as np\n",
    "import matplotlib.pyplot as plt"
   ]
  },
  {
   "cell_type": "code",
   "execution_count": null,
   "metadata": {},
   "outputs": [],
   "source": [
    "# Load generated answers\n",
    "\n",
    "def process_files_to_aggregated_dfs(directory_path):\n",
    "    # initialize dicts to store QAs\n",
    "    data_dicts = {\n",
    "        \"qa_eval_set\": {},\n",
    "        \"chat_gpt_questions\": {},\n",
    "        \"unrelated_topic_questions\": {}\n",
    "    }\n",
    "\n",
    "    file_pattern = f\"{directory_path}/query_response_pairs_hybrid_search*.txt\"\n",
    "\n",
    "    for filename in glob.glob(file_pattern):\n",
    "        with open(filename, 'r') as file:\n",
    "            contents = file.read()\n",
    "            data_list = ast.literal_eval(contents)\n",
    "            \n",
    "            # extract unique id from filename\n",
    "            file_id = os.path.basename(filename).split('.')[0].split('_')[5:]\n",
    "\n",
    "            if len(data_list) >= 17:\n",
    "                # Process for qa_eval_set\n",
    "                for pair in data_list[:10]:  # First 10 for qa_eval_set\n",
    "                    query, answer = pair\n",
    "                    if query not in data_dicts[\"qa_eval_set\"]:\n",
    "                        data_dicts[\"qa_eval_set\"][query] = {\"query\": query}\n",
    "                    data_dicts[\"qa_eval_set\"][query][f\"answer with hybrid search weights: {file_id[0]}, {file_id[1]}\"] = answer\n",
    "                \n",
    "                # Process for chat_gpt_questions\n",
    "                for pair in data_list[10:15]:  # Next 5 for chat_gpt_questions\n",
    "                    query, answer = pair\n",
    "                    if query not in data_dicts[\"chat_gpt_questions\"]:\n",
    "                        data_dicts[\"chat_gpt_questions\"][query] = {\"query\": query}\n",
    "                    data_dicts[\"chat_gpt_questions\"][query][f\"answer with hybrid search weights: {file_id[0]}, {file_id[1]}\"] = answer\n",
    "                \n",
    "                # Process for unrelated_topic_questions\n",
    "                for pair in data_list[-2:]:  # Last 2 for unrelated_topic_questions\n",
    "                    query, answer = pair\n",
    "                    if query not in data_dicts[\"unrelated_topic_questions\"]:\n",
    "                        data_dicts[\"unrelated_topic_questions\"][query] = {\"query\": query}\n",
    "                    data_dicts[\"unrelated_topic_questions\"][query][f\"answer with hybrid search weights: {file_id[0]}, {file_id[1]}\"] = answer\n",
    "\n",
    "    # Convert dictionaries to DataFrames\n",
    "    for category, data_dict in data_dicts.items():\n",
    "        data_dicts[category] = pd.DataFrame.from_dict(data_dict, orient='index').fillna('').reset_index(drop=True)\n",
    "\n",
    "    return data_dicts[\"qa_eval_set\"], data_dicts[\"chat_gpt_questions\"], data_dicts[\"unrelated_topic_questions\"]\n",
    "\n",
    "directory_path = './results/hybrid_search'\n",
    "qa_eval_set_df, chat_gpt_qa_df, unrelated_topic_qa_df = process_files_to_aggregated_dfs(directory_path)\n"
   ]
  },
  {
   "cell_type": "code",
   "execution_count": null,
   "metadata": {},
   "outputs": [
    {
     "name": "stdout",
     "output_type": "stream",
     "text": [
      "QA Eval Set:\n",
      "10\n"
     ]
    },
    {
     "data": {
      "text/html": [
       "<div>\n",
       "<style scoped>\n",
       "    .dataframe tbody tr th:only-of-type {\n",
       "        vertical-align: middle;\n",
       "    }\n",
       "\n",
       "    .dataframe tbody tr th {\n",
       "        vertical-align: top;\n",
       "    }\n",
       "\n",
       "    .dataframe thead th {\n",
       "        text-align: right;\n",
       "    }\n",
       "</style>\n",
       "<table border=\"1\" class=\"dataframe\">\n",
       "  <thead>\n",
       "    <tr style=\"text-align: right;\">\n",
       "      <th></th>\n",
       "      <th>query</th>\n",
       "      <th>answer with hybrid search weights: 08, 02</th>\n",
       "      <th>answer with hybrid search weights: 06, 04</th>\n",
       "      <th>answer with hybrid search weights: 01, 09</th>\n",
       "      <th>answer with hybrid search weights: 1, 0</th>\n",
       "      <th>answer with hybrid search weights: 04, 06</th>\n",
       "      <th>answer with hybrid search weights: 0, 1</th>\n",
       "      <th>answer with hybrid search weights: 02, 08</th>\n",
       "      <th>answer with hybrid search weights: 09, 01</th>\n",
       "      <th>answer with hybrid search weights: 07, 03</th>\n",
       "      <th>answer with hybrid search weights: 05, 05</th>\n",
       "      <th>answer with hybrid search weights: 03, 07</th>\n",
       "    </tr>\n",
       "  </thead>\n",
       "  <tbody>\n",
       "    <tr>\n",
       "      <th>0</th>\n",
       "      <td>Does tick-borne encephalitis carry a high risk of incomplete recovery in children?</td>\n",
       "      <td>Based on the provided context, it appears that there is no clear answer to the question about whether tick-borne encephalitis carries a high risk of incomplete recovery in children. The context discusses various aspects of encephalitis in children, including its impact on long-term neurological sequelae and cognitive performance, but does not specifically address the risk of incomplete recovery. It is important to note that the context is limited to specific studies and may not represent the entire population of children with encephalitis. Further research would be needed to provide a definitive answer to this question.</td>\n",
       "      <td>Based on the provided context, it appears that there is no clear answer to the question about whether tick-borne encephalitis carries a high risk of incomplete recovery in children. The context discusses various aspects of encephalitis in children, including its impact on long-term neurological sequelae and cognitive performance, but does not specifically address the risk of incomplete recovery. It is important to note that the context is limited to specific studies and may not represent the entire population of children with encephalitis. Further research would be needed to provide a definitive answer to this question.</td>\n",
       "      <td>Based on the provided abstract, it appears that there is a high prevalence of minor neurological dysfunction (MND) and cognitive impairment in children with encephalitis. Specifically, attention-deficit hyperactivity disorder (ADHD), learning disabilities, and executive function deficits are commonly observed. Additionally, the study suggests that younger age at acute encephalitis is a risk factor for lower cognitive performance. It is important to note that these findings are specific to the population studied and may not necessarily apply to all children with encephalitis.</td>\n",
       "      <td>Based on the provided context, it appears that there is no clear answer to the question about whether tick-borne encephalitis carries a high risk of incomplete recovery in children. The context discusses various aspects of encephalitis in children, including its impact on long-term neurological sequelae, minor neurological dysfunction, and cognitive performance. However, it does not specifically address the risk of incomplete recovery in children with tick-borne encephalitis. Therefore, I cannot provide a definitive answer to this question based solely on the given context.</td>\n",
       "      <td>Based on the provided abstract, it appears that there is a high prevalence of minor neurological dysfunction (MND) and cognitive impairment in children with encephalitis. Specifically, attention-deficit hyperactivity disorder (ADHD), learning disabilities, and executive function deficits are commonly observed. Additionally, the study suggests that younger age at acute encephalitis is a risk factor for lower cognitive performance. It is important to note that these findings are specific to the population studied and may not necessarily apply to all children with encephalitis.</td>\n",
       "      <td>Based on the provided context, the answer is \"Yes.\" According to the abstract, two-thirds of the children with tick-borne encephalitis (TBE) experienced residual problems at long-term follow-up, with cognitive problems in areas of executive function and working memory being the most prevalent. Therefore, it appears that an incomplete recovery is a common outcome for these children.</td>\n",
       "      <td>Based on the provided abstract, it appears that there is a high prevalence of minor neurological dysfunction (MND) and cognitive impairment in children with encephalitis. Specifically, attention-deficit hyperactivity disorder (ADHD), learning disabilities, and executive function deficits are commonly observed. Additionally, the study suggests that younger age at acute encephalitis is a risk factor for lower cognitive performance. It is important to note that these findings are specific to the population studied and may not necessarily apply to all children with encephalitis.</td>\n",
       "      <td>Based on the provided context, it appears that there is no clear answer to the question about whether tick-borne encephalitis carries a high risk of incomplete recovery in children. The context discusses various aspects of encephalitis in children, including its impact on long-term neurological sequelae and cognitive performance, but does not specifically address the risk of incomplete recovery. It is important to note that the context is limited to specific studies and may not represent the entire population of children with encephalitis. Further research would be needed to provide a definitive answer to this question.</td>\n",
       "      <td>Based on the provided context, it appears that there is no clear answer to the question about whether tick-borne encephalitis carries a high risk of incomplete recovery in children. The context discusses various aspects of encephalitis in children, including its impact on long-term neurological sequelae and cognitive performance, but does not specifically address the risk of incomplete recovery. It is important to note that the context is limited to specific studies and may not represent the entire population of children with encephalitis. Further research would be needed to provide a definitive answer to this question.</td>\n",
       "      <td>Based on the provided context, it appears that there is no clear answer to the question about whether tick-borne encephalitis carries a high risk of incomplete recovery in children. The provided context discusses various aspects of encephalitis, including its effects on cognitive performance and executive functioning in children, but does not specifically address the risk of incomplete recovery. It is important to note that the context is limited to specific studies and may not represent the entire population of children with encephalitis. Further research would be needed to provide a definitive answer to this question.</td>\n",
       "      <td>Based on the provided abstract, it appears that there is a high prevalence of minor neurological dysfunction (MND) and cognitive impairment in children with encephalitis. Specifically, attention-deficit hyperactivity disorder (ADHD), learning disabilities, and executive function deficits are commonly observed. Additionally, the study suggests that younger age at acute encephalitis is a risk factor for lower cognitive performance. It is important to note that these findings are specific to the population studied and may not necessarily apply to all children with encephalitis.</td>\n",
       "    </tr>\n",
       "  </tbody>\n",
       "</table>\n",
       "</div>"
      ],
      "text/plain": [
       "                                                                                query  \\\n",
       "0  Does tick-borne encephalitis carry a high risk of incomplete recovery in children?   \n",
       "\n",
       "                                                                                                                                                                                                                                                                                                                                                                                                                                                                                                                                                                                                              answer with hybrid search weights: 08, 02  \\\n",
       "0   Based on the provided context, it appears that there is no clear answer to the question about whether tick-borne encephalitis carries a high risk of incomplete recovery in children. The context discusses various aspects of encephalitis in children, including its impact on long-term neurological sequelae and cognitive performance, but does not specifically address the risk of incomplete recovery. It is important to note that the context is limited to specific studies and may not represent the entire population of children with encephalitis. Further research would be needed to provide a definitive answer to this question.   \n",
       "\n",
       "                                                                                                                                                                                                                                                                                                                                                                                                                                                                                                                                                                                                              answer with hybrid search weights: 06, 04  \\\n",
       "0   Based on the provided context, it appears that there is no clear answer to the question about whether tick-borne encephalitis carries a high risk of incomplete recovery in children. The context discusses various aspects of encephalitis in children, including its impact on long-term neurological sequelae and cognitive performance, but does not specifically address the risk of incomplete recovery. It is important to note that the context is limited to specific studies and may not represent the entire population of children with encephalitis. Further research would be needed to provide a definitive answer to this question.   \n",
       "\n",
       "                                                                                                                                                                                                                                                                                                                                                                                                                                                                                                                                                                answer with hybrid search weights: 01, 09  \\\n",
       "0   Based on the provided abstract, it appears that there is a high prevalence of minor neurological dysfunction (MND) and cognitive impairment in children with encephalitis. Specifically, attention-deficit hyperactivity disorder (ADHD), learning disabilities, and executive function deficits are commonly observed. Additionally, the study suggests that younger age at acute encephalitis is a risk factor for lower cognitive performance. It is important to note that these findings are specific to the population studied and may not necessarily apply to all children with encephalitis.   \n",
       "\n",
       "                                                                                                                                                                                                                                                                                                                                                                                                                                                                                                                                                                 answer with hybrid search weights: 1, 0  \\\n",
       "0   Based on the provided context, it appears that there is no clear answer to the question about whether tick-borne encephalitis carries a high risk of incomplete recovery in children. The context discusses various aspects of encephalitis in children, including its impact on long-term neurological sequelae, minor neurological dysfunction, and cognitive performance. However, it does not specifically address the risk of incomplete recovery in children with tick-borne encephalitis. Therefore, I cannot provide a definitive answer to this question based solely on the given context.   \n",
       "\n",
       "                                                                                                                                                                                                                                                                                                                                                                                                                                                                                                                                                                answer with hybrid search weights: 04, 06  \\\n",
       "0   Based on the provided abstract, it appears that there is a high prevalence of minor neurological dysfunction (MND) and cognitive impairment in children with encephalitis. Specifically, attention-deficit hyperactivity disorder (ADHD), learning disabilities, and executive function deficits are commonly observed. Additionally, the study suggests that younger age at acute encephalitis is a risk factor for lower cognitive performance. It is important to note that these findings are specific to the population studied and may not necessarily apply to all children with encephalitis.   \n",
       "\n",
       "                                                                                                                                                                                                                                                                                                                                                             answer with hybrid search weights: 0, 1  \\\n",
       "0   Based on the provided context, the answer is \"Yes.\" According to the abstract, two-thirds of the children with tick-borne encephalitis (TBE) experienced residual problems at long-term follow-up, with cognitive problems in areas of executive function and working memory being the most prevalent. Therefore, it appears that an incomplete recovery is a common outcome for these children.   \n",
       "\n",
       "                                                                                                                                                                                                                                                                                                                                                                                                                                                                                                                                                                answer with hybrid search weights: 02, 08  \\\n",
       "0   Based on the provided abstract, it appears that there is a high prevalence of minor neurological dysfunction (MND) and cognitive impairment in children with encephalitis. Specifically, attention-deficit hyperactivity disorder (ADHD), learning disabilities, and executive function deficits are commonly observed. Additionally, the study suggests that younger age at acute encephalitis is a risk factor for lower cognitive performance. It is important to note that these findings are specific to the population studied and may not necessarily apply to all children with encephalitis.   \n",
       "\n",
       "                                                                                                                                                                                                                                                                                                                                                                                                                                                                                                                                                                                                              answer with hybrid search weights: 09, 01  \\\n",
       "0   Based on the provided context, it appears that there is no clear answer to the question about whether tick-borne encephalitis carries a high risk of incomplete recovery in children. The context discusses various aspects of encephalitis in children, including its impact on long-term neurological sequelae and cognitive performance, but does not specifically address the risk of incomplete recovery. It is important to note that the context is limited to specific studies and may not represent the entire population of children with encephalitis. Further research would be needed to provide a definitive answer to this question.   \n",
       "\n",
       "                                                                                                                                                                                                                                                                                                                                                                                                                                                                                                                                                                                                              answer with hybrid search weights: 07, 03  \\\n",
       "0   Based on the provided context, it appears that there is no clear answer to the question about whether tick-borne encephalitis carries a high risk of incomplete recovery in children. The context discusses various aspects of encephalitis in children, including its impact on long-term neurological sequelae and cognitive performance, but does not specifically address the risk of incomplete recovery. It is important to note that the context is limited to specific studies and may not represent the entire population of children with encephalitis. Further research would be needed to provide a definitive answer to this question.   \n",
       "\n",
       "                                                                                                                                                                                                                                                                                                                                                                                                                                                                                                                                                                                                              answer with hybrid search weights: 05, 05  \\\n",
       "0   Based on the provided context, it appears that there is no clear answer to the question about whether tick-borne encephalitis carries a high risk of incomplete recovery in children. The provided context discusses various aspects of encephalitis, including its effects on cognitive performance and executive functioning in children, but does not specifically address the risk of incomplete recovery. It is important to note that the context is limited to specific studies and may not represent the entire population of children with encephalitis. Further research would be needed to provide a definitive answer to this question.   \n",
       "\n",
       "                                                                                                                                                                                                                                                                                                                                                                                                                                                                                                                                                                answer with hybrid search weights: 03, 07  \n",
       "0   Based on the provided abstract, it appears that there is a high prevalence of minor neurological dysfunction (MND) and cognitive impairment in children with encephalitis. Specifically, attention-deficit hyperactivity disorder (ADHD), learning disabilities, and executive function deficits are commonly observed. Additionally, the study suggests that younger age at acute encephalitis is a risk factor for lower cognitive performance. It is important to note that these findings are specific to the population studied and may not necessarily apply to all children with encephalitis.  "
      ]
     },
     "execution_count": 86,
     "metadata": {},
     "output_type": "execute_result"
    }
   ],
   "source": [
    "print(\"QA Eval Set:\")\n",
    "#pd.set_option('display.max_colwidth', None)\n",
    "print(len(qa_eval_set_df))\n",
    "qa_eval_set_df.head(1)"
   ]
  },
  {
   "cell_type": "code",
   "execution_count": null,
   "metadata": {},
   "outputs": [
    {
     "name": "stdout",
     "output_type": "stream",
     "text": [
      "\n",
      "ChatGPT QA:\n",
      "5\n"
     ]
    }
   ],
   "source": [
    "print(\"\\nChatGPT QA:\")\n",
    "print(len(chat_gpt_qa_df))\n",
    "#chat_gpt_qa_df.head(1)"
   ]
  },
  {
   "cell_type": "code",
   "execution_count": null,
   "metadata": {},
   "outputs": [
    {
     "name": "stdout",
     "output_type": "stream",
     "text": [
      "\n",
      "Unrelated Topic QA:\n",
      "2\n"
     ]
    }
   ],
   "source": [
    "print(\"\\nUnrelated Topic QA:\")\n",
    "print(len(unrelated_topic_qa_df))\n",
    "#unrelated_topic_qa_df.head(1)"
   ]
  },
  {
   "cell_type": "code",
   "execution_count": null,
   "metadata": {},
   "outputs": [],
   "source": [
    "# Extract queries\n",
    "qa_eval_queries = qa_eval_set_df[\"query\"].to_list()\n",
    "# chat_gpt_queries = chat_gpt_qa_df[\"query\"].to_list()\n",
    "# unrelated_queries = unrelated_topic_qa_df[\"query\"].to_list()\n"
   ]
  }
 ],
 "metadata": {
  "kernelspec": {
   "display_name": "nlp-transformers",
   "language": "python",
   "name": "python3"
  },
  "language_info": {
   "codemirror_mode": {
    "name": "ipython",
    "version": 3
   },
   "file_extension": ".py",
   "mimetype": "text/x-python",
   "name": "python",
   "nbconvert_exporter": "python",
   "pygments_lexer": "ipython3",
   "version": "3.10.13"
  }
 },
 "nbformat": 4,
 "nbformat_minor": 2
}
