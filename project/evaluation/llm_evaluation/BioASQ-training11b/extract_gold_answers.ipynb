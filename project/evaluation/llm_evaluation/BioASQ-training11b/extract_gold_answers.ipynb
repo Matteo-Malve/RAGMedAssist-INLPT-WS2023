{
 "cells": [
  {
   "cell_type": "code",
   "execution_count": 3,
   "metadata": {},
   "outputs": [],
   "source": [
    "import pandas as pd\n",
    "import json"
   ]
  },
  {
   "cell_type": "code",
   "execution_count": 9,
   "metadata": {},
   "outputs": [
    {
     "data": {
      "text/html": [
       "<div>\n",
       "<style scoped>\n",
       "    .dataframe tbody tr th:only-of-type {\n",
       "        vertical-align: middle;\n",
       "    }\n",
       "\n",
       "    .dataframe tbody tr th {\n",
       "        vertical-align: top;\n",
       "    }\n",
       "\n",
       "    .dataframe thead th {\n",
       "        text-align: right;\n",
       "    }\n",
       "</style>\n",
       "<table border=\"1\" class=\"dataframe\">\n",
       "  <thead>\n",
       "    <tr style=\"text-align: right;\">\n",
       "      <th></th>\n",
       "      <th>body</th>\n",
       "      <th>type</th>\n",
       "      <th>ideal_answer</th>\n",
       "    </tr>\n",
       "  </thead>\n",
       "  <tbody>\n",
       "    <tr>\n",
       "      <th>0</th>\n",
       "      <td>List two common features of Tay syndrome.</td>\n",
       "      <td>list</td>\n",
       "      <td>Tay syndrome is a rare autosomal recessive gen...</td>\n",
       "    </tr>\n",
       "    <tr>\n",
       "      <th>1</th>\n",
       "      <td>Does ventriculoperitoneal shunt improve normal...</td>\n",
       "      <td>yesno</td>\n",
       "      <td>Yes</td>\n",
       "    </tr>\n",
       "    <tr>\n",
       "      <th>2</th>\n",
       "      <td>Which are the subtypes of Pfeiffer syndrome?</td>\n",
       "      <td>list</td>\n",
       "      <td>Pfeiffer syndrome is divided into three clinic...</td>\n",
       "    </tr>\n",
       "  </tbody>\n",
       "</table>\n",
       "</div>"
      ],
      "text/plain": [
       "                                                body   type  \\\n",
       "0          List two common features of Tay syndrome.   list   \n",
       "1  Does ventriculoperitoneal shunt improve normal...  yesno   \n",
       "2       Which are the subtypes of Pfeiffer syndrome?   list   \n",
       "\n",
       "                                        ideal_answer  \n",
       "0  Tay syndrome is a rare autosomal recessive gen...  \n",
       "1                                                Yes  \n",
       "2  Pfeiffer syndrome is divided into three clinic...  "
      ]
     },
     "execution_count": 9,
     "metadata": {},
     "output_type": "execute_result"
    }
   ],
   "source": [
    "with open('training11b.json', 'r') as file:\n",
    "    data = json.load(file)\n",
    "\n",
    "# Normalize json data to extract 'questions'\n",
    "df_questions = pd.json_normalize(data, record_path=['questions'])\n",
    "\n",
    "# Preprocess and filter for \"intelligence\" present in abstract \"text\" to ensure question is relevant\n",
    "filtered_questions = []\n",
    "for question in data['questions']:\n",
    "    if any(\"intelligence\" in snippet['text'] for snippet in question['snippets']):\n",
    "        filtered_questions.append({\n",
    "            'body': question['body'],\n",
    "            'type': question['type'],\n",
    "            'ideal_answer': ' '.join(question['ideal_answer'])  #'ideal_answer' is a list\n",
    "        })\n",
    "\n",
    "\n",
    "df_filtered = pd.DataFrame(filtered_questions)\n",
    "\n",
    "df_filtered"
   ]
  }
 ],
 "metadata": {
  "kernelspec": {
   "display_name": "nlp-transformers",
   "language": "python",
   "name": "python3"
  },
  "language_info": {
   "codemirror_mode": {
    "name": "ipython",
    "version": 3
   },
   "file_extension": ".py",
   "mimetype": "text/x-python",
   "name": "python",
   "nbconvert_exporter": "python",
   "pygments_lexer": "ipython3",
   "version": "3.10.13"
  }
 },
 "nbformat": 4,
 "nbformat_minor": 2
}
