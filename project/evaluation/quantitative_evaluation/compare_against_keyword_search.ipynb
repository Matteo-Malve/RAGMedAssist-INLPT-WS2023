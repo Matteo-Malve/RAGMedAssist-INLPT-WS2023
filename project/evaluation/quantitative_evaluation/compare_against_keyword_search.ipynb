{
 "cells": [
  {
   "cell_type": "code",
   "execution_count": null,
   "metadata": {},
   "outputs": [],
   "source": [
    "%pip install rank-bm25"
   ]
  },
  {
   "cell_type": "code",
   "execution_count": 2,
   "metadata": {},
   "outputs": [],
   "source": [
    "from langchain_community.document_loaders.csv_loader import CSVLoader\n",
    "from langchain_community.document_loaders.merge import MergedDataLoader\n",
    "\n",
    "from rank_bm25 import BM25Okapi\n",
    "from collections import defaultdict\n",
    "\n",
    "from langchain.docstore.document import Document\n",
    "from langchain_community.vectorstores import FAISS\n",
    "\n",
    "import random\n",
    "import pandas as pd\n",
    "import numpy as np\n",
    "import matplotlib.pyplot as plt\n",
    "import os\n",
    "import json"
   ]
  },
  {
   "cell_type": "code",
   "execution_count": 9,
   "metadata": {},
   "outputs": [],
   "source": [
    "# Load evaluation data\n",
    "eval_data = pd.read_csv('../../data/questions_answers/questions_answers.csv')\n",
    "eval_data.rename(columns={eval_data.columns[0]: 'PMID'}, inplace=True)\n",
    "\n",
    "gold_pmids = eval_data['PMID'].to_list()\n",
    "eval_queries = eval_data['QUESTION'].to_list()\n",
    "\n",
    "# Load abstracts data\n",
    "df1 = pd.read_csv('../../data/processed_data_part1.csv', usecols=['PMID', 'Abstract'])\n",
    "df2 = pd.read_csv('../../data/processed_data_part2.csv', usecols=['PMID', 'Abstract'])\n",
    "\n",
    "# Merge the datasets\n",
    "abstracts = pd.concat([df1, df2], ignore_index=True)"
   ]
  },
  {
   "cell_type": "code",
   "execution_count": 12,
   "metadata": {},
   "outputs": [
    {
     "name": "stdout",
     "output_type": "stream",
     "text": [
      "[['SUMMARY', 'Several', 'lines', 'of', 'evidence', 'support', 'the', 'involvement', 'of', 'inflammatory', 'and', 'immunologic', 'abnormalities', 'in', 'chronic', 'fatigue', 'syndrome', 'CFS', 'Since', 'recent', 'studies', 'have', 'shown', 'that', 'α1', 'antitrypsin', 'AAT', 'possesses', 'antiinflammatory', 'properties', 'the', 'potential', 'therapeutic', 'effect', 'of', 'AAT', 'treatment', 'on', 'CFS', 'has', 'been', 'investigated', 'A', '49yearold', 'woman', 'diagnosed', 'with', 'CFS', 'was', 'treated', 'with', 'intravenous', 'infusions', 'of', 'a', 'human', 'plasmaderived', 'AAT', 'concentrate', '60', 'mgkg', 'body', 'weight', 'weekly', 'for', '8', 'consecutive', 'weeks', 'The', 'patients', 'monocyte', 'elastase', 'a', 'regulator', 'of', 'inflammatory', 'processes', 'was', '1170', 'Umg', 'At', 'completion', 'of', 'treatment', 'improvement', 'in', 'maximal', 'workload', 'was', 'observed', '540717', 'of', 'predicted', 'Additionally', 'amelioration', 'in', 'working', 'memory', 'scores', '8394', 'and', 'perceptual', 'organization', 'scores', '7583', 'were', 'detected', 'on', 'the', 'Wechsler', 'Adult', 'Intelligence', 'ScaleIII', 'test', 'Monocyte', 'elastase', 'decreased', 'to', 'a', 'normal', 'range', '150', 'Umg', 'Improvement', 'in', 'functional', 'capacity', 'allowed', 'the', 'patient', 'to', 'work', 'in', 'parttime', 'employment', 'These', 'findings', 'suggest', 'a', 'possible', 'role', 'for', 'AAT', 'in', 'the', 'treatment', 'of', 'CFS'], ['Acute', 'inflammation', 'is', 'a', 'severe', 'medical', 'condition', 'defined', 'as', 'an', 'inflammatory', 'response', 'of', 'the', 'body', 'to', 'an', 'infection', 'Its', 'rapid', 'progression', 'requires', 'quick', 'and', 'accurate', 'decisions', 'from', 'clinicians', 'Inadequate', 'and', 'delayed', 'decisions', 'makes', 'acute', 'inflammation', 'the', '10th', 'leading', 'cause', 'of', 'death', 'overall', 'in', 'United', 'States', 'with', 'the', 'estimated', 'cost', 'of', 'treatment', 'about', '17', 'billion', 'annually', 'However', 'despite', 'the', 'need', 'there', 'are', 'limited', 'number', 'of', 'methods', 'that', 'could', 'assist', 'clinicians', 'to', 'determine', 'optimal', 'therapies', 'for', 'acute', 'inflammation', 'We', 'developed', 'a', 'datadriven', 'method', 'for', 'suggesting', 'optimal', 'therapy', 'by', 'using', 'machine', 'learning', 'model', 'that', 'is', 'learned', 'on', 'historical', 'patients', 'behaviors', 'To', 'reduce', 'both', 'the', 'risk', 'of', 'failure', 'and', 'the', 'expense', 'for', 'clinical', 'trials', 'our', 'method', 'is', 'evaluated', 'on', 'a', 'virtual', 'patients', 'generated', 'by', 'a', 'mathematical', 'model', 'that', 'emulates', 'inflammatory', 'response', 'In', 'conducted', 'experiments', 'acute', 'inflammation', 'was', 'handled', 'with', 'two', 'complimentary', 'pro', 'and', 'antiinflammatory', 'medications', 'which', 'adequate', 'timing', 'and', 'doses', 'are', 'crucial', 'for', 'the', 'successful', 'outcome', 'Our', 'experiments', 'show', 'that', 'the', 'dosage', 'regimen', 'assigned', 'with', 'our', 'datadriven', 'method', 'significantly', 'improves', 'the', 'percentage', 'of', 'healthy', 'patients', 'when', 'compared', 'to', 'results', 'by', 'other', 'methods', 'used', 'in', 'clinical', 'practice', 'and', 'found', 'in', 'literature', 'Our', 'method', 'saved', '88', 'of', 'patients', 'that', 'would', 'otherwise', 'die', 'within', 'a', 'week', 'while', 'the', 'best', 'method', 'found', 'in', 'literature', 'saved', 'only', '73', 'of', 'patients', 'At', 'the', 'same', 'time', 'our', 'method', 'used', 'lower', 'doses', 'of', 'medications', 'than', 'alternatives', 'In', 'addition', 'our', 'method', 'achieved', 'better', 'results', 'than', 'alternatives', 'when', 'only', 'incomplete', 'or', 'noisy', 'measurements', 'were', 'available', 'over', 'time', 'as', 'well', 'as', 'it', 'was', 'less', 'affected', 'by', 'therapy', 'delay', 'The', 'presented', 'results', 'provide', 'strong', 'evidence', 'that', 'models', 'from', 'the', 'artificial', 'intelligence', 'community', 'have', 'a', 'potential', 'for', 'development', 'of', 'personalized', 'treatment', 'strategies', 'for', 'acute', 'inflammation'], ['Human', 'brain', 'connectivity', 'can', 'be', 'studied', 'using', 'graph', 'theory', 'Many', 'connectivity', 'studies', 'parcellate', 'the', 'brain', 'into', 'regions', 'and', 'count', 'fibres', 'extracted', 'between', 'them', 'The', 'resulting', 'network', 'analyses', 'require', 'validation', 'of', 'the', 'tractography', 'as', 'well', 'as', 'region', 'and', 'parameter', 'selection', 'Here', 'we', 'investigate', 'whole', 'brain', 'connectivity', 'from', 'a', 'different', 'perspective', 'We', 'propose', 'a', 'mathematical', 'formulation', 'based', 'on', 'studying', 'the', 'eigenvalues', 'of', 'the', 'Laplacian', 'matrix', 'of', 'the', 'diffusion', 'tensor', 'field', 'at', 'the', 'voxel', 'level', 'This', 'voxelwise', 'matrix', 'has', 'over', 'a', 'million', 'parameters', 'but', 'we', 'derive', 'the', 'Kirchhoff', 'complexity', 'and', 'eigenspectrum', 'through', 'elegant', 'mathematical', 'theorems', 'without', 'heavy', 'computation', 'We', 'use', 'these', 'novel', 'measures', 'to', 'accurately', 'estimate', 'the', 'voxelwise', 'connectivity', 'in', 'multiple', 'biomedical', 'applications', 'such', 'as', 'Alzheimers', 'disease', 'and', 'intelligence', 'prediction'], ['Human', 'lifespan', 'is', 'positively', 'correlated', 'with', 'childhood', 'intelligence', 'as', 'measured', 'by', 'psychometric', 'IQ', 'tests', 'The', 'strength', 'of', 'this', 'correlation', 'is', 'similar', 'to', 'the', 'negative', 'effect', 'that', 'smoking', 'has', 'on', 'the', 'life', 'course', 'This', 'result', 'suggests', 'that', 'people', 'who', 'perform', 'well', 'on', 'psychometric', 'tests', 'in', 'childhood', 'may', 'remain', 'healthier', 'and', 'live', 'longer', 'The', 'correlation', 'however', 'is', 'debated', 'is', 'it', 'caused', 'exclusively', 'by', 'socialenvironmental', 'factors', 'or', 'could', 'it', 'also', 'have', 'a', 'biological', 'component', 'Biological', 'traits', 'of', 'systems', 'integrity', 'that', 'might', 'result', 'in', 'correlations', 'between', 'brain', 'function', 'and', 'lifespan', 'have', 'been', 'suggested', 'but', 'are', 'not', 'wellestablished', 'and', 'it', 'is', 'questioned', 'what', 'useful', 'knowledge', 'can', 'come', 'from', 'understanding', 'such', 'mechanisms', 'In', 'a', 'recent', 'study', 'we', 'found', 'a', 'positive', 'correlation', 'between', 'brain', 'function', 'and', 'longevity', 'in', 'honey', 'bees', 'Honey', 'bees', 'are', 'highly', 'social', 'but', 'relevant', 'socialenvironmental', 'factors', 'that', 'contribute', 'to', 'cognitionsurvival', 'correlations', 'in', 'humans', 'are', 'largely', 'absent', 'from', 'insect', 'colonies', 'Our', 'results', 'therefore', 'suggest', 'a', 'biological', 'explanation', 'for', 'the', 'correlation', 'in', 'the', 'bee', 'Here', 'we', 'argue', 'that', 'individual', 'differences', 'in', 'stress', 'handling', 'coping', 'mechanisms', 'which', 'both', 'affect', 'the', 'bees', 'performance', 'in', 'tests', 'of', 'brain', 'function', 'and', 'their', 'survival', 'could', 'be', 'a', 'trait', 'of', 'systems', 'integrity', 'Individual', 'differences', 'in', 'coping', 'are', 'much', 'studied', 'in', 'vertebrates', 'and', 'several', 'species', 'provide', 'attractive', 'models', 'Here', 'we', 'discuss', 'how', 'pigs', 'are', 'an', 'interesting', 'model', 'for', 'studying', 'behavioural', 'physiological', 'and', 'molecular', 'mechanisms', 'that', 'are', 'recruited', 'during', 'stress', 'and', 'that', 'can', 'drive', 'correlations', 'between', 'health', 'cognition', 'and', 'longevity', 'traits', 'By', 'revealing', 'biological', 'factors', 'that', 'make', 'individuals', 'susceptible', 'to', 'stress', 'it', 'might', 'be', 'possible', 'to', 'alleviate', 'health', 'and', 'longevity', 'disparities', 'in', 'people'], ['Physicians', 'in', 'order', 'to', 'study', 'the', 'causes', 'of', 'cancer', 'detect', 'cancer', 'earlier', 'prevent', 'or', 'determine', 'the', 'effectiveness', 'of', 'treatment', 'and', 'specify', 'the', 'reasons', 'for', 'the', 'treatment', 'ineffectiveness', 'need', 'to', 'access', 'accurate', 'comprehensive', 'and', 'timely', 'cancer', 'data', 'The', 'cancer', 'care', 'environment', 'has', 'become', 'more', 'complex', 'because', 'of', 'the', 'need', 'for', 'coordination', 'and', 'communication', 'among', 'health', 'care', 'professionals', 'with', 'different', 'skills', 'in', 'a', 'variety', 'of', 'roles', 'and', 'the', 'existence', 'of', 'large', 'amounts', 'of', 'data', 'with', 'various', 'formats', 'The', 'goals', 'of', 'health', 'care', 'systems', 'in', 'such', 'a', 'complex', 'environment', 'are', 'correct', 'health', 'data', 'management', 'providing', 'appropriate', 'information', 'needs', 'of', 'users', 'to', 'enhance', 'the', 'integrity', 'and', 'quality', 'of', 'health', 'care', 'timely', 'access', 'to', 'accurate', 'information', 'and', 'reducing', 'medical', 'errors', 'These', 'roles', 'in', 'new', 'systems', 'with', 'use', 'of', 'agents', 'efficiently', 'perform', 'well', 'Because', 'of', 'the', 'potential', 'capability', 'of', 'agent', 'systems', 'to', 'solve', 'complex', 'and', 'dynamic', 'health', 'problems', 'health', 'care', 'system', 'in', 'order', 'to', 'gain', 'full', 'advantage', 'of', 'E', 'health', 'steps', 'must', 'be', 'taken', 'to', 'make', 'use', 'of', 'this', 'technology', 'Multiagent', 'systems', 'have', 'effective', 'roles', 'in', 'health', 'service', 'quality', 'improvement', 'especially', 'in', 'telemedicine', 'emergency', 'situations', 'and', 'management', 'of', 'chronic', 'diseases', 'such', 'as', 'cancer', 'In', 'the', 'design', 'and', 'implementation', 'of', 'agent', 'based', 'systems', 'planning', 'items', 'such', 'as', 'information', 'confidentiality', 'and', 'privacy', 'architecture', 'communication', 'standards', 'ethical', 'and', 'legal', 'aspects', 'identification', 'opportunities', 'and', 'barriers', 'should', 'be', 'considered', 'It', 'should', 'be', 'noted', 'that', 'usage', 'of', 'agent', 'systems', 'only', 'with', 'a', 'technical', 'view', 'is', 'associated', 'with', 'many', 'problems', 'such', 'as', 'lack', 'of', 'user', 'acceptance', 'The', 'aim', 'of', 'this', 'commentary', 'is', 'to', 'survey', 'applications', 'opportunities', 'and', 'barriers', 'of', 'this', 'new', 'artificial', 'intelligence', 'tool', 'for', 'cancer', 'care', 'information', 'as', 'an', 'approach', 'to', 'improve', 'cancer', 'care', 'management'], ['Cyber', 'threats', 'are', 'growing', 'and', 'evolving', 'at', 'an', 'unprecedented', 'rateConsequently', 'it', 'is', 'becoming', 'vitally', 'important', 'that', 'organisations', 'share', 'information', 'internally', 'and', 'externally', 'before', 'during', 'and', 'after', 'incidents', 'they', 'encounter', 'so', 'that', 'lessons', 'can', 'be', 'learned', 'good', 'practice', 'identified', 'and', 'new', 'cyber', 'resilience', 'capabilities', 'developed', 'Many', 'organisations', 'are', 'reluctant', 'to', 'share', 'such', 'information', 'for', 'fear', 'of', 'divulging', 'sensitive', 'information', 'or', 'because', 'it', 'may', 'be', 'vague', 'or', 'incomplete', 'This', 'provides', 'organisations', 'with', 'a', 'complex', 'dilemma', 'how', 'to', 'share', 'information', 'as', 'openly', 'as', 'possibly', 'about', 'cyber', 'incidents', 'while', 'protecting', 'their', 'confidentiality', 'and', 'focusing', 'on', 'service', 'recovery', 'from', 'such', 'incidents', 'This', 'paper', 'explores', 'the', 'dilemma', 'of', 'information', 'sharing', 'versus', 'sensitivity', 'and', 'provides', 'a', 'practical', 'overview', 'of', 'considerations', 'every', 'business', 'continuity', 'plan', 'should', 'address', 'to', 'plan', 'effectively', 'for', 'information', 'sharing', 'in', 'the', 'event', 'of', 'a', 'cyber', 'incident'], ['Migraine', 'without', 'aura', 'MoA', 'is', 'a', 'painful', 'syndrome', 'particularly', 'in', 'childhood', 'it', 'is', 'often', 'accompanied', 'by', 'severe', 'impairments', 'including', 'emotional', 'dysfunction', 'absenteeism', 'from', 'school', 'and', 'poor', 'academic', 'performance', 'as', 'well', 'as', 'issues', 'relating', 'to', 'poor', 'cognitive', 'function', 'sleep', 'habits', 'and', 'motor', 'coordination', 'The', 'study', 'population', 'consisted', 'of', '71', 'patients', 'affected', 'by', 'MoA', '32', 'females', '39', 'males', 'mean', 'age', '913194', 'years', 'the', 'control', 'group', 'consisted', 'of', '93', 'normally', 'developing', 'children', '44', 'females', '49', 'males', 'mean', 'age', '897203', 'years', 'recruited', 'in', 'the', 'Campania', 'school', 'region', 'The', 'entire', 'population', 'underwent', 'a', 'clinical', 'evaluation', 'to', 'assess', 'total', 'intelligence', 'quotient', 'level', 'visualmotor', 'integration', 'VMI', 'skills', 'and', 'motor', 'coordination', 'performance', 'the', 'later', 'using', 'the', 'Movement', 'Assessment', 'Battery', 'for', 'Children', 'MABC', 'Children', 'underwent', 'training', 'using', 'the', 'Wiibalance', 'board', 'and', 'Nintendo', 'Wii', 'Fit', 'Plus', 'software', 'Nintendo', 'Co', 'Ltd', 'Kyoto', 'Japan', 'training', 'lasted', 'for', '12', 'weeks', 'and', 'consisted', 'of', 'three', '30minute', 'sessions', 'per', 'week', 'at', 'their', 'home', 'The', 'two', 'starting', 'populations', 'MoA', 'and', 'controls', 'were', 'not', 'significantly', 'different', 'for', 'age', 'P0899', 'and', 'sex', 'P0611', 'MABC', 'and', 'VMI', 'performances', 'at', 'baseline', 'T0', 'were', 'significantly', 'different', 'in', 'dexterity', 'balance', 'and', 'total', 'score', 'for', 'MABC', 'P0001', 'and', 'visual', 'P0003', 'and', 'motor', 'P0001', 'tasks', 'for', 'VMI', 'After', '3', 'months', 'of', 'Wii', 'training', 'T1', 'MoA', 'children', 'showed', 'a', 'significant', 'improvement', 'in', 'MABC', 'global', 'performance', 'P0001', 'MABC', 'dexterity', 'P0001', 'MABC', 'balance', 'P0001', 'and', 'VMI', 'motor', 'task', 'P0001', 'Our', 'study', 'reported', 'the', 'positive', 'effects', 'of', 'the', 'Nintendo', 'Wii', 'Fit', 'Plus', 'system', 'as', 'a', 'rehabilitative', 'device', 'for', 'the', 'visuomotor', 'and', 'balance', 'skills', 'impairments', 'among', 'children', 'affected', 'by', 'MoA', 'even', 'if', 'further', 'research', 'and', 'longer', 'followup', 'are', 'needed'], ['To', 'verify', 'the', 'use', 'of', 'nouns', 'and', 'verbs', 'by', 'children', 'with', 'Down', 'syndrome', 'and', 'to', 'compare', 'this', 'use', 'between', 'conditions', 'of', 'interaction', 'with', 'the', 'mother', 'and', 'the', 'Speechlanguage', 'pathologist', 'SLP', 'Participants', 'were', '21', 'children', 'aged', 'between', '5', 'and', '11', 'years', 'divided', 'into', 'three', 'groups', 'according', 'to', 'chronological', 'and', 'mental', 'age', 'as', 'established', 'by', 'the', 'results', 'of', 'the', 'Primary', 'Tests', 'of', 'Nonverbal', 'Intelligence', 'The', 'speech', 'sample', 'was', 'obtained', 'through', 'free', 'interaction', 'situations', 'that', 'were', 'videotaped', 'during', 'session', 'of', '30', 'minutes', 'and', 'transcribed', 'in', 'specific', 'protocols', 'The', 'first', '100', 'utterances', 'from', 'the', 'first', 'five', 'minutes', 'were', 'used', 'The', 'interval', 'between', 'each', 'situation', 'ranged', 'from', '7', 'to', '15', 'days', 'Ttest', 'and', 'analysis', 'of', 'variance', 'were', 'used', 'for', 'statistical', 'analysis', 'and', 'the', 'significance', 'level', 'adopted', 'was', 'of', '5', 'More', 'verbs', 'than', 'nouns', 'were', 'used', 'in', 'both', 'conditions', 'however', 'a', 'higher', 'number', 'of', 'nouns', 'were', 'observed', 'during', 'the', 'interaction', 'with', 'the', 'SLP', 'The', 'betweengroup', 'comparison', 'in', 'the', 'interaction', 'with', 'the', 'SLP', 'shows', 'significant', 'differences', 'for', 'verbs', 'and', 'nouns', 'but', 'during', 'the', 'interaction', 'with', 'the', 'mother', 'there', 'was', 'tendency', 'for', 'difference', 'only', 'for', 'the', 'verbs', 'The', 'data', 'indicate', 'the', 'growing', 'development', 'on', 'using', 'of', 'nouns', 'and', 'verbs', 'according', 'to', 'the', 'increase', 'of', 'age', 'There', 'was', 'a', 'higher', 'use', 'of', 'verbs', 'when', 'compared', 'with', 'nouns', 'mainly', 'in', 'the', 'condition', 'of', 'interaction', 'with', 'the', 'SLP'], ['To', 'investigate', 'phonological', 'awareness', 'and', 'working', 'memory', 'skills', 'as', 'well', 'as', 'their', 'influence', 'on', 'the', 'literacy', 'process', 'in', 'a', 'group', 'of', 'intellectually', 'normal', 'children', 'Forty', 'intellectually', 'normal', 'children', '7680', 'years', 'from', 'the', 'second', 'and', 'third', 'grades', 'of', 'elementary', 'school', 'participated', 'Children', 'were', 'organized', 'in', 'two', 'groups', '20', 'children', 'each', 'one', 'with', 'and', 'another', 'without', 'literacy', 'difficulties', 'These', 'participants', 'underwent', 'RAVENs', 'intelligence', 'quotient', 'test', 'audiometric', 'assessment', 'CONFIAS', 'test', 'of', 'phonological', 'awareness', 'written', 'spelling', 'task', 'and', 'working', 'memory', 'test', 'Children', 'in', 'the', 'alphabetic', 'phase', 'presented', 'a', 'good', 'development', 'of', 'phonological', 'awareness', 'and', '85', 'of', 'them', 'showed', 'a', 'highperformance', 'working', 'memory', 'Children', 'in', 'the', 'syllabicalphabetic', 'phase', 'had', 'changes', 'in', 'phonological', 'awareness', 'and', '916', 'of', 'them', 'showed', 'an', 'average', 'working', 'memory', 'performance', 'The', 'subjects', 'at', 'presyllabic', 'and', 'syllabic', 'phases', 'demonstrated', 'more', 'difficulties', 'in', 'phonological', 'awareness', 'than', 'those', 'at', 'syllabicalphabetic', 'and', 'had', 'a', 'poor', 'working', 'memory', 'performance', 'Betweengroup', 'differences', 'were', 'observed', 'for', 'CONFIAS', 'and', 'working', 'memory', 'tests', 'p00001', 'There', 'was', 'also', 'a', 'significant', 'correlation', 'r078', 'p001', 'between', 'the', 'skills', 'of', 'phonological', 'awareness', 'and', 'working', 'memory', 'for', 'the', 'total', 'sample', 'of', 'individuals', 'Based', 'on', 'these', 'results', 'it', 'was', 'found', 'that', 'as', 'phonological', 'awareness', 'and', 'working', 'memory', 'levels', 'increased', 'the', 'literacy', 'phase', 'also', 'advanced', 'therefore', 'showing', 'that', 'these', 'are', 'directly', 'proportional', 'measures'], ['Cognitive', 'impairment', 'is', 'common', 'in', 'patients', 'with', 'schizophrenia', 'and', 'even', 'those', 'with', 'relatively', 'preserved', 'function', 'perform', 'worse', 'than', 'healthy', 'volunteers', 'HVs', 'on', 'attentional', 'tasks', 'This', 'is', 'consistent', 'with', 'the', 'hypothesis', 'that', 'connectivity', 'in', 'the', 'frontoparietal', 'network', 'FPN', 'activated', 'during', 'attention', 'is', 'disrupted', 'in', 'schizophrenia', 'We', 'examined', 'attentional', 'effects', 'on', 'connectivity', 'in', 'the', 'FPN', 'in', 'schizophrenia', 'using', 'magnetoencephalography', 'MEG', 'Twentythree', 'HVs', 'and', '19', 'firstepisode', 'schizophrenia', 'patients', 'were', 'scanned', 'during', 'a', 'simple', 'visual', 'change', 'test', 'known', 'to', 'activate', 'the', 'FPN', 'in', 'which', 'attention', 'was', 'monitored', 'and', 'directed', 'with', 'an', 'orthogonal', 'flickerdetection', 'task', 'Dynamic', 'causal', 'modeling', 'DCM', 'of', 'evoked', 'responses', 'was', 'used', 'to', 'assess', 'effective', 'connectivity', 'and', 'its', 'modulation', 'by', 'changes', 'in', 'the', 'attended', 'stimulus', 'dimension', 'in', 'the', 'following', 'network', 'higher', 'visual', 'area', 'temporoparietal', 'junction', 'TPJ', 'intraparietal', 'sulcus', 'IPS', 'dorsal', 'anterior', 'cingulate', 'cortex', 'and', 'ventrolateral', 'prefrontal', 'cortex', 'The', 'final', 'MEG', 'analysis', 'included', '18', 'HVs', 'and', '14', 'schizophrenia', 'patients', 'While', 'all', 'participants', 'were', 'able', 'to', 'maintain', 'attention', 'HVs', 'responded', 'slightly', 'but', 'nonsignificantly', 'more', 'accurately', 'than', 'schizophrenia', 'patients', 'HVs', 'but', 'not', 'schizophrenia', 'patients', 'exhibited', 'greater', 'cortical', 'responses', 'to', 'attended', 'visual', 'changes', 'Bayesian', 'model', 'comparison', 'revealed', 'that', 'a', 'DCM', 'with', 'attention', 'dependent', 'changes', 'in', 'both', 'topdown', 'and', 'bottomup', 'connections', 'best', 'explained', 'responses', 'by', 'patients', 'with', 'schizophrenia', 'while', 'in', 'HVs', 'the', 'best', 'model', 'required', 'only', 'bottomup', 'changes', 'Quantitative', 'comparison', 'of', 'connectivity', 'estimates', 'revealed', 'a', 'significant', 'group', 'difference', 'in', 'changes', 'in', 'the', 'right', 'IPSTPJ', 'connection', 'schizophrenia', 'patients', 'showed', 'relative', 'reductions', 'in', 'connectivity', 'during', 'attended', 'stimulus', 'changes', 'Crucially', 'this', 'reduction', 'predicted', 'lower', 'intelligence', 'These', 'data', 'are', 'consistent', 'with', 'the', 'hypothesis', 'that', 'functional', 'dysconnections', 'in', 'the', 'FPN', 'contribute', 'to', 'cognitive', 'impairment', 'in', 'schizophrenia']]\n",
      "58535\n"
     ]
    }
   ],
   "source": [
    "# Create corpus for BM25\n",
    "corpus = abstracts['Abstract'].tolist()\n",
    "tokenized_corpus = [doc.split(\" \") for doc in corpus]\n",
    "bm25 = BM25Okapi(tokenized_corpus)\n",
    "\n",
    "print(tokenized_corpus[:10])\n",
    "print(len(tokenized_corpus))"
   ]
  },
  {
   "cell_type": "code",
   "execution_count": 23,
   "metadata": {},
   "outputs": [],
   "source": [
    "accuracies = []\n",
    "\n",
    "# Evaluate BM25 for different values of k\n",
    "for k in range(1, 21):\n",
    "    matches = 0\n",
    "    for query, gold_label in zip(eval_queries, gold_pmids):\n",
    "        tokenized_query = query.split(\" \")\n",
    "        doc_scores = bm25.get_scores(tokenized_query)\n",
    "        \n",
    "        # Get indices of top k documents\n",
    "        top_k_indices = sorted(range(len(doc_scores)), key=lambda i: doc_scores[i], reverse=True)[:k]\n",
    "        \n",
    "        # Convert indices to PMIDs\n",
    "        retrieved_pmids = [int(abstracts['PMID'].iloc[i]) for i in top_k_indices]\n",
    "        \n",
    "        \n",
    "        if gold_label in retrieved_pmids:\n",
    "            matches += 1\n",
    "\n",
    "    accuracy = matches / len(eval_queries)\n",
    "    accuracies.append(accuracy)\n",
    "\n",
    "# Save accuracies to a text file\n",
    "file_path = './text_files/keyword_search_bm25_accuracies.txt'\n",
    "with open(file_path, 'w') as f:\n",
    "    for accuracy in accuracies:\n",
    "        f.write(f\"{accuracy}\\n\")\n",
    "\n",
    "# Plotting the results\n",
    "plot_title = \"Keyword Search Accuracy with BM25\"\n",
    "file_name = './images/keyword_search_bm25_accuracies.png'\n",
    "\n",
    "plt.plot(range(1, 21), accuracies, marker='o')\n",
    "plt.xlabel('k (Number of Top Results Considered)')\n",
    "plt.ylabel('Accuracy')\n",
    "plt.title(plot_title)\n",
    "plt.xticks(range(1, 21))\n",
    "\n",
    "plt.savefig(file_name)\n"
   ]
  },
  {
   "cell_type": "code",
   "execution_count": 21,
   "metadata": {},
   "outputs": [
    {
     "name": "stdout",
     "output_type": "stream",
     "text": [
      "Schizophrenia patients with high intelligence: A clinically distinct sub-type of schizophrenia? - gold: 25752725 - [29734953]\n",
      "Do audiologic characteristics predict outcomes in children with unilateral hearing loss? - gold: 24232067 - [24232067]\n",
      "Schizophrenia patients with high intelligence: A clinically distinct sub-type of schizophrenia? - gold: 25752725 - [29734953, 29730869]\n",
      "Do audiologic characteristics predict outcomes in children with unilateral hearing loss? - gold: 24232067 - [24232067, 26452077]\n",
      "[0.005988023952095809, 0.005988023952095809]\n"
     ]
    },
    {
     "ename": "ValueError",
     "evalue": "x and y must have same first dimension, but have shapes (20,) and (2,)",
     "output_type": "error",
     "traceback": [
      "\u001b[0;31m---------------------------------------------------------------------------\u001b[0m",
      "\u001b[0;31mValueError\u001b[0m                                Traceback (most recent call last)",
      "Cell \u001b[0;32mIn[21], line 30\u001b[0m\n\u001b[1;32m     27\u001b[0m plot_title \u001b[38;5;241m=\u001b[39m \u001b[38;5;124m\"\u001b[39m\u001b[38;5;124mKeyword Search Accuracy with BM25\u001b[39m\u001b[38;5;124m\"\u001b[39m\n\u001b[1;32m     28\u001b[0m file_name \u001b[38;5;241m=\u001b[39m \u001b[38;5;124m'\u001b[39m\u001b[38;5;124m./images/keyword_search_bm25_accuracies.png\u001b[39m\u001b[38;5;124m'\u001b[39m\n\u001b[0;32m---> 30\u001b[0m \u001b[43mplt\u001b[49m\u001b[38;5;241;43m.\u001b[39;49m\u001b[43mplot\u001b[49m\u001b[43m(\u001b[49m\u001b[38;5;28;43mrange\u001b[39;49m\u001b[43m(\u001b[49m\u001b[38;5;241;43m1\u001b[39;49m\u001b[43m,\u001b[49m\u001b[43m \u001b[49m\u001b[38;5;241;43m21\u001b[39;49m\u001b[43m)\u001b[49m\u001b[43m,\u001b[49m\u001b[43m \u001b[49m\u001b[43maccuracies\u001b[49m\u001b[43m,\u001b[49m\u001b[43m \u001b[49m\u001b[43mmarker\u001b[49m\u001b[38;5;241;43m=\u001b[39;49m\u001b[38;5;124;43m'\u001b[39;49m\u001b[38;5;124;43mo\u001b[39;49m\u001b[38;5;124;43m'\u001b[39;49m\u001b[43m)\u001b[49m\n\u001b[1;32m     31\u001b[0m plt\u001b[38;5;241m.\u001b[39mxlabel(\u001b[38;5;124m'\u001b[39m\u001b[38;5;124mk (Number of Top Results Considered)\u001b[39m\u001b[38;5;124m'\u001b[39m)\n\u001b[1;32m     32\u001b[0m plt\u001b[38;5;241m.\u001b[39mylabel(\u001b[38;5;124m'\u001b[39m\u001b[38;5;124mAccuracy\u001b[39m\u001b[38;5;124m'\u001b[39m)\n",
      "File \u001b[0;32m~/miniconda3/envs/nlp-transformers/lib/python3.10/site-packages/matplotlib/pyplot.py:3578\u001b[0m, in \u001b[0;36mplot\u001b[0;34m(scalex, scaley, data, *args, **kwargs)\u001b[0m\n\u001b[1;32m   3570\u001b[0m \u001b[38;5;129m@_copy_docstring_and_deprecators\u001b[39m(Axes\u001b[38;5;241m.\u001b[39mplot)\n\u001b[1;32m   3571\u001b[0m \u001b[38;5;28;01mdef\u001b[39;00m \u001b[38;5;21mplot\u001b[39m(\n\u001b[1;32m   3572\u001b[0m     \u001b[38;5;241m*\u001b[39margs: \u001b[38;5;28mfloat\u001b[39m \u001b[38;5;241m|\u001b[39m ArrayLike \u001b[38;5;241m|\u001b[39m \u001b[38;5;28mstr\u001b[39m,\n\u001b[0;32m   (...)\u001b[0m\n\u001b[1;32m   3576\u001b[0m     \u001b[38;5;241m*\u001b[39m\u001b[38;5;241m*\u001b[39mkwargs,\n\u001b[1;32m   3577\u001b[0m ) \u001b[38;5;241m-\u001b[39m\u001b[38;5;241m>\u001b[39m \u001b[38;5;28mlist\u001b[39m[Line2D]:\n\u001b[0;32m-> 3578\u001b[0m     \u001b[38;5;28;01mreturn\u001b[39;00m \u001b[43mgca\u001b[49m\u001b[43m(\u001b[49m\u001b[43m)\u001b[49m\u001b[38;5;241;43m.\u001b[39;49m\u001b[43mplot\u001b[49m\u001b[43m(\u001b[49m\n\u001b[1;32m   3579\u001b[0m \u001b[43m        \u001b[49m\u001b[38;5;241;43m*\u001b[39;49m\u001b[43margs\u001b[49m\u001b[43m,\u001b[49m\n\u001b[1;32m   3580\u001b[0m \u001b[43m        \u001b[49m\u001b[43mscalex\u001b[49m\u001b[38;5;241;43m=\u001b[39;49m\u001b[43mscalex\u001b[49m\u001b[43m,\u001b[49m\n\u001b[1;32m   3581\u001b[0m \u001b[43m        \u001b[49m\u001b[43mscaley\u001b[49m\u001b[38;5;241;43m=\u001b[39;49m\u001b[43mscaley\u001b[49m\u001b[43m,\u001b[49m\n\u001b[1;32m   3582\u001b[0m \u001b[43m        \u001b[49m\u001b[38;5;241;43m*\u001b[39;49m\u001b[38;5;241;43m*\u001b[39;49m\u001b[43m(\u001b[49m\u001b[43m{\u001b[49m\u001b[38;5;124;43m\"\u001b[39;49m\u001b[38;5;124;43mdata\u001b[39;49m\u001b[38;5;124;43m\"\u001b[39;49m\u001b[43m:\u001b[49m\u001b[43m \u001b[49m\u001b[43mdata\u001b[49m\u001b[43m}\u001b[49m\u001b[43m \u001b[49m\u001b[38;5;28;43;01mif\u001b[39;49;00m\u001b[43m \u001b[49m\u001b[43mdata\u001b[49m\u001b[43m \u001b[49m\u001b[38;5;129;43;01mis\u001b[39;49;00m\u001b[43m \u001b[49m\u001b[38;5;129;43;01mnot\u001b[39;49;00m\u001b[43m \u001b[49m\u001b[38;5;28;43;01mNone\u001b[39;49;00m\u001b[43m \u001b[49m\u001b[38;5;28;43;01melse\u001b[39;49;00m\u001b[43m \u001b[49m\u001b[43m{\u001b[49m\u001b[43m}\u001b[49m\u001b[43m)\u001b[49m\u001b[43m,\u001b[49m\n\u001b[1;32m   3583\u001b[0m \u001b[43m        \u001b[49m\u001b[38;5;241;43m*\u001b[39;49m\u001b[38;5;241;43m*\u001b[39;49m\u001b[43mkwargs\u001b[49m\u001b[43m,\u001b[49m\n\u001b[1;32m   3584\u001b[0m \u001b[43m    \u001b[49m\u001b[43m)\u001b[49m\n",
      "File \u001b[0;32m~/miniconda3/envs/nlp-transformers/lib/python3.10/site-packages/matplotlib/axes/_axes.py:1721\u001b[0m, in \u001b[0;36mAxes.plot\u001b[0;34m(self, scalex, scaley, data, *args, **kwargs)\u001b[0m\n\u001b[1;32m   1478\u001b[0m \u001b[38;5;250m\u001b[39m\u001b[38;5;124;03m\"\"\"\u001b[39;00m\n\u001b[1;32m   1479\u001b[0m \u001b[38;5;124;03mPlot y versus x as lines and/or markers.\u001b[39;00m\n\u001b[1;32m   1480\u001b[0m \n\u001b[0;32m   (...)\u001b[0m\n\u001b[1;32m   1718\u001b[0m \u001b[38;5;124;03m(``'green'``) or hex strings (``'#008000'``).\u001b[39;00m\n\u001b[1;32m   1719\u001b[0m \u001b[38;5;124;03m\"\"\"\u001b[39;00m\n\u001b[1;32m   1720\u001b[0m kwargs \u001b[38;5;241m=\u001b[39m cbook\u001b[38;5;241m.\u001b[39mnormalize_kwargs(kwargs, mlines\u001b[38;5;241m.\u001b[39mLine2D)\n\u001b[0;32m-> 1721\u001b[0m lines \u001b[38;5;241m=\u001b[39m [\u001b[38;5;241m*\u001b[39m\u001b[38;5;28mself\u001b[39m\u001b[38;5;241m.\u001b[39m_get_lines(\u001b[38;5;28mself\u001b[39m, \u001b[38;5;241m*\u001b[39margs, data\u001b[38;5;241m=\u001b[39mdata, \u001b[38;5;241m*\u001b[39m\u001b[38;5;241m*\u001b[39mkwargs)]\n\u001b[1;32m   1722\u001b[0m \u001b[38;5;28;01mfor\u001b[39;00m line \u001b[38;5;129;01min\u001b[39;00m lines:\n\u001b[1;32m   1723\u001b[0m     \u001b[38;5;28mself\u001b[39m\u001b[38;5;241m.\u001b[39madd_line(line)\n",
      "File \u001b[0;32m~/miniconda3/envs/nlp-transformers/lib/python3.10/site-packages/matplotlib/axes/_base.py:303\u001b[0m, in \u001b[0;36m_process_plot_var_args.__call__\u001b[0;34m(self, axes, data, *args, **kwargs)\u001b[0m\n\u001b[1;32m    301\u001b[0m     this \u001b[38;5;241m+\u001b[39m\u001b[38;5;241m=\u001b[39m args[\u001b[38;5;241m0\u001b[39m],\n\u001b[1;32m    302\u001b[0m     args \u001b[38;5;241m=\u001b[39m args[\u001b[38;5;241m1\u001b[39m:]\n\u001b[0;32m--> 303\u001b[0m \u001b[38;5;28;01myield from\u001b[39;00m \u001b[38;5;28;43mself\u001b[39;49m\u001b[38;5;241;43m.\u001b[39;49m\u001b[43m_plot_args\u001b[49m\u001b[43m(\u001b[49m\n\u001b[1;32m    304\u001b[0m \u001b[43m    \u001b[49m\u001b[43maxes\u001b[49m\u001b[43m,\u001b[49m\u001b[43m \u001b[49m\u001b[43mthis\u001b[49m\u001b[43m,\u001b[49m\u001b[43m \u001b[49m\u001b[43mkwargs\u001b[49m\u001b[43m,\u001b[49m\u001b[43m \u001b[49m\u001b[43mambiguous_fmt_datakey\u001b[49m\u001b[38;5;241;43m=\u001b[39;49m\u001b[43mambiguous_fmt_datakey\u001b[49m\u001b[43m)\u001b[49m\n",
      "File \u001b[0;32m~/miniconda3/envs/nlp-transformers/lib/python3.10/site-packages/matplotlib/axes/_base.py:499\u001b[0m, in \u001b[0;36m_process_plot_var_args._plot_args\u001b[0;34m(self, axes, tup, kwargs, return_kwargs, ambiguous_fmt_datakey)\u001b[0m\n\u001b[1;32m    496\u001b[0m     axes\u001b[38;5;241m.\u001b[39myaxis\u001b[38;5;241m.\u001b[39mupdate_units(y)\n\u001b[1;32m    498\u001b[0m \u001b[38;5;28;01mif\u001b[39;00m x\u001b[38;5;241m.\u001b[39mshape[\u001b[38;5;241m0\u001b[39m] \u001b[38;5;241m!=\u001b[39m y\u001b[38;5;241m.\u001b[39mshape[\u001b[38;5;241m0\u001b[39m]:\n\u001b[0;32m--> 499\u001b[0m     \u001b[38;5;28;01mraise\u001b[39;00m \u001b[38;5;167;01mValueError\u001b[39;00m(\u001b[38;5;124mf\u001b[39m\u001b[38;5;124m\"\u001b[39m\u001b[38;5;124mx and y must have same first dimension, but \u001b[39m\u001b[38;5;124m\"\u001b[39m\n\u001b[1;32m    500\u001b[0m                      \u001b[38;5;124mf\u001b[39m\u001b[38;5;124m\"\u001b[39m\u001b[38;5;124mhave shapes \u001b[39m\u001b[38;5;132;01m{\u001b[39;00mx\u001b[38;5;241m.\u001b[39mshape\u001b[38;5;132;01m}\u001b[39;00m\u001b[38;5;124m and \u001b[39m\u001b[38;5;132;01m{\u001b[39;00my\u001b[38;5;241m.\u001b[39mshape\u001b[38;5;132;01m}\u001b[39;00m\u001b[38;5;124m\"\u001b[39m)\n\u001b[1;32m    501\u001b[0m \u001b[38;5;28;01mif\u001b[39;00m x\u001b[38;5;241m.\u001b[39mndim \u001b[38;5;241m>\u001b[39m \u001b[38;5;241m2\u001b[39m \u001b[38;5;129;01mor\u001b[39;00m y\u001b[38;5;241m.\u001b[39mndim \u001b[38;5;241m>\u001b[39m \u001b[38;5;241m2\u001b[39m:\n\u001b[1;32m    502\u001b[0m     \u001b[38;5;28;01mraise\u001b[39;00m \u001b[38;5;167;01mValueError\u001b[39;00m(\u001b[38;5;124mf\u001b[39m\u001b[38;5;124m\"\u001b[39m\u001b[38;5;124mx and y can be no greater than 2D, but have \u001b[39m\u001b[38;5;124m\"\u001b[39m\n\u001b[1;32m    503\u001b[0m                      \u001b[38;5;124mf\u001b[39m\u001b[38;5;124m\"\u001b[39m\u001b[38;5;124mshapes \u001b[39m\u001b[38;5;132;01m{\u001b[39;00mx\u001b[38;5;241m.\u001b[39mshape\u001b[38;5;132;01m}\u001b[39;00m\u001b[38;5;124m and \u001b[39m\u001b[38;5;132;01m{\u001b[39;00my\u001b[38;5;241m.\u001b[39mshape\u001b[38;5;132;01m}\u001b[39;00m\u001b[38;5;124m\"\u001b[39m)\n",
      "\u001b[0;31mValueError\u001b[0m: x and y must have same first dimension, but have shapes (20,) and (2,)"
     ]
    },
    {
     "data": {
      "image/png": "[encoded data removed]",
      "text/plain": [
       "<Figure size 640x480 with 1 Axes>"
      ]
     },
     "metadata": {},
     "output_type": "display_data"
    }
   ],
   "source": [
    "accuracies = []\n",
    "\n",
    "# Evaluate BM25 for different values of k\n",
    "for k in range(1, 3):\n",
    "    matches = 0\n",
    "    for query, gold_label in zip(eval_queries[:2], gold_pmids[:2]):\n",
    "        tokenized_query = query.split(\" \")\n",
    "        doc_scores = bm25.get_scores(tokenized_query)\n",
    "        \n",
    "        # Get indices of top k documents\n",
    "        top_k_indices = sorted(range(len(doc_scores)), key=lambda i: doc_scores[i], reverse=True)[:k]\n",
    "  \n",
    "        # Convert indices to PMIDs\n",
    "        retrieved_pmids = [int(abstracts['PMID'].iloc[i]) for i in top_k_indices]\n",
    "        print(f\"{query} - gold: {gold_label} - {retrieved_pmids}\")\n",
    "        \n",
    "        if gold_label in retrieved_pmids:\n",
    "            matches += 1\n",
    "\n",
    "    accuracy = matches / len(eval_queries)\n",
    "    accuracies.append(accuracy)\n",
    "\n",
    "\n",
    "print(accuracies)\n",
    "\n",
    "# Plotting the results\n",
    "plot_title = \"Keyword Search Accuracy with BM25\"\n",
    "file_name = './images/keyword_search_bm25_accuracies.png'\n",
    "\n",
    "plt.plot(range(1, 21), accuracies, marker='o')\n",
    "plt.xlabel('k (Number of Top Results Considered)')\n",
    "plt.ylabel('Accuracy')\n",
    "plt.title(plot_title)\n",
    "plt.xticks(range(1, 21))\n",
    "\n"
   ]
  },
  {
   "cell_type": "code",
   "execution_count": null,
   "metadata": {},
   "outputs": [],
   "source": []
  }
 ],
 "metadata": {
  "kernelspec": {
   "display_name": "nlp-transformers",
   "language": "python",
   "name": "python3"
  },
  "language_info": {
   "codemirror_mode": {
    "name": "ipython",
    "version": 3
   },
   "file_extension": ".py",
   "mimetype": "text/x-python",
   "name": "python",
   "nbconvert_exporter": "python",
   "pygments_lexer": "ipython3",
   "version": "3.10.13"
  }
 },
 "nbformat": 4,
 "nbformat_minor": 2
}
