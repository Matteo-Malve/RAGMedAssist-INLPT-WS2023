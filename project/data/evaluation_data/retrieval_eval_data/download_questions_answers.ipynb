{
 "cells": [
  {
   "cell_type": "markdown",
   "source": [
    "You can access the PubMedQA data at: [https://pubmedqa.github.io](https://pubmedqa.github.io). This dataset includes:\n",
    "\n",
    "1. **1,000 Expert-Labeled Instances/Questions**: These questions contain both long and short answers, such as \"yes/no\". The data can be found here: [PubMedQA ori_pqal.json on GitHub](https://github.com/pubmedqa/pubmedqa/blob/master/data/ori_pqal.json).\n",
    "\n",
    "2. **61.2K Artificially Generated Unlabeled Instances/Questions**: Each of these instances includes only the long answer to the question. They are available at: [Google Drive Link](https://drive.google.com/file/d/1RsGLINVce-0GsDkCLDuLZmoLuzfmoCuQ/view).\n",
    "\n",
    "3. **211.3K Artificially Generated Labeled Instances/Questions**: Similar to the expert-labeled questions, these instances contain both long and short answers, such as \"yes/no\". Access them here: [Google Drive Link](https://drive.google.com/file/d/15v1x6aQDlZymaHGP7cZJZZYFfeJt2NdS/view).\n",
    "\n",
    "For all question-answer instances, the context and PubMed ID are provided. Unfortunately, approximately 150 instances from the over 270K in the \"Intelligence 2013-2023\" dataset were saved. Only these instances are available.\n",
    "\n",
    "Additionally, there is a related paper which can be found here: [arXiv:1909.06146](https://arxiv.org/abs/1909.06146)."
   ],
   "metadata": {
    "collapsed": false
   }
  },
  {
   "cell_type": "code",
   "execution_count": 44,
   "outputs": [],
   "source": [
    "import json\n",
    "import random\n",
    "random.seed(0)\n",
    "import pandas as pd\n",
    "import requests"
   ],
   "metadata": {
    "collapsed": false
   }
  },
  {
   "cell_type": "markdown",
   "source": [
    "**1,000 Expert-Labeled Instances/Questions**\n",
    "The data was retrieved per request. The size of it is app. 2mb"
   ],
   "metadata": {
    "collapsed": false
   }
  },
  {
   "cell_type": "code",
   "execution_count": 45,
   "outputs": [
    {
     "name": "stdout",
     "output_type": "stream",
     "text": [
      "File converted to Python dictionary successfully!\n",
      "File converted to Pandas Dataframe\n"
     ]
    }
   ],
   "source": [
    "# URL of the raw file\n",
    "url = \"https://raw.githubusercontent.com/pubmedqa/pubmedqa/master/data/ori_pqal.json\"\n",
    "\n",
    "# Send a GET request to the URL\n",
    "response = requests.get(url)\n",
    "\n",
    "# Check if the request was successful\n",
    "if response.status_code == 200:\n",
    "    # Convert the JSON content to a Python dictionary\n",
    "    data = json.loads(response.text)\n",
    "    print(\"File converted to Python dictionary successfully!\")\n",
    "    df1 = pd.DataFrame.from_dict(data, orient='index')\n",
    "    print(\"File converted to Pandas Dataframe\")\n",
    "    # You can now process 'data' as needed\n",
    "else:\n",
    "    print(\"Failed to access the file. Status code:\", response.status_code)"
   ],
   "metadata": {
    "collapsed": false
   }
  },
  {
   "cell_type": "code",
   "execution_count": 46,
   "outputs": [
    {
     "data": {
      "text/plain": "(1000, 9)"
     },
     "execution_count": 46,
     "metadata": {},
     "output_type": "execute_result"
    }
   ],
   "source": [
    "df1.shape"
   ],
   "metadata": {
    "collapsed": false
   }
  },
  {
   "cell_type": "code",
   "execution_count": 47,
   "outputs": [
    {
     "name": "stdout",
     "output_type": "stream",
     "text": [
      "<class 'pandas.core.frame.DataFrame'>\n",
      "Index: 1000 entries, 21645374 to 17559449\n",
      "Data columns (total 9 columns):\n",
      " #   Column                   Non-Null Count  Dtype \n",
      "---  ------                   --------------  ----- \n",
      " 0   QUESTION                 1000 non-null   object\n",
      " 1   CONTEXTS                 1000 non-null   object\n",
      " 2   LABELS                   1000 non-null   object\n",
      " 3   MESHES                   1000 non-null   object\n",
      " 4   YEAR                     942 non-null    object\n",
      " 5   reasoning_required_pred  1000 non-null   object\n",
      " 6   reasoning_free_pred      1000 non-null   object\n",
      " 7   final_decision           1000 non-null   object\n",
      " 8   LONG_ANSWER              1000 non-null   object\n",
      "dtypes: object(9)\n",
      "memory usage: 78.1+ KB\n"
     ]
    }
   ],
   "source": [
    "df1.info()"
   ],
   "metadata": {
    "collapsed": false
   }
  },
  {
   "cell_type": "code",
   "execution_count": 48,
   "outputs": [
    {
     "data": {
      "text/plain": "                                                   QUESTION   \n21645374  Do mitochondria play a role in remodelling lac...  \\\n16418930  Landolt C and snellen e acuity: differences in...   \n9488747   Syncope during bathing in infants, a pediatric...   \n17208539  Are the long-term results of the transanal pul...   \n10808977  Can tailored interventions increase mammograph...   \n\n                                                   CONTEXTS   \n21645374  [Programmed cell death (PCD) is the regulated ...  \\\n16418930  [Assessment of visual acuity depends on the op...   \n9488747   [Apparent life-threatening events in infants a...   \n17208539  [The transanal endorectal pull-through (TERPT)...   \n10808977  [Telephone counseling and tailored print commu...   \n\n                                                     LABELS   \n21645374                              [BACKGROUND, RESULTS]  \\\n16418930        [BACKGROUND, PATIENTS AND METHODS, RESULTS]   \n9488747                          [BACKGROUND, CASE REPORTS]   \n17208539                        [PURPOSE, METHODS, RESULTS]   \n10808977  [BACKGROUND, DESIGN, PARTICIPANTS, INTERVENTIO...   \n\n                                                     MESHES  YEAR   \n21645374  [Alismataceae, Apoptosis, Cell Differentiation...  2011  \\\n16418930  [Adolescent, Adult, Aged, Aged, 80 and over, A...  2006   \n9488747   [Baths, Histamine, Humans, Infant, Syncope, Ur...  1997   \n17208539  [Child, Child, Preschool, Colectomy, Female, H...  2007   \n10808977  [Cost-Benefit Analysis, Female, Health Mainten...  2000   \n\n         reasoning_required_pred reasoning_free_pred final_decision   \n21645374                     yes                 yes            yes  \\\n16418930                      no                  no             no   \n9488747                      yes                 yes            yes   \n17208539                     yes                  no             no   \n10808977                     yes                  no            yes   \n\n                                                LONG_ANSWER  \n21645374  Results depicted mitochondrial dynamics in viv...  \n16418930  Using the charts described, there was only a s...  \n9488747   \"Aquagenic maladies\" could be a pediatric form...  \n17208539  Our long-term study showed significantly bette...  \n10808977  The effects of the intervention were most pron...  ",
      "text/html": "<div>\n<style scoped>\n    .dataframe tbody tr th:only-of-type {\n        vertical-align: middle;\n    }\n\n    .dataframe tbody tr th {\n        vertical-align: top;\n    }\n\n    .dataframe thead th {\n        text-align: right;\n    }\n</style>\n<table border=\"1\" class=\"dataframe\">\n  <thead>\n    <tr style=\"text-align: right;\">\n      <th></th>\n      <th>QUESTION</th>\n      <th>CONTEXTS</th>\n      <th>LABELS</th>\n      <th>MESHES</th>\n      <th>YEAR</th>\n      <th>reasoning_required_pred</th>\n      <th>reasoning_free_pred</th>\n      <th>final_decision</th>\n      <th>LONG_ANSWER</th>\n    </tr>\n  </thead>\n  <tbody>\n    <tr>\n      <th>21645374</th>\n      <td>Do mitochondria play a role in remodelling lac...</td>\n      <td>[Programmed cell death (PCD) is the regulated ...</td>\n      <td>[BACKGROUND, RESULTS]</td>\n      <td>[Alismataceae, Apoptosis, Cell Differentiation...</td>\n      <td>2011</td>\n      <td>yes</td>\n      <td>yes</td>\n      <td>yes</td>\n      <td>Results depicted mitochondrial dynamics in viv...</td>\n    </tr>\n    <tr>\n      <th>16418930</th>\n      <td>Landolt C and snellen e acuity: differences in...</td>\n      <td>[Assessment of visual acuity depends on the op...</td>\n      <td>[BACKGROUND, PATIENTS AND METHODS, RESULTS]</td>\n      <td>[Adolescent, Adult, Aged, Aged, 80 and over, A...</td>\n      <td>2006</td>\n      <td>no</td>\n      <td>no</td>\n      <td>no</td>\n      <td>Using the charts described, there was only a s...</td>\n    </tr>\n    <tr>\n      <th>9488747</th>\n      <td>Syncope during bathing in infants, a pediatric...</td>\n      <td>[Apparent life-threatening events in infants a...</td>\n      <td>[BACKGROUND, CASE REPORTS]</td>\n      <td>[Baths, Histamine, Humans, Infant, Syncope, Ur...</td>\n      <td>1997</td>\n      <td>yes</td>\n      <td>yes</td>\n      <td>yes</td>\n      <td>\"Aquagenic maladies\" could be a pediatric form...</td>\n    </tr>\n    <tr>\n      <th>17208539</th>\n      <td>Are the long-term results of the transanal pul...</td>\n      <td>[The transanal endorectal pull-through (TERPT)...</td>\n      <td>[PURPOSE, METHODS, RESULTS]</td>\n      <td>[Child, Child, Preschool, Colectomy, Female, H...</td>\n      <td>2007</td>\n      <td>yes</td>\n      <td>no</td>\n      <td>no</td>\n      <td>Our long-term study showed significantly bette...</td>\n    </tr>\n    <tr>\n      <th>10808977</th>\n      <td>Can tailored interventions increase mammograph...</td>\n      <td>[Telephone counseling and tailored print commu...</td>\n      <td>[BACKGROUND, DESIGN, PARTICIPANTS, INTERVENTIO...</td>\n      <td>[Cost-Benefit Analysis, Female, Health Mainten...</td>\n      <td>2000</td>\n      <td>yes</td>\n      <td>no</td>\n      <td>yes</td>\n      <td>The effects of the intervention were most pron...</td>\n    </tr>\n  </tbody>\n</table>\n</div>"
     },
     "execution_count": 48,
     "metadata": {},
     "output_type": "execute_result"
    }
   ],
   "source": [
    "df1.head()"
   ],
   "metadata": {
    "collapsed": false
   }
  },
  {
   "cell_type": "code",
   "execution_count": 49,
   "outputs": [
    {
     "name": "stdout",
     "output_type": "stream",
     "text": [
      "Question: Do mitochondria play a role in remodelling lace plant leaves during programmed cell death?\n",
      "\n",
      "Long Answer: Results depicted mitochondrial dynamics in vivo as PCD progresses within the lace plant, and highlight the correlation of this organelle with other organelles during developmental PCD. To the best of our knowledge, this is the first report of mitochondria and chloroplasts moving on transvacuolar strands to form a ring structure surrounding the nucleus during developmental PCD. Also, for the first time, we have shown the feasibility for the use of CsA in a whole plant system. Overall, our findings implicate the mitochondria as playing a critical and early role in developmentally regulated PCD in the lace plant.\n",
      "\n",
      "Short Answer (Yes/No): yes\n",
      "\n",
      "Pubmed ID: 21645374\n",
      "\n",
      "Context: ['Programmed cell death (PCD) is the regulated death of cells within an organism. The lace plant (Aponogeton madagascariensis) produces perforations in its leaves through PCD. The leaves of the plant consist of a latticework of longitudinal and transverse veins enclosing areoles. PCD occurs in the cells at the center of these areoles and progresses outwards, stopping approximately five cells from the vasculature. The role of mitochondria during PCD has been recognized in animals; however, it has been less studied during PCD in plants.', 'The following paper elucidates the role of mitochondrial dynamics during developmentally regulated PCD in vivo in A. madagascariensis. A single areole within a window stage leaf (PCD is occurring) was divided into three areas based on the progression of PCD; cells that will not undergo PCD (NPCD), cells in early stages of PCD (EPCD), and cells in late stages of PCD (LPCD). Window stage leaves were stained with the mitochondrial dye MitoTracker Red CMXRos and examined. Mitochondrial dynamics were delineated into four categories (M1-M4) based on characteristics including distribution, motility, and membrane potential (ΔΨm). A TUNEL assay showed fragmented nDNA in a gradient over these mitochondrial stages. Chloroplasts and transvacuolar strands were also examined using live cell imaging. The possible importance of mitochondrial permeability transition pore (PTP) formation during PCD was indirectly examined via in vivo cyclosporine A (CsA) treatment. This treatment resulted in lace plant leaves with a significantly lower number of perforations compared to controls, and that displayed mitochondrial dynamics similar to that of non-PCD cells.']\n"
     ]
    }
   ],
   "source": [
    "instance = df1.iloc[0]\n",
    "print(f\"Question: {instance['QUESTION']}\\n\")\n",
    "print(f\"Long Answer: {instance['LONG_ANSWER']}\\n\")\n",
    "print(f\"Short Answer (Yes/No): {instance['final_decision']}\\n\")\n",
    "print(f\"Pubmed ID: {instance.name}\\n\")\n",
    "print(f\"Context: {instance.CONTEXTS}\")"
   ],
   "metadata": {
    "collapsed": false
   }
  },
  {
   "cell_type": "markdown",
   "source": [
    "**61.2K Artificially Generated Unlabeled Instances/Questions**:\n",
    "I downloaded it manually to my computer from: [Google Drive Link](https://drive.google.com/file/d/1RsGLINVce-0GsDkCLDuLZmoLuzfmoCuQ/view).\n",
    "The size is approximately 145MB."
   ],
   "metadata": {
    "collapsed": false
   }
  },
  {
   "cell_type": "code",
   "execution_count": 50,
   "outputs": [],
   "source": [
    "data = json.load(open(\"ori_pqau.json\"))\n",
    "df2 = pd.DataFrame.from_dict(data, orient='index')"
   ],
   "metadata": {
    "collapsed": false
   }
  },
  {
   "cell_type": "code",
   "execution_count": 51,
   "outputs": [
    {
     "data": {
      "text/plain": "(61249, 6)"
     },
     "execution_count": 51,
     "metadata": {},
     "output_type": "execute_result"
    }
   ],
   "source": [
    "df2.shape\n"
   ],
   "metadata": {
    "collapsed": false
   }
  },
  {
   "cell_type": "code",
   "execution_count": 52,
   "outputs": [
    {
     "name": "stdout",
     "output_type": "stream",
     "text": [
      "<class 'pandas.core.frame.DataFrame'>\n",
      "Index: 61249 entries, 14499029 to 10634050\n",
      "Data columns (total 6 columns):\n",
      " #   Column       Non-Null Count  Dtype \n",
      "---  ------       --------------  ----- \n",
      " 0   QUESTION     61249 non-null  object\n",
      " 1   CONTEXTS     61249 non-null  object\n",
      " 2   LABELS       61249 non-null  object\n",
      " 3   MESHES       61249 non-null  object\n",
      " 4   YEAR         56887 non-null  object\n",
      " 5   LONG_ANSWER  61249 non-null  object\n",
      "dtypes: object(6)\n",
      "memory usage: 3.3+ MB\n"
     ]
    }
   ],
   "source": [
    "df2.info()\n"
   ],
   "metadata": {
    "collapsed": false
   }
  },
  {
   "cell_type": "code",
   "execution_count": 53,
   "outputs": [
    {
     "data": {
      "text/plain": "                                                   QUESTION   \n14499029  Is naturopathy as effective as conventional th...  \\\n14499049  Can randomised trials rely on existing electro...   \n14499672  Is laparoscopic radical prostatectomy better t...   \n14499773  Does bacterial gastroenteritis predispose peop...   \n14499777  Is early colonoscopy after admission for acute...   \n\n                                                   CONTEXTS   \n14499029  [Although the use of alternative medicine in t...  \\\n14499049  [To estimate the feasibility, utility and reso...   \n14499672  [To compare morbidity in two groups of patient...   \n14499773  [Irritable bowel syndrome (IBS) might develop ...   \n14499777  [Urgent colonoscopy has been proposed for the ...   \n\n                                                     LABELS   \n14499029  [BACKGROUND, OBJECTIVE, DESIGN, SETTING, PATIE...  \\\n14499049  [OBJECTIVES, DATA SOURCES, REVIEW METHODS, RES...   \n14499672         [OBJECTIVE, PATIENTS AND METHODS, RESULTS]   \n14499773                     [OBJECTIVES, METHODS, RESULTS]   \n14499777                     [OBJECTIVES, METHODS, RESULTS]   \n\n                                                     MESHES  YEAR   \n14499029  [Anxiety, Cohort Studies, Confidence Intervals...  2003  \\\n14499049  [Arthroplasty, Replacement, Knee, Bias, Blood ...  2003   \n14499672  [Aged, Follow-Up Studies, Humans, Italy, Lapar...  2003   \n14499773  [Adolescent, Adult, Age Distribution, Aged, Ag...  2003   \n14499777  [Acute Disease, Aged, Aged, 80 and over, Cohor...  2003   \n\n                                                LONG_ANSWER  \n14499029  Naturopathy appears to be an effective alterna...  \n14499049  Routine data have the potential to support hea...  \n14499672  The results of our non-randomized study show t...  \n14499773  Symptoms consistent with IBS and functional di...  \n14499777  No significant association is apparent between...  ",
      "text/html": "<div>\n<style scoped>\n    .dataframe tbody tr th:only-of-type {\n        vertical-align: middle;\n    }\n\n    .dataframe tbody tr th {\n        vertical-align: top;\n    }\n\n    .dataframe thead th {\n        text-align: right;\n    }\n</style>\n<table border=\"1\" class=\"dataframe\">\n  <thead>\n    <tr style=\"text-align: right;\">\n      <th></th>\n      <th>QUESTION</th>\n      <th>CONTEXTS</th>\n      <th>LABELS</th>\n      <th>MESHES</th>\n      <th>YEAR</th>\n      <th>LONG_ANSWER</th>\n    </tr>\n  </thead>\n  <tbody>\n    <tr>\n      <th>14499029</th>\n      <td>Is naturopathy as effective as conventional th...</td>\n      <td>[Although the use of alternative medicine in t...</td>\n      <td>[BACKGROUND, OBJECTIVE, DESIGN, SETTING, PATIE...</td>\n      <td>[Anxiety, Cohort Studies, Confidence Intervals...</td>\n      <td>2003</td>\n      <td>Naturopathy appears to be an effective alterna...</td>\n    </tr>\n    <tr>\n      <th>14499049</th>\n      <td>Can randomised trials rely on existing electro...</td>\n      <td>[To estimate the feasibility, utility and reso...</td>\n      <td>[OBJECTIVES, DATA SOURCES, REVIEW METHODS, RES...</td>\n      <td>[Arthroplasty, Replacement, Knee, Bias, Blood ...</td>\n      <td>2003</td>\n      <td>Routine data have the potential to support hea...</td>\n    </tr>\n    <tr>\n      <th>14499672</th>\n      <td>Is laparoscopic radical prostatectomy better t...</td>\n      <td>[To compare morbidity in two groups of patient...</td>\n      <td>[OBJECTIVE, PATIENTS AND METHODS, RESULTS]</td>\n      <td>[Aged, Follow-Up Studies, Humans, Italy, Lapar...</td>\n      <td>2003</td>\n      <td>The results of our non-randomized study show t...</td>\n    </tr>\n    <tr>\n      <th>14499773</th>\n      <td>Does bacterial gastroenteritis predispose peop...</td>\n      <td>[Irritable bowel syndrome (IBS) might develop ...</td>\n      <td>[OBJECTIVES, METHODS, RESULTS]</td>\n      <td>[Adolescent, Adult, Age Distribution, Aged, Ag...</td>\n      <td>2003</td>\n      <td>Symptoms consistent with IBS and functional di...</td>\n    </tr>\n    <tr>\n      <th>14499777</th>\n      <td>Is early colonoscopy after admission for acute...</td>\n      <td>[Urgent colonoscopy has been proposed for the ...</td>\n      <td>[OBJECTIVES, METHODS, RESULTS]</td>\n      <td>[Acute Disease, Aged, Aged, 80 and over, Cohor...</td>\n      <td>2003</td>\n      <td>No significant association is apparent between...</td>\n    </tr>\n  </tbody>\n</table>\n</div>"
     },
     "execution_count": 53,
     "metadata": {},
     "output_type": "execute_result"
    }
   ],
   "source": [
    "df2.head()\n"
   ],
   "metadata": {
    "collapsed": false
   }
  },
  {
   "cell_type": "code",
   "execution_count": 54,
   "outputs": [
    {
     "name": "stdout",
     "output_type": "stream",
     "text": [
      "Question: Is naturopathy as effective as conventional therapy for treatment of menopausal symptoms?\n",
      "\n",
      "Long Answer: Naturopathy appears to be an effective alternative for relief of specific menopausal symptoms compared to conventional therapy.\n",
      "\n",
      "Short Answer (Yes/No): THERE IS NO FINAL DECISION FOR THIS DATASET!!!\n",
      "\n",
      "Pubmed ID: 14499029\n",
      "\n",
      "Context: ['Although the use of alternative medicine in the United States is increasing, no published studies have documented the effectiveness of naturopathy for treatment of menopausal symptoms compared to women receiving conventional therapy in the clinical setting.', 'To compare naturopathic therapy with conventional medical therapy for treatment of selected menopausal symptoms.', 'A retrospective cohort study, using abstracted data from medical charts.', 'One natural medicine and six conventional medical clinics at Community Health Centers of King County, Washington, from November 1, 1996, through July 31, 1998.', 'Women aged 40 years of age or more with a diagnosis of menopausal symptoms documented by a naturopathic or conventional physician.', 'Improvement in selected menopausal symptoms.', 'In univariate analyses, patients treated with naturopathy for menopausal symptoms reported higher monthly incomes ($1848.00 versus $853.60), were less likely to be smokers (11.4% versus 41.9%), exercised more frequently, and reported higher frequencies of decreased energy (41.8% versus 24.4%), insomnia (57.0% versus 33.1%), and hot flashes (69.6% versus 55.6%) at baseline than those who received conventional treatment. In multivariate analyses, patients treated with naturopathy were approximately seven times more likely than conventionally treated patients to report improvement for insomnia (odds ratio [OR], 6.77; 95% confidence interval [CI], 1.71, 26.63) and decreased energy (OR, 6.55; 95% CI, 0.96, 44.74). Naturopathy patients reported improvement for anxiety (OR, 1.27; 95% CI, 0.63, 2.56), hot flashes (OR, 1.40; 95% CI, 0.68, 2.88), menstrual changes (OR, 0.98; 95% CI, 0.43, 2.24), and vaginal dryness (OR, 0.91; 95% CI, 0.21, 3.96) about as frequently as patients who were treated conventionally.']\n"
     ]
    }
   ],
   "source": [
    "instance = df2.iloc[0]\n",
    "print(f\"Question: {instance['QUESTION']}\\n\")\n",
    "print(f\"Long Answer: {instance['LONG_ANSWER']}\\n\")\n",
    "print(f\"Short Answer (Yes/No): {'THERE IS NO FINAL DECISION FOR THIS DATASET!!!'}\\n\")\n",
    "print(f\"Pubmed ID: {instance.name}\\n\")\n",
    "print(f\"Context: {instance.CONTEXTS}\")"
   ],
   "metadata": {
    "collapsed": false
   }
  },
  {
   "cell_type": "markdown",
   "source": [
    "**211.3K Artificially Generated Labeled Instances/Questions**:\n",
    "I downloaded it manually to my computer from: [Google Drive Link](https://drive.google.com/file/d/15v1x6aQDlZymaHGP7cZJZZYFfeJt2NdS/view).\n",
    "The size is approximately 509MB.\n"
   ],
   "metadata": {
    "collapsed": false
   }
  },
  {
   "cell_type": "code",
   "execution_count": 55,
   "outputs": [],
   "source": [
    "data = json.load(open(\"ori_pqaa.json\"))\n",
    "df3 = pd.DataFrame.from_dict(data, orient='index')\n",
    "del data"
   ],
   "metadata": {
    "collapsed": false
   }
  },
  {
   "cell_type": "code",
   "execution_count": 56,
   "outputs": [
    {
     "data": {
      "text/plain": "(211269, 6)"
     },
     "execution_count": 56,
     "metadata": {},
     "output_type": "execute_result"
    }
   ],
   "source": [
    "df3.shape"
   ],
   "metadata": {
    "collapsed": false
   }
  },
  {
   "cell_type": "code",
   "execution_count": 57,
   "outputs": [
    {
     "name": "stdout",
     "output_type": "stream",
     "text": [
      "<class 'pandas.core.frame.DataFrame'>\n",
      "Index: 211269 entries, 25429730 to 8201088\n",
      "Data columns (total 6 columns):\n",
      " #   Column          Non-Null Count   Dtype \n",
      "---  ------          --------------   ----- \n",
      " 0   QUESTION        211269 non-null  object\n",
      " 1   CONTEXTS        211269 non-null  object\n",
      " 2   LABELS          211269 non-null  object\n",
      " 3   LONG_ANSWER     211269 non-null  object\n",
      " 4   MESHES          211269 non-null  object\n",
      " 5   final_decision  211269 non-null  object\n",
      "dtypes: object(6)\n",
      "memory usage: 11.3+ MB\n"
     ]
    }
   ],
   "source": [
    "df3.info()"
   ],
   "metadata": {
    "collapsed": false
   }
  },
  {
   "cell_type": "code",
   "execution_count": 58,
   "outputs": [
    {
     "data": {
      "text/plain": "                                                   QUESTION   \n25429730  Are group 2 innate lymphoid cells ( ILC2s ) in...  \\\n25433161  Does vagus nerve contribute to the development...   \n25445714  Does psammaplin A induce Sirtuin 1-dependent a...   \n25431941  Is methylation of the FGFR2 gene associated wi...   \n25432519  Do tumor-infiltrating immune cell profiles and...   \n\n                                                   CONTEXTS   \n25429730  [Chronic rhinosinusitis (CRS) is a heterogeneo...  \\\n25433161  [Phosphatidylethanolamine N-methyltransferase ...   \n25445714  [Psammaplin A (PsA) is a natural product isola...   \n25431941  [This study examined links between DNA methyla...   \n25432519  [Tumor microenvironment immunity is associated...   \n\n                                             LABELS   \n25429730  [BACKGROUND, OBJECTIVE, METHODS, RESULTS]  \\\n25433161              [OBJECTIVE, METHODS, RESULTS]   \n25445714                      [BACKGROUND, METHODS]   \n25431941              [OBJECTIVE, METHODS, RESULTS]   \n25432519             [BACKGROUND, METHODS, RESULTS]   \n\n                                                LONG_ANSWER   \n25429730  As ILC2s are elevated in patients with CRSwNP,...  \\\n25433161  Neuronal signals via the hepatic vagus nerve c...   \n25445714  PsA significantly inhibited MCF-7/adr cells pr...   \n25431941  We identified a novel biologically plausible c...   \n25432519  Breast cancer immune cell subpopulation profil...   \n\n                                                     MESHES final_decision  \n25429730  [Adult, Aged, Antigens, Surface, Case-Control ...            yes  \n25433161  [Animals, Chemokine CCL2, Diet, High-Fat, Dise...            yes  \n25445714  [Acetylation, Animals, Antibiotics, Antineopla...            yes  \n25431941                                                 []            yes  \n25432519  [Adult, Aged, Anthracyclines, Antibodies, Mono...            yes  ",
      "text/html": "<div>\n<style scoped>\n    .dataframe tbody tr th:only-of-type {\n        vertical-align: middle;\n    }\n\n    .dataframe tbody tr th {\n        vertical-align: top;\n    }\n\n    .dataframe thead th {\n        text-align: right;\n    }\n</style>\n<table border=\"1\" class=\"dataframe\">\n  <thead>\n    <tr style=\"text-align: right;\">\n      <th></th>\n      <th>QUESTION</th>\n      <th>CONTEXTS</th>\n      <th>LABELS</th>\n      <th>LONG_ANSWER</th>\n      <th>MESHES</th>\n      <th>final_decision</th>\n    </tr>\n  </thead>\n  <tbody>\n    <tr>\n      <th>25429730</th>\n      <td>Are group 2 innate lymphoid cells ( ILC2s ) in...</td>\n      <td>[Chronic rhinosinusitis (CRS) is a heterogeneo...</td>\n      <td>[BACKGROUND, OBJECTIVE, METHODS, RESULTS]</td>\n      <td>As ILC2s are elevated in patients with CRSwNP,...</td>\n      <td>[Adult, Aged, Antigens, Surface, Case-Control ...</td>\n      <td>yes</td>\n    </tr>\n    <tr>\n      <th>25433161</th>\n      <td>Does vagus nerve contribute to the development...</td>\n      <td>[Phosphatidylethanolamine N-methyltransferase ...</td>\n      <td>[OBJECTIVE, METHODS, RESULTS]</td>\n      <td>Neuronal signals via the hepatic vagus nerve c...</td>\n      <td>[Animals, Chemokine CCL2, Diet, High-Fat, Dise...</td>\n      <td>yes</td>\n    </tr>\n    <tr>\n      <th>25445714</th>\n      <td>Does psammaplin A induce Sirtuin 1-dependent a...</td>\n      <td>[Psammaplin A (PsA) is a natural product isola...</td>\n      <td>[BACKGROUND, METHODS]</td>\n      <td>PsA significantly inhibited MCF-7/adr cells pr...</td>\n      <td>[Acetylation, Animals, Antibiotics, Antineopla...</td>\n      <td>yes</td>\n    </tr>\n    <tr>\n      <th>25431941</th>\n      <td>Is methylation of the FGFR2 gene associated wi...</td>\n      <td>[This study examined links between DNA methyla...</td>\n      <td>[OBJECTIVE, METHODS, RESULTS]</td>\n      <td>We identified a novel biologically plausible c...</td>\n      <td>[]</td>\n      <td>yes</td>\n    </tr>\n    <tr>\n      <th>25432519</th>\n      <td>Do tumor-infiltrating immune cell profiles and...</td>\n      <td>[Tumor microenvironment immunity is associated...</td>\n      <td>[BACKGROUND, METHODS, RESULTS]</td>\n      <td>Breast cancer immune cell subpopulation profil...</td>\n      <td>[Adult, Aged, Anthracyclines, Antibodies, Mono...</td>\n      <td>yes</td>\n    </tr>\n  </tbody>\n</table>\n</div>"
     },
     "execution_count": 58,
     "metadata": {},
     "output_type": "execute_result"
    }
   ],
   "source": [
    "df3.head()"
   ],
   "metadata": {
    "collapsed": false
   }
  },
  {
   "cell_type": "code",
   "execution_count": 59,
   "outputs": [
    {
     "name": "stdout",
     "output_type": "stream",
     "text": [
      "Question: Are group 2 innate lymphoid cells ( ILC2s ) increased in chronic rhinosinusitis with nasal polyps or eosinophilia?\n",
      "\n",
      "Long Answer: As ILC2s are elevated in patients with CRSwNP, they may drive nasal polyp formation in CRS. ILC2s are also linked with high tissue and blood eosinophilia and have a potential role in the activation and survival of eosinophils during the Th2 immune response. The association of innate lymphoid cells in CRS provides insights into its pathogenesis.\n",
      "\n",
      "Short Answer (Yes/No): yes\n",
      "\n",
      "Pubmed ID: 25429730\n",
      "\n",
      "Context: ['Chronic rhinosinusitis (CRS) is a heterogeneous disease with an uncertain pathogenesis. Group 2 innate lymphoid cells (ILC2s) represent a recently discovered cell population which has been implicated in driving Th2 inflammation in CRS; however, their relationship with clinical disease characteristics has yet to be investigated.', 'The aim of this study was to identify ILC2s in sinus mucosa in patients with CRS and controls and compare ILC2s across characteristics of disease.', 'A cross-sectional study of patients with CRS undergoing endoscopic sinus surgery was conducted. Sinus mucosal biopsies were obtained during surgery and control tissue from patients undergoing pituitary tumour resection through transphenoidal approach. ILC2s were identified as CD45(+) Lin(-) CD127(+) CD4(-) CD8(-) CRTH2(CD294)(+) CD161(+) cells in single cell suspensions through flow cytometry. ILC2 frequencies, measured as a percentage of CD45(+) cells, were compared across CRS phenotype, endotype, inflammatory CRS subtype and other disease characteristics including blood eosinophils, serum IgE, asthma status and nasal symptom score.', '35 patients (40% female, age 48 ± 17 years) including 13 with eosinophilic CRS (eCRS), 13 with non-eCRS and 9 controls were recruited. ILC2 frequencies were associated with the presence of nasal polyps (P = 0.002) as well as high tissue eosinophilia (P = 0.004) and eosinophil-dominant CRS (P = 0.001) (Mann-Whitney U). They were also associated with increased blood eosinophilia (P = 0.005). There were no significant associations found between ILC2s and serum total IgE and allergic disease. In the CRS with nasal polyps (CRSwNP) population, ILC2s were increased in patients with co-existing asthma (P = 0.03). ILC2s were also correlated with worsening nasal symptom score in CRS (P = 0.04).']\n"
     ]
    }
   ],
   "source": [
    "instance = df3.iloc[0]\n",
    "print(f\"Question: {instance['QUESTION']}\\n\")\n",
    "print(f\"Long Answer: {instance['LONG_ANSWER']}\\n\")\n",
    "print(f\"Short Answer (Yes/No): {instance['final_decision']}\\n\")\n",
    "print(f\"Pubmed ID: {instance.name}\\n\")\n",
    "print(f\"Context: {instance.CONTEXTS}\")"
   ],
   "metadata": {
    "collapsed": false
   }
  },
  {
   "cell_type": "markdown",
   "source": [
    "**FILTER AND SAVE THE INSTANCES FOR 'Intelligence 2013-2023'**"
   ],
   "metadata": {
    "collapsed": false
   }
  },
  {
   "cell_type": "code",
   "execution_count": 60,
   "outputs": [
    {
     "data": {
      "text/plain": "58535"
     },
     "execution_count": 60,
     "metadata": {},
     "output_type": "execute_result"
    }
   ],
   "source": [
    "ids1 = pd.read_csv(\"../processed_data_part1.csv\").PMID\n",
    "ids2 = pd.read_csv(\"../processed_data_part2.csv\").PMID\n",
    "ids = pd.concat([ids1,ids2], ignore_index=True).tolist()\n",
    "len(ids)"
   ],
   "metadata": {
    "collapsed": false
   }
  },
  {
   "cell_type": "code",
   "execution_count": 65,
   "outputs": [
    {
     "data": {
      "text/plain": "                                                   QUESTION   \n25752725  Schizophrenia patients with high intelligence:...  \\\n\n                                                   CONTEXTS   \n25752725  [Schizophrenia patients are typically found to...  \\\n\n                                  LABELS   \n25752725  [BACKGROUND, METHODS, RESULTS]  \\\n\n                                                     MESHES  YEAR   \n25752725  [Adult, Cognition, Female, Humans, Intelligenc...  2015  \\\n\n         reasoning_required_pred reasoning_free_pred final_decision   \n25752725                     yes                 yes            yes  \\\n\n                                                LONG_ANSWER  \n25752725  These findings provide evidence for the existe...  ",
      "text/html": "<div>\n<style scoped>\n    .dataframe tbody tr th:only-of-type {\n        vertical-align: middle;\n    }\n\n    .dataframe tbody tr th {\n        vertical-align: top;\n    }\n\n    .dataframe thead th {\n        text-align: right;\n    }\n</style>\n<table border=\"1\" class=\"dataframe\">\n  <thead>\n    <tr style=\"text-align: right;\">\n      <th></th>\n      <th>QUESTION</th>\n      <th>CONTEXTS</th>\n      <th>LABELS</th>\n      <th>MESHES</th>\n      <th>YEAR</th>\n      <th>reasoning_required_pred</th>\n      <th>reasoning_free_pred</th>\n      <th>final_decision</th>\n      <th>LONG_ANSWER</th>\n    </tr>\n  </thead>\n  <tbody>\n    <tr>\n      <th>25752725</th>\n      <td>Schizophrenia patients with high intelligence:...</td>\n      <td>[Schizophrenia patients are typically found to...</td>\n      <td>[BACKGROUND, METHODS, RESULTS]</td>\n      <td>[Adult, Cognition, Female, Humans, Intelligenc...</td>\n      <td>2015</td>\n      <td>yes</td>\n      <td>yes</td>\n      <td>yes</td>\n      <td>These findings provide evidence for the existe...</td>\n    </tr>\n  </tbody>\n</table>\n</div>"
     },
     "execution_count": 65,
     "metadata": {},
     "output_type": "execute_result"
    }
   ],
   "source": [
    "# 1/1000 instance after filtering\n",
    "df1_filtered = df1[df1.index.isin(ids)]\n",
    "df1_filtered"
   ],
   "metadata": {
    "collapsed": false
   }
  },
  {
   "cell_type": "code",
   "execution_count": 68,
   "outputs": [
    {
     "data": {
      "text/plain": "                                                   QUESTION   \n24232067  Do audiologic characteristics predict outcomes...  \\\n27286937  Do emotional intelligence and previous caring ...   \n24686463  Does brain volume loss predict cognitive and n...   \n26286897  Does emotional intelligence predict breaking b...   \n24390744  Is there a difference in cognitive development...   \n24089322  Multiple-choice vocabulary intelligence test M...   \n24556771  Does emotional intelligence at medical school ...   \n24579285  Emotional intelligence subscales: are they cor...   \n23732046  Do dietary patterns influence cognitive functi...   \n25488976          Does high intelligence improve prognosis?   \n23164358  Can cognitive deficits facilitate differential...   \n27062554        Are Weight Status and Cognition Associated?   \n25012405  Cognitive functions in euthymic Egyptian patie...   \n25012606  Are there gender differences in the emotional ...   \n23481123  Does lifetime exposure to hormones predict pre...   \n22141327                 More academics in regular schools?   \n23420272  Artificial intelligence techniques: An efficie...   \n27479488  Do Executive Function and Impulsivity Predict ...   \n26689235  Reading Ability as an Estimator of Premorbid I...   \n26708233  Can enriching emotional intelligence improve m...   \n23762357  The role of intelligence in posttraumatic stre...   \n25566892  Analysis of twenty pediatric cases of tuberous...   \n23516574  Do dietary trajectories between infancy and to...   \n27521721  Is there a creative functional paradoxical fac...   \n24026376  Emotional intelligence and psychiatry resident...   \n26237626  Can impaired working memory functioning be imp...   \n26440549  Can PEP-3 Provide a Cognitive Profile in Child...   \n25185363  Does acupuncture have a positive effect on sch...   \n23979950  Cognitive development in congenital hypothyroi...   \n24742091               Do we develop public health leaders?   \n25263144  Do dental esthetics have any influence on find...   \n23364510  Bitemporal intractable epilepsy: could it be s...   \n24655151  Cognitive recovery after severe traumatic brai...   \n22653808  ADHD predominantly inattentive subtype with hi...   \n25348123  Is insomnia associated with deficits in neurop...   \n\n                                                   CONTEXTS   \n24232067  [To determine whether audiologic characteristi...  \\\n27286937  [Reports of poor nursing care have focused att...   \n24686463  [In this study, the authors investigated the r...   \n26286897  [While both patients and physicians identify c...   \n24390744  [To explore whether there exist differences in...   \n24089322  [The multiple-choice vocabulary intelligence t...   \n24556771  [Medical school admissions committees are incr...   \n24579285  [The present study aimed at evaluating the cor...   \n23732046  [Evidence from observational studies to date s...   \n25488976  [Lower intelligence early in life is associate...   \n23164358  [Neurocognitive performance of four groups was...   \n27062554  [The aim of this study was to characterise the...   \n25012405  [There is marked interest to research neurocog...   \n25012606  [Because academic literature indicates that em...   \n23481123  [Women with breast cancer have been found to h...   \n22141327  [Studies from the UK have shown that children ...   \n23420272  [To construct an artificial intelligence appli...   \n27479488  [Executive function, impulsivity, and intellig...   \n26689235  [The Wide Range Achievement Test, 3rd edition,...   \n26708233  [The purpose of this pilot study was to examin...   \n23762357  [Only a small minority of trauma victims devel...   \n25566892  [Tuberous sclerosis complex (TSC) is a neuro-c...   \n23516574  [We examined whether trajectories of dietary p...   \n27521721  [In patients with juvenile myoclonic epilepsy ...   \n24026376  [The authors assessed the relationship between...   \n26237626  [Deficits in working memory (WM) are commonly ...   \n26440549  [The assessment of the intelligence quotient (...   \n25185363  [To evaluate school success in pediatric patie...   \n23979950  [Optimal treatment of children with congenital...   \n24742091  [Professional development of public health lea...   \n25263144  [Our objective was to determine whether dental...   \n23364510  [The goal of this study is to retrieve the att...   \n24655151  [Does younger age at the time of severe trauma...   \n22653808  [The authors investigate differences in the ne...   \n25348123  [People with insomnia complain of cognitive de...   \n\n                                                     LABELS   \n24232067  [OBJECTIVE, STUDY DESIGN, SETTING, PATIENTS, I...  \\\n27286937  [BACKGROUND, OBJECTIVES, DESIGN, SETTING, METH...   \n24686463                         [PURPOSE, METHOD, RESULTS]   \n26286897            [BACKGROUND, PURPOSE, METHODS, RESULTS]   \n24390744                      [OBJECTIVE, METHODS, RESULTS]   \n24089322                       [OBJECTIVE, METHOD, RESULTS]   \n24556771                         [PURPOSE, METHOD, RESULTS]   \n24579285                [OBJECTIVES, STUDY DESIGN, RESULTS]   \n23732046                     [BACKGROUND, METHODS, RESULTS]   \n25488976    [BACKGROUND, METHODS, PRIMARY OUTCOME, RESULTS]   \n23164358                                 [METHODS, RESULTS]   \n27062554                      [OBJECTIVE, METHODS, RESULTS]   \n25012405                     [BACKGROUND, METHODS, RESULTS]   \n25012606                   [BACKGROUND, OBJECTIVE, RESULTS]   \n23481123                      [OBJECTIVE, METHODS, RESULTS]   \n22141327                      [BACKGROUND, METHOD, RESULTS]   \n23420272            [OBJECTIVE, SUBJECTS, METHODS, RESULTS]   \n27479488                      [OBJECTIVE, METHODS, RESULTS]   \n26689235           [UNLABELLED, OBJECTIVE, METHOD, RESULTS]   \n26708233                      [OBJECTIVE, METHODS, RESULTS]   \n23762357                     [BACKGROUND, METHODS, RESULTS]   \n25566892         [BACKGROUND, METHODS, RESULTS, LIMITATION]   \n23516574                      [OBJECTIVE, METHODS, RESULTS]   \n27521721                      [OBJECTIVE, METHODS, RESULTS]   \n24026376                       [OBJECTIVE, METHOD, RESULTS]   \n26237626                       [OBJECTIVE, METHOD, RESULTS]   \n26440549                      [BACKGROUND, METHOD, RESULTS]   \n25185363                      [OBJECTIVE, METHODS, RESULTS]   \n23979950                     [BACKGROUND, METHODS, RESULTS]   \n24742091                     [BACKGROUND, METHODS, RESULTS]   \n25263144                   [INTRODUCTION, METHODS, RESULTS]   \n23364510         [BACKGROUND, OBJECTIVES, METHODS, RESULTS]   \n24655151  [PRIMARY OBJECTIVE, METHODS AND PROCEDURES, MA...   \n22653808                       [OBJECTIVE, METHOD, RESULTS]   \n25348123  [STUDY OBJECTIVES, DESIGN AND PARTICIPANTS, ME...   \n\n                                                     MESHES  YEAR   \n24232067  [Case-Control Studies, Child, Cognition, Femal...  2013  \\\n27286937  [Adolescent, Adult, Cohort Studies, Emotional ...  2016   \n24686463  [Aged, Atrophy, Brain, Brain Injuries, Cogniti...  2014   \n26286897  [Communication, Emotional Intelligence, Female...  2015   \n24390744  [Child Development, Child, Preschool, Cognitio...  2014   \n24089322  [Adult, Female, Follow-Up Studies, Humans, Int...  2014   \n24556771  [Clinical Competence, Educational Measurement,...  2014   \n24579285  [Adaptation, Psychological, Child, Child Behav...  2013   \n23732046  [Aged, Aging, Cognition, Diet, Female, Follow-...  2013   \n25488976  [Adolescent, Adult, Alcohol Drinking, Cause of...  2015   \n23164358  [Adult, Case-Control Studies, Cognition Disord...  2013   \n27062554  [Adolescent, Adult, Anorexia Nervosa, Body Wei...  2016   \n25012405  [Adolescent, Adult, Bipolar Disorder, Case-Con...  2014   \n25012606  [Adult, Clinical Competence, Emotional Intelli...  None   \n23481123  [Attitude to Health, Breast Neoplasms, Chemoth...  2013   \n22141327  [Child, Child, Preschool, Curriculum, Down Syn...  2013   \n23420272  [Adolescent, Artificial Intelligence, Child, C...  2013   \n27479488  [Adolescent, Adolescent Health, Alcohol Drinki...  2016   \n26689235  [Adult, Aged, Female, HIV Infections, Humans, ...  2015   \n26708233  [Adaptation, Psychological, Clinical Clerkship...  2015   \n23762357  [Adolescent, Child, Diagnostic and Statistical...  2013   \n25566892  [Adolescent, Angiofibroma, Astrocytoma, Brain ...  None   \n23516574  [Adolescent, Adult, Child, Cohort Studies, Die...  2013   \n27521721  [Adolescent, Adult, Creativity, Female, Fronta...  2016   \n24026376  [Clinical Competence, Educational Measurement,...  2013   \n26237626  [Attention, Brain Injuries, Humans, Intelligen...  2016   \n26440549  [Autism Spectrum Disorder, Child, Child Develo...  2016   \n25185363  [Acupuncture Therapy, Adolescent, Attention De...  2014   \n23979950  [Brain, Child, Child Development, Cognition, C...  2013   \n24742091  [Adult, Cross-Sectional Studies, Emotional Int...  2014   \n25263144  [Adult, African Continental Ancestry Group, At...  2014   \n23364510  [Adolescent, Adult, Child, Cohort Studies, Ele...  2013   \n24655151  [Adolescent, Adult, Age Factors, Attention, Br...  2014   \n22653808  [Attention Deficit Disorder with Hyperactivity...  2014   \n25348123  [Adult, Child, Cognition, Cognition Disorders,...  2015   \n\n                                                LONG_ANSWER  \n24232067  As expected, children with unilateral hearing ...  \n27286937  Previous caring experience led to worse perfor...  \n24686463  Findings suggest that an overall measure of br...  \n26286897  We concluded that first-year pediatric residen...  \n24390744  Compared to the full-term singletons born afte...  \n24089322  The results question the validity of the MWT a...  \n24556771  EI, as measured by an abilities test at admiss...  \n24579285  The results provide evidence that children wit...  \n23732046  Our results suggest a pattern of reverse causa...  \n25488976  Although we found lower intelligence to be ass...  \n23164358  The psychosis prodrome seems to be associated ...  \n27062554  Weight recovery appears not to be associated w...  \n25012405  Euthymic bipolar patients exhibit cognitive de...  \n25012606  Men and women residents across 3 specialties d...  \n23481123  Other factors may explain the poorer pretreatm...  \n22141327  Regularly placed children with Down syndrome l...  \n23420272  Using data on the clinical state of individual...  \n27479488  After accounting for intelligence, executive f...  \n26689235  Overall, this study supports the appropriatene...  \n26708233  Findings from our pilot study supported our hy...  \n23762357  Lower IQ exerts an adverse PTSD effect on trau...  \n25566892  Our study highlights the wide variety of cutan...  \n23516574  The Discretionary and Traditional dietary patt...  \n27521721  Overall, our study did not reveal increased cr...  \n24026376  There was no significant correlation between o...  \n26237626  WM training produces long-lasting beneficial e...  \n26440549  These findings show that the DLs could be cons...  \n25185363  Acupuncture contributed to the academic succes...  \n23979950  Our study suggests that CHT overtreatment duri...  \n24742091  The study shows a positive correlation between...  \n25263144  Persons with ideal smiles are considered more ...  \n23364510  The minimally invasive precise surgeries on bo...  \n24655151  (1) No evidence was found for a neuroprotectiv...  \n22653808  This study supports revising subtype's criteri...  \n25348123  Links between insomnia and cognitive impairmen...  ",
      "text/html": "<div>\n<style scoped>\n    .dataframe tbody tr th:only-of-type {\n        vertical-align: middle;\n    }\n\n    .dataframe tbody tr th {\n        vertical-align: top;\n    }\n\n    .dataframe thead th {\n        text-align: right;\n    }\n</style>\n<table border=\"1\" class=\"dataframe\">\n  <thead>\n    <tr style=\"text-align: right;\">\n      <th></th>\n      <th>QUESTION</th>\n      <th>CONTEXTS</th>\n      <th>LABELS</th>\n      <th>MESHES</th>\n      <th>YEAR</th>\n      <th>LONG_ANSWER</th>\n    </tr>\n  </thead>\n  <tbody>\n    <tr>\n      <th>24232067</th>\n      <td>Do audiologic characteristics predict outcomes...</td>\n      <td>[To determine whether audiologic characteristi...</td>\n      <td>[OBJECTIVE, STUDY DESIGN, SETTING, PATIENTS, I...</td>\n      <td>[Case-Control Studies, Child, Cognition, Femal...</td>\n      <td>2013</td>\n      <td>As expected, children with unilateral hearing ...</td>\n    </tr>\n    <tr>\n      <th>27286937</th>\n      <td>Do emotional intelligence and previous caring ...</td>\n      <td>[Reports of poor nursing care have focused att...</td>\n      <td>[BACKGROUND, OBJECTIVES, DESIGN, SETTING, METH...</td>\n      <td>[Adolescent, Adult, Cohort Studies, Emotional ...</td>\n      <td>2016</td>\n      <td>Previous caring experience led to worse perfor...</td>\n    </tr>\n    <tr>\n      <th>24686463</th>\n      <td>Does brain volume loss predict cognitive and n...</td>\n      <td>[In this study, the authors investigated the r...</td>\n      <td>[PURPOSE, METHOD, RESULTS]</td>\n      <td>[Aged, Atrophy, Brain, Brain Injuries, Cogniti...</td>\n      <td>2014</td>\n      <td>Findings suggest that an overall measure of br...</td>\n    </tr>\n    <tr>\n      <th>26286897</th>\n      <td>Does emotional intelligence predict breaking b...</td>\n      <td>[While both patients and physicians identify c...</td>\n      <td>[BACKGROUND, PURPOSE, METHODS, RESULTS]</td>\n      <td>[Communication, Emotional Intelligence, Female...</td>\n      <td>2015</td>\n      <td>We concluded that first-year pediatric residen...</td>\n    </tr>\n    <tr>\n      <th>24390744</th>\n      <td>Is there a difference in cognitive development...</td>\n      <td>[To explore whether there exist differences in...</td>\n      <td>[OBJECTIVE, METHODS, RESULTS]</td>\n      <td>[Child Development, Child, Preschool, Cognitio...</td>\n      <td>2014</td>\n      <td>Compared to the full-term singletons born afte...</td>\n    </tr>\n    <tr>\n      <th>24089322</th>\n      <td>Multiple-choice vocabulary intelligence test M...</td>\n      <td>[The multiple-choice vocabulary intelligence t...</td>\n      <td>[OBJECTIVE, METHOD, RESULTS]</td>\n      <td>[Adult, Female, Follow-Up Studies, Humans, Int...</td>\n      <td>2014</td>\n      <td>The results question the validity of the MWT a...</td>\n    </tr>\n    <tr>\n      <th>24556771</th>\n      <td>Does emotional intelligence at medical school ...</td>\n      <td>[Medical school admissions committees are incr...</td>\n      <td>[PURPOSE, METHOD, RESULTS]</td>\n      <td>[Clinical Competence, Educational Measurement,...</td>\n      <td>2014</td>\n      <td>EI, as measured by an abilities test at admiss...</td>\n    </tr>\n    <tr>\n      <th>24579285</th>\n      <td>Emotional intelligence subscales: are they cor...</td>\n      <td>[The present study aimed at evaluating the cor...</td>\n      <td>[OBJECTIVES, STUDY DESIGN, RESULTS]</td>\n      <td>[Adaptation, Psychological, Child, Child Behav...</td>\n      <td>2013</td>\n      <td>The results provide evidence that children wit...</td>\n    </tr>\n    <tr>\n      <th>23732046</th>\n      <td>Do dietary patterns influence cognitive functi...</td>\n      <td>[Evidence from observational studies to date s...</td>\n      <td>[BACKGROUND, METHODS, RESULTS]</td>\n      <td>[Aged, Aging, Cognition, Diet, Female, Follow-...</td>\n      <td>2013</td>\n      <td>Our results suggest a pattern of reverse causa...</td>\n    </tr>\n    <tr>\n      <th>25488976</th>\n      <td>Does high intelligence improve prognosis?</td>\n      <td>[Lower intelligence early in life is associate...</td>\n      <td>[BACKGROUND, METHODS, PRIMARY OUTCOME, RESULTS]</td>\n      <td>[Adolescent, Adult, Alcohol Drinking, Cause of...</td>\n      <td>2015</td>\n      <td>Although we found lower intelligence to be ass...</td>\n    </tr>\n    <tr>\n      <th>23164358</th>\n      <td>Can cognitive deficits facilitate differential...</td>\n      <td>[Neurocognitive performance of four groups was...</td>\n      <td>[METHODS, RESULTS]</td>\n      <td>[Adult, Case-Control Studies, Cognition Disord...</td>\n      <td>2013</td>\n      <td>The psychosis prodrome seems to be associated ...</td>\n    </tr>\n    <tr>\n      <th>27062554</th>\n      <td>Are Weight Status and Cognition Associated?</td>\n      <td>[The aim of this study was to characterise the...</td>\n      <td>[OBJECTIVE, METHODS, RESULTS]</td>\n      <td>[Adolescent, Adult, Anorexia Nervosa, Body Wei...</td>\n      <td>2016</td>\n      <td>Weight recovery appears not to be associated w...</td>\n    </tr>\n    <tr>\n      <th>25012405</th>\n      <td>Cognitive functions in euthymic Egyptian patie...</td>\n      <td>[There is marked interest to research neurocog...</td>\n      <td>[BACKGROUND, METHODS, RESULTS]</td>\n      <td>[Adolescent, Adult, Bipolar Disorder, Case-Con...</td>\n      <td>2014</td>\n      <td>Euthymic bipolar patients exhibit cognitive de...</td>\n    </tr>\n    <tr>\n      <th>25012606</th>\n      <td>Are there gender differences in the emotional ...</td>\n      <td>[Because academic literature indicates that em...</td>\n      <td>[BACKGROUND, OBJECTIVE, RESULTS]</td>\n      <td>[Adult, Clinical Competence, Emotional Intelli...</td>\n      <td>None</td>\n      <td>Men and women residents across 3 specialties d...</td>\n    </tr>\n    <tr>\n      <th>23481123</th>\n      <td>Does lifetime exposure to hormones predict pre...</td>\n      <td>[Women with breast cancer have been found to h...</td>\n      <td>[OBJECTIVE, METHODS, RESULTS]</td>\n      <td>[Attitude to Health, Breast Neoplasms, Chemoth...</td>\n      <td>2013</td>\n      <td>Other factors may explain the poorer pretreatm...</td>\n    </tr>\n    <tr>\n      <th>22141327</th>\n      <td>More academics in regular schools?</td>\n      <td>[Studies from the UK have shown that children ...</td>\n      <td>[BACKGROUND, METHOD, RESULTS]</td>\n      <td>[Child, Child, Preschool, Curriculum, Down Syn...</td>\n      <td>2013</td>\n      <td>Regularly placed children with Down syndrome l...</td>\n    </tr>\n    <tr>\n      <th>23420272</th>\n      <td>Artificial intelligence techniques: An efficie...</td>\n      <td>[To construct an artificial intelligence appli...</td>\n      <td>[OBJECTIVE, SUBJECTS, METHODS, RESULTS]</td>\n      <td>[Adolescent, Artificial Intelligence, Child, C...</td>\n      <td>2013</td>\n      <td>Using data on the clinical state of individual...</td>\n    </tr>\n    <tr>\n      <th>27479488</th>\n      <td>Do Executive Function and Impulsivity Predict ...</td>\n      <td>[Executive function, impulsivity, and intellig...</td>\n      <td>[OBJECTIVE, METHODS, RESULTS]</td>\n      <td>[Adolescent, Adolescent Health, Alcohol Drinki...</td>\n      <td>2016</td>\n      <td>After accounting for intelligence, executive f...</td>\n    </tr>\n    <tr>\n      <th>26689235</th>\n      <td>Reading Ability as an Estimator of Premorbid I...</td>\n      <td>[The Wide Range Achievement Test, 3rd edition,...</td>\n      <td>[UNLABELLED, OBJECTIVE, METHOD, RESULTS]</td>\n      <td>[Adult, Aged, Female, HIV Infections, Humans, ...</td>\n      <td>2015</td>\n      <td>Overall, this study supports the appropriatene...</td>\n    </tr>\n    <tr>\n      <th>26708233</th>\n      <td>Can enriching emotional intelligence improve m...</td>\n      <td>[The purpose of this pilot study was to examin...</td>\n      <td>[OBJECTIVE, METHODS, RESULTS]</td>\n      <td>[Adaptation, Psychological, Clinical Clerkship...</td>\n      <td>2015</td>\n      <td>Findings from our pilot study supported our hy...</td>\n    </tr>\n    <tr>\n      <th>23762357</th>\n      <td>The role of intelligence in posttraumatic stre...</td>\n      <td>[Only a small minority of trauma victims devel...</td>\n      <td>[BACKGROUND, METHODS, RESULTS]</td>\n      <td>[Adolescent, Child, Diagnostic and Statistical...</td>\n      <td>2013</td>\n      <td>Lower IQ exerts an adverse PTSD effect on trau...</td>\n    </tr>\n    <tr>\n      <th>25566892</th>\n      <td>Analysis of twenty pediatric cases of tuberous...</td>\n      <td>[Tuberous sclerosis complex (TSC) is a neuro-c...</td>\n      <td>[BACKGROUND, METHODS, RESULTS, LIMITATION]</td>\n      <td>[Adolescent, Angiofibroma, Astrocytoma, Brain ...</td>\n      <td>None</td>\n      <td>Our study highlights the wide variety of cutan...</td>\n    </tr>\n    <tr>\n      <th>23516574</th>\n      <td>Do dietary trajectories between infancy and to...</td>\n      <td>[We examined whether trajectories of dietary p...</td>\n      <td>[OBJECTIVE, METHODS, RESULTS]</td>\n      <td>[Adolescent, Adult, Child, Cohort Studies, Die...</td>\n      <td>2013</td>\n      <td>The Discretionary and Traditional dietary patt...</td>\n    </tr>\n    <tr>\n      <th>27521721</th>\n      <td>Is there a creative functional paradoxical fac...</td>\n      <td>[In patients with juvenile myoclonic epilepsy ...</td>\n      <td>[OBJECTIVE, METHODS, RESULTS]</td>\n      <td>[Adolescent, Adult, Creativity, Female, Fronta...</td>\n      <td>2016</td>\n      <td>Overall, our study did not reveal increased cr...</td>\n    </tr>\n    <tr>\n      <th>24026376</th>\n      <td>Emotional intelligence and psychiatry resident...</td>\n      <td>[The authors assessed the relationship between...</td>\n      <td>[OBJECTIVE, METHOD, RESULTS]</td>\n      <td>[Clinical Competence, Educational Measurement,...</td>\n      <td>2013</td>\n      <td>There was no significant correlation between o...</td>\n    </tr>\n    <tr>\n      <th>26237626</th>\n      <td>Can impaired working memory functioning be imp...</td>\n      <td>[Deficits in working memory (WM) are commonly ...</td>\n      <td>[OBJECTIVE, METHOD, RESULTS]</td>\n      <td>[Attention, Brain Injuries, Humans, Intelligen...</td>\n      <td>2016</td>\n      <td>WM training produces long-lasting beneficial e...</td>\n    </tr>\n    <tr>\n      <th>26440549</th>\n      <td>Can PEP-3 Provide a Cognitive Profile in Child...</td>\n      <td>[The assessment of the intelligence quotient (...</td>\n      <td>[BACKGROUND, METHOD, RESULTS]</td>\n      <td>[Autism Spectrum Disorder, Child, Child Develo...</td>\n      <td>2016</td>\n      <td>These findings show that the DLs could be cons...</td>\n    </tr>\n    <tr>\n      <th>25185363</th>\n      <td>Does acupuncture have a positive effect on sch...</td>\n      <td>[To evaluate school success in pediatric patie...</td>\n      <td>[OBJECTIVE, METHODS, RESULTS]</td>\n      <td>[Acupuncture Therapy, Adolescent, Attention De...</td>\n      <td>2014</td>\n      <td>Acupuncture contributed to the academic succes...</td>\n    </tr>\n    <tr>\n      <th>23979950</th>\n      <td>Cognitive development in congenital hypothyroi...</td>\n      <td>[Optimal treatment of children with congenital...</td>\n      <td>[BACKGROUND, METHODS, RESULTS]</td>\n      <td>[Brain, Child, Child Development, Cognition, C...</td>\n      <td>2013</td>\n      <td>Our study suggests that CHT overtreatment duri...</td>\n    </tr>\n    <tr>\n      <th>24742091</th>\n      <td>Do we develop public health leaders?</td>\n      <td>[Professional development of public health lea...</td>\n      <td>[BACKGROUND, METHODS, RESULTS]</td>\n      <td>[Adult, Cross-Sectional Studies, Emotional Int...</td>\n      <td>2014</td>\n      <td>The study shows a positive correlation between...</td>\n    </tr>\n    <tr>\n      <th>25263144</th>\n      <td>Do dental esthetics have any influence on find...</td>\n      <td>[Our objective was to determine whether dental...</td>\n      <td>[INTRODUCTION, METHODS, RESULTS]</td>\n      <td>[Adult, African Continental Ancestry Group, At...</td>\n      <td>2014</td>\n      <td>Persons with ideal smiles are considered more ...</td>\n    </tr>\n    <tr>\n      <th>23364510</th>\n      <td>Bitemporal intractable epilepsy: could it be s...</td>\n      <td>[The goal of this study is to retrieve the att...</td>\n      <td>[BACKGROUND, OBJECTIVES, METHODS, RESULTS]</td>\n      <td>[Adolescent, Adult, Child, Cohort Studies, Ele...</td>\n      <td>2013</td>\n      <td>The minimally invasive precise surgeries on bo...</td>\n    </tr>\n    <tr>\n      <th>24655151</th>\n      <td>Cognitive recovery after severe traumatic brai...</td>\n      <td>[Does younger age at the time of severe trauma...</td>\n      <td>[PRIMARY OBJECTIVE, METHODS AND PROCEDURES, MA...</td>\n      <td>[Adolescent, Adult, Age Factors, Attention, Br...</td>\n      <td>2014</td>\n      <td>(1) No evidence was found for a neuroprotectiv...</td>\n    </tr>\n    <tr>\n      <th>22653808</th>\n      <td>ADHD predominantly inattentive subtype with hi...</td>\n      <td>[The authors investigate differences in the ne...</td>\n      <td>[OBJECTIVE, METHOD, RESULTS]</td>\n      <td>[Attention Deficit Disorder with Hyperactivity...</td>\n      <td>2014</td>\n      <td>This study supports revising subtype's criteri...</td>\n    </tr>\n    <tr>\n      <th>25348123</th>\n      <td>Is insomnia associated with deficits in neurop...</td>\n      <td>[People with insomnia complain of cognitive de...</td>\n      <td>[STUDY OBJECTIVES, DESIGN AND PARTICIPANTS, ME...</td>\n      <td>[Adult, Child, Cognition, Cognition Disorders,...</td>\n      <td>2015</td>\n      <td>Links between insomnia and cognitive impairmen...</td>\n    </tr>\n  </tbody>\n</table>\n</div>"
     },
     "execution_count": 68,
     "metadata": {},
     "output_type": "execute_result"
    }
   ],
   "source": [
    "# 35/62000 instance after filtering\n",
    "\n",
    "df2_filtered = df2[df2.index.isin(ids)]\n",
    "df2_filtered"
   ],
   "metadata": {
    "collapsed": false
   }
  },
  {
   "cell_type": "code",
   "execution_count": 66,
   "outputs": [
    {
     "data": {
      "text/plain": "                                                   QUESTION   \n25445772  Is cognitive reserve a determinant of health-r...  \\\n25426763  Does gRIN2B mediate susceptibility to intellig...   \n27503785  Do interictal epileptiform discharges have an ...   \n27513713  Is minor neurological dysfunction in five year...   \n27494355  Does interictal epileptic discharge correlate ...   \n...                                                     ...   \n24001466  Are mechanism of injury and microbiological fl...   \n26926848  Is lower verbal intelligence associated with d...   \n24522447  Are dietary lipids differentially associated w...   \n25169445  Do executive function processes mediate the im...   \n25174703  Is maternal stress during pregnancy associated...   \n\n                                                   CONTEXTS   \n25445772  [Covert hepatic encephalopathy (CHE) is associ...  \\\n25426763  [Developmental dyslexia (DD) is a complex heri...   \n27503785  [The relative contribution of interictal epile...   \n27513713  [Minor neurological dysfunction (MND) is prese...   \n27494355  [Temporal lobe epilepsy (TLE) with hippocampal...   \n...                                                     ...   \n24001466  [Denmark has been engaged in the Afghanistan w...   \n26926848  [To determine the association of verbal intell...   \n24522447  [Studies in rodents and older humans have show...   \n25169445  [The study investigated working memory, execut...   \n25174703  [Maternal stress during pregnancy has been ass...   \n\n                                             LABELS   \n25445772              [OBJECTIVE, METHODS, RESULTS]  \\\n25426763              [OBJECTIVE, METHODS, RESULTS]   \n27503785              [OBJECTIVE, METHODS, RESULTS]   \n27513713  [BACKGROUND, OBJECTIVE, METHODS, RESULTS]   \n27494355              [OBJECTIVE, METHODS, RESULTS]   \n...                                             ...   \n24001466             [BACKGROUND, METHODS, RESULTS]   \n26926848              [OBJECTIVE, METHODS, RESULTS]   \n24522447  [BACKGROUND, OBJECTIVE, METHODS, RESULTS]   \n25169445              [OBJECTIVE, METHODS, RESULTS]   \n25174703              [OBJECTIVE, METHODS, RESULTS]   \n\n                                                LONG_ANSWER   \n25445772  A higher cognitive reserve is associated with ...  \\\n25426763  Our results add further evidence in support of...   \n27503785  Overall, IED effects on cognition were of a ma...   \n27513713  Five year old VP children with c-MND have lowe...   \n27494355  In patients with TLE of long duration, IED occ...   \n...                                                     ...   \n24001466  Explosion was the most frequent cause of injur...   \n26926848  Lower verbal intelligence was associated with ...   \n24522447  SFA intake was negatively associated with both...   \n25169445  The study indicates a mediating role of execut...   \n25174703  Increasing maternal stress during pregnancy wa...   \n\n                                                     MESHES final_decision  \n25445772  [Cognitive Reserve, End Stage Liver Disease, F...            yes  \n25426763  [Adolescent, Child, Cognition Disorders, Dysle...            yes  \n27503785  [Adolescent, Anticonvulsants, Brain, Brain Wav...            yes  \n27513713  [Child, Child Development, Cognition, Female, ...            yes  \n27494355  [Adolescent, Adult, Child, Child, Preschool, C...            yes  \n...                                                     ...            ...  \n24001466  [Abdominal Injuries, Acinetobacter Infections,...            yes  \n26926848  [Adult, Aged, Blood Glucose, Blood Pressure, C...            yes  \n24522447  [Body Mass Index, Child, Cognition, Cross-Sect...            yes  \n25169445  [Adult, Executive Function, Female, Humans, In...            yes  \n25174703  [Birth Weight, Child, Child, Preschool, Depres...            yes  \n\n[131 rows x 6 columns]",
      "text/html": "<div>\n<style scoped>\n    .dataframe tbody tr th:only-of-type {\n        vertical-align: middle;\n    }\n\n    .dataframe tbody tr th {\n        vertical-align: top;\n    }\n\n    .dataframe thead th {\n        text-align: right;\n    }\n</style>\n<table border=\"1\" class=\"dataframe\">\n  <thead>\n    <tr style=\"text-align: right;\">\n      <th></th>\n      <th>QUESTION</th>\n      <th>CONTEXTS</th>\n      <th>LABELS</th>\n      <th>LONG_ANSWER</th>\n      <th>MESHES</th>\n      <th>final_decision</th>\n    </tr>\n  </thead>\n  <tbody>\n    <tr>\n      <th>25445772</th>\n      <td>Is cognitive reserve a determinant of health-r...</td>\n      <td>[Covert hepatic encephalopathy (CHE) is associ...</td>\n      <td>[OBJECTIVE, METHODS, RESULTS]</td>\n      <td>A higher cognitive reserve is associated with ...</td>\n      <td>[Cognitive Reserve, End Stage Liver Disease, F...</td>\n      <td>yes</td>\n    </tr>\n    <tr>\n      <th>25426763</th>\n      <td>Does gRIN2B mediate susceptibility to intellig...</td>\n      <td>[Developmental dyslexia (DD) is a complex heri...</td>\n      <td>[OBJECTIVE, METHODS, RESULTS]</td>\n      <td>Our results add further evidence in support of...</td>\n      <td>[Adolescent, Child, Cognition Disorders, Dysle...</td>\n      <td>yes</td>\n    </tr>\n    <tr>\n      <th>27503785</th>\n      <td>Do interictal epileptiform discharges have an ...</td>\n      <td>[The relative contribution of interictal epile...</td>\n      <td>[OBJECTIVE, METHODS, RESULTS]</td>\n      <td>Overall, IED effects on cognition were of a ma...</td>\n      <td>[Adolescent, Anticonvulsants, Brain, Brain Wav...</td>\n      <td>yes</td>\n    </tr>\n    <tr>\n      <th>27513713</th>\n      <td>Is minor neurological dysfunction in five year...</td>\n      <td>[Minor neurological dysfunction (MND) is prese...</td>\n      <td>[BACKGROUND, OBJECTIVE, METHODS, RESULTS]</td>\n      <td>Five year old VP children with c-MND have lowe...</td>\n      <td>[Child, Child Development, Cognition, Female, ...</td>\n      <td>yes</td>\n    </tr>\n    <tr>\n      <th>27494355</th>\n      <td>Does interictal epileptic discharge correlate ...</td>\n      <td>[Temporal lobe epilepsy (TLE) with hippocampal...</td>\n      <td>[OBJECTIVE, METHODS, RESULTS]</td>\n      <td>In patients with TLE of long duration, IED occ...</td>\n      <td>[Adolescent, Adult, Child, Child, Preschool, C...</td>\n      <td>yes</td>\n    </tr>\n    <tr>\n      <th>...</th>\n      <td>...</td>\n      <td>...</td>\n      <td>...</td>\n      <td>...</td>\n      <td>...</td>\n      <td>...</td>\n    </tr>\n    <tr>\n      <th>24001466</th>\n      <td>Are mechanism of injury and microbiological fl...</td>\n      <td>[Denmark has been engaged in the Afghanistan w...</td>\n      <td>[BACKGROUND, METHODS, RESULTS]</td>\n      <td>Explosion was the most frequent cause of injur...</td>\n      <td>[Abdominal Injuries, Acinetobacter Infections,...</td>\n      <td>yes</td>\n    </tr>\n    <tr>\n      <th>26926848</th>\n      <td>Is lower verbal intelligence associated with d...</td>\n      <td>[To determine the association of verbal intell...</td>\n      <td>[OBJECTIVE, METHODS, RESULTS]</td>\n      <td>Lower verbal intelligence was associated with ...</td>\n      <td>[Adult, Aged, Blood Glucose, Blood Pressure, C...</td>\n      <td>yes</td>\n    </tr>\n    <tr>\n      <th>24522447</th>\n      <td>Are dietary lipids differentially associated w...</td>\n      <td>[Studies in rodents and older humans have show...</td>\n      <td>[BACKGROUND, OBJECTIVE, METHODS, RESULTS]</td>\n      <td>SFA intake was negatively associated with both...</td>\n      <td>[Body Mass Index, Child, Cognition, Cross-Sect...</td>\n      <td>yes</td>\n    </tr>\n    <tr>\n      <th>25169445</th>\n      <td>Do executive function processes mediate the im...</td>\n      <td>[The study investigated working memory, execut...</td>\n      <td>[OBJECTIVE, METHODS, RESULTS]</td>\n      <td>The study indicates a mediating role of execut...</td>\n      <td>[Adult, Executive Function, Female, Humans, In...</td>\n      <td>yes</td>\n    </tr>\n    <tr>\n      <th>25174703</th>\n      <td>Is maternal stress during pregnancy associated...</td>\n      <td>[Maternal stress during pregnancy has been ass...</td>\n      <td>[OBJECTIVE, METHODS, RESULTS]</td>\n      <td>Increasing maternal stress during pregnancy wa...</td>\n      <td>[Birth Weight, Child, Child, Preschool, Depres...</td>\n      <td>yes</td>\n    </tr>\n  </tbody>\n</table>\n<p>131 rows × 6 columns</p>\n</div>"
     },
     "execution_count": 66,
     "metadata": {},
     "output_type": "execute_result"
    }
   ],
   "source": [
    "# 131/210000 instances after filtering\n",
    "df3_filtered = df3[df3.index.isin(ids)]\n",
    "df3_filtered"
   ],
   "metadata": {
    "collapsed": false
   }
  },
  {
   "cell_type": "code",
   "execution_count": 71,
   "outputs": [
    {
     "data": {
      "text/plain": "                                                   QUESTION   \n25752725  Schizophrenia patients with high intelligence:...  \\\n24232067  Do audiologic characteristics predict outcomes...   \n27286937  Do emotional intelligence and previous caring ...   \n24686463  Does brain volume loss predict cognitive and n...   \n26286897  Does emotional intelligence predict breaking b...   \n...                                                     ...   \n24001466  Are mechanism of injury and microbiological fl...   \n26926848  Is lower verbal intelligence associated with d...   \n24522447  Are dietary lipids differentially associated w...   \n25169445  Do executive function processes mediate the im...   \n25174703  Is maternal stress during pregnancy associated...   \n\n                                                   CONTEXTS   \n25752725  [Schizophrenia patients are typically found to...  \\\n24232067  [To determine whether audiologic characteristi...   \n27286937  [Reports of poor nursing care have focused att...   \n24686463  [In this study, the authors investigated the r...   \n26286897  [While both patients and physicians identify c...   \n...                                                     ...   \n24001466  [Denmark has been engaged in the Afghanistan w...   \n26926848  [To determine the association of verbal intell...   \n24522447  [Studies in rodents and older humans have show...   \n25169445  [The study investigated working memory, execut...   \n25174703  [Maternal stress during pregnancy has been ass...   \n\n                                                     LABELS   \n25752725                     [BACKGROUND, METHODS, RESULTS]  \\\n24232067  [OBJECTIVE, STUDY DESIGN, SETTING, PATIENTS, I...   \n27286937  [BACKGROUND, OBJECTIVES, DESIGN, SETTING, METH...   \n24686463                         [PURPOSE, METHOD, RESULTS]   \n26286897            [BACKGROUND, PURPOSE, METHODS, RESULTS]   \n...                                                     ...   \n24001466                     [BACKGROUND, METHODS, RESULTS]   \n26926848                      [OBJECTIVE, METHODS, RESULTS]   \n24522447          [BACKGROUND, OBJECTIVE, METHODS, RESULTS]   \n25169445                      [OBJECTIVE, METHODS, RESULTS]   \n25174703                      [OBJECTIVE, METHODS, RESULTS]   \n\n                                                     MESHES  YEAR   \n25752725  [Adult, Cognition, Female, Humans, Intelligenc...  2015  \\\n24232067  [Case-Control Studies, Child, Cognition, Femal...  2013   \n27286937  [Adolescent, Adult, Cohort Studies, Emotional ...  2016   \n24686463  [Aged, Atrophy, Brain, Brain Injuries, Cogniti...  2014   \n26286897  [Communication, Emotional Intelligence, Female...  2015   \n...                                                     ...   ...   \n24001466  [Abdominal Injuries, Acinetobacter Infections,...   NaN   \n26926848  [Adult, Aged, Blood Glucose, Blood Pressure, C...   NaN   \n24522447  [Body Mass Index, Child, Cognition, Cross-Sect...   NaN   \n25169445  [Adult, Executive Function, Female, Humans, In...   NaN   \n25174703  [Birth Weight, Child, Child, Preschool, Depres...   NaN   \n\n         reasoning_required_pred reasoning_free_pred final_decision   \n25752725                     yes                 yes            yes  \\\n24232067                     NaN                 NaN            NaN   \n27286937                     NaN                 NaN            NaN   \n24686463                     NaN                 NaN            NaN   \n26286897                     NaN                 NaN            NaN   \n...                          ...                 ...            ...   \n24001466                     NaN                 NaN            yes   \n26926848                     NaN                 NaN            yes   \n24522447                     NaN                 NaN            yes   \n25169445                     NaN                 NaN            yes   \n25174703                     NaN                 NaN            yes   \n\n                                                LONG_ANSWER  \n25752725  These findings provide evidence for the existe...  \n24232067  As expected, children with unilateral hearing ...  \n27286937  Previous caring experience led to worse perfor...  \n24686463  Findings suggest that an overall measure of br...  \n26286897  We concluded that first-year pediatric residen...  \n...                                                     ...  \n24001466  Explosion was the most frequent cause of injur...  \n26926848  Lower verbal intelligence was associated with ...  \n24522447  SFA intake was negatively associated with both...  \n25169445  The study indicates a mediating role of execut...  \n25174703  Increasing maternal stress during pregnancy wa...  \n\n[167 rows x 9 columns]",
      "text/html": "<div>\n<style scoped>\n    .dataframe tbody tr th:only-of-type {\n        vertical-align: middle;\n    }\n\n    .dataframe tbody tr th {\n        vertical-align: top;\n    }\n\n    .dataframe thead th {\n        text-align: right;\n    }\n</style>\n<table border=\"1\" class=\"dataframe\">\n  <thead>\n    <tr style=\"text-align: right;\">\n      <th></th>\n      <th>QUESTION</th>\n      <th>CONTEXTS</th>\n      <th>LABELS</th>\n      <th>MESHES</th>\n      <th>YEAR</th>\n      <th>reasoning_required_pred</th>\n      <th>reasoning_free_pred</th>\n      <th>final_decision</th>\n      <th>LONG_ANSWER</th>\n    </tr>\n  </thead>\n  <tbody>\n    <tr>\n      <th>25752725</th>\n      <td>Schizophrenia patients with high intelligence:...</td>\n      <td>[Schizophrenia patients are typically found to...</td>\n      <td>[BACKGROUND, METHODS, RESULTS]</td>\n      <td>[Adult, Cognition, Female, Humans, Intelligenc...</td>\n      <td>2015</td>\n      <td>yes</td>\n      <td>yes</td>\n      <td>yes</td>\n      <td>These findings provide evidence for the existe...</td>\n    </tr>\n    <tr>\n      <th>24232067</th>\n      <td>Do audiologic characteristics predict outcomes...</td>\n      <td>[To determine whether audiologic characteristi...</td>\n      <td>[OBJECTIVE, STUDY DESIGN, SETTING, PATIENTS, I...</td>\n      <td>[Case-Control Studies, Child, Cognition, Femal...</td>\n      <td>2013</td>\n      <td>NaN</td>\n      <td>NaN</td>\n      <td>NaN</td>\n      <td>As expected, children with unilateral hearing ...</td>\n    </tr>\n    <tr>\n      <th>27286937</th>\n      <td>Do emotional intelligence and previous caring ...</td>\n      <td>[Reports of poor nursing care have focused att...</td>\n      <td>[BACKGROUND, OBJECTIVES, DESIGN, SETTING, METH...</td>\n      <td>[Adolescent, Adult, Cohort Studies, Emotional ...</td>\n      <td>2016</td>\n      <td>NaN</td>\n      <td>NaN</td>\n      <td>NaN</td>\n      <td>Previous caring experience led to worse perfor...</td>\n    </tr>\n    <tr>\n      <th>24686463</th>\n      <td>Does brain volume loss predict cognitive and n...</td>\n      <td>[In this study, the authors investigated the r...</td>\n      <td>[PURPOSE, METHOD, RESULTS]</td>\n      <td>[Aged, Atrophy, Brain, Brain Injuries, Cogniti...</td>\n      <td>2014</td>\n      <td>NaN</td>\n      <td>NaN</td>\n      <td>NaN</td>\n      <td>Findings suggest that an overall measure of br...</td>\n    </tr>\n    <tr>\n      <th>26286897</th>\n      <td>Does emotional intelligence predict breaking b...</td>\n      <td>[While both patients and physicians identify c...</td>\n      <td>[BACKGROUND, PURPOSE, METHODS, RESULTS]</td>\n      <td>[Communication, Emotional Intelligence, Female...</td>\n      <td>2015</td>\n      <td>NaN</td>\n      <td>NaN</td>\n      <td>NaN</td>\n      <td>We concluded that first-year pediatric residen...</td>\n    </tr>\n    <tr>\n      <th>...</th>\n      <td>...</td>\n      <td>...</td>\n      <td>...</td>\n      <td>...</td>\n      <td>...</td>\n      <td>...</td>\n      <td>...</td>\n      <td>...</td>\n      <td>...</td>\n    </tr>\n    <tr>\n      <th>24001466</th>\n      <td>Are mechanism of injury and microbiological fl...</td>\n      <td>[Denmark has been engaged in the Afghanistan w...</td>\n      <td>[BACKGROUND, METHODS, RESULTS]</td>\n      <td>[Abdominal Injuries, Acinetobacter Infections,...</td>\n      <td>NaN</td>\n      <td>NaN</td>\n      <td>NaN</td>\n      <td>yes</td>\n      <td>Explosion was the most frequent cause of injur...</td>\n    </tr>\n    <tr>\n      <th>26926848</th>\n      <td>Is lower verbal intelligence associated with d...</td>\n      <td>[To determine the association of verbal intell...</td>\n      <td>[OBJECTIVE, METHODS, RESULTS]</td>\n      <td>[Adult, Aged, Blood Glucose, Blood Pressure, C...</td>\n      <td>NaN</td>\n      <td>NaN</td>\n      <td>NaN</td>\n      <td>yes</td>\n      <td>Lower verbal intelligence was associated with ...</td>\n    </tr>\n    <tr>\n      <th>24522447</th>\n      <td>Are dietary lipids differentially associated w...</td>\n      <td>[Studies in rodents and older humans have show...</td>\n      <td>[BACKGROUND, OBJECTIVE, METHODS, RESULTS]</td>\n      <td>[Body Mass Index, Child, Cognition, Cross-Sect...</td>\n      <td>NaN</td>\n      <td>NaN</td>\n      <td>NaN</td>\n      <td>yes</td>\n      <td>SFA intake was negatively associated with both...</td>\n    </tr>\n    <tr>\n      <th>25169445</th>\n      <td>Do executive function processes mediate the im...</td>\n      <td>[The study investigated working memory, execut...</td>\n      <td>[OBJECTIVE, METHODS, RESULTS]</td>\n      <td>[Adult, Executive Function, Female, Humans, In...</td>\n      <td>NaN</td>\n      <td>NaN</td>\n      <td>NaN</td>\n      <td>yes</td>\n      <td>The study indicates a mediating role of execut...</td>\n    </tr>\n    <tr>\n      <th>25174703</th>\n      <td>Is maternal stress during pregnancy associated...</td>\n      <td>[Maternal stress during pregnancy has been ass...</td>\n      <td>[OBJECTIVE, METHODS, RESULTS]</td>\n      <td>[Birth Weight, Child, Child, Preschool, Depres...</td>\n      <td>NaN</td>\n      <td>NaN</td>\n      <td>NaN</td>\n      <td>yes</td>\n      <td>Increasing maternal stress during pregnancy wa...</td>\n    </tr>\n  </tbody>\n</table>\n<p>167 rows × 9 columns</p>\n</div>"
     },
     "execution_count": 71,
     "metadata": {},
     "output_type": "execute_result"
    }
   ],
   "source": [
    "all_data_after_filtering = pd.concat([df1_filtered, df2_filtered, df3_filtered])\n",
    "all_data_after_filtering"
   ],
   "metadata": {
    "collapsed": false
   }
  },
  {
   "cell_type": "code",
   "execution_count": 77,
   "outputs": [
    {
     "name": "stdout",
     "output_type": "stream",
     "text": [
      "<class 'pandas.core.frame.DataFrame'>\n",
      "Index: 167 entries, 25752725 to 25174703\n",
      "Data columns (total 9 columns):\n",
      " #   Column                   Non-Null Count  Dtype \n",
      "---  ------                   --------------  ----- \n",
      " 0   QUESTION                 167 non-null    object\n",
      " 1   CONTEXTS                 167 non-null    object\n",
      " 2   LABELS                   167 non-null    object\n",
      " 3   MESHES                   167 non-null    object\n",
      " 4   YEAR                     34 non-null     object\n",
      " 5   reasoning_required_pred  1 non-null      object\n",
      " 6   reasoning_free_pred      1 non-null      object\n",
      " 7   final_decision           132 non-null    object\n",
      " 8   LONG_ANSWER              167 non-null    object\n",
      "dtypes: object(9)\n",
      "memory usage: 13.0+ KB\n"
     ]
    }
   ],
   "source": [
    "all_data_after_filtering.info()"
   ],
   "metadata": {
    "collapsed": false
   }
  },
  {
   "cell_type": "code",
   "execution_count": 78,
   "outputs": [],
   "source": [
    "all_data_after_filtering.to_csv(r\"questions_answers.csv\", index=True)"
   ],
   "metadata": {
    "collapsed": false
   }
  },
  {
   "cell_type": "markdown",
   "source": [
    "**DOWNLOAD FROM CSV BACK**"
   ],
   "metadata": {
    "collapsed": false
   }
  },
  {
   "cell_type": "code",
   "execution_count": 80,
   "outputs": [
    {
     "name": "stdout",
     "output_type": "stream",
     "text": [
      "<class 'pandas.core.frame.DataFrame'>\n",
      "Index: 167 entries, 25752725 to 25174703\n",
      "Data columns (total 9 columns):\n",
      " #   Column                   Non-Null Count  Dtype  \n",
      "---  ------                   --------------  -----  \n",
      " 0   QUESTION                 167 non-null    object \n",
      " 1   CONTEXTS                 167 non-null    object \n",
      " 2   LABELS                   167 non-null    object \n",
      " 3   MESHES                   167 non-null    object \n",
      " 4   YEAR                     34 non-null     float64\n",
      " 5   reasoning_required_pred  1 non-null      object \n",
      " 6   reasoning_free_pred      1 non-null      object \n",
      " 7   final_decision           132 non-null    object \n",
      " 8   LONG_ANSWER              167 non-null    object \n",
      "dtypes: float64(1), object(8)\n",
      "memory usage: 13.0+ KB\n"
     ]
    }
   ],
   "source": [
    "df = pd.read_csv('questions_answers.csv', index_col=0)\n",
    "df.info()"
   ],
   "metadata": {
    "collapsed": false
   }
  },
  {
   "cell_type": "code",
   "execution_count": 81,
   "outputs": [
    {
     "data": {
      "text/plain": "                                                   QUESTION   \n25752725  Schizophrenia patients with high intelligence:...  \\\n24232067  Do audiologic characteristics predict outcomes...   \n27286937  Do emotional intelligence and previous caring ...   \n24686463  Does brain volume loss predict cognitive and n...   \n26286897  Does emotional intelligence predict breaking b...   \n\n                                                   CONTEXTS   \n25752725  [\"Schizophrenia patients are typically found t...  \\\n24232067  ['To determine whether audiologic characterist...   \n27286937  ['Reports of poor nursing care have focused at...   \n24686463  ['In this study, the authors investigated the ...   \n26286897  ['While both patients and physicians identify ...   \n\n                                                     LABELS   \n25752725               ['BACKGROUND', 'METHODS', 'RESULTS']  \\\n24232067  ['OBJECTIVE', 'STUDY DESIGN', 'SETTING', 'PATI...   \n27286937  ['BACKGROUND', 'OBJECTIVES', 'DESIGN', 'SETTIN...   \n24686463                   ['PURPOSE', 'METHOD', 'RESULTS']   \n26286897    ['BACKGROUND', 'PURPOSE', 'METHODS', 'RESULTS']   \n\n                                                     MESHES    YEAR   \n25752725  ['Adult', 'Cognition', 'Female', 'Humans', 'In...  2015.0  \\\n24232067  ['Case-Control Studies', 'Child', 'Cognition',...  2013.0   \n27286937  ['Adolescent', 'Adult', 'Cohort Studies', 'Emo...  2016.0   \n24686463  ['Aged', 'Atrophy', 'Brain', 'Brain Injuries',...  2014.0   \n26286897  ['Communication', 'Emotional Intelligence', 'F...  2015.0   \n\n         reasoning_required_pred reasoning_free_pred final_decision   \n25752725                     yes                 yes            yes  \\\n24232067                     NaN                 NaN            NaN   \n27286937                     NaN                 NaN            NaN   \n24686463                     NaN                 NaN            NaN   \n26286897                     NaN                 NaN            NaN   \n\n                                                LONG_ANSWER  \n25752725  These findings provide evidence for the existe...  \n24232067  As expected, children with unilateral hearing ...  \n27286937  Previous caring experience led to worse perfor...  \n24686463  Findings suggest that an overall measure of br...  \n26286897  We concluded that first-year pediatric residen...  ",
      "text/html": "<div>\n<style scoped>\n    .dataframe tbody tr th:only-of-type {\n        vertical-align: middle;\n    }\n\n    .dataframe tbody tr th {\n        vertical-align: top;\n    }\n\n    .dataframe thead th {\n        text-align: right;\n    }\n</style>\n<table border=\"1\" class=\"dataframe\">\n  <thead>\n    <tr style=\"text-align: right;\">\n      <th></th>\n      <th>QUESTION</th>\n      <th>CONTEXTS</th>\n      <th>LABELS</th>\n      <th>MESHES</th>\n      <th>YEAR</th>\n      <th>reasoning_required_pred</th>\n      <th>reasoning_free_pred</th>\n      <th>final_decision</th>\n      <th>LONG_ANSWER</th>\n    </tr>\n  </thead>\n  <tbody>\n    <tr>\n      <th>25752725</th>\n      <td>Schizophrenia patients with high intelligence:...</td>\n      <td>[\"Schizophrenia patients are typically found t...</td>\n      <td>['BACKGROUND', 'METHODS', 'RESULTS']</td>\n      <td>['Adult', 'Cognition', 'Female', 'Humans', 'In...</td>\n      <td>2015.0</td>\n      <td>yes</td>\n      <td>yes</td>\n      <td>yes</td>\n      <td>These findings provide evidence for the existe...</td>\n    </tr>\n    <tr>\n      <th>24232067</th>\n      <td>Do audiologic characteristics predict outcomes...</td>\n      <td>['To determine whether audiologic characterist...</td>\n      <td>['OBJECTIVE', 'STUDY DESIGN', 'SETTING', 'PATI...</td>\n      <td>['Case-Control Studies', 'Child', 'Cognition',...</td>\n      <td>2013.0</td>\n      <td>NaN</td>\n      <td>NaN</td>\n      <td>NaN</td>\n      <td>As expected, children with unilateral hearing ...</td>\n    </tr>\n    <tr>\n      <th>27286937</th>\n      <td>Do emotional intelligence and previous caring ...</td>\n      <td>['Reports of poor nursing care have focused at...</td>\n      <td>['BACKGROUND', 'OBJECTIVES', 'DESIGN', 'SETTIN...</td>\n      <td>['Adolescent', 'Adult', 'Cohort Studies', 'Emo...</td>\n      <td>2016.0</td>\n      <td>NaN</td>\n      <td>NaN</td>\n      <td>NaN</td>\n      <td>Previous caring experience led to worse perfor...</td>\n    </tr>\n    <tr>\n      <th>24686463</th>\n      <td>Does brain volume loss predict cognitive and n...</td>\n      <td>['In this study, the authors investigated the ...</td>\n      <td>['PURPOSE', 'METHOD', 'RESULTS']</td>\n      <td>['Aged', 'Atrophy', 'Brain', 'Brain Injuries',...</td>\n      <td>2014.0</td>\n      <td>NaN</td>\n      <td>NaN</td>\n      <td>NaN</td>\n      <td>Findings suggest that an overall measure of br...</td>\n    </tr>\n    <tr>\n      <th>26286897</th>\n      <td>Does emotional intelligence predict breaking b...</td>\n      <td>['While both patients and physicians identify ...</td>\n      <td>['BACKGROUND', 'PURPOSE', 'METHODS', 'RESULTS']</td>\n      <td>['Communication', 'Emotional Intelligence', 'F...</td>\n      <td>2015.0</td>\n      <td>NaN</td>\n      <td>NaN</td>\n      <td>NaN</td>\n      <td>We concluded that first-year pediatric residen...</td>\n    </tr>\n  </tbody>\n</table>\n</div>"
     },
     "execution_count": 81,
     "metadata": {},
     "output_type": "execute_result"
    }
   ],
   "source": [
    "df.head()"
   ],
   "metadata": {
    "collapsed": false
   }
  },
  {
   "cell_type": "code",
   "execution_count": null,
   "outputs": [],
   "source": [],
   "metadata": {
    "collapsed": false
   }
  }
 ],
 "metadata": {
  "kernelspec": {
   "display_name": "Python 3",
   "language": "python",
   "name": "python3"
  },
  "language_info": {
   "codemirror_mode": {
    "name": "ipython",
    "version": 2
   },
   "file_extension": ".py",
   "mimetype": "text/x-python",
   "name": "python",
   "nbconvert_exporter": "python",
   "pygments_lexer": "ipython2",
   "version": "2.7.6"
  }
 },
 "nbformat": 4,
 "nbformat_minor": 0
}
