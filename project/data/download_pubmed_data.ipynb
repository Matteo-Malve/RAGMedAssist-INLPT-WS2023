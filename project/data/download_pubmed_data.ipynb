{
 "cells": [
  {
   "cell_type": "code",
   "execution_count": 1,
   "id": "initial_id",
   "metadata": {
    "collapsed": true,
    "ExecuteTime": {
     "end_time": "2024-01-03T19:32:17.414572Z",
     "start_time": "2024-01-03T19:32:16.929316Z"
    }
   },
   "outputs": [],
   "source": [
    "from Bio import Entrez\n",
    "import pandas as pd\n",
    "import time"
   ]
  },
  {
   "cell_type": "code",
   "execution_count": 2,
   "outputs": [],
   "source": [
    "def search(query, retstart, retmax):\n",
    "    Entrez.email = \"sandra_friebolin@proton.me\"\n",
    "    handle = Entrez.esearch(db='pubmed', \n",
    "                            retstart=retstart, \n",
    "                            retmax=retmax, \n",
    "                            retmode='xml', \n",
    "                            term=query)\n",
    "    results = Entrez.read(handle)\n",
    "    return results\n",
    "\n",
    "\n",
    "def fetch_details(id_list):\n",
    "    ids = ','.join(id_list)\n",
    "    Entrez.email = \"sandra_friebolin@proton.me\"\n",
    "    handle = Entrez.efetch(db='pubmed',\n",
    "                            retmode='xml',\n",
    "                            id=ids)\n",
    "    results = Entrez.read(handle)\n",
    "    return results"
   ],
   "metadata": {
    "collapsed": false,
    "ExecuteTime": {
     "end_time": "2024-01-03T19:32:17.424479Z",
     "start_time": "2024-01-03T19:32:17.415530Z"
    }
   },
   "id": "76f99f0092a62c83"
  },
  {
   "cell_type": "code",
   "execution_count": 3,
   "outputs": [],
   "source": [
    "def save_data_to_lists(papers, pmid_list, title_list, abstract_list, author_list, date_list, doi_list):\n",
    "    for paper in papers['PubmedArticle']:\n",
    "        article = paper['MedlineCitation']['Article']\n",
    "\n",
    "        # Check if Abstract is present\n",
    "        if article.get(\"Abstract\") is not None and paper['MedlineCitation']['PMID'] not in pmid_list:\n",
    "            abstract_texts = article['Abstract']['AbstractText']\n",
    "            full_abstract = ' '.join([str(text) for text in abstract_texts])\n",
    "\n",
    "            title_list.append(article['ArticleTitle'])\n",
    "            pmid_list.append(paper['MedlineCitation']['PMID'])\n",
    "\n",
    "            # Fetch authors\n",
    "            if 'AuthorList' in article:\n",
    "                authors = article['AuthorList']\n",
    "                author_names = [author.get('ForeName') + \" \" + author.get('LastName') \\\n",
    "                                    if author.get('ForeName') else author.get('LastName') \\\n",
    "                                for author in authors if 'LastName' in author]\n",
    "                author_list.append(\"; \".join(author_names))\n",
    "            else:\n",
    "                author_list.append(\"\")\n",
    "\n",
    "            # Fetch Publication Date\n",
    "            medline_citation = paper.get('MedlineCitation', {})\n",
    "            article = medline_citation.get('Article', {})\n",
    "            pub_date = None\n",
    "\n",
    "            # Check various fields for publication date\n",
    "            if 'ArticleDate' in article:\n",
    "                pub_date = article['ArticleDate']\n",
    "            elif 'PubDate' in article:\n",
    "                pub_date = article['PubDate']\n",
    "            elif 'DateCompleted' in medline_citation:\n",
    "                pub_date = medline_citation['DateCompleted']\n",
    "            elif 'DateRevised' in medline_citation:\n",
    "                pub_date = medline_citation['DateRevised']\n",
    "\n",
    "            # Format the publication date\n",
    "            if pub_date:\n",
    "                date_str = f\"{pub_date[0]['Year']}-{pub_date[0].get('Month', '01')}-{pub_date[0].get('Day', '01')}\"\n",
    "            else:\n",
    "                date_str = \"\"\n",
    "\n",
    "            date_list.append(date_str)\n",
    "\n",
    "            # Fetch DOI\n",
    "            article_id_list = paper.get('PubmedData', {}).get('ArticleIdList', [])\n",
    "            doi = next((id_ for id_ in article_id_list if id_.attributes.get('IdType') == 'doi'), None)\n",
    "            doi_list.append(doi if doi is not None else \"\")\n",
    "\n",
    "            # Append Abstract\n",
    "            abstract_list.append(full_abstract)"
   ],
   "metadata": {
    "collapsed": false,
    "ExecuteTime": {
     "end_time": "2024-01-03T19:32:17.432981Z",
     "start_time": "2024-01-03T19:32:17.419759Z"
    }
   },
   "id": "cbc908c711e7e263"
  },
  {
   "cell_type": "code",
   "execution_count": 4,
   "outputs": [
    {
     "name": "stderr",
     "output_type": "stream",
     "text": [
      "/Users/yusuf/miniconda3/envs/torch/lib/python3.9/site-packages/Bio/Entrez/__init__.py:694: UserWarning: \n",
      "            Email address is not specified.\n",
      "\n",
      "            To make use of NCBI's E-utilities, NCBI requires you to specify your\n",
      "            email address with each request.  As an example, if your email address\n",
      "            is A.N.Other@example.com, you can specify it as follows:\n",
      "               from Bio import Entrez\n",
      "               Entrez.email = 'A.N.Other@example.com'\n",
      "            In case of excessive usage of the E-utilities, NCBI will attempt to contact\n",
      "            a user at the email address provided before blocking access to the\n",
      "            E-utilities.\n",
      "  warnings.warn(\n"
     ]
    },
    {
     "name": "stdout",
     "output_type": "stream",
     "text": [
      "642 data for 1/2013-3/2013\n",
      "Newly saved data: 625; Total saved data: 625\n",
      "448 data for 4/2013-6/2013\n",
      "Newly saved data: 349; Total saved data: 974\n",
      "513 data for 7/2013-9/2013\n",
      "Newly saved data: 361; Total saved data: 1335\n",
      "513 data for 10/2013-12/2013\n",
      "Newly saved data: 285; Total saved data: 1620\n",
      "789 data for 1/2014-3/2014\n",
      "Newly saved data: 599; Total saved data: 2219\n",
      "469 data for 4/2014-6/2014\n",
      "Newly saved data: 295; Total saved data: 2514\n",
      "484 data for 7/2014-9/2014\n",
      "Newly saved data: 302; Total saved data: 2816\n",
      "512 data for 10/2014-12/2014\n",
      "Newly saved data: 307; Total saved data: 3123\n",
      "857 data for 1/2015-3/2015\n",
      "Newly saved data: 658; Total saved data: 3781\n",
      "539 data for 4/2015-6/2015\n",
      "Newly saved data: 314; Total saved data: 4095\n",
      "546 data for 7/2015-9/2015\n",
      "Newly saved data: 323; Total saved data: 4418\n",
      "524 data for 10/2015-12/2015\n",
      "Newly saved data: 320; Total saved data: 4738\n",
      "827 data for 1/2016-3/2016\n",
      "Newly saved data: 620; Total saved data: 5358\n",
      "544 data for 4/2016-6/2016\n",
      "Newly saved data: 319; Total saved data: 5677\n",
      "571 data for 7/2016-9/2016\n",
      "Newly saved data: 375; Total saved data: 6052\n",
      "616 data for 10/2016-12/2016\n",
      "Newly saved data: 329; Total saved data: 6381\n",
      "897 data for 1/2017-3/2017\n",
      "Newly saved data: 680; Total saved data: 7061\n",
      "634 data for 4/2017-6/2017\n",
      "Newly saved data: 396; Total saved data: 7457\n",
      "645 data for 7/2017-9/2017\n",
      "Newly saved data: 389; Total saved data: 7846\n",
      "714 data for 10/2017-12/2017\n",
      "Newly saved data: 460; Total saved data: 8306\n",
      "1232 data for 1/2018-3/2018\n",
      "Newly saved data: 929; Total saved data: 9235\n",
      "881 data for 4/2018-6/2018\n",
      "Newly saved data: 529; Total saved data: 9764\n",
      "966 data for 7/2018-9/2018\n",
      "Newly saved data: 575; Total saved data: 10339\n",
      "1076 data for 10/2018-12/2018\n",
      "Newly saved data: 671; Total saved data: 11010\n",
      "1712 data for 1/2019-3/2019\n",
      "Newly saved data: 1287; Total saved data: 12297\n",
      "1325 data for 4/2019-6/2019\n",
      "Newly saved data: 781; Total saved data: 13078\n",
      "1512 data for 7/2019-9/2019\n",
      "Newly saved data: 931; Total saved data: 14009\n",
      "1588 data for 10/2019-12/2019\n",
      "Newly saved data: 989; Total saved data: 14998\n",
      "2669 data for 1/2020-3/2020\n",
      "Newly saved data: 2007; Total saved data: 17005\n",
      "2090 data for 4/2020-6/2020\n",
      "Newly saved data: 1376; Total saved data: 18381\n",
      "2452 data for 7/2020-9/2020\n",
      "Newly saved data: 1551; Total saved data: 19932\n",
      "2621 data for 10/2020-12/2020\n",
      "Newly saved data: 1628; Total saved data: 21560\n",
      "4534 data for 1/2021-3/2021\n",
      "Newly saved data: 3560; Total saved data: 25120\n",
      "3022 data for 4/2021-6/2021\n",
      "Newly saved data: 1870; Total saved data: 26990\n",
      "3281 data for 7/2021-9/2021\n",
      "Newly saved data: 2010; Total saved data: 29000\n",
      "3498 data for 10/2021-12/2021\n",
      "Newly saved data: 2129; Total saved data: 31129\n",
      "6737 data for 1/2022-3/2022\n",
      "Newly saved data: 5348; Total saved data: 36477\n",
      "4069 data for 4/2022-6/2022\n",
      "Newly saved data: 2314; Total saved data: 38791\n",
      "4288 data for 7/2022-9/2022\n",
      "Newly saved data: 2418; Total saved data: 41209\n",
      "4376 data for 10/2022-12/2022\n",
      "Newly saved data: 2647; Total saved data: 43856\n",
      "6751 data for 1/2023-3/2023\n",
      "Newly saved data: 5096; Total saved data: 48952\n",
      "4968 data for 4/2023-6/2023\n",
      "Newly saved data: 3120; Total saved data: 52072\n",
      "5604 data for 7/2023-9/2023\n",
      "Newly saved data: 3466; Total saved data: 55538\n",
      "5595 data for 10/2023-12/2023\n",
      "Newly saved data: 3301; Total saved data: 58839\n"
     ]
    }
   ],
   "source": [
    "\n",
    "pmid_list = []\n",
    "title_list = []\n",
    "abstract_list =[]\n",
    "author_list = []\n",
    "date_list = []\n",
    "doi_list = []\n",
    "saved_data_cnt = 0\n",
    "for year in range(2013, 2024):\n",
    "    for quartal in range(4):\n",
    "        month_start, month_end = (quartal) * 3 + 1, ((quartal)) * 3 + 3\n",
    "        query = f\"intelligence[Title/Abstract] AND (\\\"{year}/{month_start}\\\"[Date - Publication] : \\\"{year}/{month_end}\\\"[Date - Publication])\"\n",
    "        handle = Entrez.esearch(db='pubmed', retmax=10000, retmode='xml', term=query)\n",
    "        studies = Entrez.read(handle)\n",
    "        print(f\"{studies['Count']} data for {month_start}/{year}-{month_end}/{year}\")\n",
    "        studiesIdList = studies['IdList']\n",
    "        papers = fetch_details(studiesIdList)\n",
    "        save_data_to_lists(papers, pmid_list, title_list, abstract_list, author_list, date_list, doi_list)\n",
    "        print(f\"Newly saved data: {len(pmid_list)-saved_data_cnt}; Total saved data: {len(pmid_list)}\")\n",
    "        saved_data_cnt = len(pmid_list)"
   ],
   "metadata": {
    "collapsed": false,
    "ExecuteTime": {
     "end_time": "2024-01-03T19:44:19.574186Z",
     "start_time": "2024-01-03T19:32:17.431585Z"
    }
   },
   "id": "4b571aad75430530"
  },
  {
   "cell_type": "code",
   "execution_count": 5,
   "outputs": [],
   "source": [
    "# Create DataFrame\n",
    "df = pd.DataFrame({\n",
    "    'PMID': pmid_list,\n",
    "    'Title': title_list,\n",
    "    'Abstract': abstract_list,\n",
    "    'Authors': author_list,\n",
    "    'Publication Date': date_list,\n",
    "    'DOI': doi_list\n",
    "})"
   ],
   "metadata": {
    "collapsed": false,
    "ExecuteTime": {
     "end_time": "2024-01-03T19:44:19.618150Z",
     "start_time": "2024-01-03T19:44:19.585307Z"
    }
   },
   "id": "6c896edd0c1f1b2"
  },
  {
   "cell_type": "code",
   "execution_count": 6,
   "outputs": [
    {
     "name": "stdout",
     "output_type": "stream",
     "text": [
      "<class 'pandas.core.frame.DataFrame'>\n",
      "RangeIndex: 58839 entries, 0 to 58838\n",
      "Data columns (total 6 columns):\n",
      " #   Column            Non-Null Count  Dtype \n",
      "---  ------            --------------  ----- \n",
      " 0   PMID              58839 non-null  object\n",
      " 1   Title             58839 non-null  object\n",
      " 2   Abstract          58839 non-null  object\n",
      " 3   Authors           58839 non-null  object\n",
      " 4   Publication Date  58839 non-null  object\n",
      " 5   DOI               58839 non-null  object\n",
      "dtypes: object(6)\n",
      "memory usage: 2.7+ MB\n"
     ]
    }
   ],
   "source": [
    "df.info()"
   ],
   "metadata": {
    "collapsed": false,
    "ExecuteTime": {
     "end_time": "2024-01-03T19:44:19.669250Z",
     "start_time": "2024-01-03T19:44:19.650986Z"
    }
   },
   "id": "cf1442554fee9cc3"
  },
  {
   "cell_type": "code",
   "execution_count": 7,
   "outputs": [
    {
     "data": {
      "text/plain": "       PMID                                              Title  \\\n0  24645995  α-1 antitrypsin and chronic fatigue syndrome: ...   \n1  24565439          A data-driven acute inflammation therapy.   \n2  24505723  Voxelwise spectral diffusional connectivity an...   \n3  24472488  Systems integrity in health and aging - an ani...   \n4  24460364  Multi-agent systems: effective approach for ca...   \n\n                                            Abstract  \\\n0  SUMMARY  Several lines of evidence support the...   \n1  Acute inflammation is a severe medical conditi...   \n2  Human brain connectivity can be studied using ...   \n3  Human lifespan is positively correlated with c...   \n4  Physicians, in order to study the causes of ca...   \n\n                                             Authors Publication Date  \\\n0  José Alegre; Sandra Camprubí; Ana García-Quintana                    \n1  Vladan Radosavljevic; Kosta Ristovski; Zoran O...       2013-11-11   \n2  Junning Li; Yan Jin; Yonggang Shi; Ivo D Dinov...                    \n3                     Marije Oostindjer; Gro V Amdam       2013-01-07   \n4  Niloofar Mohammadzadeh; Reza Safdari; Azin Rahimi                    \n\n                             DOI  \n0              10.2217/pmt.12.84  \n1      10.1186/1755-8794-6-S3-S7  \n2   10.1007/978-3-642-40811-3_82  \n3          10.1186/2046-2395-2-2  \n4  10.7314/apjcp.2013.14.12.7757  ",
      "text/html": "<div>\n<style scoped>\n    .dataframe tbody tr th:only-of-type {\n        vertical-align: middle;\n    }\n\n    .dataframe tbody tr th {\n        vertical-align: top;\n    }\n\n    .dataframe thead th {\n        text-align: right;\n    }\n</style>\n<table border=\"1\" class=\"dataframe\">\n  <thead>\n    <tr style=\"text-align: right;\">\n      <th></th>\n      <th>PMID</th>\n      <th>Title</th>\n      <th>Abstract</th>\n      <th>Authors</th>\n      <th>Publication Date</th>\n      <th>DOI</th>\n    </tr>\n  </thead>\n  <tbody>\n    <tr>\n      <th>0</th>\n      <td>24645995</td>\n      <td>α-1 antitrypsin and chronic fatigue syndrome: ...</td>\n      <td>SUMMARY  Several lines of evidence support the...</td>\n      <td>José Alegre; Sandra Camprubí; Ana García-Quintana</td>\n      <td></td>\n      <td>10.2217/pmt.12.84</td>\n    </tr>\n    <tr>\n      <th>1</th>\n      <td>24565439</td>\n      <td>A data-driven acute inflammation therapy.</td>\n      <td>Acute inflammation is a severe medical conditi...</td>\n      <td>Vladan Radosavljevic; Kosta Ristovski; Zoran O...</td>\n      <td>2013-11-11</td>\n      <td>10.1186/1755-8794-6-S3-S7</td>\n    </tr>\n    <tr>\n      <th>2</th>\n      <td>24505723</td>\n      <td>Voxelwise spectral diffusional connectivity an...</td>\n      <td>Human brain connectivity can be studied using ...</td>\n      <td>Junning Li; Yan Jin; Yonggang Shi; Ivo D Dinov...</td>\n      <td></td>\n      <td>10.1007/978-3-642-40811-3_82</td>\n    </tr>\n    <tr>\n      <th>3</th>\n      <td>24472488</td>\n      <td>Systems integrity in health and aging - an ani...</td>\n      <td>Human lifespan is positively correlated with c...</td>\n      <td>Marije Oostindjer; Gro V Amdam</td>\n      <td>2013-01-07</td>\n      <td>10.1186/2046-2395-2-2</td>\n    </tr>\n    <tr>\n      <th>4</th>\n      <td>24460364</td>\n      <td>Multi-agent systems: effective approach for ca...</td>\n      <td>Physicians, in order to study the causes of ca...</td>\n      <td>Niloofar Mohammadzadeh; Reza Safdari; Azin Rahimi</td>\n      <td></td>\n      <td>10.7314/apjcp.2013.14.12.7757</td>\n    </tr>\n  </tbody>\n</table>\n</div>"
     },
     "execution_count": 7,
     "metadata": {},
     "output_type": "execute_result"
    }
   ],
   "source": [
    "df.head()"
   ],
   "metadata": {
    "collapsed": false,
    "ExecuteTime": {
     "end_time": "2024-01-03T19:44:19.706610Z",
     "start_time": "2024-01-03T19:44:19.658644Z"
    }
   },
   "id": "c15c88a339f7cfe4"
  },
  {
   "cell_type": "code",
   "execution_count": 8,
   "outputs": [],
   "source": [
    "# Save the data to a CSV file\n",
    "df.to_csv('pubmed_data.csv', index=False)"
   ],
   "metadata": {
    "collapsed": false,
    "ExecuteTime": {
     "end_time": "2024-01-03T19:44:21.256426Z",
     "start_time": "2024-01-03T19:44:19.665933Z"
    }
   },
   "id": "71318e12e49e719d"
  }
 ],
 "metadata": {
  "kernelspec": {
   "display_name": "Python 3",
   "language": "python",
   "name": "python3"
  },
  "language_info": {
   "codemirror_mode": {
    "name": "ipython",
    "version": 2
   },
   "file_extension": ".py",
   "mimetype": "text/x-python",
   "name": "python",
   "nbconvert_exporter": "python",
   "pygments_lexer": "ipython2",
   "version": "2.7.6"
  }
 },
 "nbformat": 4,
 "nbformat_minor": 5
}
