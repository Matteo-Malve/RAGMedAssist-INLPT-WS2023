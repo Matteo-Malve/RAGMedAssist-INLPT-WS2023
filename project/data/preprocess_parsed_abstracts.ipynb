{
 "cells": [
  {
   "cell_type": "code",
   "execution_count": 11,
   "metadata": {},
   "outputs": [],
   "source": [
    "import pandas as pd\n",
    "import re"
   ]
  },
  {
   "cell_type": "code",
   "execution_count": 19,
   "metadata": {},
   "outputs": [],
   "source": [
    "df = pd.read_csv('parsed_abstracts.csv')\n",
    "\n",
    "# Set display options\n",
    "pd.set_option('display.max_columns', None)\n",
    "pd.set_option('display.max_colwidth', None) "
   ]
  },
  {
   "cell_type": "code",
   "execution_count": 20,
   "metadata": {},
   "outputs": [
    {
     "name": "stdout",
     "output_type": "stream",
     "text": [
      "   Unnamed: 0      PMID         Date  \\\n",
      "0           0  38097753  2023 Dec 14   \n",
      "1           1  38097750  2023 Dec 14   \n",
      "2           2  38097728  2023 Dec 15   \n",
      "\n",
      "                                                                              Title  \\\n",
      "0  From the diagnosis of infectious keratitis to discriminating fungal subtypes; a    \n",
      "1        Development and evaluation of a program based on a generative pre-trained    \n",
      "2      Artificial intelligence for X-ray scaphoid fracture detection: a systematic    \n",
      "\n",
      "                                                                                                                                                                                                                                                                                                                                                                                                                                                                                                                                                                                                                                                                                                                                                                                                                                                                                                                                                                                                                                                                                                                                                                                                                                                                                                                                                                                                                                                                                                                                                                                                                                                                                                                                                                                                                                                                                                                                                                                                                                                                                                                                                                                                                                                                                                                                                                                                                Abstract  \\\n",
      "0                                                                                                                                                                                                                                                                                                                                                                                                                                                                                                                                                                                                                                                                                                                                                                                                                                                                                                                                                                                                                               Infectious keratitis (IK) is a major cause of corneal opacity. IK can be caused  by a variety of microorganisms. Typically, fungal ulcers carry the worst  prognosis. Fungal cases can be subdivided into filamentous and yeasts, which  shows fundamental differences. Delays in diagnosis or initiation of treatment  increase the risk of ocular complications. Currently, the diagnosis of IK is  mainly based on slit-lamp examination and corneal scrapings. Notably, these  diagnostic methods have their drawbacks, including experience-dependency, tissue  damage, and time consumption. Artificial intelligence (AI) is designed to mimic  and enhance human decision-making. An increasing number of studies have utilized  AI in the diagnosis of IK. In this paper, we propose to use AI to diagnose IK  (model 1), differentiate between bacterial keratitis and fungal keratitis (model  2), and discriminate the filamentous type from the yeast type of fungal cases  (model 3). Overall, 9329 slit-lamp photographs gathered from 977 patients were  enrolled in the study. The models exhibited remarkable accuracy, with model 1  achieving 99.3%, model 2 at 84%, and model 3 reaching 77.5%. In conclusion, our  study offers valuable support in the early identification of potential fungal and  bacterial keratitis cases and helps enable timely management.   \n",
      "1                                                                                                                                                                     BACKGROUND: Post-procedural quality control of endoscopic submucosal dissection  (ESD) is emphasized in guidelines. However, this process can be tedious and  time-consuming. Recently, a pre-training model called generative pre-trained  transformer (GPT) on a public natural language processing platform has emerged  and garnered significant attention, whose capabilities align well with the  post-procedural quality control process and have the potential to streamline it.  Therefore, we developed a simple program utilizing this platform and evaluated  its performance. METHODS: Esophageal ESDs were retrospectively included. The  manual quality control process was performed and act as reference standard. GPT's  prompt was optimized through multiple iterations. A Python program was developed  to automatically submit prompt with pathological report of each ESD procedure and  collect quality control information provided by GPT. Its performance on quality  control was evaluated with accuracy, precision, recall, and F-1 score. RESULTS:  165 cases were involved into the dataset, of which 5 were utilized as the prompt  optimization dataset and 160 as the validation dataset. Definitive prompt was  achieved through seven iterations. Time spent on the validation dataset by GPT  was 13.47 ± 2.43 min. Accuracies of pathological diagnosis, invasion depth,  horizontal margin, vertical margin, vascular invasion, and lymphatic invasion of  the quality control program were (0.940, 0.952) (95% CI), (0.925, 0.945) (95%  CI), 0.931, 1.0, and 1.0, respectively. Precisions were (0.965, 0.969) (95% CI),  (0.934, 0.954) (95% CI), and 0.957 for pathological diagnosis, invasion depth,  and horizontal margin, respectively. Recalls were (0.940, 0.952) (95% CI),  (0.925, 0.945) (95% CI), and 0.931 for factors as mentioned, respectively.  F1-score were (0.945, 0.957) (95% CI), (0.928, 0.948) (95% CI), and 0.941 for  factors as mentioned, respectively. CONCLUSIONS: This quality control program was  qualified of post-procedural quality control of esophageal ESDs. GPT can be  easily applied to this quality control process and reduce workload of the  endoscopists.   \n",
      "2  OBJECTIVES: Scaphoid fractures are usually diagnosed using X-rays, a  low-sensitivity modality. Artificial intelligence (AI) using Convolutional Neural  Networks (CNNs) has been explored for diagnosing scaphoid fractures in X-rays.  The aim of this systematic review and meta-analysis is to evaluate the use of AI  for detecting scaphoid fractures on X-rays and analyze its accuracy and  usefulness. MATERIALS AND METHODS: This study followed the guidelines of  Preferred Reporting Items for Systematic Reviews and Meta-analyses (PRISMA) and  PRISMA-Diagnostic Test Accuracy. A literature search was conducted in the PubMed  database for original articles published until July 2023. The risk of bias and  applicability were evaluated using the QUADAS-2 tool. A bivariate diagnostic  random-effects meta-analysis was conducted, and the results were analyzed using  the Summary Receiver Operating Characteristic (SROC) curve. RESULTS: Ten studies  met the inclusion criteria and were all retrospective. The AI's diagnostic  performance for detecting scaphoid fractures ranged from AUC 0.77 to 0.96. Seven  studies were included in the meta-analysis, with a total of 3373 images. The  meta-analysis pooled sensitivity and specificity were 0.80 and 0.89,  respectively. The meta-analysis overall AUC was 0.88. The QUADAS-2 tool found  high risk of bias and concerns about applicability in 9 out of 10 studies.  CONCLUSIONS: The current results of AI's diagnostic performance for detecting  scaphoid fractures in X-rays show promise. The results show high overall  sensitivity and specificity and a high SROC result. Further research is needed to  compare AI's diagnostic performance to human diagnostic performance in a clinical  setting. CLINICAL RELEVANCE STATEMENT: Scaphoid fractures are prone to be missed  secondary to assessment with a low sensitivity modality and a high occult  fracture rate. AI systems can be beneficial for clinicians and radiologists to  facilitate early diagnosis, and avoid missed injuries. KEY POINTS: • Scaphoid  fractures are common and some can be easily missed in X-rays. • Artificial  intelligence (AI) systems demonstrate high diagnostic performance for the  diagnosis of scaphoid fractures in X-rays. • AI systems can be beneficial in  diagnosing both obvious and occult scaphoid fractures.   \n",
      "\n",
      "                                                                                                                                                                                                                       Authors  \\\n",
      "0  Soleimani, Mohammad; Esmaili, Kosar; Rahdar, Amir; Aminizadeh, Mehdi; Cheraqpour, Kasra; Tabatabaei, Seyed Ali; Mirshahi, Reza; Bibak, Zahra; Mohammadi, Seyed Farzad; Koganti, Raghuram; Yousefi, Siamak; Djalilian, Ali R   \n",
      "1                                                                                                                                    Ma, Huaiyuan; Ma, Xingbin; Yang, Chunxiao; Niu, Qiong; Gao, Tao; Liu, Chengxia; Chen, Yan   \n",
      "2                                                                                                                                                              Kraus, Matan; Anteby, Roi; Konen, Eli; Eshed, Iris; Klang, Eyal   \n",
      "\n",
      "                          DOI  \n",
      "0  10.1038/s41598-023-49635-8  \n",
      "1  10.1007/s00464-023-10620-x  \n",
      "2  10.1007/s00330-023-10473-x  \n"
     ]
    }
   ],
   "source": [
    "print(df.head(3))  # View the first few rows"
   ]
  },
  {
   "cell_type": "code",
   "execution_count": 6,
   "metadata": {},
   "outputs": [
    {
     "name": "stdout",
     "output_type": "stream",
     "text": [
      "Index(['Unnamed: 0', 'PMID', 'Date', 'Title', 'DOI', 'Abstract', 'Authors'], dtype='object')\n"
     ]
    }
   ],
   "source": [
    "print(df.columns)  # Check all column names"
   ]
  },
  {
   "cell_type": "code",
   "execution_count": null,
   "metadata": {},
   "outputs": [],
   "source": [
    "# df = df[['abstract', 'authors', 'year', ...]]  # Replace with actual column names\n",
    "\n",
    "# print(df.isnull().sum())  # Check for missing values\n",
    "# df = df.dropna(subset=['abstract'])  # Drop rows where 'abstract' is missing\n",
    "\n",
    "# # Clean data: remove special characters, convert text to lowercase\n",
    "# df['abstract'] = df['abstract'].str.replace('[^a-zA-Z]', ' ').str.lower()\n",
    "\n",
    "# # Save file\n",
    "# df.to_csv('processed_dataset.csv', index=False)"
   ]
  }
 ],
 "metadata": {
  "kernelspec": {
   "display_name": "nlp-transformers",
   "language": "python",
   "name": "python3"
  },
  "language_info": {
   "codemirror_mode": {
    "name": "ipython",
    "version": 3
   },
   "file_extension": ".py",
   "mimetype": "text/x-python",
   "name": "python",
   "nbconvert_exporter": "python",
   "pygments_lexer": "ipython3",
   "version": "3.10.13"
  }
 },
 "nbformat": 4,
 "nbformat_minor": 2
}
