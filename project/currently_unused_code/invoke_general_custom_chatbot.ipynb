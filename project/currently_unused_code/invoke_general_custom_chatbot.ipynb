{
 "cells": [
  {
   "cell_type": "code",
   "execution_count": 1,
   "metadata": {},
   "outputs": [],
   "source": [
    "from general_custom_chatbot import import_necessary_modules,MedicalChatbot\n",
    "import_necessary_modules()\n",
    "from langchain.prompts import PromptTemplate"
   ]
  },
  {
   "cell_type": "code",
   "execution_count": 2,
   "metadata": {},
   "outputs": [],
   "source": [
    "chatbot = MedicalChatbot(llm_model_name=\"/Users/matteom/Library/Application Support/nomic.ai/GPT4All/mistral-7b-instruct-v0.1.Q4_0.gguf\",\n",
    "                         init_all=True)"
   ]
  },
  {
   "cell_type": "code",
   "execution_count": 3,
   "metadata": {},
   "outputs": [
    {
     "data": {
      "text/markdown": [
       "<span style='color:blue'><b>Does tick-borne encephalitis carry a high risk of incomplete recovery in children?</b></span>"
      ],
      "text/plain": [
       "<IPython.core.display.Markdown object>"
      ]
     },
     "metadata": {},
     "output_type": "display_data"
    },
    {
     "data": {
      "text/markdown": [
       "<p>1. In this populationbased cohort study, two-thirds of the 55 children with TBE and central nervous system involvement infected during 20042008 experienced residual problems at longterm followup.\n",
       "        2. The main complaints were cognitive problems, headache, fatigue, and irritability.\n",
       "        3. More than one-third of the children were reported by parents or teachers to have problems with executive functioning on the Behavior Rating Inventory of Executive Functioning mainly in areas involving initiating and organizing activities and working memory.</p>"
      ],
      "text/plain": [
       "<IPython.core.display.Markdown object>"
      ]
     },
     "metadata": {},
     "output_type": "display_data"
    },
    {
     "data": {
      "text/markdown": [
       "<p>For more information, please refer to the following links:</p>"
      ],
      "text/plain": [
       "<IPython.core.display.Markdown object>"
      ]
     },
     "metadata": {},
     "output_type": "display_data"
    },
    {
     "data": {
      "text/markdown": [
       "<p><a href='https://doi.org/10.1016/j.jpeds.2013.01.037' target='_blank'>https://doi.org/10.1016/j.jpeds.2013.01.037</a></p>"
      ],
      "text/plain": [
       "<IPython.core.display.Markdown object>"
      ]
     },
     "metadata": {},
     "output_type": "display_data"
    },
    {
     "data": {
      "text/markdown": [
       "<p><a href='https://doi.org/10.1542/peds.2013-3010' target='_blank'>https://doi.org/10.1542/peds.2013-3010</a></p>"
      ],
      "text/plain": [
       "<IPython.core.display.Markdown object>"
      ]
     },
     "metadata": {},
     "output_type": "display_data"
    },
    {
     "data": {
      "text/markdown": [
       "<p><a href='https://doi.org/10.3389/fped.2021.646684' target='_blank'>https://doi.org/10.3389/fped.2021.646684</a></p>"
      ],
      "text/plain": [
       "<IPython.core.display.Markdown object>"
      ]
     },
     "metadata": {},
     "output_type": "display_data"
    }
   ],
   "source": [
    "# Question 1\n",
    "query = \"Does tick-borne encephalitis carry a high risk of incomplete recovery in children?\"\n",
    "chatbot.answer_the_user(query)"
   ]
  }
 ],
 "metadata": {
  "kernelspec": {
   "display_name": "torch",
   "language": "python",
   "name": "python3"
  },
  "language_info": {
   "codemirror_mode": {
    "name": "ipython",
    "version": 3
   },
   "file_extension": ".py",
   "mimetype": "text/x-python",
   "name": "python",
   "nbconvert_exporter": "python",
   "pygments_lexer": "ipython3",
   "version": "3.9.18"
  }
 },
 "nbformat": 4,
 "nbformat_minor": 2
}
