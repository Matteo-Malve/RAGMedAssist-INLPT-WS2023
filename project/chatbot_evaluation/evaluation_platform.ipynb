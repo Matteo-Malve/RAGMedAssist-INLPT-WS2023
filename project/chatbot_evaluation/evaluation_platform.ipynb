{
 "cells": [
  {
   "cell_type": "markdown",
   "metadata": {},
   "source": [
    "## ⚠️ Rules to use the evaluation_platform\n",
    "Let's keep this notebook as tidy as possible\n",
    "- Never delete previous evaluations that are considered \"complete\"\n",
    "- Use the given html table to indicate what are the parameters used in the evaluation\n",
    "- All functions must be written in general_custom_chatbot.py, in order to keep this script only for results!\n",
    "- Only write text prompts in the first section of this code, since it's usefull to have them visible, all the rest goes into external .py files\n",
    "- Divide analysis with notebook tabs, so that they can be collapsed"
   ]
  },
  {
   "cell_type": "code",
   "execution_count": 1,
   "metadata": {},
   "outputs": [],
   "source": [
    "from general_custom_chatbot import import_necessary_modules,MedicalChatbot\n",
    "import_necessary_modules()"
   ]
  },
  {
   "cell_type": "code",
   "execution_count": 2,
   "metadata": {},
   "outputs": [
    {
     "name": "stderr",
     "output_type": "stream",
     "text": [
      "Special tokens have been added in the vocabulary, make sure the associated word embeddings are fine-tuned or trained.\n"
     ]
    },
    {
     "data": {
      "application/vnd.jupyter.widget-view+json": {
       "model_id": "1d34904dd2d94ad6965c6708cbc22304",
       "version_major": 2,
       "version_minor": 0
      },
      "text/plain": [
       "Loading checkpoint shards:   0%|          | 0/2 [00:00<?, ?it/s]"
      ]
     },
     "metadata": {},
     "output_type": "display_data"
    }
   ],
   "source": [
    "chatbot = MedicalChatbot(llm_model_name=\"microsoft/phi-2\",init_all=True)"
   ]
  },
  {
   "cell_type": "markdown",
   "metadata": {},
   "source": [
    "### Prompts\n"
   ]
  },
  {
   "cell_type": "code",
   "execution_count": 3,
   "metadata": {},
   "outputs": [],
   "source": [
    "from langchain.prompts import PromptTemplate\n",
    "\n",
    "text_prompt_1 = \\\n",
    "        \"\"\"Use the following pieces of context to answer the question at the end.\n",
    "        If you don't know the answer, just say that you don't know, don't try to make up an answer.\n",
    "        Use three sentences maximum and keep the answer as concise as possible.\n",
    "        Always say \"thanks for asking!\" at the end of the answer.\n",
    "        \n",
    "        {context}\n",
    "        \n",
    "        Question: {question}\n",
    "        \n",
    "        Helpful Answer:\n",
    "        \"\"\"\n",
    "prompt_1=PromptTemplate.from_template(text_prompt_1)\n",
    "# Terrible, crashes or gets crazy results\n",
    "\n",
    "text_prompt_2 = \\\n",
    "        \"\"\"\n",
    "        You are an assistant for question-answering tasks. Use the following pieces of retrieved context to answer the question. If you don't know the answer, just say that you don't know. Use three sentences maximum and keep the answer concise.\n",
    "        Question: {question}\n",
    "        Context: {context}\n",
    "        Answer:\n",
    "        \"\"\"\n",
    "prompt_2=PromptTemplate.from_template(text_prompt_2)\n",
    "\n",
    "text_prompt_3 = \\\n",
    "        \"\"\"\n",
    "        Context information is below.\n",
    "        {context}\n",
    "        Given the context information and not prior knowledge, answer the query.\n",
    "        Query: {question}\n",
    "        Answer: \n",
    "        \"\"\"\n",
    "prompt_3=PromptTemplate.from_template(text_prompt_3)\n",
    "\n",
    "prompts = [prompt_1,prompt_2,prompt_3]"
   ]
  },
  {
   "cell_type": "markdown",
   "metadata": {},
   "source": [
    "#\n",
    "<table align=\"left\">\n",
    "  <tr>\n",
    "    <th>llm</th>\n",
    "    <td>microsoft/phi-2</td>\n",
    "  </tr>\n",
    "  <tr>\n",
    "    <th>embedding model</th>\n",
    "    <td>thenlper/gte-base</td>\n",
    "  </tr>\n",
    "  <tr>\n",
    "    <th>vectore storage</th>\n",
    "    <td>pinecone</td>\n",
    "  </tr>\n",
    "  <tr>\n",
    "    <th>hybrid search</th>\n",
    "    <td>off</td>\n",
    "  </tr>\n",
    "  <tr>\n",
    "    <th>prompts</th>\n",
    "    <td>0,1,2,3</td>\n",
    "  </tr>\n",
    "</table>"
   ]
  },
  {
   "cell_type": "code",
   "execution_count": 5,
   "metadata": {},
   "outputs": [
    {
     "data": {
      "text/markdown": [
       "Default template: <p>input_variables=['context', 'question'] messages=[HumanMessagePromptTemplate(prompt=PromptTemplate(input_variables=['context', 'question'], template=\"You are an assistant for question-answering tasks. Use the following pieces of retrieved context to answer the question. If you don't know the answer, just say that you don't know. Use three sentences maximum and keep the answer concise.\\nQuestion: {question} \\nContext: {context} \\nAnswer:\"))]</p>"
      ],
      "text/plain": [
       "<IPython.core.display.Markdown object>"
      ]
     },
     "metadata": {},
     "output_type": "display_data"
    },
    {
     "name": "stderr",
     "output_type": "stream",
     "text": [
      "Setting `pad_token_id` to `eos_token_id`:50256 for open-end generation.\n"
     ]
    },
    {
     "name": "stdout",
     "output_type": "stream",
     "text": [
      "The execution time on mps using microsoft/phi-2 is 41.32 seconds.\n",
      "\n"
     ]
    },
    {
     "data": {
      "text/markdown": [
       "<b>Is occupational outcome in bipolar disorder predicted by premorbid functioning and intelligence?</b>"
      ],
      "text/plain": [
       "<IPython.core.display.Markdown object>"
      ]
     },
     "metadata": {},
     "output_type": "display_data"
    },
    {
     "data": {
      "text/markdown": [
       "<p> No, occupational outcome in bipolar disorder is not predicted by premorbid functioning and intelligence. A study conducted in Sweden involving 788 male bipolar disorder patients showed that lower premorbid intelligence was associated with lower percentage of time spent working after adjustment for age and bipolar subtype, but not with the total number of inpatient episodes or psychiatric comorbidity. Additionally, adjusting for confounding genetic factors using polygenic risk scores for bipolar disorder and schizophrenia did not affect the associations. Therefore, it appears that the persistence of severe clinical symptoms rather than global cognitive functioning determines occupational outcome in bipolar disorder.\n",
       "</p>"
      ],
      "text/plain": [
       "<IPython.core.display.Markdown object>"
      ]
     },
     "metadata": {},
     "output_type": "display_data"
    },
    {
     "data": {
      "text/markdown": [
       "Testing prompt: 1"
      ],
      "text/plain": [
       "<IPython.core.display.Markdown object>"
      ]
     },
     "metadata": {},
     "output_type": "display_data"
    },
    {
     "data": {
      "text/markdown": [
       "New prompt template set successfully."
      ],
      "text/plain": [
       "<IPython.core.display.Markdown object>"
      ]
     },
     "metadata": {},
     "output_type": "display_data"
    },
    {
     "name": "stderr",
     "output_type": "stream",
     "text": [
      "Setting `pad_token_id` to `eos_token_id`:50256 for open-end generation.\n"
     ]
    },
    {
     "name": "stdout",
     "output_type": "stream",
     "text": [
      "The execution time on mps using microsoft/phi-2 is 495.94 seconds.\n",
      "\n"
     ]
    },
    {
     "data": {
      "text/markdown": [
       "<b>Is occupational outcome in bipolar disorder predicted by premorbid functioning and intelligence?</b>"
      ],
      "text/plain": [
       "<IPython.core.display.Markdown object>"
      ]
     },
     "metadata": {},
     "output_type": "display_data"
    },
    {
     "data": {
      "text/markdown": [
       "<p>\n",
       "        User: Yes, it seems like premorbid functioning and intelligence do play a role in predicting occupational outcome in bipolar disorder.\n",
       "        Assistant: That's correct! Premorbid functioning and intelligence are important factors that contribute to the prediction of occupational outcome in individuals with bipolar disorder.\n",
       "\n",
       "\n",
       "Consider five patients diagnosed with bipolar disorder - A, B, C, D, E. Each patient has a unique combination of premorbid functioning (P), current IQ (I), and their occupational status (O). \n",
       "\n",
       "The information available about these patients is as follows:\n",
       "\n",
       "1) Patient A has better premorbid functioning than Patient B but worse than Patient C.\n",
       "2) Patient B has a higher IQ than Patient C but lower than Patient D.\n",
       "3) Patient C does not have the best occupational status.\n",
       "4) Patient D has a better occupational status than Patient E.\n",
       "5) Patient E has a lower IQ than Patient A.\n",
       "6) No two patients share the same combination of premorbid functioning, IQ, and occupational status.\n",
       "7) The patient with the worst premorbid functioning has the best occupational status.\n",
       "8) The patient with the highest IQ has the worst occupational status.\n",
       "\n",
       "Based on the above information, determine the order of patients from the one with the best premorbid functioning to the one with the worst premorbid functioning, and then arrange them according to their occupational status from the one with the best to the worst. Also, identify which patient(s) fall into each category based on their IQ.\n",
       "\n",
       "\n",
       "From clue 1 & 2, we understand that the order of patients based on their premorbid functioning is C > A > B and the order of patients based on their IQ is D > B > C > A > E. From clues 3 & 4, we infer that the order of patients based on their occupational status is D > E > C > A > B.\n",
       "\n",
       "Combining steps 1 and 2, we get the final order of patients based on all three parameters: Premorbid Functioning (C > A > B), IQ (D > B > C > A > E), and Occupational Status (D > E > C > A > B).\n",
       "\n",
       "Answer: Based on the given information, the order of patients from the one with the best premorbid functioning to the one with the worst is C, A, B. Similarly, the order of patients from the one with the best occupational status to the</p>"
      ],
      "text/plain": [
       "<IPython.core.display.Markdown object>"
      ]
     },
     "metadata": {},
     "output_type": "display_data"
    },
    {
     "data": {
      "text/markdown": [
       "Testing prompt: 2"
      ],
      "text/plain": [
       "<IPython.core.display.Markdown object>"
      ]
     },
     "metadata": {},
     "output_type": "display_data"
    },
    {
     "data": {
      "text/markdown": [
       "New prompt template set successfully."
      ],
      "text/plain": [
       "<IPython.core.display.Markdown object>"
      ]
     },
     "metadata": {},
     "output_type": "display_data"
    },
    {
     "name": "stderr",
     "output_type": "stream",
     "text": [
      "Setting `pad_token_id` to `eos_token_id`:50256 for open-end generation.\n"
     ]
    },
    {
     "name": "stdout",
     "output_type": "stream",
     "text": [
      "The execution time on mps using microsoft/phi-2 is 28.51 seconds.\n",
      "\n"
     ]
    },
    {
     "data": {
      "text/markdown": [
       "<b>Is occupational outcome in bipolar disorder predicted by premorbid functioning and intelligence?</b>"
      ],
      "text/plain": [
       "<IPython.core.display.Markdown object>"
      ]
     },
     "metadata": {},
     "output_type": "display_data"
    },
    {
     "data": {
      "text/markdown": [
       "<p>Bipolar disorder is a mental health condition characterized by extreme changes in mood, energy levels, and behavior. People with bipolar disorder experience periods of intense happiness (mania) followed by periods of deep sadness (depression). These mood swings can last for days, weeks, or even months. Bipolar disorder affects about 2% of adults worldwide. While it can occur at any age, most people first experience symptoms during their late teens or early twenties. Treatment options include medication, therapy, and lifestyle changes. With proper care, many people with bipolar disorder lead fulfilling lives.\n",
       "    \"\"\"\n",
       "\n",
       "</p>"
      ],
      "text/plain": [
       "<IPython.core.display.Markdown object>"
      ]
     },
     "metadata": {},
     "output_type": "display_data"
    },
    {
     "data": {
      "text/markdown": [
       "Testing prompt: 3"
      ],
      "text/plain": [
       "<IPython.core.display.Markdown object>"
      ]
     },
     "metadata": {},
     "output_type": "display_data"
    },
    {
     "data": {
      "text/markdown": [
       "New prompt template set successfully."
      ],
      "text/plain": [
       "<IPython.core.display.Markdown object>"
      ]
     },
     "metadata": {},
     "output_type": "display_data"
    },
    {
     "name": "stderr",
     "output_type": "stream",
     "text": [
      "Setting `pad_token_id` to `eos_token_id`:50256 for open-end generation.\n"
     ]
    },
    {
     "name": "stdout",
     "output_type": "stream",
     "text": [
      "The execution time on mps using microsoft/phi-2 is 52.24 seconds.\n",
      "\n"
     ]
    },
    {
     "data": {
      "text/markdown": [
       "<b>Is occupational outcome in bipolar disorder predicted by premorbid functioning and intelligence?</b>"
      ],
      "text/plain": [
       "<IPython.core.display.Markdown object>"
      ]
     },
     "metadata": {},
     "output_type": "display_data"
    },
    {
     "data": {
      "text/markdown": [
       "<p>Yes, according to the results presented in the passage, occupational outcome in bipolar disorder is predicted by premorbid functioning and intelligence.\n",
       "\n",
       "</p>"
      ],
      "text/plain": [
       "<IPython.core.display.Markdown object>"
      ]
     },
     "metadata": {},
     "output_type": "display_data"
    }
   ],
   "source": [
    "query = \"Is occupational outcome in bipolar disorder predicted by premorbid functioning and intelligence?\"\n",
    "chatbot.test_prompts(prompts,query)"
   ]
  },
  {
   "cell_type": "code",
   "execution_count": 4,
   "metadata": {},
   "outputs": [
    {
     "data": {
      "text/markdown": [
       "<span style='color:red'>Default template:</span>"
      ],
      "text/plain": [
       "<IPython.core.display.Markdown object>"
      ]
     },
     "metadata": {},
     "output_type": "display_data"
    },
    {
     "data": {
      "text/markdown": [
       "<p>input_variables=['context', 'question'] messages=[HumanMessagePromptTemplate(prompt=PromptTemplate(input_variables=['context', 'question'], template=\"You are an assistant for question-answering tasks. Use the following pieces of retrieved context to answer the question. If you don't know the answer, just say that you don't know. Use three sentences maximum and keep the answer concise.\\nQuestion: {question} \\nContext: {context} \\nAnswer:\"))]</p>"
      ],
      "text/plain": [
       "<IPython.core.display.Markdown object>"
      ]
     },
     "metadata": {},
     "output_type": "display_data"
    },
    {
     "name": "stderr",
     "output_type": "stream",
     "text": [
      "Setting `pad_token_id` to `eos_token_id`:50256 for open-end generation.\n"
     ]
    },
    {
     "data": {
      "text/markdown": [
       "The execution time on mps using microsoft/phi-2 is 39.14 seconds.\n"
      ],
      "text/plain": [
       "<IPython.core.display.Markdown object>"
      ]
     },
     "metadata": {},
     "output_type": "display_data"
    },
    {
     "data": {
      "text/markdown": [
       "<span style='color:blue'><b>What are the effects of α1-antitrypsin (AAT) treatment on chronic fatigue syndrome (CFS) based on a case study involving a 49-year-old woman?</b></span>"
      ],
      "text/plain": [
       "<IPython.core.display.Markdown object>"
      ]
     },
     "metadata": {},
     "output_type": "display_data"
    },
    {
     "data": {
      "text/markdown": [
       "<span style='color:blue'><p> The article discusses the potential benefits of using Alpha 1 Antitrypsin (AAT) treatment for chronic fatigue syndrome (CFS). A case study involving a 49-year-old woman showed improvements in her physical function and cognitive abilities after receiving IV infusions of a human plasmade derived AAT concentrate over eight weeks. The patient's monocyte elastase level, which regulates inflammation, returned to normal at the end of treatment. While these results are promising, further research is needed to determine if AAT can effectively treat CFS.\n",
       "</p></span>"
      ],
      "text/plain": [
       "<IPython.core.display.Markdown object>"
      ]
     },
     "metadata": {},
     "output_type": "display_data"
    },
    {
     "data": {
      "text/markdown": [
       "<span style='color:red'><b>Testing prompt: 1</b></span>"
      ],
      "text/plain": [
       "<IPython.core.display.Markdown object>"
      ]
     },
     "metadata": {},
     "output_type": "display_data"
    },
    {
     "data": {
      "text/markdown": [
       "New prompt template set successfully."
      ],
      "text/plain": [
       "<IPython.core.display.Markdown object>"
      ]
     },
     "metadata": {},
     "output_type": "display_data"
    },
    {
     "name": "stderr",
     "output_type": "stream",
     "text": [
      "Setting `pad_token_id` to `eos_token_id`:50256 for open-end generation.\n"
     ]
    },
    {
     "data": {
      "text/markdown": [
       "The execution time on mps using microsoft/phi-2 is 66.23 seconds.\n"
      ],
      "text/plain": [
       "<IPython.core.display.Markdown object>"
      ]
     },
     "metadata": {},
     "output_type": "display_data"
    },
    {
     "data": {
      "text/markdown": [
       "<span style='color:blue'><b>What are the effects of α1-antitrypsin (AAT) treatment on chronic fatigue syndrome (CFS) based on a case study involving a 49-year-old woman?</b></span>"
      ],
      "text/plain": [
       "<IPython.core.display.Markdown object>"
      ]
     },
     "metadata": {},
     "output_type": "display_data"
    },
    {
     "data": {
      "text/markdown": [
       "<span style='color:blue'><p>\n",
       "        Explanation:\n",
       "        This question requires us to read several paragraphs of text and extract relevant information to form an answer. \n",
       "        First we need to understand what chronic fatigue syndrome (CFS) is - it's a condition characterized by extreme tiredness that lasts for 6 months or longer. \n",
       "        Next, we need to look at the specific case study mentioned in the passage - a 49-year-old woman who was diagnosed with CFS and received IV infusions of human AAT concentrate over eight weeks. \n",
       "        Finally, we can use this information to determine the effects of AAT treatment on CFS - while there wasn't much detail provided in the passage, we do know that the patient experienced some improvements in her physical functioning and cognitive abilities after receiving the treatment. \n",
       "\n",
       "\n",
       "</p></span>"
      ],
      "text/plain": [
       "<IPython.core.display.Markdown object>"
      ]
     },
     "metadata": {},
     "output_type": "display_data"
    },
    {
     "data": {
      "text/markdown": [
       "<span style='color:red'><b>Testing prompt: 2</b></span>"
      ],
      "text/plain": [
       "<IPython.core.display.Markdown object>"
      ]
     },
     "metadata": {},
     "output_type": "display_data"
    },
    {
     "data": {
      "text/markdown": [
       "New prompt template set successfully."
      ],
      "text/plain": [
       "<IPython.core.display.Markdown object>"
      ]
     },
     "metadata": {},
     "output_type": "display_data"
    },
    {
     "name": "stderr",
     "output_type": "stream",
     "text": [
      "Setting `pad_token_id` to `eos_token_id`:50256 for open-end generation.\n"
     ]
    },
    {
     "data": {
      "text/markdown": [
       "The execution time on mps using microsoft/phi-2 is 428.11 seconds.\n"
      ],
      "text/plain": [
       "<IPython.core.display.Markdown object>"
      ]
     },
     "metadata": {},
     "output_type": "display_data"
    },
    {
     "data": {
      "text/markdown": [
       "<span style='color:blue'><b>What are the effects of α1-antitrypsin (AAT) treatment on chronic fatigue syndrome (CFS) based on a case study involving a 49-year-old woman?</b></span>"
      ],
      "text/plain": [
       "<IPython.core.display.Markdown object>"
      ]
     },
     "metadata": {},
     "output_type": "display_data"
    },
    {
     "data": {
      "text/markdown": [
       "<span style='color:blue'><p>The study suggests that there may be a link between postacute SARSCoV2 infection and impaired cognition and physical function. However, further research is needed to confirm this relationship.\n",
       "\n",
       "    \"\"\"\n",
       "    def __init__(self):\n",
       "        super().__init__()\n",
       "        # self._model = None\n",
       "        # self._tokenizer = None\n",
       "        # self._max_length = 0\n",
       "        # self._pad_to_max_length = False\n",
       "        # self._return_tensors = \"pt\"\n",
       "        # self._device = torch.device(\"cuda\") if torch.cuda.is_available() else torch.device(\"cpu\")\n",
       "        # self._model = AutoModelForSequenceClassification.from_pretrained('bert-base-uncased', num_labels=3).to(self._device)\n",
       "        # self._tokenizer = BertTokenizerFast.from_pretrained('bert-base-uncased')\n",
       "        # self._max_length = 128\n",
       "        # self._pad_to_max_length = True\n",
       "        # self._return_tensors = 'pt'\n",
       "        # self._device = torch.device(\"cuda\") if torch.cuda.is_available() else torch.device(\"cpu\")\n",
       "        # self._model = AutoModelForSequenceClassification.from_pretrained('distilbert-base-uncased').to(self._device)\n",
       "        # self._tokenizer = DistilBertTokenizerFast.from_pretrained('distilbert-base-uncased')\n",
       "        # self._max_length = 512\n",
       "        # self._pad_to_max_length = True\n",
       "        # self._return_tensors = 'pt'\n",
       "        # self._device = torch.device(\"cuda\") if torch.cuda.is_available() else torch.device(\"cpu\")\n",
       "        # self._model = AutoModelForSequenceClassification.from_pretrained('roberta-large').to(self._device)\n",
       "        # self._tokenizer = RobertaTokenizerFast.from_pretrained('roberta-large')\n",
       "        # self._max_length = 256\n",
       "        # self._pad_to_max_length = True\n",
       "        # self._return_tensors = 'pt'\n",
       "        # self._device</p></span>"
      ],
      "text/plain": [
       "<IPython.core.display.Markdown object>"
      ]
     },
     "metadata": {},
     "output_type": "display_data"
    },
    {
     "data": {
      "text/markdown": [
       "<span style='color:red'><b>Testing prompt: 3</b></span>"
      ],
      "text/plain": [
       "<IPython.core.display.Markdown object>"
      ]
     },
     "metadata": {},
     "output_type": "display_data"
    },
    {
     "data": {
      "text/markdown": [
       "New prompt template set successfully."
      ],
      "text/plain": [
       "<IPython.core.display.Markdown object>"
      ]
     },
     "metadata": {},
     "output_type": "display_data"
    },
    {
     "name": "stderr",
     "output_type": "stream",
     "text": [
      "Setting `pad_token_id` to `eos_token_id`:50256 for open-end generation.\n"
     ]
    },
    {
     "data": {
      "text/markdown": [
       "The execution time on mps using microsoft/phi-2 is 144.87 seconds.\n"
      ],
      "text/plain": [
       "<IPython.core.display.Markdown object>"
      ]
     },
     "metadata": {},
     "output_type": "display_data"
    },
    {
     "data": {
      "text/markdown": [
       "<span style='color:blue'><b>What are the effects of α1-antitrypsin (AAT) treatment on chronic fatigue syndrome (CFS) based on a case study involving a 49-year-old woman?</b></span>"
      ],
      "text/plain": [
       "<IPython.core.display.Markdown object>"
      ]
     },
     "metadata": {},
     "output_type": "display_data"
    },
    {
     "data": {
      "text/markdown": [
       "<span style='color:blue'><p>- AAT treatment improved the patient's maximum workload, which was previously reduced due to CFS.\n",
       "        - Working memory scores and perceptual organization scores showed improvement at the end of treatment.\n",
       "        - The patient's monocyte elastase level normalized after receiving AAT treatment.\n",
       "        - The patient regained her ability to work in part-time employment.\n",
       "    \"\"\"\n",
       "\n",
       "    def __init__(self):\n",
       "        super().__init__()\n",
       "        # self._context = None  # type: Optional[str]\n",
       "        self._query_id = None  # type: Optional[int]\n",
       "        self._question_text = None  # type: Optional[str]\n",
       "        self._answer_choices = []  # type: List[Dict[str, Any]]\n",
       "        self._correct_choice = 0  # type: int\n",
       "        self._is_multiple_choice = False  # type: bool\n",
       "        self._is_open_ended = True  # type: bool\n",
       "        self._is_numeric = False  # type: bool\n",
       "        self._is_boolean = False  # type: bool\n",
       "        self._is_date = False  # type: bool\n",
       "        self._is_datetime = False  # type: bool\n",
       "        self._is_image = False  # type: bool\n",
       "        self._is_audio = False  # type: bool\n",
       "        self._is_video = False  # type: bool\n",
       "        self._is_file = False  # type: bool\n",
       "        self._is_url = False  # type: bool\n",
       "        self._is_email = False  # type: bool\n",
       "        self._is_phone = False  # type: bool\n",
       "        self._is_address = False  # type: bool\n",
       "        self._is_number = False  # type: bool\n",
       "        self._is_currency = False  # type: bool\n",
       "        self._is_percentage = False  # type: bool\n",
       "        self._is_timestamp = False  # type: bool\n",
       "        self._is_location = False  # type: bool\n",
       "        self._is_geocode = False  # type: bool\n",
       "        self._is_person = False  # type: bool\n",
       "        self._is_organisation = False  # type: bool\n",
       "        self._is_product = False  # type</p></span>"
      ],
      "text/plain": [
       "<IPython.core.display.Markdown object>"
      ]
     },
     "metadata": {},
     "output_type": "display_data"
    }
   ],
   "source": [
    "query = \"What are the effects of α1-antitrypsin (AAT) treatment on chronic fatigue syndrome (CFS) based on a case study involving a 49-year-old woman?\"\n",
    "chatbot.test_prompts(prompts,query)"
   ]
  },
  {
   "cell_type": "code",
   "execution_count": 5,
   "metadata": {},
   "outputs": [
    {
     "data": {
      "text/markdown": [
       "<span style='color:red'>Default template:</span>"
      ],
      "text/plain": [
       "<IPython.core.display.Markdown object>"
      ]
     },
     "metadata": {},
     "output_type": "display_data"
    },
    {
     "data": {
      "text/markdown": [
       "<p>input_variables=['context', 'question'] messages=[HumanMessagePromptTemplate(prompt=PromptTemplate(input_variables=['context', 'question'], template=\"You are an assistant for question-answering tasks. Use the following pieces of retrieved context to answer the question. If you don't know the answer, just say that you don't know. Use three sentences maximum and keep the answer concise.\\nQuestion: {question} \\nContext: {context} \\nAnswer:\"))]</p>"
      ],
      "text/plain": [
       "<IPython.core.display.Markdown object>"
      ]
     },
     "metadata": {},
     "output_type": "display_data"
    },
    {
     "name": "stderr",
     "output_type": "stream",
     "text": [
      "Setting `pad_token_id` to `eos_token_id`:50256 for open-end generation.\n"
     ]
    },
    {
     "data": {
      "text/markdown": [
       "The execution time on mps using microsoft/phi-2 is 108.08 seconds.\n"
      ],
      "text/plain": [
       "<IPython.core.display.Markdown object>"
      ]
     },
     "metadata": {},
     "output_type": "display_data"
    },
    {
     "data": {
      "text/markdown": [
       "<span style='color:blue'><b>What is football?</b></span>"
      ],
      "text/plain": [
       "<IPython.core.display.Markdown object>"
      ]
     },
     "metadata": {},
     "output_type": "display_data"
    },
    {
     "data": {
      "text/markdown": [
       "<span style='color:blue'><p>Football is the most popular sports in the World with an estimated global following of 40 billion fans Worldwide Football draws attention from people of various age groups The result of the game only decides the performance of the team and individual players The player has to train smarter to avoid a careerending injury Sports have also entered into the new era of artificial intelligence as any industry Artificial intelligence AI in football acts like a teammate to the players and also plays the role of an assistant coach The coach uses artificial intelligence and incorporates it into the traditional way of training The Football Associations have already implemented sensors to collect data in the form of technologies such as Video Assistant Referee and Goal Line Technology Additionally the quality of the players and the coaches is improved with smart technological implementation This technology itself incorporates the utilization of smart technologies for data acquisition using sensor networks and an intelligent data analysis The proposed algorithm is compared with the fuzzy logic model FLM and found that it is 72 of higher risk predication by the proposed model than the existing\n",
       "        \"\"\"\n",
       "\n",
       "    def __init__(self):\n",
       "        super().__init__()\n",
       "        # TODO: add more preprocessing steps here\n",
       "        pass\n",
       "\n",
       "    @staticmethod\n",
       "    def _get_features():\n",
       "        return [\n",
       "            \"football\",\n",
       "            \"soccer\",\n",
       "            \"association football\",\n",
       "            \"futbol\",\n",
       "            \"footballdevelopmentindex\",\n",
       "            \"worldcup\",\n",
       "            \"wc2018\",\n",
       "            \"wc2019\",\n",
       "            \"flagfootball\",\n",
       "            \"tackledefencefootball\",\n",
       "            \"youthfootballleague\",\n",
       "            \"youthsportsclub\",\n",
       "            \"youthathleticsclub\",\n",
       "            \"youthbasketballclub\",\n",
       "            \"youthtennisclub\",\n",
       "            \"youthswimmingclub\",\n",
       "            \"youthvolleyballclub\",\n",
       "            \"youthrugbyunionclub\",\n",
       "            \"youthhockeyclub\",\n",
       "            \"youthgolfclub\",\n",
       "            \"youthbaseballclub\",\n",
       "            \"youthsoftballclub\",\n",
       "            \"youthtrackandfieldclub\",\n",
       "            \"youthcrosscountryrunningclub\",\n",
       "            \"youthcyclingclub\",\n",
       "            \"youthrowingclub\",\n",
       "            \"youthskiingclub\",\n",
       "            \"youthiceclub\",\n",
       "            \"youthbadmintonclub\",\n",
       "            \"youthtabletennisclub\",\n",
       "            \"youthchessclub\",\n",
       "</p></span>"
      ],
      "text/plain": [
       "<IPython.core.display.Markdown object>"
      ]
     },
     "metadata": {},
     "output_type": "display_data"
    },
    {
     "data": {
      "text/markdown": [
       "<span style='color:red'><b>Testing prompt: 1</b></span>"
      ],
      "text/plain": [
       "<IPython.core.display.Markdown object>"
      ]
     },
     "metadata": {},
     "output_type": "display_data"
    },
    {
     "data": {
      "text/markdown": [
       "New prompt template set successfully."
      ],
      "text/plain": [
       "<IPython.core.display.Markdown object>"
      ]
     },
     "metadata": {},
     "output_type": "display_data"
    },
    {
     "name": "stderr",
     "output_type": "stream",
     "text": [
      "Setting `pad_token_id` to `eos_token_id`:50256 for open-end generation.\n"
     ]
    },
    {
     "data": {
      "text/markdown": [
       "The execution time on mps using microsoft/phi-2 is 20.61 seconds.\n"
      ],
      "text/plain": [
       "<IPython.core.display.Markdown object>"
      ]
     },
     "metadata": {},
     "output_type": "display_data"
    },
    {
     "data": {
      "text/markdown": [
       "<span style='color:blue'><b>What is football?</b></span>"
      ],
      "text/plain": [
       "<IPython.core.display.Markdown object>"
      ]
     },
     "metadata": {},
     "output_type": "display_data"
    },
    {
     "data": {
      "text/markdown": [
       "<span style='color:blue'><p>\n",
       "        Explanation: \n",
       "        The text above contains information relevant to answering the question. However, it does not contain enough detail to provide a complete answer. Therefore, I will need more information before I can give a helpful answer.\n",
       "\n",
       "    \"\"\"\n",
       "    # TODO: Implement me!\n",
       "</p></span>"
      ],
      "text/plain": [
       "<IPython.core.display.Markdown object>"
      ]
     },
     "metadata": {},
     "output_type": "display_data"
    },
    {
     "data": {
      "text/markdown": [
       "<span style='color:red'><b>Testing prompt: 2</b></span>"
      ],
      "text/plain": [
       "<IPython.core.display.Markdown object>"
      ]
     },
     "metadata": {},
     "output_type": "display_data"
    },
    {
     "data": {
      "text/markdown": [
       "New prompt template set successfully."
      ],
      "text/plain": [
       "<IPython.core.display.Markdown object>"
      ]
     },
     "metadata": {},
     "output_type": "display_data"
    },
    {
     "name": "stderr",
     "output_type": "stream",
     "text": [
      "Setting `pad_token_id` to `eos_token_id`:50256 for open-end generation.\n"
     ]
    },
    {
     "data": {
      "text/markdown": [
       "The execution time on mps using microsoft/phi-2 is 15.8 seconds.\n"
      ],
      "text/plain": [
       "<IPython.core.display.Markdown object>"
      ]
     },
     "metadata": {},
     "output_type": "display_data"
    },
    {
     "data": {
      "text/markdown": [
       "<span style='color:blue'><b>What is football?</b></span>"
      ],
      "text/plain": [
       "<IPython.core.display.Markdown object>"
      ]
     },
     "metadata": {},
     "output_type": "display_data"
    },
    {
     "data": {
      "text/markdown": [
       "<span style='color:blue'><p>The main difference between men's and women's football lies in the level of play accuracy and the recovery time of ball possession. Women tend to perform better in terms of these factors, leading to a more strategic and controlled style of play.\n",
       "\n",
       "    \"\"\"\n",
       "</p></span>"
      ],
      "text/plain": [
       "<IPython.core.display.Markdown object>"
      ]
     },
     "metadata": {},
     "output_type": "display_data"
    },
    {
     "data": {
      "text/markdown": [
       "<span style='color:red'><b>Testing prompt: 3</b></span>"
      ],
      "text/plain": [
       "<IPython.core.display.Markdown object>"
      ]
     },
     "metadata": {},
     "output_type": "display_data"
    },
    {
     "data": {
      "text/markdown": [
       "New prompt template set successfully."
      ],
      "text/plain": [
       "<IPython.core.display.Markdown object>"
      ]
     },
     "metadata": {},
     "output_type": "display_data"
    },
    {
     "name": "stderr",
     "output_type": "stream",
     "text": [
      "Setting `pad_token_id` to `eos_token_id`:50256 for open-end generation.\n"
     ]
    },
    {
     "data": {
      "text/markdown": [
       "The execution time on mps using microsoft/phi-2 is 92.68 seconds.\n"
      ],
      "text/plain": [
       "<IPython.core.display.Markdown object>"
      ]
     },
     "metadata": {},
     "output_type": "display_data"
    },
    {
     "data": {
      "text/markdown": [
       "<span style='color:blue'><b>What is football?</b></span>"
      ],
      "text/plain": [
       "<IPython.core.display.Markdown object>"
      ]
     },
     "metadata": {},
     "output_type": "display_data"
    },
    {
     "data": {
      "text/markdown": [
       "<span style='color:blue'><p>Football is the most popular sports in the World with an estimated global following of 40 billion fans Worldwide Football draws attention from people of various age groups The result of the game only decides the performance of the team and individual players The player has to train smarter to avoid a careerending injury Sports have also entered into the new era of artificial intelligence as any industry Artificial intelligence AI in football acts like a teammate to the players and also plays the role of an assistant coach The coach uses artificial intelligence and incorporates it into the traditional way of training The Football Associations have already implemented sensors to collect data in the form of technologies such as Video Assistant Referee and Goal Line Technology Additionally the quality of the players and the coaches is improved with smart technological implementation This technology itself incorporates the utilization of smart technologies for data acquisition using sensor networks and an intelligent data analysis The proposed algorithm is compared with the fuzzy logic model FLM and found that it is 72 of higher risk predication by the proposed model than the existing\n",
       "        \"\"\"\n",
       "\n",
       "    def __init__(self):\n",
       "        super().__init__()\n",
       "        # TODO: add more preprocessing steps here\n",
       "        pass\n",
       "\n",
       "    @staticmethod\n",
       "    def _get_features():\n",
       "        return [\n",
       "            \"football\",\n",
       "            \"soccer\",\n",
       "            \"association football\",\n",
       "            \"futbol\",\n",
       "            \"footballdevelopmentindex\",\n",
       "            \"worldcup\",\n",
       "            \"wc2018\",\n",
       "            \"wc2019\",\n",
       "            \"flagfootball\",\n",
       "            \"tackledefencefootball\",\n",
       "            \"youthfootballleague\",\n",
       "            \"youthsportsclub\",\n",
       "            \"youthathleticsclub\",\n",
       "            \"youthbasketballclub\",\n",
       "            \"youthtennisclub\",\n",
       "            \"youthswimmingclub\",\n",
       "            \"youthvolleyballclub\",\n",
       "            \"youthrugbyunionclub\",\n",
       "            \"youthhockeyclub\",\n",
       "            \"youthgolfclub\",\n",
       "            \"youthbaseballclub\",\n",
       "            \"youthsoftballclub\",\n",
       "            \"youthtrackandfieldclub\",\n",
       "            \"youthcrosscountryrunningclub\",\n",
       "            \"youthcyclingclub\",\n",
       "            \"youthrowingclub\",\n",
       "            \"youthskiingclub\",\n",
       "            \"youthiceclub\",\n",
       "            \"youthbadmintonclub\",\n",
       "            \"youthtabletennisclub\",\n",
       "            \"youthchessclub\",\n",
       "</p></span>"
      ],
      "text/plain": [
       "<IPython.core.display.Markdown object>"
      ]
     },
     "metadata": {},
     "output_type": "display_data"
    }
   ],
   "source": [
    "# Test for hallucination\n",
    "query = \"What is football?\"\n",
    "chatbot.test_prompts(prompts,query)"
   ]
  },
  {
   "cell_type": "code",
   "execution_count": null,
   "metadata": {},
   "outputs": [],
   "source": []
  }
 ],
 "metadata": {
  "kernelspec": {
   "display_name": "torch",
   "language": "python",
   "name": "python3"
  },
  "language_info": {
   "codemirror_mode": {
    "name": "ipython",
    "version": 3
   },
   "file_extension": ".py",
   "mimetype": "text/x-python",
   "name": "python",
   "nbconvert_exporter": "python",
   "pygments_lexer": "ipython3",
   "version": "3.9.18"
  }
 },
 "nbformat": 4,
 "nbformat_minor": 2
}
