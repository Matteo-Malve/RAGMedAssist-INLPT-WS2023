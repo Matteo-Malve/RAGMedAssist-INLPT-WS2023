{
 "cells": [
  {
   "cell_type": "code",
   "execution_count": 1,
   "metadata": {},
   "outputs": [],
   "source": [
    "from general_custom_chatbot import import_necessary_modules,MedicalChatbot\n",
    "import_necessary_modules()"
   ]
  },
  {
   "cell_type": "code",
   "execution_count": 2,
   "metadata": {},
   "outputs": [
    {
     "name": "stderr",
     "output_type": "stream",
     "text": [
      "Special tokens have been added in the vocabulary, make sure the associated word embeddings are fine-tuned or trained.\n"
     ]
    },
    {
     "data": {
      "application/vnd.jupyter.widget-view+json": {
       "model_id": "95a954b5683a4e5dabce7c9f061d1cbd",
       "version_major": 2,
       "version_minor": 0
      },
      "text/plain": [
       "Loading checkpoint shards:   0%|          | 0/2 [00:00<?, ?it/s]"
      ]
     },
     "metadata": {},
     "output_type": "display_data"
    }
   ],
   "source": [
    "chatbot = MedicalChatbot(llm_model_name=\"microsoft/phi-2\",init_all=True)"
   ]
  },
  {
   "cell_type": "markdown",
   "metadata": {},
   "source": [
    "### Prompt engineering\n",
    "To change the promt template simply use the set_prot_template() method of the MedicalChatbot class!\n"
   ]
  },
  {
   "cell_type": "code",
   "execution_count": 5,
   "metadata": {},
   "outputs": [],
   "source": [
    "from langchain.prompts import PromptTemplate\n",
    "\n",
    "text_prompt_1 = \\\n",
    "        \"\"\"Use the following pieces of context to answer the question at the end.\n",
    "        If you don't know the answer, just say that you don't know, don't try to make up an answer.\n",
    "        Use three sentences maximum and keep the answer as concise as possible.\n",
    "        Always say \"thanks for asking!\" at the end of the answer.\n",
    "        \n",
    "        {context}\n",
    "        \n",
    "        Question: {question}\n",
    "        \n",
    "        Helpful Answer:\n",
    "        \"\"\"\n",
    "prompt_1=PromptTemplate.from_template(text_prompt_1)\n",
    "\n",
    "text_prompt_2 = \\\n",
    "        \"\"\"\n",
    "        You are an assistant for question-answering tasks. Use the following pieces of retrieved context to answer the question. If you don't know the answer, just say that you don't know. Use three sentences maximum and keep the answer concise.\n",
    "        Question: {question}\n",
    "        Context: {context}\n",
    "        Answer:\n",
    "        \"\"\"\n",
    "prompt_2=PromptTemplate.from_template(text_prompt_2)\n",
    "\n",
    "text_prompt_3 = \\\n",
    "        \"\"\"\n",
    "        Context information is below.\n",
    "        {context}\n",
    "        Given the context information and not prior knowledge, answer the query.\n",
    "        Query: {question}\n",
    "        Answer: \n",
    "        \"\"\"\n",
    "prompt_3=PromptTemplate.from_template(text_prompt_3)"
   ]
  },
  {
   "cell_type": "markdown",
   "metadata": {},
   "source": [
    "Base prompt template"
   ]
  },
  {
   "cell_type": "code",
   "execution_count": 6,
   "metadata": {},
   "outputs": [
    {
     "name": "stderr",
     "output_type": "stream",
     "text": [
      "Setting `pad_token_id` to `eos_token_id`:50256 for open-end generation.\n"
     ]
    },
    {
     "name": "stdout",
     "output_type": "stream",
     "text": [
      "The execution time on mps using microsoft/phi-2 is 35.97 seconds.\n",
      "\n"
     ]
    },
    {
     "data": {
      "text/markdown": [
       "<b>Is occupational outcome in bipolar disorder predicted by premorbid functioning and intelligence?</b>"
      ],
      "text/plain": [
       "<IPython.core.display.Markdown object>"
      ]
     },
     "metadata": {},
     "output_type": "display_data"
    },
    {
     "data": {
      "text/markdown": [
       "<p> No, occupational outcome in bipolar disorder is not predicted by premorbid functioning and intelligence. A study conducted in Sweden involving 788 male bipolar disorder patients showed that lower premorbid intelligence was associated with lower percentage of time spent working after adjustment for age and bipolar subtype, but not with the total number of inpatient episodes or psychiatric comorbidity. Additionally, adjusting for confounding genetic factors using polygenic risk scores for bipolar disorder and schizophrenia did not affect the associations. Therefore, it appears that the persistence of severe clinical symptoms rather than global cognitive functioning determines occupational outcome in bipolar disorder.\n",
       "</p>"
      ],
      "text/plain": [
       "<IPython.core.display.Markdown object>"
      ]
     },
     "metadata": {},
     "output_type": "display_data"
    }
   ],
   "source": [
    "chatbot.init_prompt_template()\n",
    "query = \"Is occupational outcome in bipolar disorder predicted by premorbid functioning and intelligence?\"\n",
    "chatbot.generate_response_and_measure_time(query)"
   ]
  },
  {
   "cell_type": "code",
   "execution_count": null,
   "metadata": {},
   "outputs": [],
   "source": [
    "# Prompt 1\n",
    "chatbot.set_prompt_template(prompt_1)\n",
    "chatbot.generate_response_and_measure_time(query)"
   ]
  },
  {
   "cell_type": "markdown",
   "metadata": {},
   "source": [
    "Prompt 1 hallucinates or crashes"
   ]
  },
  {
   "cell_type": "code",
   "execution_count": 9,
   "metadata": {},
   "outputs": [
    {
     "name": "stdout",
     "output_type": "stream",
     "text": [
      "New prompt template set successfully\n",
      "New promt template reads: \n"
     ]
    },
    {
     "data": {
      "text/markdown": [
       "<p>input_variables=['context', 'question'] template=\"\\n        You are an assistant for question-answering tasks. Use the following pieces of retrieved context to answer the question. If you don't know the answer, just say that you don't know. Use three sentences maximum and keep the answer concise.\\n        Question: {question}\\n        Context: {context}\\n        Answer:\\n        \"</p>"
      ],
      "text/plain": [
       "<IPython.core.display.Markdown object>"
      ]
     },
     "metadata": {},
     "output_type": "display_data"
    },
    {
     "name": "stderr",
     "output_type": "stream",
     "text": [
      "Setting `pad_token_id` to `eos_token_id`:50256 for open-end generation.\n"
     ]
    },
    {
     "name": "stdout",
     "output_type": "stream",
     "text": [
      "The execution time on mps using microsoft/phi-2 is 36.5 seconds.\n",
      "\n"
     ]
    },
    {
     "data": {
      "text/markdown": [
       "<b>Is occupational outcome in bipolar disorder predicted by premorbid functioning and intelligence?</b>"
      ],
      "text/plain": [
       "<IPython.core.display.Markdown object>"
      ]
     },
     "metadata": {},
     "output_type": "display_data"
    },
    {
     "data": {
      "text/markdown": [
       "<p>Bipolar disorder is a mental health condition characterized by extreme changes in mood, energy levels, and behavior. People with bipolar disorder experience periods of intense happiness (mania) followed by periods of deep sadness (depression). These mood swings can last for days, weeks, or even months. Bipolar disorder affects about 2% of adults worldwide. While it can occur at any age, most people first experience symptoms during their late teens or early twenties. Treatment options include medication, therapy, and lifestyle changes. With proper care, many people with bipolar disorder lead full and productive lives.\n",
       "    \"\"\"\n",
       "\n",
       "</p>"
      ],
      "text/plain": [
       "<IPython.core.display.Markdown object>"
      ]
     },
     "metadata": {},
     "output_type": "display_data"
    }
   ],
   "source": [
    "# Prompt 2\n",
    "chatbot.set_prompt_template(prompt_2)\n",
    "chatbot.generate_response_and_measure_time(query)"
   ]
  },
  {
   "cell_type": "code",
   "execution_count": 10,
   "metadata": {},
   "outputs": [
    {
     "name": "stdout",
     "output_type": "stream",
     "text": [
      "New prompt template set successfully\n",
      "New promt template reads: \n"
     ]
    },
    {
     "data": {
      "text/markdown": [
       "<p>input_variables=['context', 'question'] template='\\n        Context information is below.\\n        {context}\\n        Given the context information and not prior knowledge, answer the query.\\n        Query: {question}\\n        Answer: \\n        '</p>"
      ],
      "text/plain": [
       "<IPython.core.display.Markdown object>"
      ]
     },
     "metadata": {},
     "output_type": "display_data"
    },
    {
     "name": "stderr",
     "output_type": "stream",
     "text": [
      "Setting `pad_token_id` to `eos_token_id`:50256 for open-end generation.\n"
     ]
    },
    {
     "name": "stdout",
     "output_type": "stream",
     "text": [
      "The execution time on mps using microsoft/phi-2 is 149.56 seconds.\n",
      "\n"
     ]
    },
    {
     "data": {
      "text/markdown": [
       "<b>Is occupational outcome in bipolar disorder predicted by premorbid functioning and intelligence?</b>"
      ],
      "text/plain": [
       "<IPython.core.display.Markdown object>"
      ]
     },
     "metadata": {},
     "output_type": "display_data"
    },
    {
     "data": {
      "text/markdown": [
       "<p>Yes, according to the results presented in the passage, occupational outcome in bipolar disorder is predicted by premorbid functioning and intelligence.\n",
       "\n",
       "</p>"
      ],
      "text/plain": [
       "<IPython.core.display.Markdown object>"
      ]
     },
     "metadata": {},
     "output_type": "display_data"
    }
   ],
   "source": [
    "# Prompt 3\n",
    "chatbot.set_prompt_template(prompt_3)\n",
    "chatbot.generate_response_and_measure_time(query)"
   ]
  }
 ],
 "metadata": {
  "kernelspec": {
   "display_name": "torch",
   "language": "python",
   "name": "python3"
  },
  "language_info": {
   "codemirror_mode": {
    "name": "ipython",
    "version": 3
   },
   "file_extension": ".py",
   "mimetype": "text/x-python",
   "name": "python",
   "nbconvert_exporter": "python",
   "pygments_lexer": "ipython3",
   "version": "3.9.18"
  }
 },
 "nbformat": 4,
 "nbformat_minor": 2
}
