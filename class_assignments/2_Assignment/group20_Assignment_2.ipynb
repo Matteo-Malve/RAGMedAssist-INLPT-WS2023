{
 "cells": [
  {
   "cell_type": "markdown",
   "metadata": {
    "cell_id": "93036b5344e3432db954b65809b32dfa",
    "deepnote_cell_type": "markdown",
    "id": "be9f7653"
   },
   "source": [
    "**Heidelberg University**\n",
    "\n",
    "**Data Science  Group**\n",
    "    \n",
    "Prof. Dr. Michael Gertz  \n",
    "\n",
    "Ashish Chouhan, Satya Almasian, John Ziegler, Jayson Salazar, Nicolas Reuter\n",
    "    \n",
    "November 13, 2023\n",
    "    \n",
    "Natural Language Processing with Transformers\n",
    "\n",
    "Winter Semster 2023/2024     \n",
    "***"
   ]
  },
  {
   "cell_type": "markdown",
   "metadata": {
    "cell_id": "b4834406a4e847f29929138fbd0a0a3b",
    "deepnote_cell_type": "markdown",
    "id": "258e9648"
   },
   "source": [
    "# **Assignment 2: “Sequence Models”**\n",
    "**Due**: Monday, November 27, 2pm, via [Moodle](https://moodle.uni-heidelberg.de/course/view.php?id=19251)\n",
    "\n"
   ]
  },
  {
   "cell_type": "markdown",
   "metadata": {},
   "source": [
    "Group 20\n",
    "\n",
    "| Nachname     | Vorname | Matrikelnummer     |\n",
    "|----------|-----|----------------|\n",
    "| Mathew Biju     | Ibin  | 3770662 |\n",
    "| Reddy    | Anu  | 3768482  |\n",
    "| Yilmaz      | Burhan Akin  | 4114082    |\n",
    "| Rijhwani      | Nilesh Parshotam  | 3771253    |"
   ]
  },
  {
   "cell_type": "markdown",
   "metadata": {
    "cell_id": "a15672d1e5fd440c9c0d245e7e3709fc",
    "deepnote_cell_type": "markdown",
    "id": "fc27ad9e"
   },
   "source": [
    "### **Submission Guidelines**\n",
    "\n",
    "- Solutions need to be uploaded as a **single** Jupyter notebook. You will find several pre-filled code segments in the notebook, your task is to fill in the missing cells.\n",
    "- For the written solution, use LaTeX in markdown inside the same notebook. Do **not** hand in a separate file for it.\n",
    "- Download the .zip file containing the dataset but do **not** upload it with your solution.\n",
    "- It is sufficient if one person per group uploads the solution to Moodle, but make sure that the complete names of all team members are given in the notebook.\n",
    "\n",
    "***"
   ]
  },
  {
   "cell_type": "markdown",
   "metadata": {
    "cell_id": "769c265f477b4814a9fcd612d7dbdbaf",
    "deepnote_cell_type": "markdown",
    "id": "e322e8b0"
   },
   "source": [
    "## **Task 1: Part-of-Speech Tagging with a Bidirectional LSTM**  (2+4+5=11 points)"
   ]
  },
  {
   "cell_type": "markdown",
   "metadata": {
    "cell_id": "c4bb61765ff74caabe1c44bf67633d23",
    "deepnote_cell_type": "markdown",
    "id": "b4ca26ac"
   },
   "source": [
    "In this task we will be building a sequence tagger that produces an output for every element in an input sequence, using `PyTorch` and `TorchText`, where `TorchText` consists of data processing utilities and popular datasets for natural language.\n",
    "\n",
    "\n",
    "*   **input:** a sequence of text\n",
    "*   **output:** part-of-speech (POS) tag for each token in the input text\n",
    "\n",
    "We tackle this task using a multi-layer bi-directional LSTM (BiLSTM) to predict POS tags using the [Universal Dependencies](https://universaldependencies.org/) English Web Treebank (UDPOS) dataset. This dataset is contained in the `TorchText` library and we do not require an external file for it. The dataset in  `TorchText`  has two different sets of tags, universal dependency (UD) tags and Penn Treebank (PTB) tags. We only focus on the UD tags for this assignment."
   ]
  },
  {
   "cell_type": "code",
   "execution_count": 1,
   "metadata": {
    "cell_id": "34d25f7e88ea42bc8009a68b832ab8e1",
    "deepnote_cell_type": "code",
    "id": "nnBfLC1P5QXw",
    "ExecuteTime": {
     "end_time": "2023-11-29T14:01:13.304852Z",
     "start_time": "2023-11-29T14:01:12.310202Z"
    }
   },
   "outputs": [
    {
     "name": "stdout",
     "output_type": "stream",
     "text": [
      "Defaulting to user installation because normal site-packages is not writeable\r\n",
      "Requirement already satisfied: portalocker in /Users/ahava/Library/Python/3.9/lib/python/site-packages (2.8.2)\r\n",
      "\u001B[33mWARNING: You are using pip version 21.2.4; however, version 23.3.1 is available.\r\n",
      "You should consider upgrading via the '/Library/Developer/CommandLineTools/usr/bin/python3 -m pip install --upgrade pip' command.\u001B[0m\r\n",
      "Note: you may need to restart the kernel to use updated packages.\n"
     ]
    }
   ],
   "source": [
    "%pip install portalocker"
   ]
  },
  {
   "cell_type": "code",
   "execution_count": 2,
   "metadata": {
    "cell_id": "2e1e4e360290456c987b8e7ca6d93fda",
    "deepnote_cell_type": "code",
    "id": "nT5geerO7d1P",
    "ExecuteTime": {
     "end_time": "2023-11-29T14:01:14.225863Z",
     "start_time": "2023-11-29T14:01:13.276980Z"
    }
   },
   "outputs": [
    {
     "name": "stdout",
     "output_type": "stream",
     "text": [
      "Defaulting to user installation because normal site-packages is not writeable\r\n",
      "Requirement already satisfied: torchdata in /Users/ahava/Library/Python/3.9/lib/python/site-packages (0.7.1)\r\n",
      "Requirement already satisfied: urllib3>=1.25 in /Library/Python/3.9/site-packages (from torchdata) (2.1.0)\r\n",
      "Requirement already satisfied: requests in /Library/Python/3.9/site-packages (from torchdata) (2.31.0)\r\n",
      "Requirement already satisfied: torch>=2 in /Users/ahava/Library/Python/3.9/lib/python/site-packages (from torchdata) (2.1.1)\r\n",
      "Requirement already satisfied: jinja2 in /Library/Python/3.9/site-packages (from torch>=2->torchdata) (3.1.2)\r\n",
      "Requirement already satisfied: typing-extensions in /Library/Python/3.9/site-packages (from torch>=2->torchdata) (4.8.0)\r\n",
      "Requirement already satisfied: sympy in /Users/ahava/Library/Python/3.9/lib/python/site-packages (from torch>=2->torchdata) (1.12)\r\n",
      "Requirement already satisfied: filelock in /Users/ahava/Library/Python/3.9/lib/python/site-packages (from torch>=2->torchdata) (3.13.1)\r\n",
      "Requirement already satisfied: networkx in /Users/ahava/Library/Python/3.9/lib/python/site-packages (from torch>=2->torchdata) (3.2.1)\r\n",
      "Requirement already satisfied: fsspec in /Users/ahava/Library/Python/3.9/lib/python/site-packages (from torch>=2->torchdata) (2023.10.0)\r\n",
      "Requirement already satisfied: MarkupSafe>=2.0 in /Library/Python/3.9/site-packages (from jinja2->torch>=2->torchdata) (2.1.3)\r\n",
      "Requirement already satisfied: charset-normalizer<4,>=2 in /Library/Python/3.9/site-packages (from requests->torchdata) (3.3.2)\r\n",
      "Requirement already satisfied: idna<4,>=2.5 in /Library/Python/3.9/site-packages (from requests->torchdata) (3.4)\r\n",
      "Requirement already satisfied: certifi>=2017.4.17 in /Library/Python/3.9/site-packages (from requests->torchdata) (2023.11.17)\r\n",
      "Requirement already satisfied: mpmath>=0.19 in /Users/ahava/Library/Python/3.9/lib/python/site-packages (from sympy->torch>=2->torchdata) (1.3.0)\r\n",
      "\u001B[33mWARNING: You are using pip version 21.2.4; however, version 23.3.1 is available.\r\n",
      "You should consider upgrading via the '/Library/Developer/CommandLineTools/usr/bin/python3 -m pip install --upgrade pip' command.\u001B[0m\r\n",
      "Note: you may need to restart the kernel to use updated packages.\n"
     ]
    }
   ],
   "source": [
    "%pip install torchdata"
   ]
  },
  {
   "cell_type": "code",
   "execution_count": 3,
   "metadata": {
    "cell_id": "a9821d7a2616424fb4b710afd85fb6bd",
    "deepnote_cell_type": "code",
    "id": "_pIBtTh3sOQe",
    "ExecuteTime": {
     "end_time": "2023-11-29T14:01:15.098987Z",
     "start_time": "2023-11-29T14:01:14.223665Z"
    }
   },
   "outputs": [
    {
     "name": "stdout",
     "output_type": "stream",
     "text": [
      "Defaulting to user installation because normal site-packages is not writeable\r\n",
      "Requirement already satisfied: torchtext in /Users/ahava/Library/Python/3.9/lib/python/site-packages (0.16.1)\r\n",
      "Requirement already satisfied: tqdm in /Users/ahava/Library/Python/3.9/lib/python/site-packages (from torchtext) (4.66.1)\r\n",
      "Requirement already satisfied: torchdata==0.7.1 in /Users/ahava/Library/Python/3.9/lib/python/site-packages (from torchtext) (0.7.1)\r\n",
      "Requirement already satisfied: torch==2.1.1 in /Users/ahava/Library/Python/3.9/lib/python/site-packages (from torchtext) (2.1.1)\r\n",
      "Requirement already satisfied: requests in /Library/Python/3.9/site-packages (from torchtext) (2.31.0)\r\n",
      "Requirement already satisfied: numpy in /Users/ahava/Library/Python/3.9/lib/python/site-packages (from torchtext) (1.26.2)\r\n",
      "Requirement already satisfied: sympy in /Users/ahava/Library/Python/3.9/lib/python/site-packages (from torch==2.1.1->torchtext) (1.12)\r\n",
      "Requirement already satisfied: networkx in /Users/ahava/Library/Python/3.9/lib/python/site-packages (from torch==2.1.1->torchtext) (3.2.1)\r\n",
      "Requirement already satisfied: fsspec in /Users/ahava/Library/Python/3.9/lib/python/site-packages (from torch==2.1.1->torchtext) (2023.10.0)\r\n",
      "Requirement already satisfied: jinja2 in /Library/Python/3.9/site-packages (from torch==2.1.1->torchtext) (3.1.2)\r\n",
      "Requirement already satisfied: typing-extensions in /Library/Python/3.9/site-packages (from torch==2.1.1->torchtext) (4.8.0)\r\n",
      "Requirement already satisfied: filelock in /Users/ahava/Library/Python/3.9/lib/python/site-packages (from torch==2.1.1->torchtext) (3.13.1)\r\n",
      "Requirement already satisfied: urllib3>=1.25 in /Library/Python/3.9/site-packages (from torchdata==0.7.1->torchtext) (2.1.0)\r\n",
      "Requirement already satisfied: MarkupSafe>=2.0 in /Library/Python/3.9/site-packages (from jinja2->torch==2.1.1->torchtext) (2.1.3)\r\n",
      "Requirement already satisfied: certifi>=2017.4.17 in /Library/Python/3.9/site-packages (from requests->torchtext) (2023.11.17)\r\n",
      "Requirement already satisfied: charset-normalizer<4,>=2 in /Library/Python/3.9/site-packages (from requests->torchtext) (3.3.2)\r\n",
      "Requirement already satisfied: idna<4,>=2.5 in /Library/Python/3.9/site-packages (from requests->torchtext) (3.4)\r\n",
      "Requirement already satisfied: mpmath>=0.19 in /Users/ahava/Library/Python/3.9/lib/python/site-packages (from sympy->torch==2.1.1->torchtext) (1.3.0)\r\n",
      "\u001B[33mWARNING: You are using pip version 21.2.4; however, version 23.3.1 is available.\r\n",
      "You should consider upgrading via the '/Library/Developer/CommandLineTools/usr/bin/python3 -m pip install --upgrade pip' command.\u001B[0m\r\n",
      "Note: you may need to restart the kernel to use updated packages.\n"
     ]
    }
   ],
   "source": [
    "%pip install torchtext"
   ]
  },
  {
   "cell_type": "code",
   "execution_count": 4,
   "metadata": {
    "cell_id": "19b404b570db48a5bca93c697c6b8d98",
    "deepnote_cell_type": "code",
    "id": "787e2059",
    "ExecuteTime": {
     "end_time": "2023-11-29T14:01:16.371766Z",
     "start_time": "2023-11-29T14:01:15.097501Z"
    }
   },
   "outputs": [
    {
     "name": "stderr",
     "output_type": "stream",
     "text": [
      "/Library/Python/3.9/site-packages/urllib3/__init__.py:34: NotOpenSSLWarning: urllib3 v2 only supports OpenSSL 1.1.1+, currently the 'ssl' module is compiled with 'LibreSSL 2.8.3'. See: https://github.com/urllib3/urllib3/issues/3020\n",
      "  warnings.warn(\n"
     ]
    }
   ],
   "source": [
    "import torch\n",
    "import torch.nn as nn\n",
    "import torch.optim as optim\n",
    "from torch.nn.utils.rnn import pad_sequence\n",
    "from torch.utils.data import DataLoader\n",
    "\n",
    "from torchtext.datasets import UDPOS\n",
    "\n",
    "import numpy as np\n",
    "\n",
    "import time\n",
    "import random\n",
    "from torchtext.vocab import build_vocab_from_iterator\n",
    "from torch.utils.data import DataLoader\n",
    "device = torch.device('cuda' if torch.cuda.is_available() else 'cpu')\n",
    "\n",
    "\n",
    "# for reproducibility\n",
    "random.seed(77)\n",
    "np.random.seed(77)\n",
    "torch.manual_seed(77)\n",
    "torch.backends.cudnn.deterministic = True"
   ]
  },
  {
   "cell_type": "markdown",
   "metadata": {
    "cell_id": "a34b8c77984a418ea6ff68af1a1594c2",
    "deepnote_cell_type": "markdown",
    "id": "fc29cb37"
   },
   "source": [
    "### Subtask 1: Data Analysis\n",
    "The very basic components of the torchtext library include `vocab`, `word vectors`, and `tokenizer`. Those are the basic data processing building blocks for the raw text string.\n",
    "In this case, we use the tokenizer and the vocabulary. Use the `build_vocab_from_iterator` to create the vocabulary for the text field and add the `<unk>` and `<pad>` tokens to it. Use a minimal frequency of `2`.\n",
    "Also create a vocabulary for the labels (tag field). However, since the tags are predefined elements, you will not need an `<unk>` token.\n",
    " This dataset actually has two different sets of tags, universal dependency (UD) tags and Penn Treebank (PTB) tags. We train our model on the UD tags, which is the second element on the list of outputs (example below).\n"
   ]
  },
  {
   "cell_type": "code",
   "execution_count": 5,
   "metadata": {
    "cell_id": "ae554462df1b4c33a025de3bee3a2ff4",
    "deepnote_cell_type": "code",
    "id": "IlEFywat4Gva",
    "ExecuteTime": {
     "end_time": "2023-11-29T14:01:16.378339Z",
     "start_time": "2023-11-29T14:01:16.368875Z"
    }
   },
   "outputs": [
    {
     "name": "stdout",
     "output_type": "stream",
     "text": [
      "[['Al', '-', 'Zaman', ':', 'American', 'forces', 'killed', 'Shaikh', 'Abdullah', 'al', '-', 'Ani', ',', 'the', 'preacher', 'at', 'the', 'mosque', 'in', 'the', 'town', 'of', 'Qaim', ',', 'near', 'the', 'Syrian', 'border', '.'], ['PROPN', 'PUNCT', 'PROPN', 'PUNCT', 'ADJ', 'NOUN', 'VERB', 'PROPN', 'PROPN', 'PROPN', 'PUNCT', 'PROPN', 'PUNCT', 'DET', 'NOUN', 'ADP', 'DET', 'NOUN', 'ADP', 'DET', 'NOUN', 'ADP', 'PROPN', 'PUNCT', 'ADP', 'DET', 'ADJ', 'NOUN', 'PUNCT'], ['NNP', 'HYPH', 'NNP', ':', 'JJ', 'NNS', 'VBD', 'NNP', 'NNP', 'NNP', 'HYPH', 'NNP', ',', 'DT', 'NN', 'IN', 'DT', 'NN', 'IN', 'DT', 'NN', 'IN', 'NNP', ',', 'IN', 'DT', 'JJ', 'NN', '.']]\n"
     ]
    }
   ],
   "source": [
    "train_iter = iter(UDPOS(split=\"train\"))\n",
    "print(next(train_iter))"
   ]
  },
  {
   "cell_type": "code",
   "execution_count": 6,
   "metadata": {
    "cell_id": "0f676fc508d64b40b17ab0c2089b06d8",
    "deepnote_cell_type": "code",
    "id": "7HJWFvb3AgTI",
    "ExecuteTime": {
     "end_time": "2023-11-29T14:01:16.846950Z",
     "start_time": "2023-11-29T14:01:16.378016Z"
    }
   },
   "outputs": [
    {
     "name": "stdout",
     "output_type": "stream",
     "text": [
      "Number of training examples: 12543\n",
      "Number of validation examples: 2002\n",
      "Number of testing examples: 2077\n"
     ]
    }
   ],
   "source": [
    "print(f\"Number of training examples: {len(list(UDPOS(split='train')))}\")\n",
    "print(f\"Number of validation examples: {len(list(UDPOS(split='valid')))}\")\n",
    "print(f\"Number of testing examples: {len(list(UDPOS(split='test')))}\")"
   ]
  },
  {
   "cell_type": "markdown",
   "metadata": {
    "cell_id": "f24e061070df4f54b2bbd3227cd1a988",
    "deepnote_cell_type": "markdown",
    "id": "RaAW09-n_5DC"
   },
   "source": [
    "Note that the data is already tokenized!"
   ]
  },
  {
   "cell_type": "code",
   "execution_count": 7,
   "metadata": {
    "cell_id": "3a8551135da04076a29039ddb1dc328d",
    "deepnote_cell_type": "code",
    "id": "rcG-FcDu5DcA",
    "ExecuteTime": {
     "end_time": "2023-11-29T14:01:17.575964Z",
     "start_time": "2023-11-29T14:01:16.845454Z"
    }
   },
   "outputs": [],
   "source": [
    "# Create vocabularies\n",
    "def yield_tokens(data_iter, field):\n",
    "    for item in data_iter:\n",
    "        if field == 'text':\n",
    "            yield item[0]\n",
    "        elif field == 'ud_tags':\n",
    "            yield item[1]\n",
    "\n",
    "# Reset the iterator for text\n",
    "train_iter = UDPOS(split=\"train\")\n",
    "\n",
    "# Create vocabulary for text\n",
    "vocab = build_vocab_from_iterator(yield_tokens(train_iter, 'text'), specials=[\"<pad>\", \"<unk>\"], min_freq=2, special_first=True)\n",
    "vocab.set_default_index(vocab['<unk>'])\n",
    "\n",
    "# Reset the iterator for UD tags\n",
    "train_iter = UDPOS(split=\"train\")\n",
    "\n",
    "# Create vocabulary for UD tags, ensuring <pad> is first in the list of specials\n",
    "ud_vocab = build_vocab_from_iterator(yield_tokens(train_iter, 'ud_tags'), specials=[\"<pad>\"], special_first=True)\n",
    "ud_vocab.set_default_index(ud_vocab['<pad>'])"
   ]
  },
  {
   "cell_type": "markdown",
   "metadata": {
    "cell_id": "16aeedfd06104e26850b18aa43f5705f",
    "deepnote_cell_type": "markdown",
    "id": "nzalgc92j2mG"
   },
   "source": [
    "Prepare a text processing pipeline that takes raw input and labels and converts them to ids."
   ]
  },
  {
   "cell_type": "code",
   "execution_count": 8,
   "metadata": {
    "cell_id": "359fc1df8aee4f228dece854dbeafca8",
    "deepnote_cell_type": "code",
    "id": "BDqKYQnRj2D8",
    "ExecuteTime": {
     "end_time": "2023-11-29T14:01:17.587996Z",
     "start_time": "2023-11-29T14:01:17.577138Z"
    }
   },
   "outputs": [],
   "source": [
    "text_pipeline = lambda x: vocab(x)\n",
    "label_pipeline = lambda x: ud_vocab(x)"
   ]
  },
  {
   "cell_type": "code",
   "execution_count": 9,
   "metadata": {
    "cell_id": "5c7855be24eb4c9c92f3320d639d9332",
    "deepnote_cell_type": "code",
    "id": "wg36B2Z_Hdi0",
    "ExecuteTime": {
     "end_time": "2023-11-29T14:01:17.588336Z",
     "start_time": "2023-11-29T14:01:17.579486Z"
    }
   },
   "outputs": [
    {
     "name": "stdout",
     "output_type": "stream",
     "text": [
      "[3, 9271, 35, 9097, 0, 1]\n",
      "[6, 8, 1, 2]\n"
     ]
    }
   ],
   "source": [
    "print(text_pipeline(['the', 'preacher', 'at', 'mosque', \"<pad>\",\"pppp\"])) #should output [3, 9271, 35, 9097, 0, 1]\n",
    "print(label_pipeline(['DET', 'ADJ', 'NOUN', 'PUNCT'])) # should output [6, 8, 1, 2]"
   ]
  },
  {
   "cell_type": "code",
   "execution_count": 10,
   "metadata": {
    "cell_id": "c04a16be98f64863934cabd96d0feabe",
    "deepnote_cell_type": "code",
    "id": "cjn1qH2dHoaa",
    "ExecuteTime": {
     "end_time": "2023-11-29T14:01:17.589626Z",
     "start_time": "2023-11-29T14:01:17.583988Z"
    }
   },
   "outputs": [
    {
     "name": "stdout",
     "output_type": "stream",
     "text": [
      "Unique tokens in input vocabulary: 9875\n",
      "Unique tokens in UD vocabulary: 18\n"
     ]
    }
   ],
   "source": [
    "print(f\"Unique tokens in input vocabulary: {len(vocab)}\")\n",
    "print(f\"Unique tokens in UD vocabulary: {len(ud_vocab)}\")"
   ]
  },
  {
   "cell_type": "markdown",
   "metadata": {
    "cell_id": "49f8e6c033ff4c298dbde57b4a044a75",
    "deepnote_cell_type": "markdown",
    "id": "FUnDiAOW-N5S"
   },
   "source": [
    "Write a custom function for the dataloader that applies the text and label pipeline and pads the sequences to have equal lengths."
   ]
  },
  {
   "cell_type": "code",
   "execution_count": 11,
   "metadata": {
    "cell_id": "11efa07d3a5d44ae9f2be54429f26c70",
    "deepnote_cell_type": "code",
    "id": "0aN6s1UhoRhK",
    "ExecuteTime": {
     "end_time": "2023-11-29T14:01:17.619764Z",
     "start_time": "2023-11-29T14:01:17.588280Z"
    }
   },
   "outputs": [],
   "source": [
    "from functools import partial\n",
    "\n",
    "def collate_batch(batch, text_pipeline, label_pipeline, pad_token_ix, pad_token_ix_ud):\n",
    "    text_list, label_list = [], []\n",
    "    for item in batch:\n",
    "        _text, _label, _ = item  # ignore PTB label\n",
    "        processed_text = text_pipeline(_text)\n",
    "        processed_label = label_pipeline(_label)\n",
    "        text_list.append(torch.tensor(processed_text, dtype=torch.int64))\n",
    "        label_list.append(torch.tensor(processed_label, dtype=torch.int64))\n",
    "\n",
    "    x_padded = pad_sequence(text_list, batch_first=True, padding_value=pad_token_ix)\n",
    "    y_padded = pad_sequence(label_list, batch_first=True, padding_value=pad_token_ix_ud)\n",
    "\n",
    "    return x_padded, y_padded\n",
    "\n",
    "\n",
    "collate_fn = partial(collate_batch, text_pipeline=text_pipeline, label_pipeline=label_pipeline, pad_token_ix=vocab['<pad>'], pad_token_ix_ud=ud_vocab['<pad>'])\n",
    "\n",
    "train_dataloader = DataLoader(\n",
    "    UDPOS(split=\"train\"), batch_size=128, shuffle=True, collate_fn=collate_fn\n",
    ")\n",
    "valid_dataloader = DataLoader(\n",
    "    UDPOS(split=\"valid\"), batch_size=128, shuffle=True, collate_fn=collate_fn\n",
    ")\n",
    "test_dataloader = DataLoader(\n",
    "    UDPOS(split=\"test\"), batch_size=128, shuffle=True, collate_fn=collate_fn\n",
    ")"
   ]
  },
  {
   "cell_type": "code",
   "execution_count": 12,
   "metadata": {
    "cell_id": "5902b48d1a0b4663b4860a110c33f59e",
    "deepnote_cell_type": "code",
    "id": "2X8ZZ0J4oek_",
    "ExecuteTime": {
     "end_time": "2023-11-29T14:01:17.875714Z",
     "start_time": "2023-11-29T14:01:17.599339Z"
    }
   },
   "outputs": [
    {
     "name": "stdout",
     "output_type": "stream",
     "text": [
      "torch.Size([128, 57])\n",
      "torch.Size([128, 57])\n",
      "tensor([1832,   13,   17,  488, 2837,    3, 3074,    1, 5532,  512,   13,   23,\n",
      "          56,  143,    5,  170,  154,  273,   39,  157,  971,   44, 2212,  648,\n",
      "           2,    0,    0,    0,    0,    0,    0,    0,    0,    0,    0,    0,\n",
      "           0,    0,    0,    0,    0,    0,    0,    0,    0,    0,    0,    0,\n",
      "           0,    0,    0,    0,    0,    0,    0,    0,    0])\n",
      "tensor([14,  4,  9, 12,  3,  6,  1,  1, 10, 17,  4,  3, 10, 13,  5, 13,  1, 10,\n",
      "        14,  9,  3,  5,  7,  7,  2,  0,  0,  0,  0,  0,  0,  0,  0,  0,  0,  0,\n",
      "         0,  0,  0,  0,  0,  0,  0,  0,  0,  0,  0,  0,  0,  0,  0,  0,  0,  0,\n",
      "         0,  0,  0])\n"
     ]
    }
   ],
   "source": [
    "for idx, (label, text) in enumerate(train_dataloader):\n",
    "      print(label.shape)\n",
    "      print(text.shape)\n",
    "      print(label[0])\n",
    "      print(text[0])\n",
    "      break\n"
   ]
  },
  {
   "cell_type": "markdown",
   "metadata": {
    "cell_id": "c3bc34b83db7485994ae623fe1aeb4b4",
    "deepnote_cell_type": "markdown",
    "id": "jDy_wvjR_1Sg"
   },
   "source": [
    "Let's take a closer look at the data and the distribution of tags.\n",
    "Implement `tag_percentage`:\n",
    "\n",
    "*   Use the `collection.counter` to count the unique instances of each tag.\n",
    "\n",
    "*    Compute the percentage of each tag in the entire set, by using the counted frequencies.\n",
    "\n"
   ]
  },
  {
   "cell_type": "code",
   "execution_count": 13,
   "metadata": {
    "cell_id": "443bf7dda5814b48a5959afa3486ac6f",
    "deepnote_cell_type": "code",
    "id": "273JqNZn_rRT",
    "ExecuteTime": {
     "end_time": "2023-11-29T14:01:17.877527Z",
     "start_time": "2023-11-29T14:01:17.872868Z"
    }
   },
   "outputs": [],
   "source": [
    "from collections import Counter\n",
    "\n",
    "def tag_percentage(training_iterator):\n",
    "    counter = Counter()\n",
    "    #### code to count the number of tags\n",
    "    for item in training_iterator:\n",
    "        text, ud_tags, ptb_tags = item \n",
    "        counter.update(ud_tags) \n",
    "\n",
    "    total_tags = sum(counter.values())\n",
    "\n",
    "    ### compute the tag percentages based on the counter object\n",
    "\n",
    "    tag_p = [(tag, count, count / total_tags) for tag, count in counter.items()]\n",
    "    ###\n",
    "    return tag_p"
   ]
  },
  {
   "cell_type": "code",
   "execution_count": 14,
   "metadata": {
    "cell_id": "f434fd468769433e83a7c840f4dc10ee",
    "deepnote_cell_type": "code",
    "id": "fWzoEd7h_qRw",
    "ExecuteTime": {
     "end_time": "2023-11-29T14:01:18.396532Z",
     "start_time": "2023-11-29T14:01:17.875600Z"
    }
   },
   "outputs": [
    {
     "name": "stdout",
     "output_type": "stream",
     "text": [
      "Tag\t\tCount\t\tPercentage\n",
      "\n",
      "PROPN\t\t12946\t\t 6.3%\n",
      "PUNCT\t\t23679\t\t11.6%\n",
      "ADJ\t\t12477\t\t 6.1%\n",
      "NOUN\t\t34781\t\t17.0%\n",
      "VERB\t\t23081\t\t11.3%\n",
      "DET\t\t16285\t\t 8.0%\n",
      "ADP\t\t17638\t\t 8.6%\n",
      "AUX\t\t12343\t\t 6.0%\n",
      "PRON\t\t18577\t\t 9.1%\n",
      "PART\t\t5567\t\t 2.7%\n",
      "SCONJ\t\t3843\t\t 1.9%\n",
      "NUM\t\t3999\t\t 2.0%\n",
      "ADV\t\t10548\t\t 5.2%\n",
      "CCONJ\t\t6707\t\t 3.3%\n",
      "X\t\t847\t\t 0.4%\n",
      "INTJ\t\t688\t\t 0.3%\n",
      "SYM\t\t599\t\t 0.3%\n"
     ]
    }
   ],
   "source": [
    "print(\"Tag\\t\\tCount\\t\\tPercentage\\n\")\n",
    "\n",
    "for tag, count, percent in tag_percentage(UDPOS(split='train')):\n",
    "    print(f\"{tag}\\t\\t{count}\\t\\t{percent*100:4.1f}%\")"
   ]
  },
  {
   "cell_type": "markdown",
   "metadata": {
    "cell_id": "584094dc2c244a65b5ff242f81cf1931",
    "deepnote_cell_type": "markdown",
    "id": "GKTQL0EsxSUU"
   },
   "source": [
    "####${\\color{red}{Comments\\ 1.1}}$\n",
    "\n",
    "${\\color{red}{⚠️Comments\\ begin⚠️}}$\n",
    "\n",
    "\n",
    "```\n",
    "cross-feedback comment section\n",
    "```\n",
    "\n",
    "\n",
    "${\\color{red}{⚠️Comments\\ end⚠️}}$"
   ]
  },
  {
   "cell_type": "markdown",
   "metadata": {
    "cell_id": "ccd3f213af204b5793b493852b22621c",
    "deepnote_cell_type": "markdown",
    "id": "gYHy3vSELfaN"
   },
   "source": [
    "### Subtask 2: The Model\n",
    "\n",
    "We start by creating a simple model and then make it more complex in later subtasks. The class `BiLSTMTagger` must subclass the `nn.Module` class of `PyTorch`. Fill the blank in the class by following the notes described below.\n",
    "1.   The input is a sequence of tokens, $X = \\{x_1, x_2,...,x_T\\}$.\n",
    "2.   Each token passes through  an embeddings layer, $e(X) = \\{e(x_1), e(x_2), ..., e(x_T)\\}$. Use `nn.Embedding` for the embedding layer and make sure to pass in the index of the pad token.\n",
    "3. Embedding is processed by forward and backward LSTMs from left to right and right to left.  The first input to the forward LSTM is $x_1$ and the first input to the backward LSTM is $x_T$. The hidden state of LSTMs is dependent on\n",
    "the hidden, $h$, and cell, $c$, states from the previous time-steps:\n",
    "$$h^{\\rightarrow}_t = \\text{LSTM}^{\\rightarrow}(e(x^{\\rightarrow}_t), h^{\\rightarrow}_{t-1}, c^{\\rightarrow}_{t-1})$$\n",
    "$$h^{\\leftarrow}_t=\\text{LSTM}^{\\leftarrow}(e(x^{\\leftarrow}_t), h^{\\leftarrow}_{t-1}, c^{\\leftarrow}_{t-1})$$\n",
    "4. The hidden, $h$, and cell, $c$ of each layer is passed to the next layer, where the $h_0$ and $c_0$, for each direction and layer, are initialized to a tensor full of zeros. Use `nn.LSTM` for LSTM cells. How can you make it bidirectional?\n",
    "5. Final hidden state is the concatenation of forward and backward hidden states from the final layer of the LSTM, $H = \\{h_1, h_2, ... h_T\\}$, where $h_1 = [h^{\\rightarrow}_1;h^{\\leftarrow}_T]$, $h_2 = [h^{\\rightarrow}_2;h^{\\leftarrow}_{T-1}]$. Use `nn.Linear` here.\n",
    "6. The last layer is linear layer $f$, which is used to make the prediction of which tag applies to this token, $\\hat{y}_t = f(h_t)$.\n",
    "7. Define a `nn.Dropout` layer to apply to the embeddings and the outputs of the final layer of the LSTM."
   ]
  },
  {
   "cell_type": "code",
   "execution_count": 15,
   "metadata": {
    "cell_id": "d0d03fc04c114710936d2c8778c8c904",
    "deepnote_cell_type": "code",
    "id": "qE4GQE6NJ1k8",
    "ExecuteTime": {
     "end_time": "2023-11-29T14:01:18.441485Z",
     "start_time": "2023-11-29T14:01:18.395158Z"
    }
   },
   "outputs": [],
   "source": [
    "import torch\n",
    "import torch.nn as nn\n",
    "\n",
    "class BiLSTMTagger(nn.Module):\n",
    "    def __init__(self, hyperparameters):\n",
    "        '''\n",
    "        hyperparameters: is a dictionary containing:\n",
    "            input_dim: dimension of the input\n",
    "            embedding_dim: dimension of the embedding layer\n",
    "            lstm_hidden_dim: dimension of the hidden state of lstms\n",
    "            output_dim: dimension of the output hidden layer\n",
    "            n_layers: number of layers to stack\n",
    "            bidirectional: is the lstm bi-directional\n",
    "            dropout: probability for the drop out layer\n",
    "            pad_idx: id of the pad token\n",
    "        '''\n",
    "        super().__init__()\n",
    "\n",
    "        # Embedding layer\n",
    "        self.embedding = nn.Embedding(\n",
    "            num_embeddings=hyperparameters['input_dim'],\n",
    "            embedding_dim=hyperparameters['embedding_dim'],\n",
    "            padding_idx=hyperparameters['pad_idx']\n",
    "        )\n",
    "\n",
    "        # Bi-LSTM, apply dropout if the number of layers is more than 1\n",
    "        self.lstm = nn.LSTM(\n",
    "            input_size=hyperparameters['embedding_dim'],\n",
    "            hidden_size=hyperparameters['lstm_hidden_dim'],\n",
    "            num_layers=hyperparameters['n_layers'],\n",
    "            bidirectional=hyperparameters['bidirectional'],\n",
    "            dropout=hyperparameters['dropout'] if hyperparameters['n_layers'] > 1 else 0\n",
    "        )\n",
    "\n",
    "        # Linear layer for prediction\n",
    "        self.fc = nn.Linear(\n",
    "            in_features=hyperparameters['lstm_hidden_dim'] * 2 if hyperparameters['bidirectional'] else hyperparameters['lstm_hidden_dim'],\n",
    "            out_features=hyperparameters['output_dim']\n",
    "        )\n",
    "\n",
    "        # Dropout layer\n",
    "        self.dropout = nn.Dropout(hyperparameters['dropout'])\n",
    "\n",
    "    def forward(self, text, debug=False):  # (B,S)\n",
    "        '''\n",
    "        S: sentence len\n",
    "        B: batch size\n",
    "        E: embedding size\n",
    "        H: hidden size\n",
    "        O: output size\n",
    "        L: number of layers\n",
    "        '''\n",
    "\n",
    "        # Pass text through the embedding layer and a dropout layer\n",
    "        embedded = self.dropout(self.embedding(text))\n",
    "\n",
    "        # Pass embeddings into Bi-LSTM\n",
    "        outputs, (hidden, cell) = self.lstm(embedded)\n",
    "\n",
    "        # Concatenate the final hidden states from both directions if bidirectional\n",
    "        if self.lstm.bidirectional:\n",
    "            hidden = torch.cat((hidden[-2, :, :], hidden[-1, :, :]), dim=1)\n",
    "        else:\n",
    "            hidden = hidden[-1, :, :]\n",
    "\n",
    "        # Compute prediction\n",
    "        predictions = self.fc(hidden)\n",
    "\n",
    "        if debug:\n",
    "            print(\"Input shape:\", text.shape)\n",
    "            print(\"Embedding shape:\", embedded.shape)\n",
    "            print(\"LSTM output shape:\", outputs.shape)\n",
    "            print(\"LSTM hidden shape:\", hidden.shape)\n",
    "            print(\"LSTM cell shape:\", cell.shape)\n",
    "            print(\"Output shape:\", predictions.shape)\n",
    "\n",
    "        return predictions\n"
   ]
  },
  {
   "cell_type": "markdown",
   "metadata": {
    "cell_id": "b53845ef311147448dae4573abb04cb3",
    "deepnote_cell_type": "markdown",
    "id": "4OcQbD9LUkD5"
   },
   "source": [
    "Response in plain text:\n",
    "1. Based on the notation defined in the forward function. What is the dimension of `outputs`, `hidden`, and `cell`?"
   ]
  },
  {
   "cell_type": "markdown",
   "metadata": {
    "cell_id": "f58aad93965b42bdac802c7fab521907",
    "deepnote_cell_type": "markdown",
    "id": "ml4KUd1BU3op"
   },
   "source": [
    "The dimension of outputs, hidden, and cell are defined as follows:\n",
    "\n",
    "outputs: The output at each time step, where outputs is a tensor of shape (sequence_length, batch_size, hidden_size).\n",
    "\n",
    "hidden: The final hidden state at each layer for each time step. hidden is a tensor of shape (num_layers, batch_size, hidden_size).\n",
    "\n",
    "cell: The final cell state at each layer for each time step. cell is a tensor of shape (num_layers, batch_size, hidden_size).\n",
    "\n",
    "The dimension of these tensors can vary based on the batch_first argument. If batch_first=True, the input tensor should be of shape (batch_size, sequence_length, input_size). In this case, the outputs tensor would have shape (batch_size, sequence_length, hidden_size)."
   ]
  },
  {
   "cell_type": "code",
   "execution_count": 16,
   "metadata": {
    "cell_id": "7c57a4b9909a4c79b7a1607402ec40be",
    "deepnote_cell_type": "code",
    "id": "ivB8Iv4yScVW",
    "ExecuteTime": {
     "end_time": "2023-11-29T14:01:18.446805Z",
     "start_time": "2023-11-29T14:01:18.395419Z"
    }
   },
   "outputs": [],
   "source": [
    "hyper_parameters={\n",
    "  'input_dim':  len(vocab),\n",
    "  'embedding_dim': 100,\n",
    "  'lstm_hidden_dim': 128,\n",
    "  'output_dim':len(ud_vocab),\n",
    "  'n_layers': 2 ,\n",
    "  'bidirectional':True,\n",
    "  'dropout': 0.25,\n",
    "  'pad_idx': vocab['<pad>']\n",
    "}\n",
    "model = BiLSTMTagger(hyper_parameters)"
   ]
  },
  {
   "cell_type": "code",
   "execution_count": 17,
   "metadata": {
    "cell_id": "cee3865b5dbe4876b44c6991e7c06894",
    "deepnote_cell_type": "code",
    "id": "1XvNFfJBV7ya",
    "ExecuteTime": {
     "end_time": "2023-11-29T14:01:18.455626Z",
     "start_time": "2023-11-29T14:01:18.395468Z"
    }
   },
   "outputs": [
    {
     "name": "stdout",
     "output_type": "stream",
     "text": [
      "Input shape: torch.Size([2, 6])\n",
      "Embedding shape: torch.Size([2, 6, 100])\n",
      "LSTM output shape: torch.Size([2, 6, 256])\n",
      "LSTM hidden shape: torch.Size([6, 256])\n",
      "LSTM cell shape: torch.Size([4, 6, 128])\n",
      "Output shape: torch.Size([6, 18])\n"
     ]
    },
    {
     "data": {
      "text/plain": "torch.Size([6, 18])"
     },
     "execution_count": 17,
     "metadata": {},
     "output_type": "execute_result"
    }
   ],
   "source": [
    "input=torch.tensor([[3, 9271, 35, 9097, 0, 1],\n",
    "                    [3, 9271, 35, 9097, 0, 1]])\n",
    "model(input,debug=True).shape"
   ]
  },
  {
   "cell_type": "markdown",
   "metadata": {
    "cell_id": "fd716785248d4b0687d85f8d23c6bbd0",
    "deepnote_cell_type": "markdown",
    "id": "2XiJkG-NfrDV"
   },
   "source": [
    "Weights of the network are initialized randomly, so let's make a more systematic initialization to help us with the optimization. For example,  Xavier Initialization creates weights such that the variance of the activations is the same across every layer. This constant variance helps prevent the gradient from exploding or vanishing. However, it does not apply to bias terms.\n",
    "\n",
    "Create a function that uses Xavier Initialization to initialize the weights of the network, for biases use a normal distribution with a mean of 0 and a standard deviation of 0.1."
   ]
  },
  {
   "cell_type": "code",
   "execution_count": 18,
   "metadata": {
    "cell_id": "8be9698f70fe4c3b961b362092a30374",
    "deepnote_cell_type": "code",
    "id": "PB78pCHpa758",
    "ExecuteTime": {
     "end_time": "2023-11-29T14:01:18.455778Z",
     "start_time": "2023-11-29T14:01:18.423190Z"
    }
   },
   "outputs": [
    {
     "data": {
      "text/plain": "BiLSTMTagger(\n  (embedding): Embedding(9875, 100, padding_idx=0)\n  (lstm): LSTM(100, 128, num_layers=2, dropout=0.25, bidirectional=True)\n  (fc): Linear(in_features=256, out_features=18, bias=True)\n  (dropout): Dropout(p=0.25, inplace=False)\n)"
     },
     "execution_count": 18,
     "metadata": {},
     "output_type": "execute_result"
    }
   ],
   "source": [
    "import torch.nn.init as init\n",
    "\n",
    "def init_weights(m):\n",
    "    if type(m) == nn.Linear:\n",
    "        init.xavier_uniform_(m.weight)\n",
    "        if m.bias is not None:\n",
    "            init.normal_(m.bias, mean=0, std=0.1)\n",
    "    elif type(m) == nn.Embedding:\n",
    "        init.xavier_uniform_(m.weight)\n",
    "\n",
    "# Applying the initialization to the model\n",
    "model.apply(init_weights)\n",
    "model.to(device)"
   ]
  },
  {
   "cell_type": "markdown",
   "metadata": {
    "cell_id": "ad51f9d8761c47ec9106e93b43781e8c",
    "deepnote_cell_type": "markdown",
    "id": "sdPx1mSOgy0V"
   },
   "source": [
    "Let's count the number of trainable parameters in our model."
   ]
  },
  {
   "cell_type": "code",
   "execution_count": 19,
   "metadata": {
    "cell_id": "7a6bc753aa2241b8864de9934399854f",
    "deepnote_cell_type": "code",
    "id": "P5738nU2ew_O",
    "ExecuteTime": {
     "end_time": "2023-11-29T14:01:18.455880Z",
     "start_time": "2023-11-29T14:01:18.429636Z"
    }
   },
   "outputs": [
    {
     "name": "stdout",
     "output_type": "stream",
     "text": [
      "number of trainable parameters: 1622910\n"
     ]
    }
   ],
   "source": [
    "def count_parameters(model):\n",
    "    return sum(p.numel() for p in model.parameters() if p.requires_grad)\n",
    "\n",
    "print(\"number of trainable parameters:\",count_parameters(model))"
   ]
  },
  {
   "cell_type": "markdown",
   "metadata": {
    "cell_id": "64eb82862a7c4e38b91db6146ba4e413",
    "deepnote_cell_type": "markdown",
    "id": "91uNA-vnyoUW"
   },
   "source": [
    "####${\\color{red}{Comments\\ 1.2}}$\n",
    "\n",
    "${\\color{red}{⚠️Comments\\ begin⚠️}}$\n",
    "\n",
    "\n",
    "```\n",
    "cross-feedback comment section\n",
    "```\n",
    "\n",
    "\n",
    "${\\color{red}{⚠️Comments\\ end⚠️}}$"
   ]
  },
  {
   "cell_type": "markdown",
   "metadata": {
    "cell_id": "4c16f8f5c69c4d2c9cc17925a52157ff",
    "deepnote_cell_type": "markdown",
    "id": "-lVg08iTd0XN"
   },
   "source": [
    "### Subtask 3: Training\n",
    "\n",
    "We start by defining a loss function and an optimizer.\n",
    "\n",
    "\n",
    "*   **optimizer:** We use Adam with the learning rate=0.0001.\n",
    "*   **loss:** We use cross-entropy loss.\n",
    "\n",
    "Even though we have no `<unk>` tokens within our tag vocab, we still have `<pad>` tokens to create batches of the same size. However, we do not want to calculate loss on those tokens, so make sure you define your loss function in such a way that ignores the `<pad>` tokens.\n",
    "\n",
    "\n"
   ]
  },
  {
   "cell_type": "code",
   "execution_count": 20,
   "metadata": {
    "cell_id": "969e8689e5df4c8aa0b9d02c852d14db",
    "deepnote_cell_type": "code",
    "id": "8LEyNeKhmBvK",
    "ExecuteTime": {
     "end_time": "2023-11-29T14:01:18.677946Z",
     "start_time": "2023-11-29T14:01:18.432184Z"
    }
   },
   "outputs": [],
   "source": [
    "import torch.nn.functional as F\n",
    "\n",
    "optimizer = optim.Adam(model.parameters(), lr=0.0001)\n",
    "# Loss function (ignores <pad> tokens)\n",
    "pad_idx = hyper_parameters['pad_idx']\n",
    "loss_function = nn.CrossEntropyLoss(ignore_index=pad_idx)"
   ]
  },
  {
   "cell_type": "markdown",
   "metadata": {
    "cell_id": "6252090606c34e999c0a885d6a11517a",
    "deepnote_cell_type": "markdown",
    "id": "95Cf7ZcVgLHK"
   },
   "source": [
    "Watching the loss go down as you train a model is a good indication of the correct training procedure, but does not tell us how well we are doing on a given task.\n",
    "To this end, we also implement a categorical accuracy measure to keep track of how well our model is doing on a given task.\n",
    "Same as before: we don't want to calculate accuracy over the `<pad>` tokens as we aren't interested in predicting them.\n",
    "Implement the function `categorical_acc` to compare the prediction of non-pad tokens with labels count the correct ones and calculate the accuracy over a single batch."
   ]
  },
  {
   "cell_type": "code",
   "execution_count": 21,
   "metadata": {
    "cell_id": "e1a8317728054f4dbab53fd453f73ca8",
    "deepnote_cell_type": "code",
    "id": "J5OpDKuBitk1",
    "ExecuteTime": {
     "end_time": "2023-11-29T14:01:18.684698Z",
     "start_time": "2023-11-29T14:01:18.679527Z"
    }
   },
   "outputs": [],
   "source": [
    "import torch\n",
    "\n",
    "def categorical_acc(preds, gt, pad_idx):\n",
    "    \"\"\"\n",
    "    Returns categorical accuracy per batch\n",
    "    \"\"\"\n",
    "    # Get the index of the max probability\n",
    "    max_preds = preds.argmax(dim=1)\n",
    "\n",
    "    # Create a mask for non-padding positions\n",
    "    non_pad_mask = gt != pad_idx\n",
    "\n",
    "    # Count the correct predictions where the ground truth is not <pad>\n",
    "    correct = torch.sum(max_preds[non_pad_mask] == gt[non_pad_mask]).item()\n",
    "\n",
    "    # Count the total number of non-pad tokens\n",
    "    total_non_pad = non_pad_mask.sum().item()\n",
    "\n",
    "    # Calculate accuracy\n",
    "    accuracy = correct / total_non_pad if total_non_pad > 0 else 0\n",
    "\n",
    "    return accuracy\n"
   ]
  },
  {
   "cell_type": "code",
   "execution_count": 22,
   "metadata": {
    "cell_id": "f671ab7332ea47f38982d7ad6d3dada8",
    "deepnote_cell_type": "code",
    "id": "WANOhA56kjY_",
    "ExecuteTime": {
     "end_time": "2023-11-29T14:01:18.695855Z",
     "start_time": "2023-11-29T14:01:18.682525Z"
    }
   },
   "outputs": [
    {
     "data": {
      "text/plain": "0.6666666666666666"
     },
     "execution_count": 22,
     "metadata": {},
     "output_type": "execute_result"
    }
   ],
   "source": [
    "dummpy_input=torch.tensor([\n",
    "    [0.9,0,0,0],\n",
    "    [0.1,0.9,0,0],\n",
    "    [0.1,0,0,0.9],\n",
    "    [0.9,0.1,0,0],\n",
    "    [0.1,0.8,0,0]\n",
    "\n",
    "])\n",
    "categorical_acc(dummpy_input, torch.tensor([0,2,3,0,1]), 0)"
   ]
  },
  {
   "cell_type": "markdown",
   "metadata": {
    "cell_id": "580e06e3975b4293abf00fd2ba76b29a",
    "deepnote_cell_type": "markdown",
    "id": "y_wngIs7jFrT"
   },
   "source": [
    "Define the `train` model that performs one epoch of training. You can refer to the Tutorial 2 of the course to get a sample workflow. The only difference to the tutorial is that we keep track of the batch-wise accuracy as well as the loss."
   ]
  },
  {
   "cell_type": "code",
   "execution_count": 23,
   "metadata": {
    "cell_id": "3075911a5f7744929752bdf08e969624",
    "deepnote_cell_type": "code",
    "id": "kyMs0FJNfGCp",
    "ExecuteTime": {
     "end_time": "2023-11-29T14:01:18.695949Z",
     "start_time": "2023-11-29T14:01:18.693077Z"
    }
   },
   "outputs": [],
   "source": [
    "def train(model, dataloader, optimizer, loss_function, pad_idx):\n",
    "\n",
    "    epoch_loss = 0\n",
    "    epoch_acc = 0\n",
    "\n",
    "    model.train()\n",
    "    epoch_start_time = time.time()\n",
    "\n",
    "    for batch_idx, (text, tags) in enumerate(dataloader):\n",
    "        # Check for empty batches\n",
    "        if text.size(0) == 0:\n",
    "            continue\n",
    "\n",
    "        # zero the gradients\n",
    "        optimizer.zero_grad()\n",
    "\n",
    "        # Forward pass\n",
    "        predictions = model(text)\n",
    "\n",
    "        # Ensure predictions and tags have the same size\n",
    "        if predictions.size(1) != tags.size(1):\n",
    "            print(f\"Predictions shape {predictions.size()} does not match tags shape {tags.size()}.\")\n",
    "            continue\n",
    "\n",
    "        # compute the loss, ignoring <pad> token\n",
    "        loss = loss_function(predictions.view(-1, predictions.shape[-1]), tags.view(-1))\n",
    "\n",
    "        # Backward pass and optimization step\n",
    "        loss.backward()\n",
    "        optimizer.step()\n",
    "\n",
    "        # Compute categorical accuracy\n",
    "        acc = categorical_acc(predictions, tags, pad_idx)\n",
    "\n",
    "        # Update epoch loss and accuracy\n",
    "        epoch_loss += loss.item()\n",
    "        epoch_acc += acc\n",
    "\n",
    "    end_time = time.time() - epoch_start_time\n",
    "\n",
    "    # Ensure division by zero is avoided\n",
    "    if len(dataloader) == 0:\n",
    "        length_dataloader = 1\n",
    "    else:\n",
    "        length_dataloader = len(dataloader)\n",
    "\n",
    "    return epoch_loss / length_dataloader, epoch_acc / length_dataloader, end_time\n"
   ]
  },
  {
   "cell_type": "markdown",
   "metadata": {
    "cell_id": "56f3175c5e7440708c5e1e6ac198ed7c",
    "deepnote_cell_type": "markdown",
    "id": "W0ytUn7vkdcR"
   },
   "source": [
    "It is not enough to only look at the training loss and accuracy, since with more training, we can always do better on the training set, but lose the generalizability to unseen data, a phenomenon known as **overfitting**. Therefore, it is important to check the loss and accuracy on the validation set after each epoch and stop before  overfitting occurs. Moreover, we can use the validation metric as an indication of which checkpoint of our model is the best.\n",
    "\n",
    "Define an `evaluate` function that runs once through the validation set and computes loss and accuracy. **Note:** You should not be updating gradients here and your model should be in evaluation mode."
   ]
  },
  {
   "cell_type": "code",
   "execution_count": 24,
   "metadata": {
    "cell_id": "b402c539afb34dbbbac9522060226344",
    "deepnote_cell_type": "code",
    "id": "0CKzEqyAfktd",
    "ExecuteTime": {
     "end_time": "2023-11-29T14:01:18.730429Z",
     "start_time": "2023-11-29T14:01:18.699826Z"
    }
   },
   "outputs": [],
   "source": [
    "\n",
    "def evaluate(model, dataloader, loss_function, pad_idx):\n",
    "    val_loss = 0\n",
    "    val_acc = 0\n",
    "\n",
    "    model.eval()  # Set the model to evaluation mode\n",
    "    length_dataloader = len(dataloader)\n",
    "\n",
    "    with torch.no_grad():  # No need to track gradients during evaluation\n",
    "        for batch_num, (text, tags) in enumerate(dataloader):\n",
    "            # Forward pass\n",
    "            predictions = model(text)\n",
    "\n",
    "            # Compute the loss, ignoring <pad> tokens\n",
    "            loss = loss_function(predictions.view(-1, predictions.shape[-1]), tags.view(-1))\n",
    "\n",
    "            # Compute categorical accuracy\n",
    "            acc = categorical_acc(predictions, tags, pad_idx)\n",
    "\n",
    "            # Update validation loss and accuracy\n",
    "            val_loss += loss.item()\n",
    "            val_acc += acc\n",
    "\n",
    "    return val_loss / length_dataloader, val_acc / length_dataloader"
   ]
  },
  {
   "cell_type": "markdown",
   "metadata": {
    "cell_id": "b14c4fd10bb042c682394e7c7a4a5d99",
    "deepnote_cell_type": "markdown",
    "id": "3AZJidLFnOUW"
   },
   "source": [
    "Let's use the functions defined so far and train our model for `30` epochs. We suggest using GPU for this task, as it is quite slow on the CPU. Run the training loop for the given number of epochs and calculate the validation metric at the end of each epoch. Based on the validation loss, save the best checkpoint of the model."
   ]
  },
  {
   "cell_type": "code",
   "execution_count": 25,
   "metadata": {
    "cell_id": "e8131cfb251e47d284530a09b4cedfdc",
    "deepnote_cell_type": "code",
    "id": "NblN-U0inVYc",
    "ExecuteTime": {
     "end_time": "2023-11-29T14:01:36.012040Z",
     "start_time": "2023-11-29T14:01:18.701201Z"
    }
   },
   "outputs": [
    {
     "name": "stdout",
     "output_type": "stream",
     "text": [
      "pad_idx: 0\n"
     ]
    },
    {
     "name": "stderr",
     "output_type": "stream",
     "text": [
      "/Users/ahava/Library/Python/3.9/lib/python/site-packages/torch/utils/data/datapipes/iter/combining.py:333: UserWarning: Some child DataPipes are not exhausted when __iter__ is called. We are resetting the buffer and each child DataPipe will read from the start again.\n",
      "  warnings.warn(\"Some child DataPipes are not exhausted when __iter__ is called. We are resetting \"\n"
     ]
    },
    {
     "name": "stdout",
     "output_type": "stream",
     "text": [
      "Predictions shape torch.Size([76, 18]) does not match tags shape torch.Size([128, 76]).\n",
      "Predictions shape torch.Size([72, 18]) does not match tags shape torch.Size([128, 72]).\n",
      "Predictions shape torch.Size([58, 18]) does not match tags shape torch.Size([128, 58]).\n",
      "Predictions shape torch.Size([57, 18]) does not match tags shape torch.Size([128, 57]).\n",
      "Predictions shape torch.Size([66, 18]) does not match tags shape torch.Size([128, 66]).\n",
      "Predictions shape torch.Size([76, 18]) does not match tags shape torch.Size([128, 76]).\n",
      "Predictions shape torch.Size([65, 18]) does not match tags shape torch.Size([128, 65]).\n",
      "Predictions shape torch.Size([66, 18]) does not match tags shape torch.Size([128, 66]).\n",
      "Predictions shape torch.Size([57, 18]) does not match tags shape torch.Size([128, 57]).\n",
      "Predictions shape torch.Size([52, 18]) does not match tags shape torch.Size([128, 52]).\n",
      "Predictions shape torch.Size([48, 18]) does not match tags shape torch.Size([128, 48]).\n",
      "Predictions shape torch.Size([51, 18]) does not match tags shape torch.Size([128, 51]).\n",
      "Predictions shape torch.Size([63, 18]) does not match tags shape torch.Size([128, 63]).\n",
      "Predictions shape torch.Size([58, 18]) does not match tags shape torch.Size([128, 58]).\n",
      "Predictions shape torch.Size([62, 18]) does not match tags shape torch.Size([128, 62]).\n",
      "Predictions shape torch.Size([86, 18]) does not match tags shape torch.Size([128, 86]).\n",
      "Predictions shape torch.Size([77, 18]) does not match tags shape torch.Size([128, 77]).\n",
      "Predictions shape torch.Size([97, 18]) does not match tags shape torch.Size([128, 97]).\n",
      "Predictions shape torch.Size([79, 18]) does not match tags shape torch.Size([128, 79]).\n",
      "Predictions shape torch.Size([65, 18]) does not match tags shape torch.Size([128, 65]).\n",
      "Predictions shape torch.Size([102, 18]) does not match tags shape torch.Size([128, 102]).\n",
      "Predictions shape torch.Size([159, 18]) does not match tags shape torch.Size([128, 159]).\n",
      "Predictions shape torch.Size([72, 18]) does not match tags shape torch.Size([128, 72]).\n",
      "Predictions shape torch.Size([53, 18]) does not match tags shape torch.Size([128, 53]).\n",
      "Predictions shape torch.Size([65, 18]) does not match tags shape torch.Size([128, 65]).\n",
      "Predictions shape torch.Size([59, 18]) does not match tags shape torch.Size([128, 59]).\n",
      "Predictions shape torch.Size([95, 18]) does not match tags shape torch.Size([128, 95]).\n",
      "Predictions shape torch.Size([62, 18]) does not match tags shape torch.Size([128, 62]).\n",
      "Predictions shape torch.Size([88, 18]) does not match tags shape torch.Size([128, 88]).\n",
      "Predictions shape torch.Size([50, 18]) does not match tags shape torch.Size([128, 50]).\n",
      "Predictions shape torch.Size([52, 18]) does not match tags shape torch.Size([128, 52]).\n",
      "Predictions shape torch.Size([49, 18]) does not match tags shape torch.Size([128, 49]).\n",
      "Predictions shape torch.Size([62, 18]) does not match tags shape torch.Size([128, 62]).\n",
      "Predictions shape torch.Size([68, 18]) does not match tags shape torch.Size([128, 68]).\n",
      "Predictions shape torch.Size([70, 18]) does not match tags shape torch.Size([128, 70]).\n",
      "Predictions shape torch.Size([70, 18]) does not match tags shape torch.Size([128, 70]).\n",
      "Predictions shape torch.Size([63, 18]) does not match tags shape torch.Size([128, 63]).\n",
      "Predictions shape torch.Size([80, 18]) does not match tags shape torch.Size([128, 80]).\n",
      "Predictions shape torch.Size([85, 18]) does not match tags shape torch.Size([128, 85]).\n",
      "Predictions shape torch.Size([70, 18]) does not match tags shape torch.Size([128, 70]).\n",
      "Predictions shape torch.Size([95, 18]) does not match tags shape torch.Size([128, 95]).\n",
      "Predictions shape torch.Size([71, 18]) does not match tags shape torch.Size([128, 71]).\n",
      "Predictions shape torch.Size([90, 18]) does not match tags shape torch.Size([128, 90]).\n",
      "Predictions shape torch.Size([91, 18]) does not match tags shape torch.Size([128, 91]).\n",
      "Predictions shape torch.Size([68, 18]) does not match tags shape torch.Size([128, 68]).\n",
      "Predictions shape torch.Size([49, 18]) does not match tags shape torch.Size([128, 49]).\n",
      "Predictions shape torch.Size([52, 18]) does not match tags shape torch.Size([128, 52]).\n",
      "Predictions shape torch.Size([66, 18]) does not match tags shape torch.Size([128, 66]).\n",
      "Predictions shape torch.Size([72, 18]) does not match tags shape torch.Size([128, 72]).\n",
      "Predictions shape torch.Size([73, 18]) does not match tags shape torch.Size([128, 73]).\n",
      "Predictions shape torch.Size([59, 18]) does not match tags shape torch.Size([128, 59]).\n",
      "Predictions shape torch.Size([71, 18]) does not match tags shape torch.Size([128, 71]).\n",
      "Predictions shape torch.Size([67, 18]) does not match tags shape torch.Size([128, 67]).\n",
      "Predictions shape torch.Size([52, 18]) does not match tags shape torch.Size([128, 52]).\n",
      "Predictions shape torch.Size([53, 18]) does not match tags shape torch.Size([128, 53]).\n",
      "Predictions shape torch.Size([75, 18]) does not match tags shape torch.Size([128, 75]).\n",
      "Predictions shape torch.Size([68, 18]) does not match tags shape torch.Size([128, 68]).\n",
      "Predictions shape torch.Size([76, 18]) does not match tags shape torch.Size([128, 76]).\n",
      "Predictions shape torch.Size([81, 18]) does not match tags shape torch.Size([128, 81]).\n",
      "Predictions shape torch.Size([52, 18]) does not match tags shape torch.Size([128, 52]).\n",
      "Predictions shape torch.Size([67, 18]) does not match tags shape torch.Size([128, 67]).\n",
      "Predictions shape torch.Size([52, 18]) does not match tags shape torch.Size([128, 52]).\n",
      "Predictions shape torch.Size([53, 18]) does not match tags shape torch.Size([128, 53]).\n",
      "Predictions shape torch.Size([74, 18]) does not match tags shape torch.Size([128, 74]).\n",
      "Predictions shape torch.Size([67, 18]) does not match tags shape torch.Size([128, 67]).\n",
      "Predictions shape torch.Size([60, 18]) does not match tags shape torch.Size([128, 60]).\n",
      "Predictions shape torch.Size([49, 18]) does not match tags shape torch.Size([128, 49]).\n",
      "Predictions shape torch.Size([56, 18]) does not match tags shape torch.Size([128, 56]).\n",
      "Predictions shape torch.Size([58, 18]) does not match tags shape torch.Size([128, 58]).\n",
      "Predictions shape torch.Size([68, 18]) does not match tags shape torch.Size([128, 68]).\n",
      "Predictions shape torch.Size([68, 18]) does not match tags shape torch.Size([128, 68]).\n",
      "Predictions shape torch.Size([52, 18]) does not match tags shape torch.Size([128, 52]).\n",
      "Predictions shape torch.Size([71, 18]) does not match tags shape torch.Size([128, 71]).\n",
      "Predictions shape torch.Size([52, 18]) does not match tags shape torch.Size([128, 52]).\n",
      "Predictions shape torch.Size([104, 18]) does not match tags shape torch.Size([128, 104]).\n",
      "Predictions shape torch.Size([52, 18]) does not match tags shape torch.Size([128, 52]).\n",
      "Predictions shape torch.Size([47, 18]) does not match tags shape torch.Size([128, 47]).\n",
      "Predictions shape torch.Size([89, 18]) does not match tags shape torch.Size([128, 89]).\n",
      "Predictions shape torch.Size([83, 18]) does not match tags shape torch.Size([128, 83]).\n",
      "Predictions shape torch.Size([45, 18]) does not match tags shape torch.Size([128, 45]).\n",
      "Predictions shape torch.Size([99, 18]) does not match tags shape torch.Size([128, 99]).\n",
      "Predictions shape torch.Size([135, 18]) does not match tags shape torch.Size([128, 135]).\n",
      "Predictions shape torch.Size([102, 18]) does not match tags shape torch.Size([128, 102]).\n",
      "Predictions shape torch.Size([55, 18]) does not match tags shape torch.Size([128, 55]).\n",
      "Predictions shape torch.Size([74, 18]) does not match tags shape torch.Size([128, 74]).\n",
      "Predictions shape torch.Size([57, 18]) does not match tags shape torch.Size([128, 57]).\n",
      "Predictions shape torch.Size([68, 18]) does not match tags shape torch.Size([128, 68]).\n",
      "Predictions shape torch.Size([62, 18]) does not match tags shape torch.Size([128, 62]).\n",
      "Predictions shape torch.Size([74, 18]) does not match tags shape torch.Size([128, 74]).\n",
      "Predictions shape torch.Size([61, 18]) does not match tags shape torch.Size([128, 61]).\n",
      "Predictions shape torch.Size([69, 18]) does not match tags shape torch.Size([128, 69]).\n",
      "Predictions shape torch.Size([49, 18]) does not match tags shape torch.Size([128, 49]).\n",
      "Predictions shape torch.Size([55, 18]) does not match tags shape torch.Size([128, 55]).\n",
      "Predictions shape torch.Size([60, 18]) does not match tags shape torch.Size([128, 60]).\n",
      "Predictions shape torch.Size([62, 18]) does not match tags shape torch.Size([128, 62]).\n",
      "Predictions shape torch.Size([60, 18]) does not match tags shape torch.Size([128, 60]).\n",
      "Predictions shape torch.Size([89, 18]) does not match tags shape torch.Size([128, 89]).\n",
      "Predictions shape torch.Size([50, 18]) does not match tags shape torch.Size([127, 50]).\n"
     ]
    },
    {
     "ename": "TypeError",
     "evalue": "_IterDataPipeSerializationWrapper instance doesn't have valid length",
     "output_type": "error",
     "traceback": [
      "\u001B[0;31m---------------------------------------------------------------------------\u001B[0m",
      "\u001B[0;31mTypeError\u001B[0m                                 Traceback (most recent call last)",
      "File \u001B[0;32m~/Library/Python/3.9/lib/python/site-packages/torch/utils/data/datapipes/datapipe.py:363\u001B[0m, in \u001B[0;36m_DataPipeSerializationWrapper.__len__\u001B[0;34m(self)\u001B[0m\n\u001B[1;32m    362\u001B[0m \u001B[38;5;28;01mtry\u001B[39;00m:\n\u001B[0;32m--> 363\u001B[0m     \u001B[38;5;28;01mreturn\u001B[39;00m \u001B[38;5;28;43mlen\u001B[39;49m\u001B[43m(\u001B[49m\u001B[38;5;28;43mself\u001B[39;49m\u001B[38;5;241;43m.\u001B[39;49m\u001B[43m_datapipe\u001B[49m\u001B[43m)\u001B[49m\n\u001B[1;32m    364\u001B[0m \u001B[38;5;28;01mexcept\u001B[39;00m \u001B[38;5;167;01mException\u001B[39;00m \u001B[38;5;28;01mas\u001B[39;00m e:\n",
      "File \u001B[0;32m~/Library/Python/3.9/lib/python/site-packages/torch/utils/data/datapipes/iter/sharding.py:81\u001B[0m, in \u001B[0;36mShardingFilterIterDataPipe.__len__\u001B[0;34m(self)\u001B[0m\n\u001B[1;32m     80\u001B[0m \u001B[38;5;28;01mif\u001B[39;00m \u001B[38;5;28misinstance\u001B[39m(\u001B[38;5;28mself\u001B[39m\u001B[38;5;241m.\u001B[39msource_datapipe, Sized):\n\u001B[0;32m---> 81\u001B[0m     \u001B[38;5;28;01mreturn\u001B[39;00m \u001B[38;5;28;43mlen\u001B[39;49m\u001B[43m(\u001B[49m\u001B[38;5;28;43mself\u001B[39;49m\u001B[38;5;241;43m.\u001B[39;49m\u001B[43msource_datapipe\u001B[49m\u001B[43m)\u001B[49m \u001B[38;5;241m/\u001B[39m\u001B[38;5;241m/\u001B[39m \u001B[38;5;28mself\u001B[39m\u001B[38;5;241m.\u001B[39mnum_of_instances \u001B[38;5;241m+\u001B[39m\\\n\u001B[1;32m     82\u001B[0m         (\u001B[38;5;241m1\u001B[39m \u001B[38;5;28;01mif\u001B[39;00m (\u001B[38;5;28mself\u001B[39m\u001B[38;5;241m.\u001B[39minstance_id \u001B[38;5;241m<\u001B[39m \u001B[38;5;28mlen\u001B[39m(\u001B[38;5;28mself\u001B[39m\u001B[38;5;241m.\u001B[39msource_datapipe) \u001B[38;5;241m%\u001B[39m \u001B[38;5;28mself\u001B[39m\u001B[38;5;241m.\u001B[39mnum_of_instances) \u001B[38;5;28;01melse\u001B[39;00m \u001B[38;5;241m0\u001B[39m)\n\u001B[1;32m     83\u001B[0m \u001B[38;5;28;01mraise\u001B[39;00m \u001B[38;5;167;01mTypeError\u001B[39;00m(\u001B[38;5;124mf\u001B[39m\u001B[38;5;124m\"\u001B[39m\u001B[38;5;132;01m{\u001B[39;00m\u001B[38;5;28mtype\u001B[39m(\u001B[38;5;28mself\u001B[39m)\u001B[38;5;241m.\u001B[39m\u001B[38;5;18m__name__\u001B[39m\u001B[38;5;132;01m}\u001B[39;00m\u001B[38;5;124m instance doesn\u001B[39m\u001B[38;5;124m'\u001B[39m\u001B[38;5;124mt have valid length\u001B[39m\u001B[38;5;124m\"\u001B[39m)\n",
      "File \u001B[0;32m~/Library/Python/3.9/lib/python/site-packages/torch/utils/data/datapipes/iter/combinatorics.py:140\u001B[0m, in \u001B[0;36mShufflerIterDataPipe.__len__\u001B[0;34m(self)\u001B[0m\n\u001B[1;32m    139\u001B[0m     \u001B[38;5;28;01mreturn\u001B[39;00m \u001B[38;5;28mlen\u001B[39m(\u001B[38;5;28mself\u001B[39m\u001B[38;5;241m.\u001B[39mdatapipe)\n\u001B[0;32m--> 140\u001B[0m \u001B[38;5;28;01mraise\u001B[39;00m \u001B[38;5;167;01mTypeError\u001B[39;00m(\u001B[38;5;124mf\u001B[39m\u001B[38;5;124m\"\u001B[39m\u001B[38;5;132;01m{\u001B[39;00m\u001B[38;5;28mtype\u001B[39m(\u001B[38;5;28mself\u001B[39m)\u001B[38;5;241m.\u001B[39m\u001B[38;5;18m__name__\u001B[39m\u001B[38;5;132;01m}\u001B[39;00m\u001B[38;5;124m instance doesn\u001B[39m\u001B[38;5;124m'\u001B[39m\u001B[38;5;124mt have valid length\u001B[39m\u001B[38;5;124m\"\u001B[39m)\n",
      "\u001B[0;31mTypeError\u001B[0m: ShufflerIterDataPipe instance doesn't have valid length",
      "\nThe above exception was the direct cause of the following exception:\n",
      "\u001B[0;31mTypeError\u001B[0m                                 Traceback (most recent call last)",
      "Cell \u001B[0;32mIn[25], line 9\u001B[0m\n\u001B[1;32m      4\u001B[0m \u001B[38;5;28mprint\u001B[39m(\u001B[38;5;124m\"\u001B[39m\u001B[38;5;124mpad_idx:\u001B[39m\u001B[38;5;124m\"\u001B[39m, hyper_parameters[\u001B[38;5;124m'\u001B[39m\u001B[38;5;124mpad_idx\u001B[39m\u001B[38;5;124m'\u001B[39m])\n\u001B[1;32m      7\u001B[0m \u001B[38;5;28;01mfor\u001B[39;00m epoch \u001B[38;5;129;01min\u001B[39;00m \u001B[38;5;28mrange\u001B[39m(epochs):\n\u001B[1;32m      8\u001B[0m     \u001B[38;5;66;03m# Training\u001B[39;00m\n\u001B[0;32m----> 9\u001B[0m     train_loss, train_acc, epoch_time \u001B[38;5;241m=\u001B[39m \u001B[43mtrain\u001B[49m\u001B[43m(\u001B[49m\u001B[43mmodel\u001B[49m\u001B[43m,\u001B[49m\u001B[43m \u001B[49m\u001B[43mtrain_dataloader\u001B[49m\u001B[43m,\u001B[49m\u001B[43m \u001B[49m\u001B[43moptimizer\u001B[49m\u001B[43m,\u001B[49m\u001B[43m \u001B[49m\u001B[43mloss_function\u001B[49m\u001B[43m,\u001B[49m\u001B[43m \u001B[49m\u001B[43mhyper_parameters\u001B[49m\u001B[43m[\u001B[49m\u001B[38;5;124;43m'\u001B[39;49m\u001B[38;5;124;43mpad_idx\u001B[39;49m\u001B[38;5;124;43m'\u001B[39;49m\u001B[43m]\u001B[49m\u001B[43m)\u001B[49m\n\u001B[1;32m     11\u001B[0m     \u001B[38;5;66;03m# Validation\u001B[39;00m\n\u001B[1;32m     12\u001B[0m     valid_loss, valid_acc \u001B[38;5;241m=\u001B[39m evaluate(model, valid_dataloader, loss_function, hyper_parameters[\u001B[38;5;124m'\u001B[39m\u001B[38;5;124mpad_idx\u001B[39m\u001B[38;5;124m'\u001B[39m])\n",
      "Cell \u001B[0;32mIn[23], line 42\u001B[0m, in \u001B[0;36mtrain\u001B[0;34m(model, dataloader, optimizer, loss_function, pad_idx)\u001B[0m\n\u001B[1;32m     39\u001B[0m end_time \u001B[38;5;241m=\u001B[39m time\u001B[38;5;241m.\u001B[39mtime() \u001B[38;5;241m-\u001B[39m epoch_start_time\n\u001B[1;32m     41\u001B[0m \u001B[38;5;66;03m# Ensure division by zero is avoided\u001B[39;00m\n\u001B[0;32m---> 42\u001B[0m \u001B[38;5;28;01mif\u001B[39;00m \u001B[38;5;28;43mlen\u001B[39;49m\u001B[43m(\u001B[49m\u001B[43mdataloader\u001B[49m\u001B[43m)\u001B[49m \u001B[38;5;241m==\u001B[39m \u001B[38;5;241m0\u001B[39m:\n\u001B[1;32m     43\u001B[0m     length_dataloader \u001B[38;5;241m=\u001B[39m \u001B[38;5;241m1\u001B[39m\n\u001B[1;32m     44\u001B[0m \u001B[38;5;28;01melse\u001B[39;00m:\n",
      "File \u001B[0;32m~/Library/Python/3.9/lib/python/site-packages/torch/utils/data/dataloader.py:474\u001B[0m, in \u001B[0;36mDataLoader.__len__\u001B[0;34m(self)\u001B[0m\n\u001B[1;32m    456\u001B[0m \u001B[38;5;28;01mdef\u001B[39;00m \u001B[38;5;21m__len__\u001B[39m(\u001B[38;5;28mself\u001B[39m) \u001B[38;5;241m-\u001B[39m\u001B[38;5;241m>\u001B[39m \u001B[38;5;28mint\u001B[39m:\n\u001B[1;32m    457\u001B[0m     \u001B[38;5;28;01mif\u001B[39;00m \u001B[38;5;28mself\u001B[39m\u001B[38;5;241m.\u001B[39m_dataset_kind \u001B[38;5;241m==\u001B[39m _DatasetKind\u001B[38;5;241m.\u001B[39mIterable:\n\u001B[1;32m    458\u001B[0m         \u001B[38;5;66;03m# NOTE [ IterableDataset and __len__ ]\u001B[39;00m\n\u001B[1;32m    459\u001B[0m         \u001B[38;5;66;03m#\u001B[39;00m\n\u001B[0;32m   (...)\u001B[0m\n\u001B[1;32m    472\u001B[0m \n\u001B[1;32m    473\u001B[0m         \u001B[38;5;66;03m# Cannot statically verify that dataset is Sized\u001B[39;00m\n\u001B[0;32m--> 474\u001B[0m         length \u001B[38;5;241m=\u001B[39m \u001B[38;5;28mself\u001B[39m\u001B[38;5;241m.\u001B[39m_IterableDataset_len_called \u001B[38;5;241m=\u001B[39m \u001B[38;5;28;43mlen\u001B[39;49m\u001B[43m(\u001B[49m\u001B[38;5;28;43mself\u001B[39;49m\u001B[38;5;241;43m.\u001B[39;49m\u001B[43mdataset\u001B[49m\u001B[43m)\u001B[49m  \u001B[38;5;66;03m# type: ignore[assignment, arg-type]\u001B[39;00m\n\u001B[1;32m    475\u001B[0m         \u001B[38;5;28;01mif\u001B[39;00m \u001B[38;5;28mself\u001B[39m\u001B[38;5;241m.\u001B[39mbatch_size \u001B[38;5;129;01mis\u001B[39;00m \u001B[38;5;129;01mnot\u001B[39;00m \u001B[38;5;28;01mNone\u001B[39;00m:  \u001B[38;5;66;03m# IterableDataset doesn't allow custom sampler or batch_sampler\u001B[39;00m\n\u001B[1;32m    476\u001B[0m             \u001B[38;5;28;01mfrom\u001B[39;00m \u001B[38;5;21;01mmath\u001B[39;00m \u001B[38;5;28;01mimport\u001B[39;00m ceil\n",
      "File \u001B[0;32m~/Library/Python/3.9/lib/python/site-packages/torch/utils/data/datapipes/datapipe.py:365\u001B[0m, in \u001B[0;36m_DataPipeSerializationWrapper.__len__\u001B[0;34m(self)\u001B[0m\n\u001B[1;32m    363\u001B[0m     \u001B[38;5;28;01mreturn\u001B[39;00m \u001B[38;5;28mlen\u001B[39m(\u001B[38;5;28mself\u001B[39m\u001B[38;5;241m.\u001B[39m_datapipe)\n\u001B[1;32m    364\u001B[0m \u001B[38;5;28;01mexcept\u001B[39;00m \u001B[38;5;167;01mException\u001B[39;00m \u001B[38;5;28;01mas\u001B[39;00m e:\n\u001B[0;32m--> 365\u001B[0m     \u001B[38;5;28;01mraise\u001B[39;00m \u001B[38;5;167;01mTypeError\u001B[39;00m(\n\u001B[1;32m    366\u001B[0m         \u001B[38;5;124mf\u001B[39m\u001B[38;5;124m\"\u001B[39m\u001B[38;5;132;01m{\u001B[39;00m\u001B[38;5;28mtype\u001B[39m(\u001B[38;5;28mself\u001B[39m)\u001B[38;5;241m.\u001B[39m\u001B[38;5;18m__name__\u001B[39m\u001B[38;5;132;01m}\u001B[39;00m\u001B[38;5;124m instance doesn\u001B[39m\u001B[38;5;124m'\u001B[39m\u001B[38;5;124mt have valid length\u001B[39m\u001B[38;5;124m\"\u001B[39m\n\u001B[1;32m    367\u001B[0m     ) \u001B[38;5;28;01mfrom\u001B[39;00m \u001B[38;5;21;01me\u001B[39;00m\n",
      "\u001B[0;31mTypeError\u001B[0m: _IterDataPipeSerializationWrapper instance doesn't have valid length"
     ]
    }
   ],
   "source": [
    "epochs = 30\n",
    "\n",
    "best_valid_loss = float('inf')\n",
    "print(\"pad_idx:\", hyper_parameters['pad_idx'])\n",
    "\n",
    "\n",
    "for epoch in range(epochs):\n",
    "    # Training\n",
    "    train_loss, train_acc, epoch_time = train(model, train_dataloader, optimizer, loss_function, hyper_parameters['pad_idx'])\n",
    "\n",
    "    # Validation\n",
    "    valid_loss, valid_acc = evaluate(model, valid_dataloader, loss_function, hyper_parameters['pad_idx'])\n",
    "\n",
    "    # Save the best model\n",
    "    if valid_loss < best_valid_loss:\n",
    "        best_valid_loss = valid_loss\n",
    "        torch.save(model.state_dict(), 'best_model_checkpoint.pth')\n",
    "    elapsed_mins = int(epoch_time / 60)\n",
    "    elapsed_secs = int(epoch_time - (elapsed_mins * 60))\n",
    "    print(f'Epoch: {epoch+1:02} | Epoch Time: {elapsed_mins}m {elapsed_secs}s')\n",
    "    print(f'\\tTrain Loss: {train_loss:.3f} | Train Acc: {train_acc*100:.2f}%')\n",
    "    print(f'\\t Validation Loss: {valid_loss:.3f} |  Validation Acc: {valid_acc*100:.2f}%')\n",
    "\n",
    "\n",
    "print(\"pad_idx:\", hyper_parameters['pad_idx'])\n"
   ]
  },
  {
   "cell_type": "markdown",
   "metadata": {
    "cell_id": "bddf0372c4c249268ea4bf2db1a3a13e",
    "deepnote_cell_type": "markdown",
    "id": "7dXTYFEbHzNL"
   },
   "source": [
    "Question:\n",
    "\n",
    "1. Does overfitting occur? If so, after which epochs?\n",
    "\n",
    "2. How do you detect overfitting?\n"
   ]
  },
  {
   "cell_type": "markdown",
   "metadata": {
    "cell_id": "f95d6c65f32144c2b2f586dc3d1594f8",
    "deepnote_cell_type": "markdown",
    "id": "9qSbr8CrH9hD"
   },
   "source": [
    "**Answer:**\n",
    "```\n",
    "Write your answer here.\n",
    "```"
   ]
  },
  {
   "cell_type": "markdown",
   "metadata": {
    "cell_id": "fec53c90123142189ecd7e74c76a7df8",
    "deepnote_cell_type": "markdown",
    "id": "GmqNesqiMISb"
   },
   "source": [
    "Let's see how well our model is doing on the test set. Load the best checkpoint and calculate the accuracy."
   ]
  },
  {
   "cell_type": "code",
   "execution_count": null,
   "metadata": {
    "cell_id": "6bb72c495aa243cdbe91715e81f98431",
    "deepnote_cell_type": "code",
    "id": "SgCFqby0m8sf",
    "ExecuteTime": {
     "start_time": "2023-11-29T14:01:33.419656Z"
    }
   },
   "outputs": [],
   "source": [
    "#### you code ####\n",
    "\n",
    "#### you code ####\n",
    "test_acc"
   ]
  },
  {
   "cell_type": "markdown",
   "metadata": {
    "cell_id": "5ee3dafdb8b04e13ac5f39737b2cdef1",
    "deepnote_cell_type": "markdown",
    "id": "tMIDBeSFyqJr"
   },
   "source": [
    "####${\\color{red}{Comments\\ 1.3}}$\n",
    "\n",
    "${\\color{red}{⚠️Comments\\ begin⚠️}}$\n",
    "\n",
    "\n",
    "```\n",
    "cross-feedback comment section\n",
    "```\n",
    "\n",
    "\n",
    "${\\color{red}{⚠️Comments\\ end⚠️}}$"
   ]
  },
  {
   "cell_type": "markdown",
   "metadata": {
    "cell_id": "da21f4ca36ee4e06a2f086ef29cf6f47",
    "deepnote_cell_type": "markdown",
    "id": "7dPfzmVGMeSO"
   },
   "source": [
    "### Subtask 4: Inference\n",
    "\n",
    "Let's use the model we trained to tag some actual sentences. We have the preprocessing pipeline ready from Subtask 1, now we need to map the predictions back to label texts for each token.\n",
    "\n",
    "Implement the `tag_sequence` function that takes a model and a sentence as input and generates POS tags. Keep in mind that you need to divide the sentence into tokens first. For this purpose, we just split each sentence on whitespaces."
   ]
  },
  {
   "cell_type": "code",
   "execution_count": null,
   "metadata": {
    "cell_id": "9d8b114d33e84535890d763ad8fa2e8f",
    "deepnote_cell_type": "code",
    "id": "Xe7_ROCyEslD",
    "ExecuteTime": {
     "start_time": "2023-11-29T14:01:33.420961Z"
    }
   },
   "outputs": [],
   "source": [
    "def tag_sentence(model, sentence):\n",
    "    ### your code ###\n",
    "\n",
    "\n",
    "    predictions = # make predictions on th esentence\n",
    "\n",
    "\n",
    "    predicted_tags = # get the tags\n",
    "    ### your code ###\n",
    "    return predicted_tags"
   ]
  },
  {
   "cell_type": "code",
   "execution_count": null,
   "metadata": {
    "cell_id": "8afdb0a5b24a4b88a6c7156f9e60c25f",
    "deepnote_cell_type": "code",
    "id": "JtiR75PFRR61",
    "ExecuteTime": {
     "start_time": "2023-11-29T14:01:33.422216Z"
    }
   },
   "outputs": [],
   "source": [
    "text=\" \".join(list(UDPOS(split='test'))[0][0])\n",
    "label= list(UDPOS(split='test'))[0][1]\n",
    "predicted_tag=tag_sentence(model,text)\n",
    "print(\"Text: \",text)\n",
    "print(\"Predicted Tags: \",predicted_tag)\n",
    "print(\"True Tags: \",label)"
   ]
  },
  {
   "cell_type": "markdown",
   "metadata": {
    "cell_id": "c307874d9e3b4573b648257116b7101e",
    "deepnote_cell_type": "markdown",
    "id": "7bPriv78yuyQ"
   },
   "source": [
    "####${\\color{red}{Comments\\ 1.4}}$\n",
    "\n",
    "${\\color{red}{⚠️Comments\\ begin⚠️}}$\n",
    "\n",
    "\n",
    "```\n",
    "cross-feedback comment section\n",
    "```\n",
    "\n",
    "\n",
    "${\\color{red}{⚠️Comments\\ end⚠️}}$"
   ]
  },
  {
   "cell_type": "markdown",
   "metadata": {
    "cell_id": "6935ae9bea414697993006e2a366a59e",
    "deepnote_cell_type": "markdown",
    "id": "X4n7Xi4TT_Ww"
   },
   "source": [
    "## **Task 2: Theoretical Questions** (0.5+1.5+1+3=6 points)"
   ]
  },
  {
   "cell_type": "markdown",
   "metadata": {
    "cell_id": "202e970f306a436285609e77413284a9",
    "deepnote_cell_type": "markdown",
    "id": "QbQJ3baXUHkQ"
   },
   "source": [
    "### Subtask 1:\n",
    "In beam search, if you increase the beam width, what will happen to a) the runtime and memory and b) the quality of results?"
   ]
  },
  {
   "cell_type": "markdown",
   "metadata": {
    "cell_id": "876efc4921ec4039bb260d2063210afd",
    "deepnote_cell_type": "markdown",
    "id": "Ei5A-D_djZup"
   },
   "source": [
    "**Answer:**\n",
    "\n",
    "\n",
    "```\n",
    "In beam search, if you increase the beam width, what will happen to a) the runtime and memory and b) the quality of results?\n",
    "\n",
    "a) runtime: \n",
    "Increasing the beam width in beam search leads to a linear rise in runtime, as it requires evaluating more potential paths per iteration. The computational effort and runtime grow with the number of candidates proportional to the beam size.\n",
    "a)Memory:\n",
    "A wider beam in beam search increases memory usage, as it stores more candidate sequences along with their associated data like scores and states, potentially straining memory in limited-capacity systems.\n",
    "b) the quality of results:\n",
    "Increasing the beam width in beam search can lead to better results by exploring more options. However, after a certain point, the improvement in results doesn't make up for the extra time and resources needed. Also, if the beam is too wide, the search might focus on less important sequences, especially if it's not good at picking the best ones from a larger group.\n",
    "\n",
    "\n",
    "\n",
    "\n",
    "\n",
    "```\n",
    "\n"
   ]
  },
  {
   "cell_type": "markdown",
   "metadata": {
    "cell_id": "2759650a8d334a9aa684d095549e808c",
    "deepnote_cell_type": "markdown",
    "id": "RuzX2q7TywyW"
   },
   "source": [
    "####${\\color{red}{Comments\\ 2.1}}$\n",
    "\n",
    "${\\color{red}{⚠️Comments\\ begin⚠️}}$\n",
    "\n",
    "Very detailed, fulfilling answer.\n",
    "\n",
    "0.5/0.5 points\n",
    "\n",
    "${\\color{red}{⚠️Comments\\ end⚠️}}$"
   ]
  },
  {
   "cell_type": "markdown",
   "metadata": {
    "cell_id": "e3e84afe54074de0953a1678ec45ce25",
    "deepnote_cell_type": "markdown",
    "id": "N7KlRPnhknbl"
   },
   "source": [
    "### Subtask 2:\n",
    "Except for beam search, there are other ways to create a more coherent output for generation tasks, one of which is adding a temperature to the softmax over the vocabulary. Temperature is a hyperparameter that is applied to the input of a softmax to affect the final probabilities. All values in the input are divided by the temperature before going through the softmax. What do you think will happen in these cases:\n",
    "\n",
    "1. A low temperature - below 1\n",
    "2. A high temperature - above 1\n",
    "3. Really small temperature - temperature $→$ 0"
   ]
  },
  {
   "cell_type": "markdown",
   "metadata": {
    "cell_id": "73a5bffaa5044b24aad9ed2be4e96985",
    "deepnote_cell_type": "markdown",
    "id": "uxuh5LOFnF3D"
   },
   "source": [
    "**Answer:**\n",
    "```\n",
    "1. A low temperature - below 1:\n",
    "Below 1, the softmax function produces a \"sharper\" probability distribution, which means the most likely tokens have a higher probability and the least likely tokens have a lower probability. In turn, this can lead to more conservative and deterministic outputs. In the context of text generation, a low temperature may lead to more predictable and repetitive sequences, as the model becomes more confident and selects the most likely tokens with greater assurance.\n",
    "2.High Temperature (Above 1):\n",
    "On the other hand, a high temperature, above 1, results in an even distribution of probabilities across the vocabulary.\n",
    "It can also lead to more diverse and exploratory outcomes since the model becomes less certain about its predictions and assigns more comparable probabilities to different tokens. Text generation is encouraged by a high temperature because the model becomes less constrained and more open to exploring different options, resulting in more creative sequences.\n",
    "3. Really small temperature - temperature $→$ 0\n",
    "At low temperatures, the softmax function tends toward a \"hard\" distribution, where the probability mass is increasingly concentrated on the most likely token, making the distribution more deterministic. In the context of text generation, an extremely small temperature can lead to highly repetitive and predictable outputs\n",
    "```"
   ]
  },
  {
   "cell_type": "markdown",
   "metadata": {
    "cell_id": "3e276e51cf374e5aae15313b9c4d1b1e",
    "deepnote_cell_type": "markdown",
    "id": "GmW4NNb4yyZF"
   },
   "source": [
    "####${\\color{red}{Comments\\ 2.2}}$\n",
    "\n",
    "${\\color{red}{⚠️Comments\\ begin⚠️}}$\n",
    "\n",
    "1),2) perfect. \\\n",
    "3) doesn't mention greedy decoding but describes exactly its meaning and consequent limitation. Full points.\n",
    "\n",
    "1.5/1.5 points\n",
    "\n",
    "\n",
    "${\\color{red}{⚠️Comments\\ end⚠️}}$"
   ]
  },
  {
   "cell_type": "markdown",
   "metadata": {
    "cell_id": "bcb26ecefdc144b8a307524d620be487",
    "deepnote_cell_type": "markdown",
    "id": "tM2DmNOwod4r"
   },
   "source": [
    "### Subtask 3:\n",
    "Explain what the “bottleneck” of an encoder-decoder RNN is and how attention provides a way to get around this bottleneck."
   ]
  },
  {
   "cell_type": "markdown",
   "metadata": {
    "cell_id": "960e471978e8432089bd9719c18bd1d0",
    "deepnote_cell_type": "markdown",
    "id": "DNJ3f_MtdzrM"
   },
   "source": [
    "**Answer:**\n",
    "```\n",
    "The bottleneck of an encoder-decoder RNN stems from the fixed-length vector representation of the input sequence, which can limit the model's ability to process long sequences effectively. Attention provides a solution to this bottleneck by enabling the model to dynamically focus on different parts of the input sequence during the decoding process, thereby enhancing its ability to handle longer sequences and capture relevant information more effectively\n",
    "```"
   ]
  },
  {
   "cell_type": "markdown",
   "metadata": {
    "cell_id": "4de219e3f4a14bc58d5e1245704f9f3c",
    "deepnote_cell_type": "markdown",
    "id": "JFUHVF40y0j-"
   },
   "source": [
    "####${\\color{red}{Comments\\ 2.3}}$\n",
    "\n",
    "${\\color{red}{⚠️Comments\\ begin⚠️}}$\n",
    "\n",
    "Overall good answer, although it doesn't answer completely to WHAT the bottleneck is (last hidden state vector) nor mention what we operate attention on (the hidden states).\n",
    "The concept is clear.\n",
    "\n",
    "0.75/1.00 Points\n",
    "\n",
    "\n",
    "${\\color{red}{⚠️Comments\\ end⚠️}}$"
   ]
  },
  {
   "cell_type": "markdown",
   "metadata": {
    "cell_id": "ba948b977bba435fb8c30514b0b7a31d",
    "deepnote_cell_type": "markdown",
    "id": "HaHhdLdJehL3"
   },
   "source": [
    "### Subtask 4:\n",
    "As mentioned, there are various way to remedy the repetitiveness and incoherence of generation outputs. One of the widely used methods is Nucleus sampling described the paper \"[ The Curious Case of Neural Text DeGeneration](https://arxiv.org/pdf/1904.09751.pdf)\". Read the model section and introduction of the paper and use it as reference to answer the following questions:\n",
    "\n",
    "1. Describe top-k sampling in your own words, no need for mathematical notation.\n",
    "2. Describe Nucleus sampling in your own words, there is not need for mathematical notation.\n",
    "3.  Why is beam search not a good strategy for human-like text generation and why don't these methods suffer from the problem of the beam search?\n"
   ]
  },
  {
   "cell_type": "markdown",
   "metadata": {
    "cell_id": "c7d293512a8a49a38d5bbfb8dfebb111",
    "deepnote_cell_type": "markdown",
    "id": "9Ojtbn1kgaYE"
   },
   "source": [
    "**Answer:**\n",
    "```\n",
    "1.Describe top-k sampling in your own words, no need for mathematical notation.\n",
    "In text generation, a useful technique is the top-k sampling method. To implement this technique, first, k words are chosen from the model's probability distribution at each time step. The selected value of k never changes throughout the process. Next, the probability distribution is altered according to the total probabilities of the top k words. Lastly, a word is randomly chosen from the adjusted distribution, and this process is conducted repeatedly until the desired length of text is achieved. Compared to beam search, top-k sampling gives superior control over the variety of the produced text. The challenge lies in finding the perfect k value, where a low k might bring about unexciting or repeated text, whereas a high k may present improper choices.\n",
    "2.Describe Nucleus sampling in your own words, there is not need for mathematical notation.\n",
    "Selective text creation, also known as nucleus sampling, is a novel strategy that addresses the shortcomings of commonly used sampling methods such as pure sampling and top-k sampling. Rather than selecting a specified number of likely words, nucleus sampling extracts a component of the lexicon that represents a specific percentage of the total probability mass. This unit, termed \"the nucleus,\" can change in size in accordance with the probability distribution of each time step. Nucleus sampling focuses on the most likely words by eliminating lower probability words that can result in nonsensical or poorly connected phrases. High k values must be avoided when using nucleus sampling to introduce diversity while avoiding incoherence concerns. The proportion of the probability mass determined by a parameter called p determines the size of the nucleus.\n",
    "3.Why is beam search not a good strategy for human-like text generation and why don't these methods suffer from the problem of the beam search?\n",
    "Beam search is an ineffective technique for human-like text generation since it favors the most likely terms at each time step, resulting in repetitious and generic content. This is because language models reward well-formed content, but the top results for longer texts are frequently generic, repetitive, and clunky. Human-written text, on the other hand, tends to be more varied and instructive, with lower probabilities allocated to more informative but less predictable terms.\n",
    "By incorporating randomness into the selection of words, nucleus sampling and other stochastic decoding approaches such as top-k sampling overcome this problem, allowing for more variation in output text. Nucleus sampling, in particular, concentrates on the most likely words while avoiding the untrustworthy tail of low probability words, which might result in incoherent or unrelated material. Nucleus sampling ensures that the generated text is both high-quality and diversified, akin to human-written text\n",
    "```"
   ]
  },
  {
   "cell_type": "markdown",
   "metadata": {
    "cell_id": "ee946366c36848fa8817fbef0c158da7",
    "deepnote_cell_type": "markdown",
    "id": "0wU67Iqpy2rg"
   },
   "source": [
    "####${\\color{red}{Comments\\ 2.4}}$\n",
    "\n",
    "${\\color{red}{⚠️Comments\\ begin⚠️}}$\n",
    "\n",
    "1) They don't mention the zeroing out of all other probabilities except the top K, but rather say it as an \"altering of the probabilities\". This small shortcoming is well compensated by all the rest of the answer, which is very extensive (and right). Full points.\n",
    "2) Very good.\n",
    "3) Despite them going close to the concept, they don't mention nor explain in other words the risk of dreailinf due to the tail f distributions. -0.5 \\\n",
    "Despite that, they introduce the problem of repetitiveness, which must be positively taken in to account.\n",
    "\n",
    "2.5/3 points\n",
    "\n",
    "${\\color{red}{⚠️Comments\\ end⚠️}}$"
   ]
  },
  {
   "cell_type": "markdown",
   "metadata": {
    "cell_id": "58484791be204641bd8f9f4af2b65dda",
    "deepnote_cell_type": "markdown",
    "id": "IZl0-MMY6MWs"
   },
   "source": [
    "## **Task 3: Scaled Dot-Product Attention** (4+1=5 points)\n",
    "In class, you learned about attention and Transformers as described in the 2017 paper\n",
    "[Attention Is All You Need](https://arxiv.org/abs/1706.03762).\n",
    "The base of the attention module is a scaled dot product with Queries, Keys, and Values.\n",
    "In this task, you will implement a simplified version of scaled dot-product attention and inspired by the translation task, aim to replicate word alignment between English and French.\n",
    "You will not be training the embedding from scratch, we provide you with pre-trained embedding for both languages.\n",
    "However, you need to know the details of scaled dot product attention, which mainly consists of two matrix multiplications and a softmax scaling.\n",
    "Refer to Figure 2 of the [Attention Is All You Need](https://arxiv.org/abs/1706.03762) paper.\n",
    "\n",
    "The inputs of the attention module are Queries, Keys, and Values. Mathematically, attention is defined as follows:\n",
    "\n",
    "$$\n",
    "\\large \\mathrm{Attention}\\left(Q, K, V\\right) = \\mathrm{softmax}\\left(\\frac{QK^{\\top}}{\\sqrt{d_k}}\\right)V\n",
    "$$\n",
    "\n",
    "\n",
    "*   $Q$, $K$, and $V$ are the Queries, Keys, and Values matrices.\n",
    "* $d_k$ is the dimension of the Keys (in practice dimensions of all matrices are the same).\n",
    "*   $QK^{\\top}$ is a measure of the similarity between the Queries and the Keys\n",
    "* softmax transforms the similarity into weights.\n",
    "* Weights multiplied by the Values are the output of the attention, defining how much importance should be given to each token of the input.\n",
    "\n",
    "In the case of self-attention, both Queries and Keys come from the encoder, however, for cross attention between encoder and decoder, decoder states are used as the queries while encoder states are the Keys and Values.\n",
    "In our case, we need the cross attention between one language to another to find the correct alignment.\n"
   ]
  },
  {
   "cell_type": "code",
   "execution_count": null,
   "metadata": {
    "cell_id": "5fc11da9656146ccb5f2bfbd59f70def",
    "deepnote_cell_type": "code",
    "deepnote_to_be_reexecuted": false,
    "execution_millis": 4113,
    "execution_start": 1701022940711,
    "id": "gOP3Fa8IfkMK",
    "source_hash": null,
    "ExecuteTime": {
     "start_time": "2023-11-29T14:01:33.423527Z"
    }
   },
   "outputs": [],
   "source": [
    "%pip install matplotlib"
   ]
  },
  {
   "cell_type": "code",
   "execution_count": null,
   "metadata": {
    "cell_id": "1fb8ef8d682c4450a0297c52798dd68b",
    "deepnote_cell_type": "code",
    "deepnote_to_be_reexecuted": false,
    "execution_millis": 2785,
    "execution_start": 1701022948214,
    "id": "tB6RD3wssHe9",
    "source_hash": null,
    "ExecuteTime": {
     "start_time": "2023-11-29T14:01:33.424731Z"
    }
   },
   "outputs": [],
   "source": [
    "import pickle\n",
    "import matplotlib.pyplot as plt\n",
    "import numpy as np\n",
    "#load the dictionaries (dictionary of words to ids)\n",
    "with open(\"./word2int_en.pkl\", \"rb\") as f:\n",
    "    en_dict = pickle.load(f)\n",
    "\n",
    "with open(\"./word2int_fr.pkl\", \"rb\") as f:\n",
    "    fr_dict = pickle.load(f)\n",
    "\n",
    "# load word embeddings (dictionary of token ids to embeddings)\n",
    "en_embeddings = np.load(\"./embeddings_en.npz\")[\"embeddings\"]\n",
    "fr_embeddings = np.load(\"./embeddings_fr.npz\")[\"embeddings\"]\n"
   ]
  },
  {
   "cell_type": "markdown",
   "metadata": {
    "cell_id": "37af9b34bac54df9ad73d386b3896763",
    "deepnote_cell_type": "markdown",
    "id": "7VYjN1xHsbYj"
   },
   "source": [
    "### Subtask 1: Attention Weights\n",
    "Fill the blanks in `tokenize` to tokenize a sentence and convert it to ids and `embed` function to create an embedding of a sentence."
   ]
  },
  {
   "cell_type": "code",
   "execution_count": null,
   "metadata": {
    "cell_id": "ea23613a215f4cceb88b4933df36927e",
    "deepnote_cell_type": "code",
    "deepnote_to_be_reexecuted": false,
    "execution_millis": 11,
    "execution_start": 1701022974860,
    "id": "cwS_M10nwOBH",
    "source_hash": null,
    "ExecuteTime": {
     "start_time": "2023-11-29T14:01:33.425909Z"
    }
   },
   "outputs": [],
   "source": [
    "def tokenize(sentence, token_mapping):\n",
    "   # we stick to simple blank space tokenization\n",
    "   tokenized = []\n",
    "   for word in sentence.lower().split(\" \"):\n",
    "      token_id = token_mapping.get(word,-1)\n",
    "      tokenized.append(token_id)\n",
    "   return tokenized\n",
    "\n",
    "def embed(tokens, embeddings):\n",
    "    \"\"\" get the embedding for the tokens in a sentence stacked in a simple matrix (sequence length, embedding size)\n",
    "        tokens: tokenized sentence\n",
    "        embeddings: dictionary of token to embeddings.\n",
    "    \"\"\"\n",
    "    embed_size = embeddings.shape[1]\n",
    "    output = np.zeros((len(tokens), embed_size))\n",
    "    for i, token in enumerate(tokens):\n",
    "        if token != -1:\n",
    "            output[i] = embeddings[token]\n",
    "        else:\n",
    "            output[i] = np.zeros(embed_size)\n",
    "    # Note that the return statement is outside the for loop\n",
    "    return output"
   ]
  },
  {
   "cell_type": "code",
   "execution_count": null,
   "metadata": {
    "cell_id": "ca906500c38f4575ba20fb52541d792f",
    "deepnote_cell_type": "code",
    "deepnote_to_be_reexecuted": false,
    "execution_millis": 12,
    "execution_start": 1701022982412,
    "id": "dkAulXarueT_",
    "source_hash": null,
    "ExecuteTime": {
     "start_time": "2023-11-29T14:01:33.427149Z"
    }
   },
   "outputs": [],
   "source": [
    "sentence_en = \"there were clouds in my coffeeeeee.\"\n",
    "tokenized_en = tokenize(sentence_en, en_dict)\n",
    "embedded_en = embed(tokenized_en, en_embeddings)\n",
    "print(\"Tokenized english:\",tokenized_en)\n",
    "print(\"embedding english:\",embedded_en.shape)\n",
    "\n",
    "sentence_fr = \"il y avait des nuages ​​dans mon ccafé.\"\n",
    "tokenized_fr = tokenize(sentence_fr, fr_dict)\n",
    "embedded_fr = embed(tokenized_fr, fr_embeddings)\n",
    "print(\"Tokenized french:\",tokenized_fr)\n",
    "print(\"embedding french:\",embedded_fr.shape)"
   ]
  },
  {
   "cell_type": "markdown",
   "metadata": {
    "collapsed": false
   },
   "source": [
    "✅ Point distribution ✅\n",
    "- 0.5 if the tokenizations are [59, 40, 9355, 6, 158, -1] and [21, 73, 192, 16, 8652, -1, 558, -1], check the tokenizers code if the values differ to see if the logic is correct to assign partial points. If the value of the unknown token is not exactly -1 then it is ok, but it should be considered.\n",
    "- 0.5 if the shape of the embeddings are (6, 300) and (8, 300), if loaded properly the shapes should match, otherwise check the code."
   ]
  },
  {
   "cell_type": "markdown",
   "metadata": {
    "cell_id": "b4cca51e5b3d4323a6cce529ae9a9df8",
    "deepnote_cell_type": "markdown",
    "id": "WJ58FCMpsHJP"
   },
   "source": [
    "\n",
    "Implement the `softmax` function with `Numpy`.\n"
   ]
  },
  {
   "cell_type": "code",
   "execution_count": null,
   "metadata": {
    "cell_id": "901b142440094f0c8e9a9ee4251df828",
    "deepnote_cell_type": "code",
    "deepnote_to_be_reexecuted": false,
    "execution_millis": 7,
    "execution_start": 1701022994851,
    "id": "caOjXfbxon9h",
    "source_hash": null,
    "ExecuteTime": {
     "start_time": "2023-11-29T14:01:33.428199Z"
    }
   },
   "outputs": [],
   "source": [
    "def softmax(x, axis=0):\n",
    "    \"\"\"\n",
    "    x: input matrix\n",
    "    axis: defines which axis to compute the softmax over 0 for rows and 1 for columns\n",
    "        axis=0 calculates softmax across rows which means each column sums to 1\n",
    "        axis=1 calculates softmax across columns which means each row sums to 1\n",
    "    \"\"\"\n",
    "\n",
    "    #### your code ####\n",
    "    e_x = np.exp(x-np.max(x,axis=axis,keepdims=True))\n",
    "    \n",
    "    softmax_x= e_x/np.sum(e_x,axis=axis,keepdims=True)\n",
    "    #### your code ####\n",
    "\n",
    "    return softmax_x"
   ]
  },
  {
   "cell_type": "code",
   "execution_count": null,
   "metadata": {
    "cell_id": "658ddd4f45784a38946e53d5093f3bfb",
    "deepnote_cell_type": "code",
    "deepnote_to_be_reexecuted": false,
    "execution_millis": 6,
    "execution_start": 1701022997709,
    "id": "kCbjmG49p-v0",
    "source_hash": null,
    "ExecuteTime": {
     "start_time": "2023-11-29T14:01:33.429068Z"
    }
   },
   "outputs": [],
   "source": [
    "w=softmax(np.array([[1,3,4,1], [24,3,2,3]]),axis=0)\n",
    "w.sum(axis=0)[0]"
   ]
  },
  {
   "cell_type": "markdown",
   "metadata": {
    "collapsed": false
   },
   "source": [
    "✅ Point distribution ✅\n",
    "- 0.5 if the sum is 1.0, if not check the code.\n",
    "- 0.5 if the axis=axis, keepdims=True are also set."
   ]
  },
  {
   "cell_type": "markdown",
   "metadata": {
    "cell_id": "75b30fe7a51049a6b7e4a06d396c0bdc",
    "deepnote_cell_type": "markdown",
    "id": "oNqtNPB9orLr"
   },
   "source": [
    "Use the `softmax` function to calculate the weights.\n",
    "$$ \\mathrm{softmax}\\left(\\frac{QK^{\\top}}{\\sqrt{d_k}}\\right)$$\n",
    "Assume the queries and keys are 2D matrices."
   ]
  },
  {
   "cell_type": "code",
   "execution_count": null,
   "metadata": {
    "cell_id": "8c43de46d34e45448f7a7d7f9d1aad80",
    "deepnote_cell_type": "code",
    "deepnote_to_be_reexecuted": false,
    "execution_millis": 44,
    "execution_start": 1701023014072,
    "id": "ysRdVCnP7Qir",
    "source_hash": null,
    "ExecuteTime": {
     "start_time": "2023-11-29T14:01:33.429790Z"
    }
   },
   "outputs": [],
   "source": [
    "def calc_weights(queries, keys):\n",
    "    \"\"\"\n",
    "    queries: queries matrix\n",
    "    keys: keys matrix\n",
    "    \"\"\"\n",
    "    #### your code ####\n",
    "    #calculate the dimensions of the keys\n",
    "    d_k = keys.shape[1]  # Assuming keys is a 2D matrix of shape [num_keys, key_dimension]\n",
    "    raw_scores = np.matmul(queries, keys.T)\n",
    "    scaled_scores = raw_scores / np.sqrt(d_k)\n",
    "    print(\"Raw scores:\")\n",
    "    print(raw_scores)\n",
    "    print(\"Scaled scores:\")\n",
    "    print(scaled_scores)\n",
    "    return softmax(scaled_scores, axis=1)\n",
    "    #### your code ####\n"
   ]
  },
  {
   "cell_type": "code",
   "execution_count": null,
   "metadata": {
    "cell_id": "56c312a73de54dae85aeee03ee4e0b5c",
    "deepnote_cell_type": "code",
    "deepnote_to_be_reexecuted": false,
    "execution_millis": 19,
    "execution_start": 1701023021050,
    "id": "LVYGelEsqsoo",
    "source_hash": null,
    "ExecuteTime": {
     "start_time": "2023-11-29T14:01:33.430506Z"
    }
   },
   "outputs": [],
   "source": [
    "weights=calc_weights(np.array([[1,3],[1,3]]),np.array([[0,3],[2,3]]))\n",
    "print(weights)\n",
    "weights.sum(axis=1)[0]"
   ]
  },
  {
   "cell_type": "markdown",
   "metadata": {
    "collapsed": false
   },
   "source": [
    "✅ Point distribution ✅\n",
    "- 0.5 if the sum is 1.0, if not check the code.\n",
    "- 0.5 if the weights are :\n",
    "                            [[0.19557032 0.80442968]\n",
    "                            [0.19557032 0.80442968]]."
   ]
  },
  {
   "cell_type": "markdown",
   "metadata": {
    "cell_id": "ef15904e3b2c4a7d9a0dd3b8bafb88d4",
    "deepnote_cell_type": "markdown",
    "id": "16V5yFAew1Hx"
   },
   "source": [
    "Use the `calcu_weights` to compute the attention matrix between two sentences from English and French and visualize the weights to check for alignments."
   ]
  },
  {
   "cell_type": "code",
   "execution_count": null,
   "metadata": {
    "cell_id": "2d744086fc01473da6d6776e7375fd55",
    "deepnote_cell_type": "code",
    "deepnote_to_be_reexecuted": false,
    "execution_millis": 639,
    "execution_start": 1701023046044,
    "id": "miW865arw9Fv",
    "source_hash": null,
    "ExecuteTime": {
     "start_time": "2023-11-29T14:01:33.431242Z"
    }
   },
   "outputs": [],
   "source": [
    "sentence_en = \"there were clouds in my coffee and unicorns in the sky.\"\n",
    "tokenized_en = tokenize(sentence_en, en_dict)\n",
    "embedded_en = embed(tokenized_en, en_embeddings)\n",
    "\n",
    "sentence_fr = \"il y avait des nuages ​​dans mon café et des licornes dans le ciel.\"\n",
    "tokenized_fr = tokenize(sentence_fr, fr_dict)\n",
    "embedded_fr = embed(tokenized_fr, fr_embeddings)\n",
    "# Compute the range of the alignment matrix for visualization scaling\n",
    "alignment = calc_weights(embedded_fr, embedded_en)\n",
    "\n",
    "# Inspect the alignment matrix\n",
    "print(\"Alignment matrix:\")\n",
    "print(alignment)\n",
    "\n",
    "# Check the range of the alignment matrix\n",
    "alignment_min = np.min(alignment)\n",
    "alignment_max = np.max(alignment)\n",
    "\n",
    "\n",
    "# Visualize the weights with adjusted color scale\n",
    "fig, ax = plt.subplots(figsize=(10, 8))\n",
    "cax = ax.imshow(alignment, cmap='gray', aspect='equal', vmin=alignment_min, vmax=alignment_max)\n",
    "fig.colorbar(cax)\n",
    "ax.xaxis.tick_top()\n",
    "ax.set_xticks(np.arange(len(sentence_en.split(\" \"))))\n",
    "ax.set_xticklabels(sentence_en.split(\" \"), rotation=90)\n",
    "ax.set_yticks(np.arange(len(sentence_fr.split(\" \"))))\n",
    "ax.set_yticklabels(sentence_fr.split(\" \"))\n",
    "\n",
    "# Print the range of values in the alignment matrix\n",
    "print(\"Alignment matrix value range: \", alignment_min, alignment_max)\n",
    "\n",
    "# Compute and print the top-2 alignments\n",
    "top_2 = np.argsort(-alignment, axis=1)[:, :2]\n",
    "print('The top 2 alignments (French to English):')\n",
    "for i, row in enumerate(top_2):\n",
    "    french_word = sentence_fr.split(\" \")[i]\n",
    "    english_words_alignment = [sentence_en.split(\" \")[index] for index in row]\n",
    "    print(f\"French word '{french_word}': Top English words: {english_words_alignment}\")\n",
    "\n",
    "plt.show()"
   ]
  },
  {
   "cell_type": "markdown",
   "metadata": {
    "cell_id": "6ce92b5ef0bf46ab844fc68b566763c2",
    "deepnote_cell_type": "markdown",
    "id": "0BxnOJJ2xhIZ"
   },
   "source": [
    "1. What are the top 2 alignments shown in the figure?\n",
    "2. On the rows you see flat lines for `ciel` and `dans` and `licornes`, why do you think that is?"
   ]
  },
  {
   "cell_type": "markdown",
   "metadata": {
    "cell_id": "d153c49b8a284aa2835dc7a11d3f0367",
    "deepnote_cell_type": "markdown",
    "id": "QUwdKXhZxqUP"
   },
   "source": [
    "**Answer:**\n",
    "\n",
    "```\n",
    "1.What are the top 2 alignments shown in the figure?\n",
    "French word 'licornes': Top English words: ['there', 'were']\n",
    "French word 'dans': Top English words: ['in', 'in']\n",
    "French word 'le': Top English words: ['the', 'and']\n",
    "French word 'ciel.': Top English words: ['there', 'were']\n",
    "2.On the rows you see flat lines for ciel and dans and licornes, why do you think that is?\n",
    "The flat lines in the heatmap rows for \"ciel,\" \"dans,\" and \"licornes\" indicate that these French words are being given nearly equal attention weights across all English words. This can be for teh following reasons:\n",
    "1. If the embeddings do not capture the nuances between different words well, the model may not be able to distinguish between them effectively.\n",
    "2.The attention model might be too simple or not trained appropriately to capture the complexity of the word alignments between the two languages.\n",
    "```"
   ]
  },
  {
   "cell_type": "markdown",
   "metadata": {
    "collapsed": false
   },
   "source": [
    "✅ Point distribution ✅\n",
    "- 0.5 if the sum is 1.0, if not check the code.\n",
    "- 0.5 if the weights are :\n",
    "                            [[0.19557032 0.80442968]\n",
    "                            [0.19557032 0.80442968]]."
   ]
  },
  {
   "cell_type": "markdown",
   "metadata": {
    "cell_id": "af80ead2403c49298774af031408a2bc",
    "deepnote_cell_type": "markdown",
    "id": "C2TnQmsxy70i"
   },
   "source": [
    "####${\\color{red}{Comments\\ 3.1}}$\n",
    "\n",
    "${\\color{red}{⚠️Comments\\ begin⚠️}}$\n",
    "\n",
    "\n",
    "```\n",
    "The implementation of the tokenize and embed functions works exactly the same as the one in the solutions.\n",
    "\n",
    "The softmax function in the solutions is numerically more stable than your implementation because they used a trick for numerical stability by subtracting the maximum value in the input array (np.max(x, axis=axis, keepdims=True)) from x before computing the exponential. \n",
    "Of course, your implementation is correct too.\n",
    "\n",
    "Unfortunately, you did not correctly find the top 2 alignments. \n",
    "The main problem here is that you have performed row-wise sorting. For example, if your -alignments are as follows:\n",
    "-alignments = [[-1, -3, -2],\n",
    "               [-4, -6, -5]]\n",
    "For the first row [-1, -3, -2], the sorted order is [-3, -2, -1]. \n",
    "The indices to achieve this order in the original row are [1, 2, 0]. \n",
    "For the second row [-4, -6, -5], the sorted order is [-6, -5, -4]. \n",
    "The indices to achieve this order in the original row are [1, 2, 0]. \n",
    "This means your top 2 word (row-col) indices are as follows:\n",
    "- For the first word: (the id of the column with the highest value in the row 0, the id of the column with the second highest value in the row 1)\n",
    "- For the second word: (the id of the column with the highest value in the row 0, the id of the column with the second highest value in the row 1)\n",
    "(-0.5)\n",
    "\n",
    "Unfortunately, your explanation for the reason of seeing a flat line for ciel, dans, and licornes is not correct. \n",
    "The reason is that these three words are out of vocabulary, and we used np.zeros() as the embedding of these words. \n",
    "Every dot product with a vector full of zeros is always 0. To sum up, we have no embeddings for these words and used np.zeros() which is the reason for the flat lines.\n",
    "(-0.5)\n",
    "\n",
    "All other things are almost identical and have an exact match with the ones in the solutions.\n",
    "\n",
    "Total Points: 3 / 4\n",
    "\n",
    "```\n",
    "\n",
    "\n",
    "${\\color{red}{⚠️Comments\\ end⚠️}}$"
   ]
  },
  {
   "cell_type": "markdown",
   "metadata": {
    "cell_id": "ffa6d115b1cd43b3ab5d8b9fba5705b6",
    "deepnote_cell_type": "markdown",
    "id": "eqXwL4MpzW--"
   },
   "source": [
    "### Subtask 2: Scaled Dot-product\n",
    "Implement the scaled dot-product attention using the functions from above.\n",
    "\n"
   ]
  },
  {
   "cell_type": "code",
   "execution_count": null,
   "metadata": {
    "cell_id": "1968f7988c80421c82f7c3ad8d8e628a",
    "deepnote_cell_type": "code",
    "deepnote_to_be_reexecuted": false,
    "execution_millis": 20,
    "execution_start": 1701023121799,
    "id": "8iQTr4KCzqZk",
    "source_hash": null,
    "ExecuteTime": {
     "start_time": "2023-11-29T14:01:33.432242Z"
    }
   },
   "outputs": [],
   "source": [
    "def attention(queries, keys, values):\n",
    "    \"\"\"  scaled dot-product attention\n",
    "    queries: query matrix\n",
    "    keys: key matrix\n",
    "    value: value matrix\n",
    "    \"\"\"\n",
    "\n",
    "    #### your code ####\n",
    "    weights = calc_weights(queries,keys)\n",
    "    attention = np.matmul(weights,values)\n",
    "    #### your code ####\n",
    "    return attention\n",
    "\n",
    "\n",
    "attention_result = attention(embedded_fr, embedded_en, embedded_en)\n",
    "print(attention_result.shape)\n"
   ]
  },
  {
   "cell_type": "code",
   "execution_count": null,
   "metadata": {
    "cell_id": "b54b3c2a0aa143d1aba4027c33d7b799",
    "deepnote_cell_type": "code",
    "deepnote_to_be_reexecuted": false,
    "execution_millis": 30,
    "execution_start": 1701023136827,
    "source_hash": null,
    "ExecuteTime": {
     "start_time": "2023-11-29T14:01:33.432977Z"
    }
   },
   "outputs": [],
   "source": [
    "print(attention_result[0:2,:10])"
   ]
  },
  {
   "cell_type": "markdown",
   "metadata": {
    "collapsed": false
   },
   "source": [
    "✅ Point distribution ✅\n",
    "- 0.5 if the shape is (14, 300).\n",
    "- 0.5 if the selected rows are:\n",
    "\n",
    "```\n",
    "[[-0.0077802  -0.00345834 -0.01493142  0.05936939 -0.02286767 -0.00835552\n",
    "   0.00079745 -0.03737862  0.0270674   0.05374082]\n",
    " [-0.00777829 -0.00336843 -0.01498988  0.05937157 -0.02285948 -0.00835695\n",
    "   0.00085725 -0.03740797  0.02706951  0.05377672]]\n",
    "   ```\n",
    "\n",
    "If these checks do not match, check the code."
   ]
  },
  {
   "cell_type": "markdown",
   "metadata": {
    "cell_id": "15a9aa6ecf6b4107bb6fae0577bd293b",
    "deepnote_cell_type": "markdown",
    "id": "vlwGjAWMy_OX"
   },
   "source": [
    "####${\\color{red}{Comments\\ 3.2}}$\n",
    "\n",
    "${\\color{red}{⚠️Comments\\ begin⚠️}}$\n",
    "\n",
    "\n",
    "```\n",
    "\n",
    "Good job! There is an exact match, and the implementation is correct!\n",
    "\n",
    "Total Points: 1 / 1\n",
    "```\n",
    "\n",
    "\n",
    "${\\color{red}{⚠️Comments\\ end⚠️}}$"
   ]
  },
  {
   "cell_type": "code",
   "execution_count": null,
   "metadata": {
    "cell_id": "0dfc535908be40e798840ed2c44ac4bd",
    "deepnote_cell_type": "code",
    "id": "qDx8DrnVzAR1",
    "ExecuteTime": {
     "start_time": "2023-11-29T14:01:33.433796Z"
    }
   },
   "outputs": [],
   "source": []
  },
  {
   "cell_type": "markdown",
   "metadata": {
    "created_in_deepnote_cell": true,
    "deepnote_cell_type": "markdown"
   },
   "source": [
    "<a style='text-decoration:none;line-height:16px;display:flex;color:#5B5B62;padding:10px;justify-content:end;' href='https://deepnote.com?utm_source=created-in-deepnote-cell&projectId=a1bcdaf6-328f-4516-bd85-cdc48d4f60b9' target=\"_blank\">\n",
    "<img alt='Created in deepnote.com' style='display:inline;max-height:16px;margin:0px;margin-right:7.5px;' src='data:image/svg+xml;base64,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' > </img>\n",
    "Created in <span style='font-weight:600;margin-left:4px;'>Deepnote</span></a>"
   ]
  }
 ],
 "metadata": {
  "accelerator": "GPU",
  "colab": {
   "gpuType": "T4",
   "provenance": [],
   "toc_visible": true
  },
  "deepnote": {},
  "deepnote_execution_queue": [],
  "deepnote_notebook_id": "98f3bb85d881458798404ad49d8505ce",
  "deepnote_persisted_session": {
   "createdAt": "2023-11-26T18:45:41.034Z"
  },
  "kernelspec": {
   "display_name": "Python 3 (ipykernel)",
   "language": "python",
   "name": "python3"
  },
  "language_info": {
   "codemirror_mode": {
    "name": "ipython",
    "version": 3
   },
   "file_extension": ".py",
   "mimetype": "text/x-python",
   "name": "python",
   "nbconvert_exporter": "python",
   "pygments_lexer": "ipython3",
   "version": "3.9.13"
  }
 },
 "nbformat": 4,
 "nbformat_minor": 0
}
