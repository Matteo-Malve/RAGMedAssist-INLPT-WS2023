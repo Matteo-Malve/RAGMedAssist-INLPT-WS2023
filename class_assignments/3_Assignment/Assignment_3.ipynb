{
  "cells": [
    {
      "cell_type": "markdown",
      "metadata": {
        "id": "be9f7653"
      },
      "source": [
        "**Heidelberg University**\n",
        "\n",
        "**Data Science  Group**\n",
        "    \n",
        "Prof. Dr. Michael Gertz  \n",
        "\n",
        "Ashish Chouhan, Satya Almasian, John Ziegler, Jayson Salazar, Nicolas Reuter\n",
        "    \n",
        "December 4, 2023\n",
        "    \n",
        "Natural Language Processing with Transformers\n",
        "\n",
        "Winter Semster 2023/2024     \n",
        "***"
      ],
      "id": "be9f7653"
    },
    {
      "cell_type": "markdown",
      "metadata": {
        "id": "258e9648"
      },
      "source": [
        "# **Assignment 3: “Transformers”**\n",
        "**Due**: Monday, January 8, 2024, 2pm, via [Moodle](https://moodle.uni-heidelberg.de/course/view.php?id=19251)\n",
        "\n"
      ],
      "id": "258e9648"
    },
    {
      "cell_type": "markdown",
      "metadata": {
        "id": "fc27ad9e"
      },
      "source": [
        "### **Submission Guidelines**\n",
        "\n",
        "- Solutions need to be uploaded as a **single** Jupyter notebook. You will find several pre-filled code segments in the notebook, your task is to fill in the missing cells.\n",
        "- For the written solution, use LaTeX in markdown inside the same notebook. Do **not** hand in a separate file for it.\n",
        "- Download the .zip file containing the dataset but do **not** upload it with your solution.\n",
        "- It is sufficient if one person per group uploads the solution to Moodle, but make sure that the full names of all team members are given in the notebook.\n",
        "\n",
        "***"
      ],
      "id": "fc27ad9e"
    },
    {
      "cell_type": "markdown",
      "metadata": {
        "id": "HETm7VsBkmLq"
      },
      "source": [
        "## **Task 1: Diving into Attention** (3 + 4 + 4 + 1 = 12 points)"
      ],
      "id": "HETm7VsBkmLq"
    },
    {
      "cell_type": "markdown",
      "metadata": {
        "id": "0ODkKBIRkrfe"
      },
      "source": [
        "In this task, you work with self-attention equations and find out why multi-head attention is preferable to single-head attention.\n",
        "\n",
        "Recall the equation of attention on slide 5-9 to compute self-attention on a series of input tokens. We simplify the formula by focusing on a single query vector $q \\in R^d$, value vectors ($\\{ v_1,v_2,...,v_i \\},v_i \\in R^d$), and key vectors ($\\{ k_1,k_2,...,k_i \\},k_i \\in R^d$). We then have\n",
        "\n",
        "$$\n",
        "a_i=\\frac{exp(q^Tk_i)}{\\Sigma^n_{j=1}exp(q^Tk_j)}\n",
        "$$\n",
        "\n",
        "$$\n",
        " o= \\Sigma^n_{i=1} a_i v_i\n",
        "$$\n",
        "\n",
        "with $a_i$ being the attention weight for query $q$ with respect to key $k_i$. Then the output $o$ is the new representation for the query token as a weighted average of value vectors with weights $a=\\{ a_1,a_2,...,a_i \\},a_i \\in R^d$.\n",
        "Answer the following questions with the help of the equations and the intuition behind attention that you learned in the class:\n",
        "\n"
      ],
      "id": "0ODkKBIRkrfe"
    },
    {
      "cell_type": "markdown",
      "metadata": {
        "id": "MRwxqsMVodDt"
      },
      "source": [
        "### Subtask 1: Copying  \n",
        "\n",
        "1.   Explain why $a$ can be interpreted as a categorical distribution.\n",
        "2.   This distribution is typically diffuse, where the mass is spread out between different values of $a_i$. Describe a scenario in which the categorical distribution puts all the weight on a single element, e.g., $a_j \\gg \\Sigma_{j\\neq i}a_i$. What are the conditions on key and/or query for this to happen?\n",
        "3. In this case of a single large $a$, what would the output $c$ look like and what it means intuitively?\n",
        "\n",
        "In attention, it is easy to **copy** a value vector $v_i$ to the output $o$.\n",
        "\n",
        "\n",
        "\n"
      ],
      "id": "MRwxqsMVodDt"
    },
    {
      "cell_type": "markdown",
      "metadata": {
        "id": "Km0X1VPoqgrt"
      },
      "source": [
        "**Answer**"
      ],
      "id": "Km0X1VPoqgrt"
    },
    {
      "cell_type": "markdown",
      "metadata": {
        "id": "ZcLTljmmqhIM"
      },
      "source": [
        "\n",
        "\n",
        "```\n",
        "Enter your answer here\n",
        "```\n",
        "\n",
        "\n",
        "\n"
      ],
      "id": "ZcLTljmmqhIM"
    },
    {
      "cell_type": "markdown",
      "metadata": {
        "id": "NK-2Scv8qqYV"
      },
      "source": [
        "#### ${\\color{red}{Comments\\ 1.1}}$\n",
        "\n",
        "${\\color{red}{⚠️Comments\\ begin⚠️}}$\n",
        "\n",
        "\n",
        "```\n",
        "cross-feedback comment section\n",
        "```\n",
        "\n",
        "\n",
        "${\\color{red}{⚠️Comments\\ end⚠️}}$"
      ],
      "id": "NK-2Scv8qqYV"
    },
    {
      "cell_type": "markdown",
      "metadata": {
        "id": "YmWxycPF15kM"
      },
      "source": [
        "### Subtask 2: Averaging\n"
      ],
      "id": "YmWxycPF15kM"
    },
    {
      "cell_type": "markdown",
      "metadata": {
        "id": "WFKra56Q15mq"
      },
      "source": [
        "Instead of focusing on just one value vector $v_j$, the Transformer model can incorporate information from multiple inputs. Consider the situation where we want to incorporate information from two value vectors $v_b$ and $v_c$ with keys $k_b$ and $k_c$. In machine learning one of the ways to combine this information is through averaging of vectors $o= \\frac{1}{2}(v_b+v_c)$.  It might seem hard to extract information about the original vectors $v_b$ and $v_c$ from the resulting average. But under certain conditions, one can do so. In this subtask, we look at the following cases:\n",
        "\n",
        "1. Suppose we know the following:\n",
        "\n",
        "\n",
        "* $v_b$ lies in a subspace $B$ formed by the $m$ basis vectors $\\{b_1, b_2, .. , b_m\\}$, while $v_c$ lies in a subspace $C$ formed by the $p$ basis vectors $\\{c_1, c_2, . . . , c_p\\}$ (This means that any $v_b$ and $v_c$ can be expressed as a linear combination of their basis vectors).\n",
        "*   All basis vectors have the norm 1 and are orthogonal to each other.\n",
        "*   The two subspaces $B$ and $C$ are orthogonal, meaning $b_j^Tc_k=0$ for all $j$ and $k$.\n",
        "* Given that $\\{b_1, b_2, .. , b_m\\}$ are both orthogonal and form a basis for $v_b$, we know that there exists some $d_1, ..., d_m$ such that $v_b=d_1 b_1+d_2 b_2+...+d_m b_m$. Use these $d\\text{s}$ to solve this task.\n",
        "\n",
        "Using the basis vectors $\\{b_1, b_2, .. , b_m\\}$, construct a matrix $M$ such that for arbitrary vectors $v_b$ and $v_c$ with the given conditions, we can use $M$ to extract $v_b$ from the sum of the vector $s = v_b + v_c$. In other words, construct an $M$ such that  $ Ms = v_b$ holds.\n",
        "\n",
        "\n",
        "2. If we assume that\n",
        "* all key vectors are orthogonal, i.e., $k_i^Tk_j=0$ for all $i \\neq j$, and\n",
        "* all key vectors have the norm 1.\n",
        "\n",
        "Find an expression for the query vector $q$ such that $o \\approx \\frac{1}{2}(v_b+v_c)$. Justify your answer.\n",
        "\n",
        "**Hint:** Use your finding in subtask 1 to solve part 2.\n",
        "\n",
        "**Hint:** If the norm of a vector $x$ is 1, then $x^Tx=1$\n",
        "\n",
        "**Hint:** Start with writing $v_b$ and $v_c$ as the linear combination of the bases.\n"
      ],
      "id": "WFKra56Q15mq"
    },
    {
      "cell_type": "markdown",
      "metadata": {
        "id": "UdPaWhCzTxKT"
      },
      "source": [
        "**Answer**"
      ],
      "id": "UdPaWhCzTxKT"
    },
    {
      "cell_type": "markdown",
      "metadata": {
        "id": "uDB4aKn0Us4H"
      },
      "source": [
        "\n",
        "\n",
        "```\n",
        "Enter your answer here\n",
        "```\n",
        "\n",
        "\n"
      ],
      "id": "uDB4aKn0Us4H"
    },
    {
      "cell_type": "markdown",
      "metadata": {
        "id": "5poTWvSxUoc3"
      },
      "source": [
        "#### ${\\color{red}{Comments\\ 1.2}}$\n",
        "\n",
        "${\\color{red}{⚠️Comments\\ begin⚠️}}$\n",
        "\n",
        "\n",
        "```\n",
        "cross-feedback comment section\n",
        "```\n",
        "\n",
        "\n",
        "${\\color{red}{⚠️Comments\\ end⚠️}}$"
      ],
      "id": "5poTWvSxUoc3"
    },
    {
      "cell_type": "markdown",
      "metadata": {
        "id": "imqOTai0bxuA"
      },
      "source": [
        "### Subtask 3: Drawbacks of Single-head Attention"
      ],
      "id": "imqOTai0bxuA"
    },
    {
      "cell_type": "markdown",
      "metadata": {
        "id": "0lObCVx7bx3q"
      },
      "source": [
        "You might have wondered why we need multi-heads for attention. In this subtask, we look at some of the drawbacks of having a single head attention. As shown in the previous subtask, it is possible for single head attention to focus equally on two values. The same can apply to any subset of values, which therefor can become problematic.\n",
        "\n",
        "Consider a set of key vectors $\\{ k_1,k_2,...,k_n \\}$, randomly sampled from a normal distribution with a known mean value of $\\mu_i \\in R^d$ and unknown covariance $Σ_i, i \\in \\{1, \\ldots, n\\}$, where\n",
        "\n",
        "\n",
        "*   $\\mu_i\\text{s}$ are all orthogonal $\\mu_i^T\\mu_j=0$ if $i \\neq j$.\n",
        "*   $\\mu_i\\text{s}$ all have unit norm $||\\mu_i||=1$.\n",
        "\n",
        "1. For a vanishingly small $\\alpha$ (not to be confused with attention weights), the covariance matrices are  $Σ_i=\\alpha I, \\forall i  \\in \\{1,2,..,n\\}$, design a query $q$ in terms of the $\\mu_i$ such that as before, $o= \\frac{1}{2}(v_b+v_c)$ and describe why it works.\n",
        "\n",
        "2.  Large perturbations in key value might cause problems for single head attention.  Specifically, in some cases, one key vector $k_b$ may be larger or smaller in norm than the others, while still pointing in the same direction as $\\mu_b$. As an example of such a case,\n",
        "consider a covariance matrix for item $b$ for vanishingly small $\\alpha$ as $Σ_b=\\alpha I + \\frac{1}{2}(\\mu_b^T\\mu_b)$. This causes $k_a$ to point to roughly the same direction as $\\mu_b$ but with large differences in magnitude, while for other items. Further, let $Σ_i=\\alpha I\\  \\forall_i i \\neq b$. When you sample multiple keys from the distribution $\\{ k_1,k_2,...,k_n \\}$ and use the $q$ vector from the pervious part, what do you expect vector $o$ to look like? Explain why this shows the drawback of single-head attention.\n",
        "\n",
        "**Hint:**\n",
        "Think about how it differs from pervious part and how $o$'s variance would be affected by the change in $Σ_b$.\n",
        "\n",
        "**Hint:** Considering that $\\mu_b^T\\mu_b=1$, think of what are the ranges $Σ_b$ can take and how does that effect a sampled $k_b$ value.\n",
        "\n",
        "**Hint:** $\\frac{exp(b)}{exp(b)+exp(c)}=\\frac{exp(b)}{exp(b)+exp(c)}\\frac{exp(-b)}{exp(-b)}= \\frac{1}{1+exp(c-b)}$"
      ],
      "id": "0lObCVx7bx3q"
    },
    {
      "cell_type": "markdown",
      "metadata": {
        "id": "PFkzZv9NcCpZ"
      },
      "source": [
        "**Answer:**"
      ],
      "id": "PFkzZv9NcCpZ"
    },
    {
      "cell_type": "markdown",
      "metadata": {
        "id": "1yhrRv0rTww2"
      },
      "source": [
        "\n",
        "\n",
        "```\n",
        "Enter your answer here\n",
        "```\n",
        "\n"
      ],
      "id": "1yhrRv0rTww2"
    },
    {
      "cell_type": "markdown",
      "metadata": {
        "id": "j0r37mi5cC1B"
      },
      "source": [
        "#### ${\\color{red}{Comments\\ 1.3}}$\n",
        "\n",
        "${\\color{red}{⚠️Comments\\ begin⚠️}}$\n",
        "\n",
        "\n",
        "```\n",
        "cross-feedback comment section\n",
        "```\n",
        "\n",
        "\n",
        "${\\color{red}{⚠️Comments\\ end⚠️}}$"
      ],
      "id": "j0r37mi5cC1B"
    },
    {
      "cell_type": "markdown",
      "metadata": {
        "id": "_qxdcrolx48r"
      },
      "source": [
        "### Subtask 4: Model Size  \n",
        "1. Imagine you have an input sequence of  $l$ tokens, how much memory is required and what time complexity do we have for a single self-attention layer? (give your answer in terms of $l$)\n",
        "2. If you have $N$ layers of self-attention, how  would the memory requirements and the time complexity change? (give your answer in terms of $l$ and $N$)\n",
        "3. If you have $l=10,000$ and $10$ layers, with the ability to perform $10M$ operations per second, how long would it take to compute the attention output?\n"
      ],
      "id": "_qxdcrolx48r"
    },
    {
      "cell_type": "markdown",
      "metadata": {
        "id": "s35qnPU4yoYD"
      },
      "source": [
        "**Answer**"
      ],
      "id": "s35qnPU4yoYD"
    },
    {
      "cell_type": "markdown",
      "metadata": {
        "id": "LzlVLskKzBXq"
      },
      "source": [
        "\n",
        "\n",
        "```\n",
        "Enter your answer here\n",
        "```\n",
        "\n"
      ],
      "id": "LzlVLskKzBXq"
    },
    {
      "cell_type": "markdown",
      "metadata": {
        "id": "n2UFNSuozvNd"
      },
      "source": [
        "#### ${\\color{red}{Comments\\ 1.4}}$\n",
        "\n",
        "${\\color{red}{⚠️Comments\\ begin⚠️}}$\n",
        "\n",
        "\n",
        "```\n",
        "cross-feedback comment section\n",
        "```\n",
        "\n",
        "\n",
        "${\\color{red}{⚠️Comments\\ end⚠️}}$"
      ],
      "id": "n2UFNSuozvNd"
    },
    {
      "cell_type": "markdown",
      "metadata": {
        "id": "Av_GjYokHmGo"
      },
      "source": [
        "## **Task 2: Multiple Choice Question Answering** (4 + 3 + 5 + 2 = 14 points)"
      ],
      "id": "Av_GjYokHmGo"
    },
    {
      "cell_type": "markdown",
      "metadata": {
        "id": "hypnmNp2yeNz"
      },
      "source": [
        "In this task, you will fine-tune a transformer model on a multiple-choice task, which is the task of selecting the most plausible inputs in a given selection. The dataset used here is [SWAG](https://www.aclweb.org/anthology/D18-1009/), which is available via the Hugging Face [hub](https://huggingface.co/datasets/swag). Check the link for an overview of the dataset. SWAG is a dataset about commonsense reasoning, where each example describes a situation and then proposes four options that could apply for it.\n",
        "Let's start by installing the necessary packages."
      ],
      "id": "hypnmNp2yeNz"
    },
    {
      "cell_type": "code",
      "execution_count": null,
      "metadata": {
        "id": "RYb57u4CHnZ7"
      },
      "outputs": [],
      "source": [
        "%pip install transformers\n",
        "%pip install datasets\n",
        "%pip install evaluate\n",
        "%pip install accelerate -U\n",
        "%pip install sentencepiece"
      ],
      "id": "RYb57u4CHnZ7"
    },
    {
      "cell_type": "markdown",
      "metadata": {
        "id": "oLwC5naF8KzV"
      },
      "source": [
        "In this task, you will use a BERT model with a `MultipleChoice` head from the Hugging Face library and then create your custom model.   Recall from the class that the BERT model has an auxiliary next sentence prediction task, in which two sentences are given to BERT separated by a `[SEP]` token and a classifier head decides if the second sentence logically follows the first one. Hugging Face has\n",
        " a `*ForMultipleChoice` architecture that uses the representation of the `[CLS]` token and a linear layer to classify if one sentence follows the other. We first start with this default architecture and then build a more complicated one in a later subtask."
      ],
      "id": "oLwC5naF8KzV"
    },
    {
      "cell_type": "markdown",
      "metadata": {
        "id": "FJ7H6SSk1DqI"
      },
      "source": [
        "### Subtask 1: Loading and Processing the Data"
      ],
      "id": "FJ7H6SSk1DqI"
    },
    {
      "cell_type": "markdown",
      "metadata": {
        "id": "KvvYhCtW1kI3"
      },
      "source": [
        "We use the `dataset` library to download the SWAG dataset, which already contains train, validation, and test splits."
      ],
      "id": "KvvYhCtW1kI3"
    },
    {
      "cell_type": "code",
      "execution_count": null,
      "metadata": {
        "id": "-cLxQBhq0Rmo"
      },
      "outputs": [],
      "source": [
        "import os\n",
        "os.environ['CUDA_LAUNCH_BLOCKING'] = \"1\"\n",
        "from datasets import load_dataset, load_metric\n",
        "datasets = load_dataset(\"swag\", \"regular\")\n",
        "datasets"
      ],
      "id": "-cLxQBhq0Rmo"
    },
    {
      "cell_type": "markdown",
      "metadata": {
        "id": "DHkkMD3v4bs3"
      },
      "source": [
        "Lets look at the first item to see how the data looks like:"
      ],
      "id": "DHkkMD3v4bs3"
    },
    {
      "cell_type": "code",
      "execution_count": null,
      "metadata": {
        "id": "vN6p1Mt84ZW_"
      },
      "outputs": [],
      "source": [
        "datasets[\"train\"][0]"
      ],
      "id": "vN6p1Mt84ZW_"
    },
    {
      "cell_type": "markdown",
      "metadata": {
        "id": "xOxxXEdbTF8l"
      },
      "source": [
        "**Question:**\n",
        "Look at the dataset card on the Hugging Face hub and define what each of these fields means, with respect to the task:\n",
        "\n",
        "*   `sent1`:\n",
        "*   `sent2`:\n",
        "*    `ending0`, `ending1`, `ending2` and `ending3`:\n",
        "*   `label`:\n",
        "\n",
        "\n"
      ],
      "id": "xOxxXEdbTF8l"
    },
    {
      "cell_type": "markdown",
      "metadata": {
        "id": "2FfOTODlURAY"
      },
      "source": [
        "**Answer**\n",
        "\n",
        "`\n",
        "Enter your answer here\n",
        "`"
      ],
      "id": "2FfOTODlURAY"
    },
    {
      "cell_type": "markdown",
      "metadata": {
        "id": "D9TcSWfiU2m-"
      },
      "source": [
        "Write a function that displays the context and each of the four choices, following the format\n",
        "\n",
        "\n",
        "```\n",
        "Context:...\n",
        "A-\n",
        "B-\n",
        "C-\n",
        "D-\n",
        "Ground truth: option ...\n",
        "```\n",
        "\n",
        "How you display the results is not important. You should be able to extract different parts of the data correctly and know what each field represents."
      ],
      "id": "D9TcSWfiU2m-"
    },
    {
      "cell_type": "code",
      "execution_count": null,
      "metadata": {
        "id": "jVOf4b2r4gDq"
      },
      "outputs": [],
      "source": [
        "def explain_example(example):\n",
        "  ### your code ###\n",
        "\n",
        "  ### your code ###"
      ],
      "id": "jVOf4b2r4gDq"
    },
    {
      "cell_type": "code",
      "execution_count": null,
      "metadata": {
        "id": "BlTFSjmR5QrP"
      },
      "outputs": [],
      "source": [
        "explain_example(datasets[\"train\"][0])"
      ],
      "id": "BlTFSjmR5QrP"
    },
    {
      "cell_type": "markdown",
      "metadata": {
        "id": "lXnX0E915qbb"
      },
      "source": [
        "Before feeding the data into the model, we need to preprocess the text using `Tokenizer` to tokenize the inputs into tokens and put it in a format that the model expects. The tokenizer specific to the model we want to use for this task is `distilbert-base-uncased`. Complete the code below to load a fast tokenizer for this model. DistilBERT is similar to the BERT model, and we only use this particular architecture for faster training.\n"
      ],
      "id": "lXnX0E915qbb"
    },
    {
      "cell_type": "code",
      "execution_count": null,
      "metadata": {
        "id": "fd4BkVDc5RdO"
      },
      "outputs": [],
      "source": [
        "from transformers import AutoTokenizer\n",
        "\n",
        "###your code###\n",
        "tokenizer =\n",
        "###your code###"
      ],
      "id": "fd4BkVDc5RdO"
    },
    {
      "cell_type": "code",
      "execution_count": null,
      "metadata": {
        "id": "BbtOfQ4T7AQV"
      },
      "outputs": [],
      "source": [
        "tokenizer(\"This is the first sentence!\", \"And this is the second one.\")"
      ],
      "id": "BbtOfQ4T7AQV"
    },
    {
      "cell_type": "markdown",
      "metadata": {
        "id": "4LMdG45b7Yop"
      },
      "source": [
        "Write a function that preprocesses the samples.\n",
        "The tricky part is to put all the possible pairs of sentences in two big lists before passing them to the tokenizer.\n",
        "Each **first** sentence has to be repeated 4 times to go with different ending options.\n",
        "There should be a separator token between the first and second sentence, to follow the BERT input logic.\n",
        "The final output is a list of 4 elements, one for each choice, where the input is transformed by the tokenizer.\n",
        "For example, with a list of 2 training examples, the output includes 2 lists, where each contains 4 elements. Each of those elements is the converted input ID of the first sentence followed by the second sentence with different endings.\n",
        "When calling the `tokenizer`, we use the argument `truncation=True`. This will ensure that an input longer than what the model selected can handle will be truncated to the maximum length accepted by the model.\n",
        "\n",
        "**Hint:** Flatten the lists (all choices are flattened into a single list) before feeding them into the tokenizer and unflatten them once again for the final output."
      ],
      "id": "4LMdG45b7Yop"
    },
    {
      "cell_type": "code",
      "execution_count": null,
      "metadata": {
        "id": "uEBvuUSm7FD_"
      },
      "outputs": [],
      "source": [
        "### your code ###\n",
        "ending_names =\n",
        "### your code ###\n",
        "def preprocess_function(examples):\n",
        "  ### your code ###\n",
        "    # repeat each first sentence four times\n",
        "    first_sentences =\n",
        "    # second sentences possible are combination of header and ending\n",
        "    question_headers =\n",
        "    second_sentences =\n",
        "\n",
        "    # flatten everything\n",
        "\n",
        "\n",
        "    # tokenize\n",
        "\n",
        "    # un-flatten\n",
        "\n",
        "\n",
        "    return\n",
        "    ### your code ###"
      ],
      "id": "uEBvuUSm7FD_"
    },
    {
      "cell_type": "code",
      "execution_count": null,
      "metadata": {
        "id": "9Q25z-jQ-rMu"
      },
      "outputs": [],
      "source": [
        "examples = datasets[\"train\"][:2]\n",
        "features = preprocess_function(examples)\n",
        "print(len(features[\"input_ids\"]), len(features[\"input_ids\"][0]), [len(x) for x in features[\"input_ids\"][0]])# output should be 2 4 [30, 25, 30, 28]"
      ],
      "id": "9Q25z-jQ-rMu"
    },
    {
      "cell_type": "markdown",
      "metadata": {
        "id": "hKizHUiGXgj-"
      },
      "source": [
        "We can now apply our function to all the examples in the dataset. We use the `map` method to apply the function on all the elements of all the splits in the dataset (training, validation, and testing).\n",
        "Note that we passed `batched=True` to leverage the fast tokenizer and use multi-threading to process the texts in batches concurrently."
      ],
      "id": "hKizHUiGXgj-"
    },
    {
      "cell_type": "code",
      "execution_count": null,
      "metadata": {
        "id": "9Wau4GZsXcvE"
      },
      "outputs": [],
      "source": [
        "encoded_datasets = datasets.map(preprocess_function, batched=True)"
      ],
      "id": "9Wau4GZsXcvE"
    },
    {
      "cell_type": "markdown",
      "metadata": {
        "id": "G69L2vtPR8uV"
      },
      "source": [
        "Our dataset is still not converted to tensors and not padded. This is the job of the `data collator`. A data collator takes a list of examples and converts them to a batch.\n",
        "There is no data collator in the Hugging Face default library that works on our specific problem. We thus need to write our own one. In this collator:\n",
        "\n",
        "*  All the inputs/attention masks are flattened.\n",
        "* A flattened list is passed to the `tokenizer.pad ` method to apply dynamic padding to pad inputs to the maximum length in the batch. Output will be the size of `(batch_size * 4) x seq_length`.\n",
        "* Everything needs to be unflattened for the output of the data collator.\n",
        "* `input_ids` and `labels` should be returned as tensors.\n",
        "* The output is a dictionary called `batch` that contains features needed for training (`input_ids`, `attention_mask`, `label`).\n",
        "\n"
      ],
      "id": "G69L2vtPR8uV"
    },
    {
      "cell_type": "code",
      "execution_count": null,
      "metadata": {
        "id": "r_3SvkBOSgZx"
      },
      "outputs": [],
      "source": [
        "from dataclasses import dataclass\n",
        "from transformers.tokenization_utils_base import PreTrainedTokenizerBase, PaddingStrategy\n",
        "from typing import Optional, Union\n",
        "import torch\n",
        "\n",
        "@dataclass\n",
        "class MultipleChoiceDataCollator:\n",
        "    tokenizer: PreTrainedTokenizerBase\n",
        "    padding: Union[bool, str, PaddingStrategy] = True\n",
        "    max_length: Optional[int] = None\n",
        "    pad_to_multiple_of: Optional[int] = None\n",
        "\n",
        "    def __call__(self, features):\n",
        "        accepted_keys = [\"input_ids\", \"attention_mask\", \"label\"]\n",
        "        if len(features[0])>len(accepted_keys):\n",
        "          features=[{k: v for k, v in i.items() if k in accepted_keys} for i in features]\n",
        "      ### your code ###\n",
        "\n",
        "        labels =\n",
        "        # flatten\n",
        "        flattened_features =\n",
        "\n",
        "        # use the tokenizer and attributes from the class to pad the input\n",
        "        batch = self.tokenizer...\n",
        "\n",
        "\n",
        "        # un-flatten\n",
        "\n",
        "\n",
        "        ### your code ###\n",
        "        return batch"
      ],
      "id": "r_3SvkBOSgZx"
    },
    {
      "cell_type": "code",
      "execution_count": null,
      "metadata": {
        "id": "-oKeJUr_UBUV"
      },
      "outputs": [],
      "source": [
        "accepted_keys = [\"input_ids\", \"attention_mask\", \"label\"]\n",
        "features = [{k: v for k, v in encoded_datasets[\"train\"][i].items() if k in accepted_keys} for i in range(2)]\n",
        "batch=MultipleChoiceDataCollator(tokenizer)(features)\n",
        "print(batch[\"input_ids\"].shape)\n",
        "print(batch[\"attention_mask\"].shape)\n",
        "print(batch[\"labels\"].shape)"
      ],
      "id": "-oKeJUr_UBUV"
    },
    {
      "cell_type": "code",
      "execution_count": null,
      "metadata": {
        "id": "glDO1KfaVXoX"
      },
      "outputs": [],
      "source": [
        "for i in range(4):\n",
        "  print(batch[\"input_ids\"][0][i])\n",
        "  print(tokenizer.decode(batch[\"input_ids\"][0][i]))"
      ],
      "id": "glDO1KfaVXoX"
    },
    {
      "cell_type": "markdown",
      "metadata": {
        "id": "WD4IjgtLYCLa"
      },
      "source": [
        "#### ${\\color{red}{Comments\\ 2.1}}$\n",
        "\n",
        "${\\color{red}{⚠️Comments\\ begin⚠️}}$\n",
        "\n",
        "\n",
        "```\n",
        "cross-feedback comment section\n",
        "```\n",
        "\n",
        "\n",
        "${\\color{red}{⚠️Comments\\ end⚠️}}$"
      ],
      "id": "WD4IjgtLYCLa"
    },
    {
      "cell_type": "markdown",
      "metadata": {
        "id": "mZZDaB9LXSB4"
      },
      "source": [
        "### Subtask 2: Fine-tuning a Hugging Face Model"
      ],
      "id": "mZZDaB9LXSB4"
    },
    {
      "cell_type": "markdown",
      "metadata": {
        "id": "toXHZtX7XSEs"
      },
      "source": [
        "To fine-tune our model, we first need to download the correct architecture from Hugging Face. Import the correct class for this task and download the pre-trained checkpoint for the base class from `distilbert-base-uncased`. Note that the weights in the classification head are initialized at random."
      ],
      "id": "toXHZtX7XSEs"
    },
    {
      "cell_type": "code",
      "execution_count": null,
      "metadata": {
        "id": "NONtYIrE-w6p"
      },
      "outputs": [],
      "source": [
        "### your code ###\n",
        "from transformers import ...\n",
        "model_hf =\n",
        "\n",
        "### your code ###"
      ],
      "id": "NONtYIrE-w6p"
    },
    {
      "cell_type": "markdown",
      "metadata": {
        "id": "f4C8rBosXSVi"
      },
      "source": [
        "Next, we need to define our `Trainer` and pass in the correct `TrainingArguments` (a class that contains all the attributes to customize the training). Define a `TrainingArguments` that\n",
        "\n",
        "\n",
        "* creates an output directory `distilbert-base-uncased-swag` to save the checkpoints and logs.\n",
        "*   evaluates the model on the validation set after the `300` steps.\n",
        "* a checkpoint should be saved after each `600` step and no more than 2 checkpoints should be saved in total.\n",
        "* the random seed for training is `77`.\n",
        "* batch size for training and evaluation: `48` (if you are running out of memory, feel free to change this setting but indicate it as a comment in your notebook, on a T4 GPU from google colab this takes about `13.2GB` of `15.0GB`).\n",
        "* train for `1800` steps with a learning rate of `5e-5`, and add weight decay of `0.01` to the optimizer.\n",
        "* the trainer should remove the columns from the data that are not used by the model.\n",
        "* The final checkpoint should be the checkpoint that had the best overall validation metric not necessarily the last checkpoint.\n",
        "\n",
        "**Note:** Please use GPU for to train your model. If on colab, you can use T4 GPU for free."
      ],
      "id": "f4C8rBosXSVi"
    },
    {
      "cell_type": "code",
      "execution_count": null,
      "metadata": {
        "id": "DXLTm2Ed-1CI"
      },
      "outputs": [],
      "source": [
        "from transformers import TrainingArguments, Trainer\n",
        "training_args =\n",
        "    ### your code ###\n",
        "\n",
        "\n",
        "    ### your code ###\n"
      ],
      "id": "DXLTm2Ed-1CI"
    },
    {
      "cell_type": "markdown",
      "metadata": {
        "id": "8w1tE975ZGS9"
      },
      "source": [
        "Before we initialize the `Trainer`, we create a function that tells the trainer how to compute the metrics from the predictions. Fill the `compute_metrics` function to compute the accuracy based on the `predictions`. This object contains the prediction of the model, as well as the ground truth labels.\n",
        "\n",
        "**Hint 1:** Keep in mind that the output of this function should be a dictionary containing the metric name and value.\n",
        "\n",
        "**Hint 2:** Consider the shape of the example input. This is similar to the logits produced by the model."
      ],
      "id": "8w1tE975ZGS9"
    },
    {
      "cell_type": "code",
      "execution_count": null,
      "metadata": {
        "id": "gilWMRNJXsBq"
      },
      "outputs": [],
      "source": [
        "import numpy as np\n",
        "def compute_metrics(predictions):\n",
        "  ### your code ###\n",
        "   preds, label_ids =\n",
        "\n",
        "   return_dict=\n",
        "  ### your code ###\n",
        "    return return_dict"
      ],
      "id": "gilWMRNJXsBq"
    },
    {
      "cell_type": "code",
      "execution_count": null,
      "metadata": {
        "id": "SAC4DktAAt8y"
      },
      "outputs": [],
      "source": [
        "preds=np.array([[0.9,0.2,0,0],\n",
        "                [0.2,0.2,0.9,0.1],\n",
        "                [0.2,0.9,0,0],\n",
        "                [0.2,0.1,0.8,0],\n",
        "                [0.9,0.1,0.8,0],\n",
        "                [0.2,1,0.4,0],\n",
        "                [0.2,1,0.4,0.9],\n",
        "                [1,0.1,0.4,0.3],\n",
        "                [0.1,0.1,0.9,0.3],\n",
        "                [0.1,0.1,0.2,1]])\n",
        "label_ids=np.array([0,3,1,2,0,1,3,0,2,3])\n",
        "compute_metrics((preds,label_ids))"
      ],
      "id": "SAC4DktAAt8y"
    },
    {
      "cell_type": "markdown",
      "metadata": {
        "id": "koPEX6UmAvTp"
      },
      "source": [
        "Now it's time to pass everything to a `Trainer` object to start the training process. Initialize a `Trainer` object and pass all the necessary information, keep in mind that we also have the optional metric computation and that we tend to run an evaluation on the validation set during training. The training should take around 30 min on Google Colab T4 GPU."
      ],
      "id": "koPEX6UmAvTp"
    },
    {
      "cell_type": "code",
      "execution_count": null,
      "metadata": {
        "id": "38Xrwx4OSUIe"
      },
      "outputs": [],
      "source": [
        "device = torch.device(\"cuda\") if torch.cuda.is_available() else torch.device(\"cpu\")\n",
        "device"
      ],
      "id": "38Xrwx4OSUIe"
    },
    {
      "cell_type": "code",
      "execution_count": null,
      "metadata": {
        "id": "ybmjWr1gFoR9"
      },
      "outputs": [],
      "source": [
        "### your code ###\n",
        "trainer =\n",
        "### your code ###"
      ],
      "id": "ybmjWr1gFoR9"
    },
    {
      "cell_type": "code",
      "execution_count": null,
      "metadata": {
        "id": "UFcB9_hCF8Kx"
      },
      "outputs": [],
      "source": [
        "trainer.train()# should take around 30 min on Google Colab T4 GPU"
      ],
      "id": "UFcB9_hCF8Kx"
    },
    {
      "cell_type": "markdown",
      "metadata": {
        "id": "nLXcPADKi73j"
      },
      "source": [
        "Save the model in `distilbert-base-uncased-swag/final_model`."
      ],
      "id": "nLXcPADKi73j"
    },
    {
      "cell_type": "code",
      "execution_count": null,
      "metadata": {
        "id": "tlHd67J2qBdA"
      },
      "outputs": [],
      "source": [
        "### your code ###\n",
        "\n",
        "### your code ###"
      ],
      "id": "tlHd67J2qBdA"
    },
    {
      "cell_type": "markdown",
      "metadata": {
        "id": "of7b-SkFne_J"
      },
      "source": [
        "Look at the saved files and answer the following questions (it is possible to answer these questions by writing some code, but we want you to explore the saved files):\n",
        "\n",
        "**Question:**\n",
        "\n",
        "\n",
        "1.   What is the vocabulary id for the `[CLS]` and `[MASK]` tokens?\n",
        "2.   What is the dropout probability for the attention layer?\n",
        "\n",
        "**Dropout:** With dropout, certain nodes are set to the value zero in a training run, i.e. removed from the network. Thus, they have no influence on the prediction and also in the backpropagation. Thus, a new, slightly modified network architecture is built in each run and the network learns to produce good predictions without certain inputs. Read more [here](https://databasecamp.de/en/ml/dropout-layer-en).\n",
        "\n"
      ],
      "id": "of7b-SkFne_J"
    },
    {
      "cell_type": "markdown",
      "metadata": {
        "id": "eZ74Uaouno6L"
      },
      "source": [
        "**Answer**\n",
        "\n",
        "`\n",
        "Enter your answer here\n",
        "`"
      ],
      "id": "eZ74Uaouno6L"
    },
    {
      "cell_type": "markdown",
      "metadata": {
        "id": "Auvva-EkGcRR"
      },
      "source": [
        "#### ${\\color{red}{Comments\\ 2.2}}$\n",
        "\n",
        "${\\color{red}{⚠️Comments\\ begin⚠️}}$\n",
        "\n",
        "\n",
        "```\n",
        "cross-feedback comment section\n",
        "```\n",
        "\n",
        "\n",
        "${\\color{red}{⚠️Comments\\ end⚠️}}$"
      ],
      "id": "Auvva-EkGcRR"
    },
    {
      "cell_type": "markdown",
      "metadata": {
        "id": "vAcJQfpHAvbR"
      },
      "source": [
        "### Subtask 3: Fine-tune a Custom Model\n"
      ],
      "id": "vAcJQfpHAvbR"
    },
    {
      "cell_type": "markdown",
      "metadata": {
        "id": "QT3cbQO-wnio"
      },
      "source": [
        "In this case, we were lucky that Hugging Face had a pre-implemented architecture available for us to use. However, that is not always the case. Moreover, we might want to experiment beyond the default architectures to find a suitable one for a task. Therefore, it is important to learn to extend the Hugging Face models and train a custom model. The good news is that except for the model architecture the rest of the code can remain as it is."
      ],
      "id": "QT3cbQO-wnio"
    },
    {
      "cell_type": "markdown",
      "metadata": {
        "id": "G2RtNQewxG2O"
      },
      "source": [
        "Design a model for multiple choice model as follows:\n",
        "\n",
        "\n",
        "1.   the config file for a feature extractor (must be a distilbert type) is  passed during initialization. The config file determines which model is used for feature extraction.\n",
        "2.   From the `last_hidden_state` of the feature extractor, choose the `[CLS]` embedding (first one). This embedding is used as the compressed representation of first and second sentences. During pre-training it is used  for classifying whether these two sentences follow one another, making it a good candidate for our task.\n",
        "3. `[CLS]` embedding is passed through a linear layer **that does not change the size of the embedding** and is passed through a tanh nonlinearity.\n",
        "4. The output of tanh is passed through a dropout layer, where the dropout probability is the same as the dropout probability used for the `distilbert` model used as feature extractor.\n",
        "5. The output of the previous stage is fed into another linear layer that shrinks the size of the embedding dimension to a quarter of the original size, e.g., if the embedding size is 12, the new embedding dimension is 3.\n",
        "6. The output is followed by another dropout layer (you can use the one from stage 4).\n",
        "7. Finally, a binary classifier is applied to determine the probability of sentence 1 being followed by sentence 2.\n",
        "8. the cross-entropy loss is used to compute the loss.\n",
        "\n",
        "**Hint:** Keep in mind that for a 4 choice system, you classify each of the four solutions independently. However, the final output should group the four logits together. For example, if input ids have the shape `[2, 4, 35]` (batch size=2, num choices=4, seq len=35), then the logits have the `[2, 4]` and labels have the dimension `[2, 1]`.\n",
        "\n"
      ],
      "id": "G2RtNQewxG2O"
    },
    {
      "cell_type": "code",
      "execution_count": null,
      "metadata": {
        "id": "KUZOp8o1Pb9X"
      },
      "outputs": [],
      "source": [
        "from transformers import DistilBertModel,BertConfig,DistilBertConfig,PretrainedConfig,PreTrainedModel,DistilBertPreTrainedModel\n",
        "from torch import nn\n",
        "\n",
        "class CustomMultipleChoice(DistilBertPreTrainedModel):\n",
        "    def __init__(self, config: PretrainedConfig):\n",
        "        super().__init__(config)\n",
        "        ###your code ###\n",
        "        self.distilbert =\n",
        "        self.dense =\n",
        "        self.activation =\n",
        "        self.dropout =\n",
        "        self.dense2 =\n",
        "        self.classifier =\n",
        "        ###your code ###\n",
        "\n",
        "\n",
        "    def forward(\n",
        "        self,\n",
        "        input_ids: Optional[torch.Tensor] = None,\n",
        "        attention_mask: Optional[torch.Tensor] = None,\n",
        "        labels: Optional[torch.Tensor] = None,\n",
        "    ):\n",
        "        \"\"\"\n",
        "        input_ids: input sentences converted to ids\n",
        "        attention_mask: the attention mask\n",
        "        labels:  Labels for computing the multiple choice classification loss. Indices should be in `[0, ...,num_choices-1]` where `num_choices` is the size of the second dimension of the input tensors.\n",
        "        \"\"\"\n",
        "\n",
        "        num_choices = input_ids.shape[1]\n",
        "\n",
        "        ###your code ###\n",
        "        input_ids =\n",
        "        attention_mask =\n",
        "\n",
        "\n",
        "\n",
        "        loss = None\n",
        "        if labels is not None:\n",
        "\n",
        "        ###your code ###\n",
        "        return {\"loss\":loss,\"logits\":reshaped_logits}\n"
      ],
      "id": "KUZOp8o1Pb9X"
    },
    {
      "cell_type": "markdown",
      "metadata": {
        "id": "IXFcGJQPgjil"
      },
      "source": [
        "Initialize the feature extractor with `distilbert-base-uncased` and create your custome model."
      ],
      "id": "IXFcGJQPgjil"
    },
    {
      "cell_type": "code",
      "execution_count": null,
      "metadata": {
        "id": "GHCT0HdYKk5p"
      },
      "outputs": [],
      "source": [
        "from transformers import AutoConfig\n",
        "###your code ###\n",
        "config=\n",
        "model_custom =\n",
        "###your code ###"
      ],
      "id": "GHCT0HdYKk5p"
    },
    {
      "cell_type": "code",
      "execution_count": null,
      "metadata": {
        "id": "_genDEZbgsJd"
      },
      "outputs": [],
      "source": [
        "for name, param in model_custom.named_parameters():\n",
        "    if param.requires_grad and not name.startswith(\"distilbert.\"):\n",
        "        print(name, param.data.shape)"
      ],
      "id": "_genDEZbgsJd"
    },
    {
      "cell_type": "markdown",
      "metadata": {
        "id": "yyD-ivMzh5P7"
      },
      "source": [
        "We keep the same training arguments but change the directory in which we save the model logs, the directory in which we save the model output and the name of the run, to `custom_model`.\n",
        "\n"
      ],
      "id": "yyD-ivMzh5P7"
    },
    {
      "cell_type": "code",
      "execution_count": null,
      "metadata": {
        "id": "aX5Jw-Eubo56"
      },
      "outputs": [],
      "source": [
        "###your code ###\n",
        "\n",
        "\n",
        "###your code ###"
      ],
      "id": "aX5Jw-Eubo56"
    },
    {
      "cell_type": "markdown",
      "metadata": {
        "id": "0sCoDrINiO0j"
      },
      "source": [
        "Initialize the trainer for training the custom model.The training should take around 30 min on Google Colab T4 GPU.\n"
      ],
      "id": "0sCoDrINiO0j"
    },
    {
      "cell_type": "code",
      "execution_count": null,
      "metadata": {
        "id": "s1_2hwKabo8p"
      },
      "outputs": [],
      "source": [
        "trainer =\n",
        "###your code ###\n",
        "\n",
        "###your code ###\n"
      ],
      "id": "s1_2hwKabo8p"
    },
    {
      "cell_type": "code",
      "execution_count": null,
      "metadata": {
        "id": "btobBRSZbo_O"
      },
      "outputs": [],
      "source": [
        "trainer.train()# should take around 30 min on Colab T4 GPU"
      ],
      "id": "btobBRSZbo_O"
    },
    {
      "cell_type": "markdown",
      "metadata": {
        "id": "B9Fi0ZZYjIdJ"
      },
      "source": [
        "Save the model in `custom_model/final_model`. Note that with the custom model, you need to save it without the help of the trainer. The trainer would save the configuration but since this model is not a registered Hugging Face model only the base model would be saved. Loading the model weights is also effected by this."
      ],
      "id": "B9Fi0ZZYjIdJ"
    },
    {
      "cell_type": "code",
      "execution_count": null,
      "metadata": {
        "id": "rvb3xo-ibpB9"
      },
      "outputs": [],
      "source": [
        "###your code ###\n",
        "\n",
        "###your code ###"
      ],
      "id": "rvb3xo-ibpB9"
    },
    {
      "cell_type": "markdown",
      "metadata": {
        "id": "UxU3fivlihOX"
      },
      "source": [
        "#### ${\\color{red}{Comments\\ 2.3}}$\n",
        "\n",
        "${\\color{red}{⚠️Comments\\ begin⚠️}}$\n",
        "\n",
        "\n",
        "```\n",
        "cross-feedback comment section\n",
        "```\n",
        "\n",
        "\n",
        "${\\color{red}{⚠️Comments\\ end⚠️}}$"
      ],
      "id": "UxU3fivlihOX"
    },
    {
      "cell_type": "markdown",
      "metadata": {
        "id": "A_M4MSb0kcBP"
      },
      "source": [
        "### Subtask 4: Evaluation and Model Comparison"
      ],
      "id": "A_M4MSb0kcBP"
    },
    {
      "cell_type": "markdown",
      "metadata": {
        "id": "4oO0XKbbmzzW"
      },
      "source": [
        "Many times you do not perform the final evaluation right after training, but load the checkpoints and evaluate them on the fly. To this end, load the two models from  disk."
      ],
      "id": "4oO0XKbbmzzW"
    },
    {
      "cell_type": "code",
      "execution_count": null,
      "metadata": {
        "id": "ptE1gxKwa843"
      },
      "outputs": [],
      "source": [
        "from transformers import AutoModelForMultipleChoice,AutoConfig\n",
        "### your code ###\n",
        "model_hf =\n",
        "model_custom =\n",
        "### your code ###"
      ],
      "id": "ptE1gxKwa843"
    },
    {
      "cell_type": "markdown",
      "metadata": {
        "id": "Am9mUOXHbwC9"
      },
      "source": [
        "To evaluate the data we load the validation split using a data loader and our previously defined data collator. Note that although we had a test split we cannot use it, since there are no labels available for this split (you can check the data to confirm this)."
      ],
      "id": "Am9mUOXHbwC9"
    },
    {
      "cell_type": "code",
      "execution_count": null,
      "metadata": {
        "id": "jhBq38xadGvA"
      },
      "outputs": [],
      "source": [
        "from torch.utils.data import DataLoader\n",
        "import evaluate\n",
        "\n",
        "eval_dataloader = DataLoader(encoded_datasets[\"validation\"], batch_size=64, collate_fn=MultipleChoiceDataCollator(tokenizer))"
      ],
      "id": "jhBq38xadGvA"
    },
    {
      "cell_type": "markdown",
      "metadata": {
        "id": "ctcpVXXrl8Wd"
      },
      "source": [
        "To make things easier, let's use the `evaluate` library from Hugging Face to compute the accuracy metric. Here we load `accuracy` from the `evaluate` library two times, one for the custom model and one for the Hugging Face model. Further, we put the models on eval mode. Complete the code for evaluation using the capabilities of the `evaluate` library to simultaneously compute the metric for both models.\n"
      ],
      "id": "ctcpVXXrl8Wd"
    },
    {
      "cell_type": "code",
      "execution_count": null,
      "metadata": {
        "id": "1AZcv5RQbfwq"
      },
      "outputs": [],
      "source": [
        "from tqdm import tqdm\n",
        "device = torch.device(\"cuda\") if torch.cuda.is_available() else torch.device(\"cpu\")\n",
        "metric_dict={\"custom\":evaluate.load(\"accuracy\"),\"hf\":evaluate.load(\"accuracy\")} #use to compute accuracy\n",
        "models_dict= {\"custom\":model_custom,\"hf\":model_hf}# use to access models\n",
        "\n",
        "for name, model in models_dict.items():\n",
        "  model.to(device)\n",
        "  model.eval()\n",
        "\n",
        "for i,batch in tqdm(enumerate(eval_dataloader), total=len(eval_dataloader)):\n",
        "  ### your code ###\n",
        "  #evaluate on both model on each batch\n",
        "\n",
        "acc_hf=\n",
        "acc_custom\n",
        "  ### your code ###\n",
        "print(\"Hugging Face Model :\",acc_hf)\n",
        "print(\"Custom Model :\",acc_custom)"
      ],
      "id": "1AZcv5RQbfwq"
    },
    {
      "cell_type": "markdown",
      "metadata": {
        "id": "HQC6grKnuSgZ"
      },
      "source": [
        "#### ${\\color{red}{Comments\\ 2.4}}$\n",
        "\n",
        "${\\color{red}{⚠️Comments\\ begin⚠️}}$\n",
        "\n",
        "\n",
        "```\n",
        "cross-feedback comment section\n",
        "```\n",
        "\n",
        "\n",
        "${\\color{red}{⚠️Comments\\ end⚠️}}$"
      ],
      "id": "HQC6grKnuSgZ"
    },
    {
      "cell_type": "markdown",
      "source": [
        "## **Task 3: Encoder-Decoder Architecture** (5 + 2 + 2 + 5 = 14 points)"
      ],
      "metadata": {
        "id": "_sO-H1PVMSsp"
      },
      "id": "_sO-H1PVMSsp"
    },
    {
      "cell_type": "markdown",
      "source": [
        "We explored an encoder-based model (BERT) in the previous exercise. In this task, we look at another family of transformer architectures, the encoder-decoder. We use the [T5](https://arxiv.org/pdf/1910.10683.pdf) model, presented by Raffel et al.  T5 is an encoder-decoder architecture pre-trained on a multi-task mixture of unsupervised and supervised tasks. In this task, we set up a fine-tuning example for question answering using the [SQUAD](https://huggingface.co/datasets/squad) dataset. Since the actual fine-tuning is time-consuming and computational intensive for inference, we use an already pre-trained model. The main goal is to introduce you to the structure of the fine-tuning and its simplicity with the Hugging Face framework."
      ],
      "metadata": {
        "id": "W42O89DrMZNj"
      },
      "id": "W42O89DrMZNj"
    },
    {
      "cell_type": "markdown",
      "source": [
        "To fine-tune the BERT-based models, we usually add a task-specific head. On the other hand, T5 converts all NLP problems into a text-to-text format.  \n",
        "It is trained using teacher forcing, meaning that we require an input sequence and a corresponding target sequence.\n",
        "\n",
        "\n",
        "1.   The input sequence is fed to the model using `input_ids` from the tokenizer.\n",
        "2.   The target sequence is shifted to the right, i.e., prepended by a start-sequence token and fed to the decoder using the `decoder_input_ids` (input_ids of the encoded target sequence). The target sequence is appended by EOS (end of the sentence) to denote the end of a generation and corresponds to the `labels`.\n",
        "3. The task prefix defines what task is expected of T5. For example, we prepend the input sequence with `translate English to German: ` before encoding the input to tell the model to translate. T5 already has a set of pre-defined task prefixes, and it is best to stick to those since they were used during pre-training. With enough training data, you can also introduce your own custom task.\n"
      ],
      "metadata": {
        "id": "c-oSCvS6wwef"
      },
      "id": "c-oSCvS6wwef"
    },
    {
      "cell_type": "markdown",
      "source": [
        "In contrast to the encoder model, where only a single `max_length` is required, for encoder-decoder architectures, one typically defines a `max_source_length` and `max_target_length`, which determine the maximum length of the input and output sequences, respectively. We must also ensure that the padding ID of the `labels` is not taken into account by the loss function. This can be done by replacing them with `-100`, which is the `ignore_index` of the `CrossEntropyLoss`."
      ],
      "metadata": {
        "id": "sg6jO_SeznX3"
      },
      "id": "sg6jO_SeznX3"
    },
    {
      "cell_type": "markdown",
      "source": [
        "### Subtask 1: Data Processing"
      ],
      "metadata": {
        "id": "0zLQjAxlNzJ_"
      },
      "id": "0zLQjAxlNzJ_"
    },
    {
      "cell_type": "markdown",
      "source": [
        "We first start by loading the dataset from Hugging Face hub:"
      ],
      "metadata": {
        "id": "7hx8LCNjBlvi"
      },
      "id": "7hx8LCNjBlvi"
    },
    {
      "cell_type": "code",
      "source": [
        "from datasets import load_dataset\n",
        "\n",
        "datasets_squad = load_dataset(\"squad\")\n",
        "datasets_squad"
      ],
      "metadata": {
        "id": "FjujP1xsuQGX"
      },
      "id": "FjujP1xsuQGX",
      "execution_count": null,
      "outputs": []
    },
    {
      "cell_type": "code",
      "source": [
        "print(\"context ---->\" ,datasets_squad[\"train\"][0][\"context\"])\n",
        "print(\"question ---->\",datasets_squad[\"train\"][0][\"question\"])\n",
        "print(\"answers ---->\",datasets_squad[\"train\"][0][\"answers\"])"
      ],
      "metadata": {
        "id": "x7VEY66uEEeY"
      },
      "id": "x7VEY66uEEeY",
      "execution_count": null,
      "outputs": []
    },
    {
      "cell_type": "markdown",
      "source": [
        "Now let's load the needed pre-trained tokenizer for `t5-small`, which is the smallest T5 model. Set the maximum sequence length to `512`."
      ],
      "metadata": {
        "id": "5OrYB9xBByvj"
      },
      "id": "5OrYB9xBByvj"
    },
    {
      "cell_type": "code",
      "source": [
        "import torch\n",
        "### your code ###\n",
        "from transformers import ...\n",
        "t5_tokenizer =\n",
        "### your code ###"
      ],
      "metadata": {
        "id": "WwYjYXASMg_z"
      },
      "id": "WwYjYXASMg_z",
      "execution_count": null,
      "outputs": []
    },
    {
      "cell_type": "markdown",
      "source": [
        "The next step is to pre-process the dataset using the tokenizer to convert the sequences to IDs and add the special tokens.\n",
        "T5 is based on the SentencePiece tokenizer, and the end of sentence token is denoted by `</s>`.\n",
        "Complete the function `add_eos_to_examples` to format the input and target sequence. Your input as `input_text` should have the format `question:{question_text} context:{context_text} <EOS_Token>` and your target as `target_text` should have the format `{answer_text} <EOS_Token>`."
      ],
      "metadata": {
        "id": "FvN50codiJXR"
      },
      "id": "FvN50codiJXR"
    },
    {
      "cell_type": "code",
      "source": [
        "def add_eos_to_examples(example):\n",
        "    ### your code ###\n",
        "    example['input_text'] =\n",
        "    example['target_text'] =\n",
        "    ### your code ###\n",
        "    return example"
      ],
      "metadata": {
        "id": "xbisNi2-MYC2"
      },
      "id": "xbisNi2-MYC2",
      "execution_count": null,
      "outputs": []
    },
    {
      "cell_type": "markdown",
      "source": [
        "Use the `map` function to process the data, and do not set the `batched` argument."
      ],
      "metadata": {
        "id": "l1cI8qcCIcXM"
      },
      "id": "l1cI8qcCIcXM"
    },
    {
      "cell_type": "code",
      "source": [
        "### your code ###\n",
        "encoded_squad =\n",
        "### your code ###"
      ],
      "metadata": {
        "id": "Z7Q2TH_AIJDp"
      },
      "id": "Z7Q2TH_AIJDp",
      "execution_count": null,
      "outputs": []
    },
    {
      "cell_type": "code",
      "source": [
        "print(encoded_squad[\"train\"][0][\"input_text\"])\n",
        "print(encoded_squad[\"train\"][0][\"target_text\"])"
      ],
      "metadata": {
        "id": "FgqckdGNDWNp"
      },
      "id": "FgqckdGNDWNp",
      "execution_count": null,
      "outputs": []
    },
    {
      "cell_type": "markdown",
      "source": [
        "Complete the function `convert_to_features` that takes in the examples from the dataset and tokenizes them using the T5 tokenizer. However, our answers in this dataset are relatively short and do not require `512` tokens, in contrast to the input sequence which is a combination of question and context paragraphs and is usually long. To this end, we want to truncate the input sequence at `512` and the target sequence at `16`. If any input or target is smaller than the specified length, make sure you pad them. Finally, convert everything to PyTorch tensors to be easily used by the data collator and place them in the dictionary `encodings`."
      ],
      "metadata": {
        "id": "UqK9_TtLFZrU"
      },
      "id": "UqK9_TtLFZrU"
    },
    {
      "cell_type": "code",
      "source": [
        "def convert_to_features(examples):\n",
        "    ### your code ###\n",
        "\n",
        "\n",
        "    encodings = {\n",
        "        'input_ids': ....\n",
        "    }\n",
        "    ### your code ###\n",
        "    return encodings"
      ],
      "metadata": {
        "id": "4yPglRvTEg_p"
      },
      "id": "4yPglRvTEg_p",
      "execution_count": null,
      "outputs": []
    },
    {
      "cell_type": "markdown",
      "source": [
        "Use the `map` function to process the data."
      ],
      "metadata": {
        "id": "UI_tQfeNIgi7"
      },
      "id": "UI_tQfeNIgi7"
    },
    {
      "cell_type": "code",
      "source": [
        "### your code ###\n",
        "encoded_squad =\n",
        "### your code ###"
      ],
      "metadata": {
        "id": "gYm6RZGF19xY"
      },
      "id": "gYm6RZGF19xY",
      "execution_count": null,
      "outputs": []
    },
    {
      "cell_type": "code",
      "source": [
        "encoded_squad #new columns are added"
      ],
      "metadata": {
        "id": "gaIppB0A2sxX"
      },
      "id": "gaIppB0A2sxX",
      "execution_count": null,
      "outputs": []
    },
    {
      "cell_type": "markdown",
      "source": [
        "Interestingly, although we specified PyTorch tensors as output, the type of the `input_ids` is still a list. To remedy this problem, you need to explicitly set the type of the column that contains PyTorch tensors."
      ],
      "metadata": {
        "id": "iMhQ6_vpIlUC"
      },
      "id": "iMhQ6_vpIlUC"
    },
    {
      "cell_type": "code",
      "source": [
        "type(encoded_squad[\"train\"][0][\"input_ids\"])"
      ],
      "metadata": {
        "id": "gaU31GYeIlsH"
      },
      "id": "gaU31GYeIlsH",
      "execution_count": null,
      "outputs": []
    },
    {
      "cell_type": "code",
      "source": [
        "### your code ###\n",
        "\n",
        "### your code ###\n",
        "type(encoded_squad[\"train\"][0][\"input_ids\"])"
      ],
      "metadata": {
        "id": "depIPwgSIntY"
      },
      "id": "depIPwgSIntY",
      "execution_count": null,
      "outputs": []
    },
    {
      "cell_type": "code",
      "source": [
        "print(\"Shape of the input_ids:\",encoded_squad[\"train\"][0][\"input_ids\"].shape)\n",
        "print(\"Shape of the target_ids:\",encoded_squad[\"train\"][0][\"target_ids\"].shape)"
      ],
      "metadata": {
        "id": "kcZ1Jg8kI9UN"
      },
      "id": "kcZ1Jg8kI9UN",
      "execution_count": null,
      "outputs": []
    },
    {
      "cell_type": "markdown",
      "source": [
        "The final step in the data processing is the creation of the data collator to\n",
        "prepare `labels` from `target_ids` and return examples with keys as expected by the forward method of T5.\n",
        "This is necessary because the trainer directly passes this dict as argument to the model so you need to check the input of T5 and rename the column based on that.\n",
        "`input_ids`, `target_ids`, `attention_mask`, and `target_attention_mask` need to be stacked in a batch and the pad tokens in the target need to be set to `-100` to avoid loss computation."
      ],
      "metadata": {
        "id": "XpYHaNlpOCMd"
      },
      "id": "XpYHaNlpOCMd"
    },
    {
      "cell_type": "code",
      "source": [
        "from dataclasses import dataclass\n",
        "from transformers import DataCollator\n",
        "from transformers.tokenization_utils_base import PreTrainedTokenizerBase, PaddingStrategy\n",
        "from typing import Optional, Union\n",
        "@dataclass\n",
        "class T2TDataCollator:\n",
        "    tokenizer: PreTrainedTokenizerBase\n",
        "    padding: Union[bool, str, PaddingStrategy] = True\n",
        "    max_length: Optional[int] = None\n",
        "    pad_to_multiple_of: Optional[int] = None\n",
        "    def __call__(self, batch):\n",
        "\n",
        "      ### your code ###\n",
        "\n",
        "\n",
        "        feature_dict=\n",
        "        return feature_dict\n",
        "      ### your code ###\n"
      ],
      "metadata": {
        "id": "RQzQ50R326cL"
      },
      "id": "RQzQ50R326cL",
      "execution_count": null,
      "outputs": []
    },
    {
      "cell_type": "code",
      "source": [
        "accepted_keys = ['input_text', 'target_text', 'input_ids', 'attention_mask', 'target_ids', 'target_attention_mask']\n",
        "features = [{k: v for k, v in encoded_squad[\"train\"][i].items() if k in accepted_keys} for i in range(2)]\n",
        "batch=T2TDataCollator(t5_tokenizer)(features)\n",
        "print(batch[\"input_ids\"].shape)\n",
        "print(batch[\"attention_mask\"].shape)\n",
        "print(batch[\"labels\"].shape)"
      ],
      "metadata": {
        "id": "zXOwBe1bPCRJ"
      },
      "id": "zXOwBe1bPCRJ",
      "execution_count": null,
      "outputs": []
    },
    {
      "cell_type": "markdown",
      "source": [
        "#### ${\\color{red}{Comments\\ 3.1}}$\n",
        "\n",
        "${\\color{red}{⚠️Comments\\ begin⚠️}}$\n",
        "\n",
        "\n",
        "```\n",
        "cross-feedback comment section\n",
        "```\n",
        "\n",
        "\n",
        "${\\color{red}{⚠️Comments\\ end⚠️}}$"
      ],
      "metadata": {
        "id": "gb9KZjhsu_5N"
      },
      "id": "gb9KZjhsu_5N"
    },
    {
      "cell_type": "markdown",
      "source": [
        "### Subtask 2: Training"
      ],
      "metadata": {
        "id": "ktvtcVh1N6l0"
      },
      "id": "ktvtcVh1N6l0"
    },
    {
      "cell_type": "markdown",
      "source": [
        "For training and inference, we can use `T5ForConditionalGeneration`, which includes the language modeling head on top of the decoder. Load the `t5-small` model."
      ],
      "metadata": {
        "id": "mnMvSwtbV2GC"
      },
      "id": "mnMvSwtbV2GC"
    },
    {
      "cell_type": "code",
      "source": [
        "### your code ###\n",
        "from transformers import ...\n",
        "t5 =\n",
        "### your code ###"
      ],
      "metadata": {
        "id": "aO4NNyEFKXap"
      },
      "id": "aO4NNyEFKXap",
      "execution_count": null,
      "outputs": []
    },
    {
      "cell_type": "markdown",
      "source": [
        "Next, similar to the previous task we initiate training arguments. Note that this time we are using a `Seq2SeqTrainingArguments` for a `Seq2SeqTrainer`. Set the parameters for training as follows:\n",
        "\n",
        "\n",
        "*   T5 doesn't support GPU and TPU evaluation for now, so we only focus on training. You do not need to pass any parameters for evaluation setup.\n",
        "*   The output directory should be named `t5-squad`.\n",
        "* The T5 models need a slightly higher learning rate than the default one set in the `Trainer` when using the `AdamW` optimizer. Set the learning rate to `1e-4` and the regularization parameter to `0.01`.\n",
        "* Random seed should be `77`, and we train for a maximum of `200` steps and save a checkpoint every `100` steps. A complete training of the T5 model requires far more than `200` steps, however, that is beyond the scope of this assignment.\n",
        "* T5 models require a large batch size. The default model was trained with a batch size of `128`. However, we cannot fit that into a single GPU, therefore we use gradient accumulation. Set the batch size to `32` and choose the gradient accumulation step to reach the effective batch size of `128`.\n",
        "* Make sure that your trainer does not remove unused columns during training, as this will cause a runtime error later on.\n",
        "\n",
        "\n",
        "**Gradient accumulation:** is a technique that simulates a larger batch size by accumulating gradients from multiple small batches before performing a weight update.\n",
        "\n"
      ],
      "metadata": {
        "id": "rE9j5o_iBLOL"
      },
      "id": "rE9j5o_iBLOL"
    },
    {
      "cell_type": "code",
      "source": [
        "from transformers import ...\n",
        "\n",
        "training_args = ### your code ###\n",
        "\n",
        "\n",
        "    ### your code ###\n"
      ],
      "metadata": {
        "id": "UiWbhXjk5Mr0"
      },
      "id": "UiWbhXjk5Mr0",
      "execution_count": null,
      "outputs": []
    },
    {
      "cell_type": "markdown",
      "source": [
        "Once again make sure that you are using GPU before running the cell below.\n",
        "Initilize your `Seq2SeqTrainer` with inputs necessary for training. The training should take around 15 min on Google Colab T4 GPU.\n"
      ],
      "metadata": {
        "id": "AEOvujcduYjG"
      },
      "id": "AEOvujcduYjG"
    },
    {
      "cell_type": "code",
      "source": [
        "# Initialize our Trainer\n",
        "from transformers import ...\n",
        "trainer =\n",
        "    ### your code ###\n",
        "\n",
        "    ### your code ###\n"
      ],
      "metadata": {
        "id": "J_Vb3za_4kBo"
      },
      "id": "J_Vb3za_4kBo",
      "execution_count": null,
      "outputs": []
    },
    {
      "cell_type": "code",
      "source": [
        "trainer.train()"
      ],
      "metadata": {
        "id": "8GDPeyPiBIEX"
      },
      "id": "8GDPeyPiBIEX",
      "execution_count": null,
      "outputs": []
    },
    {
      "cell_type": "markdown",
      "source": [
        "#### ${\\color{red}{Comments\\ 3.2}}$\n",
        "\n",
        "${\\color{red}{⚠️Comments\\ begin⚠️}}$\n",
        "\n",
        "\n",
        "```\n",
        "cross-feedback comment section\n",
        "```\n",
        "\n",
        "\n",
        "${\\color{red}{⚠️Comments\\ end⚠️}}$"
      ],
      "metadata": {
        "id": "1-gKhqSpu7Uz"
      },
      "id": "1-gKhqSpu7Uz"
    },
    {
      "cell_type": "markdown",
      "source": [
        "### Subtask 3: Inference"
      ],
      "metadata": {
        "id": "AQ9jj65UvER1"
      },
      "id": "AQ9jj65UvER1"
    },
    {
      "cell_type": "markdown",
      "source": [
        "Our trained model has seen far too few instances to make a coherent prediction. To this end, we load an already trained checkpoint from Hugging Face and perform inference. Load this [model](https://huggingface.co/mrm8488/t5-base-finetuned-squadv2) and the respective tokenizer. Note that we are loading a `base` model that is slightly larger than `t5-small`."
      ],
      "metadata": {
        "id": "bkDgQponWOs4"
      },
      "id": "bkDgQponWOs4"
    },
    {
      "cell_type": "code",
      "source": [
        "from transformers import AutoModelForSeq2SeqLM, AutoTokenizer\n",
        "### your code ###\n",
        "t5_tokenizer =\n",
        "t5_model =\n",
        "### your code ###"
      ],
      "metadata": {
        "id": "lW8Wss36vV20"
      },
      "id": "lW8Wss36vV20",
      "execution_count": null,
      "outputs": []
    },
    {
      "cell_type": "markdown",
      "source": [
        "At inference time for T5, it is recommended to use the `generate()` function. This auto-regressively generates the decoder output. Complete the code for the `get_answer` function, which gives a model, a tokenizer, and a question and context pair, and generates the answer from the context given. The output should be the answer to the given question in natural text (without the special tokens).\n",
        "\n",
        "**Hint:** Many of the steps are similar to how you prepared your input data for the model."
      ],
      "metadata": {
        "id": "azC95xxzxj84"
      },
      "id": "azC95xxzxj84"
    },
    {
      "cell_type": "code",
      "source": [
        "def get_answer(tokenizer,model, question, context):\n",
        "  ### your code ###\n",
        "  input_text =\n",
        "  features =\n",
        "\n",
        "\n",
        "  answer=\n",
        "  ### your code ###\n",
        "  return answer"
      ],
      "metadata": {
        "id": "_Run50fvWPcv"
      },
      "id": "_Run50fvWPcv",
      "execution_count": null,
      "outputs": []
    },
    {
      "cell_type": "markdown",
      "source": [
        "Let's try it with an example."
      ],
      "metadata": {
        "id": "F6Fq37I3yMeQ"
      },
      "id": "F6Fq37I3yMeQ"
    },
    {
      "cell_type": "code",
      "source": [
        "context = \"Sarah has joined NLP for transformers class and is working on her research project with the support of Harry.\"\n",
        "question = \"Who is supporting Sarah?\"\n",
        "\n",
        "get_answer(t5_tokenizer,t5_model,question, context)###your answer should be \"Harry\""
      ],
      "metadata": {
        "id": "09znSykkdkk0"
      },
      "id": "09znSykkdkk0",
      "execution_count": null,
      "outputs": []
    },
    {
      "cell_type": "code",
      "source": [
        "context = \"TPUs are more power efficient in comparison to GPUs making them a better choice for machine learning projects.\"\n",
        "question = \"What is better for machine learning projects?\"\n",
        "\n",
        "get_answer(t5_tokenizer,t5_model,question, context)###your answer should be \"TPUs\""
      ],
      "metadata": {
        "id": "LQNpgTyazjge"
      },
      "id": "LQNpgTyazjge",
      "execution_count": null,
      "outputs": []
    },
    {
      "cell_type": "markdown",
      "source": [
        "#### ${\\color{red}{Comments\\ 3.3}}$\n",
        "\n",
        "${\\color{red}{⚠️Comments\\ begin⚠️}}$\n",
        "\n",
        "\n",
        "```\n",
        "cross-feedback comment section\n",
        "```\n",
        "\n",
        "\n",
        "${\\color{red}{⚠️Comments\\ end⚠️}}$"
      ],
      "metadata": {
        "id": "sIz0JuwzGEFN"
      },
      "id": "sIz0JuwzGEFN"
    },
    {
      "cell_type": "markdown",
      "source": [
        "### Subtask 4: T5 Paper"
      ],
      "metadata": {
        "id": "i9LfBp2eKqYc"
      },
      "id": "i9LfBp2eKqYc"
    },
    {
      "cell_type": "markdown",
      "source": [
        "To answer questions of the final subtask you need to have a general overview of the [T5 paper](https://arxiv.org/pdf/1910.10683.pdf)."
      ],
      "metadata": {
        "id": "NRVp_0KaKvN4"
      },
      "id": "NRVp_0KaKvN4"
    },
    {
      "cell_type": "markdown",
      "source": [
        "\n",
        "\n",
        "1.   Describe what a “text-to-text format\" is and how T5 processes input and output for text classification tasks? What are the possible complications with a predefined set of classes?\n",
        "2.   Describe the \"masked language modeling\" and \"word dropout\" unsupervised objective with sentinel tokens. Give an example of how this would look in a single sentence.\n",
        "3. Explain \"fully-visible\", \"causal\" and \"causal masking with prefix\" masking.\n",
        "4. Briefly describe \"adapter layers\" and \"gradual unfreezing\" as methods for fine-tuning on fewer parameters.\n",
        "\n"
      ],
      "metadata": {
        "id": "EwoEHJ1eMSVr"
      },
      "id": "EwoEHJ1eMSVr"
    },
    {
      "cell_type": "markdown",
      "source": [
        "**Answer**\n",
        "\n",
        "`\n",
        "Enter your answer here\n",
        "`"
      ],
      "metadata": {
        "id": "gIi_WZuvMWUb"
      },
      "id": "gIi_WZuvMWUb"
    },
    {
      "cell_type": "markdown",
      "source": [
        "**Answer**\n",
        "\n",
        "`\n",
        "Enter your answer here\n",
        "`"
      ],
      "metadata": {
        "id": "rIf7G01tkc4u"
      },
      "id": "rIf7G01tkc4u"
    },
    {
      "cell_type": "markdown",
      "source": [
        "**Answer**\n",
        "\n",
        "`\n",
        "Enter your answer here\n",
        "`"
      ],
      "metadata": {
        "id": "iC-WBUKQkf6r"
      },
      "id": "iC-WBUKQkf6r"
    },
    {
      "cell_type": "markdown",
      "source": [
        "**Answer**\n",
        "\n",
        "`\n",
        "Enter your answer here\n",
        "`"
      ],
      "metadata": {
        "id": "L2Mo5YElkhtI"
      },
      "id": "L2Mo5YElkhtI"
    },
    {
      "cell_type": "markdown",
      "source": [
        "#### ${\\color{red}{Comments\\ 3.4}}$\n",
        "\n",
        "${\\color{red}{⚠️Comments\\ begin⚠️}}$\n",
        "\n",
        "\n",
        "```\n",
        "cross-feedback comment section\n",
        "```\n",
        "\n",
        "\n",
        "${\\color{red}{⚠️Comments\\ end⚠️}}$"
      ],
      "metadata": {
        "id": "WiYns91wr2P5"
      },
      "id": "WiYns91wr2P5"
    }
  ],
  "metadata": {
    "colab": {
      "provenance": [],
      "gpuType": "T4"
    },
    "kernelspec": {
      "display_name": "Python 3",
      "name": "python3"
    },
    "language_info": {
      "codemirror_mode": {
        "name": "ipython",
        "version": 3
      },
      "file_extension": ".py",
      "mimetype": "text/x-python",
      "name": "python",
      "nbconvert_exporter": "python",
      "pygments_lexer": "ipython3",
      "version": "3.11.5"
    },
    "accelerator": "GPU"
  },
  "nbformat": 4,
  "nbformat_minor": 5
}