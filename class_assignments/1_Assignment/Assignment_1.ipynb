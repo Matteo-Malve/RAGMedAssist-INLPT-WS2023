{
 "cells": [
  {
   "cell_type": "markdown",
   "metadata": {},
   "source": [
    "***\n",
    "\n",
    "### **Team Members:**\n",
    "\n",
    "- Yusuf Sancar Berber\n",
    "- Matteo Malvestiti\n",
    "- Anthony Owuzo Akpenyi\n",
    "- Sandra Friebolin\n",
    "\n",
    "***"
   ]
  },
  {
   "cell_type": "markdown",
   "id": "be9f7653",
   "metadata": {
    "id": "be9f7653"
   },
   "source": [
    "**Heidelberg University**\n",
    "\n",
    "**Data Science  Group**\n",
    "    \n",
    "Prof. Dr. Michael Gertz  \n",
    "\n",
    "Ashish Chouhan, Satya Almasian, John Ziegler, Jayson Salazar, Nicolas Reuter\n",
    "    \n",
    "October 30, 2023\n",
    "    \n",
    "Natural Language Processing with Transformers\n",
    "\n",
    "Winter Semster 2023/2024     \n",
    "***"
   ]
  },
  {
   "cell_type": "markdown",
   "id": "258e9648",
   "metadata": {
    "id": "258e9648"
   },
   "source": [
    "# **Assignment 1: “Word Embeddings and Probabilistic Language Models”**\n",
    "**Due**: Monday, November 13, 2pm, via [Moodle](https://moodle.uni-heidelberg.de/course/view.php?id=19251)\n",
    "\n"
   ]
  },
  {
   "cell_type": "markdown",
   "id": "fc27ad9e",
   "metadata": {
    "id": "fc27ad9e"
   },
   "source": [
    "### **Submission Guidelines**\n",
    "\n",
    "- Solutions need to be uploaded as a **single** Jupyter notebook. You will find several pre-filled code segments in the notebook, your task is to fill in the missing cells.\n",
    "- For the written solution, use LaTeX in markdown inside the same notebook. Do **not** hand in a separate file for it.\n",
    "- Download the .zip file containing the dataset but do **not** upload it with your solution.\n",
    "- It is sufficient if one person per group uploads the solution to Moodle, but make sure that the complete names of all team members are given in the notebook.\n",
    "\n",
    "***"
   ]
  },
  {
   "cell_type": "markdown",
   "id": "e322e8b0",
   "metadata": {
    "id": "e322e8b0"
   },
   "source": [
    "## **Task 1: F.R.I.E.N.D.S and  Word2Vec (Grade (2 + 2 + 4) = 8)**"
   ]
  },
  {
   "cell_type": "markdown",
   "id": "b4ca26ac",
   "metadata": {
    "id": "b4ca26ac"
   },
   "source": [
    "[Friends](https://en.wikipedia.org/wiki/Friends) is an American television sitcom, created by David Crane and Marta Kauffman. In this assignment we will use the transcripts from the show to train a Word2Vec model using the [Gensim](https://radimrehurek.com/gensim/) library."
   ]
  },
  {
   "cell_type": "markdown",
   "id": "fc29cb37",
   "metadata": {
    "id": "fc29cb37"
   },
   "source": [
    "### Subtask 1: Pre-processing\n",
    "We start by loading and cleaning the data. Download the dataset for this assignment and load the `friends_quotes.csv` using pandas. The dataset is from Kaggle (https://www.kaggle.com/ryanstonebraker/friends-transcript) and is created for building a classifier that  determines which friend from the Friend's TV Show would be most likely to say a quote. The column `quote` contains a line from the movie and the `author` is the one who said it. Since these are the only two columns we need, we remove the rest and only keep these two columns."
   ]
  },
  {
   "cell_type": "code",
   "execution_count": 13,
   "id": "787e2059",
   "metadata": {
    "id": "787e2059"
   },
   "outputs": [],
   "source": [
    "import re\n",
    "import pandas as pd\n",
    "from collections import defaultdict\n",
    "import spacy\n",
    "import logging  # Setting up the loggings to monitor gensim\n",
    "logging.basicConfig(format=\"%(levelname)s - %(asctime)s: %(message)s\", datefmt= '%H:%M:%S', level=logging.INFO)"
   ]
  },
  {
   "cell_type": "code",
   "execution_count": 14,
   "id": "7e7e8c7d",
   "metadata": {
    "id": "7e7e8c7d",
    "scrolled": true
   },
   "outputs": [
    {
     "data": {
      "text/html": [
       "<div>\n",
       "<style scoped>\n",
       "    .dataframe tbody tr th:only-of-type {\n",
       "        vertical-align: middle;\n",
       "    }\n",
       "\n",
       "    .dataframe tbody tr th {\n",
       "        vertical-align: top;\n",
       "    }\n",
       "\n",
       "    .dataframe thead th {\n",
       "        text-align: right;\n",
       "    }\n",
       "</style>\n",
       "<table border=\"1\" class=\"dataframe\">\n",
       "  <thead>\n",
       "    <tr style=\"text-align: right;\">\n",
       "      <th></th>\n",
       "      <th>author</th>\n",
       "      <th>quote</th>\n",
       "    </tr>\n",
       "  </thead>\n",
       "  <tbody>\n",
       "    <tr>\n",
       "      <th>0</th>\n",
       "      <td>Monica</td>\n",
       "      <td>There's nothing to tell! He's just some guy I ...</td>\n",
       "    </tr>\n",
       "    <tr>\n",
       "      <th>1</th>\n",
       "      <td>Joey</td>\n",
       "      <td>C'mon, you're going out with the guy! There's ...</td>\n",
       "    </tr>\n",
       "    <tr>\n",
       "      <th>2</th>\n",
       "      <td>Chandler</td>\n",
       "      <td>All right Joey, be nice. So does he have a hum...</td>\n",
       "    </tr>\n",
       "    <tr>\n",
       "      <th>3</th>\n",
       "      <td>Phoebe</td>\n",
       "      <td>Wait, does he eat chalk?</td>\n",
       "    </tr>\n",
       "    <tr>\n",
       "      <th>4</th>\n",
       "      <td>Phoebe</td>\n",
       "      <td>Just, 'cause, I don't want her to go through w...</td>\n",
       "    </tr>\n",
       "    <tr>\n",
       "      <th>5</th>\n",
       "      <td>Monica</td>\n",
       "      <td>Okay, everybody relax. This is not even a date...</td>\n",
       "    </tr>\n",
       "    <tr>\n",
       "      <th>6</th>\n",
       "      <td>Chandler</td>\n",
       "      <td>Sounds like a date to me.</td>\n",
       "    </tr>\n",
       "    <tr>\n",
       "      <th>7</th>\n",
       "      <td>Chandler</td>\n",
       "      <td>Alright, so I'm back in high school, I'm stand...</td>\n",
       "    </tr>\n",
       "    <tr>\n",
       "      <th>8</th>\n",
       "      <td>All</td>\n",
       "      <td>Oh, yeah. Had that dream.</td>\n",
       "    </tr>\n",
       "    <tr>\n",
       "      <th>9</th>\n",
       "      <td>Chandler</td>\n",
       "      <td>Then I look down, and I realize there's a phon...</td>\n",
       "    </tr>\n",
       "  </tbody>\n",
       "</table>\n",
       "</div>"
      ],
      "text/plain": [
       "     author                                              quote\n",
       "0    Monica  There's nothing to tell! He's just some guy I ...\n",
       "1      Joey  C'mon, you're going out with the guy! There's ...\n",
       "2  Chandler  All right Joey, be nice. So does he have a hum...\n",
       "3    Phoebe                           Wait, does he eat chalk?\n",
       "4    Phoebe  Just, 'cause, I don't want her to go through w...\n",
       "5    Monica  Okay, everybody relax. This is not even a date...\n",
       "6  Chandler                          Sounds like a date to me.\n",
       "7  Chandler  Alright, so I'm back in high school, I'm stand...\n",
       "8       All                          Oh, yeah. Had that dream.\n",
       "9  Chandler  Then I look down, and I realize there's a phon..."
      ]
     },
     "execution_count": 14,
     "metadata": {},
     "output_type": "execute_result"
    }
   ],
   "source": [
    "df = pd.read_csv(\"friends_quotes.csv\") \n",
    "### filter out columns ###\n",
    "df = df[[\"author\", \"quote\"]]\n",
    "df.head(10)"
   ]
  },
  {
   "cell_type": "markdown",
   "id": "be5fc72f",
   "metadata": {
    "id": "be5fc72f"
   },
   "source": [
    "Fortunately, there is no missing data, so we do not need to worry about that."
   ]
  },
  {
   "cell_type": "code",
   "execution_count": 15,
   "id": "dc3aea10",
   "metadata": {
    "id": "dc3aea10"
   },
   "outputs": [
    {
     "data": {
      "text/plain": [
       "author    0\n",
       "quote     0\n",
       "dtype: int64"
      ]
     },
     "execution_count": 15,
     "metadata": {},
     "output_type": "execute_result"
    }
   ],
   "source": [
    "df.isnull().sum() # check for missing data"
   ]
  },
  {
   "cell_type": "markdown",
   "id": "26a249b1",
   "metadata": {
    "id": "26a249b1"
   },
   "source": [
    "Use SpaCy to preprocess the text. For this, perform the following steps:\n",
    "- lowercase the words\n",
    "- remove the stopwords and single characters\n",
    "- use regex to remove non-alphabetic characters (anything that is not a number or alphabet including punctuations), in other words only keep \"a\" to \"z\" and digits.\n",
    "- remove lines that have less than 4 words, since they cannot contribute much to the training process.\n",
    "\n",
    "Please do not add any additional steps on your own or additional cleaning as we want to achieve comparable results."
   ]
  },
  {
   "cell_type": "code",
   "execution_count": 16,
   "id": "5491d9f0",
   "metadata": {
    "id": "5491d9f0"
   },
   "outputs": [
    {
     "data": {
      "text/html": [
       "<div>\n",
       "<style scoped>\n",
       "    .dataframe tbody tr th:only-of-type {\n",
       "        vertical-align: middle;\n",
       "    }\n",
       "\n",
       "    .dataframe tbody tr th {\n",
       "        vertical-align: top;\n",
       "    }\n",
       "\n",
       "    .dataframe thead th {\n",
       "        text-align: right;\n",
       "    }\n",
       "</style>\n",
       "<table border=\"1\" class=\"dataframe\">\n",
       "  <thead>\n",
       "    <tr style=\"text-align: right;\">\n",
       "      <th></th>\n",
       "      <th>author</th>\n",
       "      <th>quote</th>\n",
       "    </tr>\n",
       "  </thead>\n",
       "  <tbody>\n",
       "    <tr>\n",
       "      <th>0</th>\n",
       "      <td>Monica</td>\n",
       "      <td>tell guy work</td>\n",
       "    </tr>\n",
       "    <tr>\n",
       "      <th>1</th>\n",
       "      <td>Joey</td>\n",
       "      <td>mon going guy gotta wrong</td>\n",
       "    </tr>\n",
       "    <tr>\n",
       "      <th>2</th>\n",
       "      <td>Chandler</td>\n",
       "      <td>right joey nice hump hump hairpiece</td>\n",
       "    </tr>\n",
       "    <tr>\n",
       "      <th>3</th>\n",
       "      <td>Phoebe</td>\n",
       "      <td>wait eat chalk</td>\n",
       "    </tr>\n",
       "    <tr>\n",
       "      <th>4</th>\n",
       "      <td>Phoebe</td>\n",
       "      <td>cause don want went carl oh</td>\n",
       "    </tr>\n",
       "    <tr>\n",
       "      <th>5</th>\n",
       "      <td>Monica</td>\n",
       "      <td>okay everybody relax date people going dinner ...</td>\n",
       "    </tr>\n",
       "    <tr>\n",
       "      <th>6</th>\n",
       "      <td>Chandler</td>\n",
       "      <td>sounds like date</td>\n",
       "    </tr>\n",
       "    <tr>\n",
       "      <th>7</th>\n",
       "      <td>Chandler</td>\n",
       "      <td>alright high school standing middle cafeteria ...</td>\n",
       "    </tr>\n",
       "    <tr>\n",
       "      <th>8</th>\n",
       "      <td>All</td>\n",
       "      <td>oh yeah dream</td>\n",
       "    </tr>\n",
       "    <tr>\n",
       "      <th>9</th>\n",
       "      <td>Chandler</td>\n",
       "      <td>look realize phone</td>\n",
       "    </tr>\n",
       "  </tbody>\n",
       "</table>\n",
       "</div>"
      ],
      "text/plain": [
       "     author                                              quote\n",
       "0    Monica                                      tell guy work\n",
       "1      Joey                          mon going guy gotta wrong\n",
       "2  Chandler                right joey nice hump hump hairpiece\n",
       "3    Phoebe                                     wait eat chalk\n",
       "4    Phoebe                        cause don want went carl oh\n",
       "5    Monica  okay everybody relax date people going dinner ...\n",
       "6  Chandler                                   sounds like date\n",
       "7  Chandler  alright high school standing middle cafeteria ...\n",
       "8       All                                      oh yeah dream\n",
       "9  Chandler                                 look realize phone"
      ]
     },
     "execution_count": 16,
     "metadata": {},
     "output_type": "execute_result"
    }
   ],
   "source": [
    "nlp = spacy.load(\"en_core_web_sm\", disable=[\"tagger\", \"parser\",\"ner\"])\n",
    "stopwords = spacy.lang.en.stop_words.STOP_WORDS\n",
    "\n",
    "# lowercase and remove non-alphabetic characters\n",
    "def preprocess(text):\n",
    "    # Lowercase and remove non-alphabetic characters\n",
    "    text = re.sub(\"[/']\", ' ', re.sub(\"[^A-Za-z\\d']+\", ' ', text)).lower()\n",
    "    \n",
    "    # Remove stopwords and single characters\n",
    "    words = text.split()\n",
    "    filtered_words = [word for word in words if word not in stopwords and len(word) > 1]\n",
    "    \n",
    "    return ' '.join(filtered_words)\n",
    "\n",
    "\n",
    "# Remove lines with less than 4 words\n",
    "# if applied before removing stopwords, removes lines that have in general less than 4 words.\n",
    "# if applied after preprocessing, lines with more than 4 words but less than 4 after stopword removal would also be removed (like the first line \"Monica:\tThere's nothing to tell! He's just some guy I ...\")\n",
    "df = df[df['quote'].apply(lambda x: len(x.split()) > 3)]\n",
    "\n",
    "quotes = []  # to save all the lines\n",
    "\n",
    "for quote in df['quote']:\n",
    "    processed_quote = preprocess(quote)\n",
    "    quotes.append(processed_quote)\n",
    "\n",
    "df['quote'] = quotes \n",
    "\n",
    "df = df.reset_index(drop=True)\n",
    "df.head(10)"
   ]
  },
  {
   "cell_type": "markdown",
   "id": "6aaa2190",
   "metadata": {
    "id": "6aaa2190"
   },
   "source": [
    "The next step is to build the vocabulary of the words and word combinations we want to learn representations from. We choose a subset of the most frequent words and bigrams to represent our corpus.\n",
    "- Use the Gensim Phrases package to automatically detect common phrases (bigrams) from a list of lines from the previous step (`min_count=10`). Now words like New_York will be considered as one entity and character names like joey_tribbiani will be recognized.\n",
    "- Create a list of words/bigrams with their frequencies and choose the top 15.000 words for the vocabulary, in order to keep the computation time-limited and to choose the most important words."
   ]
  },
  {
   "cell_type": "code",
   "execution_count": 17,
   "id": "a3059fd0",
   "metadata": {
    "id": "a3059fd0"
   },
   "outputs": [
    {
     "name": "stderr",
     "output_type": "stream",
     "text": [
      "INFO - 19:34:23: collecting all words and their counts\n",
      "INFO - 19:34:23: PROGRESS: at sentence #0, processed 0 words and 0 word types\n",
      "INFO - 19:34:23: PROGRESS: at sentence #10000, processed 61061 words and 45967 word types\n",
      "INFO - 19:34:23: PROGRESS: at sentence #20000, processed 123719 words and 82123 word types\n",
      "INFO - 19:34:23: PROGRESS: at sentence #30000, processed 187031 words and 114237 word types\n",
      "INFO - 19:34:23: PROGRESS: at sentence #40000, processed 249630 words and 144236 word types\n",
      "INFO - 19:34:23: collected 162199 token types (unigram + bigrams) from a corpus of 286578 words and 46148 sentences\n",
      "INFO - 19:34:23: merged Phrases<162199 vocab, min_count=10, threshold=10.0, max_vocab_size=40000000>\n",
      "INFO - 19:34:23: Phrases lifecycle event {'msg': 'built Phrases<162199 vocab, min_count=10, threshold=10.0, max_vocab_size=40000000> in 0.15s', 'datetime': '2023-11-11T19:34:23.285601', 'gensim': '4.3.2', 'python': '3.10.13 (main, Sep 11 2023, 08:16:02) [Clang 14.0.6 ]', 'platform': 'macOS-14.0-arm64-i386-64bit', 'event': 'created'}\n"
     ]
    }
   ],
   "source": [
    "from gensim.models.phrases import Phrases\n",
    "\n",
    "words = [doc.split(\" \") for doc in quotes] #list of all words#\n",
    "phrases = Phrases(words, min_count=10) #define the phraser for bi-gram creation#\n",
    "new_lines = phrases[words] #transform the lines#\n",
    "\n",
    "# for line in new_lines:\n",
    "#     print(line)"
   ]
  },
  {
   "cell_type": "code",
   "execution_count": 18,
   "id": "c5592e5a",
   "metadata": {},
   "outputs": [
    {
     "name": "stdout",
     "output_type": "stream",
     "text": [
      "['tell', 'guy', 'work'] ['ready', 'ready', 'hey', 'rach', 'ready', 'jump', 'airplane', 'parachute', 'come']\n"
     ]
    }
   ],
   "source": [
    "print(new_lines[0], new_lines[199])"
   ]
  },
  {
   "cell_type": "code",
   "execution_count": 19,
   "id": "a9ca7541",
   "metadata": {
    "id": "a9ca7541"
   },
   "outputs": [
    {
     "name": "stdout",
     "output_type": "stream",
     "text": [
      "15944\n",
      "['know', 'oh', 'okay', 'don', 'yeah', 'right', 'like', 'hey', 'gonna', 'ross']\n"
     ]
    }
   ],
   "source": [
    "from collections import Counter\n",
    "### find the top words for the vocabulary###\n",
    "vocab = [word for line in new_lines for word in line]\n",
    "#print(vocab[:50])\n",
    "\n",
    "vocab_counts = Counter(vocab)\n",
    "#print(vocab_counts)\n",
    "\n",
    "# Sort according to frequency\n",
    "vocab_sorted = {k: v for k, v in sorted(vocab_counts.items(), key=lambda item:item[1], reverse=True)}\n",
    "print(len(vocab_sorted))\n",
    "\n",
    "# Keep only the first 15000 items\n",
    "word_freq = {k: v for i, (k, v) in enumerate(vocab_sorted.items()) if i < 15000}\n",
    "#print(word_freq)\n",
    "\n",
    "vocab = list(word_freq.keys())\n",
    "print(vocab[:10])\n"
   ]
  },
  {
   "cell_type": "code",
   "execution_count": 20,
   "id": "9d08031d",
   "metadata": {
    "id": "9d08031d"
   },
   "outputs": [
    {
     "data": {
      "text/plain": [
       "36"
      ]
     },
     "execution_count": 20,
     "metadata": {},
     "output_type": "execute_result"
    }
   ],
   "source": [
    "word_freq['central_perk']"
   ]
  },
  {
   "cell_type": "code",
   "execution_count": 21,
   "id": "0882dc8c",
   "metadata": {
    "id": "0882dc8c"
   },
   "outputs": [
    {
     "data": {
      "text/plain": [
       "2234"
      ]
     },
     "execution_count": 21,
     "metadata": {},
     "output_type": "execute_result"
    }
   ],
   "source": [
    "word_freq['joey']"
   ]
  },
  {
   "cell_type": "markdown",
   "id": "15dfce56",
   "metadata": {
    "id": "15dfce56"
   },
   "source": [
    "### Subtask 2: Training the Model\n"
   ]
  },
  {
   "cell_type": "markdown",
   "id": "b59c94e0",
   "metadata": {
    "id": "b59c94e0"
   },
   "source": [
    "Use the Gensim implementation of Word2Vec to train a model on the scripts. The training can be divided into 3 stages:\n",
    "\n",
    "\n",
    "1) Set up your model with parameters; define your parameters in such a way that the following conditions are satisfied:\n",
    " - ignore all words that have a total frequency of less than 2.\n",
    " - dimensions of the embeddings: 100\n",
    " - initial learning rate (step size) of 0.03\n",
    " - 20 negative samples\n",
    " - window size 3\n",
    " - the learning rate in the training will decrease as you apply more and more updates. Most of the time when starting with gradient descent the initial steps can be larger, and as we get close to the local minima it is best to use smaller steps to avoid jumping over the local minima. This adjustment is done internally using a learning rate scheduler. Make sure that the smallest learning rate does not go below 0.0001.\n",
    " - set the threshold for configuring which higher-frequency words are randomly down-sampled to 6e-5. This parameter forces the sampling to choose the very frequent words less often in the sampling.\n",
    " - set the hashfunction of the word2vec to the given function.\n",
    " - train on a single worker to make sure you get the same result as ours."
   ]
  },
  {
   "cell_type": "code",
   "execution_count": 22,
   "id": "dfbce0a2",
   "metadata": {
    "id": "dfbce0a2"
   },
   "outputs": [
    {
     "name": "stderr",
     "output_type": "stream",
     "text": [
      "INFO - 19:34:23: collecting all words and their counts\n",
      "INFO - 19:34:23: PROGRESS: at sentence #0, processed 0 words, keeping 0 word types\n",
      "INFO - 19:34:23: PROGRESS: at sentence #10000, processed 59443 words, keeping 7747 word types\n",
      "INFO - 19:34:23: PROGRESS: at sentence #20000, processed 120367 words, keeping 10750 word types\n",
      "INFO - 19:34:23: PROGRESS: at sentence #30000, processed 181872 words, keeping 12737 word types\n",
      "INFO - 19:34:23: PROGRESS: at sentence #40000, processed 242629 words, keeping 14685 word types\n",
      "INFO - 19:34:23: collected 15944 word types from a corpus of 278649 raw words and 46148 sentences\n",
      "INFO - 19:34:23: Creating a fresh vocabulary\n",
      "INFO - 19:34:23: Word2Vec lifecycle event {'msg': 'effective_min_count=2 retains 9378 unique words (58.82% of original 15944, drops 6566)', 'datetime': '2023-11-11T19:34:23.889914', 'gensim': '4.3.2', 'python': '3.10.13 (main, Sep 11 2023, 08:16:02) [Clang 14.0.6 ]', 'platform': 'macOS-14.0-arm64-i386-64bit', 'event': 'prepare_vocab'}\n",
      "INFO - 19:34:23: Word2Vec lifecycle event {'msg': 'effective_min_count=2 leaves 272083 word corpus (97.64% of original 278649, drops 6566)', 'datetime': '2023-11-11T19:34:23.890432', 'gensim': '4.3.2', 'python': '3.10.13 (main, Sep 11 2023, 08:16:02) [Clang 14.0.6 ]', 'platform': 'macOS-14.0-arm64-i386-64bit', 'event': 'prepare_vocab'}\n",
      "INFO - 19:34:23: deleting the raw counts dictionary of 15944 items\n",
      "INFO - 19:34:23: sample=6e-05 downsamples 952 most-common words\n",
      "INFO - 19:34:23: Word2Vec lifecycle event {'msg': 'downsampling leaves estimated 125409.0229716736 word corpus (46.1%% of prior 272083)', 'datetime': '2023-11-11T19:34:23.909013', 'gensim': '4.3.2', 'python': '3.10.13 (main, Sep 11 2023, 08:16:02) [Clang 14.0.6 ]', 'platform': 'macOS-14.0-arm64-i386-64bit', 'event': 'prepare_vocab'}\n",
      "INFO - 19:34:23: estimated required memory for 9378 words and 100 dimensions: 12191400 bytes\n",
      "INFO - 19:34:23: resetting layer weights\n",
      "INFO - 19:34:23: Word2Vec lifecycle event {'update': False, 'trim_rule': 'None', 'datetime': '2023-11-11T19:34:23.943052', 'gensim': '4.3.2', 'python': '3.10.13 (main, Sep 11 2023, 08:16:02) [Clang 14.0.6 ]', 'platform': 'macOS-14.0-arm64-i386-64bit', 'event': 'build_vocab'}\n",
      "INFO - 19:34:23: Word2Vec lifecycle event {'msg': 'training model with 1 workers on 9378 vocabulary and 100 features, using sg=0 hs=0 sample=6e-05 negative=20 window=3 shrink_windows=True', 'datetime': '2023-11-11T19:34:23.943471', 'gensim': '4.3.2', 'python': '3.10.13 (main, Sep 11 2023, 08:16:02) [Clang 14.0.6 ]', 'platform': 'macOS-14.0-arm64-i386-64bit', 'event': 'train'}\n",
      "INFO - 19:34:24: EPOCH 0: training on 278649 raw words (125100 effective words) took 0.6s, 213162 effective words/s\n",
      "INFO - 19:34:25: EPOCH 1: training on 278649 raw words (125463 effective words) took 0.7s, 185184 effective words/s\n",
      "INFO - 19:34:25: EPOCH 2: training on 278649 raw words (125634 effective words) took 0.5s, 245939 effective words/s\n",
      "INFO - 19:34:26: EPOCH 3: training on 278649 raw words (125554 effective words) took 0.5s, 255592 effective words/s\n",
      "INFO - 19:34:26: EPOCH 4: training on 278649 raw words (125566 effective words) took 0.5s, 233359 effective words/s\n",
      "INFO - 19:34:26: Word2Vec lifecycle event {'msg': 'training on 1393245 raw words (627317 effective words) took 2.8s, 220958 effective words/s', 'datetime': '2023-11-11T19:34:26.782666', 'gensim': '4.3.2', 'python': '3.10.13 (main, Sep 11 2023, 08:16:02) [Clang 14.0.6 ]', 'platform': 'macOS-14.0-arm64-i386-64bit', 'event': 'train'}\n",
      "INFO - 19:34:26: Word2Vec lifecycle event {'params': 'Word2Vec<vocab=9378, vector_size=100, alpha=0.03>', 'datetime': '2023-11-11T19:34:26.782908', 'gensim': '4.3.2', 'python': '3.10.13 (main, Sep 11 2023, 08:16:02) [Clang 14.0.6 ]', 'platform': 'macOS-14.0-arm64-i386-64bit', 'event': 'created'}\n"
     ]
    }
   ],
   "source": [
    "from gensim.models import Word2Vec\n",
    "\n",
    "def hash(astring):\n",
    "    return ord(astring[0])\n",
    "\n",
    "w2v = Word2Vec(sentences=new_lines, min_count=2, vector_size=100, alpha=0.03, negative=20, window=3, \n",
    "               min_alpha=0.0001, sample=6e-5, hashfxn=hash, workers=1)"
   ]
  },
  {
   "cell_type": "markdown",
   "id": "03eba781",
   "metadata": {
    "id": "03eba781"
   },
   "source": [
    "2) Before training, Word2Vec requires us to build the vocabulary table by filtering out the unique words and doing some basic counts on them.\n",
    "Use the `build_vocab` function to process the data. If you look at the logs you can see the effect of `min_count` and `sample` on the word corpus."
   ]
  },
  {
   "cell_type": "code",
   "execution_count": 23,
   "id": "d9795441",
   "metadata": {
    "id": "d9795441",
    "scrolled": true
   },
   "outputs": [
    {
     "name": "stderr",
     "output_type": "stream",
     "text": [
      "INFO - 19:34:26: collecting all words and their counts\n",
      "INFO - 19:34:26: PROGRESS: at sentence #0, processed 0 words, keeping 0 word types\n",
      "INFO - 19:34:26: PROGRESS: at sentence #10000, processed 59443 words, keeping 7747 word types\n",
      "INFO - 19:34:26: PROGRESS: at sentence #20000, processed 120367 words, keeping 10750 word types\n",
      "INFO - 19:34:26: PROGRESS: at sentence #30000, processed 181872 words, keeping 12737 word types\n",
      "INFO - 19:34:27: PROGRESS: at sentence #40000, processed 242629 words, keeping 14685 word types\n",
      "INFO - 19:34:27: collected 15944 word types from a corpus of 278649 raw words and 46148 sentences\n",
      "INFO - 19:34:27: Creating a fresh vocabulary\n",
      "INFO - 19:34:27: Word2Vec lifecycle event {'msg': 'effective_min_count=2 retains 9378 unique words (58.82% of original 15944, drops 6566)', 'datetime': '2023-11-11T19:34:27.093097', 'gensim': '4.3.2', 'python': '3.10.13 (main, Sep 11 2023, 08:16:02) [Clang 14.0.6 ]', 'platform': 'macOS-14.0-arm64-i386-64bit', 'event': 'prepare_vocab'}\n",
      "INFO - 19:34:27: Word2Vec lifecycle event {'msg': 'effective_min_count=2 leaves 272083 word corpus (97.64% of original 278649, drops 6566)', 'datetime': '2023-11-11T19:34:27.093945', 'gensim': '4.3.2', 'python': '3.10.13 (main, Sep 11 2023, 08:16:02) [Clang 14.0.6 ]', 'platform': 'macOS-14.0-arm64-i386-64bit', 'event': 'prepare_vocab'}\n",
      "INFO - 19:34:27: deleting the raw counts dictionary of 15944 items\n",
      "INFO - 19:34:27: sample=6e-05 downsamples 952 most-common words\n",
      "INFO - 19:34:27: Word2Vec lifecycle event {'msg': 'downsampling leaves estimated 125409.0229716736 word corpus (46.1%% of prior 272083)', 'datetime': '2023-11-11T19:34:27.112493', 'gensim': '4.3.2', 'python': '3.10.13 (main, Sep 11 2023, 08:16:02) [Clang 14.0.6 ]', 'platform': 'macOS-14.0-arm64-i386-64bit', 'event': 'prepare_vocab'}\n",
      "WARNING - 19:34:27: sorting after vectors have been allocated is expensive & error-prone\n",
      "INFO - 19:34:27: estimated required memory for 9378 words and 100 dimensions: 12191400 bytes\n",
      "INFO - 19:34:27: resetting layer weights\n",
      "INFO - 19:34:27: Word2Vec lifecycle event {'update': False, 'trim_rule': 'None', 'datetime': '2023-11-11T19:34:27.147220', 'gensim': '4.3.2', 'python': '3.10.13 (main, Sep 11 2023, 08:16:02) [Clang 14.0.6 ]', 'platform': 'macOS-14.0-arm64-i386-64bit', 'event': 'build_vocab'}\n"
     ]
    }
   ],
   "source": [
    "w2v.build_vocab(corpus_iterable=new_lines)"
   ]
  },
  {
   "cell_type": "markdown",
   "id": "aefdc06f",
   "metadata": {
    "id": "aefdc06f"
   },
   "source": [
    "3) Finally, we  train the model. Train the model for 100 epochs. This will take a while. As we do not plan to train the model any further, we call `init_sims()`, which will make the model much more memory-efficient by precomputing L2-norms of word weight vectors for further analysis."
   ]
  },
  {
   "cell_type": "code",
   "execution_count": 24,
   "id": "0febaedc",
   "metadata": {
    "id": "0febaedc"
   },
   "outputs": [
    {
     "name": "stderr",
     "output_type": "stream",
     "text": [
      "WARNING - 19:34:27: Effective 'alpha' higher than previous training cycles\n",
      "INFO - 19:34:27: Word2Vec lifecycle event {'msg': 'training model with 1 workers on 9378 vocabulary and 100 features, using sg=0 hs=0 sample=6e-05 negative=20 window=3 shrink_windows=True', 'datetime': '2023-11-11T19:34:27.152458', 'gensim': '4.3.2', 'python': '3.10.13 (main, Sep 11 2023, 08:16:02) [Clang 14.0.6 ]', 'platform': 'macOS-14.0-arm64-i386-64bit', 'event': 'train'}\n",
      "INFO - 19:34:27: EPOCH 0: training on 278649 raw words (125272 effective words) took 0.5s, 242634 effective words/s\n",
      "INFO - 19:34:28: EPOCH 1: training on 278649 raw words (125482 effective words) took 0.6s, 200214 effective words/s\n",
      "INFO - 19:34:28: EPOCH 2: training on 278649 raw words (125582 effective words) took 0.6s, 208295 effective words/s\n",
      "INFO - 19:34:29: EPOCH 3: training on 278649 raw words (125582 effective words) took 0.7s, 177769 effective words/s\n",
      "INFO - 19:34:30: EPOCH 4: training on 278649 raw words (125344 effective words) took 0.6s, 225567 effective words/s\n",
      "INFO - 19:34:30: EPOCH 5: training on 278649 raw words (125317 effective words) took 0.7s, 168337 effective words/s\n",
      "INFO - 19:34:31: EPOCH 6: training on 278649 raw words (125404 effective words) took 0.6s, 223891 effective words/s\n",
      "INFO - 19:34:32: EPOCH 7: training on 278649 raw words (125698 effective words) took 0.6s, 221648 effective words/s\n",
      "INFO - 19:34:32: EPOCH 8: training on 278649 raw words (125268 effective words) took 0.6s, 227516 effective words/s\n",
      "INFO - 19:34:33: EPOCH 9: training on 278649 raw words (125323 effective words) took 0.6s, 217345 effective words/s\n",
      "INFO - 19:34:33: EPOCH 10: training on 278649 raw words (125283 effective words) took 0.7s, 192248 effective words/s\n",
      "INFO - 19:34:34: EPOCH 11: training on 278649 raw words (125152 effective words) took 0.5s, 237186 effective words/s\n",
      "INFO - 19:34:34: EPOCH 12: training on 278649 raw words (125431 effective words) took 0.5s, 243363 effective words/s\n",
      "INFO - 19:34:35: EPOCH 13: training on 278649 raw words (125438 effective words) took 0.5s, 233985 effective words/s\n",
      "INFO - 19:34:36: EPOCH 14: training on 278649 raw words (125548 effective words) took 0.6s, 205783 effective words/s\n",
      "INFO - 19:34:36: EPOCH 15: training on 278649 raw words (125410 effective words) took 0.5s, 232195 effective words/s\n",
      "INFO - 19:34:37: EPOCH 16: training on 278649 raw words (125157 effective words) took 0.5s, 237931 effective words/s\n",
      "INFO - 19:34:37: EPOCH 17: training on 278649 raw words (125381 effective words) took 0.6s, 205453 effective words/s\n",
      "INFO - 19:34:38: EPOCH 18: training on 278649 raw words (125508 effective words) took 0.6s, 224790 effective words/s\n",
      "INFO - 19:34:39: EPOCH 19: training on 278649 raw words (125452 effective words) took 0.7s, 168094 effective words/s\n",
      "INFO - 19:34:39: EPOCH 20: training on 278649 raw words (125236 effective words) took 0.5s, 232074 effective words/s\n",
      "INFO - 19:34:40: EPOCH 21: training on 278649 raw words (125404 effective words) took 0.5s, 237585 effective words/s\n",
      "INFO - 19:34:40: EPOCH 22: training on 278649 raw words (125271 effective words) took 0.5s, 239804 effective words/s\n",
      "INFO - 19:34:41: EPOCH 23: training on 278649 raw words (125569 effective words) took 0.6s, 223202 effective words/s\n",
      "INFO - 19:34:41: EPOCH 24: training on 278649 raw words (125363 effective words) took 0.6s, 201405 effective words/s\n",
      "INFO - 19:34:42: EPOCH 25: training on 278649 raw words (125400 effective words) took 0.6s, 223777 effective words/s\n",
      "INFO - 19:34:43: EPOCH 26: training on 278649 raw words (125812 effective words) took 0.5s, 230668 effective words/s\n",
      "INFO - 19:34:43: EPOCH 27: training on 278649 raw words (125907 effective words) took 0.5s, 230837 effective words/s\n",
      "INFO - 19:34:44: EPOCH 28: training on 278649 raw words (125504 effective words) took 0.7s, 192545 effective words/s\n",
      "INFO - 19:34:44: EPOCH 29: training on 278649 raw words (125420 effective words) took 0.5s, 242743 effective words/s\n",
      "INFO - 19:34:45: EPOCH 30: training on 278649 raw words (125431 effective words) took 0.6s, 226023 effective words/s\n",
      "INFO - 19:34:45: EPOCH 31: training on 278649 raw words (125437 effective words) took 0.6s, 227012 effective words/s\n",
      "INFO - 19:34:46: EPOCH 32: training on 278649 raw words (125235 effective words) took 0.5s, 237780 effective words/s\n",
      "INFO - 19:34:47: EPOCH 33: training on 278649 raw words (125388 effective words) took 0.5s, 236467 effective words/s\n",
      "INFO - 19:34:47: EPOCH 34: training on 278649 raw words (125025 effective words) took 0.5s, 242372 effective words/s\n",
      "INFO - 19:34:48: EPOCH 35: training on 278649 raw words (125524 effective words) took 0.5s, 231947 effective words/s\n",
      "INFO - 19:34:48: EPOCH 36: training on 278649 raw words (125152 effective words) took 0.5s, 242683 effective words/s\n",
      "INFO - 19:34:49: EPOCH 37: training on 278649 raw words (125563 effective words) took 0.6s, 210219 effective words/s\n",
      "INFO - 19:34:49: EPOCH 38: training on 278649 raw words (125583 effective words) took 0.5s, 231865 effective words/s\n",
      "INFO - 19:34:50: EPOCH 39: training on 278649 raw words (125406 effective words) took 0.5s, 241026 effective words/s\n",
      "INFO - 19:34:50: EPOCH 40: training on 278649 raw words (125323 effective words) took 0.5s, 235937 effective words/s\n",
      "INFO - 19:34:51: EPOCH 41: training on 278649 raw words (125244 effective words) took 0.5s, 233203 effective words/s\n",
      "INFO - 19:34:52: EPOCH 42: training on 278649 raw words (125499 effective words) took 0.6s, 203094 effective words/s\n",
      "INFO - 19:34:52: EPOCH 43: training on 278649 raw words (125401 effective words) took 0.5s, 231829 effective words/s\n",
      "INFO - 19:34:53: EPOCH 44: training on 278649 raw words (125728 effective words) took 0.5s, 230577 effective words/s\n",
      "INFO - 19:34:53: EPOCH 45: training on 278649 raw words (125441 effective words) took 0.5s, 234427 effective words/s\n",
      "INFO - 19:34:54: EPOCH 46: training on 278649 raw words (125083 effective words) took 0.6s, 198414 effective words/s\n",
      "INFO - 19:34:54: EPOCH 47: training on 278649 raw words (125402 effective words) took 0.5s, 244362 effective words/s\n",
      "INFO - 19:34:55: EPOCH 48: training on 278649 raw words (125592 effective words) took 0.6s, 227528 effective words/s\n",
      "INFO - 19:34:56: EPOCH 49: training on 278649 raw words (125321 effective words) took 0.6s, 211659 effective words/s\n",
      "INFO - 19:34:56: EPOCH 50: training on 278649 raw words (125411 effective words) took 0.7s, 179832 effective words/s\n",
      "INFO - 19:34:57: EPOCH 51: training on 278649 raw words (125588 effective words) took 0.5s, 241606 effective words/s\n",
      "INFO - 19:34:57: EPOCH 52: training on 278649 raw words (125257 effective words) took 0.6s, 224797 effective words/s\n",
      "INFO - 19:34:58: EPOCH 53: training on 278649 raw words (125325 effective words) took 0.6s, 222292 effective words/s\n",
      "INFO - 19:34:58: EPOCH 54: training on 278649 raw words (125612 effective words) took 0.5s, 229977 effective words/s\n",
      "INFO - 19:34:59: EPOCH 55: training on 278649 raw words (125274 effective words) took 0.6s, 199403 effective words/s\n",
      "INFO - 19:35:00: EPOCH 56: training on 278649 raw words (125641 effective words) took 0.6s, 224272 effective words/s\n",
      "INFO - 19:35:00: EPOCH 57: training on 278649 raw words (125281 effective words) took 0.5s, 240050 effective words/s\n",
      "INFO - 19:35:01: EPOCH 58: training on 278649 raw words (125089 effective words) took 0.6s, 220907 effective words/s\n",
      "INFO - 19:35:01: EPOCH 59: training on 278649 raw words (125368 effective words) took 0.6s, 219266 effective words/s\n",
      "INFO - 19:35:02: EPOCH 60: training on 278649 raw words (125442 effective words) took 0.6s, 195314 effective words/s\n",
      "INFO - 19:35:03: EPOCH 61: training on 278649 raw words (125274 effective words) took 0.5s, 234277 effective words/s\n",
      "INFO - 19:35:03: EPOCH 62: training on 278649 raw words (125332 effective words) took 0.5s, 240974 effective words/s\n",
      "INFO - 19:35:04: EPOCH 63: training on 278649 raw words (125508 effective words) took 0.6s, 222047 effective words/s\n",
      "INFO - 19:35:04: EPOCH 64: training on 278649 raw words (125070 effective words) took 0.6s, 196844 effective words/s\n",
      "INFO - 19:35:05: EPOCH 65: training on 278649 raw words (125960 effective words) took 0.6s, 227083 effective words/s\n",
      "INFO - 19:35:05: EPOCH 66: training on 278649 raw words (124998 effective words) took 0.6s, 215308 effective words/s\n",
      "INFO - 19:35:06: EPOCH 67: training on 278649 raw words (125460 effective words) took 0.6s, 220183 effective words/s\n",
      "INFO - 19:35:07: EPOCH 68: training on 278649 raw words (125488 effective words) took 0.5s, 243809 effective words/s\n",
      "INFO - 19:35:07: EPOCH 69: training on 278649 raw words (125156 effective words) took 0.6s, 200991 effective words/s\n",
      "INFO - 19:35:08: EPOCH 70: training on 278649 raw words (124948 effective words) took 0.6s, 220996 effective words/s\n",
      "INFO - 19:35:08: EPOCH 71: training on 278649 raw words (125390 effective words) took 0.6s, 226721 effective words/s\n",
      "INFO - 19:35:09: EPOCH 72: training on 278649 raw words (125231 effective words) took 0.6s, 227511 effective words/s\n",
      "INFO - 19:35:09: EPOCH 73: training on 278649 raw words (125168 effective words) took 0.6s, 222173 effective words/s\n",
      "INFO - 19:35:10: EPOCH 74: training on 278649 raw words (125246 effective words) took 0.8s, 160599 effective words/s\n",
      "INFO - 19:35:11: EPOCH 75: training on 278649 raw words (125379 effective words) took 0.6s, 226815 effective words/s\n",
      "INFO - 19:35:11: EPOCH 76: training on 278649 raw words (125503 effective words) took 0.5s, 228322 effective words/s\n",
      "INFO - 19:35:12: EPOCH 77: training on 278649 raw words (125732 effective words) took 0.5s, 235613 effective words/s\n",
      "INFO - 19:35:13: EPOCH 78: training on 278649 raw words (125677 effective words) took 0.7s, 188570 effective words/s\n",
      "INFO - 19:35:13: EPOCH 79: training on 278649 raw words (125798 effective words) took 0.5s, 231109 effective words/s\n",
      "INFO - 19:35:14: EPOCH 80: training on 278649 raw words (125720 effective words) took 0.5s, 231290 effective words/s\n",
      "INFO - 19:35:14: EPOCH 81: training on 278649 raw words (125434 effective words) took 0.6s, 218350 effective words/s\n",
      "INFO - 19:35:15: EPOCH 82: training on 278649 raw words (125360 effective words) took 0.5s, 229001 effective words/s\n",
      "INFO - 19:35:16: EPOCH 83: training on 278649 raw words (125663 effective words) took 0.7s, 170150 effective words/s\n",
      "INFO - 19:35:16: EPOCH 84: training on 278649 raw words (125318 effective words) took 0.5s, 233891 effective words/s\n",
      "INFO - 19:35:17: EPOCH 85: training on 278649 raw words (125471 effective words) took 0.6s, 221513 effective words/s\n",
      "INFO - 19:35:17: EPOCH 86: training on 278649 raw words (125393 effective words) took 0.6s, 225994 effective words/s\n",
      "INFO - 19:35:18: EPOCH 87: training on 278649 raw words (125251 effective words) took 0.6s, 202336 effective words/s\n",
      "INFO - 19:35:19: EPOCH 88: training on 278649 raw words (125464 effective words) took 0.7s, 175305 effective words/s\n",
      "INFO - 19:35:19: EPOCH 89: training on 278649 raw words (125122 effective words) took 0.8s, 151000 effective words/s\n",
      "INFO - 19:35:20: EPOCH 90: training on 278649 raw words (125483 effective words) took 0.7s, 173635 effective words/s\n",
      "INFO - 19:35:21: EPOCH 91: training on 278649 raw words (125579 effective words) took 0.5s, 258784 effective words/s\n",
      "INFO - 19:35:21: EPOCH 92: training on 278649 raw words (125687 effective words) took 0.6s, 203630 effective words/s\n",
      "INFO - 19:35:22: EPOCH 93: training on 278649 raw words (125547 effective words) took 0.6s, 226868 effective words/s\n",
      "INFO - 19:35:23: EPOCH 94: training on 278649 raw words (125386 effective words) took 0.7s, 167244 effective words/s\n",
      "INFO - 19:35:23: EPOCH 95: training on 278649 raw words (125376 effective words) took 0.6s, 213992 effective words/s\n",
      "INFO - 19:35:24: EPOCH 96: training on 278649 raw words (125531 effective words) took 0.7s, 178885 effective words/s\n",
      "INFO - 19:35:24: EPOCH 97: training on 278649 raw words (125521 effective words) took 0.5s, 233721 effective words/s\n",
      "INFO - 19:35:25: EPOCH 98: training on 278649 raw words (125623 effective words) took 0.8s, 159762 effective words/s\n",
      "INFO - 19:35:26: EPOCH 99: training on 278649 raw words (125472 effective words) took 0.6s, 199599 effective words/s\n",
      "INFO - 19:35:26: Word2Vec lifecycle event {'msg': 'training on 27864900 raw words (12541703 effective words) took 59.2s, 211691 effective words/s', 'datetime': '2023-11-11T19:35:26.395180', 'gensim': '4.3.2', 'python': '3.10.13 (main, Sep 11 2023, 08:16:02) [Clang 14.0.6 ]', 'platform': 'macOS-14.0-arm64-i386-64bit', 'event': 'train'}\n",
      "/var/folders/ll/bb9p31ws1bq30rs5vh03t4f80000gn/T/ipykernel_13141/2520769754.py:2: DeprecationWarning: Call to deprecated `init_sims` (Gensim 4.0.0 implemented internal optimizations that make calls to init_sims() unnecessary. init_sims() is now obsoleted and will be completely removed in future versions. See https://github.com/RaRe-Technologies/gensim/wiki/Migrating-from-Gensim-3.x-to-4).\n",
      "  w2v.init_sims()\n"
     ]
    }
   ],
   "source": [
    "w2v.train(corpus_iterable=new_lines, total_examples=w2v.corpus_count, epochs=100)\n",
    "w2v.init_sims()"
   ]
  },
  {
   "cell_type": "markdown",
   "id": "a0c86f82",
   "metadata": {
    "id": "a0c86f82"
   },
   "source": [
    "### Subtask 3: Exploring the Model\n"
   ]
  },
  {
   "cell_type": "markdown",
   "id": "377e1f70",
   "metadata": {
    "id": "377e1f70"
   },
   "source": [
    "As mentioned in the lecture, word embeddings are suited for similarity and analogy tasks. Let's explore some of that with our dataset:\n",
    "\n",
    "We look for the most similar words to the name of the famous coffee shop where most of the episodes took place, namely `central_perk` and also one of the characters `joey`. If you have followed the exercise correctly until now, you should see that words like `laying` are similar to `central_perk` and the other main characters are also considered similar to `joey`.\n",
    "\n"
   ]
  },
  {
   "cell_type": "code",
   "execution_count": 25,
   "id": "b7074ffa",
   "metadata": {
    "id": "b7074ffa",
    "scrolled": true
   },
   "outputs": [],
   "source": [
    "wv = w2v.wv"
   ]
  },
  {
   "cell_type": "code",
   "execution_count": 26,
   "id": "2e66e435",
   "metadata": {
    "id": "2e66e435",
    "scrolled": true
   },
   "outputs": [
    {
     "name": "stdout",
     "output_type": "stream",
     "text": [
      "Most similar words to 'central_perk':\n",
      "['conan', 'sitting_couch', 'recliner', 'aaah', 'village', 'laying', 'rehearsing', 'appartment', 'hippity', 'scene']\n",
      "Most similar words to 'joey':\n",
      "['chandler', 'monica', 'rachel', 'ross', 'phoebe', 'looks', 'right', 'goes', 'okay', 'hey']\n"
     ]
    }
   ],
   "source": [
    "def print_similar_words(target: str) -> None:\n",
    "    similar_words = [x[0] for x in wv.most_similar(target)]\n",
    "    print(f\"Most similar words to '{target}':\\n{similar_words}\")\n",
    "\n",
    "print_similar_words(\"central_perk\")\n",
    "print_similar_words(\"joey\")"
   ]
  },
  {
   "cell_type": "markdown",
   "id": "e3591274",
   "metadata": {
    "id": "e3591274"
   },
   "source": [
    "Look at the similarity of `green` to `rachel` (her lastname) and `ross`  and `spaceship` (urelated). The first one should have a high and the second a low score. Finally, look at the similarity of `smelly_cat` ( a song from pheobe) and `song` the similarity should be high."
   ]
  },
  {
   "cell_type": "code",
   "execution_count": 27,
   "id": "c5de6309",
   "metadata": {
    "id": "c5de6309"
   },
   "outputs": [
    {
     "name": "stdout",
     "output_type": "stream",
     "text": [
      "Similarity between 'green' and 'rachel': 0.08963531\n"
     ]
    }
   ],
   "source": [
    "print(\"Similarity between 'green' and 'rachel': \" + str(wv.similarity(\"green\", \"rachel\")))"
   ]
  },
  {
   "cell_type": "code",
   "execution_count": 28,
   "id": "322d0605",
   "metadata": {
    "id": "322d0605"
   },
   "outputs": [
    {
     "name": "stdout",
     "output_type": "stream",
     "text": [
      "Similarity between 'ross' and 'spaceship': -0.25141346\n"
     ]
    }
   ],
   "source": [
    "print(\"Similarity between 'ross' and 'spaceship': \" + str(wv.similarity(\"ross\", \"spaceship\")))"
   ]
  },
  {
   "cell_type": "code",
   "execution_count": 29,
   "id": "f7a0a1f5",
   "metadata": {
    "id": "f7a0a1f5",
    "scrolled": true
   },
   "outputs": [
    {
     "name": "stdout",
     "output_type": "stream",
     "text": [
      "Similarity between 'smelly_cat' and 'song': 0.5320616\n"
     ]
    }
   ],
   "source": [
    "print(\"Similarity between 'smelly_cat' and 'song': \" + str(wv.similarity(\"smelly_cat\", \"song\")))"
   ]
  },
  {
   "cell_type": "markdown",
   "id": "7343365d",
   "metadata": {
    "id": "7343365d"
   },
   "source": [
    "We can also ask our model to give us the word that does not belong to a list of words. Let's see from the list of all 5 characters which one is the most dissimilar?\n"
   ]
  },
  {
   "cell_type": "code",
   "execution_count": 30,
   "id": "37bff805",
   "metadata": {
    "id": "37bff805"
   },
   "outputs": [],
   "source": [
    "character_names= ['joey', 'rachel', 'phoebe','monica','chandler']"
   ]
  },
  {
   "cell_type": "code",
   "execution_count": 31,
   "id": "9020cd09",
   "metadata": {
    "id": "9020cd09",
    "scrolled": true
   },
   "outputs": [
    {
     "data": {
      "text/plain": [
       "'joey'"
      ]
     },
     "execution_count": 31,
     "metadata": {},
     "output_type": "execute_result"
    }
   ],
   "source": [
    "wv.doesnt_match(character_names)"
   ]
  },
  {
   "cell_type": "markdown",
   "id": "28abdaec",
   "metadata": {
    "id": "28abdaec"
   },
   "source": [
    "Based on the analogies, which word is to `monica` as `man` is to `women`? (print the top 3 words); you should get `chandler`among the answers."
   ]
  },
  {
   "cell_type": "code",
   "execution_count": 32,
   "id": "4a270c9b",
   "metadata": {
    "id": "4a270c9b"
   },
   "outputs": [
    {
     "data": {
      "text/plain": [
       "[('rachel', 0.43318861722946167),\n",
       " ('chandler', 0.43195614218711853),\n",
       " ('phoebe', 0.38361042737960815)]"
      ]
     },
     "execution_count": 32,
     "metadata": {},
     "output_type": "execute_result"
    }
   ],
   "source": [
    "def analogy1(word_1, word_2, target):\n",
    "    result = wv.most_similar(positive=[target, word_2], negative=[word_1], topn=3)\n",
    "    return result\n",
    "\n",
    "analogy1(\"man\", \"women\", \"monica\")"
   ]
  },
  {
   "cell_type": "markdown",
   "id": "1c97ae83",
   "metadata": {
    "id": "1c97ae83"
   },
   "source": [
    "Finally, lets use [t-SNE](https://www.jmlr.org/papers/volume9/vandermaaten08a/vandermaaten08a.pdf) to look at the distribution of our embeddings in the vector space for the character `joey`. Follow the instructions and fill in the blank in the `tsneplot` function."
   ]
  },
  {
   "cell_type": "code",
   "execution_count": 33,
   "id": "d0b8930e",
   "metadata": {
    "id": "d0b8930e"
   },
   "outputs": [],
   "source": [
    "import numpy as np\n",
    "import matplotlib.pyplot as plt\n",
    "%matplotlib inline\n",
    "import seaborn as sns\n",
    "import sys\n",
    "from sklearn.manifold import TSNE"
   ]
  },
  {
   "cell_type": "code",
   "execution_count": 34,
   "id": "faa51d9e",
   "metadata": {
    "id": "faa51d9e"
   },
   "outputs": [],
   "source": [
    "def tsneplot(model, word):\n",
    "    \"\"\" Plot in seaborn the results from the t-SNE dimensionality reduction for the top 10 most similar and dissimilar words\n",
    "    \"\"\"\n",
    "    embs = np.empty((0, 100), dtype='f')# to save all the embeddings\n",
    "    word_labels = [word]\n",
    "    color_list  = ['green']\n",
    "\n",
    "    # adds the vector of the query word\n",
    "    embs = np.append(embs, model.wv.__getitem__([word]), axis=0)\n",
    "\n",
    "    # gets list of most similar words\n",
    "    close_words = model.wv.most_similar([word])\n",
    "    all_sims = model.wv.most_similar([word], topn=sys.maxsize)\n",
    "    far_words = list(reversed(all_sims[-10:]))\n",
    "\n",
    "    # adds the vector for each of the closest words to the array\n",
    "    for wrd_score in close_words:\n",
    "        wrd_vector = model.wv.__getitem__([wrd_score[0]])\n",
    "        word_labels.append(wrd_score[0])\n",
    "        color_list.append('blue')\n",
    "        embs = np.append(embs, wrd_vector, axis=0)\n",
    "\n",
    "    # adds the vector for each of the furthest words to the array\n",
    "    for wrd_score in far_words:\n",
    "        wrd_vector = model.wv.__getitem__([wrd_score[0]])\n",
    "        word_labels.append(wrd_score[0])\n",
    "        color_list.append('red')\n",
    "        embs = np.append(embs, wrd_vector, axis=0)\n",
    "\n",
    "    np.set_printoptions(suppress=True)\n",
    "    Y = TSNE(n_components=2, random_state=110, perplexity=15).fit_transform(embs)\n",
    "\n",
    "    # sets everything up to plot\n",
    "    df = pd.DataFrame({'x': [x for x in Y[:, 0]],\n",
    "                       'y': [y for y in Y[:, 1]],\n",
    "                       'words': word_labels,\n",
    "                       'color': color_list})\n",
    "\n",
    "    fig, _ = plt.subplots()\n",
    "    fig.set_size_inches(10, 10)\n",
    "\n",
    "    # basic plot\n",
    "    p1 = sns.regplot(data=df,\n",
    "                     x=\"x\",\n",
    "                     y=\"y\",\n",
    "                     fit_reg=False,\n",
    "                     marker=\"o\",\n",
    "                     scatter_kws={'s': 40,\n",
    "                                  'facecolors': df['color']\n",
    "                                 }\n",
    "                    )\n",
    "\n",
    "    # adds annotations one by one with a loop\n",
    "    for line in range(0, df.shape[0]):\n",
    "         p1.text(df[\"x\"][line],\n",
    "                 df['y'][line],\n",
    "                 '  ' + df[\"words\"][line].title(),\n",
    "                 horizontalalignment='left',\n",
    "                 verticalalignment='bottom', size='medium',\n",
    "                 color=df['color'][line],\n",
    "                 weight='normal'\n",
    "                ).set_size(15)\n",
    "\n",
    "\n",
    "    plt.xlim(Y[:, 0].min()-1, Y[:, 0].max()+1)\n",
    "    plt.ylim(Y[:, 1].min()-1, Y[:, 1].max()+1)\n",
    "\n",
    "    plt.title('t-SNE visualization for {}'.format(word.title()))\n"
   ]
  },
  {
   "cell_type": "code",
   "execution_count": 35,
   "id": "3880bad8",
   "metadata": {
    "id": "3880bad8"
   },
   "outputs": [
    {
     "data": {
      "image/png": "[encoded data removed]",
      "text/plain": [
       "<Figure size 1000x1000 with 1 Axes>"
      ]
     },
     "metadata": {},
     "output_type": "display_data"
    }
   ],
   "source": [
    "tsneplot(w2v, 'joey')"
   ]
  },
  {
   "cell_type": "markdown",
   "id": "1ce2c270",
   "metadata": {
    "id": "1ce2c270"
   },
   "source": [
    "## **Task 2: Questions on the Conceptual Level (non-programming) (Grade (2 + 1 + 1 + 4) = 8)**"
   ]
  },
  {
   "cell_type": "markdown",
   "id": "c3fa409f",
   "metadata": {
    "id": "c3fa409f"
   },
   "source": [
    "Please answer the following questions in the notebook cells using markdown. Be precise and short."
   ]
  },
  {
   "cell_type": "markdown",
   "id": "1ec614b0",
   "metadata": {
    "id": "1ec614b0"
   },
   "source": [
    "### Subtask 1: For gradient descent, what advantage has a decaying learning rate?"
   ]
  },
  {
   "cell_type": "markdown",
   "id": "bec059fb",
   "metadata": {
    "id": "bec059fb"
   },
   "source": [
    "It helps to achieve faster convergence in the beginning and then to avoid overshooting the minimum. It ensures finer tuning when approaching the optimal solution."
   ]
  },
  {
   "cell_type": "markdown",
   "id": "0af2b619",
   "metadata": {
    "id": "0af2b619"
   },
   "source": [
    "### Subtask 2: Why is it easier to maximize the log likelihood instead of the \"normal\" likelihood?"
   ]
  },
  {
   "cell_type": "markdown",
   "id": "deb75406",
   "metadata": {
    "id": "deb75406"
   },
   "source": [
    "Maximizing the log likelihood instead of the regular likelihood is computationally stable because it avoids very small numbers, it simplifies math by turning products into sums, and it can make optimization problems convex which eases the search for global maxima."
   ]
  },
  {
   "cell_type": "markdown",
   "id": "a9828a2f",
   "metadata": {
    "id": "a9828a2f"
   },
   "source": [
    "### Subtask 3: Name one advantage that fastText has over Word2Vec?"
   ]
  },
  {
   "cell_type": "markdown",
   "id": "6c7aeb3b",
   "metadata": {
    "id": "6c7aeb3b"
   },
   "source": [
    "FastText can represent out-of-vocabulary words by averaging the embeddings of its subwords. Word2Vec can't handle words not seen during training."
   ]
  },
  {
   "cell_type": "markdown",
   "id": "07634ed8",
   "metadata": {
    "id": "07634ed8"
   },
   "source": [
    "### Subtask 4: Compute the partial derivate of softmax loss for word2vec with\n",
    "\n",
    "---\n",
    "\n",
    "respect to the center word vector.\n",
    "$$ \\frac{\\partial J}{\\partial v_c} =\\frac{\\partial}{\\partial v_c}\\left[ -log \\left( \\frac{exp(u^T_o v_c)}{\\Sigma_{w \\in Vocab} exp(u^T_o v_c)} \\right)\\right] $$\n",
    "use $U$ to denote the matrix of all embeddings and $y$ for a one-hot vector with a 1 for the true outside word $o$, and $\\hat{y}$ for the predicted distribution $P(w|c)$."
   ]
  },
  {
   "cell_type": "markdown",
   "id": "baba8a44",
   "metadata": {
    "id": "baba8a44"
   },
   "source": [
    "$$ \n",
    "\\begin{split}\n",
    "\\frac{\\partial J}{\\partial v_c} & =\\frac{\\partial}{\\partial v_c}\\left[ -log \\left( \\frac{exp(u^T_o v_c)}{\\Sigma_{w \\in Vocab} exp(u^T_w v_c)} \\right)\\right] \\\\\n",
    "& = -u_0 + \\frac{\\Sigma_{x \\in Vocab} exp(u^T_x v_c)}{\\Sigma_{w \\in Vocab} exp(u^T_w v_c)} \\cdot u_x \\\\\n",
    "& = -u_0 + p(x|c) \\cdot u_x \\\\\n",
    "\\end{split}\n",
    "$$"
   ]
  },
  {
   "cell_type": "code",
   "execution_count": 1,
   "metadata": {},
   "outputs": [],
   "source": [
    "# Still needs to be changed.  Need to figure out how to write it with respect to the embedding matrix U\n"
   ]
  },
  {
   "cell_type": "markdown",
   "id": "8364e05b",
   "metadata": {
    "id": "8364e05b"
   },
   "source": [
    "## **Task 3: Auto-Complete Feature (Grade (2 + 6 + 4) = 12)**\n",
    "\n",
    "Let's get even more practical! In this problem set, you will build your own auto-completion system that you see every day while using search engines.\n",
    "\n",
    "[google]: https://www.thedad.com/wp-content/uploads/2018/05/screen-shot-2018-05-12-at-2-01-56-pm.png \"google auto complete\"\n",
    "\n",
    "![google]\n",
    "By the end of this assignment, you will develop a simple prototype of such a system using n-gram language model. At the heart of the system is a language model that assigns the probability to a sequence of words. We take advantage of this probability calculation to predict the next word.\n",
    "\n",
    "The problem set contains 3 main parts:\n",
    "\n",
    "1. Load and preprocess data (tokenize and split into train and test)\n",
    "2. Develop n-gram based language model by estimating the conditional probability of the next word.\n",
    "3. Evaluate the model by computing the perplexity score.\n"
   ]
  },
  {
   "cell_type": "markdown",
   "id": "c9d5f84e",
   "metadata": {
    "id": "c9d5f84e"
   },
   "source": [
    "### Subtask 1: Load and Preprocess Data\n",
    "We use a subset of English tweets to train our model. Run the cell below to load the data and observe a few lines of it. Notice that tweets are saved in a text file, where the individual tweets are separated by `\\n`"
   ]
  },
  {
   "cell_type": "code",
   "execution_count": 36,
   "id": "48fc8e51",
   "metadata": {
    "id": "48fc8e51"
   },
   "outputs": [
    {
     "name": "stdout",
     "output_type": "stream",
     "text": [
      "First 500 characters of the data:\n"
     ]
    },
    {
     "data": {
      "text/plain": [
       "\"How are you? Btw thanks for the RT. You gonna be in DC anytime soon? Love to see you. Been way, way too long.\\nWhen you meet someone special... you'll know. Your heart will beat more rapidly and you'll smile for no reason.\\nthey've decided its more fun if I don't.\\nSo Tired D; Played Lazer Tag & Ran A LOT D; Ughh Going To Sleep Like In 5 Minutes ;)\\nWords from a complete stranger! Made my birthday even better :)\\nFirst Cubs game ever! Wrigley field is gorgeous. This is perfect. Go Cubs Go!\\ni no! i ge\""
      ]
     },
     "metadata": {},
     "output_type": "display_data"
    },
    {
     "name": "stdout",
     "output_type": "stream",
     "text": [
      "-------\n"
     ]
    }
   ],
   "source": [
    "import spacy\n",
    "nlp = spacy.load(\"en_core_web_sm\", disable=[\"tagger\", \"parser\",\"ner\"])\n",
    "\n",
    "\n",
    "with open(\"./twitter.txt\", \"r\") as f:\n",
    "    data = f.read()\n",
    "print(\"First 500 characters of the data:\")\n",
    "display(data[0:500])\n",
    "print(\"-------\")"
   ]
  },
  {
   "cell_type": "markdown",
   "id": "aa007e1d",
   "metadata": {
    "id": "aa007e1d"
   },
   "source": [
    "Now we need to separate the tweets and split them into train and test set. Apply the following pre-processing steps:\n",
    "\n",
    "1. Split data into sentences using \"\\n\" as the delimiter and remove the leading and trailing spaces (drop empty sentences)\n",
    "2. Tokenize the sentences into words using SpaCy and lowercase them. (notice that we do not remove stop words or punctuations.)\n",
    "3. Divide the sentences into 80 percent training and 20 percent test set. No validation set is required. Although in a real-world application it is best to set aside part of the data for hyperparameter tuning.\n",
    "4. To limit the vocabulary and remove potential spelling mistakes, make a vocabulary of the words that appear at least 2 times. The rest of the words will be replaced by the `<unk>` symbol. This is a crucial step since if your model encounters a word that it never saw during training, it won't have an input word that helps determining the next word for suggestion. We use the `<unk>` word for **out of Vocabulary (OOV)** words. Keep in mind that we built the vocabulary on the training data only."
   ]
  },
  {
   "cell_type": "code",
   "execution_count": 37,
   "id": "16d5b640",
   "metadata": {
    "id": "16d5b640"
   },
   "outputs": [
    {
     "name": "stdout",
     "output_type": "stream",
     "text": [
      "['How are you? Btw thanks for the RT. You gonna be in DC anytime soon? Love to '\n",
      " 'see you. Been way, way too long.',\n",
      " \"When you meet someone special... you'll know. Your heart will beat more \"\n",
      " \"rapidly and you'll smile for no reason.\",\n",
      " \"they've decided its more fun if I don't.\"]\n"
     ]
    }
   ],
   "source": [
    "import pprint \n",
    "\n",
    "sentences = data.split(\"\\n\")\n",
    "sentences = [sent.strip() for sent in sentences if sent.strip() != \"\"]  #removes trailing whitespaces and empty strings\n",
    "\n",
    "pprint.pprint(sentences[:3])"
   ]
  },
  {
   "cell_type": "code",
   "execution_count": 38,
   "id": "2faabb7a",
   "metadata": {
    "id": "2faabb7a"
   },
   "outputs": [
    {
     "name": "stdout",
     "output_type": "stream",
     "text": [
      "[['how', 'are', 'you', '?', 'btw', 'thanks', 'for', 'the', 'rt', '.', 'you', 'gon', 'na', 'be', 'in', 'dc', 'anytime', 'soon', '?', 'love', 'to', 'see', 'you', '.', 'been', 'way', ',', 'way', 'too', 'long', '.']]\n"
     ]
    }
   ],
   "source": [
    "tokenizer = nlp.tokenizer\n",
    "\n",
    "tokenized_corpus = []  #list of list of the tokens in a sentence\n",
    "\n",
    "for sent in sentences:\n",
    "    tokens = [token.text.lower() for token in tokenizer(sent)]  #extract tokens from Doc object\n",
    "    tokenized_corpus.append(tokens)\n",
    "\n",
    "print(tokenized_corpus[:1])\n"
   ]
  },
  {
   "cell_type": "code",
   "execution_count": 39,
   "id": "235d1b53",
   "metadata": {
    "id": "235d1b53"
   },
   "outputs": [],
   "source": [
    "from random import Random\n",
    "Random(4).shuffle(tokenized_corpus)\n",
    "\n",
    "split_index = int(0.8 * len(tokenized_corpus))\n",
    "\n",
    "train = tokenized_corpus[:split_index]\n",
    "test = tokenized_corpus[split_index:]"
   ]
  },
  {
   "cell_type": "code",
   "execution_count": 69,
   "id": "2526e4b1",
   "metadata": {
    "id": "2526e4b1"
   },
   "outputs": [
    {
     "name": "stdout",
     "output_type": "stream",
     "text": [
      "14861\n"
     ]
    }
   ],
   "source": [
    "from collections import Counter\n",
    "flatten_corpus = [token for sent in train for token in sent]\n",
    "\n",
    "word_counts = Counter(flatten_corpus)\n",
    "#print(word_counts)\n",
    "\n",
    "### keep only the ones with frequency bigger than 2 ###\n",
    "#vocab = [word for word, count in word_counts.items() if count > 2]  #in the task description above is written \"at least 2\" which would be \"> 1\", but here it's \"bigger than 2\"\n",
    "vocab = [word for word, count in word_counts.items() if count > 1]\n",
    "print(len(vocab)) ### should be 14861 ###\n",
    "\n",
    "train_replaced = []\n",
    "test_replaced = []\n",
    "for sentence in train:\n",
    "    ### adjust the sentence to contain the word in the vocabulary and <unk> for the rest ####\n",
    "    replaced_sent = [\"<unk>\" if word not in vocab else word for word in sentence]\n",
    "    train_replaced.append(replaced_sent)\n",
    "\n",
    "for sentence in test:\n",
    "    replaced_sent = [\"<unk>\" if word not in vocab else word for word in sentence]\n",
    "    test_replaced.append(replaced_sent)"
   ]
  },
  {
   "cell_type": "code",
   "execution_count": 71,
   "id": "f365831d",
   "metadata": {},
   "outputs": [
    {
     "name": "stdout",
     "output_type": "stream",
     "text": [
      "[['this', 'week', 'has', 'been', 'so', 'beautifully', 'busy', '...', 'busy', 'busy', 'bees', 'we', \"'ve\", 'been', '!'], ['#', 'goodnight', 'twitter', '!', '❤', '💤']]\n"
     ]
    }
   ],
   "source": [
    "print(test_replaced[:2])"
   ]
  },
  {
   "cell_type": "markdown",
   "id": "f447294a",
   "metadata": {
    "id": "f447294a"
   },
   "source": [
    "### Subtask 2: N-gram Based Language Model:\n",
    "In this section, you will develop an n-grams language model [**1. Large Language Models (LLMs), slide 1-24**]. We assume that the probability of the next word depends only on the previous n-gram or previous n words. We compute this probability by counting the occurrences in the corpus.\n",
    "The conditional probability for the word at position 't' in the sentence, given that the words preceding it are $w_{t-1}, w_{t-2} \\cdots w_{t-n}$ can be estimated as follows:\n",
    "\n",
    "$$ \\hat{P}(w_t | w_{t-1}\\dots w_{t-n}) = \\frac{C(w_{t-1}\\dots w_{t-n}, w_t)}{C(w_{t-1}\\dots w_{t-n})}  $$\n",
    "\n",
    "The numerator is the number of times word '$w_t$' appears after the n-gram, and the denominator is the number of times the n-gram occurs in the corpus, where $C(\\cdots)$ is a count function. Later, we add k-smoothing to avoid errors when any counts are zero."
   ]
  },
  {
   "cell_type": "markdown",
   "id": "7a590b34",
   "metadata": {
    "id": "7a590b34"
   },
   "source": [
    "To tackle the problem of probability estimation we divide the problem into 3 parts. In the following you will:\n",
    "1. Implement a function that computes the counts of n-grams for an arbitrary number n.\n",
    "2. Estimate the probability of a word given the prior n-words using the n-gram counts.\n",
    "3. Calculate probabilities for all possible words.\n",
    "The steps are detailed below."
   ]
  },
  {
   "cell_type": "markdown",
   "id": "8da09885",
   "metadata": {
    "id": "8da09885"
   },
   "source": [
    "Let's start by implementing a function that computes the counts of n-grams for an arbitrary number n.\n",
    "- Prepend necessary starting markers `<s>` to indicate the beginning of the sentence. In the case of a bi-gram model, you need to prepend two start tokens `<s><s>` to be able to predict the first word. \"hello world\"-> \"`<s><s>`hello world\".\n",
    "- Append an end token `<e>` so that the model can predict when to finish a sentence.\n",
    "- Create a dictionary to store all the n_gram counts."
   ]
  },
  {
   "cell_type": "code",
   "execution_count": 72,
   "id": "e8a98cee",
   "metadata": {
    "id": "e8a98cee"
   },
   "outputs": [],
   "source": [
    "from collections import defaultdict\n",
    "\n",
    "def n_grams_counts(corpus, n):\n",
    "    \"\"\"\n",
    "    Count all n-grams in the corpus given the parameter n\n",
    "\n",
    "    data: List of lists of words (your tokenized corpus)\n",
    "    n: n in the n-gram\n",
    "\n",
    "    Returns: A dictionary that maps a tuple of n words to its frequency\n",
    "    \"\"\"\n",
    "    start_token='<s>'\n",
    "    end_token = '<e>'\n",
    "    n_grams = defaultdict(int)\n",
    "    for sentence in corpus:\n",
    "        ### add start and end token ###\n",
    "        sentence = n * [start_token] + sentence + [end_token]\n",
    "\n",
    "        # convert list to tuple so it can be used a the key in the dictionary\n",
    "        sentence = tuple(sentence)\n",
    "\n",
    "        ###iterate over the n-grams in the sentence, you can use the range() function, and increment the counts in the\n",
    "        ## n_grams dictionary, where the key is the n_gram and the value is count\n",
    "        for i in range(len(sentence) - n + 1):\n",
    "            n_gram = sentence[i:i+n]   #iterate according to n-grams (steps of n=1 or n=2)\n",
    "            n_grams[n_gram] += 1\n",
    "\n",
    "    return n_grams"
   ]
  },
  {
   "cell_type": "code",
   "execution_count": 73,
   "id": "7e88f7f5",
   "metadata": {},
   "outputs": [
    {
     "name": "stdout",
     "output_type": "stream",
     "text": [
      "('<s>', '<s>'): 38368\n",
      "('<s>', 'be'): 42\n",
      "('be', 'safe'): 15\n",
      "('safe', '!'): 6\n",
      "('!', '!'): 4992\n",
      "('!', '<e>'): 7655\n",
      "('<s>', 'working'): 45\n",
      "('working', 'today'): 3\n",
      "('today', 'in'): 23\n",
      "('in', 'madison'): 5\n"
     ]
    }
   ],
   "source": [
    "from itertools import islice\n",
    "\n",
    "n_gram_dict = n_grams_counts(train_replaced, 2)\n",
    "\n",
    "for n_gram, count in islice(n_gram_dict.items(), 10):\n",
    "    print(f'{n_gram}: {count}')"
   ]
  },
  {
   "cell_type": "markdown",
   "id": "ba75f530",
   "metadata": {
    "id": "ba75f530"
   },
   "source": [
    "The next step is to estimate the probability of a word given the prior n words using the n-gram counts, based on the formula given at the beginning of this task. To deal with the problem of zero division we add k-smoothing. K-smoothing adds a positive constant $k$ to each numerator and $k \\times |vocabulary size|$ in the denominator. Below we will define a function that takes in a dictionary `n_gram_cnt`, where the key is the n-gram, and the value is the count of that n-gram, plus a dictionary for `plus_current_gram_cnt`, which you'll use to find the count for the previous n-gram plus the current word. Notice that these dictionaries are computed using the previous function `n_grams_counts`.\n"
   ]
  },
  {
   "cell_type": "code",
   "execution_count": 74,
   "id": "a2c6898d",
   "metadata": {
    "id": "a2c6898d"
   },
   "outputs": [],
   "source": [
    "def probability(word, prev_n_gram,\n",
    "                         n_gram_cnts, plus_current_gram_cnts, vocab_size, k=1.0):\n",
    "    \"\"\"\n",
    "    Estimate the probabilities of the next word using the n-gram counts with k-smoothing\n",
    "    word: next word\n",
    "    prev_n_gram: previous n gram\n",
    "    n_gram_cnts: dictionary of counts of n-grams\n",
    "    plus_current_gram_cnts: dictionary of counts of (n+1)-grams -> current word+ n-gram = (n+1)-gram\n",
    "    vocab_size: number of words in the vocabulary\n",
    "\n",
    "    Returns: A probability\n",
    "    \"\"\"\n",
    "    k = 1.0\n",
    "    prev_n_gram = tuple(prev_n_gram)\n",
    "\n",
    "    prev_n_gram_cnt = n_gram_cnts.get(prev_n_gram, 0) # get the previous n-gram count from the dictionary, if not present: 0\n",
    "\n",
    "    denominator = prev_n_gram_cnt + (k * vocab_size) # denominator with the previous n-gram count and k-smoothing\n",
    "\n",
    "    plus_current_gram =  prev_n_gram + (word,) # add the current word to the n-gram\n",
    "\n",
    "    plus_current_gram_cnt = plus_current_gram_cnts.get(plus_current_gram, 0) # get the current n-gram count using the dictionary\n",
    "\n",
    "    numerator = plus_current_gram_cnt + k #calculate the numerator with k-smoothing\n",
    "\n",
    "    prob = numerator / denominator\n",
    "\n",
    "    return prob"
   ]
  },
  {
   "cell_type": "markdown",
   "id": "7803eb7c",
   "metadata": {
    "id": "7803eb7c"
   },
   "source": [
    "Let's use the functions we have defined to calculate probabilities for all possible words.\n"
   ]
  },
  {
   "cell_type": "code",
   "execution_count": 75,
   "id": "7157c4cb",
   "metadata": {
    "id": "7157c4cb"
   },
   "outputs": [],
   "source": [
    "def probabilities(prev_n_gram, n_gram_cnts, plus_current_gram_cnts, vocab):\n",
    "    \"\"\"\n",
    "    Estimate the probabilities for all the words in the vocabulary given the previous n-gram\n",
    "    prev_n_gram: previous n-gram\n",
    "    n_gram_cnts: dictionary of counts of n-grams\n",
    "    plus_current_gram_cntsplus_current_gram_cnt: dictionary of counts of (n+1)-grams -> current word+ n-gram = (n+1)-gram\n",
    "    vocab: List of words\n",
    "\n",
    "    Returns: A dictionary mapping from next words to the probability.\n",
    "    \"\"\"\n",
    "    prev_n_gram = tuple(prev_n_gram)\n",
    "\n",
    "    vocab = set(vocab + [\"<e>\", \"<unk>\"]) # add <e> <unk> to the vocabulary\n",
    "    vocabulary_size = len(vocab)\n",
    "\n",
    "    probabilities = {}\n",
    "    for word in vocab:\n",
    "        ### compute the probability\n",
    "        prob = probability(word, prev_n_gram, n_gram_cnts, plus_current_gram_cnts, vocabulary_size)\n",
    "        probabilities[word] = prob\n",
    "\n",
    "    return probabilities"
   ]
  },
  {
   "cell_type": "code",
   "execution_count": 76,
   "id": "88fea049",
   "metadata": {
    "id": "88fea049"
   },
   "outputs": [
    {
     "name": "stdout",
     "output_type": "stream",
     "text": [
      "The word 'moon' should have the highest probability, if it is not the case, re-visit your previous functions.\n"
     ]
    },
    {
     "data": {
      "text/plain": [
       "{'and': 0.05263157894736842,\n",
       " 'mars': 0.05263157894736842,\n",
       " 'the': 0.05263157894736842,\n",
       " 'bright': 0.05263157894736842,\n",
       " 'are': 0.05263157894736842,\n",
       " 'shining': 0.05263157894736842,\n",
       " 'is': 0.05263157894736842,\n",
       " '<e>': 0.05263157894736842,\n",
       " 'shinnig': 0.05263157894736842,\n",
       " 'plants': 0.05263157894736842,\n",
       " 'moon': 0.21052631578947367,\n",
       " 'a': 0.05263157894736842,\n",
       " '<unk>': 0.05263157894736842,\n",
       " 'tonight': 0.05263157894736842,\n",
       " 'plant': 0.05263157894736842,\n",
       " 'stars': 0.05263157894736842}"
      ]
     },
     "execution_count": 76,
     "metadata": {},
     "output_type": "execute_result"
    }
   ],
   "source": [
    "# Predict the probability of all possible words after the unigram \"the\"\n",
    "sentences = [['the', 'moon', 'and', 'stars', 'are','shining','bright'],\n",
    "             ['the', 'moon', 'is', 'shinnig','tonight'],\n",
    "             ['mars','and' ,'moon', 'are', 'plants'],\n",
    "             ['the' ,'moon', 'is','a', 'plant']]\n",
    "unique_words = list(set(sentences[0] + sentences[1] + sentences[2]+ sentences[3]))\n",
    "unigram_counts = n_grams_counts(sentences, 1)\n",
    "bigram_counts = n_grams_counts(sentences, 2)\n",
    "print(\"The word 'moon' should have the highest probability, if it is not the case, re-visit your previous functions.\")\n",
    "probabilities([\"the\"], unigram_counts, bigram_counts, unique_words)"
   ]
  },
  {
   "cell_type": "markdown",
   "id": "014a385f",
   "metadata": {
    "id": "014a385f"
   },
   "source": [
    "### Subtask 3: Evaluation"
   ]
  },
  {
   "cell_type": "markdown",
   "id": "90a4345f",
   "metadata": {
    "id": "90a4345f"
   },
   "source": [
    "In this part, we use the perplexity score to evaluate your model on the test set. The perplexity score of the test set on an n-gram model is defined as follows:\n",
    "\n",
    "$$ PP(W) =\\sqrt[N]{ \\prod_{t=n}^{N-1} \\frac{1}{P(w_t | w_{t-n} \\cdots w_{t-1})} } $$\n",
    "- where $N$ is the length of the sentence. ($N-1$ is used because in the code we start from the index 0).\n",
    "- $n$ is the number of words in the n-gram.\n",
    "- $W$ is the n-gram\n",
    "\n",
    "Notice that we have already computed this probability.\n",
    "\n",
    "The higher the probabilities are, the lower the perplexity will be."
   ]
  },
  {
   "cell_type": "code",
   "execution_count": 77,
   "id": "9644c33f",
   "metadata": {
    "id": "9644c33f"
   },
   "outputs": [],
   "source": [
    "def perplexity(sentence, n_gram_cnts, plus_current_gram_cnts, vocab_size, k=1.0):\n",
    "    \"\"\"\n",
    "    Calculate perplexity for a list of sentences\n",
    "    sentence: List of strings\n",
    "    n_gram_cnts: dictionary of counts of n-grams\n",
    "    plus_current_gram_cnts: dictionary of counts of (n+1)-grams -> current word+ n-gram = (n+1)-gram\n",
    "    vocab_size: number of unique words in the vocabulary\n",
    "    k: positive smoothing constant\n",
    "\n",
    "    Returns: Perplexity score for a single sentence\n",
    "    \"\"\"\n",
    "\n",
    "    n = len(next(iter(n_gram_cnts))) # get the number 'n' in  n-gram  from n_gram_cnts\n",
    "\n",
    "    sentence =  n * [\"<s>\"] + sentence + [\"<e>\"] # prepend <s> and append <e>\n",
    "    sentence = tuple(sentence)\n",
    "    N = len(sentence) # length of sentence\n",
    "\n",
    "\n",
    "    product_pi = 1.0\n",
    "\n",
    "    ### Compute the product of probabilities ###\n",
    "\n",
    "    for t in range(n, N):\n",
    "        n_gram = tuple(sentence[t - n:t]) # get the n-gram before the predicted word (n-gram before t ) -> starting at n: if n=2 then sentence[2-2:2]\n",
    "        word = sentence[t] # get the word to be predicted (position t)\n",
    "        prob = probability(word, n_gram, n_gram_cnts, plus_current_gram_cnts, vocab_size) # your code instead of ....\n",
    "        product_pi *= 1 / prob # Update the product of the probabilities\n",
    "\n",
    "    perplexity = product_pi**(1/float(N)) # Take the Nth root of the product\n",
    "    \n",
    "    return perplexity"
   ]
  },
  {
   "cell_type": "markdown",
   "id": "8745e1bc",
   "metadata": {
    "id": "8745e1bc"
   },
   "source": [
    "Use `perplexity` function to find the perplexity of a bi-gram model on the first training sample and on the first test sample (first element of the set)."
   ]
  },
  {
   "cell_type": "code",
   "execution_count": 78,
   "id": "d857043a",
   "metadata": {
    "id": "d857043a"
   },
   "outputs": [
    {
     "name": "stdout",
     "output_type": "stream",
     "text": [
      "Perplexity for first train sample: 138.8764\n",
      "Perplexity for test sample: 2628.6091\n"
     ]
    }
   ],
   "source": [
    "bigram_counts = n_grams_counts(train_replaced, 2)\n",
    "trigram_counts = n_grams_counts(train_replaced, 3)\n",
    "\n",
    "perplexity_train = perplexity(train_replaced[0],bigram_counts, trigram_counts,len(vocab))\n",
    "print(f\"Perplexity for first train sample: {perplexity_train:.4f}\")\n",
    "\n",
    "perplexity_test = perplexity(test_replaced[0],bigram_counts, trigram_counts,len(vocab))\n",
    "print(f\"Perplexity for test sample: {perplexity_test:.4f}\") # the perplexity for the train sample should be much lower"
   ]
  },
  {
   "cell_type": "markdown",
   "id": "7c697faa",
   "metadata": {
    "id": "7c697faa"
   },
   "source": [
    "Finally, let's use the model we created to generate an auto-complete system that makes suggestions."
   ]
  },
  {
   "cell_type": "code",
   "execution_count": 79,
   "id": "b6d6163b",
   "metadata": {
    "id": "b6d6163b"
   },
   "outputs": [],
   "source": [
    "def suggest_a_word(up_to_here, n_gram_cnts, plus_current_gram_cnts, vocab, start_with=None):\n",
    "    \"\"\"\n",
    "    Get suggestion for the next word\n",
    "    up_to_here: the sentence so far, must have length > n\n",
    "    n_gram_cnts: dictionary of counts of n-grams\n",
    "    plus_current_gram_cnts: dictionary of counts of (n+1)-grams -> current word+ n-gram = (n+1)-gram\n",
    "    vocab: List of words\n",
    "    start_with: If not None, specifies the first few letters of the next word\n",
    "\n",
    "    Returns: (most likely next word,  probability)\n",
    "    \"\"\"\n",
    "    n = len(list(n_gram_cnts.keys())[0]) # get the number 'n' in  n-gram  from n_gram_cnts\n",
    "    previous_n_gram = previous_tokens[-n:] # get the last 'n' words as the previous n-gram from the input sentence\n",
    "\n",
    "\n",
    "    probabs = probabilities(previous_n_gram, n_gram_cnts, plus_current_gram_cnts, vocab) # Estimate the probabilities for each word in the vocabulary\n",
    "\n",
    "    ### sort the probability for higher to lower and return the highest probability word,probability tuple\n",
    "    #if start_with is specified then return the highest probability word that starts with that specific character\n",
    "    if start_with:\n",
    "        probabs = {word: prob for word, prob in probabs.items() if word.startswith(start_with)} # select only words starting with given letter\n",
    "\n",
    "    best_next_word = max(probabs, key=probabs.get)\n",
    "    best_prob = probabs[best_next_word]\n",
    "\n",
    "    return best_next_word, round(best_prob, 6)\n"
   ]
  },
  {
   "cell_type": "markdown",
   "id": "f88f9abc",
   "metadata": {
    "id": "f88f9abc"
   },
   "source": [
    "Test your model based on the bi-gram model created on the training corpus."
   ]
  },
  {
   "cell_type": "code",
   "execution_count": 80,
   "id": "460dff09",
   "metadata": {
    "id": "460dff09"
   },
   "outputs": [
    {
     "data": {
      "text/plain": [
       "('basic', 0.000133)"
      ]
     },
     "execution_count": 80,
     "metadata": {},
     "output_type": "execute_result"
    }
   ],
   "source": [
    "previous_tokens=['i','like']\n",
    "start_with='b'\n",
    "suggestion = suggest_a_word(previous_tokens, bigram_counts,trigram_counts, list(vocab),start_with=start_with)\n",
    "suggestion"
   ]
  },
  {
   "cell_type": "code",
   "execution_count": 81,
   "id": "e68f730c",
   "metadata": {
    "id": "e68f730c"
   },
   "outputs": [
    {
     "data": {
      "text/plain": [
       "('see', 0.000602)"
      ]
     },
     "execution_count": 81,
     "metadata": {},
     "output_type": "execute_result"
    }
   ],
   "source": [
    "previous_tokens=['i','like','to']\n",
    "start_with=None\n",
    "suggestion = suggest_a_word(previous_tokens, bigram_counts,trigram_counts, list(vocab),start_with=start_with)\n",
    "suggestion"
   ]
  },
  {
   "cell_type": "code",
   "execution_count": 82,
   "id": "001a7ff4",
   "metadata": {
    "id": "001a7ff4"
   },
   "outputs": [
    {
     "data": {
      "text/plain": [
       "('<unk>', 0.000403)"
      ]
     },
     "execution_count": 82,
     "metadata": {},
     "output_type": "execute_result"
    }
   ],
   "source": [
    "previous_tokens=[\"hello\", \"my\", \"name\", \"is\"]\n",
    "start_with=None\n",
    "suggestion = suggest_a_word(previous_tokens, bigram_counts,trigram_counts, list(vocab),start_with=start_with)\n",
    "suggestion"
   ]
  },
  {
   "cell_type": "code",
   "execution_count": 83,
   "id": "c556e16f",
   "metadata": {
    "id": "c556e16f"
   },
   "outputs": [
    {
     "data": {
      "text/plain": [
       "('allison', 0.000134)"
      ]
     },
     "execution_count": 83,
     "metadata": {},
     "output_type": "execute_result"
    }
   ],
   "source": [
    "previous_tokens=[\"hello\", \"my\", \"name\", \"is\"]\n",
    "start_with='a'\n",
    "suggestion = suggest_a_word(previous_tokens, bigram_counts,trigram_counts, list(vocab),start_with=start_with)\n",
    "suggestion"
   ]
  },
  {
   "cell_type": "markdown",
   "id": "b4a15ac8",
   "metadata": {
    "id": "b4a15ac8"
   },
   "source": [
    "## **Task 4: Understanding GloVe (Grade (2 + 4.25 + 4 + 1.75) = 12)**"
   ]
  },
  {
   "cell_type": "markdown",
   "id": "15e586ca",
   "metadata": {
    "id": "15e586ca"
   },
   "source": [
    "In this part, you will implement the [GloVe](https://nlp.stanford.edu/projects/glove/) model and train your own word vectors with gradient\n",
    "descent and numpy. GloVe stands for Global Vectors for word representation, which was developed by researchers at Stanford University to generate word embeddings from corpus statistics.\n",
    "The statistics of the corpus are represented by a co-occurrence matrix, indicating how often a particular word pair occurs together.\n",
    "GloVe is based on ratios of probabilities from this co-occurrence matrix, combining the intuitions of count-based models while also being similar to neural models like word2vec.\n",
    "From this matrix, one can compute the co-occurrence probabilities. We motivate this with an example:\n",
    "\n",
    "$P_{ik} = P(i,j)$ -> co-occurrence probability or joint probability of words $i$ and $k$\n",
    "\n",
    "$P_{jk}$ ->co-occurrence probability of words $j$ and $k$\n",
    "\n",
    "$\\frac{P_{ik}}{P_{jk}}$-> corelation between $i$ and $j$ with the prob word $k$\n",
    "\n",
    "This ratio gives us some insight into the co-relation of the probe word $k$ with the words $i$ and $j$.\n",
    "An example is shown below for different prob words $k$, where $i$ and $j$ are `ice` and `steam`, respectively."
   ]
  },
  {
   "cell_type": "markdown",
   "id": "076234c5",
   "metadata": {
    "id": "076234c5"
   },
   "source": [
    "\n",
    "![glove](https://nlp.stanford.edu/projects/glove/images/table.png)\n"
   ]
  },
  {
   "cell_type": "markdown",
   "id": "3b933587",
   "metadata": {
    "id": "3b933587"
   },
   "source": [
    "Image taken from Stanford NLP."
   ]
  },
  {
   "cell_type": "markdown",
   "id": "76e8f6f0",
   "metadata": {
    "id": "76e8f6f0"
   },
   "source": [
    "Compared to the raw probabilities, the ratio of probabilities is better able to distinguish relevant words from irrelevant words. Consider the raw probabilities (the first two rows), the values are close to one another and not indicative of the relationships. However, the ratios have more distinct values.\n",
    "\n",
    "This ratio can be small, large, or equal to 1 depending on the prob word and their co-relation. In the example above, the ratio between ice and steam for `k=solid` is large and for `k=gas` is small, indicating that `solid` is related to ice but `gas` is irrelevant. On the other hand, `water` is not a discriminating element between them, and therefore the ratio is close to one. The same applies to an irrelevant word like `fashion`.\n",
    "\n",
    "The GloVe model is built on the idea that the \"ratio of conditional probabilities represents the word meanings\" and a neural model is trained to estimate this conditional probability.\n",
    "\n",
    "$F(w_i,w_j,\\tilde{w_k})=\\frac{P_ik}{P_jk}$ -> the right-hand side is computed from the corpus statistics, $w$ is the word vector and $\\tilde{w_k}$ is the context vector\n",
    "\n",
    "The GloVe model embeds the words in a vector space and claims that the difference between them (distinguishing factor) is hidden in the ratio of probabilities. In vector space, the best way to encode this is by vector differences.\n",
    "\n",
    "$F((w_i-w_j),\\tilde{w_k})=\\frac{P_ik}{P_jk}$\n",
    "\n",
    "At this point, the left-hand side is a vector and the right-hand side is a scalar showing the similarity of i and j with the context word k.\n",
    "For both sides to match and to encode the similarity in the vector space, the left-hand side becomes a dot product.\n",
    "\n",
    "$F((w_i-w_j)^{T}.\\tilde{w_k})=\\frac{P_ik}{P_jk}=\\frac{F(w_i.\\tilde{w_k})}{F(w_j.\\tilde{w_k})} $\n",
    "\n",
    "$F(w_i.\\tilde{w_k})=\\frac{X_{ik}}{X_{i}}$ -> where $X$ is drived from the co-occurrences matrix\n",
    "\n",
    "To satisfy a symmetrical relationship (a.k.a. relation(a, b) = relation(b, a)), $F$ is chosen to be an exponential function, $F(x)=exp(x)$. As a result:\n",
    "\n",
    "$w_i.\\tilde{w_k} = log(P_{ik} ) = log(X_{ik} ) − log(X_{i})$\n",
    "\n",
    "$log(X_{i})$ is independent of $k$ and can be absored into a bias term.\n",
    "\n",
    "$w_i.\\tilde{w_k} = log(P_{ik} ) + b_i +\\tilde{b_k} = log(X_{ik} )$\n",
    "\n",
    "After some weighting and alterations the final cost function, based on the weighted least squares regression model is as follows:\n",
    "\n",
    "$J= \\Sigma^{V}_{i,j=1} f(X_{ij})(w_i.w_j+ b_i +b_j)-log(X_{ik})$\n",
    "\n",
    "For a detailed overview refer to the original paper: https://nlp.stanford.edu/pubs/glove.pdf\n",
    "You need to read and understand the GloVe model to solve this exercise.\n"
   ]
  },
  {
   "cell_type": "markdown",
   "id": "0d71fbc8",
   "metadata": {
    "id": "0d71fbc8"
   },
   "source": [
    "### Subtask 1: Cost function"
   ]
  },
  {
   "cell_type": "markdown",
   "id": "174acc1f",
   "metadata": {
    "id": "174acc1f"
   },
   "source": [
    "Read the paper and describe the following, in your own words:\n",
    "\n",
    " 1. The intuition behind the weighting schema in the cost function.\n",
    "\n",
    " 2. How does the objective function of GloVe relate to the objective function of the (word2vec) skip-gram model?"
   ]
  },
  {
   "cell_type": "markdown",
   "id": "9dac9d93",
   "metadata": {
    "id": "9dac9d93"
   },
   "source": [
    "1. The intuition is to achieve 3 main effects:\n",
    "\n",
    "    1. **Being 0 when co-occurrence count is 0:** If two words never co-occur, their relationship is undefined in the context of the corpus, and it's not meaningful to assign a weight to this non-existent relationship. \n",
    "\n",
    "    2. **Being non-decreasing $\\Rightarrow$ not assigning a higher weight to rarely co-occurring words:** Rare co-occurrences might be due to random chance or noise in the data, and should not disproportionately affect the learned word vectors. By ensuring the function is non-decreasing, one can ensure that as the co-occurrence count increases, the weight does not decrease.\n",
    "\n",
    "    3. **Not assigning disproportionately high weight to frequently co-occurring words:** Very frequent words tend to co-occur with many other words simply due to their high frequency. Capping the weight for high co-occurrence counts prevents less meaningful co-occurrences from dominating the learning process.\n"
   ]
  },
  {
   "cell_type": "markdown",
   "id": "d1e3887c",
   "metadata": {
    "id": "d1e3887c"
   },
   "source": [
    "2. Both are based on the occurrence statistics of a corpus. The skip-gram model attempts to maximize the log probability of a word appearing in the context of another word, but it introduces approximations to allow for efficient training, and it trains in an online, stochastic fashion. In contrast, GloVe captures the global corpus statistics directly by training on the nonzero elements in a word-word co-occurrence matrix, rather than on individual context windows in a large corpus."
   ]
  },
  {
   "cell_type": "markdown",
   "id": "988ae19d",
   "metadata": {
    "id": "988ae19d"
   },
   "source": [
    "### Subtask 2: Build Co-occurence matrix\n"
   ]
  },
  {
   "cell_type": "markdown",
   "id": "edca833e",
   "metadata": {
    "id": "edca833e"
   },
   "source": [
    "We use the same dataset as the first task and use the `quotes` as the corpus to build the co-occurrences matrix. Similar to the first task we use the `phrases` to transform our input and extract the vocabulary."
   ]
  },
  {
   "cell_type": "code",
   "execution_count": 84,
   "id": "bca0b788",
   "metadata": {
    "id": "bca0b788"
   },
   "outputs": [],
   "source": [
    "import numpy as np\n",
    "from scipy import sparse\n",
    "from math import log\n",
    "from itertools import chain\n",
    "from collections import Counter\n",
    "from tqdm import tqdm"
   ]
  },
  {
   "cell_type": "markdown",
   "id": "dacc60e8",
   "metadata": {
    "id": "dacc60e8"
   },
   "source": [
    "Complete the function to create dictionaries used for mapping ids to words and words to ids, and a dictionary that counts the number of occurrences of each word. The first two dictionaries are used to map indices in vector space to words and back, and the third dictionary contains the counts of the corpus statistics."
   ]
  },
  {
   "cell_type": "code",
   "execution_count": 97,
   "id": "61d34daf",
   "metadata": {},
   "outputs": [
    {
     "name": "stdout",
     "output_type": "stream",
     "text": [
      "['tell', 'guy', 'work']\n"
     ]
    }
   ],
   "source": [
    "print(new_lines[0])\n",
    "\n",
    "vocab = [word for line in new_lines for word in line]\n",
    "vocab_counts = dict(Counter(vocab))\n",
    "\n",
    "word_to_id = {word: id for id, word in enumerate(sorted(set(vocab)))} # mapping words to ids\n",
    "id_to_word = {id: word for word, id in word_to_id.items()} # mapping ids to words\n",
    "\n",
    "#print(word_to_id)\n",
    "#print(id_to_word)"
   ]
  },
  {
   "cell_type": "code",
   "execution_count": 98,
   "id": "09dc3179",
   "metadata": {
    "id": "09dc3179"
   },
   "outputs": [],
   "source": [
    "def create_vocab(corpus):\n",
    "  \"\"\"\n",
    "  Build a vocabulary containing the frequencies\n",
    "  corpus: the list of tokenized lines form the corpus\n",
    "\n",
    "  Returns  dictionaries `word` -> (index or unique identified), frequency)`\n",
    "  and `word` -> (index or unique identified)\n",
    "  and index or unique identified -> `word`\n",
    "  and length of the vocab\n",
    "  \"\"\"\n",
    "  ### you code goes here###\n",
    "  vocab = [word for line in corpus for word in line]\n",
    "  vocab_counts = dict(Counter(vocab)) \n",
    "  \n",
    "  word_to_id = {word: id for id, word in enumerate(sorted(set(vocab)))} # mapping words to ids\n",
    "  id_to_word = {id: word for word, id in word_to_id.items()} # mapping ids to words\n",
    "  word_count_dict = {word_to_id[word]: count for word, count in vocab_counts.items()} # word id to the number of time it appears\n",
    "\n",
    "  return word_count_dict,id_to_word, word_to_id, len(word_count_dict)"
   ]
  },
  {
   "cell_type": "code",
   "execution_count": 99,
   "id": "9fb4ca54",
   "metadata": {
    "id": "9fb4ca54"
   },
   "outputs": [],
   "source": [
    "word_count_dict, id_to_word, word_to_id, vocab_size=create_vocab(new_lines)"
   ]
  },
  {
   "cell_type": "markdown",
   "id": "GlX4ugx88_v7",
   "metadata": {
    "id": "GlX4ugx88_v7"
   },
   "source": [
    "If you have done the exercise correctly, you have `15333` tokens in the vocabulary, and the number of occurrences for `joey` is `1951` and for `central_perk` is `36`"
   ]
  },
  {
   "cell_type": "code",
   "execution_count": 100,
   "id": "c8b31695",
   "metadata": {
    "id": "c8b31695"
   },
   "outputs": [
    {
     "name": "stdout",
     "output_type": "stream",
     "text": [
      "number of occurrences for joey: 2234\n",
      "number of occurrences for central perk: 36\n",
      "vocab size is: 15944\n"
     ]
    }
   ],
   "source": [
    "print(\"number of occurrences for joey:\",word_count_dict[word_to_id['joey']])\n",
    "print(\"number of occurrences for central perk:\",word_count_dict[word_to_id['central_perk']])\n",
    "print(\"vocab size is:\",vocab_size)"
   ]
  },
  {
   "cell_type": "code",
   "execution_count": 101,
   "id": "b027280a",
   "metadata": {
    "id": "b027280a"
   },
   "outputs": [],
   "source": [
    "def calculate_weight(cooccurrences, context_word_ids, center_word_id, side):\n",
    "    \"\"\"\n",
    "    Calculate the weight in the co-occurrence matrix based on the distance of a word\n",
    "    to the center word\n",
    "    sentence = [I, went, to , the, bank]\n",
    "    Let center word be \"to\" and window size = 2\n",
    "    left_context = [I,went]\n",
    "    right_context = [the,bank]\n",
    "\n",
    "    Weights:\n",
    "    1/distance -> `went` and `the` have weight of 1 and `I` and `bank` have weight of 1/2\n",
    "    \"\"\"\n",
    "    if side != \"right_context\":                 \n",
    "        context_word_ids.reverse()\n",
    "\n",
    "    ## adjust the weight of the matrix to 1/distance between the center word and context word, where center word will act as the row and the context word is the column##\n",
    "    for distance, word_id in enumerate(context_word_ids, start=1):\n",
    "        weight = 1.0 / distance\n",
    "        cooccurrences[center_word_id, word_id] += weight\n",
    "        \n",
    "    return cooccurrences"
   ]
  },
  {
   "cell_type": "markdown",
   "id": "MUF8zXO59P3b",
   "metadata": {
    "id": "MUF8zXO59P3b"
   },
   "source": [
    "The weight of first to second element on the example matrix should be `1.0`."
   ]
  },
  {
   "cell_type": "code",
   "execution_count": 102,
   "id": "d7c32c0e",
   "metadata": {
    "id": "d7c32c0e"
   },
   "outputs": [
    {
     "name": "stdout",
     "output_type": "stream",
     "text": [
      "weight of id=0 to id=1 : 1.0\n"
     ]
    },
    {
     "data": {
      "text/plain": [
       "array([[0.        , 1.        , 0.        , 0.5       , 0.        ,\n",
       "        0.33333333, 0.        , 0.        , 0.        , 0.        ],\n",
       "       [0.        , 0.        , 0.        , 0.        , 0.        ,\n",
       "        0.        , 0.        , 0.        , 0.        , 0.        ],\n",
       "       [0.        , 0.        , 0.        , 0.        , 0.        ,\n",
       "        0.        , 0.        , 0.        , 0.        , 0.        ],\n",
       "       [0.        , 0.        , 0.        , 0.        , 0.        ,\n",
       "        0.        , 0.        , 0.        , 0.        , 0.        ],\n",
       "       [0.        , 0.        , 0.        , 0.        , 0.        ,\n",
       "        0.        , 0.        , 0.        , 0.        , 0.        ],\n",
       "       [0.        , 0.        , 0.        , 0.        , 0.        ,\n",
       "        0.        , 0.        , 0.        , 0.        , 0.        ],\n",
       "       [0.        , 0.        , 0.        , 0.        , 0.        ,\n",
       "        0.        , 0.        , 0.        , 0.        , 0.        ],\n",
       "       [0.        , 0.        , 0.        , 0.        , 0.        ,\n",
       "        0.        , 0.        , 0.        , 0.        , 0.        ],\n",
       "       [0.        , 0.        , 0.        , 0.        , 0.        ,\n",
       "        0.        , 0.        , 0.        , 0.        , 0.        ],\n",
       "       [0.        , 0.        , 0.        , 0.        , 0.        ,\n",
       "        0.        , 0.        , 0.        , 0.        , 0.        ]])"
      ]
     },
     "execution_count": 102,
     "metadata": {},
     "output_type": "execute_result"
    }
   ],
   "source": [
    "cooccurrences = sparse.lil_matrix((10, 10), dtype=np.float64)\n",
    "\n",
    "calculate_weight(cooccurrences, [1,3,5], 0, side=\"right_context\")\n",
    "print(\"weight of id=0 to id=1 :\", cooccurrences[0,1])\n",
    "\n",
    "cooccurrences.toarray()"
   ]
  },
  {
   "cell_type": "markdown",
   "id": "0ede37e8",
   "metadata": {
    "id": "0ede37e8"
   },
   "source": [
    "We build co-occurrence as a sparse matrix to speed up the computation. The original matrix is a square matrix in the size of the vocabulary. However, many words do not co-occur with one another and we do not need to store those elements."
   ]
  },
  {
   "cell_type": "code",
   "execution_count": 103,
   "id": "d63f39e7",
   "metadata": {
    "id": "d63f39e7"
   },
   "outputs": [],
   "source": [
    "def build_cooccur(corpus, window_size=3, min_count=5):\n",
    "    \"\"\"\n",
    "    Create a coocurrance matrix given a corpus\n",
    "    corpus: the list of tokenized lines form the corpus\n",
    "    window_size: how many words to right and left to consider\n",
    "\n",
    "    Returns the co-oocurrance sparse matrix\n",
    "    \"\"\"\n",
    "    vocab, id_to_word,word_to_id, vocab_size = create_vocab(corpus)\n",
    "\n",
    "    #sparse lil_matrix is optimized to operate on matrix which mostly has zeros.\n",
    "    cooccurrences = sparse.lil_matrix((vocab_size, vocab_size), dtype=np.float64)\n",
    "\n",
    "    for i, line in enumerate(corpus):\n",
    "\n",
    "        #Get the ID of words from vocab dictionary\n",
    "        word_ids = [word_to_id[word] for word in line]\n",
    "\n",
    "        for center_idx, center_word_id in enumerate(word_ids):  #changed variable i to center_idx to prevent bugs since i is already used in outside loop\n",
    "\n",
    "            left_context_word_ids  = word_ids[max(0, center_idx - window_size) : center_idx] #left side context: use max(0, ...) to prevent negative indices when center word is near beginning of line\n",
    "\n",
    "            right_context_word_ids = word_ids[center_idx + 1 : min(len(word_ids), center_idx + window_size + 1)] #right side context: use min(...) to prevent index beyond length of word_ids when center word near end of line\n",
    "\n",
    "            ###update the matrix based on the distance weights on both sides###\n",
    "            cooccurrences = calculate_weight(cooccurrences,left_context_word_ids, center_word_id, side=\"left_context\")\n",
    "            cooccurrences = calculate_weight(cooccurrences, right_context_word_ids, center_word_id, side=\"right_context\")\n",
    "\n",
    "    # go into the LiL-matrix to quickly iterate through all nonzero cells and filter out the ones with minimum count\n",
    "    cooccurrences_tuples = []\n",
    "    for i, (row, data) in enumerate(zip(cooccurrences.rows,cooccurrences.data)):\n",
    "        ## check if the min_count condition is statisfied and then add the elements as the tuple of (i,j,weight)###\n",
    "        if word_count_dict[i] < min_count:  # The frequency of the center word should not be less than min_count\n",
    "            continue\n",
    "        for j, weight in zip(row, data):\n",
    "            if j >= min_count:  # The frequency of the context word should be more or equal to min_count\n",
    "                cooccurrences_tuples.append((i, j, weight))\n",
    "                \n",
    "    return cooccurrences_tuples\n"
   ]
  },
  {
   "cell_type": "markdown",
   "id": "f3aba5bd",
   "metadata": {
    "id": "f3aba5bd"
   },
   "source": [
    "Build a matrix with a window_size of 3 words, and the minimum number of times a word has to occur to be part of the matrix is 10."
   ]
  },
  {
   "cell_type": "code",
   "execution_count": 104,
   "id": "69c198e0",
   "metadata": {
    "id": "69c198e0",
    "scrolled": true
   },
   "outputs": [
    {
     "data": {
      "text/plain": [
       "(1, 3505, 0.3333333333333333)"
      ]
     },
     "execution_count": 104,
     "metadata": {},
     "output_type": "execute_result"
    }
   ],
   "source": [
    "matrix=build_cooccur(new_lines, window_size=3, min_count=10)\n",
    "matrix[103]"
   ]
  },
  {
   "cell_type": "markdown",
   "id": "82cc1256",
   "metadata": {
    "id": "82cc1256"
   },
   "source": [
    "### Subtask 3: Modelling and Training\n"
   ]
  },
  {
   "cell_type": "markdown",
   "id": "91764831",
   "metadata": {
    "id": "91764831"
   },
   "source": [
    "We initialize the weights for the context and center words and learn the vectors through backprop, using the GloVe cost function.\n",
    "Make sure you use the correct weighting schema."
   ]
  },
  {
   "cell_type": "code",
   "execution_count": 105,
   "id": "05251525",
   "metadata": {
    "id": "05251525"
   },
   "outputs": [],
   "source": [
    "# Random normal weights intialization\n",
    "np.random.seed(77) # we set a seed to have similar results\n",
    "\n",
    "def init_weights(vocab_size, hidden):\n",
    "     #Each word has a center word vector and a context vector.\n",
    "     W_center = np.random.randn(vocab_size, hidden) * 0.1 # initilize the correct size vector (multiply by 0.1 to keep the weights small)\n",
    "     b_center = np.zeros(vocab_size) # initilize the correct size vector\n",
    "     W_context = np.random.randn(vocab_size, hidden) * 0.1 # initilize the correct size vector\n",
    "     b_context = np.zeros(vocab_size) # initilize the correct size vector\n",
    "     return W_center, b_center, W_context, b_context"
   ]
  },
  {
   "cell_type": "markdown",
   "id": "y-mcYRis9wet",
   "metadata": {
    "id": "y-mcYRis9wet"
   },
   "source": [
    "keep track of `W_center[0,1]` as it should change based on backprop in the next cells."
   ]
  },
  {
   "cell_type": "code",
   "execution_count": 106,
   "id": "b2f31560",
   "metadata": {
    "id": "b2f31560"
   },
   "outputs": [
    {
     "name": "stdout",
     "output_type": "stream",
     "text": [
      "check the shapes to make sure the matrices have correct sizes:\n",
      "(100, 32)\n",
      "(100,)\n",
      "(100, 32)\n",
      "(100,)\n",
      "Look at the value of this element and how it changes with back prob:\n",
      "0.06615314728168009\n"
     ]
    }
   ],
   "source": [
    "W_center, b_center, W_context, b_context = init_weights(100, 32)\n",
    "print(\"check the shapes to make sure the matrices have correct sizes:\")\n",
    "print(W_center.shape)\n",
    "print(b_center.shape)\n",
    "print(W_context.shape)\n",
    "print(b_context.shape)\n",
    "print(\"Look at the value of this element and how it changes with back prob:\")\n",
    "print(W_center[0,1])"
   ]
  },
  {
   "cell_type": "markdown",
   "id": "gae189dl-ZZo",
   "metadata": {
    "id": "gae189dl-ZZo"
   },
   "source": [
    "Write a training script for the GloVe model that goes over the entire co-occurrence matrix given a number of epochs."
   ]
  },
  {
   "cell_type": "code",
   "execution_count": 107,
   "id": "8669b4fb",
   "metadata": {
    "id": "8669b4fb"
   },
   "outputs": [],
   "source": [
    "# Back Propagation\n",
    "def back_prop(W_center, b_center, W_context, b_context, matrix, x_max, vocab_size, learning_rate, alpha=2):\n",
    "    \"\"\"\n",
    "    W_center, b_center: weight and bias of the center word\n",
    "    W_context, b_context: weight and bias of the context word\n",
    "    vocab_size: vocabulary size\n",
    "    x_max: define our weighting function when computing the cost for two word pairs; see the GloVe paper for more\n",
    "    details.\n",
    "    matrix: coocurrance matrix\n",
    "    alpha: the power of x_max function (controls how the weighting function behaves with respect to the co-occurrence count Xij)\n",
    "    learning_rate: learning rate for gradient descent\n",
    "    \"\"\"\n",
    "\n",
    "    global_cost = 0\n",
    "\n",
    "    for i, j, cooccurrence in matrix:\n",
    "            \n",
    "            weight = ((cooccurrence / x_max) ** alpha if (cooccurrence < x_max) else 1)\n",
    "\n",
    "            # Compute inner component of cost function  J' = w_i^Tw_j + b_i + b_j - log(X_{ij})\n",
    "            cost_inner = np.dot(W_center[i], W_context[j]) + b_center[i] + b_context[j] - np.log(cooccurrence)\n",
    "\n",
    "            ##Compute cost J = f(X_{ij}) (J')^2##\n",
    "            cost = weight * (cost_inner**2)\n",
    "            global_cost += cost  # Update total cost\n",
    "\n",
    "            ##Compute gradients for word vectors##\n",
    "            grad_w_center = weight * cost_inner * W_context[j]\n",
    "            grad_w_context = weight * cost_inner * W_center[i]\n",
    "\n",
    "            ##Compute gradients for bias terms##\n",
    "            grad_b_center = weight * cost_inner \n",
    "            grad_b_context = weight * cost_inner \n",
    "\n",
    "            ##update the weights##\n",
    "            W_center[i] -= learning_rate * grad_w_center\n",
    "            W_context[j] -= learning_rate * grad_w_context\n",
    "            b_center[i] -= learning_rate * grad_b_center\n",
    "            b_context[j] -= learning_rate * grad_b_context\n",
    "\n",
    "    return W_center, b_center, W_context, b_context, global_cost"
   ]
  },
  {
   "cell_type": "markdown",
   "id": "sV9uZIgX95tZ",
   "metadata": {
    "id": "sV9uZIgX95tZ"
   },
   "source": [
    "Based on the random seed, the value of `W_center[0,1]` should have changed due to backpropagation.\n"
   ]
  },
  {
   "cell_type": "code",
   "execution_count": 108,
   "id": "84a467a0",
   "metadata": {
    "id": "84a467a0"
   },
   "outputs": [
    {
     "name": "stdout",
     "output_type": "stream",
     "text": [
      "cost: 0.0026227977446373063\n",
      "changed value:\n",
      "0.06615192930563898\n"
     ]
    }
   ],
   "source": [
    "test_matrix = [(0,1,1),(0,2,0.4),(0,3,0.9),(0,4,0.4)]\n",
    "W_center, b_center, W_context, b_context, global_cost = back_prop(W_center, b_center, W_context, b_context, test_matrix, x_max=10, vocab_size=100, learning_rate=0.01)\n",
    "print(\"cost:\",global_cost)\n",
    "print(\"changed value:\")\n",
    "print(W_center[0,1])"
   ]
  },
  {
   "cell_type": "markdown",
   "id": "ULLmdXvC-QpX",
   "metadata": {
    "id": "ULLmdXvC-QpX"
   },
   "source": [
    "\n",
    "Write a training script for the GloVe model that goes over the entire co-occurrence matrix given a number of epochs."
   ]
  },
  {
   "cell_type": "code",
   "execution_count": 124,
   "id": "12dd535b",
   "metadata": {
    "id": "12dd535b"
   },
   "outputs": [],
   "source": [
    "def train_GloVe(matrix, vocab_size, epochs=10, learning_rate=0.0001, x_max=10, hidden_dim=100, alpha=2, decay_factor=0.9):\n",
    "    \"\"\"\n",
    "    Train the glove model based the co-ocurrance matrix for a number of epochs\n",
    "    matrix: co-occcurance matrix\n",
    "    vocab_size: number of words in vocab\n",
    "    epochs: number of passes through the data\n",
    "    learning_rate: learning rate for back prop\n",
    "    x_max: parameter of the weighting function\n",
    "    hidden_dim: dimension of the vectors\n",
    "    \"\"\"\n",
    "    W_center, b_center, W_context, b_context = init_weights(vocab_size, hidden_dim)\n",
    "\n",
    "    for i in tqdm(range(epochs)):\n",
    "        lr = learning_rate * (decay_factor ** i)  # Adaptive learning rate\n",
    "        ### perform backprop###\n",
    "        W_center, b_center, W_context, b_context, global_cost = back_prop(\n",
    "            W_center, b_center, W_context, b_context, matrix=matrix, x_max=x_max, vocab_size=vocab_size, \n",
    "            learning_rate=lr, alpha=alpha)\n",
    "\n",
    "        print(global_cost)\n",
    "\n",
    "    return W_center, W_context"
   ]
  },
  {
   "cell_type": "markdown",
   "id": "e0116c62",
   "metadata": {
    "id": "e0116c62"
   },
   "source": [
    "Train the model with hidden dimension of `100` and learning rate of `0.001` for a `100` epochs."
   ]
  },
  {
   "cell_type": "code",
   "execution_count": 125,
   "id": "b2355c76",
   "metadata": {
    "id": "b2355c76"
   },
   "outputs": [
    {
     "name": "stderr",
     "output_type": "stream",
     "text": [
      "  0%|          | 0/100 [00:00<?, ?it/s]"
     ]
    },
    {
     "name": "stderr",
     "output_type": "stream",
     "text": [
      "  1%|          | 1/100 [00:02<04:08,  2.51s/it]"
     ]
    },
    {
     "name": "stdout",
     "output_type": "stream",
     "text": [
      "64708.33277790056\n"
     ]
    },
    {
     "name": "stderr",
     "output_type": "stream",
     "text": [
      "  2%|▏         | 2/100 [00:04<03:54,  2.40s/it]"
     ]
    },
    {
     "name": "stdout",
     "output_type": "stream",
     "text": [
      "45789.3146160324\n"
     ]
    },
    {
     "name": "stderr",
     "output_type": "stream",
     "text": [
      "  3%|▎         | 3/100 [00:07<03:49,  2.37s/it]"
     ]
    },
    {
     "name": "stdout",
     "output_type": "stream",
     "text": [
      "35358.57344917443\n"
     ]
    },
    {
     "name": "stderr",
     "output_type": "stream",
     "text": [
      "  4%|▍         | 4/100 [00:09<03:45,  2.35s/it]"
     ]
    },
    {
     "name": "stdout",
     "output_type": "stream",
     "text": [
      "29151.886157826455\n"
     ]
    },
    {
     "name": "stderr",
     "output_type": "stream",
     "text": [
      "  5%|▌         | 5/100 [00:11<03:41,  2.33s/it]"
     ]
    },
    {
     "name": "stdout",
     "output_type": "stream",
     "text": [
      "25223.058260636088\n"
     ]
    },
    {
     "name": "stderr",
     "output_type": "stream",
     "text": [
      "  6%|▌         | 6/100 [00:14<03:44,  2.39s/it]"
     ]
    },
    {
     "name": "stdout",
     "output_type": "stream",
     "text": [
      "22606.351068421183\n"
     ]
    },
    {
     "name": "stderr",
     "output_type": "stream",
     "text": [
      "  7%|▋         | 7/100 [00:16<03:42,  2.40s/it]"
     ]
    },
    {
     "name": "stdout",
     "output_type": "stream",
     "text": [
      "20788.20335287079\n"
     ]
    },
    {
     "name": "stderr",
     "output_type": "stream",
     "text": [
      "  8%|▊         | 8/100 [00:19<03:38,  2.38s/it]"
     ]
    },
    {
     "name": "stdout",
     "output_type": "stream",
     "text": [
      "19479.207627817304\n"
     ]
    },
    {
     "name": "stderr",
     "output_type": "stream",
     "text": [
      "  9%|▉         | 9/100 [00:21<03:33,  2.34s/it]"
     ]
    },
    {
     "name": "stdout",
     "output_type": "stream",
     "text": [
      "18508.038814165287\n"
     ]
    },
    {
     "name": "stderr",
     "output_type": "stream",
     "text": [
      " 10%|█         | 10/100 [00:23<03:30,  2.34s/it]"
     ]
    },
    {
     "name": "stdout",
     "output_type": "stream",
     "text": [
      "17768.88263298472\n"
     ]
    },
    {
     "name": "stderr",
     "output_type": "stream",
     "text": [
      " 11%|█         | 11/100 [00:25<03:26,  2.32s/it]"
     ]
    },
    {
     "name": "stdout",
     "output_type": "stream",
     "text": [
      "17193.928627577177\n"
     ]
    },
    {
     "name": "stderr",
     "output_type": "stream",
     "text": [
      " 12%|█▏        | 12/100 [00:28<03:22,  2.31s/it]"
     ]
    },
    {
     "name": "stdout",
     "output_type": "stream",
     "text": [
      "16738.287882665936\n"
     ]
    },
    {
     "name": "stderr",
     "output_type": "stream",
     "text": [
      " 13%|█▎        | 13/100 [00:30<03:19,  2.30s/it]"
     ]
    },
    {
     "name": "stdout",
     "output_type": "stream",
     "text": [
      "16371.378349290375\n"
     ]
    },
    {
     "name": "stderr",
     "output_type": "stream",
     "text": [
      " 14%|█▍        | 14/100 [00:32<03:17,  2.29s/it]"
     ]
    },
    {
     "name": "stdout",
     "output_type": "stream",
     "text": [
      "16071.823869004544\n"
     ]
    },
    {
     "name": "stderr",
     "output_type": "stream",
     "text": [
      " 15%|█▌        | 15/100 [00:35<03:14,  2.29s/it]"
     ]
    },
    {
     "name": "stdout",
     "output_type": "stream",
     "text": [
      "15824.335471282666\n"
     ]
    },
    {
     "name": "stderr",
     "output_type": "stream",
     "text": [
      " 16%|█▌        | 16/100 [00:37<03:14,  2.32s/it]"
     ]
    },
    {
     "name": "stdout",
     "output_type": "stream",
     "text": [
      "15617.749140102369\n"
     ]
    },
    {
     "name": "stderr",
     "output_type": "stream",
     "text": [
      " 17%|█▋        | 17/100 [00:39<03:12,  2.31s/it]"
     ]
    },
    {
     "name": "stdout",
     "output_type": "stream",
     "text": [
      "15443.758871762468\n"
     ]
    },
    {
     "name": "stderr",
     "output_type": "stream",
     "text": [
      " 18%|█▊        | 18/100 [00:41<03:08,  2.30s/it]"
     ]
    },
    {
     "name": "stdout",
     "output_type": "stream",
     "text": [
      "15296.079254853072\n"
     ]
    },
    {
     "name": "stderr",
     "output_type": "stream",
     "text": [
      " 19%|█▉        | 19/100 [00:44<03:06,  2.30s/it]"
     ]
    },
    {
     "name": "stdout",
     "output_type": "stream",
     "text": [
      "15169.880007089954\n"
     ]
    },
    {
     "name": "stderr",
     "output_type": "stream",
     "text": [
      " 20%|██        | 20/100 [00:46<03:04,  2.30s/it]"
     ]
    },
    {
     "name": "stdout",
     "output_type": "stream",
     "text": [
      "15061.396616010948\n"
     ]
    },
    {
     "name": "stderr",
     "output_type": "stream",
     "text": [
      " 21%|██        | 21/100 [00:48<03:01,  2.30s/it]"
     ]
    },
    {
     "name": "stdout",
     "output_type": "stream",
     "text": [
      "14967.65738483211\n"
     ]
    },
    {
     "name": "stderr",
     "output_type": "stream",
     "text": [
      " 22%|██▏       | 22/100 [00:51<03:01,  2.32s/it]"
     ]
    },
    {
     "name": "stdout",
     "output_type": "stream",
     "text": [
      "14886.288891748154\n"
     ]
    },
    {
     "name": "stderr",
     "output_type": "stream",
     "text": [
      " 23%|██▎       | 23/100 [00:53<02:57,  2.31s/it]"
     ]
    },
    {
     "name": "stdout",
     "output_type": "stream",
     "text": [
      "14815.375200339135\n"
     ]
    },
    {
     "name": "stderr",
     "output_type": "stream",
     "text": [
      " 24%|██▍       | 24/100 [00:55<02:54,  2.30s/it]"
     ]
    },
    {
     "name": "stdout",
     "output_type": "stream",
     "text": [
      "14753.35451531951\n"
     ]
    },
    {
     "name": "stderr",
     "output_type": "stream",
     "text": [
      " 25%|██▌       | 25/100 [00:58<02:52,  2.30s/it]"
     ]
    },
    {
     "name": "stdout",
     "output_type": "stream",
     "text": [
      "14698.94231815773\n"
     ]
    },
    {
     "name": "stderr",
     "output_type": "stream",
     "text": [
      " 26%|██▌       | 26/100 [01:00<02:51,  2.31s/it]"
     ]
    },
    {
     "name": "stdout",
     "output_type": "stream",
     "text": [
      "14651.07349111742\n"
     ]
    },
    {
     "name": "stderr",
     "output_type": "stream",
     "text": [
      " 27%|██▋       | 27/100 [01:02<02:47,  2.30s/it]"
     ]
    },
    {
     "name": "stdout",
     "output_type": "stream",
     "text": [
      "14608.858235879576\n"
     ]
    },
    {
     "name": "stderr",
     "output_type": "stream",
     "text": [
      " 28%|██▊       | 28/100 [01:05<02:45,  2.29s/it]"
     ]
    },
    {
     "name": "stdout",
     "output_type": "stream",
     "text": [
      "14571.548136092031\n"
     ]
    },
    {
     "name": "stderr",
     "output_type": "stream",
     "text": [
      " 29%|██▉       | 29/100 [01:07<02:42,  2.29s/it]"
     ]
    },
    {
     "name": "stdout",
     "output_type": "stream",
     "text": [
      "14538.509764753113\n"
     ]
    },
    {
     "name": "stderr",
     "output_type": "stream",
     "text": [
      " 30%|███       | 30/100 [01:09<02:40,  2.29s/it]"
     ]
    },
    {
     "name": "stdout",
     "output_type": "stream",
     "text": [
      "14509.203963592468\n"
     ]
    },
    {
     "name": "stderr",
     "output_type": "stream",
     "text": [
      " 31%|███       | 31/100 [01:11<02:37,  2.28s/it]"
     ]
    },
    {
     "name": "stdout",
     "output_type": "stream",
     "text": [
      "14483.16942961626\n"
     ]
    },
    {
     "name": "stderr",
     "output_type": "stream",
     "text": [
      " 32%|███▏      | 32/100 [01:14<02:36,  2.30s/it]"
     ]
    },
    {
     "name": "stdout",
     "output_type": "stream",
     "text": [
      "14460.009603592835\n"
     ]
    },
    {
     "name": "stderr",
     "output_type": "stream",
     "text": [
      " 33%|███▎      | 33/100 [01:16<02:34,  2.31s/it]"
     ]
    },
    {
     "name": "stdout",
     "output_type": "stream",
     "text": [
      "14439.382112638406\n"
     ]
    },
    {
     "name": "stderr",
     "output_type": "stream",
     "text": [
      " 34%|███▍      | 34/100 [01:18<02:33,  2.33s/it]"
     ]
    },
    {
     "name": "stdout",
     "output_type": "stream",
     "text": [
      "14420.990205302816\n"
     ]
    },
    {
     "name": "stderr",
     "output_type": "stream",
     "text": [
      " 35%|███▌      | 35/100 [01:21<02:32,  2.34s/it]"
     ]
    },
    {
     "name": "stdout",
     "output_type": "stream",
     "text": [
      "14404.575753608118\n"
     ]
    },
    {
     "name": "stderr",
     "output_type": "stream",
     "text": [
      " 36%|███▌      | 36/100 [01:23<02:29,  2.34s/it]"
     ]
    },
    {
     "name": "stdout",
     "output_type": "stream",
     "text": [
      "14389.913496858795\n"
     ]
    },
    {
     "name": "stderr",
     "output_type": "stream",
     "text": [
      " 37%|███▋      | 37/100 [01:25<02:27,  2.34s/it]"
     ]
    },
    {
     "name": "stdout",
     "output_type": "stream",
     "text": [
      "14376.806276729718\n"
     ]
    },
    {
     "name": "stderr",
     "output_type": "stream",
     "text": [
      " 38%|███▊      | 38/100 [01:28<02:30,  2.43s/it]"
     ]
    },
    {
     "name": "stdout",
     "output_type": "stream",
     "text": [
      "14365.081069204598\n"
     ]
    },
    {
     "name": "stderr",
     "output_type": "stream",
     "text": [
      " 39%|███▉      | 39/100 [01:31<02:32,  2.49s/it]"
     ]
    },
    {
     "name": "stdout",
     "output_type": "stream",
     "text": [
      "14354.585661332707\n"
     ]
    },
    {
     "name": "stderr",
     "output_type": "stream",
     "text": [
      " 40%|████      | 40/100 [01:33<02:28,  2.47s/it]"
     ]
    },
    {
     "name": "stdout",
     "output_type": "stream",
     "text": [
      "14345.185853118786\n"
     ]
    },
    {
     "name": "stderr",
     "output_type": "stream",
     "text": [
      " 41%|████      | 41/100 [01:36<02:25,  2.47s/it]"
     ]
    },
    {
     "name": "stdout",
     "output_type": "stream",
     "text": [
      "14336.763089677615\n"
     ]
    },
    {
     "name": "stderr",
     "output_type": "stream",
     "text": [
      " 42%|████▏     | 42/100 [01:38<02:20,  2.42s/it]"
     ]
    },
    {
     "name": "stdout",
     "output_type": "stream",
     "text": [
      "14329.212447975708\n"
     ]
    },
    {
     "name": "stderr",
     "output_type": "stream",
     "text": [
      " 43%|████▎     | 43/100 [01:40<02:16,  2.39s/it]"
     ]
    },
    {
     "name": "stdout",
     "output_type": "stream",
     "text": [
      "14322.440917449689\n"
     ]
    },
    {
     "name": "stderr",
     "output_type": "stream",
     "text": [
      " 44%|████▍     | 44/100 [01:43<02:14,  2.39s/it]"
     ]
    },
    {
     "name": "stdout",
     "output_type": "stream",
     "text": [
      "14316.365925449587\n"
     ]
    },
    {
     "name": "stderr",
     "output_type": "stream",
     "text": [
      " 45%|████▌     | 45/100 [01:45<02:10,  2.36s/it]"
     ]
    },
    {
     "name": "stdout",
     "output_type": "stream",
     "text": [
      "14310.914067733844\n"
     ]
    },
    {
     "name": "stderr",
     "output_type": "stream",
     "text": [
      " 46%|████▌     | 46/100 [01:47<02:07,  2.35s/it]"
     ]
    },
    {
     "name": "stdout",
     "output_type": "stream",
     "text": [
      "14306.02001148548\n"
     ]
    },
    {
     "name": "stderr",
     "output_type": "stream",
     "text": [
      " 47%|████▋     | 47/100 [01:50<02:05,  2.36s/it]"
     ]
    },
    {
     "name": "stdout",
     "output_type": "stream",
     "text": [
      "14301.625544208837\n"
     ]
    },
    {
     "name": "stderr",
     "output_type": "stream",
     "text": [
      " 48%|████▊     | 48/100 [01:52<02:01,  2.34s/it]"
     ]
    },
    {
     "name": "stdout",
     "output_type": "stream",
     "text": [
      "14297.678746484558\n"
     ]
    },
    {
     "name": "stderr",
     "output_type": "stream",
     "text": [
      " 49%|████▉     | 49/100 [01:54<01:58,  2.32s/it]"
     ]
    },
    {
     "name": "stdout",
     "output_type": "stream",
     "text": [
      "14294.133270362858\n"
     ]
    },
    {
     "name": "stderr",
     "output_type": "stream",
     "text": [
      " 50%|█████     | 50/100 [01:57<01:57,  2.35s/it]"
     ]
    },
    {
     "name": "stdout",
     "output_type": "stream",
     "text": [
      "14290.94770817424\n"
     ]
    },
    {
     "name": "stderr",
     "output_type": "stream",
     "text": [
      " 51%|█████     | 51/100 [01:59<01:53,  2.33s/it]"
     ]
    },
    {
     "name": "stdout",
     "output_type": "stream",
     "text": [
      "14288.085039065616\n"
     ]
    },
    {
     "name": "stderr",
     "output_type": "stream",
     "text": [
      " 52%|█████▏    | 52/100 [02:01<01:51,  2.33s/it]"
     ]
    },
    {
     "name": "stdout",
     "output_type": "stream",
     "text": [
      "14285.512142557882\n"
     ]
    },
    {
     "name": "stderr",
     "output_type": "stream",
     "text": [
      " 53%|█████▎    | 53/100 [02:04<01:50,  2.35s/it]"
     ]
    },
    {
     "name": "stdout",
     "output_type": "stream",
     "text": [
      "14283.199370093425\n"
     ]
    },
    {
     "name": "stderr",
     "output_type": "stream",
     "text": [
      " 54%|█████▍    | 54/100 [02:06<01:48,  2.36s/it]"
     ]
    },
    {
     "name": "stdout",
     "output_type": "stream",
     "text": [
      "14281.12016694225\n"
     ]
    },
    {
     "name": "stderr",
     "output_type": "stream",
     "text": [
      " 55%|█████▌    | 55/100 [02:08<01:45,  2.33s/it]"
     ]
    },
    {
     "name": "stdout",
     "output_type": "stream",
     "text": [
      "14279.250737918372\n"
     ]
    },
    {
     "name": "stderr",
     "output_type": "stream",
     "text": [
      " 56%|█████▌    | 56/100 [02:11<01:42,  2.33s/it]"
     ]
    },
    {
     "name": "stdout",
     "output_type": "stream",
     "text": [
      "14277.569751376794\n"
     ]
    },
    {
     "name": "stderr",
     "output_type": "stream",
     "text": [
      " 57%|█████▋    | 57/100 [02:13<01:40,  2.33s/it]"
     ]
    },
    {
     "name": "stdout",
     "output_type": "stream",
     "text": [
      "14276.05807668554\n"
     ]
    },
    {
     "name": "stderr",
     "output_type": "stream",
     "text": [
      " 58%|█████▊    | 58/100 [02:15<01:37,  2.31s/it]"
     ]
    },
    {
     "name": "stdout",
     "output_type": "stream",
     "text": [
      "14274.69855108821\n"
     ]
    },
    {
     "name": "stderr",
     "output_type": "stream",
     "text": [
      " 59%|█████▉    | 59/100 [02:18<01:37,  2.39s/it]"
     ]
    },
    {
     "name": "stdout",
     "output_type": "stream",
     "text": [
      "14273.475772391377\n"
     ]
    },
    {
     "name": "stderr",
     "output_type": "stream",
     "text": [
      " 60%|██████    | 60/100 [02:20<01:35,  2.39s/it]"
     ]
    },
    {
     "name": "stdout",
     "output_type": "stream",
     "text": [
      "14272.375914416625\n"
     ]
    },
    {
     "name": "stderr",
     "output_type": "stream",
     "text": [
      " 61%|██████    | 61/100 [02:22<01:32,  2.36s/it]"
     ]
    },
    {
     "name": "stdout",
     "output_type": "stream",
     "text": [
      "14271.386562536873\n"
     ]
    },
    {
     "name": "stderr",
     "output_type": "stream",
     "text": [
      " 62%|██████▏   | 62/100 [02:25<01:28,  2.34s/it]"
     ]
    },
    {
     "name": "stdout",
     "output_type": "stream",
     "text": [
      "14270.496566988315\n"
     ]
    },
    {
     "name": "stderr",
     "output_type": "stream",
     "text": [
      " 63%|██████▎   | 63/100 [02:27<01:26,  2.33s/it]"
     ]
    },
    {
     "name": "stdout",
     "output_type": "stream",
     "text": [
      "14269.695911901425\n"
     ]
    },
    {
     "name": "stderr",
     "output_type": "stream",
     "text": [
      " 64%|██████▍   | 64/100 [02:29<01:23,  2.32s/it]"
     ]
    },
    {
     "name": "stdout",
     "output_type": "stream",
     "text": [
      "14268.975598299508\n"
     ]
    },
    {
     "name": "stderr",
     "output_type": "stream",
     "text": [
      " 65%|██████▌   | 65/100 [02:32<01:20,  2.31s/it]"
     ]
    },
    {
     "name": "stdout",
     "output_type": "stream",
     "text": [
      "14268.327539481908\n"
     ]
    },
    {
     "name": "stderr",
     "output_type": "stream",
     "text": [
      " 66%|██████▌   | 66/100 [02:34<01:18,  2.32s/it]"
     ]
    },
    {
     "name": "stdout",
     "output_type": "stream",
     "text": [
      "14267.744467436374\n"
     ]
    },
    {
     "name": "stderr",
     "output_type": "stream",
     "text": [
      " 67%|██████▋   | 67/100 [02:36<01:17,  2.34s/it]"
     ]
    },
    {
     "name": "stdout",
     "output_type": "stream",
     "text": [
      "14267.219849054754\n"
     ]
    },
    {
     "name": "stderr",
     "output_type": "stream",
     "text": [
      " 68%|██████▊   | 68/100 [02:39<01:14,  2.32s/it]"
     ]
    },
    {
     "name": "stdout",
     "output_type": "stream",
     "text": [
      "14266.7478110979\n"
     ]
    },
    {
     "name": "stderr",
     "output_type": "stream",
     "text": [
      " 69%|██████▉   | 69/100 [02:41<01:11,  2.31s/it]"
     ]
    },
    {
     "name": "stdout",
     "output_type": "stream",
     "text": [
      "14266.323072959929\n"
     ]
    },
    {
     "name": "stderr",
     "output_type": "stream",
     "text": [
      " 70%|███████   | 70/100 [02:43<01:09,  2.30s/it]"
     ]
    },
    {
     "name": "stdout",
     "output_type": "stream",
     "text": [
      "14265.940886390452\n"
     ]
    },
    {
     "name": "stderr",
     "output_type": "stream",
     "text": [
      " 71%|███████   | 71/100 [02:46<01:06,  2.30s/it]"
     ]
    },
    {
     "name": "stdout",
     "output_type": "stream",
     "text": [
      "14265.596981441437\n"
     ]
    },
    {
     "name": "stderr",
     "output_type": "stream",
     "text": [
      " 72%|███████▏  | 72/100 [02:48<01:04,  2.30s/it]"
     ]
    },
    {
     "name": "stdout",
     "output_type": "stream",
     "text": [
      "14265.287517976722\n"
     ]
    },
    {
     "name": "stderr",
     "output_type": "stream",
     "text": [
      " 73%|███████▎  | 73/100 [02:50<01:01,  2.30s/it]"
     ]
    },
    {
     "name": "stdout",
     "output_type": "stream",
     "text": [
      "14265.00904214941\n"
     ]
    },
    {
     "name": "stderr",
     "output_type": "stream",
     "text": [
      " 74%|███████▍  | 74/100 [02:52<00:59,  2.29s/it]"
     ]
    },
    {
     "name": "stdout",
     "output_type": "stream",
     "text": [
      "14264.75844734375\n"
     ]
    },
    {
     "name": "stderr",
     "output_type": "stream",
     "text": [
      " 75%|███████▌  | 75/100 [02:55<00:57,  2.29s/it]"
     ]
    },
    {
     "name": "stdout",
     "output_type": "stream",
     "text": [
      "14264.532939099787\n"
     ]
    },
    {
     "name": "stderr",
     "output_type": "stream",
     "text": [
      " 76%|███████▌  | 76/100 [02:57<00:54,  2.29s/it]"
     ]
    },
    {
     "name": "stdout",
     "output_type": "stream",
     "text": [
      "14264.330003611867\n"
     ]
    },
    {
     "name": "stderr",
     "output_type": "stream",
     "text": [
      " 77%|███████▋  | 77/100 [02:59<00:52,  2.29s/it]"
     ]
    },
    {
     "name": "stdout",
     "output_type": "stream",
     "text": [
      "14264.14737943589\n"
     ]
    },
    {
     "name": "stderr",
     "output_type": "stream",
     "text": [
      " 78%|███████▊  | 78/100 [03:02<00:50,  2.29s/it]"
     ]
    },
    {
     "name": "stdout",
     "output_type": "stream",
     "text": [
      "14263.983032062237\n"
     ]
    },
    {
     "name": "stderr",
     "output_type": "stream",
     "text": [
      " 79%|███████▉  | 79/100 [03:04<00:48,  2.29s/it]"
     ]
    },
    {
     "name": "stdout",
     "output_type": "stream",
     "text": [
      "14263.835131076943\n"
     ]
    },
    {
     "name": "stderr",
     "output_type": "stream",
     "text": [
      " 80%|████████  | 80/100 [03:06<00:45,  2.29s/it]"
     ]
    },
    {
     "name": "stdout",
     "output_type": "stream",
     "text": [
      "14263.702029626491\n"
     ]
    },
    {
     "name": "stderr",
     "output_type": "stream",
     "text": [
      " 81%|████████  | 81/100 [03:08<00:43,  2.29s/it]"
     ]
    },
    {
     "name": "stdout",
     "output_type": "stream",
     "text": [
      "14263.582245964299\n"
     ]
    },
    {
     "name": "stderr",
     "output_type": "stream",
     "text": [
      " 82%|████████▏ | 82/100 [03:11<00:41,  2.29s/it]"
     ]
    },
    {
     "name": "stdout",
     "output_type": "stream",
     "text": [
      "14263.474446857439\n"
     ]
    },
    {
     "name": "stderr",
     "output_type": "stream",
     "text": [
      " 83%|████████▎ | 83/100 [03:13<00:38,  2.29s/it]"
     ]
    },
    {
     "name": "stdout",
     "output_type": "stream",
     "text": [
      "14263.377432675221\n"
     ]
    },
    {
     "name": "stderr",
     "output_type": "stream",
     "text": [
      " 84%|████████▍ | 84/100 [03:15<00:36,  2.29s/it]"
     ]
    },
    {
     "name": "stdout",
     "output_type": "stream",
     "text": [
      "14263.290123971967\n"
     ]
    },
    {
     "name": "stderr",
     "output_type": "stream",
     "text": [
      " 85%|████████▌ | 85/100 [03:18<00:34,  2.29s/it]"
     ]
    },
    {
     "name": "stdout",
     "output_type": "stream",
     "text": [
      "14263.211549427491\n"
     ]
    },
    {
     "name": "stderr",
     "output_type": "stream",
     "text": [
      " 86%|████████▌ | 86/100 [03:20<00:32,  2.30s/it]"
     ]
    },
    {
     "name": "stdout",
     "output_type": "stream",
     "text": [
      "14263.140835001503\n"
     ]
    },
    {
     "name": "stderr",
     "output_type": "stream",
     "text": [
      " 87%|████████▋ | 87/100 [03:22<00:29,  2.30s/it]"
     ]
    },
    {
     "name": "stdout",
     "output_type": "stream",
     "text": [
      "14263.077194176276\n"
     ]
    },
    {
     "name": "stderr",
     "output_type": "stream",
     "text": [
      " 88%|████████▊ | 88/100 [03:24<00:27,  2.29s/it]"
     ]
    },
    {
     "name": "stdout",
     "output_type": "stream",
     "text": [
      "14263.01991918049\n"
     ]
    },
    {
     "name": "stderr",
     "output_type": "stream",
     "text": [
      " 89%|████████▉ | 89/100 [03:27<00:25,  2.29s/it]"
     ]
    },
    {
     "name": "stdout",
     "output_type": "stream",
     "text": [
      "14262.968373100251\n"
     ]
    },
    {
     "name": "stderr",
     "output_type": "stream",
     "text": [
      " 90%|█████████ | 90/100 [03:29<00:23,  2.30s/it]"
     ]
    },
    {
     "name": "stdout",
     "output_type": "stream",
     "text": [
      "14262.921982774087\n"
     ]
    },
    {
     "name": "stderr",
     "output_type": "stream",
     "text": [
      " 91%|█████████ | 91/100 [03:31<00:20,  2.32s/it]"
     ]
    },
    {
     "name": "stdout",
     "output_type": "stream",
     "text": [
      "14262.880232409585\n"
     ]
    },
    {
     "name": "stderr",
     "output_type": "stream",
     "text": [
      " 92%|█████████▏| 92/100 [03:34<00:19,  2.40s/it]"
     ]
    },
    {
     "name": "stdout",
     "output_type": "stream",
     "text": [
      "14262.842657833471\n"
     ]
    },
    {
     "name": "stderr",
     "output_type": "stream",
     "text": [
      " 93%|█████████▎| 93/100 [03:36<00:16,  2.37s/it]"
     ]
    },
    {
     "name": "stdout",
     "output_type": "stream",
     "text": [
      "14262.808841324762\n"
     ]
    },
    {
     "name": "stderr",
     "output_type": "stream",
     "text": [
      " 94%|█████████▍| 94/100 [03:39<00:14,  2.36s/it]"
     ]
    },
    {
     "name": "stdout",
     "output_type": "stream",
     "text": [
      "14262.778406959898\n"
     ]
    },
    {
     "name": "stderr",
     "output_type": "stream",
     "text": [
      " 95%|█████████▌| 95/100 [03:41<00:11,  2.37s/it]"
     ]
    },
    {
     "name": "stdout",
     "output_type": "stream",
     "text": [
      "14262.751016431488\n"
     ]
    },
    {
     "name": "stderr",
     "output_type": "stream",
     "text": [
      " 96%|█████████▌| 96/100 [03:43<00:09,  2.35s/it]"
     ]
    },
    {
     "name": "stdout",
     "output_type": "stream",
     "text": [
      "14262.7263652795\n"
     ]
    },
    {
     "name": "stderr",
     "output_type": "stream",
     "text": [
      " 97%|█████████▋| 97/100 [03:46<00:06,  2.33s/it]"
     ]
    },
    {
     "name": "stdout",
     "output_type": "stream",
     "text": [
      "14262.704179504684\n"
     ]
    },
    {
     "name": "stderr",
     "output_type": "stream",
     "text": [
      " 98%|█████████▊| 98/100 [03:48<00:04,  2.33s/it]"
     ]
    },
    {
     "name": "stdout",
     "output_type": "stream",
     "text": [
      "14262.684212520136\n"
     ]
    },
    {
     "name": "stderr",
     "output_type": "stream",
     "text": [
      " 99%|█████████▉| 99/100 [03:50<00:02,  2.32s/it]"
     ]
    },
    {
     "name": "stdout",
     "output_type": "stream",
     "text": [
      "14262.666242406032\n"
     ]
    },
    {
     "name": "stderr",
     "output_type": "stream",
     "text": [
      "100%|██████████| 100/100 [03:53<00:00,  2.33s/it]"
     ]
    },
    {
     "name": "stdout",
     "output_type": "stream",
     "text": [
      "14262.65006944232\n"
     ]
    },
    {
     "name": "stderr",
     "output_type": "stream",
     "text": [
      "\n"
     ]
    }
   ],
   "source": [
    "#W_center, W_context = train_GloVe(matrix, vocab_size, hidden_dim=100, learning_rate=0.001, epochs=100, x_max=10)\n",
    "\n",
    "### Alternative training parameters ###\n",
    "# lower hidden_dim and adaptive learning rate produced better word similarities\n",
    "W_center, W_context = train_GloVe(matrix, vocab_size, hidden_dim=50, learning_rate=0.001, epochs=100, x_max=10)"
   ]
  },
  {
   "cell_type": "markdown",
   "id": "770701f4",
   "metadata": {
    "id": "770701f4"
   },
   "source": [
    "As you can see by looking at the loss, the model still needs more time to converge to a minimum.\n",
    "However, we keep the training short and keeping in mind that the vectors can improve we look at some examples.\n",
    "Take the average, transpose, and normalize the matrix."
   ]
  },
  {
   "cell_type": "code",
   "execution_count": 126,
   "id": "b272ab8a",
   "metadata": {
    "id": "b272ab8a"
   },
   "outputs": [],
   "source": [
    "from numpy.linalg import norm\n",
    "# take the average of the learned vector as the final vector\n",
    "W = np.add(W_center, W_context)/2\n",
    "W = W.T\n",
    "W = W/norm(W)"
   ]
  },
  {
   "cell_type": "code",
   "execution_count": 127,
   "id": "334aff38",
   "metadata": {
    "id": "334aff38"
   },
   "outputs": [
    {
     "data": {
      "text/plain": [
       "(50, 15944)"
      ]
     },
     "execution_count": 127,
     "metadata": {},
     "output_type": "execute_result"
    }
   ],
   "source": [
    "W.shape"
   ]
  },
  {
   "cell_type": "markdown",
   "id": "d106c990",
   "metadata": {
    "id": "d106c990"
   },
   "source": [
    "Lets create a dictionary that points from a word to its vector."
   ]
  },
  {
   "cell_type": "code",
   "execution_count": 128,
   "id": "db81b66e",
   "metadata": {
    "id": "db81b66e"
   },
   "outputs": [],
   "source": [
    "# Generates word to word embedding dictionary\n",
    "word_to_vector = {}\n",
    "for word in word_to_id.keys():\n",
    "    word_to_vector[word] = W[:, word_to_id[word]]"
   ]
  },
  {
   "cell_type": "markdown",
   "id": "11c86eeb",
   "metadata": {
    "id": "11c86eeb"
   },
   "source": [
    "### Subtask 4: Compare to Skip-gram\n"
   ]
  },
  {
   "cell_type": "markdown",
   "id": "e8fd8763",
   "metadata": {
    "id": "e8fd8763"
   },
   "source": [
    "Let's compute the similarities for the same words in Task 1 to compare the results with word2vec. This time you need to implement the similarity function, based on the dot product. To get to the topk you need to sort the elements based on their similarity.\n",
    "\n"
   ]
  },
  {
   "cell_type": "code",
   "execution_count": 129,
   "id": "a2f3f722",
   "metadata": {
    "id": "a2f3f722"
   },
   "outputs": [],
   "source": [
    "from numpy import dot\n",
    "\n",
    "def most_similar(word_vector, all_vectors, id_to_word, topk):\n",
    "    \"\"\"\n",
    "    function to find the topk most similar words to a word vector\n",
    "    word_vector: vector of the search word\n",
    "    all_vectors: all word vectors\n",
    "    id_to_word: dictionary from id to words\n",
    "    topk: number of elements to return\n",
    "    \"\"\"\n",
    "    ### find the topk most similar words to a given word vector ##\n",
    "    similarities = np.dot(word_vector, all_vectors)\n",
    "    sorted_indices = np.argsort(similarities)[::-1]  # sorting in descending order\n",
    "\n",
    "    topk_words = []\n",
    "    for idx in sorted_indices[1:topk]:\n",
    "        topk_words.append(id_to_word[idx])\n",
    "\n",
    "    return topk_words"
   ]
  },
  {
   "cell_type": "code",
   "execution_count": 130,
   "id": "53c1a84a",
   "metadata": {
    "id": "53c1a84a"
   },
   "outputs": [
    {
     "data": {
      "text/plain": [
       "['daytona', 'driving', 'training', 'frisbee']"
      ]
     },
     "execution_count": 130,
     "metadata": {},
     "output_type": "execute_result"
    }
   ],
   "source": [
    "most_similar(word_to_vector[\"central_perk\"], W, id_to_word, 5)"
   ]
  },
  {
   "cell_type": "code",
   "execution_count": 131,
   "id": "2c8e8519",
   "metadata": {
    "id": "2c8e8519"
   },
   "outputs": [
    {
     "data": {
      "text/plain": [
       "['emotionally', 'drawing', 'bird', 'devon']"
      ]
     },
     "execution_count": 131,
     "metadata": {},
     "output_type": "execute_result"
    }
   ],
   "source": [
    "most_similar(word_to_vector[\"joey\"],W,id_to_word,5)"
   ]
  },
  {
   "cell_type": "markdown",
   "id": "6bdcd5f5",
   "metadata": {
    "id": "6bdcd5f5"
   },
   "source": [
    "Compute the similarity between the `('rachel', 'mrs_green')`, `('smelly_cat', 'song')` and `('ross', 'spaceship')`."
   ]
  },
  {
   "cell_type": "code",
   "execution_count": 132,
   "id": "e77f01a5",
   "metadata": {
    "id": "e77f01a5"
   },
   "outputs": [
    {
     "data": {
      "text/plain": [
       "5.24809095353037e-06"
      ]
     },
     "execution_count": 132,
     "metadata": {},
     "output_type": "execute_result"
    }
   ],
   "source": [
    "np.dot(word_to_vector['rachel'], word_to_vector['mrs_green'])"
   ]
  },
  {
   "cell_type": "code",
   "execution_count": 133,
   "id": "d1def847",
   "metadata": {
    "id": "d1def847"
   },
   "outputs": [
    {
     "data": {
      "text/plain": [
       "-4.402959183172465e-06"
      ]
     },
     "execution_count": 133,
     "metadata": {},
     "output_type": "execute_result"
    }
   ],
   "source": [
    "np.dot(word_to_vector['smelly_cat'], word_to_vector['song'])"
   ]
  },
  {
   "cell_type": "code",
   "execution_count": 134,
   "id": "933ca3ac",
   "metadata": {
    "id": "933ca3ac"
   },
   "outputs": [
    {
     "data": {
      "text/plain": [
       "-1.275027182472466e-05"
      ]
     },
     "execution_count": 134,
     "metadata": {},
     "output_type": "execute_result"
    }
   ],
   "source": [
    "np.dot(word_to_vector[\"ross\"], word_to_vector[\"spaceship\"])"
   ]
  },
  {
   "cell_type": "markdown",
   "id": "ecace919",
   "metadata": {
    "id": "ecace919"
   },
   "source": [
    "If you see your results are not as meaningful as the gensim model, do not be discouraged. With better optimization and longer training the results should improve. If you have time play around a bit more with your model and see if you can generate more meaningful vectors."
   ]
  }
 ],
 "metadata": {
  "colab": {
   "provenance": []
  },
  "kernelspec": {
   "display_name": "Python 3 (ipykernel)",
   "language": "python",
   "name": "python3"
  },
  "language_info": {
   "codemirror_mode": {
    "name": "ipython",
    "version": 3
   },
   "file_extension": ".py",
   "mimetype": "text/x-python",
   "name": "python",
   "nbconvert_exporter": "python",
   "pygments_lexer": "ipython3",
   "version": "3.9.13"
  }
 },
 "nbformat": 4,
 "nbformat_minor": 5
}
